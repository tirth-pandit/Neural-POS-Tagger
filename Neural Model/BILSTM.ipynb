{
  "nbformat": 4,
  "nbformat_minor": 0,
  "metadata": {
    "colab": {
      "name": "Bilstm_model2 (2).ipynb",
      "provenance": [],
      "collapsed_sections": [
        "bnNlrGPwbp1r",
        "pqvSTZ8CBU-k",
        "S9Pr_6QCKYxl",
        "mO5GooQDa7Tu",
        "rOHtDJiDYnRV",
        "Wlrw0L4AYnRW",
        "eLeH1vWnYnRb",
        "NpXAbo9sYnRd",
        "DzaW0BfmYnRg",
        "qp6zGihdYnRi",
        "--yE6WV1YnRk",
        "dFqbmS5qAXdx",
        "dQl4dRomtgOY",
        "mkDwDeZQtab4",
        "wJtHvCtosxNn",
        "Qub1MoNKswpq",
        "XV1us7agsv8F",
        "M2zjyztuYBQR",
        "4srO_WP10Het",
        "6KKQlKdcGgyk",
        "K_3mKHHsTwe1",
        "ylPqX2rWTyQZ",
        "L6CpGWppTz66",
        "rk-9OcPIT1qO",
        "LqCfM9Fcz9DQ"
      ],
      "toc_visible": true
    },
    "kernelspec": {
      "name": "python3",
      "display_name": "Python 3"
    },
    "language_info": {
      "name": "python"
    },
    "accelerator": "GPU"
  },
  "cells": [
    {
      "cell_type": "code",
      "metadata": {
        "id": "lT98COvzsM7_"
      },
      "source": [
        "import pandas as pd\n",
        "import numpy as np\n",
        "import torch\n",
        "import torch.nn as nn\n",
        "import torch.nn.functional as F\n",
        "import torch.optim as optim\n",
        "import os"
      ],
      "execution_count": null,
      "outputs": []
    },
    {
      "cell_type": "markdown",
      "metadata": {
        "id": "pqvSTZ8CBU-k"
      },
      "source": [
        "# BILSTM Complete data set"
      ]
    },
    {
      "cell_type": "markdown",
      "metadata": {
        "id": "6wsQIV-8uyDx"
      },
      "source": [
        "### Data Set Preperation"
      ]
    },
    {
      "cell_type": "code",
      "metadata": {
        "colab": {
          "base_uri": "https://localhost:8080/"
        },
        "id": "4gkzzb5tBU-n",
        "outputId": "f2023770-30f5-4b30-b278-c8048351338b"
      },
      "source": [
        "tagged_sentence = []\n",
        "l = os.listdir('/content/drive/MyDrive/nlpproject/data/')\n",
        "path = '/content/drive/MyDrive/nlpproject/data/'\n",
        "for i in l:\n",
        "  print(path+str(i))\n",
        "  f = open(path+str(i),'r')\n",
        "\n",
        "  for line in f:\n",
        "    line = line.split()[1:]\n",
        "    temp = []\n",
        "    for i in line:\n",
        "      i = i.split('\\\\')\n",
        "      temp.append((i[0],i[1]))\n",
        "    tagged_sentence.append(temp)\n",
        "  f.close()\n",
        "print(len(tagged_sentence))"
      ],
      "execution_count": null,
      "outputs": [
        {
          "output_type": "stream",
          "text": [
            "/content/drive/MyDrive/nlpproject/data/guj_art and culture_sample1.txt\n",
            "/content/drive/MyDrive/nlpproject/data/guj_entertainment_sample3.txt\n",
            "/content/drive/MyDrive/nlpproject/data/guj_economy_sample2.txt\n",
            "/content/drive/MyDrive/nlpproject/data/guj_philosophy_sample4.txt\n",
            "/content/drive/MyDrive/nlpproject/data/guj_science and technology_sample6.txt\n",
            "/content/drive/MyDrive/nlpproject/data/guj_religion_sample5.txt\n",
            "/content/drive/MyDrive/nlpproject/data/guj_sports_sample7.txt\n",
            "7000\n"
          ],
          "name": "stdout"
        }
      ]
    },
    {
      "cell_type": "code",
      "metadata": {
        "colab": {
          "base_uri": "https://localhost:8080/"
        },
        "id": "vDHyD_etBU-o",
        "outputId": "8ba5ee55-ce8e-4fb5-b910-f1b1867eb420"
      },
      "source": [
        "def word_to_ix(word, ix):\n",
        "    return torch.tensor(ix[word], dtype = torch.long)\n",
        "\n",
        "def char_to_ix(char, ix):\n",
        "    return torch.tensor(ix[char], dtype= torch.long)\n",
        "\n",
        "def tag_to_ix(tag, ix):\n",
        "    return torch.tensor(ix[tag], dtype= torch.long)\n",
        "\n",
        "def sequence_to_idx(sequence, ix):\n",
        "    return torch.tensor([ix[s] for s in sequence], dtype=torch.long)\n",
        "\n",
        "\n",
        "word_to_idx = {}\n",
        "tag_to_idx = {}\n",
        "char_to_idx = {}\n",
        "for sentence in tagged_sentence:\n",
        "    for word, pos_tag in sentence:\n",
        "        if word not in word_to_idx.keys():\n",
        "            word_to_idx[word] = len(word_to_idx)\n",
        "        if pos_tag not in tag_to_idx.keys():\n",
        "            tag_to_idx[pos_tag] = len(tag_to_idx)\n",
        "        for char in word:\n",
        "            if char not in char_to_idx.keys():\n",
        "                char_to_idx[char] = len(char_to_idx)\n",
        "                \n",
        "word_vocab_size = len(word_to_idx)\n",
        "tag_vocab_size = len(tag_to_idx)\n",
        "char_vocab_size = len(char_to_idx)\n",
        "\n",
        "print(\"Unique words: {}\".format(len(word_to_idx)))\n",
        "print(\"Unique tags: {}\".format(len(tag_to_idx)))\n",
        "print(\"Unique characters: {}\".format(len(char_to_idx)))"
      ],
      "execution_count": null,
      "outputs": [
        {
          "output_type": "stream",
          "text": [
            "Unique words: 20609\n",
            "Unique tags: 34\n",
            "Unique characters: 140\n"
          ],
          "name": "stdout"
        }
      ]
    },
    {
      "cell_type": "code",
      "metadata": {
        "colab": {
          "base_uri": "https://localhost:8080/"
        },
        "id": "Ysa9TibBBU-p",
        "outputId": "f603f510-56ed-4570-ec4c-b57e4ceff1b8"
      },
      "source": [
        "import random\n",
        "\n",
        "tr_random = random.sample(list(range(len(tagged_sentence))), int(0.95 * len(tagged_sentence)))\n",
        "\n",
        "train = [tagged_sentence[i] for i in tr_random]\n",
        "test = [tagged_sentence[i] for i in range(len(tagged_sentence)) if i not in tr_random]\n",
        "\n",
        "print(\"Training set Size \",len(train))\n",
        "print(\"Test set Size \",len(test))\n",
        "print(\"Sample Test\")\n",
        "print(test[2])"
      ],
      "execution_count": null,
      "outputs": [
        {
          "output_type": "stream",
          "text": [
            "Training set Size  6650\n",
            "Test set Size  350\n",
            "Sample Test\n",
            "[('વસંતે', 'N_NNP'), ('દુકાન', 'N_NN'), ('છોડીને', 'V_VAUX_VNP'), ('અનેક', 'JJ'), ('વેપાર', 'N_NN'), ('અને', 'CC_CCD'), ('વ્યવસાય', 'N_NN'), ('કરી', 'V_VM'), ('જોયા', 'V_VAUX'), ('.', 'RD_PUNC')]\n"
          ],
          "name": "stdout"
        }
      ]
    },
    {
      "cell_type": "markdown",
      "metadata": {
        "id": "x0RzgNCaKiy2"
      },
      "source": [
        "### Rmsprop"
      ]
    },
    {
      "cell_type": "code",
      "metadata": {
        "id": "IaZASuB1Kiy6"
      },
      "source": [
        "WORD_EMBEDDING_DIM = 1024\n",
        "CHAR_EMBEDDING_DIM = 128\n",
        "WORD_HIDDEN_DIM = 1024\n",
        "CHAR_HIDDEN_DIM = 1024\n",
        "EPOCHS = 20\n",
        "\n",
        "class DualBILSTMTagger(nn.Module):\n",
        "  def __init__(self, word_embedding_dim, word_hidden_dim, char_embedding_dim, char_hidden_dim, word_vocab_size, char_vocab_size, tag_vocab_size):\n",
        "    super(DualBILSTMTagger, self).__init__()\n",
        "    self.word_embedding = nn.Embedding(word_vocab_size, word_embedding_dim)\n",
        "    \n",
        "    self.char_embedding = nn.Embedding(char_vocab_size, char_embedding_dim)\n",
        "    self.char_lstm = nn.LSTM(char_embedding_dim, char_hidden_dim)\n",
        "    self.lstm = nn.LSTM(word_embedding_dim + char_hidden_dim, word_hidden_dim,bidirectional=True)\n",
        "\n",
        "    self.hidden2tag = nn.Linear(word_hidden_dim*2, tag_vocab_size)\n",
        "      \n",
        "  def forward(self, sentence, words):\n",
        "    embeds = self.word_embedding(sentence)\n",
        "    char_hidden_final = []\n",
        "    for word in words:\n",
        "        char_embeds = self.char_embedding(word)\n",
        "        _, (char_hidden, char_cell_state) = self.char_lstm(char_embeds.view(len(word), 1, -1))\n",
        "        word_char_hidden_state = char_hidden.view(-1)\n",
        "        char_hidden_final.append(word_char_hidden_state)\n",
        "    char_hidden_final = torch.stack(tuple(char_hidden_final))\n",
        "    \n",
        "    combined = torch.cat((embeds, char_hidden_final), 1)\n",
        "\n",
        "    lstm_out, _ = self.lstm(combined.view(len(sentence), 1, -1))\n",
        "    tag_space = self.hidden2tag(lstm_out.view(len(sentence), -1))\n",
        "    \n",
        "    tag_scores = F.log_softmax(tag_space, dim=1)\n",
        "    return tag_scores"
      ],
      "execution_count": null,
      "outputs": []
    },
    {
      "cell_type": "code",
      "metadata": {
        "id": "IoNPkkz-Kiy6"
      },
      "source": [
        "model = DualBILSTMTagger(WORD_EMBEDDING_DIM, WORD_HIDDEN_DIM, CHAR_EMBEDDING_DIM, CHAR_HIDDEN_DIM, word_vocab_size, char_vocab_size, tag_vocab_size)\n",
        "\n",
        "use_cuda = torch.cuda.is_available()\n",
        "device = torch.device(\"cuda:0\" if use_cuda else \"cpu\")\n",
        "\n",
        "if use_cuda:\n",
        "    model.cuda()\n",
        "\n",
        "loss_function = nn.NLLLoss()\n",
        "optimizer = optim.RMSprop(model.parameters(), lr=0.001)\n"
      ],
      "execution_count": null,
      "outputs": []
    },
    {
      "cell_type": "code",
      "metadata": {
        "colab": {
          "base_uri": "https://localhost:8080/"
        },
        "id": "pF7n9c5OKiy7",
        "outputId": "b0b9907b-6498-4375-d28f-8624694e2ac4"
      },
      "source": [
        "accuracy_list = []\n",
        "loss_list = []\n",
        "interval = round(len(train) / 100.)\n",
        "epochs = EPOCHS\n",
        "e_interval = round(epochs / 10.)\n",
        "for epoch in range(epochs):\n",
        "    acc = 0 #to keep track of accuracy\n",
        "    loss = 0 # To keep track of the loss value\n",
        "    i = 0\n",
        "    for sentence_tag in train:\n",
        "        i += 1\n",
        "        words = [torch.tensor(sequence_to_idx(s[0], char_to_idx), dtype=torch.long).to(device) for s in sentence_tag]\n",
        "        sentence = [s[0] for s in sentence_tag]\n",
        "        sentence = torch.tensor(sequence_to_idx(sentence, word_to_idx), dtype=torch.long).to(device)\n",
        "        targets = [s[1] for s in sentence_tag]\n",
        "        targets = torch.tensor(sequence_to_idx(targets, tag_to_idx), dtype=torch.long).to(device)\n",
        "        \n",
        "        model.zero_grad()\n",
        "        \n",
        "        tag_scores = model(sentence, words)\n",
        "        \n",
        "        loss = loss_function(tag_scores, targets)\n",
        "        loss.backward()\n",
        "        optimizer.step()\n",
        "        loss += loss.item()\n",
        "        _, indices = torch.max(tag_scores, 1)\n",
        "#         print(indices == targets)\n",
        "        acc += torch.mean(torch.tensor(targets == indices, dtype=torch.float))\n",
        "        if i % interval == 0:\n",
        "            print(\"Epoch {} Running;\\t{}% Complete\".format(epoch + 1, i / interval), end = \"\\r\", flush = True)\n",
        "    loss = loss / len(train)\n",
        "    acc = acc / len(train)\n",
        "    loss_list.append(float(loss))\n",
        "    accuracy_list.append(float(acc))\n",
        "    if (epoch + 1) % e_interval == 0:\n",
        "        print(\"Epoch {} Completed,\\tLoss {}\\tAccuracy: {}\".format(epoch + 1, np.mean(loss_list[-e_interval:]), np.mean(accuracy_list[-e_interval:]))) "
      ],
      "execution_count": null,
      "outputs": [
        {
          "output_type": "stream",
          "text": [
            "/usr/local/lib/python3.7/dist-packages/ipykernel_launcher.py:12: UserWarning: To copy construct from a tensor, it is recommended to use sourceTensor.clone().detach() or sourceTensor.clone().detach().requires_grad_(True), rather than torch.tensor(sourceTensor).\n",
            "  if sys.path[0] == '':\n",
            "/usr/local/lib/python3.7/dist-packages/ipykernel_launcher.py:14: UserWarning: To copy construct from a tensor, it is recommended to use sourceTensor.clone().detach() or sourceTensor.clone().detach().requires_grad_(True), rather than torch.tensor(sourceTensor).\n",
            "  \n",
            "/usr/local/lib/python3.7/dist-packages/ipykernel_launcher.py:16: UserWarning: To copy construct from a tensor, it is recommended to use sourceTensor.clone().detach() or sourceTensor.clone().detach().requires_grad_(True), rather than torch.tensor(sourceTensor).\n",
            "  app.launch_new_instance()\n",
            "/usr/local/lib/python3.7/dist-packages/ipykernel_launcher.py:28: UserWarning: To copy construct from a tensor, it is recommended to use sourceTensor.clone().detach() or sourceTensor.clone().detach().requires_grad_(True), rather than torch.tensor(sourceTensor).\n"
          ],
          "name": "stderr"
        },
        {
          "output_type": "stream",
          "text": [
            "Epoch 1 Completed,\tLoss 4.287191404728219e-05\tAccuracy: 0.8696523308753967\n",
            "Epoch 2 Completed,\tLoss 1.2856078228651313e-06\tAccuracy: 0.9554929137229919\n",
            "Epoch 3 Completed,\tLoss 9.355976260394527e-08\tAccuracy: 0.9825159311294556\n",
            "Epoch 4 Completed,\tLoss 6.7847108766727615e-06\tAccuracy: 0.9911623597145081\n",
            "Epoch 5 Completed,\tLoss 0.00017021178791765124\tAccuracy: 0.9934239983558655\n",
            "Epoch 6 Completed,\tLoss 2.722363845464315e-08\tAccuracy: 0.9951397180557251\n",
            "Epoch 7 Completed,\tLoss 7.554690029110134e-08\tAccuracy: 0.9964017868041992\n",
            "Epoch 8 Completed,\tLoss 1.2721008602056827e-07\tAccuracy: 0.9966940879821777\n",
            "Epoch 9 Completed,\tLoss 5.869887445442146e-06\tAccuracy: 0.9970129132270813\n",
            "Epoch 10 Completed,\tLoss 2.074374627625275e-08\tAccuracy: 0.9976306557655334\n"
          ],
          "name": "stdout"
        }
      ]
    },
    {
      "cell_type": "code",
      "metadata": {
        "colab": {
          "base_uri": "https://localhost:8080/",
          "height": 541
        },
        "id": "cmMkNVgnKiy7",
        "outputId": "39cee8be-98f9-4559-8cdc-628c12a9811e"
      },
      "source": [
        "import matplotlib.pyplot as plt\n",
        "plt.plot(accuracy_list, c=\"red\", label =\"Accuracy\")\n",
        "plt.xlabel(\"Epochs\")\n",
        "plt.ylabel(\"Value\")\n",
        "plt.legend()\n",
        "plt.show()\n",
        "\n",
        "plt.plot(loss_list, c=\"blue\", label =\"Loss\")\n",
        "plt.xlabel(\"Epochs\")\n",
        "plt.ylabel(\"Value\")\n",
        "plt.legend()\n",
        "plt.show()"
      ],
      "execution_count": null,
      "outputs": [
        {
          "output_type": "display_data",
          "data": {
            "image/png": "[encoded data removed]",
            "text/plain": [
              "<Figure size 432x288 with 1 Axes>"
            ]
          },
          "metadata": {
            "tags": [],
            "needs_background": "light"
          }
        },
        {
          "output_type": "display_data",
          "data": {
            "image/png": "[encoded data removed]",
            "text/plain": [
              "<Figure size 432x288 with 1 Axes>"
            ]
          },
          "metadata": {
            "tags": [],
            "needs_background": "light"
          }
        }
      ]
    },
    {
      "cell_type": "code",
      "metadata": {
        "colab": {
          "base_uri": "https://localhost:8080/"
        },
        "id": "1bgO0WupKiy8",
        "outputId": "c630fc66-1150-44ef-8a11-69d6e93fe1b8"
      },
      "source": [
        "y_true = []\n",
        "y_pred = []\n",
        "for sentence in test:\n",
        "  seq = \"\"\n",
        "  for s in range(len(sentence)):\n",
        "    if(s==(len(sentence)-1)):\n",
        "      seq+= sentence[s][0]\n",
        "    else:\n",
        "      seq += sentence[s][0] + \" \"\n",
        "    y_true.append(sentence[s][1])\n",
        "  \n",
        "  seq = seq.split()\n",
        "  with torch.no_grad():\n",
        "    words = [torch.tensor(sequence_to_idx(s[0], char_to_idx), dtype=torch.long).to(device) for s in seq]\n",
        "    sentence = torch.tensor(sequence_to_idx(seq, word_to_idx), dtype=torch.long).to(device)\n",
        "        \n",
        "    tag_scores = model(sentence, words)\n",
        "    _, indices = torch.max(tag_scores, 1)\n",
        "    ret = []\n",
        "    for i in range(len(indices)):\n",
        "        for key, value in tag_to_idx.items():\n",
        "            if indices[i] == value:\n",
        "                ret.append((seq[i], key))\n",
        "                y_pred.append(key)\n",
        "    print(ret)"
      ],
      "execution_count": null,
      "outputs": [
        {
          "output_type": "stream",
          "text": [
            "/usr/local/lib/python3.7/dist-packages/ipykernel_launcher.py:14: UserWarning: To copy construct from a tensor, it is recommended to use sourceTensor.clone().detach() or sourceTensor.clone().detach().requires_grad_(True), rather than torch.tensor(sourceTensor).\n",
            "  \n",
            "/usr/local/lib/python3.7/dist-packages/ipykernel_launcher.py:15: UserWarning: To copy construct from a tensor, it is recommended to use sourceTensor.clone().detach() or sourceTensor.clone().detach().requires_grad_(True), rather than torch.tensor(sourceTensor).\n",
            "  from ipykernel import kernelapp as app\n"
          ],
          "name": "stderr"
        },
        {
          "output_type": "stream",
          "text": [
            "[('બીજી', 'JJ'), ('ધારાઓ', 'N_NN'), ('સુગમ', 'PSP'), ('અને', 'CC_CCD'), ('શાસ્ત્રીય', 'JJ'), ('સંગીતની', 'N_NN'), ('રહી', 'V_VAUX'), ('છે', 'V_VAUX'), ('.', 'RD_PUNC')]\n",
            "[('આ', 'DM_DMD'), ('બે', 'QT_QTC'), ('કડીઓ', 'QT_QTC'), ('પર', 'PSP'), ('અંગ્રેજ', 'N_NNP'), ('સરકાર', 'N_NN'), ('ધૂંધવાઈ', 'N_NN'), ('ઊઠી', 'JJ'), ('.', 'RD_PUNC')]\n",
            "[('વસંતે', 'N_NN'), ('દુકાન', 'N_NNP'), ('છોડીને', 'N_NN'), ('અનેક', 'JJ'), ('વેપાર', 'N_NN'), ('અને', 'CC_CCD'), ('વ્યવસાય', 'N_NN'), ('કરી', 'V_VM'), ('જોયા', 'V_VAUX'), ('.', 'RD_PUNC')]\n",
            "[('એ', 'DM_DMD'), ('પછી', 'PSP'), ('તો', 'RP_RPD'), ('મા.', 'N_NN'), ('વસંત', 'V_VAUX_VNP'), ('સંગીત', 'N_NN'), ('ક્ષેત્રના', 'PSP'), ('મહારથીઓ', 'N_NN'), ('ખાંસાહેબ', 'N_NN'), ('ફૈયાઝખાં', 'N_NN'), (',', 'RD_PUNC'), ('ખાંઅબ્દુલ', 'N_NN'), ('કરીમખાં', 'JJ'), (',', 'RD_PUNC'), ('બડે', 'JJ'), ('ગુલામઅલીખાં', 'N_NN'), (',', 'RD_PUNC'), ('કે.સી.ડ', 'N_NN'), (',', 'RD_PUNC'), ('પંકજ', 'N_NN'), ('મલિક', 'N_NN'), ('અને', 'CC_CCD'), ('કુંદનલાલ', 'N_NN'), ('સાયગલ', 'N_NN'), ('જેવા', 'JJ'), ('ધુરંધર', 'JJ'), ('સંગીતજ્ઞોના', 'JJ'), ('સંપર્કમાં', 'N_NN'), ('આવ્યા', 'V_VM'), ('.', 'RD_PUNC')]\n",
            "[('એમની', 'PR_PRP'), ('સાથે', 'PSP'), ('નિકટનો', 'RP_NEG'), ('નાતો', 'N_NN'), ('બંધાયો', 'N_NN'), ('.', 'RD_PUNC')]\n",
            "[('ગામોગામ', 'N_NN'), ('અને', 'CC_CCD'), ('શેરીશેરીએ', 'V_VAUX'), ('આઝાદીના', 'N_NN'), ('આશકોની', 'N_NN'), ('પ્રભાતફેરીઓ', 'PSP'), ('ફરવા', 'V_VM'), ('માંડી', 'V_VM'), ('.', 'RD_PUNC')]\n",
            "[('ઈશ્ક', 'V_VM'), ('કે', 'CC_CCS'), ('દરિયામે', 'N_NN'), ('ગિર', 'N_NNP'), ('કે', 'CC_CCS'), (',', 'RD_PUNC'), ('કૌન', 'JJ'), ('નિકલા', 'N_NNP'), ('હૈ', 'N_NNP'), ('બિરાદર', 'N_NNP'), ('?', 'RD_PUNC')]\n",
            "[('તમિલનાડુનો', 'PSP'), ('તાંજોર', 'RD_PUNC'), ('જિલ્લો', 'N_NN'), ('એ', 'DM_DMD'), ('`', 'RD_PUNC'), ('ભરતનાટ્યમ', 'V_VM'), ('`', 'RD_PUNC'), ('નૃત્યશૈલીનું', 'N_NNP'), ('ઉદભવ', 'RD_PUNC'), ('-', 'RD_PUNC'), ('સ્થાન', 'N_NN'), ('ગણાય', 'V_VM'), ('છે', 'V_VAUX'), ('.', 'RD_PUNC')]\n",
            "[('આ', 'DM_DMD'), ('નૃત્યનાં', 'N_NN'), ('પાત્રો', 'PSP'), ('સુંદર', 'JJ'), ('ઘેરદાર', 'QT_QTC'), ('કપડાં', 'N_NN'), ('પહેરે', 'N_NN'), ('છે', 'V_VAUX'), (',', 'RD_PUNC'), ('તેઓ', 'PR_PRP'), ('મોટા', 'JJ'), ('કલાત્મક', 'JJ'), ('મુકુટ', 'N_NN'), ('પણ', 'RP_RPD'), ('ધારણ', 'N_NN'), ('કરે', 'V_VM'), ('છે', 'V_VAUX'), ('.', 'RD_PUNC')]\n",
            "[('તેણે', 'N_NN'), ('`', 'RD_PUNC'), ('કર્ણભાર', 'DM_DMI'), ('`', 'RD_PUNC'), (',', 'RD_PUNC'), ('`', 'RD_PUNC'), ('ઊરુભંગ', 'N_NNP'), ('`', 'RD_PUNC'), (',', 'RD_PUNC'), ('`', 'RD_PUNC'), ('દૂતવાક્યમ્', 'N_NN'), ('`', 'RD_PUNC'), ('જેવાં', 'JJ'), ('તેર', 'QT_QTC'), ('નાટકોનો', 'N_NNP'), ('વારસો', 'N_NN'), ('આપણને', 'PR_PRP'), ('આપ્યો', 'PSP'), ('છે', 'V_VAUX'), ('.', 'RD_PUNC')]\n",
            "[('ભીંતો', 'V_VM'), (',', 'RD_PUNC'), ('ઘરો', 'N_NN'), (',', 'RD_PUNC'), ('કૂબા', 'RD_PUNC'), (',', 'RD_PUNC'), ('ફળિયાં', 'N_NN'), ('વગેરે', 'PSP'), ('પણ', 'RP_RPD'), ('માટીનાં', 'JJ'), ('જોવા', 'PSP'), ('મળતાં', 'V_VM'), ('.', 'RD_PUNC')]\n",
            "[('એમની', 'PR_PRP'), ('આ', 'DM_DMD'), ('કળા', 'N_NN'), ('આશરે', 'PSP'), ('૮૫૦', 'QT_QTC'), ('વર્ષોથી', 'N_NN'), ('પણ', 'CC_CCD'), ('વિશેષ', 'JJ'), ('પ્રાચીન', 'JJ'), ('હોવાનું', 'N_NN'), ('મનાય', 'V_VM'), ('છે', 'V_VAUX'), ('.', 'RD_PUNC')]\n",
            "[('સોનાના', 'V_VM'), ('અલંકારોની', 'N_NN'), ('સાથે', 'PSP'), ('સાથે', 'PSP'), ('જ', 'RP_RPD'), ('આપણા', 'PR_PRP'), ('દેશમાં', 'N_NN'), ('હીરાના', 'DM_DMQ'), (',', 'RD_PUNC'), ('જડતરના', 'N_NN'), ('અલંકારો', 'N_NN'), ('શ્રીમંત', 'N_NN'), ('વર્ગમાં', 'N_NN'), ('પ્રચલિત', 'JJ'), ('હતા', 'V_VAUX'), ('.', 'RD_PUNC')]\n",
            "[('તેનો', 'DM_DMD'), ('મુખ્ય', 'JJ'), ('હેતુ', 'N_NN'), ('રંગ', 'N_NN'), ('અને', 'CC_CCD'), ('રેખાની', 'JJ'), ('મદદ', 'N_NN'), ('વડે', 'PSP'), ('પ્રકૃતિનાં', 'N_NN'), ('જડ', 'N_NN'), ('અને', 'CC_CCD'), ('ચેતન', 'N_NN'), ('તત્ત્વોનું', 'N_NN'), ('અનુકરણ', 'N_NN'), ('કરી', 'V_VM'), ('આપણા', 'PR_PRP'), ('મનમાં', 'N_NN'), ('રહેલ', 'V_VAUX_VNP'), ('ઊર્મિઓને', 'N_NN'), ('અભિવ્યક્ત', 'JJ'), ('કરવાનું', 'JJ'), ('છે', 'V_VAUX'), ('.', 'RD_PUNC')]\n",
            "[('બાવટામાં', 'N_NN'), ('જો', 'CC_CCD'), ('થોડું', 'QT_QTF'), ('થૂલૂં', 'N_NN'), ('હોય', 'V_VAUX'), ('તો', 'CC_CCD'), ('તેને', 'DM_DMD'), ('ગાળીને', 'N_NN'), ('કાઢી', 'N_NN'), ('નાખવું', 'N_NN'), ('.', 'RD_PUNC')]\n",
            "[('રેડતી', 'N_NN'), ('વખતે', 'N_NN'), ('બહુ', 'QT_QTF'), ('હલાવાય', 'PR_PRI'), ('નહીં', 'RP_NEG'), ('તે', 'DM_DMD'), ('ધ્યાન', 'N_NN'), ('રાખવું', 'QT_QTC'), (';', 'RD_PUNC'), ('નહીં', 'RP_NEG'), ('તો', 'RP_RPD'), ('તે', 'DM_DMD'), ('પોચું', 'PSP'), ('બનશે', 'N_NN'), ('નહીં', 'RP_NEG'), ('.', 'RD_PUNC')]\n",
            "[('ખમણ', 'N_NN'), (':', 'RD_PUNC'), ('એક', 'QT_QTC'), ('પ્યાલો', 'N_NN'), ('ચણાની', 'N_NN'), ('દાળને', 'N_NN'), ('૧થી', 'QT_QTC'), ('૧/૨', 'QT_QTC'), ('પ્યાલા', 'DM_DMD'), ('પાણીમાં', 'N_NN'), ('પાંચથી', 'QT_QTC'), ('દશ', 'QT_QTC'), ('કલાક', 'N_NN'), ('પલાળી', 'N_NN'), ('રાખી', 'V_VM'), ('પછી', 'PSP'), ('પથ્થરના', 'N_NN'), ('ખલમાં', 'N_NN'), ('વાટવી', 'V_VM'), (',', 'RD_PUNC'), ('બહુ', 'QT_QTF'), ('ઝીણી', 'JJ'), ('વાટવી', 'N_NN'), ('નહીં', 'RP_NEG'), ('અને', 'CC_CCD'), ('જરૂરી', 'JJ'), ('મીઠું', 'N_NN'), ('ઉમેરીને', 'JJ'), ('જાડી', 'JJ'), ('બનાવી', 'N_NN'), (',', 'RD_PUNC'), ('આખી', 'N_NN'), ('રાત', 'N_NN'), ('આથો', 'N_NN'), ('આવવા', 'CC_CCD'), ('માટે', 'PSP'), ('મૂકી', 'N_NN'), ('રાખી', 'V_VM'), ('ખીરાને', 'N_NN'), ('તેલ', 'N_NN'), ('ચોપડેલી', 'N_NN'), ('થાળીમાં', 'N_NN'), ('કડછીથી', 'JJ'), ('રેડીને', 'N_NN'), ('વરાળથી', 'N_NN'), ('બાફવા', 'N_NN'), ('માટે', 'PSP'), ('મૂકવી', 'N_NN'), ('.', 'RD_PUNC')]\n",
            "[('ઈડલીની', 'V_VM'), ('જેમ', 'PSP'), ('અહીં', 'N_NST'), ('પણ', 'RP_RPD'), ('ખીરાને', 'N_NN'), ('બહુ', 'QT_QTF'), ('હલાવવું', 'RP_NEG'), ('નહીં', 'RP_NEG'), ('.', 'RD_PUNC')]\n",
            "[('બાળકો', 'N_NN'), ('અને', 'CC_CCD'), ('વિદ્યાર્થીઓને', 'N_NN'), ('તે', 'DM_DMD'), ('વધુ', 'QT_QTF'), ('પસંદ', 'JJ'), ('આવે', 'V_VM'), ('છે', 'V_VAUX'), (',', 'RD_PUNC'), ('તેને', 'DM_DMD'), ('એક', 'QT_QTC'), ('જ', 'RP_RPD'), ('વાનગી', 'N_NN'), ('તરીકે', 'PSP'), ('નાસ્તામાં', 'N_NN'), ('આપી', 'V_VM'), ('શકાય', 'V_VAUX'), ('છે', 'V_VAUX'), ('.', 'RD_PUNC')]\n",
            "[('આ', 'DM_DMD'), ('પદાર્થોમાંથી', 'N_NN'), ('બનતા', 'N_NN'), ('રસમાં', 'PSP'), ('આકર્ષક', 'JJ'), ('રંગ', 'N_NN'), ('અને', 'CC_CCD'), ('સોડમ', 'N_NN'), ('પણ', 'RP_RPD'), ('હોય', 'V_VAUX'), ('છે', 'V_VAUX'), ('.', 'RD_PUNC')]\n",
            "[('સફરજન', 'N_NN'), ('અને', 'CC_CCD'), ('નાસપતીના', 'N_NN'), ('છોતરાં', 'N_NN'), ('અને', 'CC_CCD'), ('બી', 'N_NN'), ('દૂર', 'JJ'), ('કરીને', 'V_VAUX_VNP'), ('બાકીના', 'JJ'), ('ભાગને', 'N_NN'), ('સમારવાં', 'PSP'), ('જોઈએ', 'V_VAUX'), ('.', 'RD_PUNC')]\n",
            "[('દળેલી', 'N_NN'), ('કૉફીનો', 'N_NN'), ('ઉપયોગ', 'N_NN'), ('વિવિધ', 'JJ'), ('રીતે', 'N_NN'), ('થાય', 'V_VM'), ('છે', 'V_VAUX'), ('.', 'RD_PUNC')]\n",
            "[('તાજા', 'JJ'), ('ફળ', 'N_NN'), ('અને', 'CC_CCD'), ('શાક', 'N_NN'), (':', 'RD_PUNC'), ('કેળાં', 'N_NN'), ('અને', 'CC_CCD'), ('બીજાં', 'JJ'), ('કુમળાં', 'JJ'), ('ફળને', 'N_NN'), ('ઠંડા', 'JJ'), ('હવામાનવાળા', 'RD_RDF'), ('સ્થળે', 'N_NN'), ('તારના', 'DM_DMQ'), ('કે', 'CC_CCS'), ('નેતરના', 'N_NN'), ('શીકામાં', 'N_NN'), ('મૂકવા', 'N_NN'), ('જોઈએ', 'V_VAUX'), ('.', 'RD_PUNC')]\n",
            "[('જો', 'CC_CCD'), ('કંતાન', 'JJ'), ('સુકાઈ', 'QT_QTC'), ('જાય', 'V_VAUX'), ('તો', 'CC_CCD'), ('વખતોવખત', 'N_NN'), ('પાણી', 'N_NN'), ('છાંટતાં', 'N_NN'), ('રહેવું', 'N_NN'), ('જોઈએ', 'V_VAUX'), ('.', 'RD_PUNC')]\n",
            "[('આંદોલન', 'N_NN'), (':', 'RD_PUNC'), ('કોઈ', 'DM_DMI'), ('પણ', 'RP_RPD'), ('બે', 'QT_QTC'), ('વસ્તુ', 'N_NN'), ('સામસામે', 'PSP'), ('અથડાવવાથી', 'PSP'), ('અથવા', 'CC_CCD'), ('એક', 'QT_QTC'), ('વસ્તુ', 'N_NN'), ('પર', 'PSP'), ('બીજી', 'JJ'), ('વસ્તુનો', 'N_NN'), ('આઘાત', 'N_NN'), ('કરવાથી', 'QT_QTF'), (',', 'RD_PUNC'), ('તે', 'DM_DMD'), ('વસ્તુ', 'N_NN'), ('મૂળ', 'JJ'), ('સ્થાનેથી', 'N_NN'), ('થોડી', 'QT_QTF'), ('ઊંચે', 'JJ'), ('અને', 'CC_CCD'), ('ત્યારબાદ', 'PSP'), ('તેટલી', 'JJ'), ('જ', 'RP_RPD'), ('નીચે', 'N_NST'), ('જઈ', 'V_VM'), ('મૂળ', 'JJ'), ('સ્થિતિ', 'N_NN'), ('પર', 'PSP'), ('આવે', 'V_VM'), ('છે', 'V_VAUX'), ('.', 'RD_PUNC')]\n",
            "[('ધમાર', 'N_NN'), ('એ', 'DM_DMD'), ('ચૌદ', 'QT_QTC'), ('માત્રાનો', 'N_NN'), ('ખુલ્લા', 'JJ'), ('બાજનો', 'N_NN'), ('તાલ', 'N_NN'), ('છે', 'V_VAUX'), ('.', 'RD_PUNC')]\n",
            "[('આ', 'DM_DMD'), ('એક', 'QT_QTC'), ('શ્રૃંગારિક', 'N_NN'), ('ગીત', 'N_NN'), ('પ્રકાર', 'N_NN'), ('છે', 'V_VAUX'), ('.', 'RD_PUNC')]\n",
            "[('કવિવર', 'JJ'), ('રવીન્દ્રનાથ', 'N_NNP'), ('ઠાકુર', 'QT_QTC'), ('દ્વારા', 'PSP'), ('રવીન્દ્ર', 'N_NNP'), ('સંગીત', 'N_NN'), ('નામની', 'N_NN'), ('શૈલીનો', 'N_NN'), ('પ્રારંભ', 'N_NN'), ('થયો', 'V_VM'), ('.', 'RD_PUNC')]\n",
            "[('આવા', 'JJ'), ('વાદ્યોમાં', 'N_NN'), ('ધ્વનિની', 'N_NN'), ('(', 'RD_SYM'), ('સ્વરની', 'RD_RDF'), (')', 'RD_SYM'), ('ઉત્પત્તિ', 'V_VM'), ('પરસ્પર', 'PSP'), ('આઘાત', 'N_NN'), ('કે', 'CC_CCS'), ('ઘર્ષણ', 'N_NN'), ('આપવાથી', 'PSP'), ('થાય', 'V_VM'), ('છે', 'V_VAUX'), ('.', 'RD_PUNC')]\n",
            "[('શરૂઆતમાં', 'N_NN'), ('આ', 'DM_DMD'), ('વાદ્યને', 'N_NN'), ('``', 'RD_PUNC'), ('સહતાર', 'N_NN'), ('``', 'RD_PUNC'), ('કહેવામાં', 'N_NN'), ('આવતું', 'N_NN'), ('હતું', 'V_VAUX'), ('.', 'RD_PUNC')]\n",
            "[('સરોદ', 'QT_QTC'), ('લાકડા', 'JJ'), ('તેમજ', 'CC_CCD'), ('ચામડામાંથી', 'N_NN'), ('બનાવવામાં', 'N_NN'), ('આવે', 'V_VM'), ('છે', 'V_VAUX'), ('.', 'RD_PUNC')]\n",
            "[('કેટલાક', 'QT_QTF'), ('કલાકારો', 'JJ'), ('હાર્મોનિયમ', 'N_NN'), ('પર', 'PSP'), ('સ્વતંત્ર', 'JJ'), ('વાદન', 'N_NN'), ('કરતા', 'V_VAUX_VNP'), ('પણ', 'CC_CCD'), ('જોવા', 'PSP'), ('મળે', 'V_VM'), ('છે', 'V_VAUX'), ('.', 'RD_PUNC')]\n",
            "[('પિયાનો', 'N_NN'), ('ઉપરથી', 'RP_NEG'), ('તેમણે', 'PR_PRP'), ('હાર્મોનિયમની', 'V_VAUX'), ('શોધ', 'N_NN'), ('કરી', 'V_VM'), ('.', 'RD_PUNC')]\n",
            "[('આમાં', 'DM_DMD'), ('સાદા', 'PR_PRP'), ('ફૂલપાનના', 'N_NN'), ('આકારો', 'PR_PRP'), ('તથા', 'CC_CCD'), ('મીઠા', 'N_NN'), ('રંગો', 'N_NN'), ('વધારે', 'QT_QTF'), ('સારા', 'JJ'), ('લાગે', 'V_VM'), ('.', 'RD_PUNC')]\n",
            "[('ચીમળાઈ', 'N_NN'), ('ગયેલાં', 'PR_PRQ'), (',', 'RD_PUNC'), ('કપાઈ', 'N_NN'), ('ગયેલાં', 'N_NN'), ('કે', 'CC_CCS'), ('અન્ય', 'JJ'), ('રીતે', 'N_NN'), ('ખરાબ', 'JJ'), ('થઈ', 'V_VM'), ('ગયેલાં', 'N_NN'), ('પાંદડાંને', 'N_NN'), ('પ્રથમ', 'QT_QTO'), ('કાપી', 'N_NN'), ('નાખો', 'N_NN'), ('.', 'RD_PUNC')]\n",
            "[('કારણકે', 'CC_CCS'), ('જો', 'CC_CCD'), ('નીચેથી', 'N_NN'), ('રંગકામ', 'N_NN'), ('કરશો', 'V_VM'), ('તો', 'RP_RPD'), ('રંગ', 'N_NN'), ('જલદી', 'JJ'), ('સુકાશે', 'N_NN'), ('નહીં', 'RP_NEG'), ('અને', 'CC_CCD'), ('અજાણતાં', 'V_VAUX_VNP'), ('તમારો', 'PR_PRP'), ('હાથ', 'N_NN'), ('તેના', 'DM_DMD'), ('પર', 'PSP'), ('પડતાં', 'V_VAUX_VNP'), ('ચિત્ર', 'N_NN'), ('બગડશે', 'N_NN'), ('.', 'RD_PUNC')]\n",
            "[('પ્રથમ', 'QT_QTO'), ('આપવામાં', 'JJ'), ('આવતા', 'V_VAUX_VNP'), ('કાગળમાં', 'JJ'), ('ખૂબ', 'QT_QTF'), ('જ', 'RP_RPD'), ('ધીરા', 'JJ'), ('હાથે', 'N_NN'), ('એચ.', 'N_NN'), ('બી.', 'N_NN'), ('પેન્સીલથી', 'PSP'), ('રેખાઓ', 'N_NN'), ('દોરવાનો', 'N_NN'), ('મનસૂબો', 'N_NN'), ('કરો', 'V_VM'), ('.', 'RD_PUNC')]\n",
            "[('કલાકાર', 'N_NN'), ('મનની', 'N_NN'), ('એક', 'QT_QTC'), ('જ', 'RP_RPD'), ('પરિસ્થિતિ', 'N_NN'), ('દર્શાવે', 'N_NN'), ('છે', 'V_VAUX'), ('એમ', 'PSP'), ('કહેવું', 'N_NN'), ('ભૂલ', 'N_NN'), ('ભરેલું', 'N_NN'), ('છે', 'V_VAUX'), ('.', 'RD_PUNC')]\n",
            "[('એણે', 'PR_PRP'), ('સર્જન', 'N_NN'), ('કર્યું', 'N_NN'), ('-', 'RD_PUNC'), ('કલાકૃતિ', 'N_NN'), ('દોરી', 'N_NN'), ('એમ', 'PSP'), ('આપણે', 'PR_PRP'), ('કહીએ', 'V_VM'), ('છીએ', 'V_VAUX'), ('.', 'RD_PUNC')]\n",
            "[('પીકાસોથી', 'PSP'), ('માંડી', 'N_NN'), ('પીસારો', 'N_NN'), ('સુધી', 'PSP'), ('કલાકારોએ', 'PSP'), ('ક્યુબીઝમથી', 'V_VM'), ('માંડી', 'N_NN'), ('અમૂર્તવાદ', 'RD_PUNC'), ('સુધી', 'PSP'), ('જે', 'PR_PRL'), ('જે', 'PR_PRL'), ('કલાના', 'N_NN'), ('અખતરા', 'N_NN'), ('કર્યા', 'N_NN'), ('તેની', 'DM_DMD'), ('અસર', 'N_NN'), ('ભારતીય', 'JJ'), ('કલાકારો', 'N_NN'), ('પર', 'PSP'), ('પણ', 'RP_RPD'), ('પડી', 'V_VM'), ('.', 'RD_PUNC')]\n",
            "[('યામિની', 'JJ'), ('રાયને', 'N_NN'), ('પોતાનાં', 'N_NN'), ('બાળકોની', 'N_NN'), ('કૃતિઓ', 'JJ'), ('અને', 'CC_CCD'), ('પોતાનાં', 'PR_PRF'), ('બાળપણનાં', 'N_NN'), ('સ્મરણોમાં', 'JJ'), ('એ', 'DM_DMD'), ('માર્ગ', 'N_NN'), ('મળી', 'V_VM'), ('ગયો', 'V_VAUX'), ('.', 'RD_PUNC')]\n",
            "[('પોતાની', 'PR_PRF'), ('ખોજનો', 'N_NN'), ('દોર', 'JJ'), ('એમને', 'PR_PRP'), ('એ', 'DM_DMD'), ('લોકકલામાં', 'JJ'), ('લાધી', 'N_NN'), ('ગયો', 'V_VM'), ('.', 'RD_PUNC')]\n",
            "[('વડોદરામાં', 'N_NN'), ('મહારાજા', 'N_NN'), ('સયાજીરાવ', 'QT_QTC'), ('યુનિવર્સિટીના', 'JJ'), ('કલાવિભાગના', 'N_NN'), ('સંચાલનમાં', 'N_NNP'), ('પોતાનો', 'PR_PRF'), ('આત્મા', 'N_NN'), ('રેડી', 'N_NN'), ('એ', 'DM_DMD'), ('સંસ્થાને', 'N_NN'), ('દેશભરમાં', 'N_NN'), ('અગ્રસ્થાન', 'N_NNP'), ('અપાવનાર', 'N_NN'), ('બેન્દ્રેસાહેબ', 'N_NN'), ('એક', 'QT_QTC'), ('અચ્છા', 'N_NN'), ('ચિત્રકાર', 'N_NN'), ('અને', 'CC_CCD'), ('કલાગુરુ', 'JJ'), ('છે', 'V_VAUX'), ('.', 'RD_PUNC')]\n",
            "[('નવાનવા', 'N_NN'), ('અખતરાઓ', 'N_NN'), ('કરી', 'V_VM'), ('નવીનવી', 'N_NN'), ('શૈલીઓ', 'V_VAUX_VNP'), ('અજમાવતા', 'JJ'), ('જ', 'RP_RPD'), ('જાય', 'V_VAUX'), ('છે', 'V_VAUX'), ('.', 'RD_PUNC')]\n",
            "[('આધુનિક', 'JJ'), ('ચિત્રકારની', 'N_NN'), ('જે', 'PR_PRL'), ('બેફિકરાઈ', 'N_NN'), ('અને', 'CC_CCD'), ('લાપરવાહી', 'N_NN'), ('દેખાવી', 'JJ'), ('જોઈએ', 'V_VM'), ('તે', 'DM_DMD'), ('હુસેન', 'N_NNP'), ('સાહેબના', 'CC_CCD'), ('જીવનમાં', 'N_NN'), ('દેખાય', 'N_NNP'), ('છે', 'V_VAUX'), ('.', 'RD_PUNC')]\n",
            "[('વચ્ચે', 'N_NST'), ('વચ્ચે', 'N_NST'), ('ક્યાંક', 'N_NST'), ('થોડીક', 'QT_QTF'), ('છાયાનો', 'N_NN'), ('ઈશારો', 'V_VM'), ('કરે', 'V_VM'), ('ને', 'CC_CCD'), ('આલેખનમાં', 'N_NN'), ('ત્રિપરિમાણતા', 'JJ'), ('આવી', 'V_VM'), ('જાય', 'V_VAUX'), ('!', 'RD_PUNC')]\n",
            "[('ક્યાંક', 'N_NST'), ('વળી', 'PSP'), ('રંગનાં', 'JJ'), ('બેચાર', 'JJ'), ('ચટકાં', 'N_NN'), ('મૂકે', 'N_NNP'), ('ને', 'CC_CCD'), ('ચિત્ર', 'N_NN'), ('ભર્યું', 'JJ'), ('ભર્યું', 'JJ'), ('બની', 'V_VM'), ('જાય', 'V_VAUX'), ('!', 'RD_PUNC')]\n",
            "[('`', 'RD_PUNC'), ('ચિત્રલક્ષણમાં', 'N_NN'), ('`', 'RD_PUNC'), ('ધાર્મિક', 'JJ'), ('ચિત્રો', 'N_NN'), ('અને', 'CC_CCD'), ('તેનાં', 'N_NN'), ('લક્ષણોનું', 'N_NN'), ('વર્ણન', 'N_NN'), ('છે', 'V_VAUX'), ('.', 'RD_PUNC')]\n",
            "[('કહેવાય', 'V_VM'), ('છે', 'V_VAUX'), ('કે', 'CC_CCS'), ('આ', 'DM_DMD'), ('ચિત્રકારો', 'N_NN'), ('છાણ', 'N_NN'), (',', 'RD_PUNC'), ('ડાંગરનાં', 'N_NN'), ('છોલાં', 'N_NN'), (',', 'RD_PUNC'), ('ગેરુ', 'N_NN'), ('અને', 'CC_CCD'), ('નાની', 'JJ'), ('નાની', 'JJ'), ('કાંકરીઓ', 'N_NN'), ('ભેગી', 'JJ'), ('કરીને', 'RP_NEG'), (',', 'RD_PUNC'), ('સૌ', 'JJ'), ('પ્રથમ', 'QT_QTO'), ('તો', 'RP_RPD'), ('લેપ', 'N_NN'), ('જેવી', 'JJ'), ('લૂગદી', 'JJ'), ('બનાવતા', 'N_NN'), ('.', 'RD_PUNC')]\n",
            "[('આ', 'DM_DMD'), ('કલા', 'N_NN'), ('હિંદની', 'V_VAUX'), ('શક્તિઓને', 'N_NN'), ('તેના', 'DM_DMD'), ('અસલ', 'N_NN'), ('સ્વરૂપમાં', 'N_NN'), ('બતાવે', 'N_NN'), ('છે', 'V_VAUX'), ('આનાં', 'QT_QTO'), ('મૂળ', 'JJ'), ('તો', 'RP_RPD'), ('લોકોના', 'N_NN'), ('હૃદયમાં', 'N_NN'), ('છે', 'V_VAUX'), (',', 'RD_PUNC'), ('કારણકે', 'CC_CCS'), ('તેનો', 'DM_DMD'), ('સંબંધ', 'N_NN'), ('લોકોની', 'N_NNP'), ('કવિતા', 'JJ'), (',', 'RD_PUNC'), ('સંગીત', 'N_NN'), ('તથા', 'CC_CCD'), ('નાટક', 'N_NN'), ('સાથે', 'PSP'), ('પણ', 'RP_RPD'), ('છે', 'V_VAUX'), ('.', 'RD_PUNC')]\n",
            "[('સામાન્ય', 'JJ'), ('રીતે', 'N_NN'), ('માટીના', 'N_NN'), ('રંગોમાંથી', 'N_NN'), ('બનાવવામાં', 'N_NN'), ('આવતાં', 'V_VM'), ('આ', 'DM_DMD'), ('ચિત્રો', 'N_NN'), ('આલ્હાદક', 'JJ'), ('લાગે', 'V_VM'), ('છે', 'V_VAUX'), ('.', 'RD_PUNC')]\n",
            "[('જાપાની', 'JJ'), ('ચિત્રકળા', 'N_NN'), ('પણ', 'RP_RPD'), ('શરૂઆતમાં', 'N_NN'), ('બૌદ્ધધર્મના', 'JJ'), ('મંદિરો', 'N_NN'), ('પૂરતી', 'V_VAUX_VNP'), ('મર્યાદામાં', 'N_NN'), ('રહી', 'V_VM'), ('અને', 'CC_CCD'), ('વિકાસ', 'N_NN'), ('પામી', 'V_VM'), ('.', 'RD_PUNC')]\n",
            "[('જાપાની', 'V_VM'), ('સ્થાપત્યનો', 'RD_PUNC'), ('આમાં', 'DM_DMD'), ('ખાસ', 'JJ'), ('ભાગ', 'N_NN'), ('ભજવેલો', 'V_VM'), ('હતો', 'V_VAUX'), ('.', 'RD_PUNC')]\n",
            "[('પરંતુ', 'CC_CCD'), ('જેમ', 'PSP'), ('જેમ', 'PSP'), ('આ', 'DM_DMD'), ('કળા', 'N_NN'), ('મંદિરો', 'N_NN'), ('પૂરતી', 'N_NN'), ('મર્યાદિત', 'N_NN'), ('ન', 'RP_NEG'), ('રહેતાં', 'N_NN'), ('જનતા', 'N_NN'), ('સમક્ષ', 'JJ'), ('આવી', 'JJ'), ('કે', 'CC_CCS'), ('તુરત', 'JJ'), ('જ', 'RP_RPD'), ('તેમાં', 'DM_DMD'), ('પરિવર્તન', 'N_NN'), ('આવ્યું', 'V_VM'), ('અને', 'CC_CCD'), ('થોડી', 'QT_QTF'), ('રંગોની', 'N_NN'), ('ભભક', 'N_NNP'), ('અને', 'CC_CCD'), ('વિષયોની', 'N_NN'), ('વિવિધતા', 'N_NN'), ('આવી', 'V_VM'), ('.', 'RD_PUNC')]\n",
            "[('મોટા', 'JJ'), ('મોટા', 'JJ'), ('આવાસો', 'N_NN'), ('અને', 'CC_CCD'), ('મોટા', 'JJ'), ('મોટા', 'JJ'), ('સ્થંભ', 'N_NN'), ('ઉપર', 'PSP'), ('કમાનોની', 'JJ'), ('રચના', 'N_NN'), ('કરી', 'V_VM'), ('ઊભા', 'V_VM'), ('કરેલા', 'N_NN'), ('આકારો', 'PR_PRP'), ('-', 'RD_PUNC'), ('એમાં', 'DM_DMD'), ('રચાતી', 'N_NN'), ('ઉચ્ચકોટીની', 'N_NN'), ('શિલ્પકળાને', 'V_VM'), ('લીધે', 'PSP'), ('જરાય', 'QT_QTF'), ('આંખને', 'QT_QTC'), ('ખૂંચતા', 'N_NN'), ('નથી', 'RP_NEG'), ('.', 'RD_PUNC')]\n",
            "[('આ', 'DM_DMD'), ('સંસ્કૃતિ', 'N_NN'), ('નીચેનાં', 'N_NN'), ('અમદાવાદ', 'N_NNP'), (',', 'RD_PUNC'), ('મહેમદાવાદ', 'N_NN'), (',', 'RD_PUNC'), ('ચાંપાનેર', 'N_NN'), (',', 'RD_PUNC'), ('ખંભાત', 'N_NN'), (',', 'RD_PUNC'), ('ધોળકા', 'N_NN'), ('અને', 'CC_CCD'), ('સૌરાષ્ટ્રમાં', 'PSP'), ('માંગરોળના', 'N_NN'), ('મકબરા', 'N_NN'), ('અને', 'CC_CCD'), ('આવાસો', 'N_NN'), ('ખાસ', 'JJ'), ('ધ્યાનપાત્ર', 'N_NN'), ('છે', 'V_VAUX'), ('.', 'RD_PUNC')]\n",
            "[('અંબાજીથી', 'QT_QTC'), ('સાત', 'QT_QTC'), ('કિલોમીટર', 'N_NN'), ('દૂર', 'JJ'), ('આવેલાં', 'N_NNP'), ('કુંભારિયાનાં', 'JJ'), ('જૈનમંદિરો', 'N_NN'), ('આબુના', 'N_NNP'), ('જૈનમંદિરોની', 'N_NN'), ('સંપૂર્ણ', 'JJ'), ('અસર', 'N_NN'), ('નીચે', 'N_NN'), ('તૈયાર', 'JJ'), ('થયેલાં', 'N_NN'), ('છે', 'V_VAUX'), ('.', 'RD_PUNC')]\n",
            "[('ખરેખર', 'PSP'), ('આ', 'DM_DMD'), ('ઈજનેરી', 'N_NN'), ('ટેકનીકની', 'JJ'), ('વિશેષતા', 'N_NN'), ('હજુ', 'N_NST'), ('સુધી', 'PSP'), ('પામી', 'V_VM'), ('શકાઈ', 'RP_NEG'), ('નથી', 'RP_NEG'), ('.', 'RD_PUNC')]\n",
            "[('મોટાભાગના', 'N_NN'), ('મુસ્લિમ', 'JJ'), ('સ્થાપત્યો', 'N_NN'), ('એમના', 'PR_PRP'), ('વિશાળ', 'JJ'), ('કદ', 'N_NN'), ('માટે', 'PSP'), ('પ્રખ્યાત', 'JJ'), ('છે', 'V_VAUX'), ('જ્યારે', 'N_NST'), ('રાણી', 'N_NN'), ('સીપ્રીની', 'N_NN'), ('મસ્જીદ', 'N_NN'), ('એની', 'PR_PRP'), ('નાજુકતા', 'N_NN'), ('માટે', 'PSP'), ('પ્રખ્યાત', 'V_VM'), ('છે', 'V_VAUX'), ('.', 'RD_PUNC')]\n",
            "[('એને', 'DM_DMD'), ('પ્રમોશન', 'N_NN'), ('મળ્યું', 'N_NN'), ('.', 'RD_PUNC')]\n",
            "[('તમે', 'PR_PRP'), ('જેવું', 'JJ'), ('વિચારતા', 'V_VM'), ('હો', 'V_VAUX'), ('એવું', 'PSP'), ('એ', 'DM_DMD'), ('લખી', 'V_VM'), ('આપે', 'CC_CCD'), ('અને', 'CC_CCD'), ('એ', 'DM_DMD'), ('પણ', 'RP_RPD'), ('સહેજ', 'QT_QTF'), ('છેકછાક', 'N_NN'), ('વગર', 'V_VM'), ('.', 'RD_PUNC')]\n",
            "[('છેલ્લા', 'JJ'), ('દિવસ', 'N_NN'), ('સુધી', 'PSP'), ('લટકાવી', 'V_VM'), ('રાખ્યો', 'V_VM'), ('.', 'RD_PUNC')]\n",
            "[('કેમકે', 'CC_CCS'), ('મારે', 'PR_PRP'), ('એ', 'DM_DMD'), ('જોવું', 'PSP'), ('હતું', 'V_VAUX'), ('કે', 'CC_CCS'), ('એ', 'DM_DMD'), ('કઈ', 'DM_DMI'), ('રીતે', 'N_NN'), ('મને', 'PR_PRP'), ('`', 'RD_PUNC'), ('ઘરમાં', 'N_NN'), ('ઘાલવાની', 'QT_QTC'), ('`', 'RD_PUNC'), ('ના', 'RP_NEG'), ('પાડે', 'V_VM'), ('છે', 'V_VAUX'), ('?', 'RD_PUNC')]\n",
            "[('`', 'RD_PUNC'), ('જમવું', 'JJ'), ('બમવું', 'N_NN'), ('બધું', 'QT_QTF'), ('ઠીક', 'PSP'), ('મારા', 'PR_PRP'), ('ભાઈ', 'N_NN'), (',', 'RD_PUNC'), ('એથી', 'PSP'), ('એક', 'QT_QTC'), ('ટંકનું', 'N_NN'), ('પેટ', 'N_NN'), ('ભરાય', 'V_VM'), ('.', 'RD_PUNC'), ('બાકી', 'PSP'), ('એમ', 'PSP'), ('કંઈ', 'DM_DMI'), ('ઘર', 'N_NN'), ('નો', 'RP_NEG'), ('ભરાય', 'N_NNP'), ('.', 'RD_PUNC'), ('`', 'RD_PUNC')]\n",
            "[('ઢગલો', 'N_NNP'), ('સાડીઓ', 'PR_PRP'), ('હશે', 'V_VAUX'), ('એની', 'PR_PRP'), ('પાસે', 'PSP'), ('પણ', 'CC_CCD'), ('આવી', 'CC_CCD'), ('તો', 'RP_RPD'), ('એકે', 'V_VM'), ('નહી', 'RP_NEG'), ('!', 'RD_PUNC')]\n",
            "[('છોકરાંઓને', 'N_NN'), ('નોકરી', 'N_NN'), ('મળશે', 'V_VM'), ('જ', 'RP_RPD'), ('એવી', 'N_NN'), ('ખાતરી', 'N_NN'), ('નથી', 'RP_NEG'), ('ત્યારે', 'N_NST'), ('આ', 'DM_DMD'), ('બધું', 'QT_QTF'), ('જ', 'RP_RPD'), ('કામ', 'N_NN'), ('આવશે', 'V_VM'), ('ને', 'RP_RPD'), ('?', 'RD_PUNC')]\n",
            "[('આ', 'DM_DMD'), ('કંપની', 'JJ'), ('ય', 'RP_RPD'), ('એમની', 'PR_PRP'), ('રીતે', 'N_NN'), ('વસૂલ', 'N_NN'), ('તો', 'RP_RPD'), ('કરી', 'V_VM'), ('જ', 'RP_RPD'), ('લે', 'V_VM'), ('છે', 'V_VAUX'), (',', 'RD_PUNC'), ('ભલે', 'PSP'), ('પછી', 'PSP'), ('એમને', 'PR_PRP'), ('નાતજાતનું', 'N_NN'), ('કે', 'CC_CCS'), ('રંગરૂપનું', 'N_NN'), ('મહત્ત્વ', 'N_NN'), ('ના', 'RP_NEG'), ('હોય', 'V_VAUX'), ('.', 'RD_PUNC')]\n",
            "[('બસ', 'PSP'), ('બદલાય', 'N_NN'), ('છે', 'V_VAUX'), ('તો', 'CC_CCD'), ('આ', 'DM_DMD'), ('રંગ', 'N_NN'), ('-', 'RD_PUNC'), ('રૂપ', 'N_NN'), ('.', 'RD_PUNC')]\n",
            "[('કદાચ', 'PSP'), ('મારા', 'PR_PRP'), ('વિશ્વામિત્ર', 'N_NN'), ('જ', 'RP_RPD'), ('નથી', 'RP_NEG'), ('એટલે', 'PSP'), ('પણ', 'CC_CCD'), ('મારે', 'PR_PRP'), ('તો', 'RP_RPD'), ('સ્વર્ગે', 'N_NN'), ('ય', 'RP_RPD'), ('નથી', 'RP_NEG'), ('જોઈતું', 'V_VM'), ('.', 'RD_PUNC')]\n",
            "[('મને', 'PR_PRP'), ('જોઈ', 'V_VM'), ('એ', 'DM_DMD'), ('બેઠી', 'JJ'), ('થવા', 'JJ'), ('ગઈ', 'V_VAUX'), ('પણ', 'CC_CCD'), ('અધવચ્ચે', 'JJ'), ('જ', 'RP_RPD'), ('મેં', 'PR_PRP'), ('એને', 'PR_PRP'), ('રોકી', 'V_VM'), ('લીધી', 'V_VM'), ('.', 'RD_PUNC')]\n",
            "[('ત્યાંની', 'N_NN'), ('મારી', 'PR_PRP'), ('નાનકડી', 'N_NNP'), ('ઓરડી', 'N_NN'), ('અને', 'CC_CCD'), ('અહીં', 'N_NST'), ('ત્રણ', 'QT_QTC'), ('સદસ્યોથી', 'N_NST'), ('ભર્યા', 'N_NN'), ('ઘર', 'N_NN'), ('વચ્ચેનું', 'N_NN'), ('અંતરિયાળ', 'QT_QTC'), ('હાસ્ય', 'RD_PUNC'), ('!', 'RD_PUNC')]\n",
            "[('બાપુજીની', 'N_NN'), ('ખબર', 'N_NN'), ('કાઢવા', 'JJ'), ('આવ્યા', 'V_VM'), ('પછી', 'PSP'), ('એક', 'QT_QTC'), ('પ્રકારની', 'N_NN'), ('મોકળાશ', 'N_NN'), ('જરૂર', 'PSP'), ('અનુભવતો', 'V_VAUX'), ('હતો', 'V_VAUX'), ('.', 'RD_PUNC')]\n",
            "[('કોઈ', 'DM_DMI'), ('ઉંદરે', 'N_NN'), ('ખોરવેલી', 'N_NN'), ('રજકણ', 'N_NNP'), ('ખરતી', 'N_NN'), ('રહી', 'V_VM'), ('.', 'RD_PUNC')]\n",
            "[('એન્ટેનાની', 'JJ'), ('દિશા', 'N_NN'), ('ફરી', 'V_VM'), ('ગઈ', 'V_VAUX'), ('હતી', 'V_VAUX'), ('.', 'RD_PUNC')]\n",
            "[('એમની', 'PR_PRP'), ('ફૂંક', 'N_NN'), ('સાથે', 'PSP'), ('ઊડેલા', 'N_NN'), ('થૂંકને', 'N_NN'), ('કારણે', 'PSP'), ('ચૂલામાં', 'N_NNP'), ('જરા', 'QT_QTF'), ('તતડાટ', 'V_VM'), ('થયો', 'V_VM'), ('.', 'RD_PUNC')]\n",
            "[('અગ્નિની', 'N_NN'), ('આછી', 'JJ'), ('ધજાઓ', 'N_NN'), ('તપેલી', 'N_NNP'), ('ફરતે', 'PSP'), ('ફરફરતી', 'N_NN'), ('રહી', 'V_VM'), ('.', 'RD_PUNC')]\n",
            "[('વાત', 'N_NN'), ('તણખા', 'N_NN'), ('પૂરતી', 'N_NN'), ('નહોતી', 'RP_NEG'), (',', 'RD_PUNC'), ('ધુમાડા', 'N_NN'), ('પૂરતીય', 'PSP'), ('નહીં', 'RP_NEG'), ('.', 'RD_PUNC')]\n",
            "[('એ', 'DM_DMD'), ('મારી', 'PR_PRP'), ('આરપાર', 'V_VM'), ('જોવાનો', 'N_NN'), ('પ્રયાસ', 'N_NN'), ('કરતી', 'N_NN'), ('હોય', 'V_VAUX'), ('એવું', 'PSP'), ('લાગતું', 'V_VAUX_VNP'), ('.', 'RD_PUNC')]\n",
            "[('`', 'RD_PUNC'), ('છોટુ', 'N_NNP'), ('જનોઈ', 'N_NNP'), ('દેવા', 'N_NNP'), ('જેવડો', 'JJ'), ('થાય', 'V_VM'), ('ત્યારે', 'N_NNP'), ('આવું', 'JJ'), ('?', 'RD_PUNC'), ('`', 'RD_PUNC'), ('-', 'RD_PUNC'), ('એના', 'PR_PRP'), ('સ્વરમાં', 'N_NN'), ('વ્યંગ', 'N_NN'), ('નહોતો', 'RP_NEG'), ('.', 'RD_PUNC')]\n",
            "[('એના', 'PR_PRP'), ('શ્વાસનો', 'N_NN'), ('થડકો', 'N_NST'), ('મારા', 'PR_PRP'), ('કાનમાં', 'N_NN'), ('પડતો', 'V_VAUX_VNP'), ('હતો', 'V_VAUX'), ('.', 'RD_PUNC')]\n",
            "[('એમનાં', 'PR_PRP'), ('ઓશીકા', 'N_NN'), ('અને', 'CC_CCD'), ('ગોદડાંની', 'JJ'), ('કિનાર', 'N_NNP'), ('પર', 'PSP'), ('કંકુના', 'QT_QTF'), ('મેલા', 'N_NN'), ('ડાઘ', 'N_NN'), ('પડ્યા', 'V_VM'), ('હતા', 'V_VAUX'), ('.', 'RD_PUNC')]\n",
            "[('હું', 'PR_PRP'), ('અને', 'CC_CCD'), ('બા', 'N_NN'), ('એકબીજાને', 'PSP'), ('દયનીય', 'N_NST'), ('આંખે', 'N_NN'), ('જોઈ', 'V_VM'), ('રહ્યાં', 'V_VAUX'), ('.', 'RD_PUNC')]\n",
            "[('એથી', 'PSP'), ('મારા', 'PR_PRP'), ('ઘરની', 'N_NN'), ('એ', 'DM_DMD'), ('ઓરડીનું', 'N_NN'), ('ખાલીપણું', 'N_NN'), ('બમણું', 'JJ'), ('થઈ', 'V_VM'), ('ઘેરી', 'JJ'), ('વળ્યું', 'N_NNP'), ('.', 'RD_PUNC')]\n",
            "[('`', 'RD_PUNC'), ('ત્રિવેણીગૌરી', 'PSP'), ('.', 'RD_PUNC'), ('`', 'RD_PUNC')]\n",
            "[('એની', 'DM_DMD'), ('પાછળ', 'PSP'), ('બા', 'N_NN'), ('પાણીની', 'N_NN'), ('બોતલ', 'N_NN'), ('હલાવતી', 'V_VM'), ('હતી', 'V_VAUX'), ('.', 'RD_PUNC')]\n",
            "[('કર્મકાંડ', 'PSP'), ('કરતા', 'V_VAUX_VNP'), ('.', 'RD_PUNC')]\n",
            "[('મને', 'PR_PRP'), ('થયું', 'V_VM'), ('કે', 'CC_CCS'), ('હવે', 'N_NST'), ('વધારાનો', 'N_NN'), ('એક', 'QT_QTC'), ('પણ', 'RP_RPD'), ('શબ્દ', 'N_NN'), ('હૃદય', 'N_NN'), ('પરનો', 'PSP'), ('બોજ', 'N_NN'), ('સાબિત', 'JJ'), ('થશે', 'V_VM'), ('.', 'RD_PUNC')]\n",
            "[('`', 'RD_PUNC'), ('મારા', 'PR_PRP'), ('બાપા', 'N_NN'), ('દયાશંકર', 'N_NNP'), ('નરભેરામશંકર', 'N_NNP'), ('....', 'RD_PUNC'), ('`', 'RD_PUNC'), ('ત્રિવેણીગૌરી', 'PSP'), ('....', 'RD_PUNC'), ('ભારદ્વાજ', 'N_NNP'), ('....', 'RD_PUNC'), ('એના', 'N_NNP'), ('હાંફભર્યા', 'N_NN'), ('શબ્દોની', 'V_VAUX_VNP'), ('પાંખો', 'N_NN'), ('વીંઝાતી', 'N_NN'), ('રહી', 'V_VM'), ('.', 'RD_PUNC')]\n",
            "[('એકઢાળિયામાંથી', 'N_NN'), ('બાપુજી', 'N_NN'), ('`', 'RD_PUNC'), ('શંભુ', 'N_NN'), ('`', 'RD_PUNC'), ('નહોતું', 'RP_NEG'), (';', 'RD_PUNC'), ('કદાચ', 'PSP'), ('એટલે', 'PSP'), ('જ', 'RP_RPD'), ('મારી', 'PR_PRP'), ('ચાલ', 'N_NN'), ('ઝડપી', 'V_VM'), ('બની', 'V_VM'), ('ગઈ', 'V_VM'), ('હતી', 'V_VAUX'), ('.', 'RD_PUNC')]\n",
            "[('સિલાઈમાં', 'N_NNP'), ('જરૂરી', 'JJ'), ('એવી', 'JJ'), ('નાનામાં', 'JJ'), ('નાની', 'JJ'), ('સૂઝ', 'N_NN'), ('તમારામાં', 'PSP'), ('હતી', 'V_VAUX'), ('.', 'RD_PUNC')]\n",
            "[('પ્રીવેરા', 'RD_PUNC'), (',', 'RD_PUNC'), ('સેવન', 'N_NN'), ('આર્ટ', 'N_NN'), (',', 'RD_PUNC'), ('કેલિબર', 'N_NN'), (',', 'RD_PUNC'), ('રીવેક્સ', 'N_NN'), ('અને', 'CC_CCD'), ('કેપ્રી', 'JJ'), ('ટેલરોએ', 'N_NN'), ('તમારા', 'PR_PRP'), ('કામને', 'JJ'), ('જાણે', 'V_VM'), ('`', 'RD_PUNC'), ('રોબોટપંચ', 'N_NN'), ('`', 'RD_PUNC'), ('માર્યો', 'PSP'), ('!', 'RD_PUNC')]\n",
            "[('એરકન્ડિશન્ડ', 'PR_PRP'), ('શોપમાં', 'N_NN'), ('બેસતાં', 'N_NN'), ('સોળના', 'N_NN'), ('ભાવના', 'N_NN'), ('કારીગરોએ', 'N_NN'), ('કરેલી', 'N_NN'), ('ભૂલો', 'N_NN'), ('સુધારવાનું', 'N_NN'), ('કામ', 'N_NN'), ('તમને', 'PR_PRP'), ('મળતું', 'V_VAUX_VNP'), ('.', 'RD_PUNC')]\n",
            "[('તમે', 'PR_PRP'), ('બધા', 'QT_QTF'), ('પ્રયત્નો', 'N_NN'), ('કરી', 'V_VM'), ('જોયા', 'V_VAUX'), ('.', 'RD_PUNC')]\n",
            "[('એટલે', 'PSP'), ('તો', 'RP_RPD'), ('પોલીસે', 'N_NN'), ('કરેલી', 'QT_QTF'), ('પ્રાથમિક', 'RD_PUNC'), ('તપાસમાં', 'JJ'), ('તમે', 'PR_PRP'), ('બીજાની', 'JJ'), ('જેમ', 'PSP'), ('કંઈ', 'DM_DMI'), ('ન', 'RP_NEG'), ('જાણતા', 'V_VM'), ('હોવાનો', 'RD_RDF'), ('ડોળ', 'V_VM'), ('સહેલાઈથી', 'V_VM'), ('કરી', 'V_VM'), ('નાખ્યો', 'N_NNP'), ('.', 'RD_PUNC')]\n",
            "[('કઈ', 'DM_DMI'), ('વાત', 'N_NN'), ('તમારા', 'PR_PRP'), ('ચેતનશૂન્ય', 'N_NN'), ('અંગોને', 'N_NN'), ('પણ', 'RP_RPD'), ('ધ્રુજાવી', 'JJ'), ('રહી', 'V_VM'), ('છે', 'V_VAUX'), ('?', 'RD_PUNC')]\n",
            "[('જીવતો', 'PR_PRP'), ('ગ્રેનેડ', 'N_NN'), ('.....', 'RD_PUNC'), (',', 'RD_PUNC'), ('પાક્કો', 'RP_NEG'), ('આતંકવાદી', 'JJ'), ('સાલો', 'DM_DMD'), ('!', 'RD_PUNC')]\n",
            "[('વાત', 'N_NN'), ('કરતાં', 'V_VAUX_VNP'), ('કરતાં', 'N_NN'), ('મારી', 'PR_PRP'), ('જીભ', 'N_NN'), ('અટકી', 'V_VM'), ('જતી', 'V_VM'), ('.', 'RD_PUNC')]\n",
            "[('ખાંખાંખોળાં', 'N_NN'), ('કરે', 'V_VM'), ('.', 'RD_PUNC')]\n",
            "[('જનકે', 'N_NNP'), ('કહ્યું', 'V_VM'), ('.', 'RD_PUNC')]\n",
            "[('કુતૂહલપૂર્વક', 'DM_DMI'), ('તાક્યા', 'N_NN'), ('કરું', 'V_VM'), ('.', 'RD_PUNC')]\n",
            "[('હું', 'PR_PRP'), ('ય', 'RP_RPD'), ('આકાશને', 'JJ'), ('જોઉં', 'V_VM'), ('.', 'RD_PUNC')]\n",
            "[('કલીબહેન', 'N_NNP'), ('ગમે', 'PSP'), ('તેટલી', 'JJ'), ('બૂમો', 'JJ'), ('પાડે', 'DM_DMD'), ('છતાં', 'RP_RPD'), ('હવે', 'N_NST'), ('હું', 'PR_PRP'), ('છત્રી', 'N_NN'), ('લઈ', 'V_VM'), ('જતો', 'V_VAUX'), ('નથી', 'RP_NEG'), ('.', 'RD_PUNC')]\n",
            "[('મારાથી', 'PR_PRP'), ('ડૂસકું', 'N_NN'), ('નખાઈ', 'N_NN'), ('ગયું', 'N_NN'), ('.', 'RD_PUNC')]\n",
            "[('આ', 'DM_DMD'), ('એ', 'DM_DMD'), ('જ', 'RP_RPD'), ('મને', 'PR_PRP'), ('પ્રિય', 'JJ'), ('છત્રી', 'N_NN'), ('હતી', 'V_VAUX'), ('.', 'RD_PUNC')]\n",
            "[('આપી', 'V_VM'), ('દે', 'V_VAUX'), (',', 'RD_PUNC'), ('એને', 'DM_DMD'), ('મા', 'RP_NEG'), ('નથી', 'RP_NEG'), ('ને', 'RP_RPD'), ('.', 'RD_PUNC')]\n",
            "[('હું', 'PR_PRP'), ('ધીમે', 'JJ'), ('ધીમે', 'N_NN'), ('ચાલતો', 'N_NN'), ('ઘરે', 'N_NN'), ('પહોંચ્યો', 'V_VM'), ('.', 'RD_PUNC')]\n",
            "[('રૂપ', 'N_NN'), ('વડે', 'PSP'), ('એ', 'DM_DMD'), ('સહુથી', 'N_NN'), ('દૂર', 'JJ'), ('અને', 'CC_CCD'), ('ઊંચે', 'JJ'), ('વસતી', 'V_VM'), ('હતી', 'V_VAUX'), ('.', 'RD_PUNC')]\n",
            "[('બગીચા', 'N_NN'), (',', 'RD_PUNC'), ('ફુવારા', 'N_NN'), (',', 'RD_PUNC'), ('પંખીઓના', 'JJ'), ('ટહુકા', 'N_NN'), ('એ', 'DM_DMD'), ('બધું', 'QT_QTF'), ('તો', 'RP_RPD'), ('ઉપર', 'N_NST'), ('ઉપર', 'PSP'), ('હતું', 'V_VAUX'), (',', 'RD_PUNC'), ('દેખાડવા', 'N_NN'), ('પૂરતું', 'JJ'), (',', 'RD_PUNC'), ('અંદરખાને', 'N_NN'), (',', 'RD_PUNC'), ('જમીનની', 'N_NN'), ('નીચે', 'N_NST'), ('ભોંયરામાં', 'N_NN'), ('તો', 'RP_RPD'), ('માનવખોપરીઓમાં', 'N_NN'), ('મદ્ય', 'N_NN'), ('પિવાતો', 'N_NN'), ('અને', 'CC_CCD'), ('રાજકુમારીને', 'PSP'), ('સાંકળથી', 'JJ'), ('બાંધી', 'JJ'), ('રાખવામાં', 'N_NN'), ('આવતી', 'V_VAUX_VNP'), ('.', 'RD_PUNC')]\n",
            "[('`', 'RD_PUNC'), ('આપનાં', 'PR_PRP'), ('જીજા', 'N_NN'), ('પાણી', 'N_NN'), ('ભરવા', 'N_NNP'), ('ગયા', 'V_VAUX'), ('છે', 'V_VAUX'), ('.', 'RD_PUNC'), ('`', 'RD_PUNC')]\n",
            "[('મોટે', 'JJ'), ('મોટે', 'JJ'), ('નમામિ', 'JJ'), ('દેવી', 'N_NN'), ('કરતા', 'V_VAUX_VNP'), ('પિતાજી', 'N_NN'), (',', 'RD_PUNC'), ('રેડિયાના', 'N_NN'), ('તાલ', 'N_NN'), ('સાથે', 'PSP'), ('ખભા', 'N_NN'), ('હલાવતા', 'N_NNP'), ('કીર્તિભાઈ', 'JJ'), ('અને', 'CC_CCD'), ('મેડી', 'N_NN'), ('ઉપર', 'N_NST'), ('ઠેકડા', 'QT_QTC'), ('ભરતા', 'JJ'), ('યોગીભાઈ', 'N_NNP'), (',', 'RD_PUNC'), ('અનુક્રમે', 'QT_QTC'), ('ધર્મ', 'N_NN'), (',', 'RD_PUNC'), ('સંગીત', 'N_NN'), ('અને', 'CC_CCD'), ('પ્રાચીન', 'JJ'), ('સંસ્કૃતિની', 'QT_QTC'), ('ખેવના', 'N_NN'), ('કરનારાએ', 'V_VAUX_VNP'), ('સહુ', 'JJ'), ('કેમ', 'PR_PRQ'), ('એક', 'QT_QTC'), ('અસહાય', 'JJ'), ('યુવતીના', 'N_NN'), ('રક્ષણ', 'N_NN'), ('માટે', 'PSP'), ('કંઈ', 'DM_DMI'), ('કરતા', 'V_VAUX_VNP'), ('નથી', 'RP_NEG'), ('?', 'RD_PUNC')]\n",
            "[('મોટું', 'JJ'), ('કોઈ', 'DM_DMI'), ('તો', 'RP_RPD'), ('એની', 'DM_DMD'), ('પાસે', 'PSP'), ('ફરકતું', 'N_NN'), ('પણ', 'RP_RPD'), ('નહીં', 'RP_NEG'), ('.', 'RD_PUNC')]\n",
            "[('પિતાજી', 'N_NN'), ('ઝડપથી', 'RB'), ('વૃદ્ધ', 'N_NN'), ('થઈ', 'V_VM'), ('ગયા', 'V_VAUX'), ('.', 'RD_PUNC')]\n",
            "[('એમને', 'PR_PRP'), ('મૂકવા', 'V_VM'), ('સહુ', 'JJ'), ('સ્ટેશને', 'QT_QTC'), ('ગયાં', 'N_NNP'), ('ત્યારે', 'N_NST'), ('બે', 'QT_QTC'), ('બાજુ', 'N_NST'), ('લીમડાઓની', 'JJ'), ('હાર', 'N_NN'), ('વચ્ચે', 'N_NST'), ('દોઢ', 'QT_QTC'), ('ગાઉ', 'N_NN'), ('એમનો', 'PR_PRP'), ('બિસ્તરો', 'N_NN'), ('ઉપાડીને', 'JJ'), ('આ', 'DM_DMD'), ('પોઠિયો', 'N_NN'), ('આગળ', 'PSP'), ('ચાલતો', 'N_NN'), ('હતો', 'V_VAUX'), ('.', 'RD_PUNC')]\n",
            "[('કુટુંબને', 'JJ'), ('તારે', 'PR_PRP'), ('એવા', 'JJ'), ('નુસખા', 'N_NN'), ('જેના', 'N_NN'), ('ઉપર', 'PSP'), ('ઉતાર્યા', 'N_NN'), ('હતા', 'V_VAUX'), ('એ', 'DM_DMD'), ('કાગળો', 'JJ'), ('બોદાઈ', 'N_NN'), ('ગયા', 'V_VAUX'), ('હતા', 'V_VAUX'), ('.', 'RD_PUNC')]\n",
            "[('મારા', 'PR_PRP'), ('મિત્રો', 'N_NN'), ('બોર્ડિંગ', 'JJ'), ('અને', 'CC_CCD'), ('ધર્મશાળાઓની', 'N_NN'), ('માહિતી', 'N_NN'), ('લાવ્યા', 'N_NN'), ('હતા', 'V_VAUX'), ('એની', 'PR_PRP'), ('વાત', 'N_NN'), ('મેં', 'PR_PRP'), ('કરી', 'V_VM'), ('ત્યારે', 'N_NST'), ('કીર્તિભાઈ', 'JJ'), ('તરત', 'PSP'), ('બોલ્યા', 'V_VM'), (',', 'RD_PUNC'), ('ધર્મશાળામાં', 'N_NN'), ('શા', 'PR_PRQ'), ('સારુ', 'N_NN'), ('ઊતરવું', 'JJ'), ('પડે', 'V_VM'), ('?', 'RD_PUNC')]\n",
            "[('ગરીબોનો', 'N_NN'), ('વસવાટ', 'N_NN'), ('શહેરના', 'N_NN'), ('ચોક્કસ', 'PSP'), ('વિસ્તારોમાં', 'N_NN'), ('કેન્દ્રિત', 'JJ'), ('થયેલો', 'JJ'), ('હોય', 'V_VAUX'), ('છે', 'V_VAUX'), ('.', 'RD_PUNC')]\n",
            "[('આજે', 'N_NST'), ('રેલવે', 'N_NN'), ('દેશના', 'N_NN'), ('સૌથી', 'JJ'), ('મોટા', 'JJ'), ('જાહેર', 'JJ'), ('સાહસ', 'N_NN'), ('તરીકે', 'PSP'), ('પ્રથમ', 'QT_QTO'), ('ક્રમે', 'N_NN'), ('છે', 'V_VAUX'), ('.', 'RD_PUNC')]\n",
            "[('મોટાં', 'JJ'), ('શહેરોમાં', 'N_NN'), ('લોકો', 'N_NN'), ('સુધી', 'PSP'), ('પીવાનું', 'N_NN'), ('પાણી', 'N_NN'), ('પહોંચાડવા', 'V_VAUX_VNP'), ('માટે', 'PSP'), ('પાઈપલાઈન', 'N_NN'), ('મુખ્ય', 'JJ'), ('સાધન', 'N_NN'), ('બન્યું', 'V_VM'), ('છે', 'V_VAUX'), ('.', 'RD_PUNC')]\n",
            "[('ભારતીય', 'JJ'), ('ટપાલખાતા', 'N_NN'), ('દ્વારા', 'PSP'), ('૧૯૮૬થી', 'QT_QTC'), ('સ્પીડ', 'QT_QTC'), ('પોસ્ટની', 'JJ'), ('સેવા', 'N_NN'), ('શરૂ', 'JJ'), ('કરવામાં', 'JJ'), ('આવી', 'V_VAUX'), ('છે', 'V_VAUX'), ('.', 'RD_PUNC')]\n",
            "[('આ', 'DM_DMD'), ('ઉપરાંત', 'PSP'), (',', 'RD_PUNC'), ('દેશ', 'N_NN'), ('અને', 'CC_CCD'), ('વિદેશ', 'N_NN'), ('માટે', 'PSP'), ('ખાનગી', 'JJ'), ('કુરિયર', 'N_NN'), ('સેવાઓનો', 'N_NN'), ('પણ', 'RP_RPD'), ('વ્યાપ', 'N_NN'), ('દિવસે', 'N_NN'), ('દિવસે', 'N_NN'), ('વધી', 'N_NN'), ('રહ્યો', 'V_VAUX'), ('છે', 'V_VAUX'), ('.', 'RD_PUNC')]\n",
            "[('પરંતુ', 'CC_CCD'), ('ગરીબી', 'N_NN'), (',', 'RD_PUNC'), ('છોકરીઓના', 'N_NN'), ('શિક્ષણ', 'N_NN'), ('પ્રત્યે', 'PR_PRP'), ('ઓછો', 'QT_QTF'), ('રસ', 'N_NN'), (',', 'RD_PUNC'), ('અપૂરતી', 'N_NN'), ('સુવિધાઓ', 'N_NN'), ('વગેરેને', 'PSP'), ('કારણે', 'PSP'), ('પ્રાથમિક', 'JJ'), ('શિક્ષણની', 'DM_DMI'), ('સ્થિતિ', 'QT_QTC'), ('સંતોષકારક', 'V_VM'), ('રહી', 'V_VM'), ('નથી', 'RP_NEG'), ('.', 'RD_PUNC')]\n",
            "[('હરીફાઈયુક્ત', 'RD_PUNC'), ('બજારમાં', 'N_NN'), ('મહત્તમ', 'JJ'), ('નફો', 'N_NN'), ('મેળવવા', 'N_NN'), ('કાર્યક્ષમતા', 'N_NN'), ('ઊંચે', 'JJ'), ('લઈ', 'V_VM'), ('જવી', 'DM_DMD'), ('પડે', 'V_VM'), ('છે', 'V_VAUX'), ('.', 'RD_PUNC')]\n",
            "[('૧૯૯૧', 'QT_QTC'), ('અગાઉ', 'PSP'), ('જાહેર', 'JJ'), ('ક્ષેત્રનો', 'N_NN'), ('ખૂબ', 'QT_QTF'), ('વિકાસ', 'N_NN'), ('થયો', 'V_VM'), ('છે', 'V_VAUX'), ('.', 'RD_PUNC')]\n",
            "[('ભારત', 'N_NNP'), ('ઉપલબ્ધ', 'JJ'), ('સાધનોમાં', 'N_NN'), ('ખૂટતાં', 'N_NN'), ('સાધનો', 'N_NN'), ('વિદેશથી', 'N_NN'), ('પ્રાપ્ત', 'JJ'), ('કરવા', 'N_NN'), ('ઈચ્છે', 'V_VM'), ('છે', 'V_VAUX'), ('.', 'RD_PUNC')]\n",
            "[('તેના', 'DM_DMD'), ('સંદર્ભમાં', 'N_NN'), ('દેશમાં', 'N_NN'), ('ગરીબીનું', 'N_NN'), ('પ્રમાણ', 'N_NN'), ('કેટલું', 'JJ'), ('છે', 'V_VAUX'), ('તેનું', 'N_NN'), ('માપ', 'N_NN'), ('કેટલાક', 'QT_QTF'), ('અર્થશાસ્ત્રીઓએ', 'N_NN'), ('પોતાની', 'N_NN'), ('રીતે', 'N_NN'), ('કાઢ્યું', 'V_VM'), ('.', 'RD_PUNC')]\n",
            "[('સરંક્ષણ', 'QT_QTC'), ('-', 'RD_PUNC'), ('શસ્ત્રસરંજામની', 'N_NNP'), ('દ્રષ્ટિએ', 'N_NN'), ('પણ', 'CC_CCD'), ('ભારે', 'JJ'), ('ઉદ્યોગો', 'N_NN'), ('દેશમાં', 'N_NN'), ('જ', 'RP_RPD'), ('સ્થપાય', 'N_NN'), ('અને', 'CC_CCD'), ('વિકસે', 'N_NN'), ('તે', 'DM_DMD'), ('ઈચ્છનીય', 'V_VM'), ('ગણાય', 'V_VM'), ('.', 'RD_PUNC')]\n",
            "[('તેનાથી', 'N_NN'), ('રોજગારીની', 'N_NN'), ('તકો', 'N_NN'), ('વધે', 'V_VM'), ('.', 'RD_PUNC')]\n",
            "[('દરેક', 'JJ'), ('યોજનાને', 'N_NN'), ('અંતે', 'N_NN'), ('વધુ', 'QT_QTF'), ('ને', 'CC_CCD'), ('વધુ', 'QT_QTF'), ('લોકો', 'N_NN'), ('બેકાર', 'JJ'), ('માલૂમ', 'JJ'), ('પડ્યા', 'V_VM'), ('છે', 'V_VAUX'), ('.', 'RD_PUNC')]\n",
            "[('આમ', 'PSP'), (',', 'RD_PUNC'), ('બેરોજગારીનો', 'N_NN'), ('પ્રશ્ન', 'N_NN'), ('વિકટ', 'N_NN'), ('બનતો', 'N_NN'), ('જાય', 'V_VAUX'), ('છે', 'V_VAUX'), ('.', 'RD_PUNC')]\n",
            "[('સંરક્ષણ', 'PSP'), (',', 'RD_PUNC'), ('શસ્ત્રસામગ્રી', 'V_VAUX'), (',', 'RD_PUNC'), ('ઍરક્રાફ્ટ', 'N_NN'), ('અને', 'CC_CCD'), ('યુદ્ધજહાજો', 'N_NN'), (',', 'RD_PUNC'), ('અણુશક્તિ', 'N_NN'), ('ઉપાર્જન', 'N_NN'), ('અને', 'CC_CCD'), ('રેલવે', 'N_NN'), ('પરિવહન', 'N_NN'), ('એટલાં', 'JJ'), ('જ', 'RP_RPD'), ('ક્ષેત્રો', 'JJ'), ('હવે', 'N_NST'), ('જાહેર', 'JJ'), ('વિભાગ', 'N_NN'), ('પાસે', 'PSP'), ('રહ્યાં', 'N_NN'), ('.', 'RD_PUNC')]\n",
            "[('એપ્રિલ', 'V_VM'), ('૧૯૯૧થી', 'QT_QTC'), ('સપ્ટેમ્બર', 'N_NN'), ('૨૦૦૨', 'QT_QTC'), ('સુધીમાં', 'PSP'), ('રૂપિયા', 'N_NN'), ('૭૮,૩૦૦', 'QT_QTC'), ('કરોડ', 'N_NN'), ('મૂડી', 'N_NN'), ('વિનિવેશ', 'N_NN'), ('દ્વારા', 'PSP'), ('મેળવવાનો', 'N_NNP'), ('લક્ષ્યાંક', 'N_NN'), ('હતો', 'V_VAUX'), ('.', 'RD_PUNC')]\n",
            "[('આર્થિક', 'JJ'), ('સુધારા', 'N_NN'), ('પહેલાં', 'N_NST'), ('ઊંચી', 'JJ'), ('જકાતો', 'JJ'), ('અને', 'CC_CCD'), ('આયાત', 'N_NN'), ('-', 'RD_PUNC'), ('નિયંત્રણોવાળી', 'N_NN'), ('વેપારનીતિ', 'V_VM'), ('હતી', 'V_VAUX'), ('.', 'RD_PUNC')]\n",
            "[('આ', 'DM_DMD'), ('૧૦૦', 'QT_QTC'), ('વર્ષના', 'N_NN'), ('ગાળામાં', 'N_NNP'), ('દેશમાં', 'N_NNP'), ('અનેક', 'JJ'), ('ઉદ્યોગો', 'N_NN'), ('સ્થપાયા', 'V_VM'), ('હતા', 'V_VAUX'), ('અને', 'CC_CCD'), ('વિકસ્યા', 'V_VAUX'), ('હતા', 'V_VAUX'), ('.', 'RD_PUNC')]\n",
            "[('એટલેકે', 'PSP'), ('બેંકો', 'N_NN'), ('નિષ્ફળ', 'JJ'), ('નીવડી', 'N_NN'), ('હોત', 'V_VAUX'), ('તેવી', 'JJ'), ('ઘટનાઓ', 'N_NN'), ('અનેક', 'JJ'), ('વખત', 'N_NN'), ('બની', 'V_VM'), ('હતી', 'V_VAUX'), ('.', 'RD_PUNC')]\n",
            "[('તેવી', 'JJ'), ('જ', 'RP_RPD'), ('રીતે', 'N_NN'), ('ભારતમાં', 'N_NNP'), ('માથાદીઠ', 'PSP'), ('આવકમાં', 'N_NN'), ('પણ', 'RP_RPD'), ('એકધારો', 'N_NNP'), ('વધારો', 'N_NN'), ('થવા', 'V_VAUX_VNP'), ('પામ્યો', 'V_VM'), ('છે', 'V_VAUX'), ('.', 'RD_PUNC')]\n",
            "[('કૃષિ', 'N_NN'), ('ઉત્પાદનની', 'N_NN'), ('વૃદ્ધિની', 'N_NN'), ('સાતે', 'QT_QTF'), ('કૃષિ', 'N_NN'), ('ઉત્પાદકતામાં', 'N_NN'), ('પણ', 'CC_CCD'), ('ભારતે', 'N_NNP'), ('ગણનાપાત્ર', 'N_NN'), ('સુધારો', 'N_NN'), ('હાંસલ', 'JJ'), ('કર્યો', 'JJ'), ('છે', 'V_VAUX'), ('.', 'RD_PUNC')]\n",
            "[('૧૯૫૦', 'QT_QTC'), ('-', 'RD_PUNC'), ('૫૧માં', 'QT_QTC'), ('કુલ', 'JJ'), ('રાષ્ટ્રીય', 'JJ'), ('આવકમાં', 'N_NN'), ('(', 'RD_SYM'), ('GDP', 'RD_RDF'), (')', 'RD_SYM'), ('તેનો', 'RD_SYM'), ('ફાળો', 'N_NN'), ('૧૩.૨૯', 'QT_QTC'), ('%', 'RD_SYM'), ('જેટલો', 'JJ'), ('હતો', 'V_VAUX'), ('.', 'RD_PUNC')]\n",
            "[('આ', 'DM_DMD'), ('વિભાગમાં', 'N_NN'), ('થતી', 'QT_QTF'), ('આર્થિક', 'JJ'), ('પ્રવૃત્તિની', 'JJ'), ('લાક્ષણિકતા', 'JJ'), ('રહી', 'V_VM'), ('છે', 'V_VAUX'), ('.', 'RD_PUNC')]\n",
            "[('આપણે', 'PR_PRP'), ('પણ', 'RP_RPD'), ('વાપરેલી', 'N_NN'), ('ચીજવસ્તુઓ', 'N_NN'), ('ક્યાં', 'N_NST'), ('ફેંકીએ', 'V_VM'), ('છીએ', 'V_VAUX'), ('?', 'RD_PUNC')]\n",
            "[('પરંપરાગત', 'JJ'), ('અર્થશાસ્ત્રમાં', 'N_NN'), ('આવા', 'JJ'), ('ખર્ચને', 'N_NN'), ('ધ્યાનમાં', 'N_NN'), ('લેવાયો', 'N_NN'), ('નથી', 'RP_NEG'), ('.', 'RD_PUNC')]\n",
            "[('વિકાસની', 'N_NN'), ('સાથે', 'PSP'), ('પર્યાવરણીય', 'N_NN'), ('સેવાઓ', 'N_NN'), ('પર', 'PSP'), ('પણ', 'CC_CCD'), ('નકારાત્મક', 'N_NN'), ('અસર', 'N_NN'), ('પડી', 'V_VM'), ('છે', 'V_VAUX'), ('.', 'RD_PUNC')]\n",
            "[('આ', 'DM_DMD'), ('નીતિને', 'N_NN'), ('`', 'RD_PUNC'), ('આદેશ', 'N_NN'), ('અને', 'CC_CCD'), ('નિયંત્રણની', 'N_NN'), ('`', 'RD_PUNC'), ('વ્યૂહરચના', 'N_NN'), ('પણ', 'RP_RPD'), ('કહેવામાં', 'N_NN'), ('આવે', 'V_VAUX'), ('છે', 'V_VAUX'), ('.', 'RD_PUNC')]\n",
            "[('પર્યાવરણ', 'N_NN'), ('કચરાના', 'N_NN'), ('નિકાલ', 'N_NN'), ('માટે', 'PSP'), ('ચૂકવવી', 'N_NN'), ('પડતી', 'N_NN'), ('કિંમત', 'N_NN'), ('`', 'RD_PUNC'), ('ઉત્સર્જન', 'N_NN'), ('કર', 'V_VM'), ('`', 'RD_PUNC'), ('તરીકે', 'PSP'), ('ઓળખાય', 'V_VM'), ('છે', 'V_VAUX'), ('.', 'RD_PUNC')]\n",
            "[('ભારત', 'N_NNP'), ('માટે', 'PSP'), ('એટલું', 'QT_QTC'), ('તો', 'RP_RPD'), ('જરૂરી', 'JJ'), ('કહી', 'V_VM'), ('શકાય', 'V_VAUX'), ('કે', 'CC_CCS'), ('પર્યાવરણને', 'N_NN'), ('લગતી', 'N_NN'), ('સ્થાનિકથી', 'N_NN'), ('લઈ', 'V_VM'), ('વૈશ્વિક', 'V_VAUX_VNP'), ('સ્તરની', 'QT_QTC'), ('સમસ્યાઓ', 'N_NNP'), ('માટેની', 'PSP'), ('સમજણ', 'N_NN'), ('તથા', 'CC_CCD'), ('સજ્જતા', 'N_NN'), ('લાવવી', 'JJ'), ('અત્યંત', 'JJ'), ('જરૂરી', 'JJ'), ('છે', 'V_VAUX'), ('.', 'RD_PUNC')]\n",
            "[('કારણકે', 'CC_CCS'), ('ધંધામાં', 'N_NN'), ('પણ', 'CC_CCD'), ('અનેક', 'JJ'), ('પ્રકારની', 'N_NN'), ('અનિશ્ચિતતાઓ', 'PSP'), ('રહેલી', 'V_VAUX'), ('છે', 'V_VAUX'), ('.', 'RD_PUNC')]\n",
            "[('આયોજનના', 'JJ'), ('આધારે', 'N_NN'), ('જ', 'RP_RPD'), ('બીજાં', 'JJ'), ('કાર્યો', 'N_NN'), (',', 'RD_PUNC'), ('જેવાંકે', 'N_NN'), ('પ્રબંધ', 'N_NN'), (',', 'RD_PUNC'), ('દોરવણી', 'N_NN'), ('અને', 'CC_CCD'), ('અંકુશની', 'CC_CCD'), ('વિચારણા', 'N_NN'), ('થાય', 'V_VM'), ('છે', 'V_VAUX'), ('.', 'RD_PUNC')]\n",
            "[('અને', 'CC_CCD'), ('વેચાણ', 'N_NN'), ('એકસરખું', 'N_NNP'), ('રહે', 'V_VAUX'), ('તો', 'CC_CCD'), ('શું', 'PR_PRQ'), ('?', 'RD_PUNC')]\n",
            "[('દા.ત.', 'CC_CCS_UT'), ('કામના', 'QT_QTF'), ('કલાકો', 'N_NN'), ('દરમિયાન', 'PSP'), ('ધૂમ્રપાન', 'N_NN'), ('નિષેધ', 'N_NN'), ('છે', 'V_VAUX'), ('.', 'RD_PUNC')]\n",
            "[('આયોજન', 'N_NN'), ('એ', 'DM_DMD'), ('અનિશ્ચિતતાઓ', 'JJ'), ('ઘટાડે', 'N_NN'), ('છે', 'V_VAUX'), ('.', 'RD_PUNC')]\n",
            "[('અંદાજપત્રની', 'QT_QTF'), ('માહિતીના', 'N_NN'), ('આધારે', 'N_NN'), ('ધિરાણ', 'N_NN'), ('મેળવવામાં', 'N_NN'), ('સુવિધા', 'N_NN'), ('રહે', 'V_VM'), ('છે', 'V_VAUX'), ('.', 'RD_PUNC')]\n",
            "[('નિષ્ણાતોના', 'N_NN'), ('જ્ઞાનનો', 'JJ'), ('લાભ', 'N_NN'), ('મળતો', 'V_VAUX_VNP'), ('હોવાથી', 'V_VAUX_VNP'), ('સમય', 'N_NN'), ('-', 'RD_PUNC'), ('સંજોગો', 'PSP'), ('અનુસાર', 'PSP'), ('પરિવર્તનશીલતા', 'V_VM'), ('અપનાવી', 'V_VM'), ('શકાય', 'V_VAUX'), ('છે', 'V_VAUX'), ('.', 'RD_PUNC')]\n",
            "[('તેથી', 'PSP'), ('તેનું', 'DM_DMD'), ('અર્થશાસ્ત્રનું', 'N_NN'), ('કાર્યક્ષેત્ર', 'QT_QTF'), ('સતત', 'JJ'), ('બદલાતું', 'JJ'), ('જોવા', 'PSP'), ('મળ્યું', 'N_NN'), ('છે', 'V_VAUX'), ('.', 'RD_PUNC')]\n",
            "[('લોકોમાં', 'N_NNP'), ('ધાર્મિક', 'JJ'), ('લાગણી', 'N_NN'), ('પ્રબળ', 'JJ'), ('હતી', 'V_VAUX'), ('અને', 'CC_CCD'), ('આધ્યાત્મિક', 'CC_CCD'), ('મૂલ્યો', 'N_NN'), ('સર્વોપરી', 'QT_QTC'), ('ગણાતાં', 'N_NN'), ('હતાં', 'V_VAUX'), ('.', 'RD_PUNC')]\n",
            "[('સંપત્તિનો', 'N_NN'), ('અભ્યાસ', 'N_NN'), ('પણ', 'CC_CCD'), ('તેમની', 'N_NN'), ('દૃષ્ટિએ', 'N_NN'), ('ઘૃણાપાત્ર', 'N_NNP'), ('હતો', 'V_VAUX'), ('.', 'RD_PUNC')]\n",
            "[('અર્થશાસ્ત્રને', 'PSP'), ('શુદ્ધ', 'JJ'), ('આર્થિક', 'JJ'), ('માનવી', 'N_NN'), ('સાથે', 'PSP'), ('નિસ્બત', 'N_NN'), ('નથી', 'RP_NEG'), ('.', 'RD_PUNC')]\n",
            "[('રૉબિન્સના', 'N_NN'), ('આ', 'DM_DMD'), ('સૂચિતાર્થ', 'N_NNP'), ('પણ', 'RP_RPD'), ('સ્વીકારતા', 'N_NNP'), ('નથી', 'RP_NEG'), ('.', 'RD_PUNC')]\n",
            "[('કોઈ', 'DM_DMI'), ('એક', 'QT_QTC'), ('જ', 'RP_RPD'), ('વ્યક્તિ', 'N_NN'), ('માટે', 'PSP'), ('પણ', 'RP_RPD'), ('માનવકલ્યાણનો', 'N_NN'), ('અર્થ', 'N_NN'), ('જુદા', 'JJ'), ('જુદા', 'JJ'), ('સમયે', 'N_NN'), ('જુદો', 'JJ'), ('જુદો', 'JJ'), ('હોઈ', 'V_VAUX'), ('શકે', 'V_VAUX'), ('છે', 'V_VAUX'), ('.', 'RD_PUNC')]\n",
            "[('કારણકે', 'CC_CCS'), ('તેની', 'DM_DMD'), ('અભિરુચિ', 'N_NNP'), ('અને', 'CC_CCD'), ('અભિપ્રાયો', 'PSP'), ('બદલાતા', 'N_NN'), ('હોય', 'V_VAUX'), ('છે', 'V_VAUX'), ('.', 'RD_PUNC')]\n",
            "[('પરંતુ', 'CC_CCD'), ('બધા', 'QT_QTF'), ('જ', 'RP_RPD'), ('ઉપયોગો', 'N_NN'), ('એકસાથે', 'PSP'), ('શક્ય', 'JJ'), ('નથી', 'RP_NEG'), ('.', 'RD_PUNC')]\n",
            "[('પાઈપલાઈનનો', 'RB'), ('ઉપયોગ', 'N_NN'), ('પીવાના', 'PSP'), ('પાણીના', 'N_NN'), ('વહન', 'N_NN'), ('માટે', 'PSP'), ('કરવામાં', 'V_VAUX_VNP'), ('આવશે', 'V_VAUX'), ('.', 'RD_PUNC')]\n",
            "[('કેટલીક', 'QT_QTF'), ('સમસ્યાઓ', 'N_NN'), ('આર્થિક', 'JJ'), ('છે', 'V_VAUX'), ('પણ', 'CC_CCD'), ('અછત', 'N_NN'), ('સાથે', 'PSP'), ('સંબંધિત', 'V_VM'), ('નથી', 'RP_NEG'), ('.', 'RD_PUNC')]\n",
            "[('આથી', 'PSP'), ('તેની', 'DM_DMD'), ('પ્રવૃત્તિઓ', 'N_NN'), ('વિશે', 'PSP'), ('ચોક્કસ', 'PSP'), ('આગાહી', 'N_NN'), ('શક્ય', 'JJ'), ('નથી', 'RP_NEG'), ('.', 'RD_PUNC')]\n",
            "[('વાસ્તવદર્શી', 'JJ'), ('વિજ્ઞાન', 'N_NN'), ('આર્થિક', 'JJ'), ('વાસ્તવિક્તાનું', 'N_NN'), ('દર્શન', 'N_NN'), ('કરાવે', 'JJ'), ('છે', 'V_VAUX'), (',', 'RD_PUNC'), ('જ્યારે', 'N_NST'), ('આદર્શલક્ષી', 'JJ'), ('વિજ્ઞાન', 'N_NN'), ('આદર્શોની', 'JJ'), ('સ્થાપના', 'N_NN'), ('કરે', 'V_VM'), ('છે', 'V_VAUX'), ('.', 'RD_PUNC')]\n",
            "[('આ', 'DM_DMD'), ('પ્રશ્નોનો', 'N_NN'), ('અભ્યાસ', 'N_NN'), ('વાસ્તવદર્શી', 'JJ'), ('અર્થશાસ્ત્ર', 'N_NN'), ('વિષય', 'N_NN'), ('છે', 'V_VAUX'), ('.', 'RD_PUNC')]\n",
            "[('એ', 'DM_DMD'), ('અર્થશાસ્ત્રનો', 'JJ'), ('અભ્યાસ', 'N_NN'), ('કરવામાં', 'V_VAUX_VNP'), ('આવે', 'V_VM'), ('તોજ', 'RP_RPD'), ('શક્ય', 'JJ'), ('બને', 'V_VM'), ('છે', 'V_VAUX'), ('.', 'RD_PUNC')]\n",
            "[('વર્તમાન', 'N_NN'), ('વપરાશનું', 'N_NN'), ('બલિદાન', 'N_NN'), ('આપીને', 'N_NST'), ('સમાજ', 'N_NN'), ('ભવિષ્યમાં', 'N_NN'), ('વધુ', 'QT_QTF'), ('વપરાશી', 'JJ'), ('વસ્તુઓ', 'N_NN'), ('મેળવી', 'V_VM'), ('શકશે', 'V_VAUX'), ('.', 'RD_PUNC')]\n",
            "[('સમાજના', 'JJ'), ('જુદા', 'JJ'), ('જુદા', 'JJ'), ('વર્ગો', 'N_NN'), ('વચ્ચે', 'N_NST'), ('રાષ્ટ્રીય', 'JJ'), ('ઉત્પાદનની', 'N_NN'), ('વહેંચણીનો', 'N_NN'), ('આધાર', 'N_NN'), ('મુખ્યત્વે', 'JJ'), ('આવકની', 'N_NN'), ('વહેંચણી', 'N_NN'), ('પર', 'PSP'), ('હોય', 'V_VAUX'), ('છે', 'V_VAUX'), ('.', 'RD_PUNC')]\n",
            "[('તેઓ', 'PR_PRP'), ('રાષ્ટ્રીય', 'JJ'), ('ઉત્પાદનનો', 'N_NN'), ('વધુ', 'QT_QTF'), ('હિસ્સો', 'N_NN'), ('લઈ', 'V_VM'), ('જાય', 'V_VAUX'), ('છે', 'V_VAUX'), ('.', 'RD_PUNC')]\n",
            "[('ઉત્પાદનની', 'JJ'), ('કાર્યક્ષમતા', 'N_NN'), ('એટલે', 'PSP'), ('સાધનોની', 'N_NN'), ('એવી', 'N_NN'), ('ફાળવણી', 'N_NN'), ('કે', 'CC_CCS'), ('જેમાં', 'PR_PRL'), ('ફેરફાર', 'N_NN'), ('કરવામાં', 'V_VAUX_VNP'), ('આવે', 'V_VAUX'), ('તો', 'CC_CCD'), ('કુલ', 'JJ'), ('ઉત્પાદન', 'N_NN'), ('ઘટી', 'V_VM'), ('જાય', 'V_VAUX'), ('.', 'RD_PUNC')]\n",
            "[('આર્થિક', 'JJ'), ('કાર્યક્ષમતા', 'JJ'), ('સિદ્ધ', 'JJ'), ('કરવામાં', 'JJ'), ('આવે', 'V_VM'), ('ત્યારે', 'N_NST'), ('ટેકનિકલ', 'JJ'), ('કાર્યક્ષમતા', 'N_NN'), ('પણ', 'RP_RPD'), ('સિદ્ધ', 'JJ'), ('થઈ', 'V_VM'), ('ગઈ', 'V_VAUX'), ('હોય', 'V_VAUX'), ('છે', 'V_VAUX'), ('.', 'RD_PUNC')]\n",
            "[('અર્થશાસ્ત્રની', 'N_NNP'), ('પરિભાષામાં', 'PR_PRP'), ('કહીએ', 'JJ'), ('તો', 'CC_CCD'), ('અનૈચ્છિક', 'N_NN'), ('બેરોજગારી', 'N_NN'), ('શૂન્ય', 'N_NN'), ('હોવી', 'N_NN'), ('જોઈએ', 'V_VAUX'), ('.', 'RD_PUNC')]\n",
            "[('સમાજે', 'N_NN'), ('ઉત્પાદનશક્યતા', 'N_NN'), ('રેખા', 'N_NN'), ('પર', 'PSP'), ('એક', 'QT_QTC'), ('બિંદુએથી', 'JJ'), ('બીજા', 'JJ'), ('બિંદુએ', 'N_NN'), ('ગતિ', 'N_NN'), ('કરવી', 'JJ'), ('પડશે', 'V_VAUX'), ('.', 'RD_PUNC')]\n",
            "[('પણ', 'CC_CCD'), ('પરોક્ષ', 'JJ'), ('રીતે', 'N_NN'), ('એ', 'DM_DMD'), ('અંગે', 'PSP'), ('માહિતી', 'N_NN'), ('મેળવી', 'V_VM'), ('શકાય', 'V_VAUX'), ('.', 'RD_PUNC')]\n",
            "[('ભારતીય', 'JJ'), ('તત્ત્વવિચારની', 'JJ'), ('ગંગોત્રી', 'N_NNP'), ('વેદ', 'N_NNP'), ('છે', 'V_VAUX'), ('.', 'RD_PUNC')]\n",
            "[('વેદ', 'N_NNP'), ('એ', 'DM_DMD'), ('ભારતનું', 'N_NNP'), ('પ્રાચીનતમ', 'N_NN'), ('સાહિત્ય', 'N_NN'), ('છે', 'V_VAUX'), ('.', 'RD_PUNC')]\n",
            "[('પછીથી', 'PSP'), ('હજારોની', 'RB'), ('સંખ્યામાં', 'RB'), ('વેદમંત્રો', 'RB'), ('પ્રગટ', 'JJ'), ('થયા', 'V_VM'), ('ત્યારે', 'N_NST'), ('એને', 'DM_DMD'), ('ચાર', 'QT_QTC'), ('જુદા', 'JJ'), ('જુદા', 'JJ'), ('જૂથોમાં', 'N_NN'), ('(', 'RD_SYM'), ('સંહિતા', 'V_VM'), (')', 'RD_SYM'), ('વહેંચવામાં', 'V_VM'), ('આવ્યા', 'V_VM'), ('.', 'RD_PUNC')]\n",
            "[('કલ્પ', 'N_NN'), (':', 'RD_PUNC'), ('યજ્ઞયાગની', 'N_NN'), ('ક્રિયાઓનો', 'JJ'), ('વિધિ', 'N_NN'), ('બતાવનાર', 'N_NN'), ('ગ્રંથ', 'N_NN'), ('.', 'RD_PUNC')]\n",
            "[('છંદ', 'RD_PUNC'), (':', 'RD_PUNC'), ('આ', 'DM_DMD'), ('સંબંધી', 'N_NN'), ('વેદાંગગ્રંથ', 'N_NNP'), ('પિંગલ', 'N_NNP'), ('નામના', 'N_NN'), ('આચાર્યે', 'N_NN'), ('રચેલો', 'PSP'), ('છે', 'V_VAUX'), ('.', 'RD_PUNC')]\n",
            "[('આમ', 'PSP'), (',', 'RD_PUNC'), ('વ્યાપક', 'JJ'), ('રીતે', 'N_NN'), ('`', 'RD_PUNC'), ('સ્મૃતિમાં', 'N_NN'), ('`', 'RD_PUNC'), ('ધર્મશાસ્ત્રો', 'N_NN'), (',', 'RD_PUNC'), ('દર્શનશાસ્ત્રો', 'N_NN'), (',', 'RD_PUNC'), ('ઇતિહાસ', 'RD_PUNC'), ('તથા', 'CC_CCD'), ('પુરાણનો', 'N_NN'), ('સમાવેશ', 'N_NN'), ('થાય', 'V_VM'), ('છે', 'V_VAUX'), ('.', 'RD_PUNC')]\n",
            "[('અથવા', 'CC_CCD'), ('સાંખ્ય', 'N_NN'), ('એટલે', 'PSP'), ('વિવેકજ્ઞાન', 'N_NN'), ('.', 'RD_PUNC')]\n",
            "[('પ્રકૃતિ', 'N_NN'), ('જડ', 'N_NN'), ('હોવાથી', 'CC_CCS_UT'), ('કેવળ', 'PSP'), ('તેનાથી', 'DM_DMD'), ('જગતનું', 'N_NN'), ('નિર્માણ', 'N_NN'), ('થઈ', 'V_VM'), ('શકે', 'V_VAUX'), ('નહીં', 'RP_NEG'), ('.', 'RD_PUNC')]\n",
            "[('પ્રકૃતિથી', 'N_NN'), ('ઉત્પન્ન', 'JJ'), ('થતાં', 'N_NN'), ('તત્ત્વો', 'N_NN'), ('કયા', 'DM_DMQ'), ('ક્રમે', 'N_NN'), ('ઉત્પન્ન', 'JJ'), ('થાય', 'V_VM'), ('છે', 'V_VAUX'), ('તેનું', 'DM_DMD'), ('વર્ણન', 'N_NN'), ('સાંખ્યદર્શન', 'N_NN'), ('કરે', 'V_VM'), ('છે', 'V_VAUX'), ('.', 'RD_PUNC')]\n",
            "[('એટલેકે', 'PSP'), ('પોતાની', 'PR_PRF'), ('સ્વતંત્રતા', 'N_NN'), ('ગુમાવી', 'N_NN'), ('જડ', 'N_NN'), ('પ્રકૃતિથી', 'N_NN'), ('બદ્ધ', 'N_NN'), ('બને', 'V_VM'), ('છે', 'V_VAUX'), ('.', 'RD_PUNC')]\n",
            "[('એમાં', 'DM_DMD'), ('સાધનોની', 'N_NN'), ('ચર્ચા', 'N_NN'), ('હોવાથી', 'V_VAUX_VNP'), ('લગભગ', 'PSP'), ('દરેક', 'JJ'), ('માર્ગના', 'N_NN'), ('સાધકને', 'N_NN'), ('તેમાંથી', 'N_NN'), ('યોગ્ય', 'JJ'), ('માર્ગદર્શન', 'N_NN'), ('મળી', 'V_VM'), ('રહે', 'V_VAUX'), ('છે', 'V_VAUX'), ('.', 'RD_PUNC')]\n",
            "[('અષ્ટાંગયોગની', 'PSP'), ('સાધનાથી', 'JJ'), ('મનને', 'N_NN'), ('બાહ્ય', 'JJ'), ('વિષયોમાંથી', 'JJ'), ('ખેંચી', 'V_VM'), ('શકાય', 'V_VAUX'), ('છે', 'V_VAUX'), ('.', 'RD_PUNC')]\n",
            "[('આમાં', 'DM_DMD'), ('પહેલો', 'N_NN'), ('જે', 'PR_PRL'), ('`', 'RD_PUNC'), ('દ્રવ્ય', 'N_NNP'), ('`', 'RD_PUNC'), ('નામનો', 'N_NN'), ('પદાર્થ', 'N_NN'), ('છે', 'V_VAUX'), ('તે', 'DM_DMD'), ('બાકીના', 'JJ'), ('બધા', 'QT_QTF'), ('પદાર્થોનો', 'N_NN'), ('આધાર', 'N_NN'), ('બને', 'V_VM'), ('છે', 'V_VAUX'), ('.', 'RD_PUNC')]\n",
            "[('પરમાણુઓ', 'N_NN'), ('નિત્ય', 'N_NN'), ('છે', 'V_VAUX'), ('પણ', 'CC_CCD'), ('એમાંથી', 'DM_DMD'), ('ઉત્પન્ન', 'JJ'), ('થતા', 'N_NN'), ('પદાર્થો', 'N_NN'), ('અનિત્ય', 'N_NN'), ('છે', 'V_VAUX'), ('-', 'RD_PUNC'), ('એમનો', 'PR_PRP'), ('નાશ', 'N_NN'), ('થઈ', 'V_VM'), ('શકે', 'V_VAUX'), ('છે', 'V_VAUX'), ('.', 'RD_PUNC')]\n",
            "[('આનો', 'DM_DMD'), ('ઉપાય', 'N_NN'), ('યથાર્થ', 'JJ'), ('જ્ઞાન', 'N_NN'), ('મેળવવું', 'N_NN'), ('એ', 'DM_DMD'), ('છે', 'V_VAUX'), ('.', 'RD_PUNC')]\n",
            "[('એમાં', 'DM_DMD'), ('ઈશ્વર', 'N_NN'), ('જગતનો', 'N_NN'), ('કર્તા', 'N_NN'), ('છે', 'V_VAUX'), (',', 'RD_PUNC'), ('પણ', 'CC_CCD'), ('એ', 'DM_DMD'), ('શૂન્યમાંથી', 'N_NN'), ('સર્જન', 'N_NN'), ('કરનાર', 'V_VAUX_VNP'), ('નથી', 'RP_NEG'), ('.', 'RD_PUNC')]\n",
            "[('યથાર્થ', 'JJ'), ('જ્ઞાનથી', 'QT_QTC'), ('દુ:ખનો', 'N_NN'), ('અંત', 'N_NN'), ('આવે', 'V_VM'), ('છે', 'V_VAUX'), ('.', 'RD_PUNC')]\n",
            "[('આમ', 'PSP'), ('મીમાંસકોને', 'N_NN'), ('મતે', 'N_NN'), ('કોઈ', 'DM_DMI'), ('પણ', 'RP_RPD'), ('જીવાત્માનો', 'JJ'), ('કાયમને', 'JJ'), ('માટે', 'PSP'), ('મોક્ષ', 'N_NN'), ('થતો', 'V_VAUX_VNP'), ('નથી', 'RP_NEG'), ('.', 'RD_PUNC')]\n",
            "[('બ્રહ્મસૂત્ર', 'N_NNP'), ('`', 'RD_PUNC'), ('પર', 'PSP'), ('વિવિધ', 'PSP'), ('ભાષ્ય', 'PSP'), ('રચાયાં', 'JJ'), ('છે', 'V_VAUX'), ('.', 'RD_PUNC')]\n",
            "[('જે', 'PR_PRL'), ('છે', 'V_VAUX'), ('તે', 'PR_PRL'), ('એ', 'DM_DMD'), ('જ', 'RP_RPD'), ('છે', 'V_VAUX'), (',', 'RD_PUNC'), ('એટલું', 'JJ'), ('જ', 'RP_RPD'), ('છે', 'V_VAUX'), ('.', 'RD_PUNC')]\n",
            "[('એક', 'QT_QTC'), ('તરફથી', 'PSP'), ('જોતાં', 'N_NN'), ('જે', 'PR_PRL'), ('માયાનું', 'N_NN'), ('કાર્ય', 'N_NN'), ('છે', 'V_VAUX'), (',', 'RD_PUNC'), ('તે', 'DM_DMD'), ('બીજી', 'JJ'), ('તરફથી', 'PSP'), ('જોતાં', 'N_NN'), ('જીવના', 'N_NN'), ('અજ્ઞાનનું', 'JJ'), ('કાર્ય', 'N_NN'), ('છે', 'V_VAUX'), ('.', 'RD_PUNC')]\n",
            "[('પારમાર્થિક', 'N_NN'), ('સત્તા', 'N_NN'), (':', 'RD_PUNC'), ('સર્વ', 'JJ'), ('સત્તામાં', 'V_VM'), ('અનુસ્યુત', 'N_NN'), ('શુદ્ધ', 'JJ'), ('સત્તા', 'V_VM'), (',', 'RD_PUNC'), ('જેનો', 'PR_PRL'), ('નિષેધ', 'N_NN'), ('થઈ', 'V_VM'), ('શકતો', 'V_VAUX'), ('નથી', 'RP_NEG'), (',', 'RD_PUNC'), ('તે', 'DM_DMD'), ('પારમાર્થિક', 'JJ'), ('સત્તા', 'N_NN'), ('.', 'RD_PUNC')]\n",
            "[('બ્રહ્મ', 'N_NNP'), ('અને', 'CC_CCD'), ('જીવનો', 'QT_QTC'), ('સંબંધ', 'N_NN'), ('બિંબ', 'N_NN'), ('પ્રતિબિંબના', 'JJ'), ('પ્રકારનો', 'N_NN'), ('લેખી', 'JJ'), ('શકાય', 'V_VAUX'), ('.', 'RD_PUNC')]\n",
            "[('બ્રહ્મ', 'N_NNP'), ('જ્યારે', 'N_NST'), ('માયાશક્તિથી', 'N_NN'), ('યુક્ત', 'N_NN'), ('બને', 'V_VM'), ('છે', 'V_VAUX'), ('ત્યારે', 'N_NST'), ('એ', 'DM_DMD'), ('ઈશ્વર', 'N_NN'), ('કહેવાય', 'JJ'), ('છે', 'V_VAUX'), ('.', 'RD_PUNC')]\n",
            "[('ઉત્ક્રાંતિના', 'RD_PUNC'), ('આ', 'DM_DMD'), ('તબક્કાઓને', 'N_NN'), ('કેટલીક', 'N_NNP'), ('વાર', 'N_NN'), ('નિદ્રા', 'N_NN'), (',', 'RD_PUNC'), ('સ્વપ્ન', 'V_VM'), ('અને', 'CC_CCD'), ('જાગ્રત', 'JJ'), ('એ', 'DM_DMD'), ('અવસ્થાઓની', 'N_NNP'), ('સાથે', 'PSP'), ('સરખાવવામાં', 'N_NN'), ('આવે', 'V_VM'), ('છે', 'V_VAUX'), ('.', 'RD_PUNC')]\n",
            "[('આત્મસાક્ષાત્કાર', 'DM_DMD'), ('માટે', 'PSP'), ('શંકરાચાર્ય', 'N_NNP'), ('સંન્યાસને', 'N_NN'), ('આવશ્યક', 'JJ'), ('ગણે', 'V_VM'), ('છે', 'V_VAUX'), ('.', 'RD_PUNC')]\n",
            "[('શંકરાચાર્ય', 'N_NNP'), ('વિવર્તવાદમાં', 'N_NN'), ('માને', 'V_VM'), ('છે', 'V_VAUX'), ('.', 'RD_PUNC')]\n",
            "[('ઉંબાડિયું', 'N_NN'), ('ઘૂમતું', 'QT_QTC'), ('બંધ', 'JJ'), ('થાય', 'V_VM'), ('ત્યારે', 'N_NST'), ('એ', 'DM_DMD'), ('આકૃતિઓ', 'N_NN'), ('અન્યત્ર', 'V_VM'), ('જતી', 'V_VM'), ('રહેતી', 'N_NN'), ('નથી', 'RP_NEG'), ('કે', 'CC_CCS'), ('ઉંબાડિયામાં', 'QT_QTC'), ('લય', 'N_NN'), ('પામતી', 'V_VM'), ('નથી', 'RP_NEG'), ('.', 'RD_PUNC')]\n",
            "[('આ', 'DM_DMD'), ('ત્રણે', 'QT_QTC'), ('દર્શનો', 'N_NN'), ('જગતકર્તા', 'N_NNP'), ('-', 'RD_PUNC'), ('સંહર્તા', 'N_NN'), ('ઈશ્વરમાં', 'V_VM'), ('માનતાં', 'N_NN'), ('નથી', 'RP_NEG'), ('.', 'RD_PUNC')]\n",
            "[('પુરાણોએ', 'N_NN'), ('અનેક', 'JJ'), ('દેવવાદ', 'N_NN'), (',', 'RD_PUNC'), ('અવતારવાદ', 'N_NN'), (',', 'RD_PUNC'), ('તીર્થયાત્રા', 'N_NN'), (',', 'RD_PUNC'), ('વર્ણાશ્રમધર્મ', 'N_NN'), ('વગેરેનો', 'PSP'), ('પ્રચાર', 'N_NN'), ('કર્યો', 'V_VM'), ('.', 'RD_PUNC')]\n",
            "[('ભારતમાં', 'N_NNP'), ('મુસ્લિમ', 'JJ'), ('રાજ્યઅમલ', 'N_NN'), ('વ્યાપક', 'JJ'), ('બનતાં', 'JJ'), ('ઈસ્લામધર્મનું', 'V_VAUX_VNP'), ('એક', 'QT_QTC'), ('નવું', 'JJ'), ('પરિબળ', 'N_NN'), ('ઉમેરાય', 'V_VM'), ('છે', 'V_VAUX'), ('.', 'RD_PUNC')]\n",
            "[('એટલામાટે', 'PSP'), ('વ્યક્તિ', 'N_NN'), ('ચાલે', 'N_NN'), ('છે', 'V_VAUX'), ('.', 'RD_PUNC')]\n",
            "[('તે', 'DM_DMD'), ('રોડ', 'N_NNP'), ('પર', 'PSP'), ('ચાલે', 'JJ'), ('છે', 'V_VAUX'), ('અને', 'CC_CCD'), ('બાજુમાંથી', 'N_NNP'), ('હજારો', 'N_NN'), ('વાહનો', 'N_NN'), ('પસાર', 'JJ'), ('થાય', 'V_VM'), ('છે', 'V_VAUX'), ('.', 'RD_PUNC')]\n",
            "[('નિંદ્રા', 'N_NN'), ('અને', 'CC_CCD'), ('મૃત્યુમાં', 'N_NNP'), ('ઘણુ', 'N_NN'), ('સામ્ય', 'N_NN'), ('છે', 'V_VAUX'), ('.', 'RD_PUNC')]\n",
            "[('પ્રકૃતિનો', 'N_NN'), ('સાથ', 'N_NN'), ('મળ્યા', 'N_NN'), ('વિના', 'PSP'), ('માનવ', 'N_NN'), ('સાધક', 'N_NN'), ('બની', 'V_VM'), ('શકતો', 'V_VAUX_VNP'), ('નથી', 'RP_NEG'), ('.', 'RD_PUNC')]\n",
            "[('કારણકે', 'CC_CCS'), ('જ્યાં', 'N_NST'), ('સુધી', 'PSP'), ('તમે', 'PR_PRP'), ('માયાને', 'N_NNP'), ('છોડશો', 'JJ'), ('નહિ', 'RP_NEG'), ('ત્યાં', 'N_NST'), ('સુધી', 'PSP'), ('પ્રકૃતિ', 'N_NN'), ('પાસે', 'PSP'), ('જઈ', 'V_VM'), ('શકશો', 'V_VAUX'), ('નહિ', 'RP_NEG'), ('.', 'RD_PUNC')]\n",
            "[('કેમ', 'PR_PRQ'), ('તે', 'DM_DMD'), ('મરી', 'V_VM'), ('ગયો', 'V_VAUX'), ('?', 'RD_PUNC')]\n",
            "[('તમારામાં', 'PR_PRP'), ('એમ', 'PSP'), ('કહેવાની', 'JJ'), ('ક્ષમતા', 'JJ'), ('નથી', 'RP_NEG'), ('આવી', 'V_VM'), ('શકતી', 'V_VAUX'), ('.', 'RD_PUNC')]\n",
            "[('જો', 'CC_CCD'), ('કોઈ', 'DM_DMI'), ('ગુરુ', 'N_NN'), ('તમારી', 'PR_PRP'), ('સામે', 'PSP'), ('હાથ', 'N_NN'), ('જોડે', 'PSP'), (',', 'RD_PUNC'), ('વિનંતી', 'N_NN'), ('કરે', 'V_VM'), ('તો', 'CC_CCD'), ('તે', 'DM_DMD'), ('ગુરુ', 'N_NN'), ('નહીં', 'RP_NEG'), ('બની', 'V_VM'), ('શકે', 'V_VAUX'), ('.', 'RD_PUNC')]\n",
            "[('ભારતીય', 'JJ'), ('સંસ્કૃતિ', 'N_NN'), ('અને', 'CC_CCD'), ('તેના', 'DM_DMD'), ('ઇતિહાસની', 'QT_QTC'), ('વાત', 'N_NN'), ('કરવામાં', 'V_VAUX_VNP'), ('આવે', 'V_VAUX'), ('છે', 'V_VAUX'), ('.', 'RD_PUNC')]\n",
            "[('ધર્મ', 'N_NN'), ('અને', 'CC_CCD'), ('સંસ્કૃતિઓના', 'QT_QTC'), ('સંદર્ભમાં', 'N_NN'), ('પ્રત્યેક', 'JJ'), ('ઘટનાઓનું', 'PR_PRP'), ('સૂક્ષ્મ', 'JJ'), (',', 'RD_PUNC'), ('બારીકાઈપૂર્વક', 'N_NN'), ('અને', 'CC_CCD'), ('સત્ય', 'N_NN'), ('હકીકતોનું', 'RD_RDF'), ('સુચારું', 'JJ'), ('વર્ણન', 'CC_CCD'), ('કરવામાં', 'V_VM'), ('આવ્યું', 'V_VAUX'), ('છે', 'V_VAUX'), ('ખરું', 'V_VAUX'), ('!', 'RD_PUNC')]\n",
            "[('૭', 'QT_QTC'), ('ટુંકા', 'N_NN'), ('અને', 'CC_CCD'), ('આવા', 'JJ'), ('સેંકડો', 'JJ'), ('પ્રકારના', 'N_NN'), ('આધાર', 'N_NN'), ('પુરાવાથી', 'PSP'), ('એ', 'DM_DMD'), ('સ્પષ્ટ', 'JJ'), ('સાબિત', 'JJ'), ('થઈ', 'V_VM'), ('જાય', 'V_VAUX'), ('છે', 'V_VAUX'), ('કે', 'CC_CCS'), (',', 'RD_PUNC'), ('``', 'RD_PUNC'), ('વેદ', 'N_NNP'), ('``', 'RD_PUNC'), ('એ', 'DM_DMD'), ('ઈશ્વરસર્જિત', 'V_VM'), ('નથી', 'RP_NEG'), (',', 'RD_PUNC'), ('પરંતુ', 'CC_CCD'), ('માનવસર્જિત', 'N_NN'), ('રચનાઓ', 'N_NN'), ('છે', 'V_VAUX'), ('.', 'RD_PUNC')]\n",
            "[('જેમાં', 'PR_PRL'), ('અનેક', 'JJ'), ('દેવ', 'N_NN'), ('-', 'RD_PUNC'), ('દેવીઓના', 'N_NNP'), ('ગુણગાન', 'N_NN'), ('છે', 'V_VAUX'), ('.', 'RD_PUNC')]\n",
            "[('``', 'RD_PUNC'), ('ઐહિક', 'N_NNP'), ('અને', 'CC_CCD'), ('પારમાર્થિક', 'JJ'), ('``', 'RD_PUNC'), ('બન્ને', 'JJ'), ('વાતોની', 'N_NN'), ('જરૂર', 'N_NN'), ('છે', 'V_VAUX'), ('.', 'RD_PUNC')]\n",
            "[('સ્વામીવિવેકાનંદે', 'N_NN'), ('કહ્યું', 'V_VM'), ('છે', 'V_VAUX'), ('કે', 'CC_CCS'), (',', 'RD_PUNC'), ('ઈહલોક', 'JJ'), ('અને', 'CC_CCD'), ('પરલોક', 'N_NN'), ('બે', 'QT_QTC'), ('બચ્ચાઓને', 'JJ'), ('બીવડાવવાના', 'N_NN'), ('શબ્દો', 'N_NN'), ('છે', 'V_VAUX'), (',', 'RD_PUNC'), ('બધું', 'QT_QTF'), ('અહીં', 'N_NST'), ('જ', 'RP_RPD'), ('છે', 'V_VAUX'), ('.', 'RD_PUNC')]\n",
            "[('સાચા', 'JJ'), ('ધર્મમાં', 'N_NN'), ('પોથી', 'N_NNP'), ('-', 'RD_PUNC'), ('વિદ્યાને', 'N_NN'), ('પ્રવેશવાનો', 'N_NN'), ('કશો', 'DM_DMI'), ('અધિકાર', 'N_NN'), ('નથી', 'RP_NEG'), ('.', 'RD_PUNC')]\n",
            "[('સ્વતંત્રતા', 'N_NN'), ('એ', 'DM_DMD'), ('ધર્મ', 'N_NN'), ('છે', 'V_VAUX'), (',', 'RD_PUNC'), ('પરતંત્રતા', 'N_NN'), ('એ', 'DM_DMD'), ('પાપ', 'N_NN'), ('છે', 'V_VAUX'), ('.', 'RD_PUNC')]\n",
            "[('બીજાઓને', 'N_NN'), ('ચાહવા', 'N_NN'), ('એ', 'DM_DMD'), ('ધર્મ', 'N_NN'), ('છે', 'V_VAUX'), (',', 'RD_PUNC'), ('અને', 'CC_CCD'), ('માનવને', 'N_NN'), ('ધિક્કારવા', 'N_NN'), ('એ', 'DM_DMD'), ('પાપ', 'N_NN'), ('છે', 'V_VAUX'), ('.', 'RD_PUNC')]\n",
            "[('આપણે', 'PR_PRP'), ('હંમેશા', 'PSP'), ('``', 'RD_PUNC'), ('લાગણીવેડાને', 'N_NNP'), ('``', 'RD_PUNC'), ('કર્તવ્ય', 'N_NN'), ('સ્થાન', 'N_NN'), ('પચાવી', 'N_NN'), ('પાડવા', 'N_NN'), ('દઈએ', 'N_NNP'), ('છીએ', 'V_VAUX'), ('.', 'RD_PUNC')]\n",
            "[('જ્યારે', 'N_NST'), ('નૈતિકતા', 'JJ'), ('જીવન', 'N_NN'), ('માટેના', 'PSP'), ('નિયમો', 'N_NN'), ('બનાવે', 'JJ'), ('છે', 'V_VAUX'), ('.', 'RD_PUNC')]\n",
            "[('માત્ર', 'RP_RPD'), ('બાપ', 'N_NN'), ('-', 'RD_PUNC'), ('દાદાની', 'N_NN'), (',', 'RD_PUNC'), ('કાલ્પનિક', 'N_NN'), ('શાસ્ત્રો', 'N_NN'), ('વિશેની', 'V_VM'), ('મોટાઈ', 'JJ'), ('કે', 'CC_CCS'), ('બડાઈ', 'N_NN'), ('હાંકનાર', 'QT_QTC'), ('વ્યક્તિ', 'N_NN'), ('જગતમાં', 'N_NN'), ('હાંસીપાત્ર', 'QT_QTC'), ('બને', 'V_VM'), ('છે', 'V_VAUX'), ('.', 'RD_PUNC')]\n",
            "[('રાષ્ટ્રની', 'N_NN'), ('એકતા', 'N_NN'), ('માટે', 'PSP'), ('તે', 'DM_DMD'), ('અનિવાર્ય', 'JJ'), ('કહી', 'V_VM'), ('શકાય', 'V_VAUX'), ('.', 'RD_PUNC')]\n",
            "[('ભારતના', 'N_NNP'), ('અનુસંધાને', 'JJ'), ('પડોશી', 'N_NN'), ('રાષ્ટ્રો', 'N_NN'), ('પ્રતિ', 'PSP'), ('સીમાઓ', 'RD_PUNC'), ('વધારવાની', 'N_NN'), ('નથી', 'RP_NEG'), ('પરંતુ', 'CC_CCD'), ('સ્વદેશની', 'N_NN'), ('સરહદોમાં', 'N_NN'), ('સુખ', 'N_NN'), (',', 'RD_PUNC'), ('શાંતિ', 'N_NN'), ('અને', 'CC_CCD'), ('પ્રગતિ', 'N_NN'), ('સાથે', 'PSP'), ('સાથે', 'PSP'), ('``', 'RD_PUNC'), ('વિશ્વ', 'N_NN'), ('એક', 'QT_QTC'), ('કુટુંબ', 'JJ'), ('છે', 'V_VAUX'), ('``', 'RD_PUNC'), ('એવી', 'N_NNP'), ('ઉદાત્ત', 'JJ'), ('ભાવનાનું', 'N_NN'), ('નિર્માણ', 'N_NN'), ('કરવાનું', 'JJ'), ('છે', 'V_VAUX'), ('.', 'RD_PUNC')]\n",
            "[('ભારતીયતા', 'N_NN'), ('એ', 'DM_DMD'), ('એક', 'QT_QTC'), ('અતૂટ', 'JJ'), ('વિશ્વાસ', 'N_NN'), ('છે', 'V_VAUX'), (',', 'RD_PUNC'), ('ભારતીયોની', 'JJ'), ('ઓળખાણ', 'N_NN'), ('છે', 'V_VAUX'), (',', 'RD_PUNC'), ('ભારતીયપણાની', 'N_NN'), ('ઉદાત્ત', 'JJ'), ('ભાવના', 'N_NN'), ('છે', 'V_VAUX'), ('.', 'RD_PUNC')]\n",
            "[('તે', 'DM_DMD'), ('માનવતાવાદી', 'N_NN'), ('ભાવનના', 'N_NN'), ('રૂપે', 'N_NN'), ('એક', 'QT_QTC'), ('જીવંત', 'JJ'), ('શક્તિ', 'N_NN'), ('છે', 'V_VAUX'), ('.', 'RD_PUNC')]\n",
            "[('તે', 'DM_DMD'), ('એક', 'QT_QTC'), ('વ્યક્તિ', 'N_NN'), ('અને', 'CC_CCD'), ('સમાજ', 'N_NNP'), ('વચ્ચે', 'N_NST'), ('સંતુલન', 'N_NN'), ('-', 'RD_PUNC'), ('સમાનતા', 'N_NN'), ('સ્થાપિત', 'N_NN'), ('કરવાનું', 'JJ'), ('મહત્ત્વનું', 'JJ'), ('સાધન', 'N_NN'), ('છે', 'V_VAUX'), ('.', 'RD_PUNC')]\n",
            "[('૧૯૬૦ના', 'QT_QTC'), ('દાયકાના', 'N_NN'), ('અંતભાગમાં', 'N_NN'), ('૨.૧૨', 'N_NN'), ('ટકા', 'N_NN'), ('વસ્તીવધારાના', 'N_NN'), ('દરમાં', 'N_NN'), ('ઘટાડો', 'N_NN'), ('થઈ', 'V_VM'), ('આજે', 'N_NST'), ('૧.૮', 'QT_QTC'), ('ટકા', 'N_NN'), ('થયો', 'V_VM'), ('છે', 'V_VAUX'), ('.', 'RD_PUNC')]\n",
            "[('આમ', 'PSP'), ('છતાં', 'RP_RPD'), ('દર', 'PSP'), ('વર્ષે', 'N_NN'), ('માનવવસ્તીમાં', 'JJ'), ('થતો', 'V_VAUX_VNP'), ('ઉમેરો', 'N_NN'), ('હવે', 'N_NST'), ('૯૩૦', 'QT_QTC'), ('લાખ', 'N_NN'), ('છે', 'V_VAUX'), ('જે', 'PR_PRL'), ('સર્વાધિક', 'N_NN'), ('સંખ્યા', 'N_NN'), ('છે', 'V_VAUX'), ('.', 'RD_PUNC')]\n",
            "[('પ્રતિ', 'PSP'), ('વર્ષ', 'N_NN'), ('એક', 'QT_QTC'), ('ટન', 'N_NN'), ('અનાજ', 'N_NN'), ('પુખ્ત', 'PSP'), ('વયની', 'N_NN'), ('૪', 'QT_QTC'), ('વ્યક્તિને', 'N_NN'), ('સરેરાશ', 'PSP'), ('ભોજન', 'N_NN'), ('અને', 'CC_CCD'), ('પુખ્ત', 'N_NN'), ('વયની', 'N_NN'), ('૫', 'QT_QTC'), ('વ્યક્તિને', 'N_NN'), ('ગુજરાન', 'N_NN'), ('પૂરતું', 'JJ'), ('ભોજન', 'N_NN'), ('પૂરું', 'JJ'), ('પાડે', 'V_VM'), ('છે', 'V_VAUX'), ('.', 'RD_PUNC')]\n",
            "[('જ્યારે', 'N_NST'), ('ઘણાં', 'QT_QTF'), ('બધાં', 'N_NN'), ('મોંને', 'N_NN'), ('ખોરાક', 'N_NN'), ('પૂરો', 'JJ'), ('પાડવાનો', 'N_NN'), ('હોતો', 'V_VAUX'), ('નથી', 'RP_NEG'), ('ત્યારે', 'N_NST'), ('કૃષિ', 'N_NN'), ('અર્થકારણની', 'N_NN'), ('વ્યૂહરચનાઓને', 'N_NN'), ('સાધનોના', 'N_NN'), ('પાયાની', 'N_NN'), ('વાતાવરણને', 'N_NN'), ('લગતી', 'V_VAUX_VNP'), ('પરિસ્થિતિમાં', 'N_NN'), ('સ્થિરતા', 'N_NN'), ('સાંપડે', 'V_VM'), ('છે', 'V_VAUX'), ('.', 'RD_PUNC')]\n",
            "[('વળી', 'PSP'), (',', 'RD_PUNC'), ('હાલના', 'PSP'), ('વૃદ્ધિવલણો', 'N_NN'), ('પણ', 'RP_RPD'), ('પ્રોત્સાહક', 'N_NN'), ('નથી', 'RP_NEG'), ('.', 'RD_PUNC')]\n",
            "[('વધુમાં', 'QT_QTF'), (',', 'RD_PUNC'), ('વનોનું', 'N_NN'), ('નિકંદન', 'N_NN'), ('વધુ', 'QT_QTF'), ('ઝડપથી', 'RB'), ('પ્રેરે', 'N_NN'), ('તેવા', 'JJ'), ('વધુ', 'QT_QTF'), ('મોટા', 'JJ'), ('પ્રમાણમાં', 'N_NN'), ('હરતાફરતા', 'JJ'), ('ખેડૂતોના', 'N_NN'), ('ટોળાં', 'JJ'), ('ઊભાં', 'JJ'), ('કરવા', 'N_NN'), ('માટે', 'PSP'), ('ભવિષ્યના', 'N_NN'), ('વસ્તીવધારામાં', 'N_NN'), ('ઘણી', 'QT_QTF'), ('મોટી', 'JJ'), ('ગુંજાયશ', 'N_NN'), ('રહેલી', 'V_VAUX'), ('છે', 'V_VAUX'), ('.', 'RD_PUNC')]\n",
            "[('ફરી', 'RB'), ('એકવાર', 'PSP'), (',', 'RD_PUNC'), ('એ', 'DM_DMD'), ('એકમાત્ર', 'PSP'), ('પરિબળ', 'N_NN'), ('નથી', 'RP_NEG'), ('.', 'RD_PUNC')]\n",
            "[('કેમકે', 'CC_CCS'), (',', 'RD_PUNC'), ('બળતણના', 'N_NN'), ('લાકડાની', 'N_NN'), ('ખેંચથી', 'N_NN'), ('ગરીબમાં', 'N_NN'), ('ગરીબ', 'JJ'), ('લોકોને', 'N_NN'), ('સૌથી', 'JJ'), ('વધુ', 'QT_QTF'), ('સખતપણે', 'N_NN'), ('સહન', 'N_NN'), ('કરવાનો', 'V_VAUX_VNP'), ('વારો', 'N_NN'), ('આવે', 'V_VM'), ('છે', 'V_VAUX'), ('.', 'RD_PUNC')]\n",
            "[('એથી', 'PSP'), (',', 'RD_PUNC'), ('નીતિવિષયક', 'N_NN'), ('નિષ્ફળતાનું', 'N_NN'), ('સર્જન', 'N_NN'), ('થાય', 'V_VM'), ('છે', 'V_VAUX'), ('.', 'RD_PUNC')]\n",
            "[('આ', 'DM_DMD'), ('વનપ્રદેશોનું', 'N_NN'), ('આપણે', 'PR_PRP'), ('અગાઉ', 'PSP'), ('જોયું', 'N_NN'), ('તેમ', 'PSP'), ('મુખ્યત્વે', 'JJ'), ('વસ્તી', 'N_NN'), ('વધારાને', 'N_NN'), ('કારણે', 'PSP'), ('વધુ', 'QT_QTF'), ('ઝડપથી', 'RB'), ('નિકંદન', 'N_NN'), ('નીકળી', 'N_NN'), ('રહ્યું', 'V_VAUX'), ('છે', 'V_VAUX'), ('.', 'RD_PUNC')]\n",
            "[('આ', 'DM_DMD'), ('સાથે', 'PSP'), ('જૈવિક', 'N_NN'), ('જાતિ', 'N_NN'), ('-', 'RD_PUNC'), ('પ્રજાતિઓના', 'N_NN'), ('સમૂળગા', 'JJ'), ('વિનાશનો', 'JJ'), ('દર', 'N_NN'), ('દરરોજના', 'N_NN'), ('૫૦થી', 'QT_QTC'), ('૧૦૦', 'QT_QTC'), ('પ્રકાર', 'N_NN'), ('જેટલો', 'JJ'), ('રહ્યો', 'V_VAUX'), ('છે', 'V_VAUX'), ('.', 'RD_PUNC')]\n",
            "[('દક્ષિણ', 'N_NN'), ('અને', 'CC_CCD'), ('છેક', 'PSP'), ('દક્ષિણના', 'N_NNP'), ('એશિયાખંડમાં', 'PSP'), ('તે', 'DM_DMD'), ('સવિશેષ', 'V_VM'), ('છે', 'V_VAUX'), ('.', 'RD_PUNC')]\n",
            "[('પરંતુ', 'CC_CCD'), (',', 'RD_PUNC'), ('આજે', 'N_NST'), ('માત્ર', 'RP_RPD'), ('ચાર', 'QT_QTC'), ('જ', 'RP_RPD'), ('દાયકા', 'N_NN'), ('બાદ', 'PSP'), (',', 'RD_PUNC'), ('એનું', 'DM_DMD'), ('પ્રમાણ', 'N_NN'), ('૫૦', 'QT_QTC'), ('ટકા', 'N_NN'), ('સુધી', 'PSP'), ('ઊંચું', 'JJ'), ('ગયું', 'V_VAUX'), ('છે', 'V_VAUX'), ('.', 'RD_PUNC')]\n",
            "[('હાલમાં', 'N_NST'), ('આ', 'DM_DMD'), ('સંસ્થા', 'N_NN'), ('દહેરાદૂન', 'N_NNP'), ('સ્થિત', 'N_NNP'), ('છે', 'V_VAUX'), ('.', 'RD_PUNC')]\n",
            "[('(', 'RD_SYM'), ('૧', 'QT_QTC'), (')', 'RD_SYM'), ('જળસંપત્તિવિદ્યા', 'N_NN'), ('વિશે', 'PSP')]\n",
            "[('(', 'RD_SYM'), ('૩', 'QT_QTC'), (')', 'RD_SYM'), ('ખેતી', 'N_NN'), ('અને', 'CC_CCD'), ('જમીન', 'N_NN'), ('(Agriculture', 'RD_RDF'), ('&', 'RD_RDF'), ('Soil', 'RD_RDF'), (')', 'RD_SYM')]\n",
            "[('આ', 'DM_DMD'), ('એજન્સીએ', 'N_NN'), ('સમસ્ત', 'JJ'), ('દેશની', 'N_NN'), ('તમામ', 'JJ'), ('ઉજ્જડ', 'N_NN'), ('અને', 'CC_CCD'), ('ખરાબાની', 'N_NN'), ('જમીનોનાં', 'DM_DMD'), ('અને', 'CC_CCD'), ('હિમાચ્છાદિત', 'RD_RDF'), ('વિસ્તારોના', 'N_NN'), ('નકશાઓ', 'N_NN'), ('તૈયાર', 'JJ'), ('કરવાનો', 'JJ'), ('આવો', 'JJ'), ('જ', 'RP_RPD'), ('એક', 'QT_QTC'), ('બીજો', 'JJ'), ('રાષ્ટ્રીય', 'JJ'), ('પ્રોજેક્ટ', 'N_NN'), ('પૂર્ણ', 'JJ'), ('કર્યો', 'V_VM'), ('છે', 'V_VAUX'), ('.', 'RD_PUNC')]\n",
            "[('સંયુક્ત', 'CC_CCD'), ('રાષ્ટ્રોની', 'CC_CCD'), ('ખોરાક', 'N_NN'), ('અને', 'CC_CCD'), ('કૃષિ', 'N_NN'), ('સંસ્થાના', 'DM_DMI'), ('(', 'RD_SYM'), ('FAO', 'RD_RDF'), (')', 'RD_SYM'), ('સહકારમાં', 'N_NST'), ('ભારતનાં', 'V_VM'), ('તથા', 'CC_CCD'), ('પૂર્વ', 'RP_NEG'), ('અને', 'CC_CCD'), ('પશ્ચિમઆફ્રિકાના', 'N_NNP'), ('રણ', 'QT_QTC'), ('વિસ્તારમાં', 'N_NNP'), ('તીડના', 'QT_QTC'), ('ઉદભવનું', 'RD_PUNC'), ('સર્વેક્ષણ', 'N_NN'), ('કરી', 'V_VAUX_VNP'), ('તેને', 'DM_DMD'), ('નિયંત્રણમાં', 'N_NN'), ('લાવવા', 'N_NN'), ('અંગેનો', 'PSP'), ('પ્રોજેક્ટ', 'N_NN'), ('પૂર્ણ', 'JJ'), ('કરવાની', 'N_NST'), ('સંયુક્ત', 'N_NST'), ('જવાબદારી', 'N_NN'), ('પૂરી', 'JJ'), ('કરી', 'V_VM'), ('છે', 'V_VAUX'), ('.', 'RD_PUNC')]\n",
            "[('આ', 'DM_DMD'), ('ચિત્રોની', 'N_NN'), ('મદદથી', 'N_NN'), ('ભૂમિ', 'N_NN'), ('પરના', 'PSP'), ('જુદા', 'JJ'), ('જુદા', 'JJ'), ('રંગ', 'N_NN'), ('-', 'RD_PUNC'), ('લક્ષણો', 'N_NN'), ('સહેલાઈથી', 'V_VM'), ('ઓળખી', 'V_VM'), ('શકાય', 'V_VAUX'), ('છે', 'V_VAUX'), ('.', 'RD_PUNC')]\n",
            "[('આમ', 'PSP'), ('ભારતનો', 'N_NNP'), ('સમગ્ર', 'JJ'), ('વિસ્તાર', 'N_NN'), ('૨૨', 'QT_QTC'), ('દિવસમાં', 'N_NN'), ('આવરી', 'N_NNP'), ('લેવાતો', 'JJ'), ('હતો', 'V_VAUX'), ('.', 'RD_PUNC')]\n",
            "[('આશરે', 'PSP'), ('૧.૫', 'QT_QTC'), ('મીલીમીટર', 'N_NN'), ('જાડી', 'PSP'), ('ત્વચાનું', 'PSP'), ('મુખ્ય', 'JJ'), ('કાર્ય', 'N_NN'), ('સ્પર્શેન્દ્રિય', 'N_NN'), ('તરીકેનું', 'PSP'), ('છે', 'V_VAUX'), ('.', 'RD_PUNC')]\n",
            "[('માનવઆંખના', 'N_NN'), ('નેત્રપટલમાં', 'N_NN'), ('પ્રકાશને', 'JJ'), ('ઝીલતા', 'N_NN'), ('લાખો', 'JJ'), ('કોષો', 'JJ'), ('છે', 'V_VAUX'), (',', 'RD_PUNC'), ('તો', 'CC_CCD'), ('વનસ્પતિને', 'N_NN'), ('એવા', 'JJ'), ('કોષો', 'N_NN'), ('તમામ', 'JJ'), ('થડમાં', 'JJ'), (',', 'RD_PUNC'), ('દાંડીમાં', 'N_NN'), ('અને', 'CC_CCD'), ('પાંદડાંમાં', 'N_NN'), ('છે', 'V_VAUX'), ('.', 'RD_PUNC')]\n",
            "[('ડાર્વિને', 'N_NN'), ('અલંકારિક', 'JJ'), ('રીતે', 'N_NN'), ('વાપરેલો', 'V_VM'), ('`', 'RD_PUNC'), ('ભૂખ', 'N_NN'), ('`', 'RD_PUNC'), ('શબ્દ', 'N_NN'), ('સાચો', 'JJ'), ('પણ', 'CC_CCD'), ('ખરો', 'RP_RPD'), (',', 'RD_PUNC'), ('કેમકે', 'CC_CCS'), ('વૃક્ષો', 'N_NN'), ('અને', 'CC_CCD'), ('છોડ', 'N_NN'), ('-', 'RD_PUNC'), ('વેલા', 'N_NN'), ('સૂર્યપ્રકાશની', 'N_NN'), ('એનર્જી', 'N_NN'), ('થકી', 'PSP'), ('કાર્બન', 'JJ'), ('ડાયોક્સાઈડને', 'N_NN'), ('તેમજ', 'CC_CCD'), ('પાણીને', 'N_NN'), ('શુગરરૂપી', 'N_NN'), ('ખોરાકમાં', 'N_NN'), ('ફેરવે', 'N_NN'), ('છે', 'V_VAUX'), ('.', 'RD_PUNC')]\n",
            "[('પ્રયોગો', 'N_NN'), ('દ્વારા', 'PSP'), ('માન્યતા', 'JJ'), ('સાચી', 'JJ'), ('પુરવાર', 'JJ'), ('થયાના', 'QT_QTC'), ('ઘણા', 'QT_QTF'), ('ખરા', 'N_NN'), ('દાવા', 'N_NN'), ('શંકાસ્પદ', 'DM_DMD'), ('છે', 'V_VAUX'), (',', 'RD_PUNC'), ('કેમકે', 'CC_CCS'), ('એવા', 'JJ'), ('પ્રયોગો', 'N_NN'), ('સાયન્ટિસ્ટને', 'N_NN'), ('બદલે', 'PSP'), ('સંગીતકારોએ', 'N_NNP'), ('કર્યા', 'V_VM'), ('છે', 'V_VAUX'), ('.', 'RD_PUNC')]\n",
            "[('ક્લોરોફિલ', 'N_NN'), ('ન', 'RP_NEG'), ('ધરાવતી', 'N_NN'), ('અમરવેલ', 'RP_NEG'), ('પોતાનો', 'PR_PRF'), ('ખોરાક', 'N_NN'), ('જાતે', 'PR_PRF'), ('બનાવી', 'V_VM'), ('શકતી', 'V_VM'), ('નથી', 'RP_NEG'), (',', 'RD_PUNC'), ('એટલે', 'PSP'), ('પોષક', 'JJ'), ('દ્રવ્યો', 'N_NN'), ('માટે', 'PSP'), ('તે', 'DM_DMD'), ('પારકા', 'N_NN'), ('છોડને', 'N_NN'), ('યજમાન', 'N_NN'), ('તરીકે', 'PSP'), ('પસંદ', 'JJ'), ('કરે', 'V_VM'), ('છે', 'V_VAUX'), ('.', 'RD_PUNC')]\n",
            "[('માત્ર', 'RP_RPD'), ('જમીનના', 'N_NN'), ('માપે', 'N_NN'), ('જોવા', 'V_VM'), ('બેસો', 'JJ'), ('તો', 'CC_CCD'), ('કદમાં', 'JJ'), ('તે', 'DM_DMD'), ('સાત', 'QT_QTC'), ('ખંડો', 'N_NN'), ('પૈકી', 'PSP'), ('છેલ્લા', 'JJ'), ('નંબરનો', 'N_NN'), ('ખંડ', 'JJ'), ('લેખાય', 'V_VM'), (',', 'RD_PUNC'), ('પણ', 'CC_CCD'), ('બર્ફીલો', 'N_NN'), ('પોપડો', 'N_NN'), ('ચારેબાજુના', 'N_NN'), ('સમુદ્ર', 'N_NN'), ('પર', 'PSP'), ('દૂર', 'JJ'), ('સુધી', 'PSP'), ('પથરાતો', 'N_NN'), ('હોવાને', 'V_VAUX_VNP'), ('લીધે', 'PSP'), ('તેનું', 'DM_DMD'), ('ક્ષેત્રફળ', 'N_NN'), ('વધી', 'N_NN'), ('જવા', 'V_VM'), ('પામ્યું', 'V_VM'), ('છે', 'V_VAUX'), ('.', 'RD_PUNC')]\n",
            "[('જે', 'PR_PRL'), ('પક્ષીનું', 'N_NN'), ('વજન', 'N_NN'), ('૧૫', 'PSP'), ('કિલોગ્રામથી', 'QT_QTF'), ('વધારે', 'QT_QTF'), ('હોય', 'V_VAUX'), ('તે', 'DM_DMD'), ('ઊડી', 'V_VM'), ('શકે', 'V_VAUX'), ('નહિ', 'RP_NEG'), (',', 'RD_PUNC'), ('માટે', 'PSP'), ('ઊડવાની', 'JJ'), ('ક્ષમતા', 'N_NN'), ('ગુમાવી', 'N_NN'), ('બેઠેલા', 'N_NN'), ('સ્થૂળકાય', 'N_NN'), ('પેંગ્વિનને', 'QT_QTC'), ('આજે', 'N_NST'), ('પાંખો', 'N_NN'), ('નથી', 'RP_NEG'), ('.', 'RD_PUNC')]\n",
            "[('પાંખિયાંને', 'N_NN'), ('હલેસા', 'RD_PUNC'), ('નહિ', 'RP_NEG'), (',', 'RD_PUNC'), ('પણ', 'CC_CCD'), ('હાથની', 'RD_PUNC'), ('ઉપમા', 'N_NN'), ('આપો', 'DM_DMD'), ('તો', 'CC_CCD'), ('બીજી', 'JJ'), ('રીતે', 'N_NN'), ('પણ', 'RP_RPD'), ('તેઓ', 'PR_PRP'), ('ઉપયોગી', 'JJ'), ('છે', 'V_VAUX'), ('.', 'RD_PUNC')]\n",
            "[('અંતે', 'JJ'), ('ટ્રાફિક', 'N_NN'), ('પાછો', 'RB'), ('અટકે', 'V_VM'), ('ત્યારે', 'N_NST'), ('રસ્તા', 'N_NN'), ('પર', 'PSP'), ('આવી', 'JJ'), ('ચાંચમાં', 'N_NN'), ('ભોજન', 'N_NN'), ('સમેટી', 'N_NN'), ('લે', 'V_VM'), ('છે', 'V_VAUX'), ('.', 'RD_PUNC')]\n",
            "[('સંયુક્ત', 'PR_PRP'), ('કાર્યવાહીના', 'N_NN'), ('ભાગરૂપે', 'N_NN'), ('બધા', 'QT_QTF'), ('મહાકાગ', 'N_NN'), ('દિવસે', 'N_NN'), ('જુદી', 'JJ'), ('જુદી', 'JJ'), ('દિશામાં', 'N_NN'), ('તપાસ', 'JJ'), ('માટે', 'PSP'), ('નીકળી', 'N_NN'), ('પડે', 'V_VM'), ('છે', 'V_VAUX'), ('અને', 'CC_CCD'), ('દિવસ', 'N_NN'), ('ઢળવા', 'V_VM'), ('માંડે', 'V_VM'), ('ત્યારે', 'N_NST'), ('બધા', 'QT_QTF'), ('વારાફરતી', 'N_NN'), ('પાછી', 'PSP'), ('ફરી', 'RB'), ('તેમના', 'PR_PRP'), ('નિયત', 'N_NN'), ('વૃક્ષે', 'N_NN'), ('ભેગા', 'JJ'), ('થાય', 'V_VM'), ('છે', 'V_VAUX'), ('.', 'RD_PUNC')]\n",
            "[('કબૂતર', 'N_NN'), ('માટે', 'PSP'), ('Visual', 'N_NN'), ('field', 'RD_RDF'), ('દ્રષ્ટિફલક', 'N_NN'), ('૭૦', 'QT_QTC'), ('અંશથી', 'QT_QTC'), ('૮૦', 'QT_QTC'), ('અંશનો', 'PR_PRP'), ('હોય', 'V_VAUX'), ('એટલું', 'V_VAUX'), ('જ', 'RP_RPD'), ('નહિ', 'RP_NEG'), (',', 'RD_PUNC'), ('પણ', 'CC_CCD'), ('૬૦૦', 'QT_QTC'), ('મીટર', 'N_NN'), ('છેટેની', 'JJ'), ('વસ્તુને', 'N_NN'), ('તે', 'DM_DMD'), ('ઓળખી', 'N_NN'), ('લે', 'V_VM'), ('.', 'RD_PUNC')]\n",
            "[('શિકાર', 'N_NN'), ('કરવા', 'N_NN'), ('માટે', 'PSP'), ('સ્પર્મવ્હેલ', 'N_NN'), ('સાધારણ', 'JJ'), ('રીતે', 'N_NN'), ('૭૦૦', 'QT_QTC'), ('મીટર', 'N_NN'), ('(', 'RD_SYM'), ('૨,૨૩૦', 'N_NNP'), ('ફીટ', 'N_NN'), (')', 'RD_SYM'), ('નીચે', 'N_NNP'), ('સુધી', 'PSP'), ('ડૂબકી', 'V_VM'), ('મારે', 'V_VM'), ('છે', 'V_VAUX'), (',', 'RD_PUNC'), ('કારણકે', 'CC_CCS'), ('તેના', 'JJ'), ('મનપસંદ', 'N_NN'), ('ભોજન', 'N_NN'), ('giant', 'V_VAUX_VNP'), ('squid', 'N_NN'), ('/', 'RD_SYM'), ('રાક્ષસી', 'N_NN'), ('રંગારાનો', 'JJ'), ('આવાસ', 'N_NN'), ('ત્યાં', 'N_NST'), ('છે', 'V_VAUX'), ('.', 'RD_PUNC')]\n",
            "[('દરમ્યાન', 'PSP'), ('તેના', 'DM_DMD'), ('પ્રંચંડ', 'JJ'), ('ઘાંટા', 'QT_QTC'), ('ચોતરફી', 'N_NN'), ('સમુદ્રને', 'JJ'), ('ગજાવતા', 'N_NN'), ('રહે', 'V_VM'), ('છે', 'V_VAUX'), ('.', 'RD_PUNC')]\n",
            "[('મૅટ્રિક', 'N_NN'), ('પાસ', 'JJ'), ('કર્યા', 'V_VAUX_VNP'), ('પછી', 'PSP'), ('તો', 'RP_RPD'), ('કેટલાય', 'N_NN'), ('સફળ', 'JJ'), ('પ્રયોગો', 'N_NN'), ('પણ', 'CC_CCD'), ('કરી', 'V_VM'), ('નાખ્યા', 'N_NN'), ('.', 'RD_PUNC')]\n",
            "[('ભૌતિકવિજ્ઞાનમાં', 'N_NN'), ('ખૂબ', 'QT_QTF'), ('સુંદર', 'JJ'), ('ગુણ', 'N_NN'), ('મેળવવાને', 'N_NN'), ('કારણે', 'PSP'), ('તેમને', 'JJ'), ('`', 'RD_PUNC'), ('અર્ણીસુવર્ણ-પદક', 'RP_NEG'), ('`', 'RD_PUNC'), ('આપવામાં', 'V_VM'), ('આવ્યો', 'V_VM'), ('.', 'RD_PUNC')]\n",
            "[('આસુતોષ', 'N_NN'), ('મુખરજી', 'N_NN'), ('જેવા', 'JJ'), ('વિદ્વાન', 'N_NN'), ('ત્યાં', 'N_NST'), ('ઉપસ્થિત', 'JJ'), ('હતા', 'V_VAUX'), ('.', 'RD_PUNC')]\n",
            "[('અને', 'CC_CCD'), ('તે', 'DM_DMD'), ('કારણે', 'PSP'), ('તેમની', 'PR_PRP'), ('ખ્યાતિ', 'N_NN'), ('ઈંગ્લેન્ડ', 'V_VM'), ('અને', 'CC_CCD'), ('અમેરિકા', 'N_NNP'), ('સુધી', 'PSP'), ('પહોંચી', 'V_VM'), ('.', 'RD_PUNC')]\n",
            "[('એમને', 'PR_PRP'), ('જ્યારે', 'N_NST'), ('શ્રી', 'N_NN'), ('આસુતોષની', 'N_NNP'), ('વાત', 'N_NN'), ('જાણવા', 'V_VM'), ('મળી', 'V_VM'), (',', 'RD_PUNC'), ('ત્યારે', 'N_NST'), ('તરત', 'PSP'), ('જ', 'RP_RPD'), ('સરકારી', 'JJ'), ('નોકરીને', 'N_NN'), ('તેમણે', 'PR_PRP'), ('છોડી', 'JJ'), ('દીધી', 'N_NN'), ('.', 'RD_PUNC')]\n",
            "[('એ', 'DM_DMD'), ('પછી', 'PSP'), ('તો', 'RP_RPD'), ('કેટલીય', 'QT_QTF'), ('વાર', 'N_NN'), ('વૈચારિક', 'JJ'), ('આપલે', 'RP_RPD'), ('માટે', 'PSP'), ('રામનને', 'N_NNP'), ('પરદેશમાં', 'N_NN'), ('જવાનું', 'N_NN'), ('થયું', 'V_VM'), (',', 'RD_PUNC'), ('ત્યાં', 'N_NST'), ('તેમને', 'PR_PRP'), ('ખૂબ', 'QT_QTF'), ('સન્માન', 'N_NN'), ('મળ્યું', 'N_NN'), ('.', 'RD_PUNC')]\n",
            "[('જ્યાં', 'N_NST'), ('કૅમેરાની', 'JJ'), ('ફિલ્મનો', 'N_NN'), ('ઉપયોગ', 'N_NN'), ('એક', 'QT_QTC'), ('જ', 'RP_RPD'), ('વાર', 'N_NN'), ('થઈ', 'V_VM'), ('શકે', 'V_VAUX'), ('છે', 'V_VAUX'), ('ત્યાં', 'N_NST'), ('આપણી', 'PR_PRP'), ('આંખનો', 'QT_QTC'), ('કૅમેરા', 'N_NN'), ('ઘડીએપડીએ', 'N_NN'), ('અનેક', 'JJ'), ('ફોટા', 'N_NN'), ('ઉતારી', 'N_NN'), ('દે', 'V_VAUX'), ('છે', 'V_VAUX'), ('અને', 'CC_CCD'), ('તેમના', 'PR_PRP'), ('રંગરૂપનો', 'CC_CCD'), ('પણ', 'CC_CCD'), ('ખ્યાલ', 'N_NN'), ('આપણને', 'PR_PRP'), ('કરાવી', 'V_VM'), ('દે', 'PSP'), ('છે', 'V_VAUX'), ('.', 'RD_PUNC')]\n",
            "[('ડૉ.', 'N_NN'), ('રામને', 'N_NNP'), ('રેટિનાને', 'N_NN'), ('જોવાની', 'N_NN'), ('નવી', 'RD_PUNC'), ('પદ્ધતિની', 'N_NN'), ('શોધ', 'N_NN'), ('કરી', 'V_VM'), ('.', 'RD_PUNC')]\n",
            "[('૨૧મી', 'QT_QTC'), ('નવેમ્બર', 'N_NNP'), (',', 'RD_PUNC'), ('૧૯૭૦નો', 'QT_QTC'), ('દિવસ', 'N_NN'), ('હતો', 'V_VAUX'), ('એ', 'DM_DMD'), ('.', 'RD_PUNC')]\n",
            "[('શરૂઆતની', 'JJ'), ('રંગબેરંગી', 'PR_PRP'), ('ઉષા', 'PSP'), (',', 'RD_PUNC'), ('પછી', 'PSP'), ('સૂરજનો', 'N_NN'), ('બદલાતો', 'N_NN'), ('રંગ', 'N_NN'), ('અને', 'CC_CCD'), ('ત્યારબાદ', 'PSP'), ('સૂરજ', 'N_NNP'), ('તપીને', 'PSP'), ('ધોળો', 'N_NNP'), ('બની', 'V_VM'), ('જાય', 'V_VAUX'), ('ત્યાં', 'N_NST'), ('સુધીનો', 'PSP'), ('તેમનો', 'PR_PRP'), ('કાર્યક્રમ', 'N_NN'), ('અભ્યાસનો', 'N_NN'), ('પિરિયડ', 'N_NN'), ('બની', 'V_VM'), ('જતો', 'V_VM'), ('.', 'RD_PUNC')]\n",
            "[('શિવજીની', 'N_NN'), ('બે', 'QT_QTC'), ('અવસ્થાઓ', 'N_NN'), ('માનવામાં', 'N_NN'), ('આવી', 'V_VAUX'), ('છે', 'V_VAUX'), ('.', 'RD_PUNC')]\n",
            "[('બ્રહ્માંડ', 'N_NN'), ('આ', 'DM_DMD'), ('નટરાજની', 'N_NN'), ('નૃત્યશાળા', 'JJ'), ('છે', 'V_VAUX'), ('.', 'RD_PUNC')]\n",
            "[('લોકવાણી', 'N_NN'), ('એવી', 'JJ'), ('છે', 'V_VAUX'), ('કે', 'CC_CCS'), ('`', 'RD_PUNC'), ('પ્રભુનો', 'N_NNP'), ('બન્યો', 'V_VM'), ('તે', 'DM_DMD'), ('પોઠિયો', 'N_NN'), ('.', 'RD_PUNC'), ('`', 'RD_PUNC')]\n",
            "[('કોઈ', 'DM_DMI'), ('દિકપાલ', 'N_NN'), (',', 'RD_PUNC'), ('લોકપાલ', 'N_NN'), (',', 'RD_PUNC'), ('પ્રજાપતિ', 'N_NN'), ('તથા', 'CC_CCD'), ('પૃથ્વી', 'N_NN'), ('પર', 'PSP'), ('ચક્રવર્તી', 'N_NN'), ('મહારાજાઓના', 'PSP'), ('પદની', 'PSP'), ('પ્રાપ્તિને', 'N_NN'), ('વર્યા', 'V_VM'), ('.', 'RD_PUNC')]\n",
            "[('આથી', 'PSP'), ('શિવ', 'N_NNP'), ('એકના', 'V_VAUX_VNP'), ('પૂજનમાં', 'V_VM'), ('શિવ', 'N_NNP'), ('-', 'RD_PUNC'), ('પાર્વતી', 'N_NNP'), ('આદિ', 'PSP'), ('તથા', 'CC_CCD'), ('બ્રહ્મા', 'JJ'), ('-', 'RD_PUNC'), ('વિષ્ણુનું', 'N_NN'), ('પૂજન', 'N_NN'), ('સમાવિષ્ટ', 'N_NN'), ('થઈ', 'V_VM'), ('જાય', 'V_VAUX'), ('છે', 'V_VAUX'), ('.', 'RD_PUNC')]\n",
            "[('તેમ', 'PSP'), ('વિવેક', 'N_NN'), ('-', 'RD_PUNC'), ('વૈરાગ્યરૂપી', 'N_NN'), ('અંધારી', 'RD_PUNC'), ('સંસારી', 'V_VM'), ('જીવના', 'N_NN'), ('મન', 'N_NN'), ('પર', 'PSP'), ('બંધાતી', 'JJ'), ('નથી', 'RP_NEG'), ('ત્યાં', 'N_NST'), ('સુધી', 'PSP'), ('કુમાર્ગે', 'N_NN'), ('જતા', 'QT_QTC'), ('તેના', 'DM_DMD'), ('મનને', 'N_NN'), ('પણ', 'RP_RPD'), ('અટકાવી', 'V_VM'), ('શકાતું', 'V_VAUX_VNP'), ('નથી', 'RP_NEG'), ('.', 'RD_PUNC')]\n",
            "[('ઈંચની', 'N_NN'), ('પ્રત્યેક', 'JJ'), ('રેખાઓ', 'N_NN'), ('ઉપર', 'PSP'), ('દેવતાઓનો', 'N_NNP'), ('વાસ', 'N_NN'), ('છે', 'V_VAUX'), ('.', 'RD_PUNC')]\n",
            "[('વિશ્વકર્માના', 'RD_PUNC'), ('નામમાં', 'RD_PUNC'), ('`', 'RD_PUNC'), ('મા', 'RD_PUNC'), ('`', 'RD_PUNC'), ('અક્ષર', 'N_NN'), ('છે', 'V_VAUX'), ('કારણકે', 'CC_CCS'), ('તેમણે', 'PR_PRP'), ('પોતાના', 'PR_PRF'), ('પાંચે', 'QT_QTC'), ('ય', 'RP_RPD'), ('પુત્રોને', 'N_NN'), ('મા', 'N_NN'), ('અને', 'CC_CCD'), ('બાપ', 'N_NN'), ('બંનેનો', 'JJ'), ('સ્નેહ', 'N_NN'), ('આપ્યો', 'V_VAUX_VNP'), ('હતો', 'V_VAUX'), ('.', 'RD_PUNC')]\n",
            "[('શ્રી', 'N_NN'), ('વિશ્વકર્મા', 'N_NNP'), ('ચરિત્રને', 'N_NNP'), ('આલેખતો', 'N_NNP'), ('ગ્રંથ', 'N_NN'), ('``', 'RD_PUNC'), ('શ્રી', 'N_NN'), ('વિશ્વકર્મા', 'N_NNP'), ('પુરાણ', 'N_NNP'), ('``', 'RD_PUNC'), ('બજારમાં', 'N_NN'), ('ઉપલબ્ધ', 'JJ'), ('છે', 'V_VAUX'), ('.', 'RD_PUNC')]\n",
            "[('દરેક', 'JJ'), ('તહેવારો', 'N_NN'), ('જીવનમાં', 'N_NN'), ('નવું', 'JJ'), ('જોમ', 'N_NN'), ('થનગનાટ', 'N_NN'), ('પ્રગટ', 'JJ'), ('કરે', 'V_VM'), ('છે', 'V_VAUX'), ('.', 'RD_PUNC')]\n",
            "[('તે', 'DM_DMD'), ('દિવસે', 'N_NN'), ('વિશ્વકર્માપ્રભુની', 'N_NN'), ('શોભાયાત્રા', 'N_NN'), ('કાઢતો', 'JJ'), ('કારીગર', 'N_NN'), ('વર્ગ', 'N_NN'), ('હોય', 'V_VAUX'), ('છે', 'V_VAUX'), ('.', 'RD_PUNC')]\n",
            "[('તેથી', 'PSP'), ('વિશ્વકર્માએ', 'N_NNP'), ('આપેલ', 'N_NNP'), ('જ્ઞાન', 'N_NN'), ('વિજ્ઞાન', 'N_NN'), ('ભૂલાવા', 'JJ'), ('લાગ્યા', 'N_NN'), ('.', 'RD_PUNC')]\n",
            "[('આથી', 'PSP'), ('સનાતન', 'N_NNP'), ('ધર્મ', 'N_NN'), ('લોકો', 'N_NN'), ('પાસેથી', 'PSP'), ('દૂર', 'JJ'), ('જવા', 'V_VM'), ('લાગ્યો', 'V_VAUX'), ('.', 'RD_PUNC')]\n",
            "[('``', 'RD_PUNC'), ('ભૂમા', 'N_NNP'), ('ભગવાને', 'N_NNP'), ('``', 'RD_PUNC'), ('ભાગવતમાં', 'N_NN'), ('લખ્યું', 'N_NNP'), ('છે', 'V_VAUX'), ('.', 'RD_PUNC')]\n",
            "[('જો', 'CC_CCD'), ('સમાધિ', 'DM_DMD'), ('શબ્દને', 'N_NN'), ('પકડીને', 'V_VM'), ('જો', 'CC_CCD'), ('આપણે', 'PR_PRP'), ('આગળ', 'PSP'), ('વધીએ', 'V_VM'), ('તો', 'V_VM'), ('તેનો', 'DM_DMD'), ('એ', 'DM_DMD'), ('અર્થ', 'N_NN'), ('નીકળે', 'N_NN'), ('કે', 'CC_CCS'), ('તે', 'DM_DMD'), ('ચિત્તની', 'N_NN'), ('એવી', 'JJ'), ('સ્થિરતા', 'N_NN'), ('કે', 'CC_CCS'), ('જે', 'PR_PRL'), ('ચલાયમાન', 'N_NN'), ('ન', 'RP_NEG'), ('થઈ', 'V_VM'), ('શકે', 'V_VAUX'), ('.', 'RD_PUNC')]\n",
            "[('કેમકે', 'CC_CCS'), ('સૌંદર્ય', 'N_NN'), ('-', 'RD_PUNC'), ('સુવાસ', 'RD_PUNC'), ('-', 'RD_PUNC'), ('સુકોમળતાનો', 'JJ'), ('અદભુત', 'JJ'), ('ત્રિવેણી', 'JJ'), ('સંગમ', 'PSP'), ('હોય', 'V_VAUX'), ('છે', 'V_VAUX'), ('.', 'RD_PUNC')]\n",
            "[('દિવસે', 'N_NN'), ('પ્રકાશ', 'N_NN'), ('ચાહે', 'JJ'), ('દિવાનો', 'N_NN'), ('હોય', 'V_VAUX'), ('કે', 'CC_CCS'), ('મશાલનો', 'JJ'), ('હોય', 'V_VAUX'), (',', 'RD_PUNC'), ('મીણબત્તીનો', 'JJ'), ('હોય', 'V_VAUX'), ('કે', 'CC_CCS'), ('`', 'RD_PUNC'), ('લાઈટનો', 'JJ'), ('`', 'RD_PUNC'), ('હોય', 'V_VAUX'), (':', 'RD_PUNC'), ('સૂર્યનું', 'N_NN'), ('પ્રચંડ', 'RD_PUNC'), ('તેજ', 'N_NN'), ('આ', 'DM_DMD'), ('બધામાં', 'QT_QTF'), ('સર્વોપરિ', 'N_NN'), ('સર્વશ્રેષ્ઠ', 'JJ'), ('આપોઆપ', 'PR_PRF'), ('બની', 'V_VM'), ('રહે', 'V_VAUX'), ('છે', 'V_VAUX'), ('.', 'RD_PUNC')]\n",
            "[('અલબત્ત', 'PSP'), (',', 'RD_PUNC'), ('એમાં', 'DM_DMD'), ('અંધ', 'N_NN'), ('ઝનૂન', 'N_NN'), ('કે', 'CC_CCS'), ('અન્યોને', 'N_NN'), ('ઊતારી', 'N_NN'), ('પાડવાની', 'PSP'), ('હલકી', 'QT_QTC'), ('માનસિકતા', 'N_NN'), ('ચોક્કસપણે', 'JJ'), ('ન', 'RP_NEG'), ('જ', 'RP_RPD'), ('આવવી', 'N_NN'), ('જોઈએ', 'V_VAUX'), ('.', 'RD_PUNC')]\n",
            "[('તું', 'PR_PRP'), ('કહે', 'V_VM'), ('તો', 'RP_RPD'), ('હું', 'PR_PRP'), ('કરુ', 'JJ'), ('પણ', 'CC_CCD'), ('આ', 'DM_DMD'), ('સંજોગોમાં', 'N_NN'), ('આપણાથી', 'PR_PRP'), ('એવું', 'PSP'), ('કરાય', 'V_VM'), ('નહીં', 'RP_NEG'), ('.', 'RD_PUNC')]\n",
            "[('કેવો', 'DM_DMQ'), ('હતો', 'V_VAUX'), ('તેમનો', 'PR_PRP'), ('પ્રૌઢ', 'DM_DMD'), ('પ્રતાપ', 'V_VAUX'), ('!', 'RD_PUNC')]\n",
            "[('તેમને', 'DM_DMD'), ('સ્વામીનારાયણ', 'QT_QTC'), ('સંપ્રદાયમાં', 'N_NN'), ('શીઘ્ર', 'N_NN'), ('કવિનું', 'QT_QTC'), ('બિરુદ', 'N_NN'), ('આપવામાં', 'PSP'), ('આવેલ', 'V_VAUX_VNP'), ('છે', 'V_VAUX'), ('.', 'RD_PUNC')]\n",
            "[('તેમનું', 'PR_PRP'), ('પૂર્વાશ્રમનું', 'PR_PRQ'), ('નામ', 'N_NN'), ('લાડુદાનજી', 'JJ'), ('હતું', 'V_VAUX'), ('.', 'RD_PUNC')]\n",
            "[('આમ', 'PSP'), (',', 'RD_PUNC'), ('સાહિત્ય', 'N_NN'), ('ક્ષેત્રે', 'N_NN'), ('તેમની', 'JJ'), ('સેવા', 'N_NN'), ('અજોડ', 'JJ'), ('છે', 'V_VAUX'), ('.', 'RD_PUNC')]\n",
            "[('આ', 'DM_DMD'), ('બ્રહ્માનંદસ્વામીને', 'N_NN'), ('શ્રી', 'N_NN'), ('સ્વામીનારાયણ', 'N_NNP'), ('ભગવાને', 'N_NNP'), ('જેતલપુરના', 'N_NNP'), ('બીજા', 'JJ'), ('વચનામૃતમાં', 'N_NNP'), ('``', 'RD_PUNC'), ('યતિ', 'V_VM'), ('``', 'RD_PUNC'), ('પણાની', 'N_NNP'), ('પ્રશંસા', 'N_NN'), ('કરી', 'V_VM'), ('છે', 'V_VAUX'), ('.', 'RD_PUNC')]\n",
            "[('શ્રીજીમહારાજ', 'N_NN'), ('અંતર્ધાન', 'N_NN'), ('થઈ', 'V_VM'), ('ગયા', 'V_VAUX'), ('.', 'RD_PUNC')]\n",
            "[('મહાત્મા', 'JJ'), ('ગાંધીજી', 'JJ'), ('સુધી', 'PSP'), ('સૌ', 'JJ'), ('કોઈને', 'PR_PRI'), ('પોતાના', 'PR_PRF'), ('સ્વરચિત', 'N_NN'), ('ભક્તિસભર', 'N_NN'), ('પદોથી', 'N_NN'), ('તેમણે', 'PR_PRP'), ('મોહિત', 'N_NN'), ('કર્યા', 'V_VM'), ('છે', 'V_VAUX'), ('.', 'RD_PUNC')]\n",
            "[('દેદીપ્યમાન', 'N_NNP'), ('દિવ્ય', 'N_NNP'), ('વ્યક્તિત્વ', 'N_NN'), ('.', 'RD_PUNC')]\n",
            "[('તેમ', 'PSP'), ('મુક્તજીવન', 'N_NNP'), ('સ્વામીબાપાએ', 'N_NNP'), ('લંડનના', 'N_NNP'), ('ટ્રફાલ્ગર', 'N_NNP'), ('સ્કેવર', 'QT_QTC'), ('ઉપર', 'PSP'), ('૧૭', 'QT_QTC'), ('-', 'RD_PUNC'), ('૧૦', 'QT_QTC'), ('-', 'RD_PUNC'), ('૧૯૭૦ના', 'QT_QTC'), ('દિને', 'N_NN'), ('અંગ્રેજીમાં', 'QT_QTC'), ('પ્રવચન', 'N_NN'), ('આપી', 'V_VM'), ('હિન્દુ', 'N_NN'), ('ધર્મનો', 'N_NN'), ('વિજય', 'N_NN'), ('ધ્વજ', 'N_NN'), ('લહેરાવ્યો', 'N_NNP'), ('છે', 'V_VAUX'), ('.', 'RD_PUNC')]\n",
            "[('ઠેરઠેર', 'JJ'), ('આ', 'DM_DMD'), ('વાત', 'N_NN'), ('જ', 'RP_RPD'), ('વિવાદ', 'N_NN'), ('બનીને', 'N_NN'), ('ચર્ચામાં', 'N_NN'), ('માંડી', 'V_VAUX'), ('.', 'RD_PUNC')]\n",
            "[('શ્રીકૃષ્ણ', 'N_NNP'), ('પ્રત્યેનો', 'PSP'), ('તમારો', 'V_VM'), ('ભક્તિભાવ', 'V_VM'), ('હું', 'PR_PRP'), ('જાણું', 'V_VM'), ('છું', 'V_VAUX'), ('.', 'RD_PUNC')]\n",
            "[('એમને', 'PR_PRP'), ('સમજાતું', 'N_NNP'), ('નહોતું', 'RP_NEG'), ('કુંતી', 'N_NNP'), ('આ', 'DM_DMD'), ('તેર', 'QT_QTC'), ('વર્ષની', 'N_NN'), ('લાંબી', 'N_NNP'), ('અવધિ', 'N_NN'), ('ક્યાં', 'N_NST'), ('વ્યતીત', 'JJ'), ('કરશે', 'N_NN'), ('.', 'RD_PUNC')]\n",
            "[('આપણી', 'PR_PRP'), ('આજુબાજુ', 'N_NST'), ('એવા', 'JJ'), ('અસંખ્ય', 'JJ'), ('દાખલાઓ', 'N_NN'), ('હશે', 'V_VAUX'), ('.', 'RD_PUNC')]\n",
            "[('જાણે', 'PSP'), ('હાથમાં', 'QT_QTO'), ('આવેલો', 'PR_PRL'), ('કોળિયો', 'JJ'), ('કોઈએ', 'PR_PRI'), ('ઝૂંટવી', 'N_NN'), ('લીધો', 'V_VM'), ('હોય', 'V_VAUX'), ('એવી', 'JJ'), ('લાગણી', 'N_NN'), ('થાય', 'V_VM'), ('ને', 'RP_RPD'), ('?', 'RD_PUNC')]\n",
            "[('આપણે', 'PR_PRP'), ('ત્યાં', 'N_NST'), ('બધી', 'QT_QTF'), ('જ', 'RP_RPD'), ('ક્ષમતાઓ', 'JJ'), ('તથા', 'CC_CCD'), ('ધન', 'N_NN'), (',', 'RD_PUNC'), ('માત્ર', 'RP_RPD'), ('કંકોત્રીઓની', 'JJ'), ('નવનવી', 'N_NN'), ('ડિઝાઈનો', 'N_NN'), ('માટે', 'PSP'), ('જ', 'RP_RPD'), ('વપરાય', 'V_VM'), ('છે', 'V_VAUX'), ('.', 'RD_PUNC')]\n",
            "[('વિચારકો', 'V_VM'), ('તરત', 'PSP'), ('પૂછે', 'V_VM'), ('કે', 'CC_CCS'), ('આ', 'DM_DMD'), ('દેવો', 'PSP'), ('આ', 'DM_DMD'), ('સ્વરૂપે', 'N_NN'), ('આવે', 'V_VM'), ('છે', 'V_VAUX'), ('એ', 'DM_DMD'), ('વાત', 'N_NN'), ('ઘડીભર', 'JJ'), ('સાચી', 'JJ'), ('માની', 'V_VM'), ('લેવા', 'PSP'), ('અમે', 'PR_PRP'), ('તૈયાર', 'JJ'), ('છીએ', 'V_VAUX'), ('.', 'RD_PUNC')]\n",
            "[('અને', 'CC_CCD'), ('સ્વાર્થ', 'N_NN'), ('સાધવા', 'CC_CCD'), ('માટે', 'PSP'), ('ધર્મનો', 'N_NN'), ('પણ', 'RP_RPD'), ('ઉપયોગ', 'N_NN'), ('કરવામાં', 'V_VAUX_VNP'), ('અચકાતાં', 'V_VAUX_VNP'), ('નથી', 'RP_NEG'), ('.', 'RD_PUNC')]\n",
            "[('સાચી', 'JJ'), ('ભક્તિ', 'N_NN'), ('થાય', 'V_VM'), ('તો', 'CC_CCD'), ('`', 'RD_PUNC'), ('સાહેબ', 'N_NN'), ('`', 'RD_PUNC'), ('રીઝે', 'N_NN'), ('જ', 'RP_RPD'), ('.', 'RD_PUNC')]\n",
            "[('એ', 'DM_DMD'), ('અસર', 'N_NN'), ('આખા', 'JJ'), ('રાષ્ટ્રને', 'N_NN'), (',', 'RD_PUNC'), ('રાજ્યને', 'N_NN'), (',', 'RD_PUNC'), ('નગરને', 'N_NN'), ('તેમજ', 'CC_CCD'), ('સમાજને', 'PR_PRL'), ('અનેકવિધ', 'CC_CCD'), ('તકલીફો', 'N_NN'), ('તથા', 'CC_CCD'), ('પ્રકોપથી', 'JJ'), ('ઉગારી', 'V_VM'), ('શકે', 'V_VAUX'), ('છે', 'V_VAUX'), ('.', 'RD_PUNC')]\n",
            "[('બરાબર', 'PSP'), ('નથી', 'RP_NEG'), ('.', 'RD_PUNC')]\n",
            "[('આમ', 'PSP'), ('તેની', 'DM_DMD'), ('બોલિંગ', 'N_NN'), ('જૂની', 'JJ'), ('પરંપરાગત', 'JJ'), ('પદ્ધતિ', 'N_NN'), ('કહી', 'V_VM'), ('શકાય', 'V_VAUX'), ('.', 'RD_PUNC')]\n",
            "[('ચેન્નઈ', 'N_NNP'), ('તારીખ', 'N_NN'), ('૨૬', 'QT_QTC'), ('હૈદરાબાદમાં', 'N_NNP'), ('૨', 'QT_QTC'), ('માર્ચથી', 'N_NN'), ('શરૂ', 'JJ'), ('થતી', 'N_NN'), ('ઑસ્ટ્રેલિયા', 'V_VAUX'), ('સામેની', 'N_NNP'), ('બીજી', 'QT_QTO'), ('ટેસ્ટમાં', 'N_NN'), ('ભારતની', 'V_VAUX_VNP'), ('ઈલેવનમાં', 'N_NN'), ('કોઈ', 'DM_DMI'), ('ફેરફાર', 'N_NN'), ('નહીં', 'RP_NEG'), ('કરવામાં', 'V_VAUX_VNP'), ('આવે', 'V_VM'), ('તેવા', 'JJ'), ('સંકેત', 'N_NN'), ('તેમણે', 'PR_PRP'), ('કેટલાક', 'QT_QTF'), ('ખેલાડીઓના', 'N_NN'), ('નામ', 'N_NN'), ('સાથે', 'PSP'), ('આપ્યા', 'V_VM'), ('છે', 'V_VAUX'), ('.', 'RD_PUNC')]\n",
            "[('અગાઉ', 'PSP'), ('સ્પોર્ટસ', 'N_NNP'), ('ઓથોરીટી', 'N_NN'), ('ઓફ', 'N_NNP'), ('ઈન્ડિયાએ', 'V_VM'), ('ભારતીય', 'N_NNP'), ('હોકી', 'N_NNP'), ('ટીમના', 'N_NN'), ('અઝલાન', 'N_NNP'), ('શાહ', 'N_NNP'), ('કપ', 'N_NNP'), ('માટેના', 'PSP'), ('મલેશિયા', 'N_NNP'), ('પ્રવાસ', 'N_NN'), ('માટેના', 'PSP'), ('વિમાની', 'JJ'), ('ખર્ચને', 'N_NN'), ('મંજૂરી', 'N_NN'), ('ના', 'RP_NEG'), ('આપતા', 'N_NN'), ('વિવાદ', 'JJ'), ('સર્જાયો', 'V_VM'), ('હતો', 'V_VAUX'), ('.', 'RD_PUNC')]\n",
            "[('અને', 'CC_CCD'), ('એકમાત્ર', 'PSP'), ('વિકેટ', 'N_NN'), ('ગુમાવી', 'V_VM'), ('હતી', 'V_VAUX'), ('.', 'RD_PUNC')]\n",
            "[('કેપ્ટને', 'PSP'), ('તો', 'RP_RPD'), ('ભારતીય', 'JJ'), ('બોલિંગ', 'N_NN'), ('સામે', 'PSP'), ('આ', 'DM_DMD'), ('નિર્જીવ', 'N_NN'), ('પીચ', 'N_NN'), ('પર', 'PSP'), ('કેમ', 'PR_PRQ'), ('રમવું', 'N_NN'), ('તે', 'DM_DMD'), ('બધાને', 'QT_QTF'), ('બતાવ્યું', 'JJ'), ('છે', 'V_VAUX'), ('.', 'RD_PUNC')]\n",
            "[('બોર્ડ', 'N_NN'), ('સામે', 'PSP'), ('બળવો', 'N_NN'), ('કરનાર', 'V_VAUX_VNP'), ('ખેલાડીઓને', 'N_NN'), ('સમજાવવા', 'PSP'), ('માટે', 'PSP'), ('ભૂતપૂર્વ', 'JJ'), ('ક્રિકેટર', 'N_NN'), ('અને', 'CC_CCD'), ('ચીફ', 'N_NN'), ('સિલેક્ટર', 'N_NN'), ('જયસૂર્યાને', 'JJ'), ('બોર્ડે', 'N_NN'), ('મેદાનમાં', 'N_NN'), ('ઉતાર્યો', 'V_VM'), ('છે', 'V_VAUX'), ('.', 'RD_PUNC')]\n",
            "[('ઑસ્ટ્રેલિયા', 'N_NNP'), ('સામે', 'PSP'), ('ભારતનો', 'N_NNP'), ('૧૫', 'QT_QTC'), ('વર્ષમાં', 'N_NN'), ('સૌથી', 'JJ'), ('મોટો', 'JJ'), ('ટેસ્ટ', 'N_NN'), ('વિજય', 'N_NN'), ('.', 'RD_PUNC')]\n",
            "[('ભારત', 'N_NNP'), ('પ્રવાસમાં', 'N_NNP'), ('સતત', 'JJ'), ('બીજી', 'JJ'), ('ટેસ્ટમાં', 'N_NN'), ('હાર્યા', 'N_NN'), ('બાદ', 'PSP'), ('ઑસ્ટ્રેલિયા', 'N_NNP'), ('માટે', 'PSP'), ('હવે', 'N_NST'), ('આ', 'DM_DMD'), ('શ્રેણી', 'N_NN'), ('બચાવવી', 'N_NN'), ('લગભગ', 'PSP'), ('અશક્ય', 'JJ'), ('બની', 'V_VM'), ('ગઈ', 'V_VAUX'), ('છે', 'V_VAUX'), ('.', 'RD_PUNC')]\n",
            "[('પૂજારાને', 'N_NN'), ('ધોનીની', 'N_NN'), ('સલાહ', 'N_NN'), (':', 'RD_PUNC'), ('વર્તમાન', 'N_NN'), ('સફળતાની', 'N_NN'), ('મજા', 'N_NN'), ('માણવી', 'N_NN'), ('જોઈએ', 'V_VAUX'), ('.', 'RD_PUNC')]\n",
            "[('ઘરઆંગણે', 'N_NN'), ('મોટા', 'JJ'), ('સ્કોરથી', 'PR_PRL'), ('તે', 'DM_DMD'), ('એ', 'DM_DMD'), ('હદની', 'QT_QTO'), ('ખુશી', 'N_NN'), ('નથી', 'RP_NEG'), ('અનુભવતો', 'RP_NEG'), ('.', 'RD_PUNC')]\n",
            "[('ઓલરાઉન્ડરો', 'N_NN'), ('હેનરિક્સ', 'N_NNP'), ('અને', 'CC_CCD'), ('મેક્સવેલ', 'N_NN'), ('પણ', 'RP_RPD'), ('સાવ', 'PSP'), ('ફ્લોપ', 'N_NN'), ('રહ્યા', 'V_VAUX'), ('હતા', 'V_VAUX'), ('.', 'RD_PUNC')]\n",
            "[('છાપો', 'N_NN'), ('મારવો', 'N_NN'), (':', 'RD_PUNC'), ('પોતાના', 'PR_PRF'), ('પ્રાંગણમાં', 'N_NN'), ('પાછો', 'RB'), ('ફરતો', 'PSP'), ('ખેલાડી', 'N_NN'), ('પોતાની', 'PR_PRF'), ('પીઠ', 'N_NN'), ('સામા', 'JJ'), ('પક્ષના', 'N_NN'), ('પ્રાંગણ', 'N_NN'), ('તરફ', 'PSP'), ('રાખીને', 'V_VAUX_VNP'), ('મધ્યરેખા', 'V_VM'), ('ઓળંગતો', 'V_VM'), ('હોય', 'V_VAUX'), ('છે', 'V_VAUX'), ('.', 'RD_PUNC')]\n",
            "[('દડો', 'N_NN'), ('ખભાની', 'JJ'), ('સપાટી', 'N_NN'), ('નજીક', 'JJ'), ('આવતાં', 'V_VAUX_VNP'), ('જ', 'RP_RPD'), ('દડાને', 'N_NN'), ('આંગળીઓના', 'JJ'), ('ધક્કાથી', 'N_NNP'), ('છોડવામાં', 'JJ'), ('આવશે', 'RP_RPD'), ('.', 'RD_PUNC')]\n",
            "[('ખૂંટ', 'N_NN'), ('નજીકની', 'JJ'), ('બારી', 'N_NN'), ('ઉપર', 'PSP'), ('બેઠેલા', 'N_NN'), ('ખેલાડીને', 'N_NN'), ('ખો', 'N_NN'), ('મળે', 'V_VM'), ('કે', 'CC_CCS'), ('તરત', 'PSP'), ('જ', 'RP_RPD'), ('વીજળી', 'N_NN'), ('વેગે', 'V_VM'), ('તે', 'DM_DMD'), ('ખૂંટરેખા', 'N_NN'), ('અને', 'CC_CCD'), ('પોતાની', 'N_NN'), ('આડી', 'JJ'), ('પાટી', 'JJ'), ('વચ્ચે', 'N_NST'), ('૪૫', 'QT_QTC'), ('અંશના', 'RD_PUNC'), ('ખૂણે', 'N_NN'), ('દોડશે', 'N_NN'), ('.', 'RD_PUNC')]\n",
            "[('આ', 'DM_DMD'), ('વખતે', 'N_NN'), ('પોતાના', 'PR_PRF'), ('બંને', 'JJ'), ('હાથ', 'N_NN'), ('આગળ', 'PSP'), ('લંબાવી', 'JJ'), ('છાતીના', 'N_NN'), ('સહારે', 'N_NN'), ('જમીન', 'N_NN'), ('ઉપર', 'PSP'), ('પડી', 'V_VM'), ('રમનારના', 'N_NN'), ('પગને', 'N_NN'), ('અડકવા', 'V_VAUX_VNP'), ('પ્રયત્ન', 'N_NN'), ('કરે', 'V_VM'), ('છે', 'V_VAUX'), ('.', 'RD_PUNC')]\n",
            "[('દડાની', 'N_NN'), ('ઊંચાઈને', 'JJ'), ('લક્ષમાં', 'N_NN'), ('રાખી', 'V_VM'), ('શરીરના', 'N_NN'), ('યોગ્ય', 'JJ'), ('ભાગનો', 'N_NN'), ('ઉપયોગ', 'N_NN'), ('કરી', 'V_VAUX_VNP'), ('ટ્રેપિંગ', 'N_NN'), ('કરવામાં', 'V_VAUX_VNP'), ('આવે', 'V_VAUX'), ('છે', 'V_VAUX'), ('.', 'RD_PUNC')]\n",
            "[('બ્રિટિશ', 'JJ'), ('લોકો', 'N_NN'), ('ક્રિકેટને', 'N_NN'), ('બધી', 'QT_QTF'), ('રમતોના', 'JJ'), ('રાજા', 'N_NN'), ('તરીકે', 'PSP'), ('વર્ણવે', 'V_VAUX_VNP'), ('છે', 'V_VAUX'), ('.', 'RD_PUNC')]\n",
            "[('આ', 'DM_DMD'), ('ઉપરાંત', 'PSP'), ('અન્ય', 'JJ'), ('સ્થળેથી', 'N_NN'), ('મળતી', 'N_NN'), ('માહિતી', 'N_NN'), ('ઉપરથી', 'RP_NEG'), ('૧૬મી', 'QT_QTC'), ('સદીમાં', 'N_NN'), ('`', 'RD_PUNC'), ('ગિલ્ડફોર્ડ', 'N_NN'), ('ગ્રામર', 'N_NNP'), ('સ્કૂલના', 'N_NNP'), ('`', 'RD_PUNC'), ('વિદ્યાર્થીઓ', 'V_VM'), ('આ', 'DM_DMD'), ('રમત', 'N_NN'), ('રમતા', 'V_VAUX_VNP'), ('હતા', 'V_VAUX'), ('.', 'RD_PUNC')]\n",
            "[('આ', 'DM_DMD'), ('મેચ', 'N_NN'), ('એમ.સી.સી.ની', 'N_NNP'), ('શતાબ્દી', 'N_NN'), ('નિમિત્તે', 'N_NN'), ('યોજવામાં', 'V_VM'), ('આવેલી', 'V_VAUX'), ('.', 'RD_PUNC')]\n",
            "[('આ', 'DM_DMD'), ('સંસ્થાનું', 'N_NN'), ('સભ્યપદ', 'N_NN'), ('સહેલાઈથી', 'RB'), ('મેળવી', 'V_VM'), ('શકાતું', 'V_VAUX_VNP'), ('નથી', 'RP_NEG'), ('.', 'RD_PUNC')]\n",
            "[('આ', 'DM_DMD'), ('ટુર્નામેન્ટની', 'N_NN'), ('પહેલી', 'QT_QTO'), ('મેચ', 'N_NN'), ('મદ્રાસ', 'N_NNP'), ('ખાતે', 'PSP'), ('૧૯૬૧ના', 'QT_QTC'), ('સપ્ટેમ્બરની', 'N_NN'), ('૩૦મીએ', 'QT_QTC'), ('દક્ષિણ', 'N_NN'), ('અને', 'CC_CCD'), ('ઉત્તર', 'N_NST'), ('વિભાગ', 'N_NN'), ('વચ્ચે', 'N_NST'), ('રમાઈ', 'N_NN'), ('હતી', 'V_VAUX'), ('.', 'RD_PUNC')]\n",
            "[('પાછળથી', 'PSP'), ('ગઢેચી', 'JJ'), ('ટીમ', 'N_NN'), (',', 'RD_PUNC'), ('ઝાલાવાડ', 'N_NN'), ('ટીમ', 'N_NN'), ('અને', 'CC_CCD'), ('ઑલ્ફ્રે', 'RD_RDF'), ('હાઈસ્કૂલ', 'N_NNP'), ('ટીમ', 'N_NN'), ('અસ્તિત્વમાં', 'N_NN'), ('આવી', 'V_VM'), ('.', 'RD_PUNC')]\n",
            "[('શરીર', 'N_NN'), ('આગળ', 'PSP'), ('ઝૂકતું', 'N_NN'), ('ને', 'CC_CCD'), ('માથું', 'N_NN'), ('સમતોલ', 'V_VM'), ('રાખવું', 'RP_RPD'), ('.', 'RD_PUNC')]\n",
            "[('યુસેન', 'N_NNP'), ('બોલ્ટ', 'N_NNP'), ('જો', 'CC_CCD'), ('પોતાનો', 'PR_PRF'), ('રિએક્શન', 'N_NN'), ('ટાઈમ', 'N_NN'), ('ઘટાડીને', 'V_VM'), ('૦.૧૨૦', 'QT_QTC'), ('સેકન્ડનો', 'N_NN'), ('કરી', 'V_VM'), ('નાખે', 'V_VM'), ('તો', 'CC_CCD'), ('૧૦૦', 'QT_QTC'), ('મીટરનું', 'N_NN'), ('અંતર', 'N_NN'), ('તે', 'DM_DMD'), ('૯.૫૮', 'PSP'), ('સેકન્ડને', 'PSP'), ('બદલે', 'PSP'), ('૯.૫૫', 'QT_QTC'), ('સેકન્ડમાં', 'PSP'), ('કાપી', 'V_VM'), ('શકે', 'V_VAUX'), ('તેમ', 'PSP'), ('છે', 'V_VAUX'), ('.', 'RD_PUNC')]\n",
            "[('૧૯૪૫થી', 'QT_QTC'), ('રાષ્ટ્રીય', 'JJ'), ('ચેમ્પિયનશિપ', 'N_NN'), ('દર', 'N_NN'), ('વર્ષે', 'N_NN'), ('યોજાય', 'V_VM'), ('છે', 'V_VAUX'), ('.', 'RD_PUNC')]\n",
            "[('જેની', 'PR_PRL'), ('ઑફિસ', 'PR_PRL'), ('બેલ્જિયમમાં', 'N_NN'), ('છે', 'V_VAUX'), ('.', 'RD_PUNC')]\n",
            "[('દડા', 'N_NN'), ('ઉપર', 'PSP'), ('સતત', 'JJ'), ('સ્ટિક', 'N_NN'), ('રહેવાથી', 'N_NNP'), ('તેના', 'DM_DMD'), ('ઉપર', 'PSP'), ('કાબૂ', 'N_NN'), ('સારો', 'JJ'), ('રાખી', 'V_VM'), ('શકાય', 'V_VAUX'), ('છે', 'V_VAUX'), ('.', 'RD_PUNC')]\n",
            "[('દડાને', 'N_NN'), ('સામા', 'JJ'), ('પક્ષના', 'N_NN'), ('ખેલાડીની', 'N_NN'), ('સ્ટિક', 'N_NN'), ('ઉપરથી', 'JJ'), ('થઈને', 'V_VAUX_VNP'), ('એવી', 'JJ'), ('રીતે', 'N_NN'), ('ઉછાળીને', 'N_NN'), ('ફેંકવામાં', 'N_NN'), ('આવે', 'V_VM'), ('છે', 'V_VAUX'), ('કે', 'CC_CCS'), ('દડો', 'N_NN'), ('જમીન', 'N_NN'), ('પર', 'PSP'), ('પડ્યા', 'PSP'), ('પછી', 'PSP'), ('ગબડતો', 'N_NN'), ('રહે', 'V_VM'), ('છે', 'V_VAUX'), ('.', 'RD_PUNC')]\n",
            "[('સામા', 'JJ'), ('પક્ષના', 'CC_CCD'), ('એક', 'QT_QTC'), ('ખેલાડીને', 'N_NN'), ('છેતરીને', 'N_NN'), ('તેની', 'DM_DMD'), ('ડાબી', 'JJ'), ('બાજુ', 'N_NST'), ('થઈ', 'V_VM'), (',', 'RD_PUNC'), ('દડો', 'N_NN'), ('લઈ', 'V_VM'), ('આગળ', 'PSP'), ('વધવું', 'V_VM'), ('.', 'RD_PUNC')]\n",
            "[('ત્યારબાદ', 'PSP'), ('હવામાં', 'N_NN'), ('દડા', 'N_NN'), ('ઉપર', 'PSP'), ('બંને', 'JJ'), ('સ્ટિકના', 'N_NN'), ('સપાટ', 'JJ'), ('ભાગ', 'N_NN'), ('સામસામે', 'PSP'), ('રહે', 'V_VM'), ('તે', 'DM_DMD'), ('રીતે', 'N_NN'), ('સ્પર્શ', 'QT_QTC'), ('કરાવે', 'JJ'), ('છે', 'V_VAUX'), ('.', 'RD_PUNC')]\n",
            "[('જે', 'PR_PRL'), ('ખેલાડી', 'N_NN'), ('અવેજી', 'N_NN'), ('તરીકે', 'PSP'), ('બહાર', 'N_NST'), ('જાય', 'V_VM'), ('તે', 'DM_DMD'), ('ફરીથી', 'PSP'), ('તે', 'DM_DMD'), ('જ', 'RP_RPD'), ('રમતમાં', 'N_NN'), ('ભાગ', 'N_NN'), ('લઈ', 'V_VM'), ('શકશે', 'V_VAUX'), ('નહિ', 'RP_NEG'), ('.', 'RD_PUNC')]\n",
            "[('જે', 'PR_PRL'), ('ટુકડી', 'N_NN'), ('રમતની', 'N_NN'), ('શરૂઆત', 'N_NN'), ('દડાથી', 'PSP'), ('કરશે', 'JJ'), ('તેનાથી', 'DM_DMD'), ('વિરુદ્ધ', 'PSP'), ('ટુકડી', 'N_NN'), ('અર્ધ', 'V_VAUX_VNP'), ('સમય', 'N_NN'), ('પછી', 'PSP'), ('રમતની', 'N_NN'), ('શરૂઆત', 'N_NN'), ('કરશે', 'V_VM'), ('.', 'RD_PUNC')]\n",
            "[('૨૬મી', 'N_NNP'), ('જૂન', 'N_NNP'), ('૧૯૬૦નો', 'QT_QTC'), ('દિવસ', 'N_NN'), ('ભારતીય', 'JJ'), ('લોન', 'N_NN'), ('ટેનિસના', 'N_NN'), ('ઇતિહાસનો', 'QT_QTC'), ('સુવર્ણ', 'JJ'), ('દિવસ', 'N_NN'), ('તરીકે', 'PSP'), ('ઓળખાય', 'N_NN'), ('છે.', 'N_NN')]\n",
            "[('આ', 'DM_DMD'), ('ઉપરાંત', 'PSP'), ('વિદેશમાં', 'N_NN'), ('પણ', 'RP_RPD'), ('તેણે', 'N_NN'), ('જુનિયર', 'N_NN'), ('ખેલાડીઓ', 'N_NN'), ('માટેની', 'PSP'), ('ટુર્નામેન્ટસમાં', 'N_NN'), ('નોંધપાત્ર', 'JJ'), ('વિજય', 'N_NN'), ('મેળવ્યા', 'N_NNP'), ('છે', 'V_VAUX'), ('.', 'RD_PUNC')]\n",
            "[('આ', 'DM_DMD'), ('વખતે', 'N_NN'), ('તેને', 'N_NN'), ('આનાથી', 'DM_DMD'), ('મોટી', 'JJ'), ('સફળતા', 'N_NN'), ('તો', 'CC_CCD'), ('એ', 'DM_DMD'), ('મળી', 'V_VM'), ('કે', 'CC_CCS'), ('ભૂતપૂર્વ', 'JJ'), ('વિમ્બલડન', 'N_NNP'), ('ચેમ્પિયન', 'N_NN'), ('સ્ટાન', 'V_VM'), ('સ્મિથે', 'V_VM'), ('તેને', 'PSP'), ('શ્રેષ્ઠ', 'JJ'), ('ખેલાડીનું', 'N_NN'), ('ઈનામ', 'V_VM'), ('આપ્યું', 'V_VAUX'), ('!', 'RD_PUNC')]\n",
            "[('બેંગકોંકમાં', 'N_NN'), ('એશિયન', 'N_NN'), ('જુનિયર', 'N_NN'), ('સરકિટમાં', 'N_NN'), ('ઝિશાને', 'N_NNP'), ('૧૬', 'QT_QTC'), ('વર્ષથી', 'N_NN'), ('નીચેની', 'PR_PRL'), ('વય', 'N_NN'), ('-', 'RD_PUNC'), ('જૂથમાં', 'N_NN'), ('વિજેતાપદ', 'N_NN'), ('હાંસલ', 'N_NN'), ('કર્યું', 'V_VM'), ('.', 'RD_PUNC')]\n",
            "[('આખરે', 'JJ'), ('૧૫', 'QT_QTC'), ('મિનિટ', 'N_NN'), ('પછી', 'PSP'), ('ઈર્શીને', 'N_NNP'), ('એક', 'QT_QTC'), ('પોઈન્ટ', 'PSP'), ('વધારે', 'QT_QTF'), ('આપીને', 'V_VM'), ('નિર્ણાયકોએ', 'N_NN'), ('તેને', 'JJ'), ('વિજેતા', 'N_NN'), ('જાહેર', 'JJ'), ('કર્યો', 'V_VM'), ('.', 'RD_PUNC')]\n",
            "[('વિશ્વમાં', 'N_NN'), ('હોકી', 'RB'), ('ક્ષેત્રે', 'N_NN'), ('ભારતને', 'N_NNP'), ('અવ્વલ', 'JJ'), ('નંબરે', 'N_NN'), ('પહોંચાડનાર', 'N_NN'), ('મેજર', 'N_NN'), ('ધ્યાનચંદને', 'N_NNP'), ('તેના', 'DM_DMD'), ('જન્મદિને', 'PSP'), ('લાખ', 'N_NN'), ('લાખ', 'N_NN'), ('સલામ', 'N_NNP'), ('.', 'RD_PUNC')]\n",
            "[('૧૯૮૫માં', 'QT_QTC'), ('જકાર્તા', 'N_NNP'), ('ખાતે', 'PSP'), ('યોજાયેલ', 'V_VAUX_VNP'), ('એશિયાઈ', 'N_NN'), ('ટ્રેક', 'N_NN'), ('એન્ડ', 'N_NN'), ('ફિલ્ડ', 'N_NN'), ('મીટમાં', 'PSP'), ('સર્વશ્રેષ્ઠ', 'JJ'), ('દેખાવ', 'N_NN'), ('કરીને', 'V_VAUX_VNP'), ('પી.ટી.ઉષાએ', 'N_NNP'), ('પાંચ', 'QT_QTC'), ('સુવર્ણ', 'N_NN'), ('અને', 'CC_CCD'), ('એક', 'QT_QTC'), ('કાસ્યચંદ્રક', 'N_NN'), ('મેળવ્યો', 'V_VM'), ('હતો', 'V_VAUX'), ('.', 'RD_PUNC')]\n"
          ],
          "name": "stdout"
        }
      ]
    },
    {
      "cell_type": "code",
      "metadata": {
        "colab": {
          "base_uri": "https://localhost:8080/"
        },
        "id": "8z_LfJ4EKiy8",
        "outputId": "e8a34937-c74b-4400-dc7e-e3013be559c5"
      },
      "source": [
        "from sklearn.metrics import accuracy_score\n",
        "accuracy_score(y_true, y_pred)"
      ],
      "execution_count": null,
      "outputs": [
        {
          "output_type": "execute_result",
          "data": {
            "text/plain": [
              "0.7620646244229963"
            ]
          },
          "metadata": {
            "tags": []
          },
          "execution_count": 37
        }
      ]
    },
    {
      "cell_type": "code",
      "metadata": {
        "colab": {
          "base_uri": "https://localhost:8080/"
        },
        "id": "dJA4REnAKiy9",
        "outputId": "beda6577-0908-4807-fd20-33d7cae3c81b"
      },
      "source": [
        "tags = ['N_NN', 'PR_PRL', 'JJ', 'V_VAUX_VNP', 'V_VAUX', 'N_NNP', 'RD_PUNC', 'DM_DMD', 'N_NST', 'PR_PRI', 'PR_PRP', 'V_VM', 'PSP', 'DM_DMI', 'RP_RPD', 'QT_QTF', 'RP_NEG', 'CC_CCD', 'QT_QTC', 'RD_SYM', 'CC_CCS', 'PR_PRF', 'PR_PRQ', 'DM_DMQ', 'CC_CCS_UT', 'PR_PRC', 'QT_QTO', 'RB', 'RD_RDF', 'DM_DMR','RP_INJ','RD_ECH','RP_INTF','RP_CL']\n",
        "heading = ['guj_entertainment_sample3','guj_philosophy_sample4','guj_science and technology_sample6','guj_sports_sample7','guj_religion_sample5','guj_economy_sample2','guj_art and culture_sample1']\n",
        "total_true = {}\n",
        "total_false = {}\n",
        "\n",
        "for i in tags:\n",
        "  total_true[i] = 0;\n",
        "  total_false[i]=0;\n",
        "\n",
        "def evaluations(true,pred):\n",
        "  dictt = {}\n",
        "  for i in tags:\n",
        "    dictt[i]={}\n",
        "  \n",
        "  for i in range(len(true)):\n",
        "    if(true[i]==pred[i]):\n",
        "      total_true[true[i]] += 1\n",
        "      continue\n",
        "    \n",
        "    total_false[true[i]] += 1\n",
        "    if(pred[i] in dictt[true[i]].keys()):\n",
        "      dictt[true[i]][pred[i]] += 1\n",
        "    else:\n",
        "      dictt[true[i]][pred[i]] = 1\n",
        "  return dictt\n",
        "\n",
        "res = evaluations(y_true,y_pred)\n",
        "print(res)"
      ],
      "execution_count": null,
      "outputs": [
        {
          "output_type": "stream",
          "text": [
            "{'N_NN': {'QT_QTC': 25, 'N_NNP': 42, 'PSP': 30, 'JJ': 94, 'V_VAUX': 5, 'RD_PUNC': 17, 'V_VM': 24, 'DM_DMQ': 2, 'DM_DMD': 5, 'RD_RDF': 2, 'PR_PRP': 6, 'V_VAUX_VNP': 2, 'N_NST': 4, 'QT_QTF': 5, 'RP_NEG': 3, 'DM_DMI': 2, 'CC_CCD': 5, 'RB': 4, 'RP_RPD': 1, 'PR_PRQ': 1, 'QT_QTO': 2, 'PR_PRL': 3}, 'PR_PRL': {'N_NN': 1, 'N_NST': 1, 'DM_DMD': 2}, 'JJ': {'PSP': 17, 'RP_NEG': 3, 'QT_QTC': 6, 'V_VM': 13, 'N_NN': 85, 'RD_RDF': 2, 'PR_PRP': 4, 'V_VAUX_VNP': 3, 'CC_CCD': 4, 'N_NNP': 12, 'QT_QTF': 2, 'N_NST': 2, 'RD_PUNC': 4, 'DM_DMI': 1, 'DM_DMD': 2, 'V_VAUX': 1, 'QT_QTO': 1, 'PR_PRL': 1}, 'V_VAUX_VNP': {'N_NN': 118, 'V_VM': 41, 'PSP': 16, 'JJ': 33, 'QT_QTC': 6, 'CC_CCD': 2, 'RP_NEG': 3, 'QT_QTF': 3, 'PR_PRQ': 1, 'N_NNP': 12, 'V_VAUX': 8, 'RD_RDF': 1, 'PR_PRP': 1, 'DM_DMD': 1, 'N_NST': 2, 'CC_CCS_UT': 1, 'PR_PRL': 1, 'RP_RPD': 1}, 'V_VAUX': {'JJ': 1, 'V_VM': 31, 'N_NN': 5, 'RP_NEG': 1, 'N_NNP': 2, 'PSP': 1, 'RP_RPD': 1}, 'N_NNP': {'N_NN': 74, 'V_VAUX_VNP': 3, 'JJ': 17, 'V_VM': 7, 'CC_CCS': 2, 'PSP': 6, 'RD_PUNC': 3, 'DM_DMI': 1, 'QT_QTC': 14, 'CC_CCD': 1, 'V_VAUX': 2, 'RB': 1, 'RP_NEG': 1, 'RD_RDF': 1}, 'RD_PUNC': {}, 'DM_DMD': {'N_NN': 4, 'QT_QTO': 1, 'PR_PRP': 6, 'RD_SYM': 1, 'JJ': 2}, 'N_NST': {'N_NN': 11, 'PSP': 5, 'JJ': 1, 'V_VM': 1, 'N_NNP': 4}, 'PR_PRI': {'DM_DMI': 4}, 'PR_PRP': {'DM_DMD': 15, 'N_NN': 4, 'N_NNP': 1, 'PSP': 2, 'JJ': 2, 'V_VM': 1}, 'V_VM': {'N_NN': 51, 'PSP': 4, 'PR_PRI': 1, 'QT_QTC': 1, 'V_VAUX': 7, 'N_NNP': 9, 'JJ': 23, 'CC_CCD': 1, 'DM_DMD': 2, 'PR_PRP': 1, 'V_VAUX_VNP': 3}, 'PSP': {'N_NN': 9, 'RP_NEG': 2, 'JJ': 6, 'QT_QTF': 1, 'V_VM': 4, 'PR_PRP': 1, 'N_NNP': 1}, 'DM_DMI': {}, 'RP_RPD': {'CC_CCD': 14, 'DM_DMD': 1, 'V_VAUX': 1, 'N_NN': 1}, 'QT_QTF': {'JJ': 2, 'N_NN': 4, 'N_NNP': 1}, 'RP_NEG': {}, 'CC_CCD': {'RP_RPD': 2, 'PSP': 1, 'CC_CCS': 1, 'V_VM': 1, 'N_NN': 1}, 'QT_QTC': {'JJ': 1, 'V_VM': 1, 'N_NN': 2, 'QT_QTF': 1, 'PSP': 2, 'N_NNP': 1, 'V_VAUX_VNP': 1}, 'RD_SYM': {}, 'CC_CCS': {'CC_CCD': 1}, 'PR_PRF': {'N_NN': 3}, 'PR_PRQ': {}, 'DM_DMQ': {'PR_PRQ': 2}, 'CC_CCS_UT': {'N_NN': 1}, 'PR_PRC': {'PSP': 2}, 'QT_QTO': {'N_NN': 1, 'JJ': 1}, 'RB': {'JJ': 5, 'V_VM': 4, 'N_NN': 1, 'PSP': 2}, 'RD_RDF': {'N_NN': 2, 'V_VAUX_VNP': 1}, 'DM_DMR': {}, 'RP_INJ': {}, 'RD_ECH': {}, 'RP_INTF': {}, 'RP_CL': {}}\n"
          ],
          "name": "stdout"
        }
      ]
    },
    {
      "cell_type": "code",
      "metadata": {
        "colab": {
          "base_uri": "https://localhost:8080/",
          "height": 508
        },
        "id": "LZER_PZzKiy9",
        "outputId": "1791f3ac-9a52-44f2-95e4-849d4216babc"
      },
      "source": [
        "import matplotlib.pyplot as plt\n",
        "from matplotlib.pyplot import figure\n",
        "\n",
        "figure(figsize=(8, 6), dpi=80)\n",
        "plt.bar(range(len(total_true)), list(total_true.values()), align='center')\n",
        "plt.xticks(range(len(total_true)), list(total_true.keys()),rotation='vertical')\n",
        "plt.title(\"Correctly Predicted\")"
      ],
      "execution_count": null,
      "outputs": [
        {
          "output_type": "execute_result",
          "data": {
            "text/plain": [
              "Text(0.5, 1.0, 'Correctly Predicted')"
            ]
          },
          "metadata": {
            "tags": []
          },
          "execution_count": 40
        },
        {
          "output_type": "display_data",
          "data": {
            "image/png": "[encoded data removed]",
            "text/plain": [
              "<Figure size 640x480 with 1 Axes>"
            ]
          },
          "metadata": {
            "tags": [],
            "needs_background": "light"
          }
        }
      ]
    },
    {
      "cell_type": "code",
      "metadata": {
        "colab": {
          "base_uri": "https://localhost:8080/",
          "height": 508
        },
        "id": "pJtDso2VKiy9",
        "outputId": "2dccf9c8-2be2-41f2-b40b-bbb4a6eeca52"
      },
      "source": [
        "import matplotlib.pyplot as plt\n",
        "from matplotlib.pyplot import figure\n",
        "\n",
        "figure(figsize=(8, 6), dpi=80)\n",
        "plt.bar(range(len(total_false)), list(total_false.values()), align='center')\n",
        "plt.xticks(range(len(total_false)), list(total_false.keys()),rotation='vertical')\n",
        "plt.title(\"Wrong Prediction\")"
      ],
      "execution_count": null,
      "outputs": [
        {
          "output_type": "execute_result",
          "data": {
            "text/plain": [
              "Text(0.5, 1.0, 'Wrong Prediction')"
            ]
          },
          "metadata": {
            "tags": []
          },
          "execution_count": 41
        },
        {
          "output_type": "display_data",
          "data": {
            "image/png": "[encoded data removed]",
            "text/plain": [
              "<Figure size 640x480 with 1 Axes>"
            ]
          },
          "metadata": {
            "tags": [],
            "needs_background": "light"
          }
        }
      ]
    },
    {
      "cell_type": "code",
      "metadata": {
        "colab": {
          "base_uri": "https://localhost:8080/"
        },
        "id": "FnTT8WOkKiy-",
        "outputId": "dcb045ff-05c5-4aed-ff22-1e4415cf65f3"
      },
      "source": [
        "for i in res:\n",
        "  total = 0\n",
        "  print(\"Actual Value \",i)\n",
        "  for j in res[i]:\n",
        "    total += res[i][j]\n",
        "  \n",
        "  print(res[i])\n",
        "  print(\"Total Wrong Prediction \",total)\n",
        "  print(\"\\n\")\n",
        "  print(\"*\"*50)"
      ],
      "execution_count": null,
      "outputs": [
        {
          "output_type": "stream",
          "text": [
            "Actual Value  N_NN\n",
            "{'QT_QTC': 25, 'N_NNP': 42, 'PSP': 30, 'JJ': 94, 'V_VAUX': 5, 'RD_PUNC': 17, 'V_VM': 24, 'DM_DMQ': 2, 'DM_DMD': 5, 'RD_RDF': 2, 'PR_PRP': 6, 'V_VAUX_VNP': 2, 'N_NST': 4, 'QT_QTF': 5, 'RP_NEG': 3, 'DM_DMI': 2, 'CC_CCD': 5, 'RB': 4, 'RP_RPD': 1, 'PR_PRQ': 1, 'QT_QTO': 2, 'PR_PRL': 3}\n",
            "Total Wrong Prediction  284\n",
            "\n",
            "\n",
            "**************************************************\n",
            "Actual Value  PR_PRL\n",
            "{'N_NN': 1, 'N_NST': 1, 'DM_DMD': 2}\n",
            "Total Wrong Prediction  4\n",
            "\n",
            "\n",
            "**************************************************\n",
            "Actual Value  JJ\n",
            "{'PSP': 17, 'RP_NEG': 3, 'QT_QTC': 6, 'V_VM': 13, 'N_NN': 85, 'RD_RDF': 2, 'PR_PRP': 4, 'V_VAUX_VNP': 3, 'CC_CCD': 4, 'N_NNP': 12, 'QT_QTF': 2, 'N_NST': 2, 'RD_PUNC': 4, 'DM_DMI': 1, 'DM_DMD': 2, 'V_VAUX': 1, 'QT_QTO': 1, 'PR_PRL': 1}\n",
            "Total Wrong Prediction  163\n",
            "\n",
            "\n",
            "**************************************************\n",
            "Actual Value  V_VAUX_VNP\n",
            "{'N_NN': 118, 'V_VM': 41, 'PSP': 16, 'JJ': 33, 'QT_QTC': 6, 'CC_CCD': 2, 'RP_NEG': 3, 'QT_QTF': 3, 'PR_PRQ': 1, 'N_NNP': 12, 'V_VAUX': 8, 'RD_RDF': 1, 'PR_PRP': 1, 'DM_DMD': 1, 'N_NST': 2, 'CC_CCS_UT': 1, 'PR_PRL': 1, 'RP_RPD': 1}\n",
            "Total Wrong Prediction  251\n",
            "\n",
            "\n",
            "**************************************************\n",
            "Actual Value  V_VAUX\n",
            "{'JJ': 1, 'V_VM': 31, 'N_NN': 5, 'RP_NEG': 1, 'N_NNP': 2, 'PSP': 1, 'RP_RPD': 1}\n",
            "Total Wrong Prediction  42\n",
            "\n",
            "\n",
            "**************************************************\n",
            "Actual Value  N_NNP\n",
            "{'N_NN': 74, 'V_VAUX_VNP': 3, 'JJ': 17, 'V_VM': 7, 'CC_CCS': 2, 'PSP': 6, 'RD_PUNC': 3, 'DM_DMI': 1, 'QT_QTC': 14, 'CC_CCD': 1, 'V_VAUX': 2, 'RB': 1, 'RP_NEG': 1, 'RD_RDF': 1}\n",
            "Total Wrong Prediction  133\n",
            "\n",
            "\n",
            "**************************************************\n",
            "Actual Value  RD_PUNC\n",
            "{}\n",
            "Total Wrong Prediction  0\n",
            "\n",
            "\n",
            "**************************************************\n",
            "Actual Value  DM_DMD\n",
            "{'N_NN': 4, 'QT_QTO': 1, 'PR_PRP': 6, 'RD_SYM': 1, 'JJ': 2}\n",
            "Total Wrong Prediction  14\n",
            "\n",
            "\n",
            "**************************************************\n",
            "Actual Value  N_NST\n",
            "{'N_NN': 11, 'PSP': 5, 'JJ': 1, 'V_VM': 1, 'N_NNP': 4}\n",
            "Total Wrong Prediction  22\n",
            "\n",
            "\n",
            "**************************************************\n",
            "Actual Value  PR_PRI\n",
            "{'DM_DMI': 4}\n",
            "Total Wrong Prediction  4\n",
            "\n",
            "\n",
            "**************************************************\n",
            "Actual Value  PR_PRP\n",
            "{'DM_DMD': 15, 'N_NN': 4, 'N_NNP': 1, 'PSP': 2, 'JJ': 2, 'V_VM': 1}\n",
            "Total Wrong Prediction  25\n",
            "\n",
            "\n",
            "**************************************************\n",
            "Actual Value  V_VM\n",
            "{'N_NN': 51, 'PSP': 4, 'PR_PRI': 1, 'QT_QTC': 1, 'V_VAUX': 7, 'N_NNP': 9, 'JJ': 23, 'CC_CCD': 1, 'DM_DMD': 2, 'PR_PRP': 1, 'V_VAUX_VNP': 3}\n",
            "Total Wrong Prediction  103\n",
            "\n",
            "\n",
            "**************************************************\n",
            "Actual Value  PSP\n",
            "{'N_NN': 9, 'RP_NEG': 2, 'JJ': 6, 'QT_QTF': 1, 'V_VM': 4, 'PR_PRP': 1, 'N_NNP': 1}\n",
            "Total Wrong Prediction  24\n",
            "\n",
            "\n",
            "**************************************************\n",
            "Actual Value  DM_DMI\n",
            "{}\n",
            "Total Wrong Prediction  0\n",
            "\n",
            "\n",
            "**************************************************\n",
            "Actual Value  RP_RPD\n",
            "{'CC_CCD': 14, 'DM_DMD': 1, 'V_VAUX': 1, 'N_NN': 1}\n",
            "Total Wrong Prediction  17\n",
            "\n",
            "\n",
            "**************************************************\n",
            "Actual Value  QT_QTF\n",
            "{'JJ': 2, 'N_NN': 4, 'N_NNP': 1}\n",
            "Total Wrong Prediction  7\n",
            "\n",
            "\n",
            "**************************************************\n",
            "Actual Value  RP_NEG\n",
            "{}\n",
            "Total Wrong Prediction  0\n",
            "\n",
            "\n",
            "**************************************************\n",
            "Actual Value  CC_CCD\n",
            "{'RP_RPD': 2, 'PSP': 1, 'CC_CCS': 1, 'V_VM': 1, 'N_NN': 1}\n",
            "Total Wrong Prediction  6\n",
            "\n",
            "\n",
            "**************************************************\n",
            "Actual Value  QT_QTC\n",
            "{'JJ': 1, 'V_VM': 1, 'N_NN': 2, 'QT_QTF': 1, 'PSP': 2, 'N_NNP': 1, 'V_VAUX_VNP': 1}\n",
            "Total Wrong Prediction  9\n",
            "\n",
            "\n",
            "**************************************************\n",
            "Actual Value  RD_SYM\n",
            "{}\n",
            "Total Wrong Prediction  0\n",
            "\n",
            "\n",
            "**************************************************\n",
            "Actual Value  CC_CCS\n",
            "{'CC_CCD': 1}\n",
            "Total Wrong Prediction  1\n",
            "\n",
            "\n",
            "**************************************************\n",
            "Actual Value  PR_PRF\n",
            "{'N_NN': 3}\n",
            "Total Wrong Prediction  3\n",
            "\n",
            "\n",
            "**************************************************\n",
            "Actual Value  PR_PRQ\n",
            "{}\n",
            "Total Wrong Prediction  0\n",
            "\n",
            "\n",
            "**************************************************\n",
            "Actual Value  DM_DMQ\n",
            "{'PR_PRQ': 2}\n",
            "Total Wrong Prediction  2\n",
            "\n",
            "\n",
            "**************************************************\n",
            "Actual Value  CC_CCS_UT\n",
            "{'N_NN': 1}\n",
            "Total Wrong Prediction  1\n",
            "\n",
            "\n",
            "**************************************************\n",
            "Actual Value  PR_PRC\n",
            "{'PSP': 2}\n",
            "Total Wrong Prediction  2\n",
            "\n",
            "\n",
            "**************************************************\n",
            "Actual Value  QT_QTO\n",
            "{'N_NN': 1, 'JJ': 1}\n",
            "Total Wrong Prediction  2\n",
            "\n",
            "\n",
            "**************************************************\n",
            "Actual Value  RB\n",
            "{'JJ': 5, 'V_VM': 4, 'N_NN': 1, 'PSP': 2}\n",
            "Total Wrong Prediction  12\n",
            "\n",
            "\n",
            "**************************************************\n",
            "Actual Value  RD_RDF\n",
            "{'N_NN': 2, 'V_VAUX_VNP': 1}\n",
            "Total Wrong Prediction  3\n",
            "\n",
            "\n",
            "**************************************************\n",
            "Actual Value  DM_DMR\n",
            "{}\n",
            "Total Wrong Prediction  0\n",
            "\n",
            "\n",
            "**************************************************\n",
            "Actual Value  RP_INJ\n",
            "{}\n",
            "Total Wrong Prediction  0\n",
            "\n",
            "\n",
            "**************************************************\n",
            "Actual Value  RD_ECH\n",
            "{}\n",
            "Total Wrong Prediction  0\n",
            "\n",
            "\n",
            "**************************************************\n",
            "Actual Value  RP_INTF\n",
            "{}\n",
            "Total Wrong Prediction  0\n",
            "\n",
            "\n",
            "**************************************************\n",
            "Actual Value  RP_CL\n",
            "{}\n",
            "Total Wrong Prediction  0\n",
            "\n",
            "\n",
            "**************************************************\n"
          ],
          "name": "stdout"
        }
      ]
    },
    {
      "cell_type": "markdown",
      "metadata": {
        "id": "S9Pr_6QCKYxl"
      },
      "source": [
        "### adam"
      ]
    },
    {
      "cell_type": "code",
      "metadata": {
        "id": "7lOgAkuaBU-p"
      },
      "source": [
        "WORD_EMBEDDING_DIM = 1024\n",
        "CHAR_EMBEDDING_DIM = 128\n",
        "WORD_HIDDEN_DIM = 1024\n",
        "CHAR_HIDDEN_DIM = 1024\n",
        "EPOCHS = 20\n",
        "\n",
        "class DualBILSTMTagger(nn.Module):\n",
        "  def __init__(self, word_embedding_dim, word_hidden_dim, char_embedding_dim, char_hidden_dim, word_vocab_size, char_vocab_size, tag_vocab_size):\n",
        "    super(DualBILSTMTagger, self).__init__()\n",
        "    self.word_embedding = nn.Embedding(word_vocab_size, word_embedding_dim)\n",
        "    \n",
        "    self.char_embedding = nn.Embedding(char_vocab_size, char_embedding_dim)\n",
        "    self.char_lstm = nn.LSTM(char_embedding_dim, char_hidden_dim)\n",
        "    self.lstm = nn.LSTM(word_embedding_dim + char_hidden_dim, word_hidden_dim,bidirectional=True)\n",
        "\n",
        "    self.hidden2tag = nn.Linear(word_hidden_dim*2, tag_vocab_size)\n",
        "      \n",
        "  def forward(self, sentence, words):\n",
        "    embeds = self.word_embedding(sentence)\n",
        "    char_hidden_final = []\n",
        "    for word in words:\n",
        "        char_embeds = self.char_embedding(word)\n",
        "        _, (char_hidden, char_cell_state) = self.char_lstm(char_embeds.view(len(word), 1, -1))\n",
        "        word_char_hidden_state = char_hidden.view(-1)\n",
        "        char_hidden_final.append(word_char_hidden_state)\n",
        "    char_hidden_final = torch.stack(tuple(char_hidden_final))\n",
        "    \n",
        "    combined = torch.cat((embeds, char_hidden_final), 1)\n",
        "\n",
        "    lstm_out, _ = self.lstm(combined.view(len(sentence), 1, -1))\n",
        "    tag_space = self.hidden2tag(lstm_out.view(len(sentence), -1))\n",
        "    \n",
        "    tag_scores = F.log_softmax(tag_space, dim=1)\n",
        "    return tag_scores"
      ],
      "execution_count": null,
      "outputs": []
    },
    {
      "cell_type": "code",
      "metadata": {
        "id": "ieyRo_FcBU-p"
      },
      "source": [
        "model = DualBILSTMTagger(WORD_EMBEDDING_DIM, WORD_HIDDEN_DIM, CHAR_EMBEDDING_DIM, CHAR_HIDDEN_DIM, word_vocab_size, char_vocab_size, tag_vocab_size)\n",
        "\n",
        "use_cuda = torch.cuda.is_available()\n",
        "device = torch.device(\"cuda:0\" if use_cuda else \"cpu\")\n",
        "\n",
        "if use_cuda:\n",
        "    model.cuda()\n",
        "\n",
        "loss_function = nn.NLLLoss()\n",
        "optimizer = optim.Adam(model.parameters(), lr=0.001)\n"
      ],
      "execution_count": null,
      "outputs": []
    },
    {
      "cell_type": "code",
      "metadata": {
        "colab": {
          "base_uri": "https://localhost:8080/"
        },
        "id": "irjcKNgfBU-p",
        "outputId": "eab0dcdf-d9ff-46a0-f828-ae974895e27f"
      },
      "source": [
        "accuracy_list = []\n",
        "loss_list = []\n",
        "interval = round(len(train) / 100.)\n",
        "epochs = EPOCHS\n",
        "e_interval = round(epochs / 10.)\n",
        "for epoch in range(epochs):\n",
        "    acc = 0 #to keep track of accuracy\n",
        "    loss = 0 # To keep track of the loss value\n",
        "    i = 0\n",
        "    for sentence_tag in train:\n",
        "        i += 1\n",
        "        words = [torch.tensor(sequence_to_idx(s[0], char_to_idx), dtype=torch.long).to(device) for s in sentence_tag]\n",
        "        sentence = [s[0] for s in sentence_tag]\n",
        "        sentence = torch.tensor(sequence_to_idx(sentence, word_to_idx), dtype=torch.long).to(device)\n",
        "        targets = [s[1] for s in sentence_tag]\n",
        "        targets = torch.tensor(sequence_to_idx(targets, tag_to_idx), dtype=torch.long).to(device)\n",
        "        \n",
        "        model.zero_grad()\n",
        "        \n",
        "        tag_scores = model(sentence, words)\n",
        "        \n",
        "        loss = loss_function(tag_scores, targets)\n",
        "        loss.backward()\n",
        "        optimizer.step()\n",
        "        loss += loss.item()\n",
        "        _, indices = torch.max(tag_scores, 1)\n",
        "#         print(indices == targets)\n",
        "        acc += torch.mean(torch.tensor(targets == indices, dtype=torch.float))\n",
        "        if i % interval == 0:\n",
        "            print(\"Epoch {} Running;\\t{}% Complete\".format(epoch + 1, i / interval), end = \"\\r\", flush = True)\n",
        "    loss = loss / len(train)\n",
        "    acc = acc / len(train)\n",
        "    loss_list.append(float(loss))\n",
        "    accuracy_list.append(float(acc))\n",
        "    if (epoch + 1) % e_interval == 0:\n",
        "        print(\"Epoch {} Completed,\\tLoss {}\\tAccuracy: {}\".format(epoch + 1, np.mean(loss_list[-e_interval:]), np.mean(accuracy_list[-e_interval:]))) "
      ],
      "execution_count": null,
      "outputs": [
        {
          "output_type": "stream",
          "text": [
            "/usr/local/lib/python3.7/dist-packages/ipykernel_launcher.py:12: UserWarning: To copy construct from a tensor, it is recommended to use sourceTensor.clone().detach() or sourceTensor.clone().detach().requires_grad_(True), rather than torch.tensor(sourceTensor).\n",
            "  if sys.path[0] == '':\n",
            "/usr/local/lib/python3.7/dist-packages/ipykernel_launcher.py:14: UserWarning: To copy construct from a tensor, it is recommended to use sourceTensor.clone().detach() or sourceTensor.clone().detach().requires_grad_(True), rather than torch.tensor(sourceTensor).\n",
            "  \n",
            "/usr/local/lib/python3.7/dist-packages/ipykernel_launcher.py:16: UserWarning: To copy construct from a tensor, it is recommended to use sourceTensor.clone().detach() or sourceTensor.clone().detach().requires_grad_(True), rather than torch.tensor(sourceTensor).\n",
            "  app.launch_new_instance()\n",
            "/usr/local/lib/python3.7/dist-packages/ipykernel_launcher.py:28: UserWarning: To copy construct from a tensor, it is recommended to use sourceTensor.clone().detach() or sourceTensor.clone().detach().requires_grad_(True), rather than torch.tensor(sourceTensor).\n"
          ],
          "name": "stderr"
        },
        {
          "output_type": "stream",
          "text": [
            "Epoch 2 Completed,\tLoss 0.000304687107927748\tAccuracy: 0.877284586429596\n",
            "Epoch 4 Completed,\tLoss 6.785429491174e-06\tAccuracy: 0.9929492473602295\n",
            "Epoch 6 Completed,\tLoss 7.205419194633578e-07\tAccuracy: 0.9988789260387421\n",
            "Epoch 8 Completed,\tLoss 1.0466064168213052e-05\tAccuracy: 0.9942724704742432\n",
            "Epoch 10 Completed,\tLoss 1.0756341950468595e-07\tAccuracy: 0.996932715177536\n",
            "Epoch 12 Completed,\tLoss 4.963474253827371e-08\tAccuracy: 0.9998852014541626\n",
            "Epoch 14 Completed,\tLoss 2.0853737403569994e-08\tAccuracy: 0.9999999403953552\n",
            "Epoch 16 Completed,\tLoss 8.75389893906231e-09\tAccuracy: 0.9999999403953552\n",
            "Epoch 18 Completed,\tLoss 3.6808371906005277e-09\tAccuracy: 0.9999999403953552\n",
            "Epoch 20 Completed,\tLoss 1.5416523613254185e-09\tAccuracy: 0.9999999403953552\n"
          ],
          "name": "stdout"
        }
      ]
    },
    {
      "cell_type": "code",
      "metadata": {
        "colab": {
          "base_uri": "https://localhost:8080/",
          "height": 544
        },
        "id": "yUjf-rpqJBcC",
        "outputId": "6f1cc6d5-7baf-4a60-cbab-00940dba4f40"
      },
      "source": [
        "import matplotlib.pyplot as plt\n",
        "plt.plot(accuracy_list, c=\"red\", label =\"Accuracy\")\n",
        "plt.xlabel(\"Epochs\")\n",
        "plt.ylabel(\"Value\")\n",
        "plt.legend()\n",
        "plt.show()\n",
        "\n",
        "plt.plot(loss_list, c=\"blue\", label =\"Loss\")\n",
        "plt.xlabel(\"Epochs\")\n",
        "plt.ylabel(\"Value\")\n",
        "plt.legend()\n",
        "plt.show()"
      ],
      "execution_count": null,
      "outputs": [
        {
          "output_type": "display_data",
          "data": {
            "image/png": "[encoded data removed]",
            "text/plain": [
              "<Figure size 432x288 with 1 Axes>"
            ]
          },
          "metadata": {
            "tags": [],
            "needs_background": "light"
          }
        },
        {
          "output_type": "display_data",
          "data": {
            "image/png": "[encoded data removed]",
            "text/plain": [
              "<Figure size 432x288 with 1 Axes>"
            ]
          },
          "metadata": {
            "tags": [],
            "needs_background": "light"
          }
        }
      ]
    },
    {
      "cell_type": "code",
      "metadata": {
        "id": "bkYSKbgjJBnN"
      },
      "source": [
        ""
      ],
      "execution_count": null,
      "outputs": []
    },
    {
      "cell_type": "code",
      "metadata": {
        "id": "uwjrAdrHBU-q",
        "colab": {
          "base_uri": "https://localhost:8080/"
        },
        "outputId": "61b5b98b-688e-4f5d-f96e-e4cf5ea92495"
      },
      "source": [
        "y_true = []\n",
        "y_pred = []\n",
        "for sentence in test:\n",
        "  seq = \"\"\n",
        "  for s in range(len(sentence)):\n",
        "    if(s==(len(sentence)-1)):\n",
        "      seq+= sentence[s][0]\n",
        "    else:\n",
        "      seq += sentence[s][0] + \" \"\n",
        "    y_true.append(sentence[s][1])\n",
        "  \n",
        "  seq = seq.split()\n",
        "  with torch.no_grad():\n",
        "    words = [torch.tensor(sequence_to_idx(s[0], char_to_idx), dtype=torch.long).to(device) for s in seq]\n",
        "    sentence = torch.tensor(sequence_to_idx(seq, word_to_idx), dtype=torch.long).to(device)\n",
        "        \n",
        "    tag_scores = model(sentence, words)\n",
        "    _, indices = torch.max(tag_scores, 1)\n",
        "    ret = []\n",
        "    for i in range(len(indices)):\n",
        "        for key, value in tag_to_idx.items():\n",
        "            if indices[i] == value:\n",
        "                ret.append((seq[i], key))\n",
        "                y_pred.append(key)\n",
        "    print(ret)"
      ],
      "execution_count": null,
      "outputs": [
        {
          "output_type": "stream",
          "text": [
            "/usr/local/lib/python3.7/dist-packages/ipykernel_launcher.py:14: UserWarning: To copy construct from a tensor, it is recommended to use sourceTensor.clone().detach() or sourceTensor.clone().detach().requires_grad_(True), rather than torch.tensor(sourceTensor).\n",
            "  \n",
            "/usr/local/lib/python3.7/dist-packages/ipykernel_launcher.py:15: UserWarning: To copy construct from a tensor, it is recommended to use sourceTensor.clone().detach() or sourceTensor.clone().detach().requires_grad_(True), rather than torch.tensor(sourceTensor).\n",
            "  from ipykernel import kernelapp as app\n"
          ],
          "name": "stderr"
        },
        {
          "output_type": "stream",
          "text": [
            "[('ભારતના', 'N_NNP'), ('ટેસ્ટ', 'N_NN'), ('ઇતિહાસની', 'N_NN'), ('ઑસ્ટ્રેલિયા', 'N_NNP'), ('સામે', 'PSP'), ('વિકેટની', 'JJ'), ('રીતે', 'N_NN'), ('સૌથી', 'JJ'), ('મોટી', 'JJ'), ('જીત', 'N_NN'), ('.', 'RD_PUNC')]\n",
            "[('કે', 'CC_CCS'), ('તે', 'DM_DMD'), ('ત્રણે', 'JJ'), ('ય', 'RP_RPD'), ('ફોરમેટનો', 'N_NN'), ('બોલર', 'N_NN'), ('છે', 'V_VAUX'), ('.', 'RD_PUNC')]\n",
            "[('વનડેમાં', 'N_NN'), ('કેરમ', 'N_NN'), ('બોલ', 'N_NN'), ('સ્લો', 'JJ'), ('રીલીઝ', 'N_NN'), ('બોલ', 'N_NN'), ('ફેંકી', 'N_NN'), ('શકાય', 'V_VAUX'), ('.', 'RD_PUNC')]\n",
            "[('તે', 'DM_DMD'), ('વેધક', 'N_NN'), ('પૂરવાર', 'JJ'), ('થાય', 'V_VM'), ('છે', 'V_VAUX'), ('.', 'RD_PUNC')]\n",
            "[('આમ', 'PSP'), ('તેની', 'DM_DMD'), ('બોલિંગ', 'N_NN'), ('જૂની', 'JJ'), ('પરંપરાગત', 'N_NN'), ('પદ્ધતિ', 'N_NN'), ('કહી', 'V_VM'), ('શકાય', 'V_VAUX'), ('.', 'RD_PUNC')]\n",
            "[('પૂજારાએ', 'N_NNP'), ('કારકિર્દીમાં', 'N_NN'), ('ત્રીજી', 'QT_QTO'), ('વખત', 'N_NN'), ('૧૫૦થી', 'QT_QTC'), ('વધુનો', 'QT_QTF'), ('સ્કોર', 'N_NN'), ('કરતાં', 'N_NNP'), ('૨૫૧', 'N_NNP'), ('બોલમાં', 'N_NN'), ('૨૫', 'QT_QTC'), ('ચોગ્ગા', 'QT_QTC'), ('અને', 'CC_CCD'), ('૧', 'QT_QTC'), ('છગ્ગા', 'QT_QTC'), ('સાથે', 'PSP'), ('નોટઆઉટ', 'JJ'), ('૧૬૨', 'QT_QTC'), ('રન', 'N_NN'), ('ફટકાર્યા', 'V_VM'), ('હતા', 'V_VAUX'), ('.', 'RD_PUNC')]\n",
            "[('જ્યારે', 'N_NST'), ('તેના', 'PR_PRP'), ('૧૫૦', 'QT_QTC'), ('રન', 'N_NN'), ('૨૩૦', 'QT_QTC'), ('બોલમાં', 'N_NN'), ('નોંધાયા', 'V_VM'), ('હતા', 'V_VAUX'), ('.', 'RD_PUNC')]\n",
            "[('લંચ', 'N_NNP'), ('બાદના', 'N_NNP'), ('૩૩', 'QT_QTC'), ('ઓવરના', 'PSP'), ('સેશનમાં', 'N_NN'), ('ભારતે', 'N_NNP'), ('૧૦૬', 'QT_QTC'), ('રન', 'N_NN'), ('નોંધાવતા', 'PSP'), ('ઑસ્ટ્રેલિયાને', 'N_NNP'), ('પરેશાન', 'N_NN'), ('કરી', 'V_VM'), ('દીધું', 'N_NN'), ('હતું', 'V_VAUX'), ('.', 'RD_PUNC')]\n",
            "[('ભારતીય', 'JJ'), ('ટેસ્ટ', 'N_NN'), ('ઇતિહાસમાં', 'N_NN'), ('આ', 'DM_DMD'), ('ભાગીદારી', 'N_NN'), ('બીજી', 'QT_QTO'), ('વિકેટની', 'N_NN'), ('ત્રીજા', 'QT_QTO'), ('ક્રમની', 'N_NN'), ('શ્રેષ્ઠ', 'JJ'), ('ભાગીદારી', 'N_NN'), ('બની', 'V_VM'), ('રહી', 'V_VAUX'), ('હતી', 'V_VAUX'), ('.', 'RD_PUNC')]\n",
            "[('જે', 'PR_PRL'), ('ઉપ્પલમાં', 'N_NN'), ('અન્ય', 'JJ'), ('બેટ્સમેનોએ', 'N_NN'), ('ફટકારેલા', 'N_NN'), ('રનમાં', 'N_NN'), ('સૌથી', 'JJ'), ('વધુ', 'QT_QTF'), ('છે', 'V_VAUX'), ('.', 'RD_PUNC')]\n",
            "[('વિન્ડિઝે', 'N_NNP'), ('ઝિમ્બાબ્વેને', 'N_NNP'), ('બીજી', 'QT_QTO'), ('ટ્વેન્ટી', 'N_NN'), ('ટ્વેન્ટીમાં', 'N_NN'), ('આઠ', 'QT_QTC'), ('વિકેટથી', 'N_NN'), ('કચડીને', 'V_VAUX_VNP'), ('બે', 'QT_QTC'), ('ટ્વેન્ટી', 'N_NN'), ('ટ્વેન્ટીની', 'N_NN'), ('શ્રેણી', 'N_NN'), ('૨-૦ની', 'QT_QTC'), ('ક્લિન', 'JJ'), ('સ્વિપ', 'N_NN'), ('કરી', 'V_VM'), ('હતી', 'V_VAUX'), ('.', 'RD_PUNC')]\n",
            "[('આ', 'DM_DMD'), ('સાથે', 'PSP'), ('જાડેજાએ', 'N_NNP'), ('પણ', 'RP_RPD'), ('સ્પિનર', 'N_NN'), ('તરીકેની', 'PSP'), ('પોતાની', 'PR_PRF'), ('ઉપયોગીતા', 'JJ'), ('અને', 'CC_CCD'), ('ટીમમાં', 'N_NN'), ('જરૂરિયાતની', 'N_NN'), ('સાબિતી', 'N_NN'), ('આપતાં', 'PSP'), ('કુલ', 'JJ'), ('છ', 'QT_QTC'), ('વિકેટ', 'N_NN'), ('પોતાના', 'PR_PRF'), ('નામે', 'N_NN'), ('કરી', 'V_VM'), ('હતી', 'V_VAUX'), ('.', 'RD_PUNC')]\n",
            "[('હાલ', 'N_NST'), ('સમગ્ર', 'N_NN'), ('ભારતમાં', 'N_NNP'), ('`', 'RD_PUNC'), ('કબડ્ડીના', 'N_NN'), ('`', 'RD_PUNC'), ('નામથી', 'N_NN'), ('આ', 'DM_DMD'), ('રમત', 'N_NN'), ('રમાય', 'V_VM'), ('છે', 'V_VAUX'), ('.', 'RD_PUNC')]\n",
            "[('દડાને', 'N_NN'), ('જમણા', 'JJ'), ('ઘૂંટણ', 'N_NN'), ('પાસે', 'PSP'), ('લાવશે', 'V_VAUX_VNP'), ('.', 'RD_PUNC')]\n",
            "[('આ', 'DM_DMD'), ('જિમખાનાએ', 'N_NN'), ('ઈ.સ.', 'N_NN'), ('૧૯૧૯', 'QT_QTC'), ('અને', 'CC_CCD'), ('૧૯૨૮માં', 'QT_QTC'), ('ફરીથી', 'PSP'), ('નિયમોમાં', 'N_NN'), ('સુધારા', 'N_NN'), ('કરી', 'V_VM'), ('બહાર', 'N_NST'), ('પાડ્યા', 'N_NNP'), ('હતા', 'V_VAUX'), ('.', 'RD_PUNC')]\n",
            "[('રમનાર', 'V_VAUX_VNP'), ('ખેલાડી', 'N_NN'), ('દોડતો', 'N_NN'), ('હોય', 'V_VAUX'), ('અને', 'CC_CCD'), ('મારનારે', 'N_NN'), ('તેનો', 'JJ'), ('પીછો', 'N_NN'), ('પકડ્યો', 'N_NN'), ('હોય', 'V_VAUX'), ('ત્યારે', 'N_NST'), ('તે', 'DM_DMD'), ('રમનારની', 'N_NNP'), ('બહુ', 'QT_QTF'), ('જ', 'RP_RPD'), ('નજીક', 'JJ'), ('આવતાં', 'V_VAUX_VNP'), ('સીધો', 'JJ'), ('જ', 'RP_RPD'), ('તેના', 'DM_DMD'), ('પર', 'PSP'), ('ડાઈવ', 'N_NN'), ('મારે', 'V_VM'), ('છે', 'V_VAUX'), ('.', 'RD_PUNC')]\n",
            "[('ડબલ', 'JJ'), ('ચેઈનમાં', 'N_NNP'), ('પણ', 'RP_RPD'), ('બેઠેલા', 'N_NST'), ('ખેલાડીઓની', 'N_NN'), ('પીઠ', 'N_NN'), ('પાછળથી', 'PSP'), ('જ', 'RP_RPD'), ('પસાર', 'JJ'), ('થવાનું', 'V_VM'), ('હોય', 'V_VAUX'), ('છે', 'V_VAUX'), ('.', 'RD_PUNC')]\n",
            "[('હવામાં', 'N_NN'), ('અથવા', 'CC_CCD'), ('ગ્રાઉન્ડ', 'N_NN'), ('પર', 'PSP'), ('માથું', 'N_NN'), (',', 'RD_PUNC'), ('છાતી', 'N_NN'), (',', 'RD_PUNC'), ('જાંઘ', 'N_NNP'), ('તથા', 'CC_CCD'), ('ઘૂટણના', 'N_NNP'), ('નીચેના', 'N_NNP'), ('ભાગથી', 'N_NN'), ('ખેલાડી', 'N_NN'), ('ટ્રેપિંગ', 'N_NN'), ('કરે', 'V_VM'), ('છે', 'V_VAUX'), ('.', 'RD_PUNC')]\n",
            "[('જ્યારે', 'N_NST'), ('આક્રમક', 'JJ'), ('ખેલાડી', 'N_NN'), (',', 'RD_PUNC'), ('દડા', 'N_NN'), ('કરતાં', 'JJ'), ('પ્રતિસ્પર્ધી', 'JJ'), ('ખેલાડીની', 'N_NN'), ('ગોલરેખાની', 'V_VM'), ('નજીક', 'JJ'), ('હોય', 'V_VAUX'), ('ત્યારે', 'N_NST'), ('ઑફ', 'N_NNP'), ('સાઈડ', 'N_NN'), ('ગણાય', 'V_VM'), ('છે', 'V_VAUX'), ('.', 'RD_PUNC')]\n",
            "[('કોઈ', 'DM_DMI'), ('ખેલાડી', 'N_NN'), ('પ્રતિસ્પર્ધીને', 'N_NN'), ('લાત', 'N_NN'), ('મારવાનો', 'PSP'), ('પ્રયત્ન', 'N_NN'), ('કરી', 'V_VM'), ('શકતો', 'V_VAUX'), ('નથી', 'RP_NEG'), ('.', 'RD_PUNC')]\n",
            "[('કોઈ', 'DM_DMI'), ('ખેલાડી', 'N_NN'), ('રમતના', 'N_NN'), ('નિયમોનો', 'N_NN'), ('વારંવાર', 'PSP'), ('ભંગ', 'N_NN'), ('કરે', 'V_VM'), (',', 'RD_PUNC'), ('મુખ્ય', 'N_NNP'), ('નિર્ણયો', 'N_NN'), ('સામે', 'PSP'), ('ટીકાત્મક', 'N_NN'), ('વર્તન', 'N_NN'), ('કરે', 'V_VM'), (',', 'RD_PUNC'), ('તો', 'CC_CCD'), ('ખેલાડીને', 'N_NN'), ('ચેતવણી', 'N_NN'), ('આપવામાં', 'PSP'), ('આવશે', 'V_VAUX'), ('તથા', 'CC_CCD'), ('પ્રતિસ્પર્ધીને', 'N_NN'), ('ઈનડાયરેક્ટ', 'JJ'), ('ફ્રી', 'JJ'), ('કીક', 'N_NN'), ('આપવામાં', 'V_VAUX_VNP'), ('આવશે', 'V_VAUX'), ('.', 'RD_PUNC')]\n",
            "[('ક્રિકેટની', 'N_NN'), ('રમત', 'N_NN'), ('માટે', 'PSP'), ('પહેલાં', 'N_NST'), ('આજની', 'JJ'), ('જેમ', 'PSP'), ('ત્રણ', 'QT_QTC'), ('સ્ટમ્પની', 'N_NN'), ('વિકેટ', 'N_NN'), ('ન', 'RP_NEG'), ('હતી', 'V_VAUX'), (',', 'RD_PUNC'), ('પરંતુ', 'CC_CCD'), ('બાવીસ', 'JJ'), ('ઈંચ', 'N_NN'), ('ઊંચાઈની', 'V_VM'), ('અને', 'CC_CCD'), ('છ', 'QT_QTC'), ('ઈંચ', 'N_NN'), ('પહોળી', 'PSP'), ('એવી', 'JJ'), ('બે', 'QT_QTC'), ('ઘોડી', 'N_NN'), ('ઉપર', 'PSP'), ('વાંસ', 'N_NN'), ('મૂકવામાં', 'N_NN'), ('આવતો', 'V_VM'), ('.', 'RD_PUNC')]\n",
            "[('આ', 'DM_DMD'), ('મેચમાં', 'N_NN'), ('ચાર્લ્સ', 'N_NNP'), ('લેનેક્સે', 'N_NNP'), ('પણ', 'RP_RPD'), ('ભાગ', 'N_NN'), ('લીધેલો', 'V_VM'), ('.', 'RD_PUNC')]\n",
            "[('ગુજરાત', 'N_NNP'), ('યુનિવર્સિટીના', 'N_NNP'), ('સૌરાષ્ટ્ર', 'N_NNP'), ('-', 'RD_PUNC'), ('કચ્છ', 'N_NN'), ('વિભાગ', 'N_NN'), ('આવેલી', 'N_NN'), ('કૉલેજમાં', 'N_NNP'), ('જે', 'PR_PRL'), ('કૉલેજ', 'N_NN'), ('ક્રિકેટમાં', 'N_NN'), ('ચેમ્પિયન', 'N_NN'), ('થતી', 'PR_PRP'), ('તેને', 'PR_PRP'), ('આ', 'DM_DMD'), ('ટ્રોફી', 'N_NN'), ('એનાયત', 'JJ'), ('કરવામાં', 'V_VM'), ('આવતી', 'V_VAUX'), ('.', 'RD_PUNC')]\n",
            "[('ગુજરાત', 'N_NNP'), ('કૉલેજને', 'N_NNP'), ('આંગણે', 'N_NN'), ('નૉર્થકોટ', 'N_NN'), ('શીલ્ડની', 'N_NNP'), ('મેચ', 'N_NN'), ('રમાય', 'V_VM'), ('અગર', 'N_NN'), ('તો', 'RP_RPD'), ('સ્થાનિક', 'JJ'), ('હિન્દુ', 'N_NNP'), ('જિમખાના', 'N_NNP'), ('કોઈ', 'DM_DMI'), ('સ્થાનિક', 'JJ'), ('અગર', 'N_NN'), ('બહારની', 'JJ'), ('ક્લબ', 'N_NN'), ('સાથે', 'PSP'), ('મેચ', 'N_NN'), ('રમે', 'V_VM'), ('ત્યારે', 'N_NST'), ('જ', 'RP_RPD'), ('સારી', 'JJ'), ('ક્રિકેટમેચ', 'N_NN'), ('જોવા', 'V_VM'), ('મળતી', 'V_VM'), ('.', 'RD_PUNC')]\n",
            "[('ગોરધનદાસ', 'N_NNP'), ('કપ', 'N_NNP'), ('ટુર્નામેન્ટમાં', 'N_NNP'), ('અમદાવાદની', 'N_NNP'), ('સ્થાનિક', 'JJ'), ('કોઈ', 'DM_DMI'), ('પણ', 'RP_RPD'), ('ટીમ', 'N_NN'), ('ભાગ', 'N_NN'), ('લઈ', 'V_VM'), ('શકે', 'V_VAUX'), ('છે', 'V_VAUX'), ('.', 'RD_PUNC')]\n",
            "[('બૅટ્સમૅનનું', 'PSP'), ('સઘળું', 'N_NNP'), ('વજન', 'N_NN'), ('બૅટ', 'N_NN'), ('ઉપર', 'PSP'), ('ન', 'RP_NEG'), ('હોવું', 'V_VAUX_VNP'), ('જોઈએ', 'V_VAUX'), (',', 'RD_PUNC'), ('પરંતુ', 'CC_CCD'), ('શરીરના', 'N_NN'), ('બંને', 'JJ'), ('પગ', 'N_NN'), ('વચ્ચે', 'N_NST'), ('લગભગ', 'PSP'), ('છ', 'QT_QTC'), ('ઈંચનું', 'N_NN'), ('અંતર', 'N_NN'), ('રાખી', 'V_VM'), ('સમતુલા', 'N_NN'), ('રાખીને', 'V_VAUX_VNP'), ('ઊભવું', 'V_VAUX_VNP'), ('જોઈએ', 'V_VAUX'), ('.', 'RD_PUNC')]\n",
            "[('બૅટ', 'N_NN'), ('પકડીને', 'N_NN'), ('ઊભા', 'V_VM'), ('રહેવાની', 'V_VAUX_VNP'), ('રીતને', 'N_NN'), ('`', 'RD_PUNC'), ('સ્ટાન્સ', 'N_NNP'), ('કહે', 'V_VM'), ('છે', 'V_VAUX'), ('.', 'RD_PUNC')]\n",
            "[('દડાને', 'N_NN'), ('અટકાવવો', 'PSP'), (',', 'RD_PUNC'), ('પકડવો', 'N_NN'), ('કે', 'CC_CCS'), ('ઘા', 'N_NN'), ('કરવો', 'V_VAUX_VNP'), ('એ', 'DM_DMD'), ('ક્રિકેટની', 'N_NN'), ('સહેલામાં', 'N_NN'), ('સહેલી', 'N_NN'), ('રમત', 'N_NN'), ('છે', 'V_VAUX'), ('.', 'RD_PUNC')]\n",
            "[('રમત', 'N_NN'), ('દરમિયાન', 'PSP'), ('લાંબા', 'JJ'), ('અંતરે', 'N_NN'), ('દડો', 'N_NN'), ('મોકલવા', 'N_NN'), ('માટે', 'PSP'), ('અથવા', 'CC_CCD'), ('સ્ટ્રાઈકિંગ', 'N_NN'), ('સર્કલમાં', 'JJ'), ('ગયેલા', 'N_NN'), ('દડાને', 'N_NN'), ('ગોલને', 'N_NN'), ('ફટકારવા', 'N_NN'), ('માટે', 'PSP'), ('આ', 'DM_DMD'), ('પ્રકારનાં', 'N_NN'), ('કૌશલ્યોનો', 'N_NN'), ('ઉપયોગ', 'N_NN'), ('કરવામાં', 'V_VAUX_VNP'), ('આવે', 'V_VAUX'), ('છે', 'V_VAUX'), ('.', 'RD_PUNC')]\n",
            "[('જે', 'PR_PRL'), ('દિશામાં', 'N_NN'), ('દડો', 'N_NN'), ('ક્લિક', 'JJ'), ('કરવાનો', 'V_VAUX_VNP'), ('હોય', 'V_VAUX'), ('તે', 'DM_DMD'), ('તરફ', 'PSP'), ('પંજો', 'N_NN'), ('રહે', 'V_VAUX'), ('તે', 'DM_DMD'), ('રીતે', 'N_NN'), ('ડાબો', 'N_NN'), ('પગ', 'N_NN'), ('આગળ', 'PSP'), ('મૂકવો', 'V_VAUX_VNP'), ('.', 'RD_PUNC')]\n",
            "[('શરીર', 'N_NN'), ('કમરમાંથી', 'N_NN'), ('આગળ', 'N_NST'), ('તરફ', 'PSP'), ('ઝૂકેલું', 'N_NN'), ('રાખવું', 'N_NN'), ('અને', 'CC_CCD'), ('નજર', 'N_NN'), ('દડા', 'N_NN'), ('તરફ', 'PSP'), ('રાખવી', 'V_VAUX_VNP'), ('.', 'RD_PUNC')]\n",
            "[('સ્ટિકને', 'N_NN'), ('દડાની', 'N_NN'), ('પાછળ', 'PSP'), (',', 'RD_PUNC'), ('સપાટ', 'JJ'), ('ભાગ', 'N_NN'), ('દડા', 'N_NN'), ('નીચે', 'N_NST'), ('ત્રાંસો', 'JJ'), ('રહે', 'V_VM'), ('તેમ', 'PSP'), ('મૂકવી', 'PSP'), ('.', 'RD_PUNC')]\n",
            "[('શેડો', 'N_NNP'), ('ટેકલિંગમાં', 'N_NN'), ('બચાવ', 'N_NN'), ('પક્ષનો', 'N_NN'), ('ખેલાડી', 'N_NN'), ('આક્રમણ', 'N_NN'), ('કરનાર', 'V_VAUX_VNP'), ('ખેલાડીની', 'N_NN'), ('સાથે', 'PSP'), ('સાથે', 'PSP'), ('દોડશે', 'V_VM'), ('અને', 'CC_CCD'), ('જ્યારે', 'N_NST'), ('તક', 'N_NN'), ('મળશે', 'N_NN'), ('ત્યારે', 'N_NST'), ('દડો', 'N_NN'), ('પડાવી', 'N_NN'), ('લેશે', 'N_NN'), ('.', 'RD_PUNC')]\n",
            "[('રમત', 'N_NN'), ('દરમિયાન', 'PSP'), ('બે', 'QT_QTC'), ('ખેલાડીઓનું', 'N_NN'), ('અવેજીકરણ', 'N_NN'), ('શકાશે', 'N_NNP'), ('.', 'RD_PUNC')]\n",
            "[('સિક્કા', 'N_NN'), ('ઉછાળમાં', 'N_NN'), ('વિજેતા', 'N_NN'), ('જે', 'PR_PRL'), ('પસંદગી', 'N_NN'), ('કરશે', 'V_VM'), ('તેનાથી', 'DM_DMD'), ('વિરુદ્ધ', 'PSP'), ('પસંદગી', 'N_NN'), ('વિરુદ્ધ', 'PSP'), ('ટુકડીની', 'N_NN'), ('રહેશે', 'V_VAUX'), ('.', 'RD_PUNC')]\n",
            "[('રામનાથનને', 'N_NNP'), ('હેલ્મસ', 'N_NN'), ('પુરસ્કાર', 'N_NNP'), ('પણ', 'RP_RPD'), ('એનાયત', 'JJ'), ('કરાયો', 'V_VM'), ('હતો', 'V_VAUX'), ('.', 'RD_PUNC')]\n",
            "[('ટેનિસ', 'N_NN'), ('ક્ષેત્રે', 'N_NN'), ('આમ', 'PSP'), ('તો', 'RP_RPD'), ('વિજયે', 'N_NNP'), ('તેના', 'PR_PRP'), ('સમયગાળાના', 'N_NN'), ('ધરખમ', 'JJ'), ('ટેનિસ', 'N_NN'), ('ખેલાડીઓને', 'N_NN'), ('કોઈને', 'PSP'), ('કોઈ', 'DM_DMI'), ('સ્થળે', 'JJ'), ('હરાવ્યા', 'V_VM'), ('છે', 'V_VAUX'), ('.', 'RD_PUNC')]\n",
            "[('રમેશ', 'N_NNP'), ('કૃષ્ણન', 'N_NNP'), ('વિશે', 'PSP'), ('ઘણા', 'QT_QTF'), ('મજાકમાં', 'N_NN'), ('કહે', 'V_VM'), ('કે', 'CC_CCS'), ('સ્ટેફી', 'N_NN'), ('ગ્રાફની', 'N_NN'), ('સર્વિસ', 'N_NN'), ('પણ', 'RP_RPD'), ('તેના', 'PR_PRP'), ('કરતા', 'JJ'), ('ઝડપી', 'JJ'), ('હોય', 'V_VAUX'), ('છે', 'V_VAUX'), ('.', 'RD_PUNC')]\n",
            "[('એશિયાઈ', 'JJ'), ('જુનિયર', 'JJ'), ('ચેમ્પિયનનો', 'N_NN'), ('તાજ', 'N_NN'), ('જીતીને', 'N_NNP'), ('ઝિશાને', 'N_NNP'), ('એશિયાના', 'N_NNP'), ('સર્વશ્રેષ્ઠ', 'JJ'), ('ખેલાડી', 'N_NN'), ('તરીકેનું', 'PSP'), ('સ્થાન', 'N_NN'), ('મેળવ્યું', 'V_VM'), ('.', 'RD_PUNC')]\n",
            "[('સૌથી', 'JJ'), ('નાની', 'JJ'), ('વયે', 'N_NN'), ('તેણે', 'PR_PRP'), ('આ', 'DM_DMD'), ('તાજ', 'N_NN'), ('હાંસલ', 'JJ'), ('કર્યો', 'V_VM'), ('હતો', 'V_VAUX'), ('.', 'RD_PUNC')]\n",
            "[('આ', 'DM_DMD'), ('ટુર્નામેન્ટમાં', 'N_NN'), ('ભારતે', 'N_NNP'), ('કુલ', 'JJ'), ('૩૮', 'QT_QTC'), ('ગોલ', 'N_NN'), ('કર્યા', 'V_VM'), ('હતા', 'V_VAUX'), ('.', 'RD_PUNC')]\n",
            "[('આ', 'DM_DMD'), ('રમતોત્સવ', 'N_NN'), ('પતિયાળામાં', 'N_NNP'), ('યોજાયો', 'V_VM'), ('હતો', 'V_VAUX'), ('.', 'RD_PUNC')]\n",
            "[('ટોકિયો', 'N_NNP'), ('ખાતે', 'PSP'), ('યોજાયેલ', 'V_VAUX_VNP'), ('૧૯૬૮ની', 'QT_QTC'), ('એશિયાડમાં', 'N_NNP'), ('મિલ્ખાસિંહે', 'N_NNP'), ('તો', 'RP_RPD'), ('ભારતીય', 'JJ'), ('એથ્લેટિક્સ', 'N_NN'), ('ઇતિહાસમાં', 'N_NN'), ('એક', 'QT_QTC'), ('સુવર્ણ', 'N_NN'), ('-', 'RD_PUNC'), ('પ્રકરણ', 'N_NN'), ('આલેખી', 'QT_QTC'), ('દીધું', 'N_NN'), ('.', 'RD_PUNC')]\n",
            "[('એશિયા', 'N_NNP'), ('સ્પ્રિન્ટ', 'N_NN'), (',', 'RD_PUNC'), ('સુવર્ણપરી', 'N_NNP'), (',', 'RD_PUNC'), ('ઉડનપરી', 'N_NNP'), (',', 'RD_PUNC'), ('એક્સપ્રેસ', 'N_NNP'), ('ગર્લ', 'N_NNP'), ('વગેરે', 'PSP'), ('જેવાં', 'N_NN'), ('વિવિધ', 'JJ'), ('ગૌરવવંતા', 'N_NN'), ('બિરુદ', 'N_NN'), ('મેળવી', 'V_VM'), ('ચૂકેલ', 'N_NNP'), ('પી.ટી.ઉષા', 'N_NNP'), ('એથ્લેટિક', 'N_NN'), ('જગતમાં', 'N_NN'), ('ભારતની', 'N_NNP'), ('એમ્બેસેડર', 'N_NN'), ('હતી', 'V_VAUX'), ('.', 'RD_PUNC')]\n",
            "[('લગભગ', 'PSP'), ('છેલ્લા', 'JJ'), ('બે', 'QT_QTC'), ('દશકા', 'N_NN'), ('સુધી', 'PSP'), ('ભારત', 'N_NNP'), ('અને', 'CC_CCD'), ('એશિયાના', 'N_NNP'), ('ટ્રેક', 'N_NN'), ('પર', 'PSP'), ('એક', 'QT_QTC'), ('સમ્રાજ્ઞીની', 'N_NNP'), ('માફક', 'PSP'), ('રાજ', 'N_NN'), ('કરનાર', 'N_NN'), ('પી.ટી.ઉષાએ', 'N_NNP'), ('ગોલ્ડન', 'N_NNP'), ('ટ્રેક', 'N_NN'), ('પરથી', 'PSP'), ('અનેક', 'JJ'), ('ચંદ્રકો', 'N_NN'), ('અને', 'CC_CCD'), ('સિદ્ધિઓ', 'N_NN'), ('મેળવેલ', 'V_VM'), ('છે', 'V_VAUX'), ('.', 'RD_PUNC')]\n",
            "[('૧૯૭૮માં', 'QT_QTO'), ('ક્લિવાનમાં', 'N_NNP'), ('જ્યારે', 'N_NST'), ('આંતરરાજ્ય', 'PSP'), ('એથ્લેટિક', 'N_NN'), ('ચેમ્પિયનશીપ', 'N_NN'), ('યોજાઈ', 'V_VM'), ('ત્યારે', 'N_NST'), ('૧૦૦', 'QT_QTC'), ('મીટર', 'N_NN'), ('દોડમાં', 'N_NN'), ('આ', 'DM_DMD'), ('૧૩', 'QT_QTC'), ('વર્ષની', 'N_NN'), ('ટૂંકું', 'N_NN'), ('ફ્રોક', 'N_NN'), ('પહેરેલ', 'V_VM'), ('અને', 'CC_CCD'), ('લાંબા', 'JJ'), ('પગ', 'N_NN'), ('ધરાવતી', 'PSP'), ('છોકરીએ', 'PSP'), ('૧૩.૧', 'QT_QTC'), ('સેકન્ડમાં', 'N_NN'), ('દોડી', 'N_NN'), ('જઈને', 'N_NN'), ('સૌને', 'JJ'), ('આશ્ચર્યચકિત', 'JJ'), ('કરી', 'V_VM'), ('દીધા', 'V_VAUX'), ('હતા', 'V_VAUX'), ('.', 'RD_PUNC')]\n",
            "[('સૌંદર્યથી', 'JJ'), ('ભરપૂર', 'N_NN'), ('એવા', 'N_NN'), ('કેરળના', 'JJ'), ('પ્યોલી', 'N_NN'), ('ગામની', 'N_NN'), ('પી.ટી.ઉષાએ', 'N_NNP'), ('આંતરરાષ્ટ્રીય', 'JJ'), ('કારકિર્દી', 'N_NNP'), ('માત્ર', 'RP_RPD'), ('૧૬', 'QT_QTC'), ('વર્ષની', 'N_NN'), ('ઉંમરે', 'N_NN'), ('૧૯૮૦માં', 'QT_QTC'), ('મોસ્કો', 'N_NNP'), ('ખાતે', 'PSP'), ('યોજાયેલ', 'V_VAUX_VNP'), ('બાવીશમાં', 'N_NNP'), ('એથ્લેટિક્સથી', 'N_NN'), ('શરૂ', 'JJ'), ('કરી', 'V_VM'), ('હતી', 'V_VAUX'), ('.', 'RD_PUNC')]\n",
            "[('ફાઈનલમાં', 'N_NN'), ('તે', 'PR_PRP'), ('ભારત', 'N_NNP'), ('વતી', 'N_NNP'), ('સૌ', 'JJ'), ('પ્રથમ', 'QT_QTO'), ('દોડી', 'N_NN'), ('હતી', 'V_VAUX'), ('.', 'RD_PUNC')]\n",
            "[('ઉષાએ', 'N_NNP'), ('સર્વશ્રેષ્ઠ', 'JJ'), ('સમય', 'N_NN'), ('૫૫.૪૨', 'QT_QTC'), ('સેકન્ડનો', 'N_NN'), ('૪૦૦', 'QT_QTC'), ('મીટર', 'N_NN'), ('દોડમાં', 'N_NN'), ('નોંધાવ્યો', 'N_NN'), ('હતો', 'V_VAUX'), ('.', 'RD_PUNC')]\n"
          ],
          "name": "stdout"
        }
      ]
    },
    {
      "cell_type": "code",
      "metadata": {
        "id": "5MjwzMnVBU-q",
        "colab": {
          "base_uri": "https://localhost:8080/"
        },
        "outputId": "ed656033-346c-473f-bd04-f3d47e1a69cd"
      },
      "source": [
        "from sklearn.metrics import accuracy_score\n",
        "accuracy_score(y_true, y_pred)"
      ],
      "execution_count": null,
      "outputs": [
        {
          "output_type": "execute_result",
          "data": {
            "text/plain": [
              "0.8261437908496732"
            ]
          },
          "metadata": {
            "tags": []
          },
          "execution_count": 78
        }
      ]
    },
    {
      "cell_type": "code",
      "metadata": {
        "id": "SFbgLgXyYBQU",
        "colab": {
          "base_uri": "https://localhost:8080/"
        },
        "outputId": "4911e873-6c82-4d2d-b3dc-cd1fff89e3e3"
      },
      "source": [
        "tags = ['N_NN', 'PR_PRL', 'JJ', 'V_VAUX_VNP', 'V_VAUX', 'N_NNP', 'RD_PUNC', 'DM_DMD', 'N_NST', 'PR_PRI', 'PR_PRP', 'V_VM', 'PSP', 'DM_DMI', 'RP_RPD', 'QT_QTF', 'RP_NEG', 'CC_CCD', 'QT_QTC', 'RD_SYM', 'CC_CCS', 'PR_PRF', 'PR_PRQ', 'DM_DMQ', 'CC_CCS_UT', 'PR_PRC', 'QT_QTO', 'RB', 'RD_RDF', 'DM_DMR','RP_INJ','RD_ECH','RP_INTF','RP_CL']\n",
        "heading = ['guj_entertainment_sample3','guj_philosophy_sample4','guj_science and technology_sample6','guj_sports_sample7','guj_religion_sample5','guj_economy_sample2','guj_art and culture_sample1']\n",
        "total_true = {}\n",
        "total_false = {}\n",
        "\n",
        "for i in tags:\n",
        "  total_true[i] = 0;\n",
        "  total_false[i]=0;\n",
        "\n",
        "def evaluations(true,pred):\n",
        "  dictt = {}\n",
        "  for i in tags:\n",
        "    dictt[i]={}\n",
        "  \n",
        "  for i in range(len(true)):\n",
        "    if(true[i]==pred[i]):\n",
        "      total_true[true[i]] += 1\n",
        "      continue\n",
        "    \n",
        "    total_false[true[i]] += 1\n",
        "    if(pred[i] in dictt[true[i]].keys()):\n",
        "      dictt[true[i]][pred[i]] += 1\n",
        "    else:\n",
        "      dictt[true[i]][pred[i]] = 1\n",
        "  return dictt\n",
        "\n",
        "res = evaluations(y_true,y_pred)\n",
        "print(res)"
      ],
      "execution_count": null,
      "outputs": [
        {
          "output_type": "stream",
          "text": [
            "{'N_NN': {'JJ': 5, 'N_NNP': 13, 'PSP': 4, 'V_VM': 2}, 'PR_PRL': {'DM_DMD': 1}, 'JJ': {'N_NN': 15, 'N_NNP': 4, 'PSP': 1}, 'V_VAUX_VNP': {'N_NNP': 4, 'PSP': 7, 'N_NN': 14, 'N_NST': 1, 'V_VM': 9, 'JJ': 2, 'V_VAUX': 2, 'PR_PRP': 1}, 'V_VAUX': {'N_NN': 3, 'N_NNP': 1}, 'N_NNP': {'N_NN': 8, 'JJ': 3}, 'RD_PUNC': {}, 'DM_DMD': {'PR_PRP': 3, 'JJ': 1}, 'N_NST': {'JJ': 2}, 'PR_PRI': {}, 'PR_PRP': {'DM_DMD': 1}, 'V_VM': {'N_NN': 7, 'V_VAUX_VNP': 3, 'N_NNP': 1, 'V_VAUX': 1, 'QT_QTC': 1}, 'PSP': {'N_NNP': 3, 'N_NN': 2, 'N_NST': 1}, 'DM_DMI': {'PSP': 1}, 'RP_RPD': {}, 'QT_QTF': {}, 'RP_NEG': {}, 'CC_CCD': {}, 'QT_QTC': {'JJ': 2, 'N_NNP': 2, 'QT_QTO': 1}, 'RD_SYM': {}, 'CC_CCS': {}, 'PR_PRF': {}, 'PR_PRQ': {}, 'DM_DMQ': {}, 'CC_CCS_UT': {}, 'PR_PRC': {}, 'QT_QTO': {}, 'RB': {'PSP': 1}, 'RD_RDF': {}, 'DM_DMR': {}, 'RP_INJ': {}, 'RD_ECH': {}, 'RP_INTF': {}, 'RP_CL': {}}\n"
          ],
          "name": "stdout"
        }
      ]
    },
    {
      "cell_type": "code",
      "metadata": {
        "id": "R61cH1MkYBQV"
      },
      "source": [
        "for i in list(total_true):\n",
        "  if(total_true[i]==0):\n",
        "    total_true.pop(i)\n",
        "\n",
        "for i in list(total_false):\n",
        "  if(total_false[i]==0):\n",
        "    total_false.pop(i)"
      ],
      "execution_count": null,
      "outputs": []
    },
    {
      "cell_type": "code",
      "metadata": {
        "id": "nOQJtNtLYBQV",
        "colab": {
          "base_uri": "https://localhost:8080/",
          "height": 508
        },
        "outputId": "8ee5ab3d-64ea-4b88-ea55-fc6f04b5134d"
      },
      "source": [
        "import matplotlib.pyplot as plt\n",
        "from matplotlib.pyplot import figure\n",
        "\n",
        "figure(figsize=(8, 6), dpi=80)\n",
        "plt.bar(range(len(total_true)), list(total_true.values()), align='center')\n",
        "plt.xticks(range(len(total_true)), list(total_true.keys()),rotation='vertical')\n",
        "plt.title(\"Correctly Predicted\")"
      ],
      "execution_count": null,
      "outputs": [
        {
          "output_type": "execute_result",
          "data": {
            "text/plain": [
              "Text(0.5, 1.0, 'Correctly Predicted')"
            ]
          },
          "metadata": {
            "tags": []
          },
          "execution_count": 81
        },
        {
          "output_type": "display_data",
          "data": {
            "image/png": "[encoded data removed]",
            "text/plain": [
              "<Figure size 640x480 with 1 Axes>"
            ]
          },
          "metadata": {
            "tags": [],
            "needs_background": "light"
          }
        }
      ]
    },
    {
      "cell_type": "code",
      "metadata": {
        "id": "7m056YnsYBQV",
        "colab": {
          "base_uri": "https://localhost:8080/",
          "height": 508
        },
        "outputId": "f263631e-423f-4023-b7fa-f13aeafb99ee"
      },
      "source": [
        "import matplotlib.pyplot as plt\n",
        "from matplotlib.pyplot import figure\n",
        "\n",
        "figure(figsize=(8, 6), dpi=80)\n",
        "plt.bar(range(len(total_false)), list(total_false.values()), align='center')\n",
        "plt.xticks(range(len(total_false)), list(total_false.keys()),rotation='vertical')\n",
        "plt.title(\"Wrong Prediction\")"
      ],
      "execution_count": null,
      "outputs": [
        {
          "output_type": "execute_result",
          "data": {
            "text/plain": [
              "Text(0.5, 1.0, 'Wrong Prediction')"
            ]
          },
          "metadata": {
            "tags": []
          },
          "execution_count": 82
        },
        {
          "output_type": "display_data",
          "data": {
            "image/png": "[encoded data removed]",
            "text/plain": [
              "<Figure size 640x480 with 1 Axes>"
            ]
          },
          "metadata": {
            "tags": [],
            "needs_background": "light"
          }
        }
      ]
    },
    {
      "cell_type": "code",
      "metadata": {
        "id": "6jj777VjYBQV",
        "colab": {
          "base_uri": "https://localhost:8080/"
        },
        "outputId": "ea7d4ed1-abab-44f5-ccc6-1ff8a1873ac7"
      },
      "source": [
        "for i in res:\n",
        "  total = 0\n",
        "  print(\"Actual Value \",i)\n",
        "  for j in res[i]:\n",
        "    total += res[i][j]\n",
        "  \n",
        "  print(res[i])\n",
        "  print(\"Total Wrong Prediction \",total)\n",
        "  print(\"\\n\")\n",
        "  print(\"*\"*50)"
      ],
      "execution_count": null,
      "outputs": [
        {
          "output_type": "stream",
          "text": [
            "Actual Value  N_NN\n",
            "{'JJ': 5, 'N_NNP': 13, 'PSP': 4, 'V_VM': 2}\n",
            "Total Wrong Prediction  24\n",
            "\n",
            "\n",
            "**************************************************\n",
            "Actual Value  PR_PRL\n",
            "{'DM_DMD': 1}\n",
            "Total Wrong Prediction  1\n",
            "\n",
            "\n",
            "**************************************************\n",
            "Actual Value  JJ\n",
            "{'N_NN': 15, 'N_NNP': 4, 'PSP': 1}\n",
            "Total Wrong Prediction  20\n",
            "\n",
            "\n",
            "**************************************************\n",
            "Actual Value  V_VAUX_VNP\n",
            "{'N_NNP': 4, 'PSP': 7, 'N_NN': 14, 'N_NST': 1, 'V_VM': 9, 'JJ': 2, 'V_VAUX': 2, 'PR_PRP': 1}\n",
            "Total Wrong Prediction  40\n",
            "\n",
            "\n",
            "**************************************************\n",
            "Actual Value  V_VAUX\n",
            "{'N_NN': 3, 'N_NNP': 1}\n",
            "Total Wrong Prediction  4\n",
            "\n",
            "\n",
            "**************************************************\n",
            "Actual Value  N_NNP\n",
            "{'N_NN': 8, 'JJ': 3}\n",
            "Total Wrong Prediction  11\n",
            "\n",
            "\n",
            "**************************************************\n",
            "Actual Value  RD_PUNC\n",
            "{}\n",
            "Total Wrong Prediction  0\n",
            "\n",
            "\n",
            "**************************************************\n",
            "Actual Value  DM_DMD\n",
            "{'PR_PRP': 3, 'JJ': 1}\n",
            "Total Wrong Prediction  4\n",
            "\n",
            "\n",
            "**************************************************\n",
            "Actual Value  N_NST\n",
            "{'JJ': 2}\n",
            "Total Wrong Prediction  2\n",
            "\n",
            "\n",
            "**************************************************\n",
            "Actual Value  PR_PRI\n",
            "{}\n",
            "Total Wrong Prediction  0\n",
            "\n",
            "\n",
            "**************************************************\n",
            "Actual Value  PR_PRP\n",
            "{'DM_DMD': 1}\n",
            "Total Wrong Prediction  1\n",
            "\n",
            "\n",
            "**************************************************\n",
            "Actual Value  V_VM\n",
            "{'N_NN': 7, 'V_VAUX_VNP': 3, 'N_NNP': 1, 'V_VAUX': 1, 'QT_QTC': 1}\n",
            "Total Wrong Prediction  13\n",
            "\n",
            "\n",
            "**************************************************\n",
            "Actual Value  PSP\n",
            "{'N_NNP': 3, 'N_NN': 2, 'N_NST': 1}\n",
            "Total Wrong Prediction  6\n",
            "\n",
            "\n",
            "**************************************************\n",
            "Actual Value  DM_DMI\n",
            "{'PSP': 1}\n",
            "Total Wrong Prediction  1\n",
            "\n",
            "\n",
            "**************************************************\n",
            "Actual Value  RP_RPD\n",
            "{}\n",
            "Total Wrong Prediction  0\n",
            "\n",
            "\n",
            "**************************************************\n",
            "Actual Value  QT_QTF\n",
            "{}\n",
            "Total Wrong Prediction  0\n",
            "\n",
            "\n",
            "**************************************************\n",
            "Actual Value  RP_NEG\n",
            "{}\n",
            "Total Wrong Prediction  0\n",
            "\n",
            "\n",
            "**************************************************\n",
            "Actual Value  CC_CCD\n",
            "{}\n",
            "Total Wrong Prediction  0\n",
            "\n",
            "\n",
            "**************************************************\n",
            "Actual Value  QT_QTC\n",
            "{'JJ': 2, 'N_NNP': 2, 'QT_QTO': 1}\n",
            "Total Wrong Prediction  5\n",
            "\n",
            "\n",
            "**************************************************\n",
            "Actual Value  RD_SYM\n",
            "{}\n",
            "Total Wrong Prediction  0\n",
            "\n",
            "\n",
            "**************************************************\n",
            "Actual Value  CC_CCS\n",
            "{}\n",
            "Total Wrong Prediction  0\n",
            "\n",
            "\n",
            "**************************************************\n",
            "Actual Value  PR_PRF\n",
            "{}\n",
            "Total Wrong Prediction  0\n",
            "\n",
            "\n",
            "**************************************************\n",
            "Actual Value  PR_PRQ\n",
            "{}\n",
            "Total Wrong Prediction  0\n",
            "\n",
            "\n",
            "**************************************************\n",
            "Actual Value  DM_DMQ\n",
            "{}\n",
            "Total Wrong Prediction  0\n",
            "\n",
            "\n",
            "**************************************************\n",
            "Actual Value  CC_CCS_UT\n",
            "{}\n",
            "Total Wrong Prediction  0\n",
            "\n",
            "\n",
            "**************************************************\n",
            "Actual Value  PR_PRC\n",
            "{}\n",
            "Total Wrong Prediction  0\n",
            "\n",
            "\n",
            "**************************************************\n",
            "Actual Value  QT_QTO\n",
            "{}\n",
            "Total Wrong Prediction  0\n",
            "\n",
            "\n",
            "**************************************************\n",
            "Actual Value  RB\n",
            "{'PSP': 1}\n",
            "Total Wrong Prediction  1\n",
            "\n",
            "\n",
            "**************************************************\n",
            "Actual Value  RD_RDF\n",
            "{}\n",
            "Total Wrong Prediction  0\n",
            "\n",
            "\n",
            "**************************************************\n",
            "Actual Value  DM_DMR\n",
            "{}\n",
            "Total Wrong Prediction  0\n",
            "\n",
            "\n",
            "**************************************************\n",
            "Actual Value  RP_INJ\n",
            "{}\n",
            "Total Wrong Prediction  0\n",
            "\n",
            "\n",
            "**************************************************\n",
            "Actual Value  RD_ECH\n",
            "{}\n",
            "Total Wrong Prediction  0\n",
            "\n",
            "\n",
            "**************************************************\n",
            "Actual Value  RP_INTF\n",
            "{}\n",
            "Total Wrong Prediction  0\n",
            "\n",
            "\n",
            "**************************************************\n",
            "Actual Value  RP_CL\n",
            "{}\n",
            "Total Wrong Prediction  0\n",
            "\n",
            "\n",
            "**************************************************\n"
          ],
          "name": "stdout"
        }
      ]
    },
    {
      "cell_type": "code",
      "metadata": {
        "id": "yKA7RV7GYBQW",
        "colab": {
          "base_uri": "https://localhost:8080/",
          "height": 462
        },
        "outputId": "5b3e9b10-b3e5-4ea5-f858-ab49ed1d7756"
      },
      "source": [
        "import pandas as pd\n",
        "temp = {'JJ':{'RP_RPD': 1, 'N_NN': 25, 'PSP': 6, 'N_NST': 4, 'N_NNP': 11, 'RD_RDF': 1, 'V_VAUX_VNP': 2, 'V_VM': 2, 'QT_QTC': 1, 'RD_SYM': 1, 'QT_QTF': 2, 'QT_QTO': 3, 'DM_DMQ': 2, 'PR_PRF': 1}}\n",
        "data = pd.DataFrame.from_dict(temp)\n",
        "data\n"
      ],
      "execution_count": null,
      "outputs": [
        {
          "output_type": "execute_result",
          "data": {
            "text/html": [
              "<div>\n",
              "<style scoped>\n",
              "    .dataframe tbody tr th:only-of-type {\n",
              "        vertical-align: middle;\n",
              "    }\n",
              "\n",
              "    .dataframe tbody tr th {\n",
              "        vertical-align: top;\n",
              "    }\n",
              "\n",
              "    .dataframe thead th {\n",
              "        text-align: right;\n",
              "    }\n",
              "</style>\n",
              "<table border=\"1\" class=\"dataframe\">\n",
              "  <thead>\n",
              "    <tr style=\"text-align: right;\">\n",
              "      <th></th>\n",
              "      <th>JJ</th>\n",
              "    </tr>\n",
              "  </thead>\n",
              "  <tbody>\n",
              "    <tr>\n",
              "      <th>DM_DMQ</th>\n",
              "      <td>2</td>\n",
              "    </tr>\n",
              "    <tr>\n",
              "      <th>N_NN</th>\n",
              "      <td>25</td>\n",
              "    </tr>\n",
              "    <tr>\n",
              "      <th>N_NNP</th>\n",
              "      <td>11</td>\n",
              "    </tr>\n",
              "    <tr>\n",
              "      <th>N_NST</th>\n",
              "      <td>4</td>\n",
              "    </tr>\n",
              "    <tr>\n",
              "      <th>PR_PRF</th>\n",
              "      <td>1</td>\n",
              "    </tr>\n",
              "    <tr>\n",
              "      <th>PSP</th>\n",
              "      <td>6</td>\n",
              "    </tr>\n",
              "    <tr>\n",
              "      <th>QT_QTC</th>\n",
              "      <td>1</td>\n",
              "    </tr>\n",
              "    <tr>\n",
              "      <th>QT_QTF</th>\n",
              "      <td>2</td>\n",
              "    </tr>\n",
              "    <tr>\n",
              "      <th>QT_QTO</th>\n",
              "      <td>3</td>\n",
              "    </tr>\n",
              "    <tr>\n",
              "      <th>RD_RDF</th>\n",
              "      <td>1</td>\n",
              "    </tr>\n",
              "    <tr>\n",
              "      <th>RD_SYM</th>\n",
              "      <td>1</td>\n",
              "    </tr>\n",
              "    <tr>\n",
              "      <th>RP_RPD</th>\n",
              "      <td>1</td>\n",
              "    </tr>\n",
              "    <tr>\n",
              "      <th>V_VAUX_VNP</th>\n",
              "      <td>2</td>\n",
              "    </tr>\n",
              "    <tr>\n",
              "      <th>V_VM</th>\n",
              "      <td>2</td>\n",
              "    </tr>\n",
              "  </tbody>\n",
              "</table>\n",
              "</div>"
            ],
            "text/plain": [
              "            JJ\n",
              "DM_DMQ       2\n",
              "N_NN        25\n",
              "N_NNP       11\n",
              "N_NST        4\n",
              "PR_PRF       1\n",
              "PSP          6\n",
              "QT_QTC       1\n",
              "QT_QTF       2\n",
              "QT_QTO       3\n",
              "RD_RDF       1\n",
              "RD_SYM       1\n",
              "RP_RPD       1\n",
              "V_VAUX_VNP   2\n",
              "V_VM         2"
            ]
          },
          "metadata": {
            "tags": []
          },
          "execution_count": 84
        }
      ]
    },
    {
      "cell_type": "code",
      "metadata": {
        "id": "NtjWXeIwYmcT"
      },
      "source": [
        ""
      ],
      "execution_count": null,
      "outputs": []
    },
    {
      "cell_type": "markdown",
      "metadata": {
        "id": "mO5GooQDa7Tu"
      },
      "source": [
        "### SGD"
      ]
    },
    {
      "cell_type": "code",
      "metadata": {
        "id": "x8N1wWUca7T4"
      },
      "source": [
        "WORD_EMBEDDING_DIM = 1024\n",
        "CHAR_EMBEDDING_DIM = 128\n",
        "WORD_HIDDEN_DIM = 1024\n",
        "CHAR_HIDDEN_DIM = 1024\n",
        "EPOCHS = 20\n",
        "\n",
        "class DualBILSTMTagger(nn.Module):\n",
        "  def __init__(self, word_embedding_dim, word_hidden_dim, char_embedding_dim, char_hidden_dim, word_vocab_size, char_vocab_size, tag_vocab_size):\n",
        "    super(DualBILSTMTagger, self).__init__()\n",
        "    self.word_embedding = nn.Embedding(word_vocab_size, word_embedding_dim)\n",
        "    \n",
        "    self.char_embedding = nn.Embedding(char_vocab_size, char_embedding_dim)\n",
        "    self.char_lstm = nn.LSTM(char_embedding_dim, char_hidden_dim)\n",
        "    self.lstm = nn.LSTM(word_embedding_dim + char_hidden_dim, word_hidden_dim,bidirectional=True)\n",
        "\n",
        "    self.hidden2tag = nn.Linear(word_hidden_dim*2, tag_vocab_size)\n",
        "      \n",
        "  def forward(self, sentence, words):\n",
        "    embeds = self.word_embedding(sentence)\n",
        "    char_hidden_final = []\n",
        "    for word in words:\n",
        "        char_embeds = self.char_embedding(word)\n",
        "        _, (char_hidden, char_cell_state) = self.char_lstm(char_embeds.view(len(word), 1, -1))\n",
        "        word_char_hidden_state = char_hidden.view(-1)\n",
        "        char_hidden_final.append(word_char_hidden_state)\n",
        "    char_hidden_final = torch.stack(tuple(char_hidden_final))\n",
        "    \n",
        "    combined = torch.cat((embeds, char_hidden_final), 1)\n",
        "\n",
        "    lstm_out, _ = self.lstm(combined.view(len(sentence), 1, -1))\n",
        "    tag_space = self.hidden2tag(lstm_out.view(len(sentence), -1))\n",
        "    \n",
        "    tag_scores = F.log_softmax(tag_space, dim=1)\n",
        "    return tag_scores"
      ],
      "execution_count": null,
      "outputs": []
    },
    {
      "cell_type": "code",
      "metadata": {
        "id": "j3gm63LAa7T5"
      },
      "source": [
        "model = DualBILSTMTagger(WORD_EMBEDDING_DIM, WORD_HIDDEN_DIM, CHAR_EMBEDDING_DIM, CHAR_HIDDEN_DIM, word_vocab_size, char_vocab_size, tag_vocab_size)\n",
        "\n",
        "use_cuda = torch.cuda.is_available()\n",
        "device = torch.device(\"cuda:0\" if use_cuda else \"cpu\")\n",
        "\n",
        "if use_cuda:\n",
        "    model.cuda()\n",
        "\n",
        "loss_function = nn.NLLLoss()\n",
        "optimizer = optim.SGD(model.parameters(), lr=0.001)\n"
      ],
      "execution_count": null,
      "outputs": []
    },
    {
      "cell_type": "code",
      "metadata": {
        "colab": {
          "base_uri": "https://localhost:8080/"
        },
        "id": "fmi9Ef4Na7T7",
        "outputId": "ceee712b-53f7-4ef2-8a00-dc34bebc3f29"
      },
      "source": [
        "accuracy_list = []\n",
        "loss_list = []\n",
        "interval = round(len(train) / 100.)\n",
        "epochs = EPOCHS\n",
        "e_interval = round(epochs / 10.)\n",
        "for epoch in range(epochs):\n",
        "    acc = 0 #to keep track of accuracy\n",
        "    loss = 0 # To keep track of the loss value\n",
        "    i = 0\n",
        "    for sentence_tag in train:\n",
        "        i += 1\n",
        "        words = [torch.tensor(sequence_to_idx(s[0], char_to_idx), dtype=torch.long).to(device) for s in sentence_tag]\n",
        "        sentence = [s[0] for s in sentence_tag]\n",
        "        sentence = torch.tensor(sequence_to_idx(sentence, word_to_idx), dtype=torch.long).to(device)\n",
        "        targets = [s[1] for s in sentence_tag]\n",
        "        targets = torch.tensor(sequence_to_idx(targets, tag_to_idx), dtype=torch.long).to(device)\n",
        "        \n",
        "        model.zero_grad()\n",
        "        \n",
        "        tag_scores = model(sentence, words)\n",
        "        \n",
        "        loss = loss_function(tag_scores, targets)\n",
        "        loss.backward()\n",
        "        optimizer.step()\n",
        "        loss += loss.item()\n",
        "        _, indices = torch.max(tag_scores, 1)\n",
        "#         print(indices == targets)\n",
        "        acc += torch.mean(torch.tensor(targets == indices, dtype=torch.float))\n",
        "        if i % interval == 0:\n",
        "            print(\"Epoch {} Running;\\t{}% Complete\".format(epoch + 1, i / interval), end = \"\\r\", flush = True)\n",
        "    loss = loss / len(train)\n",
        "    acc = acc / len(train)\n",
        "    loss_list.append(float(loss))\n",
        "    accuracy_list.append(float(acc))\n",
        "    if (epoch + 1) % e_interval == 0:\n",
        "        print(\"Epoch {} Completed,\\tLoss {}\\tAccuracy: {}\".format(epoch + 1, np.mean(loss_list[-e_interval:]), np.mean(accuracy_list[-e_interval:]))) "
      ],
      "execution_count": null,
      "outputs": [
        {
          "output_type": "stream",
          "text": [
            "/usr/local/lib/python3.7/dist-packages/ipykernel_launcher.py:12: UserWarning: To copy construct from a tensor, it is recommended to use sourceTensor.clone().detach() or sourceTensor.clone().detach().requires_grad_(True), rather than torch.tensor(sourceTensor).\n",
            "  if sys.path[0] == '':\n",
            "/usr/local/lib/python3.7/dist-packages/ipykernel_launcher.py:14: UserWarning: To copy construct from a tensor, it is recommended to use sourceTensor.clone().detach() or sourceTensor.clone().detach().requires_grad_(True), rather than torch.tensor(sourceTensor).\n",
            "  \n",
            "/usr/local/lib/python3.7/dist-packages/ipykernel_launcher.py:16: UserWarning: To copy construct from a tensor, it is recommended to use sourceTensor.clone().detach() or sourceTensor.clone().detach().requires_grad_(True), rather than torch.tensor(sourceTensor).\n",
            "  app.launch_new_instance()\n",
            "/usr/local/lib/python3.7/dist-packages/ipykernel_launcher.py:28: UserWarning: To copy construct from a tensor, it is recommended to use sourceTensor.clone().detach() or sourceTensor.clone().detach().requires_grad_(True), rather than torch.tensor(sourceTensor).\n"
          ],
          "name": "stderr"
        },
        {
          "output_type": "stream",
          "text": [
            "Epoch 2 Completed,\tLoss 0.005955092841759324\tAccuracy: 0.3549381047487259\n",
            "Epoch 4 Completed,\tLoss 0.00496686645783484\tAccuracy: 0.4557008296251297\n",
            "Epoch 6 Completed,\tLoss 0.004259674344211817\tAccuracy: 0.4603702276945114\n",
            "Epoch 8 Completed,\tLoss 0.0037919810274615884\tAccuracy: 0.4781694561243057\n",
            "Epoch 10 Completed,\tLoss 0.003455196041613817\tAccuracy: 0.5076101124286652\n",
            "Epoch 12 Completed,\tLoss 0.003211375209502876\tAccuracy: 0.5426437854766846\n",
            "Epoch 14 Completed,\tLoss 0.0030296584591269493\tAccuracy: 0.5752701461315155\n",
            "Epoch 16 Completed,\tLoss 0.002882003434933722\tAccuracy: 0.5997283160686493\n",
            "Epoch 18 Completed,\tLoss 0.0027511698426678777\tAccuracy: 0.6220861077308655\n",
            "Epoch 20 Completed,\tLoss 0.0026283658808097243\tAccuracy: 0.6422010064125061\n"
          ],
          "name": "stdout"
        }
      ]
    },
    {
      "cell_type": "code",
      "metadata": {
        "colab": {
          "base_uri": "https://localhost:8080/",
          "height": 541
        },
        "id": "a0f3YKR-a7T7",
        "outputId": "c8194bf7-e7f0-4251-e194-e4cee69faf76"
      },
      "source": [
        "import matplotlib.pyplot as plt\n",
        "plt.plot(accuracy_list, c=\"red\", label =\"Accuracy\")\n",
        "plt.xlabel(\"Epochs\")\n",
        "plt.ylabel(\"Value\")\n",
        "plt.legend()\n",
        "plt.show()\n",
        "\n",
        "plt.plot(loss_list, c=\"blue\", label =\"Loss\")\n",
        "plt.xlabel(\"Epochs\")\n",
        "plt.ylabel(\"Value\")\n",
        "plt.legend()\n",
        "plt.show()"
      ],
      "execution_count": null,
      "outputs": [
        {
          "output_type": "display_data",
          "data": {
            "image/png": "[encoded data removed]",
            "text/plain": [
              "<Figure size 432x288 with 1 Axes>"
            ]
          },
          "metadata": {
            "tags": [],
            "needs_background": "light"
          }
        },
        {
          "output_type": "display_data",
          "data": {
            "image/png": "[encoded data removed]",
            "text/plain": [
              "<Figure size 432x288 with 1 Axes>"
            ]
          },
          "metadata": {
            "tags": [],
            "needs_background": "light"
          }
        }
      ]
    },
    {
      "cell_type": "code",
      "metadata": {
        "id": "2cz1HnmUa7T7"
      },
      "source": [
        ""
      ],
      "execution_count": null,
      "outputs": []
    },
    {
      "cell_type": "code",
      "metadata": {
        "colab": {
          "base_uri": "https://localhost:8080/"
        },
        "id": "r3gjgC8Ea7T8",
        "outputId": "55d280ac-49f9-44f3-93bf-b5f05cca52c1"
      },
      "source": [
        "y_true = []\n",
        "y_pred = []\n",
        "for sentence in test:\n",
        "  seq = \"\"\n",
        "  for s in range(len(sentence)):\n",
        "    if(s==(len(sentence)-1)):\n",
        "      seq+= sentence[s][0]\n",
        "    else:\n",
        "      seq += sentence[s][0] + \" \"\n",
        "    y_true.append(sentence[s][1])\n",
        "  \n",
        "  seq = seq.split()\n",
        "  with torch.no_grad():\n",
        "    words = [torch.tensor(sequence_to_idx(s[0], char_to_idx), dtype=torch.long).to(device) for s in seq]\n",
        "    sentence = torch.tensor(sequence_to_idx(seq, word_to_idx), dtype=torch.long).to(device)\n",
        "        \n",
        "    tag_scores = model(sentence, words)\n",
        "    _, indices = torch.max(tag_scores, 1)\n",
        "    ret = []\n",
        "    for i in range(len(indices)):\n",
        "        for key, value in tag_to_idx.items():\n",
        "            if indices[i] == value:\n",
        "                ret.append((seq[i], key))\n",
        "                y_pred.append(key)\n",
        "    print(ret)"
      ],
      "execution_count": null,
      "outputs": [
        {
          "output_type": "stream",
          "text": [
            "/usr/local/lib/python3.7/dist-packages/ipykernel_launcher.py:14: UserWarning: To copy construct from a tensor, it is recommended to use sourceTensor.clone().detach() or sourceTensor.clone().detach().requires_grad_(True), rather than torch.tensor(sourceTensor).\n",
            "  \n",
            "/usr/local/lib/python3.7/dist-packages/ipykernel_launcher.py:15: UserWarning: To copy construct from a tensor, it is recommended to use sourceTensor.clone().detach() or sourceTensor.clone().detach().requires_grad_(True), rather than torch.tensor(sourceTensor).\n",
            "  from ipykernel import kernelapp as app\n"
          ],
          "name": "stderr"
        },
        {
          "output_type": "stream",
          "text": [
            "[('ભારતના', 'N_NNP'), ('ટેસ્ટ', 'N_NN'), ('ઇતિહાસની', 'N_NNP'), ('ઑસ્ટ્રેલિયા', 'N_NNP'), ('સામે', 'PSP'), ('વિકેટની', 'N_NN'), ('રીતે', 'N_NN'), ('સૌથી', 'JJ'), ('મોટી', 'JJ'), ('જીત', 'V_VM'), ('.', 'RD_PUNC')]\n",
            "[('કે', 'CC_CCS'), ('તે', 'DM_DMD'), ('ત્રણે', 'JJ'), ('ય', 'N_NN'), ('ફોરમેટનો', 'N_NN'), ('બોલર', 'V_VM'), ('છે', 'V_VAUX'), ('.', 'RD_PUNC')]\n",
            "[('વનડેમાં', 'N_NN'), ('કેરમ', 'N_NN'), ('બોલ', 'N_NN'), ('સ્લો', 'N_NN'), ('રીલીઝ', 'N_NN'), ('બોલ', 'N_NN'), ('ફેંકી', 'V_VM'), ('શકાય', 'V_VAUX'), ('.', 'RD_PUNC')]\n",
            "[('તે', 'DM_DMD'), ('વેધક', 'N_NN'), ('પૂરવાર', 'N_NN'), ('થાય', 'V_VM'), ('છે', 'V_VAUX'), ('.', 'RD_PUNC')]\n",
            "[('આમ', 'N_NN'), ('તેની', 'DM_DMD'), ('બોલિંગ', 'N_NN'), ('જૂની', 'N_NN'), ('પરંપરાગત', 'N_NN'), ('પદ્ધતિ', 'N_NN'), ('કહી', 'V_VM'), ('શકાય', 'V_VAUX'), ('.', 'RD_PUNC')]\n",
            "[('પૂજારાએ', 'N_NNP'), ('કારકિર્દીમાં', 'N_NN'), ('ત્રીજી', 'N_NN'), ('વખત', 'N_NN'), ('૧૫૦થી', 'N_NN'), ('વધુનો', 'N_NN'), ('સ્કોર', 'N_NN'), ('કરતાં', 'N_NN'), ('૨૫૧', 'N_NN'), ('બોલમાં', 'N_NN'), ('૨૫', 'N_NN'), ('ચોગ્ગા', 'N_NNP'), ('અને', 'CC_CCD'), ('૧', 'N_NN'), ('છગ્ગા', 'N_NNP'), ('સાથે', 'PSP'), ('નોટઆઉટ', 'N_NN'), ('૧૬૨', 'N_NN'), ('રન', 'N_NN'), ('ફટકાર્યા', 'V_VM'), ('હતા', 'V_VAUX'), ('.', 'RD_PUNC')]\n",
            "[('જ્યારે', 'N_NST'), ('તેના', 'PR_PRP'), ('૧૫૦', 'N_NN'), ('રન', 'N_NN'), ('૨૩૦', 'N_NN'), ('બોલમાં', 'N_NN'), ('નોંધાયા', 'N_NN'), ('હતા', 'V_VAUX'), ('.', 'RD_PUNC')]\n",
            "[('લંચ', 'N_NN'), ('બાદના', 'N_NN'), ('૩૩', 'N_NN'), ('ઓવરના', 'N_NNP'), ('સેશનમાં', 'N_NN'), ('ભારતે', 'N_NNP'), ('૧૦૬', 'N_NN'), ('રન', 'N_NN'), ('નોંધાવતા', 'N_NN'), ('ઑસ્ટ્રેલિયાને', 'N_NNP'), ('પરેશાન', 'V_VM'), ('કરી', 'V_VM'), ('દીધું', 'V_VM'), ('હતું', 'V_VAUX'), ('.', 'RD_PUNC')]\n",
            "[('ભારતીય', 'JJ'), ('ટેસ્ટ', 'N_NN'), ('ઇતિહાસમાં', 'N_NN'), ('આ', 'DM_DMD'), ('ભાગીદારી', 'N_NN'), ('બીજી', 'N_NN'), ('વિકેટની', 'N_NN'), ('ત્રીજા', 'N_NN'), ('ક્રમની', 'N_NN'), ('શ્રેષ્ઠ', 'N_NN'), ('ભાગીદારી', 'N_NN'), ('બની', 'V_VM'), ('રહી', 'V_VM'), ('હતી', 'V_VAUX'), ('.', 'RD_PUNC')]\n",
            "[('જે', 'PR_PRL'), ('ઉપ્પલમાં', 'N_NN'), ('અન્ય', 'N_NN'), ('બેટ્સમેનોએ', 'N_NN'), ('ફટકારેલા', 'N_NN'), ('રનમાં', 'N_NN'), ('સૌથી', 'JJ'), ('વધુ', 'V_VM'), ('છે', 'V_VAUX'), ('.', 'RD_PUNC')]\n",
            "[('વિન્ડિઝે', 'N_NN'), ('ઝિમ્બાબ્વેને', 'N_NN'), ('બીજી', 'JJ'), ('ટ્વેન્ટી', 'N_NN'), ('ટ્વેન્ટીમાં', 'N_NN'), ('આઠ', 'N_NN'), ('વિકેટથી', 'N_NN'), ('કચડીને', 'N_NN'), ('બે', 'QT_QTC'), ('ટ્વેન્ટી', 'N_NN'), ('ટ્વેન્ટીની', 'N_NN'), ('શ્રેણી', 'N_NN'), ('૨-૦ની', 'N_NN'), ('ક્લિન', 'N_NN'), ('સ્વિપ', 'N_NN'), ('કરી', 'V_VM'), ('હતી', 'V_VAUX'), ('.', 'RD_PUNC')]\n",
            "[('આ', 'DM_DMD'), ('સાથે', 'PSP'), ('જાડેજાએ', 'PSP'), ('પણ', 'RP_RPD'), ('સ્પિનર', 'N_NN'), ('તરીકેની', 'N_NN'), ('પોતાની', 'N_NNP'), ('ઉપયોગીતા', 'N_NN'), ('અને', 'CC_CCD'), ('ટીમમાં', 'N_NN'), ('જરૂરિયાતની', 'N_NN'), ('સાબિતી', 'N_NN'), ('આપતાં', 'N_NN'), ('કુલ', 'N_NN'), ('છ', 'N_NN'), ('વિકેટ', 'N_NN'), ('પોતાના', 'N_NN'), ('નામે', 'N_NN'), ('કરી', 'V_VM'), ('હતી', 'V_VAUX'), ('.', 'RD_PUNC')]\n",
            "[('હાલ', 'N_NN'), ('સમગ્ર', 'N_NN'), ('ભારતમાં', 'N_NNP'), ('`', 'RD_PUNC'), ('કબડ્ડીના', 'RD_PUNC'), ('`', 'RD_PUNC'), ('નામથી', 'N_NN'), ('આ', 'DM_DMD'), ('રમત', 'N_NN'), ('રમાય', 'V_VM'), ('છે', 'V_VAUX'), ('.', 'RD_PUNC')]\n",
            "[('દડાને', 'N_NN'), ('જમણા', 'N_NN'), ('ઘૂંટણ', 'N_NN'), ('પાસે', 'PSP'), ('લાવશે', 'V_VM'), ('.', 'RD_PUNC')]\n",
            "[('આ', 'DM_DMD'), ('જિમખાનાએ', 'N_NN'), ('ઈ.સ.', 'N_NN'), ('૧૯૧૯', 'N_NN'), ('અને', 'CC_CCD'), ('૧૯૨૮માં', 'N_NN'), ('ફરીથી', 'N_NN'), ('નિયમોમાં', 'N_NN'), ('સુધારા', 'N_NN'), ('કરી', 'V_VM'), ('બહાર', 'V_VM'), ('પાડ્યા', 'V_VM'), ('હતા', 'V_VAUX'), ('.', 'RD_PUNC')]\n",
            "[('રમનાર', 'N_NN'), ('ખેલાડી', 'N_NN'), ('દોડતો', 'N_NN'), ('હોય', 'V_VAUX'), ('અને', 'CC_CCD'), ('મારનારે', 'CC_CCD'), ('તેનો', 'N_NN'), ('પીછો', 'N_NN'), ('પકડ્યો', 'N_NN'), ('હોય', 'V_VAUX'), ('ત્યારે', 'N_NST'), ('તે', 'DM_DMD'), ('રમનારની', 'N_NN'), ('બહુ', 'N_NN'), ('જ', 'RP_RPD'), ('નજીક', 'JJ'), ('આવતાં', 'JJ'), ('સીધો', 'N_NN'), ('જ', 'RP_RPD'), ('તેના', 'PSP'), ('પર', 'PSP'), ('ડાઈવ', 'JJ'), ('મારે', 'V_VM'), ('છે', 'V_VAUX'), ('.', 'RD_PUNC')]\n",
            "[('ડબલ', 'N_NN'), ('ચેઈનમાં', 'N_NNP'), ('પણ', 'RP_RPD'), ('બેઠેલા', 'N_NN'), ('ખેલાડીઓની', 'N_NN'), ('પીઠ', 'N_NN'), ('પાછળથી', 'N_NN'), ('જ', 'RP_RPD'), ('પસાર', 'JJ'), ('થવાનું', 'N_NN'), ('હોય', 'V_VAUX'), ('છે', 'V_VAUX'), ('.', 'RD_PUNC')]\n",
            "[('હવામાં', 'N_NN'), ('અથવા', 'N_NN'), ('ગ્રાઉન્ડ', 'N_NN'), ('પર', 'PSP'), ('માથું', 'N_NN'), (',', 'RD_PUNC'), ('છાતી', 'N_NN'), (',', 'RD_PUNC'), ('જાંઘ', 'N_NNP'), ('તથા', 'N_NN'), ('ઘૂટણના', 'N_NN'), ('નીચેના', 'N_NN'), ('ભાગથી', 'N_NN'), ('ખેલાડી', 'N_NN'), ('ટ્રેપિંગ', 'N_NN'), ('કરે', 'V_VM'), ('છે', 'V_VAUX'), ('.', 'RD_PUNC')]\n",
            "[('જ્યારે', 'N_NN'), ('આક્રમક', 'N_NN'), ('ખેલાડી', 'N_NN'), (',', 'RD_PUNC'), ('દડા', 'N_NN'), ('કરતાં', 'N_NN'), ('પ્રતિસ્પર્ધી', 'N_NN'), ('ખેલાડીની', 'N_NN'), ('ગોલરેખાની', 'N_NN'), ('નજીક', 'JJ'), ('હોય', 'V_VAUX'), ('ત્યારે', 'N_NST'), ('ઑફ', 'N_NNP'), ('સાઈડ', 'V_VM'), ('ગણાય', 'V_VM'), ('છે', 'V_VAUX'), ('.', 'RD_PUNC')]\n",
            "[('કોઈ', 'N_NN'), ('ખેલાડી', 'N_NN'), ('પ્રતિસ્પર્ધીને', 'N_NN'), ('લાત', 'N_NN'), ('મારવાનો', 'N_NN'), ('પ્રયત્ન', 'N_NN'), ('કરી', 'V_VM'), ('શકતો', 'V_VAUX_VNP'), ('નથી', 'RP_NEG'), ('.', 'RD_PUNC')]\n",
            "[('કોઈ', 'N_NN'), ('ખેલાડી', 'N_NN'), ('રમતના', 'N_NN'), ('નિયમોનો', 'N_NN'), ('વારંવાર', 'N_NN'), ('ભંગ', 'N_NN'), ('કરે', 'V_VM'), (',', 'RD_PUNC'), ('મુખ્ય', 'N_NN'), ('નિર્ણયો', 'N_NN'), ('સામે', 'PSP'), ('ટીકાત્મક', 'JJ'), ('વર્તન', 'N_NN'), ('કરે', 'V_VM'), (',', 'RD_PUNC'), ('તો', 'RP_RPD'), ('ખેલાડીને', 'N_NN'), ('ચેતવણી', 'N_NN'), ('આપવામાં', 'N_NN'), ('આવશે', 'N_NN'), ('તથા', 'N_NN'), ('પ્રતિસ્પર્ધીને', 'N_NN'), ('ઈનડાયરેક્ટ', 'N_NN'), ('ફ્રી', 'N_NN'), ('કીક', 'N_NN'), ('આપવામાં', 'V_VAUX_VNP'), ('આવશે', 'V_VAUX'), ('.', 'RD_PUNC')]\n",
            "[('ક્રિકેટની', 'N_NN'), ('રમત', 'N_NN'), ('માટે', 'PSP'), ('પહેલાં', 'N_NN'), ('આજની', 'N_NN'), ('જેમ', 'N_NN'), ('ત્રણ', 'N_NN'), ('સ્ટમ્પની', 'N_NN'), ('વિકેટ', 'N_NN'), ('ન', 'V_VAUX'), ('હતી', 'V_VAUX'), (',', 'RD_PUNC'), ('પરંતુ', 'CC_CCD'), ('બાવીસ', 'N_NN'), ('ઈંચ', 'N_NNP'), ('ઊંચાઈની', 'N_NNP'), ('અને', 'CC_CCD'), ('છ', 'JJ'), ('ઈંચ', 'N_NNP'), ('પહોળી', 'N_NN'), ('એવી', 'PSP'), ('બે', 'QT_QTC'), ('ઘોડી', 'N_NN'), ('ઉપર', 'PSP'), ('વાંસ', 'N_NN'), ('મૂકવામાં', 'N_NN'), ('આવતો', 'V_VM'), ('.', 'RD_PUNC')]\n",
            "[('આ', 'DM_DMD'), ('મેચમાં', 'N_NN'), ('ચાર્લ્સ', 'N_NN'), ('લેનેક્સે', 'N_NN'), ('પણ', 'RP_RPD'), ('ભાગ', 'N_NN'), ('લીધેલો', 'V_VAUX'), ('.', 'RD_PUNC')]\n",
            "[('ગુજરાત', 'N_NNP'), ('યુનિવર્સિટીના', 'N_NN'), ('સૌરાષ્ટ્ર', 'N_NN'), ('-', 'RD_PUNC'), ('કચ્છ', 'N_NN'), ('વિભાગ', 'N_NN'), ('આવેલી', 'N_NNP'), ('કૉલેજમાં', 'N_NN'), ('જે', 'N_NN'), ('કૉલેજ', 'N_NN'), ('ક્રિકેટમાં', 'N_NN'), ('ચેમ્પિયન', 'N_NN'), ('થતી', 'N_NN'), ('તેને', 'DM_DMD'), ('આ', 'DM_DMD'), ('ટ્રોફી', 'N_NN'), ('એનાયત', 'N_NN'), ('કરવામાં', 'V_VAUX_VNP'), ('આવતી', 'V_VAUX'), ('.', 'RD_PUNC')]\n",
            "[('ગુજરાત', 'N_NNP'), ('કૉલેજને', 'N_NN'), ('આંગણે', 'N_NN'), ('નૉર્થકોટ', 'N_NN'), ('શીલ્ડની', 'N_NN'), ('મેચ', 'N_NN'), ('રમાય', 'N_NN'), ('અગર', 'N_NN'), ('તો', 'RP_RPD'), ('સ્થાનિક', 'N_NN'), ('હિન્દુ', 'N_NN'), ('જિમખાના', 'N_NN'), ('કોઈ', 'N_NN'), ('સ્થાનિક', 'N_NN'), ('અગર', 'N_NN'), ('બહારની', 'N_NN'), ('ક્લબ', 'N_NN'), ('સાથે', 'PSP'), ('મેચ', 'N_NN'), ('રમે', 'N_NN'), ('ત્યારે', 'N_NST'), ('જ', 'RP_RPD'), ('સારી', 'N_NN'), ('ક્રિકેટમેચ', 'N_NN'), ('જોવા', 'N_NN'), ('મળતી', 'V_VM'), ('.', 'RD_PUNC')]\n",
            "[('ગોરધનદાસ', 'N_NN'), ('કપ', 'N_NNP'), ('ટુર્નામેન્ટમાં', 'N_NN'), ('અમદાવાદની', 'N_NNP'), ('સ્થાનિક', 'N_NN'), ('કોઈ', 'N_NN'), ('પણ', 'RP_RPD'), ('ટીમ', 'N_NN'), ('ભાગ', 'N_NN'), ('લઈ', 'V_VM'), ('શકે', 'V_VAUX'), ('છે', 'V_VAUX'), ('.', 'RD_PUNC')]\n",
            "[('બૅટ્સમૅનનું', 'N_NN'), ('સઘળું', 'N_NN'), ('વજન', 'N_NN'), ('બૅટ', 'N_NN'), ('ઉપર', 'PSP'), ('ન', 'N_NN'), ('હોવું', 'V_VAUX_VNP'), ('જોઈએ', 'V_VAUX'), (',', 'RD_PUNC'), ('પરંતુ', 'CC_CCD'), ('શરીરના', 'JJ'), ('બંને', 'JJ'), ('પગ', 'N_NN'), ('વચ્ચે', 'N_NN'), ('લગભગ', 'N_NN'), ('છ', 'N_NN'), ('ઈંચનું', 'N_NN'), ('અંતર', 'N_NN'), ('રાખી', 'N_NN'), ('સમતુલા', 'N_NN'), ('રાખીને', 'N_NN'), ('ઊભવું', 'V_VM'), ('જોઈએ', 'V_VAUX'), ('.', 'RD_PUNC')]\n",
            "[('બૅટ', 'N_NN'), ('પકડીને', 'N_NN'), ('ઊભા', 'N_NN'), ('રહેવાની', 'N_NN'), ('રીતને', 'N_NN'), ('`', 'RD_PUNC'), ('સ્ટાન્સ', 'N_NN'), ('કહે', 'V_VM'), ('છે', 'V_VAUX'), ('.', 'RD_PUNC')]\n",
            "[('દડાને', 'N_NN'), ('અટકાવવો', 'N_NN'), (',', 'RD_PUNC'), ('પકડવો', 'RD_PUNC'), ('કે', 'CC_CCS'), ('ઘા', 'N_NN'), ('કરવો', 'N_NN'), ('એ', 'DM_DMD'), ('ક્રિકેટની', 'N_NN'), ('સહેલામાં', 'N_NN'), ('સહેલી', 'N_NN'), ('રમત', 'N_NN'), ('છે', 'V_VAUX'), ('.', 'RD_PUNC')]\n",
            "[('રમત', 'N_NN'), ('દરમિયાન', 'PSP'), ('લાંબા', 'N_NN'), ('અંતરે', 'N_NN'), ('દડો', 'N_NN'), ('મોકલવા', 'N_NN'), ('માટે', 'PSP'), ('અથવા', 'N_NN'), ('સ્ટ્રાઈકિંગ', 'N_NN'), ('સર્કલમાં', 'N_NN'), ('ગયેલા', 'N_NN'), ('દડાને', 'N_NN'), ('ગોલને', 'N_NNP'), ('ફટકારવા', 'N_NNP'), ('માટે', 'PSP'), ('આ', 'DM_DMD'), ('પ્રકારનાં', 'N_NN'), ('કૌશલ્યોનો', 'N_NN'), ('ઉપયોગ', 'N_NN'), ('કરવામાં', 'V_VAUX_VNP'), ('આવે', 'V_VAUX'), ('છે', 'V_VAUX'), ('.', 'RD_PUNC')]\n",
            "[('જે', 'PR_PRL'), ('દિશામાં', 'N_NN'), ('દડો', 'N_NN'), ('ક્લિક', 'N_NN'), ('કરવાનો', 'N_NN'), ('હોય', 'V_VAUX'), ('તે', 'DM_DMD'), ('તરફ', 'PSP'), ('પંજો', 'N_NNP'), ('રહે', 'V_VM'), ('તે', 'DM_DMD'), ('રીતે', 'N_NN'), ('ડાબો', 'N_NN'), ('પગ', 'N_NN'), ('આગળ', 'PSP'), ('મૂકવો', 'V_VM'), ('.', 'RD_PUNC')]\n",
            "[('શરીર', 'N_NN'), ('કમરમાંથી', 'N_NN'), ('આગળ', 'PSP'), ('તરફ', 'PSP'), ('ઝૂકેલું', 'N_NN'), ('રાખવું', 'N_NN'), ('અને', 'CC_CCD'), ('નજર', 'N_NN'), ('દડા', 'N_NN'), ('તરફ', 'PSP'), ('રાખવી', 'V_VM'), ('.', 'RD_PUNC')]\n",
            "[('સ્ટિકને', 'N_NN'), ('દડાની', 'N_NN'), ('પાછળ', 'N_NN'), (',', 'RD_PUNC'), ('સપાટ', 'N_NN'), ('ભાગ', 'N_NN'), ('દડા', 'N_NN'), ('નીચે', 'N_NN'), ('ત્રાંસો', 'N_NN'), ('રહે', 'V_VM'), ('તેમ', 'V_VM'), ('મૂકવી', 'V_VM'), ('.', 'RD_PUNC')]\n",
            "[('શેડો', 'N_NN'), ('ટેકલિંગમાં', 'N_NN'), ('બચાવ', 'N_NN'), ('પક્ષનો', 'N_NN'), ('ખેલાડી', 'N_NN'), ('આક્રમણ', 'N_NN'), ('કરનાર', 'N_NN'), ('ખેલાડીની', 'N_NN'), ('સાથે', 'PSP'), ('સાથે', 'PSP'), ('દોડશે', 'N_NN'), ('અને', 'CC_CCD'), ('જ્યારે', 'N_NST'), ('તક', 'N_NN'), ('મળશે', 'N_NN'), ('ત્યારે', 'N_NN'), ('દડો', 'N_NN'), ('પડાવી', 'N_NN'), ('લેશે', 'V_VM'), ('.', 'RD_PUNC')]\n",
            "[('રમત', 'N_NN'), ('દરમિયાન', 'PSP'), ('બે', 'QT_QTC'), ('ખેલાડીઓનું', 'N_NN'), ('અવેજીકરણ', 'N_NN'), ('શકાશે', 'V_VM'), ('.', 'RD_PUNC')]\n",
            "[('સિક્કા', 'N_NN'), ('ઉછાળમાં', 'N_NN'), ('વિજેતા', 'N_NN'), ('જે', 'N_NN'), ('પસંદગી', 'N_NN'), ('કરશે', 'N_NN'), ('તેનાથી', 'N_NN'), ('વિરુદ્ધ', 'N_NN'), ('પસંદગી', 'N_NN'), ('વિરુદ્ધ', 'N_NN'), ('ટુકડીની', 'V_VM'), ('રહેશે', 'V_VAUX'), ('.', 'RD_PUNC')]\n",
            "[('રામનાથનને', 'N_NN'), ('હેલ્મસ', 'N_NN'), ('પુરસ્કાર', 'N_NN'), ('પણ', 'RP_RPD'), ('એનાયત', 'JJ'), ('કરાયો', 'V_VM'), ('હતો', 'V_VAUX'), ('.', 'RD_PUNC')]\n",
            "[('ટેનિસ', 'N_NN'), ('ક્ષેત્રે', 'N_NN'), ('આમ', 'N_NN'), ('તો', 'RP_RPD'), ('વિજયે', 'N_NNP'), ('તેના', 'PR_PRP'), ('સમયગાળાના', 'N_NN'), ('ધરખમ', 'N_NN'), ('ટેનિસ', 'N_NN'), ('ખેલાડીઓને', 'N_NN'), ('કોઈને', 'N_NN'), ('કોઈ', 'N_NN'), ('સ્થળે', 'N_NN'), ('હરાવ્યા', 'V_VM'), ('છે', 'V_VAUX'), ('.', 'RD_PUNC')]\n",
            "[('રમેશ', 'N_NNP'), ('કૃષ્ણન', 'N_NNP'), ('વિશે', 'N_NNP'), ('ઘણા', 'N_NN'), ('મજાકમાં', 'N_NN'), ('કહે', 'N_NN'), ('કે', 'CC_CCS'), ('સ્ટેફી', 'N_NN'), ('ગ્રાફની', 'N_NN'), ('સર્વિસ', 'N_NN'), ('પણ', 'RP_RPD'), ('તેના', 'V_VM'), ('કરતા', 'V_VM'), ('ઝડપી', 'V_VM'), ('હોય', 'V_VAUX'), ('છે', 'V_VAUX'), ('.', 'RD_PUNC')]\n",
            "[('એશિયાઈ', 'N_NN'), ('જુનિયર', 'N_NN'), ('ચેમ્પિયનનો', 'N_NN'), ('તાજ', 'N_NN'), ('જીતીને', 'N_NN'), ('ઝિશાને', 'N_NNP'), ('એશિયાના', 'N_NN'), ('સર્વશ્રેષ્ઠ', 'N_NN'), ('ખેલાડી', 'N_NN'), ('તરીકેનું', 'N_NN'), ('સ્થાન', 'N_NN'), ('મેળવ્યું', 'V_VM'), ('.', 'RD_PUNC')]\n",
            "[('સૌથી', 'JJ'), ('નાની', 'N_NN'), ('વયે', 'N_NN'), ('તેણે', 'N_NNP'), ('આ', 'DM_DMD'), ('તાજ', 'N_NN'), ('હાંસલ', 'N_NN'), ('કર્યો', 'V_VM'), ('હતો', 'V_VAUX'), ('.', 'RD_PUNC')]\n",
            "[('આ', 'DM_DMD'), ('ટુર્નામેન્ટમાં', 'N_NN'), ('ભારતે', 'N_NNP'), ('કુલ', 'N_NN'), ('૩૮', 'N_NN'), ('ગોલ', 'N_NN'), ('કર્યા', 'V_VM'), ('હતા', 'V_VAUX'), ('.', 'RD_PUNC')]\n",
            "[('આ', 'DM_DMD'), ('રમતોત્સવ', 'N_NN'), ('પતિયાળામાં', 'N_NN'), ('યોજાયો', 'V_VM'), ('હતો', 'V_VAUX'), ('.', 'RD_PUNC')]\n",
            "[('ટોકિયો', 'N_NN'), ('ખાતે', 'PSP'), ('યોજાયેલ', 'V_VAUX_VNP'), ('૧૯૬૮ની', 'N_NN'), ('એશિયાડમાં', 'N_NN'), ('મિલ્ખાસિંહે', 'N_NNP'), ('તો', 'RP_RPD'), ('ભારતીય', 'JJ'), ('એથ્લેટિક્સ', 'N_NN'), ('ઇતિહાસમાં', 'N_NN'), ('એક', 'QT_QTC'), ('સુવર્ણ', 'N_NN'), ('-', 'RD_PUNC'), ('પ્રકરણ', 'N_NN'), ('આલેખી', 'N_NN'), ('દીધું', 'V_VM'), ('.', 'RD_PUNC')]\n",
            "[('એશિયા', 'N_NN'), ('સ્પ્રિન્ટ', 'N_NN'), (',', 'RD_PUNC'), ('સુવર્ણપરી', 'RD_PUNC'), (',', 'RD_PUNC'), ('ઉડનપરી', 'RD_PUNC'), (',', 'RD_PUNC'), ('એક્સપ્રેસ', 'RD_PUNC'), ('ગર્લ', 'N_NN'), ('વગેરે', 'N_NN'), ('જેવાં', 'N_NN'), ('વિવિધ', 'N_NN'), ('ગૌરવવંતા', 'N_NN'), ('બિરુદ', 'N_NN'), ('મેળવી', 'N_NN'), ('ચૂકેલ', 'N_NN'), ('પી.ટી.ઉષા', 'N_NN'), ('એથ્લેટિક', 'N_NN'), ('જગતમાં', 'N_NN'), ('ભારતની', 'N_NN'), ('એમ્બેસેડર', 'V_VM'), ('હતી', 'V_VAUX'), ('.', 'RD_PUNC')]\n",
            "[('લગભગ', 'PSP'), ('છેલ્લા', 'JJ'), ('બે', 'QT_QTC'), ('દશકા', 'N_NN'), ('સુધી', 'PSP'), ('ભારત', 'N_NNP'), ('અને', 'CC_CCD'), ('એશિયાના', 'N_NN'), ('ટ્રેક', 'N_NN'), ('પર', 'PSP'), ('એક', 'QT_QTC'), ('સમ્રાજ્ઞીની', 'N_NN'), ('માફક', 'N_NN'), ('રાજ', 'N_NN'), ('કરનાર', 'N_NN'), ('પી.ટી.ઉષાએ', 'N_NN'), ('ગોલ્ડન', 'N_NN'), ('ટ્રેક', 'N_NN'), ('પરથી', 'N_NNP'), ('અનેક', 'N_NN'), ('ચંદ્રકો', 'N_NN'), ('અને', 'CC_CCD'), ('સિદ્ધિઓ', 'JJ'), ('મેળવેલ', 'V_VM'), ('છે', 'V_VAUX'), ('.', 'RD_PUNC')]\n",
            "[('૧૯૭૮માં', 'JJ'), ('ક્લિવાનમાં', 'N_NN'), ('જ્યારે', 'N_NN'), ('આંતરરાજ્ય', 'N_NN'), ('એથ્લેટિક', 'N_NN'), ('ચેમ્પિયનશીપ', 'N_NN'), ('યોજાઈ', 'N_NN'), ('ત્યારે', 'N_NST'), ('૧૦૦', 'N_NN'), ('મીટર', 'N_NN'), ('દોડમાં', 'N_NN'), ('આ', 'DM_DMD'), ('૧૩', 'N_NN'), ('વર્ષની', 'N_NN'), ('ટૂંકું', 'N_NN'), ('ફ્રોક', 'N_NN'), ('પહેરેલ', 'N_NN'), ('અને', 'CC_CCD'), ('લાંબા', 'N_NN'), ('પગ', 'N_NN'), ('ધરાવતી', 'N_NN'), ('છોકરીએ', 'N_NN'), ('૧૩.૧', 'N_NN'), ('સેકન્ડમાં', 'N_NN'), ('દોડી', 'N_NN'), ('જઈને', 'N_NN'), ('સૌને', 'N_NN'), ('આશ્ચર્યચકિત', 'N_NN'), ('કરી', 'V_VM'), ('દીધા', 'V_VAUX'), ('હતા', 'V_VAUX'), ('.', 'RD_PUNC')]\n",
            "[('સૌંદર્યથી', 'N_NN'), ('ભરપૂર', 'N_NN'), ('એવા', 'N_NN'), ('કેરળના', 'N_NN'), ('પ્યોલી', 'N_NN'), ('ગામની', 'N_NN'), ('પી.ટી.ઉષાએ', 'N_NNP'), ('આંતરરાષ્ટ્રીય', 'N_NN'), ('કારકિર્દી', 'N_NN'), ('માત્ર', 'N_NN'), ('૧૬', 'N_NN'), ('વર્ષની', 'N_NN'), ('ઉંમરે', 'N_NN'), ('૧૯૮૦માં', 'N_NN'), ('મોસ્કો', 'N_NNP'), ('ખાતે', 'PSP'), ('યોજાયેલ', 'V_VAUX_VNP'), ('બાવીશમાં', 'N_NN'), ('એથ્લેટિક્સથી', 'N_NN'), ('શરૂ', 'N_NN'), ('કરી', 'V_VM'), ('હતી', 'V_VAUX'), ('.', 'RD_PUNC')]\n",
            "[('ફાઈનલમાં', 'N_NN'), ('તે', 'DM_DMD'), ('ભારત', 'N_NNP'), ('વતી', 'N_NN'), ('સૌ', 'JJ'), ('પ્રથમ', 'QT_QTO'), ('દોડી', 'V_VM'), ('હતી', 'V_VAUX'), ('.', 'RD_PUNC')]\n",
            "[('ઉષાએ', 'N_NNP'), ('સર્વશ્રેષ્ઠ', 'N_NNP'), ('સમય', 'N_NN'), ('૫૫.૪૨', 'N_NN'), ('સેકન્ડનો', 'N_NN'), ('૪૦૦', 'N_NN'), ('મીટર', 'N_NN'), ('દોડમાં', 'N_NN'), ('નોંધાવ્યો', 'V_VM'), ('હતો', 'V_VAUX'), ('.', 'RD_PUNC')]\n"
          ],
          "name": "stdout"
        }
      ]
    },
    {
      "cell_type": "code",
      "metadata": {
        "colab": {
          "base_uri": "https://localhost:8080/"
        },
        "id": "1xRu6q3Aa7T8",
        "outputId": "263d0fe5-3e59-4fba-f9b3-1ea1b484a143"
      },
      "source": [
        "from sklearn.metrics import accuracy_score\n",
        "accuracy_score(y_true, y_pred)"
      ],
      "execution_count": null,
      "outputs": [
        {
          "output_type": "execute_result",
          "data": {
            "text/plain": [
              "0.6274509803921569"
            ]
          },
          "metadata": {
            "tags": []
          },
          "execution_count": 62
        }
      ]
    },
    {
      "cell_type": "code",
      "metadata": {
        "colab": {
          "base_uri": "https://localhost:8080/"
        },
        "id": "D9G9fInYa7T8",
        "outputId": "7bce48fd-9bf1-47a9-bc77-a40b8b9ca16a"
      },
      "source": [
        "tags = ['N_NN', 'PR_PRL', 'JJ', 'V_VAUX_VNP', 'V_VAUX', 'N_NNP', 'RD_PUNC', 'DM_DMD', 'N_NST', 'PR_PRI', 'PR_PRP', 'V_VM', 'PSP', 'DM_DMI', 'RP_RPD', 'QT_QTF', 'RP_NEG', 'CC_CCD', 'QT_QTC', 'RD_SYM', 'CC_CCS', 'PR_PRF', 'PR_PRQ', 'DM_DMQ', 'CC_CCS_UT', 'PR_PRC', 'QT_QTO', 'RB', 'RD_RDF', 'DM_DMR','RP_INJ','RD_ECH','RP_INTF','RP_CL']\n",
        "heading = ['guj_entertainment_sample3','guj_philosophy_sample4','guj_science and technology_sample6','guj_sports_sample7','guj_religion_sample5','guj_economy_sample2','guj_art and culture_sample1']\n",
        "total_true = {}\n",
        "total_false = {}\n",
        "\n",
        "for i in tags:\n",
        "  total_true[i] = 0;\n",
        "  total_false[i]=0;\n",
        "\n",
        "def evaluations(true,pred):\n",
        "  dictt = {}\n",
        "  for i in tags:\n",
        "    dictt[i]={}\n",
        "  \n",
        "  for i in range(len(true)):\n",
        "    if(true[i]==pred[i]):\n",
        "      total_true[true[i]] += 1\n",
        "      continue\n",
        "    \n",
        "    total_false[true[i]] += 1\n",
        "    if(pred[i] in dictt[true[i]].keys()):\n",
        "      dictt[true[i]][pred[i]] += 1\n",
        "    else:\n",
        "      dictt[true[i]][pred[i]] = 1\n",
        "  return dictt\n",
        "\n",
        "res = evaluations(y_true,y_pred)\n",
        "print(res)"
      ],
      "execution_count": null,
      "outputs": [
        {
          "output_type": "stream",
          "text": [
            "{'N_NN': {'N_NNP': 9, 'V_VM': 5, 'RD_PUNC': 4, 'JJ': 3}, 'PR_PRL': {'N_NN': 2, 'DM_DMD': 1}, 'JJ': {'N_NN': 54, 'V_VM': 2, 'PSP': 1, 'N_NNP': 1}, 'V_VAUX_VNP': {'N_NN': 32, 'CC_CCD': 1, 'JJ': 1, 'V_VM': 8, 'V_VAUX': 2, 'N_NNP': 2, 'RD_PUNC': 1}, 'V_VAUX': {'V_VM': 5, 'N_NN': 1}, 'N_NNP': {'N_NN': 35, 'PSP': 1}, 'RD_PUNC': {}, 'DM_DMD': {'PR_PRP': 2, 'N_NN': 2, 'PSP': 1}, 'N_NST': {'N_NN': 9, 'V_VM': 1}, 'PR_PRI': {}, 'PR_PRP': {'DM_DMD': 2, 'V_VM': 1, 'N_NNP': 1}, 'V_VM': {'N_NN': 16}, 'PSP': {'N_NN': 17, 'N_NNP': 3, 'V_VM': 1}, 'DM_DMI': {'N_NN': 6}, 'RP_RPD': {'N_NN': 2}, 'QT_QTF': {'N_NN': 3, 'V_VM': 1}, 'RP_NEG': {'V_VAUX': 1, 'N_NN': 1}, 'CC_CCD': {'N_NN': 4, 'RP_RPD': 1}, 'QT_QTC': {'JJ': 3, 'N_NN': 27, 'N_NNP': 2}, 'RD_SYM': {}, 'CC_CCS': {}, 'PR_PRF': {'N_NNP': 1, 'N_NN': 1}, 'PR_PRQ': {}, 'DM_DMQ': {}, 'CC_CCS_UT': {}, 'PR_PRC': {}, 'QT_QTO': {'N_NN': 3, 'JJ': 1}, 'RB': {'N_NN': 1}, 'RD_RDF': {}, 'DM_DMR': {}, 'RP_INJ': {}, 'RD_ECH': {}, 'RP_INTF': {}, 'RP_CL': {}}\n"
          ],
          "name": "stdout"
        }
      ]
    },
    {
      "cell_type": "code",
      "metadata": {
        "id": "CCi-AhIGa7T8"
      },
      "source": [
        "for i in list(total_true):\n",
        "  if(total_true[i]==0):\n",
        "    total_true.pop(i)\n",
        "\n",
        "for i in list(total_false):\n",
        "  if(total_false[i]==0):\n",
        "    total_false.pop(i)"
      ],
      "execution_count": null,
      "outputs": []
    },
    {
      "cell_type": "code",
      "metadata": {
        "colab": {
          "base_uri": "https://localhost:8080/",
          "height": 508
        },
        "id": "WooL_Bfda7T9",
        "outputId": "a9094dde-b34b-46ee-a6cc-29579fe26014"
      },
      "source": [
        "import matplotlib.pyplot as plt\n",
        "from matplotlib.pyplot import figure\n",
        "\n",
        "figure(figsize=(8, 6), dpi=80)\n",
        "plt.bar(range(len(total_true)), list(total_true.values()), align='center')\n",
        "plt.xticks(range(len(total_true)), list(total_true.keys()),rotation='vertical')\n",
        "plt.title(\"Correctly Predicted\")"
      ],
      "execution_count": null,
      "outputs": [
        {
          "output_type": "execute_result",
          "data": {
            "text/plain": [
              "Text(0.5, 1.0, 'Correctly Predicted')"
            ]
          },
          "metadata": {
            "tags": []
          },
          "execution_count": 65
        },
        {
          "output_type": "display_data",
          "data": {
            "image/png": "[encoded data removed]",
            "text/plain": [
              "<Figure size 640x480 with 1 Axes>"
            ]
          },
          "metadata": {
            "tags": [],
            "needs_background": "light"
          }
        }
      ]
    },
    {
      "cell_type": "code",
      "metadata": {
        "colab": {
          "base_uri": "https://localhost:8080/",
          "height": 508
        },
        "id": "khOZC04ja7T9",
        "outputId": "e3c634c3-9842-4f9e-c801-03596a6cb3ac"
      },
      "source": [
        "import matplotlib.pyplot as plt\n",
        "from matplotlib.pyplot import figure\n",
        "\n",
        "figure(figsize=(8, 6), dpi=80)\n",
        "plt.bar(range(len(total_false)), list(total_false.values()), align='center')\n",
        "plt.xticks(range(len(total_false)), list(total_false.keys()),rotation='vertical')\n",
        "plt.title(\"Wrong Prediction\")"
      ],
      "execution_count": null,
      "outputs": [
        {
          "output_type": "execute_result",
          "data": {
            "text/plain": [
              "Text(0.5, 1.0, 'Wrong Prediction')"
            ]
          },
          "metadata": {
            "tags": []
          },
          "execution_count": 66
        },
        {
          "output_type": "display_data",
          "data": {
            "image/png": "[encoded data removed]",
            "text/plain": [
              "<Figure size 640x480 with 1 Axes>"
            ]
          },
          "metadata": {
            "tags": [],
            "needs_background": "light"
          }
        }
      ]
    },
    {
      "cell_type": "code",
      "metadata": {
        "colab": {
          "base_uri": "https://localhost:8080/"
        },
        "id": "rZppnzAYa7T9",
        "outputId": "d1ad631f-0f4c-4467-8796-6bee49ebbbb1"
      },
      "source": [
        "for i in res:\n",
        "  total = 0\n",
        "  print(\"Actual Value \",i)\n",
        "  for j in res[i]:\n",
        "    total += res[i][j]\n",
        "  \n",
        "  print(res[i])\n",
        "  print(\"Total Wrong Prediction \",total)\n",
        "  print(\"\\n\")\n",
        "  print(\"*\"*50)"
      ],
      "execution_count": null,
      "outputs": [
        {
          "output_type": "stream",
          "text": [
            "Actual Value  N_NN\n",
            "{'N_NNP': 9, 'V_VM': 5, 'RD_PUNC': 4, 'JJ': 3}\n",
            "Total Wrong Prediction  21\n",
            "\n",
            "\n",
            "**************************************************\n",
            "Actual Value  PR_PRL\n",
            "{'N_NN': 2, 'DM_DMD': 1}\n",
            "Total Wrong Prediction  3\n",
            "\n",
            "\n",
            "**************************************************\n",
            "Actual Value  JJ\n",
            "{'N_NN': 54, 'V_VM': 2, 'PSP': 1, 'N_NNP': 1}\n",
            "Total Wrong Prediction  58\n",
            "\n",
            "\n",
            "**************************************************\n",
            "Actual Value  V_VAUX_VNP\n",
            "{'N_NN': 32, 'CC_CCD': 1, 'JJ': 1, 'V_VM': 8, 'V_VAUX': 2, 'N_NNP': 2, 'RD_PUNC': 1}\n",
            "Total Wrong Prediction  47\n",
            "\n",
            "\n",
            "**************************************************\n",
            "Actual Value  V_VAUX\n",
            "{'V_VM': 5, 'N_NN': 1}\n",
            "Total Wrong Prediction  6\n",
            "\n",
            "\n",
            "**************************************************\n",
            "Actual Value  N_NNP\n",
            "{'N_NN': 35, 'PSP': 1}\n",
            "Total Wrong Prediction  36\n",
            "\n",
            "\n",
            "**************************************************\n",
            "Actual Value  RD_PUNC\n",
            "{}\n",
            "Total Wrong Prediction  0\n",
            "\n",
            "\n",
            "**************************************************\n",
            "Actual Value  DM_DMD\n",
            "{'PR_PRP': 2, 'N_NN': 2, 'PSP': 1}\n",
            "Total Wrong Prediction  5\n",
            "\n",
            "\n",
            "**************************************************\n",
            "Actual Value  N_NST\n",
            "{'N_NN': 9, 'V_VM': 1}\n",
            "Total Wrong Prediction  10\n",
            "\n",
            "\n",
            "**************************************************\n",
            "Actual Value  PR_PRI\n",
            "{}\n",
            "Total Wrong Prediction  0\n",
            "\n",
            "\n",
            "**************************************************\n",
            "Actual Value  PR_PRP\n",
            "{'DM_DMD': 2, 'V_VM': 1, 'N_NNP': 1}\n",
            "Total Wrong Prediction  4\n",
            "\n",
            "\n",
            "**************************************************\n",
            "Actual Value  V_VM\n",
            "{'N_NN': 16}\n",
            "Total Wrong Prediction  16\n",
            "\n",
            "\n",
            "**************************************************\n",
            "Actual Value  PSP\n",
            "{'N_NN': 17, 'N_NNP': 3, 'V_VM': 1}\n",
            "Total Wrong Prediction  21\n",
            "\n",
            "\n",
            "**************************************************\n",
            "Actual Value  DM_DMI\n",
            "{'N_NN': 6}\n",
            "Total Wrong Prediction  6\n",
            "\n",
            "\n",
            "**************************************************\n",
            "Actual Value  RP_RPD\n",
            "{'N_NN': 2}\n",
            "Total Wrong Prediction  2\n",
            "\n",
            "\n",
            "**************************************************\n",
            "Actual Value  QT_QTF\n",
            "{'N_NN': 3, 'V_VM': 1}\n",
            "Total Wrong Prediction  4\n",
            "\n",
            "\n",
            "**************************************************\n",
            "Actual Value  RP_NEG\n",
            "{'V_VAUX': 1, 'N_NN': 1}\n",
            "Total Wrong Prediction  2\n",
            "\n",
            "\n",
            "**************************************************\n",
            "Actual Value  CC_CCD\n",
            "{'N_NN': 4, 'RP_RPD': 1}\n",
            "Total Wrong Prediction  5\n",
            "\n",
            "\n",
            "**************************************************\n",
            "Actual Value  QT_QTC\n",
            "{'JJ': 3, 'N_NN': 27, 'N_NNP': 2}\n",
            "Total Wrong Prediction  32\n",
            "\n",
            "\n",
            "**************************************************\n",
            "Actual Value  RD_SYM\n",
            "{}\n",
            "Total Wrong Prediction  0\n",
            "\n",
            "\n",
            "**************************************************\n",
            "Actual Value  CC_CCS\n",
            "{}\n",
            "Total Wrong Prediction  0\n",
            "\n",
            "\n",
            "**************************************************\n",
            "Actual Value  PR_PRF\n",
            "{'N_NNP': 1, 'N_NN': 1}\n",
            "Total Wrong Prediction  2\n",
            "\n",
            "\n",
            "**************************************************\n",
            "Actual Value  PR_PRQ\n",
            "{}\n",
            "Total Wrong Prediction  0\n",
            "\n",
            "\n",
            "**************************************************\n",
            "Actual Value  DM_DMQ\n",
            "{}\n",
            "Total Wrong Prediction  0\n",
            "\n",
            "\n",
            "**************************************************\n",
            "Actual Value  CC_CCS_UT\n",
            "{}\n",
            "Total Wrong Prediction  0\n",
            "\n",
            "\n",
            "**************************************************\n",
            "Actual Value  PR_PRC\n",
            "{}\n",
            "Total Wrong Prediction  0\n",
            "\n",
            "\n",
            "**************************************************\n",
            "Actual Value  QT_QTO\n",
            "{'N_NN': 3, 'JJ': 1}\n",
            "Total Wrong Prediction  4\n",
            "\n",
            "\n",
            "**************************************************\n",
            "Actual Value  RB\n",
            "{'N_NN': 1}\n",
            "Total Wrong Prediction  1\n",
            "\n",
            "\n",
            "**************************************************\n",
            "Actual Value  RD_RDF\n",
            "{}\n",
            "Total Wrong Prediction  0\n",
            "\n",
            "\n",
            "**************************************************\n",
            "Actual Value  DM_DMR\n",
            "{}\n",
            "Total Wrong Prediction  0\n",
            "\n",
            "\n",
            "**************************************************\n",
            "Actual Value  RP_INJ\n",
            "{}\n",
            "Total Wrong Prediction  0\n",
            "\n",
            "\n",
            "**************************************************\n",
            "Actual Value  RD_ECH\n",
            "{}\n",
            "Total Wrong Prediction  0\n",
            "\n",
            "\n",
            "**************************************************\n",
            "Actual Value  RP_INTF\n",
            "{}\n",
            "Total Wrong Prediction  0\n",
            "\n",
            "\n",
            "**************************************************\n",
            "Actual Value  RP_CL\n",
            "{}\n",
            "Total Wrong Prediction  0\n",
            "\n",
            "\n",
            "**************************************************\n"
          ],
          "name": "stdout"
        }
      ]
    },
    {
      "cell_type": "code",
      "metadata": {
        "colab": {
          "base_uri": "https://localhost:8080/",
          "height": 462
        },
        "id": "FDzkWtpZa7T9",
        "outputId": "8dfa7e85-0c0b-4b7a-e007-4813467cc313"
      },
      "source": [
        "import pandas as pd\n",
        "temp = {'JJ':{'RP_RPD': 1, 'N_NN': 25, 'PSP': 6, 'N_NST': 4, 'N_NNP': 11, 'RD_RDF': 1, 'V_VAUX_VNP': 2, 'V_VM': 2, 'QT_QTC': 1, 'RD_SYM': 1, 'QT_QTF': 2, 'QT_QTO': 3, 'DM_DMQ': 2, 'PR_PRF': 1}}\n",
        "data = pd.DataFrame.from_dict(temp)\n",
        "data\n"
      ],
      "execution_count": null,
      "outputs": [
        {
          "output_type": "execute_result",
          "data": {
            "text/html": [
              "<div>\n",
              "<style scoped>\n",
              "    .dataframe tbody tr th:only-of-type {\n",
              "        vertical-align: middle;\n",
              "    }\n",
              "\n",
              "    .dataframe tbody tr th {\n",
              "        vertical-align: top;\n",
              "    }\n",
              "\n",
              "    .dataframe thead th {\n",
              "        text-align: right;\n",
              "    }\n",
              "</style>\n",
              "<table border=\"1\" class=\"dataframe\">\n",
              "  <thead>\n",
              "    <tr style=\"text-align: right;\">\n",
              "      <th></th>\n",
              "      <th>JJ</th>\n",
              "    </tr>\n",
              "  </thead>\n",
              "  <tbody>\n",
              "    <tr>\n",
              "      <th>DM_DMQ</th>\n",
              "      <td>2</td>\n",
              "    </tr>\n",
              "    <tr>\n",
              "      <th>N_NN</th>\n",
              "      <td>25</td>\n",
              "    </tr>\n",
              "    <tr>\n",
              "      <th>N_NNP</th>\n",
              "      <td>11</td>\n",
              "    </tr>\n",
              "    <tr>\n",
              "      <th>N_NST</th>\n",
              "      <td>4</td>\n",
              "    </tr>\n",
              "    <tr>\n",
              "      <th>PR_PRF</th>\n",
              "      <td>1</td>\n",
              "    </tr>\n",
              "    <tr>\n",
              "      <th>PSP</th>\n",
              "      <td>6</td>\n",
              "    </tr>\n",
              "    <tr>\n",
              "      <th>QT_QTC</th>\n",
              "      <td>1</td>\n",
              "    </tr>\n",
              "    <tr>\n",
              "      <th>QT_QTF</th>\n",
              "      <td>2</td>\n",
              "    </tr>\n",
              "    <tr>\n",
              "      <th>QT_QTO</th>\n",
              "      <td>3</td>\n",
              "    </tr>\n",
              "    <tr>\n",
              "      <th>RD_RDF</th>\n",
              "      <td>1</td>\n",
              "    </tr>\n",
              "    <tr>\n",
              "      <th>RD_SYM</th>\n",
              "      <td>1</td>\n",
              "    </tr>\n",
              "    <tr>\n",
              "      <th>RP_RPD</th>\n",
              "      <td>1</td>\n",
              "    </tr>\n",
              "    <tr>\n",
              "      <th>V_VAUX_VNP</th>\n",
              "      <td>2</td>\n",
              "    </tr>\n",
              "    <tr>\n",
              "      <th>V_VM</th>\n",
              "      <td>2</td>\n",
              "    </tr>\n",
              "  </tbody>\n",
              "</table>\n",
              "</div>"
            ],
            "text/plain": [
              "            JJ\n",
              "DM_DMQ       2\n",
              "N_NN        25\n",
              "N_NNP       11\n",
              "N_NST        4\n",
              "PR_PRF       1\n",
              "PSP          6\n",
              "QT_QTC       1\n",
              "QT_QTF       2\n",
              "QT_QTO       3\n",
              "RD_RDF       1\n",
              "RD_SYM       1\n",
              "RP_RPD       1\n",
              "V_VAUX_VNP   2\n",
              "V_VM         2"
            ]
          },
          "metadata": {
            "tags": []
          },
          "execution_count": 68
        }
      ]
    },
    {
      "cell_type": "code",
      "metadata": {
        "id": "RYpMIMqKa7T-"
      },
      "source": [
        ""
      ],
      "execution_count": null,
      "outputs": []
    },
    {
      "cell_type": "markdown",
      "metadata": {
        "id": "rOHtDJiDYnRV"
      },
      "source": [
        "# Each Corpus RMS BILSTM"
      ]
    },
    {
      "cell_type": "code",
      "metadata": {
        "id": "YgBqTHUwY2qh"
      },
      "source": [
        "Acc_plot = []\n",
        "Loss_plot = []\n",
        "precision_plot = []\n",
        "f1score_plot = []\n",
        "\n",
        "dict_true = {}\n",
        "dict_pred = {}\n",
        "\n",
        "import pandas as pd\n",
        "import numpy as np\n",
        "import torch\n",
        "import torch.nn as nn\n",
        "import torch.nn.functional as F\n",
        "import torch.optim as optim\n",
        "import os\n",
        "\n",
        "\n",
        "recall = []\n",
        "Acc_plot = []\n",
        "Loss_plot = []\n",
        "precision_plot = []\n",
        "f1score_plot = []\n",
        "\n"
      ],
      "execution_count": null,
      "outputs": []
    },
    {
      "cell_type": "markdown",
      "metadata": {
        "id": "Wlrw0L4AYnRW"
      },
      "source": [
        "## guj_sports_sample7"
      ]
    },
    {
      "cell_type": "code",
      "metadata": {
        "colab": {
          "base_uri": "https://localhost:8080/"
        },
        "id": "57w9scPtYnRX",
        "outputId": "bc2f7b39-30e0-43e0-9201-0103002df0d3"
      },
      "source": [
        "path = '/content/drive/MyDrive/nlpproject/data/guj_sports_sample7.txt'\n",
        "                \n",
        "def process_file(path):\n",
        "  f = open(path,'r')\n",
        "  tagged_sentence = []\n",
        "  for line in f:\n",
        "    line = line.split()[1:]\n",
        "    temp = []\n",
        "    for i in line:\n",
        "      i = i.split('\\\\')\n",
        "      temp.append((i[0],i[1]))\n",
        "    tagged_sentence.append(temp)\n",
        "\n",
        "  return tagged_sentence\n",
        "\n",
        "\n",
        "tagged_sentence = process_file(path)\n",
        "print(len(tagged_sentence))"
      ],
      "execution_count": null,
      "outputs": [
        {
          "output_type": "stream",
          "text": [
            "1000\n"
          ],
          "name": "stdout"
        }
      ]
    },
    {
      "cell_type": "code",
      "metadata": {
        "id": "m3PPTvDNYnRX"
      },
      "source": [
        "def word_to_ix(word, ix):\n",
        "    return torch.tensor(ix[word], dtype = torch.long)\n",
        "\n",
        "def char_to_ix(char, ix):\n",
        "    return torch.tensor(ix[char], dtype= torch.long)\n",
        "\n",
        "def tag_to_ix(tag, ix):\n",
        "    return torch.tensor(ix[tag], dtype= torch.long)\n",
        "\n",
        "def sequence_to_idx(sequence, ix):\n",
        "    return torch.tensor([ix[s] for s in sequence], dtype=torch.long)\n",
        "\n",
        "\n",
        "word_to_idx = {}\n",
        "tag_to_idx = {}\n",
        "char_to_idx = {}\n",
        "for sentence in tagged_sentence:\n",
        "    for word, pos_tag in sentence:\n",
        "        if word not in word_to_idx.keys():\n",
        "            word_to_idx[word] = len(word_to_idx)\n",
        "        if pos_tag not in tag_to_idx.keys():\n",
        "            tag_to_idx[pos_tag] = len(tag_to_idx)\n",
        "        for char in word:\n",
        "            if char not in char_to_idx.keys():\n",
        "                char_to_idx[char] = len(char_to_idx)"
      ],
      "execution_count": null,
      "outputs": []
    },
    {
      "cell_type": "code",
      "metadata": {
        "colab": {
          "base_uri": "https://localhost:8080/"
        },
        "id": "fDthnxT5YnRX",
        "outputId": "e9718623-63be-45f2-bba1-80f64e42fdc8"
      },
      "source": [
        "word_vocab_size = len(word_to_idx)\n",
        "tag_vocab_size = len(tag_to_idx)\n",
        "char_vocab_size = len(char_to_idx)\n",
        "\n",
        "print(\"Unique words: {}\".format(len(word_to_idx)))\n",
        "print(\"Unique tags: {}\".format(len(tag_to_idx)))\n",
        "print(\"Unique characters: {}\".format(len(char_to_idx)))"
      ],
      "execution_count": null,
      "outputs": [
        {
          "output_type": "stream",
          "text": [
            "Unique words: 4269\n",
            "Unique tags: 29\n",
            "Unique characters: 107\n"
          ],
          "name": "stdout"
        }
      ]
    },
    {
      "cell_type": "code",
      "metadata": {
        "id": "m-iTDN4HYnRY"
      },
      "source": [
        "import random\n",
        "\n",
        "tr_random = random.sample(list(range(len(tagged_sentence))), int(0.95 * len(tagged_sentence)))\n",
        "\n",
        "train = [tagged_sentence[i] for i in tr_random]\n",
        "test = [tagged_sentence[i] for i in range(len(tagged_sentence)) if i not in tr_random]"
      ],
      "execution_count": null,
      "outputs": []
    },
    {
      "cell_type": "code",
      "metadata": {
        "colab": {
          "base_uri": "https://localhost:8080/"
        },
        "id": "B9XJkQ6iYnRY",
        "outputId": "00c9887c-d5ff-4b3a-c668-6daf2ddbb49e"
      },
      "source": [
        "print(\"Training set Size \",len(train))\n",
        "print(\"Test set Size \",len(test))\n",
        "print(\"Sample Test\")\n",
        "print(test[2])"
      ],
      "execution_count": null,
      "outputs": [
        {
          "output_type": "stream",
          "text": [
            "Training set Size  950\n",
            "Test set Size  50\n",
            "Sample Test\n",
            "[('ચેન્નઈમાં', 'N_NNP'), ('રમાયેલી', 'V_VAUX_VNP'), ('ઑસ્ટ્રેલિયાની', 'N_NNP'), ('સામેની', 'PSP'), ('પ્રથમ', 'QT_QTO'), ('ટેસ્ટમાં', 'N_NN'), ('ભારતીય', 'JJ'), ('સ્પિનરો', 'N_NN'), ('(', 'RD_SYM'), ('અશ્વિન', 'N_NNP'), (',', 'RD_PUNC'), ('હરભજન', 'N_NNP'), ('અને', 'CC_CCD'), ('જાડેજાએ', 'N_NNP'), ('તમામ', 'JJ'), ('૨૦', 'QT_QTC'), ('વિકેટ', 'N_NN'), ('ઝડપવાની', 'V_VAUX_VNP'), ('અનોખી', 'JJ'), ('સિદ્ધિ', 'N_NN'), ('મેળવી', 'V_VAUX_VNP'), ('હતી', 'V_VAUX'), ('.', 'RD_PUNC')]\n"
          ],
          "name": "stdout"
        }
      ]
    },
    {
      "cell_type": "code",
      "metadata": {
        "id": "j73GqwspYnRY"
      },
      "source": [
        "WORD_EMBEDDING_DIM = 1024\n",
        "CHAR_EMBEDDING_DIM = 128\n",
        "WORD_HIDDEN_DIM = 1024\n",
        "CHAR_HIDDEN_DIM = 1024\n",
        "EPOCHS = 30\n",
        "\n",
        "class DualLSTMTagger(nn.Module):\n",
        "  def __init__(self, word_embedding_dim, word_hidden_dim, char_embedding_dim, char_hidden_dim, word_vocab_size, char_vocab_size, tag_vocab_size):\n",
        "    super(DualLSTMTagger, self).__init__()\n",
        "    self.word_embedding = nn.Embedding(word_vocab_size, word_embedding_dim)\n",
        "    \n",
        "    self.char_embedding = nn.Embedding(char_vocab_size, char_embedding_dim)\n",
        "    self.char_lstm = nn.LSTM(char_embedding_dim, char_hidden_dim)\n",
        "    self.lstm = nn.LSTM(word_embedding_dim + char_hidden_dim, word_hidden_dim,bidirectional=True)\n",
        "\n",
        "    self.hidden2tag = nn.Linear(word_hidden_dim*2, tag_vocab_size)\n",
        "      \n",
        "  def forward(self, sentence, words):\n",
        "    embeds = self.word_embedding(sentence)\n",
        "    char_hidden_final = []\n",
        "    for word in words:\n",
        "        char_embeds = self.char_embedding(word)\n",
        "        _, (char_hidden, char_cell_state) = self.char_lstm(char_embeds.view(len(word), 1, -1))\n",
        "        word_char_hidden_state = char_hidden.view(-1)\n",
        "        char_hidden_final.append(word_char_hidden_state)\n",
        "    char_hidden_final = torch.stack(tuple(char_hidden_final))\n",
        "    \n",
        "    combined = torch.cat((embeds, char_hidden_final), 1)\n",
        "\n",
        "    lstm_out, _ = self.lstm(combined.view(len(sentence), 1, -1))\n",
        "    tag_space = self.hidden2tag(lstm_out.view(len(sentence), -1))\n",
        "    \n",
        "    tag_scores = F.log_softmax(tag_space, dim=1)\n",
        "    return tag_scores"
      ],
      "execution_count": null,
      "outputs": []
    },
    {
      "cell_type": "code",
      "metadata": {
        "id": "qbBTAJzbYnRa"
      },
      "source": [
        "model = DualLSTMTagger(WORD_EMBEDDING_DIM, WORD_HIDDEN_DIM, CHAR_EMBEDDING_DIM, CHAR_HIDDEN_DIM, word_vocab_size, char_vocab_size, tag_vocab_size)\n",
        "\n",
        "use_cuda = torch.cuda.is_available()\n",
        "device = torch.device(\"cuda:0\" if use_cuda else \"cpu\")\n",
        "\n",
        "if use_cuda:\n",
        "    model.cuda()\n",
        "\n",
        "loss_function = nn.NLLLoss()\n",
        "optimizer = optim.RMSprop(model.parameters(), lr=0.001)\n"
      ],
      "execution_count": null,
      "outputs": []
    },
    {
      "cell_type": "code",
      "metadata": {
        "colab": {
          "base_uri": "https://localhost:8080/"
        },
        "id": "duyNayNXYnRa",
        "outputId": "1ddb3b38-6357-416e-e6af-308bca329658"
      },
      "source": [
        "accuracy_list = []\n",
        "loss_list = []\n",
        "interval = round(len(train) / 100.)\n",
        "epochs = EPOCHS\n",
        "e_interval = round(epochs / 10.)\n",
        "for epoch in range(epochs):\n",
        "    acc = 0 #to keep track of accuracy\n",
        "    loss = 0 # To keep track of the loss value\n",
        "    i = 0\n",
        "    for sentence_tag in train:\n",
        "        i += 1\n",
        "        words = [torch.tensor(sequence_to_idx(s[0], char_to_idx), dtype=torch.long).to(device) for s in sentence_tag]\n",
        "        sentence = [s[0] for s in sentence_tag]\n",
        "        sentence = torch.tensor(sequence_to_idx(sentence, word_to_idx), dtype=torch.long).to(device)\n",
        "        targets = [s[1] for s in sentence_tag]\n",
        "        targets = torch.tensor(sequence_to_idx(targets, tag_to_idx), dtype=torch.long).to(device)\n",
        "        \n",
        "        model.zero_grad()\n",
        "        \n",
        "        tag_scores = model(sentence, words)\n",
        "        \n",
        "        loss = loss_function(tag_scores, targets)\n",
        "        loss.backward()\n",
        "        optimizer.step()\n",
        "        loss += loss.item()\n",
        "        _, indices = torch.max(tag_scores, 1)\n",
        "#         print(indices == targets)\n",
        "        acc += torch.mean(torch.tensor(targets == indices, dtype=torch.float))\n",
        "        if i % interval == 0:\n",
        "            print(\"Epoch {} Running;\\t{}% Complete\".format(epoch + 1, i / interval), end = \"\\r\", flush = True)\n",
        "    loss = loss / len(train)\n",
        "    acc = acc / len(train)\n",
        "    loss_list.append(float(loss))\n",
        "    accuracy_list.append(float(acc))\n",
        "    if (epoch + 1) % e_interval == 0:\n",
        "        print(\"Epoch {} Completed,\\tLoss {}\\tAccuracy: {}\".format(epoch + 1, np.mean(loss_list[-e_interval:]), np.mean(accuracy_list[-e_interval:]))) "
      ],
      "execution_count": null,
      "outputs": [
        {
          "output_type": "stream",
          "text": [
            "/usr/local/lib/python3.7/dist-packages/ipykernel_launcher.py:12: UserWarning: To copy construct from a tensor, it is recommended to use sourceTensor.clone().detach() or sourceTensor.clone().detach().requires_grad_(True), rather than torch.tensor(sourceTensor).\n",
            "  if sys.path[0] == '':\n",
            "/usr/local/lib/python3.7/dist-packages/ipykernel_launcher.py:14: UserWarning: To copy construct from a tensor, it is recommended to use sourceTensor.clone().detach() or sourceTensor.clone().detach().requires_grad_(True), rather than torch.tensor(sourceTensor).\n",
            "  \n",
            "/usr/local/lib/python3.7/dist-packages/ipykernel_launcher.py:16: UserWarning: To copy construct from a tensor, it is recommended to use sourceTensor.clone().detach() or sourceTensor.clone().detach().requires_grad_(True), rather than torch.tensor(sourceTensor).\n",
            "  app.launch_new_instance()\n",
            "/usr/local/lib/python3.7/dist-packages/ipykernel_launcher.py:28: UserWarning: To copy construct from a tensor, it is recommended to use sourceTensor.clone().detach() or sourceTensor.clone().detach().requires_grad_(True), rather than torch.tensor(sourceTensor).\n"
          ],
          "name": "stderr"
        },
        {
          "output_type": "stream",
          "text": [
            "Epoch 3 Completed,\tLoss 6.739230381451004e-05\tAccuracy: 0.9067578514417013\n",
            "Epoch 6 Completed,\tLoss 6.769671756501339e-07\tAccuracy: 0.9967535535494486\n",
            "Epoch 9 Completed,\tLoss 2.643132388513436e-07\tAccuracy: 0.9993270834287008\n",
            "Epoch 12 Completed,\tLoss 6.706110259694735e-09\tAccuracy: 0.9994250138600668\n",
            "Epoch 15 Completed,\tLoss 8.226107966099091e-10\tAccuracy: 0.9997540513674418\n",
            "Epoch 18 Completed,\tLoss 3.7575026516171546e-09\tAccuracy: 0.9997178713480631\n",
            "Epoch 21 Completed,\tLoss 6.699205021739226e-09\tAccuracy: 0.9998346964518229\n",
            "Epoch 24 Completed,\tLoss 2.7885209188024025e-11\tAccuracy: 0.9997866749763489\n",
            "Epoch 27 Completed,\tLoss 1.3942605172253172e-11\tAccuracy: 0.9998419086138407\n",
            "Epoch 30 Completed,\tLoss 2.649091594234913e-10\tAccuracy: 0.999676505724589\n"
          ],
          "name": "stdout"
        }
      ]
    },
    {
      "cell_type": "code",
      "metadata": {
        "colab": {
          "base_uri": "https://localhost:8080/"
        },
        "id": "jxnEerekYnRa",
        "outputId": "e152ee8e-7307-4c60-b525-62e177c17d2b"
      },
      "source": [
        "y_true = []\n",
        "y_pred = []\n",
        "for sentence in test:\n",
        "  seq = \"\"\n",
        "  for s in range(len(sentence)):\n",
        "    if(s==(len(sentence)-1)):\n",
        "      seq+= sentence[s][0]\n",
        "    else:\n",
        "      seq += sentence[s][0] + \" \"\n",
        "    y_true.append(sentence[s][1])\n",
        "  \n",
        "  seq = seq.split()\n",
        "  with torch.no_grad():\n",
        "    words = [torch.tensor(sequence_to_idx(s[0], char_to_idx), dtype=torch.long).to(device) for s in seq]\n",
        "    sentence = torch.tensor(sequence_to_idx(seq, word_to_idx), dtype=torch.long).to(device)\n",
        "        \n",
        "    tag_scores = model(sentence, words)\n",
        "    _, indices = torch.max(tag_scores, 1)\n",
        "    ret = []\n",
        "    for i in range(len(indices)):\n",
        "        for key, value in tag_to_idx.items():\n",
        "            if indices[i] == value:\n",
        "                ret.append((seq[i], key))\n",
        "                y_pred.append(key)\n",
        "    print(ret)"
      ],
      "execution_count": null,
      "outputs": [
        {
          "output_type": "stream",
          "text": [
            "[('ટેસ્ટમાં', 'N_NN'), ('અશ્વિને', 'PSP'), ('વૈવિધ્યતા', 'N_NN'), ('સાથે', 'PSP'), ('ઓફ', 'PSP'), ('સ્પિન', 'N_NN'), ('બોલિંગ', 'N_NN'), ('પર', 'PSP'), ('જ', 'RP_RPD'), ('મદાર', 'N_NN'), ('રાખ્યો', 'V_VAUX'), ('હતો', 'V_VAUX'), ('.', 'RD_PUNC')]\n",
            "[('ચારને', 'QT_QTC'), ('ન્યાય', 'N_NN'), ('કરવામાં', 'N_NN'), ('પ્રભાવ', 'V_VAUX'), ('પણ', 'RP_RPD'), ('તૂટી', 'V_VAUX_VNP'), ('જઈ', 'V_VAUX_VNP'), ('શકે', 'V_VAUX'), ('.', 'RD_PUNC')]\n",
            "[('ચેન્નઈમાં', 'N_NNP'), ('રમાયેલી', 'N_NNP'), ('ઑસ્ટ્રેલિયાની', 'N_NNP'), ('સામેની', 'PSP'), ('પ્રથમ', 'QT_QTO'), ('ટેસ્ટમાં', 'N_NN'), ('ભારતીય', 'JJ'), ('સ્પિનરો', 'N_NN'), ('(', 'RD_SYM'), ('અશ્વિન', 'N_NNP'), (',', 'RD_PUNC'), ('હરભજન', 'N_NNP'), ('અને', 'CC_CCD'), ('જાડેજાએ', 'N_NNP'), ('તમામ', 'JJ'), ('૨૦', 'QT_QTC'), ('વિકેટ', 'N_NN'), ('ઝડપવાની', 'N_NN'), ('અનોખી', 'N_NN'), ('સિદ્ધિ', 'N_NN'), ('મેળવી', 'V_VM'), ('હતી', 'V_VAUX'), ('.', 'RD_PUNC')]\n",
            "[('આ', 'DM_DMD'), ('સાથે', 'PSP'), ('ભારતે', 'N_NNP'), ('ઘરઆંગણે', 'N_NN'), ('સૌથી', 'JJ'), ('વધુ', 'QT_QTF'), ('વિજય', 'N_NNP'), ('ચેન્નઈ', 'N_NNP'), ('ખાતે', 'PSP'), ('મેળવ્યો', 'V_VM'), ('છે', 'V_VAUX'), ('.', 'RD_PUNC')]\n",
            "[('ઑસ્ટ્રેલિયાના', 'N_NNP'), ('૨૩૭', 'QT_QTC'), ('રનના', 'N_NN'), ('સ્કોર', 'N_NN'), ('સામે', 'PSP'), ('ભારતના', 'N_NNP'), ('એક', 'QT_QTC'), ('વિકેટ', 'N_NN'), ('૩૩૧', 'QT_QTC'), ('રન', 'N_NN'), ('.', 'RD_PUNC')]\n",
            "[('તે', 'PR_PRP'), ('બધા', 'N_NN'), ('નિષ્ફળ', 'JJ'), ('સાબિત', 'JJ'), ('થયા', 'V_VM'), ('છે', 'V_VAUX'), ('.', 'RD_PUNC')]\n",
            "[('ઑસ્ટ્રેલિયા', 'N_NNP'), ('માટે', 'PSP'), ('તો', 'RP_RPD'), ('હાલ', 'N_NN'), ('ટોપ', 'N_NN'), ('ઓર્ડરનું', 'N_NN'), ('ફોર્મ', 'N_NN'), ('સુધરે', 'N_NN'), ('તે', 'DM_DMD'), ('અત્યંત', 'JJ'), ('જરૂરી', 'JJ'), ('છે', 'V_VAUX'), ('.', 'RD_PUNC')]\n",
            "[('તેનું', 'DM_DMD'), ('પ્રતિબિંબ', 'N_NN'), ('જોવા', 'N_NN'), ('મળ્યું', 'V_VM'), ('હતું', 'V_VAUX'), ('.', 'RD_PUNC')]\n",
            "[('આ', 'DM_DMD'), ('કોમેન્ટ', 'N_NN'), ('આડકતરી', 'JJ'), ('રીતે', 'N_NN'), ('કેપ્ટન', 'N_NN'), ('ધોની', 'N_NNP'), ('અને', 'CC_CCD'), ('ભારતીય', 'JJ'), ('ટીમના', 'N_NN'), ('વિજયને', 'N_NN'), ('ઝાંખી', 'JJ'), ('પાડતી', 'N_NN'), ('હતી', 'V_VAUX'), ('કેમકે', 'CC_CCS'), ('ધોનીની', 'N_NNP'), ('કેપ્ટનશીપ', 'N_NN'), ('હેઠળની', 'N_NN'), ('ભારતીય', 'JJ'), ('ટીમ', 'N_NN'), ('ઈંગ્લેન્ડ', 'N_NNP'), ('અને', 'CC_CCD'), ('ઑસ્ટ્રેલિયામાં', 'N_NNP'), ('૦-૪', 'QT_QTC'), (',', 'RD_PUNC'), ('૦-૪થી', 'N_NN'), ('ભારે', 'JJ'), ('શરમજનક', 'JJ'), ('રીતે', 'N_NN'), ('હારી', 'V_VM'), ('હતી', 'V_VAUX'), ('.', 'RD_PUNC')]\n",
            "[('ઑસ્ટ્રેલિયાની', 'N_NNP'), ('આ', 'DM_DMD'), ('ટીમની', 'N_NN'), ('ભારત', 'N_NNP'), ('સાથે', 'PSP'), ('તુલના', 'N_NN'), ('થઈ', 'V_VM'), ('શકે', 'V_VAUX'), ('તેમ', 'PSP'), ('જ', 'RP_RPD'), ('નથી', 'RP_NEG'), ('.', 'RD_PUNC')]\n"
          ],
          "name": "stdout"
        },
        {
          "output_type": "stream",
          "text": [
            "/usr/local/lib/python3.7/dist-packages/ipykernel_launcher.py:14: UserWarning: To copy construct from a tensor, it is recommended to use sourceTensor.clone().detach() or sourceTensor.clone().detach().requires_grad_(True), rather than torch.tensor(sourceTensor).\n",
            "  \n",
            "/usr/local/lib/python3.7/dist-packages/ipykernel_launcher.py:15: UserWarning: To copy construct from a tensor, it is recommended to use sourceTensor.clone().detach() or sourceTensor.clone().detach().requires_grad_(True), rather than torch.tensor(sourceTensor).\n",
            "  from ipykernel import kernelapp as app\n"
          ],
          "name": "stderr"
        },
        {
          "output_type": "stream",
          "text": [
            "[('ઑસ્ટ્રેલિયાની', 'N_NNP'), ('ટીમ', 'N_NN'), ('કેપ્ટન', 'N_NN'), ('ક્લાર્ક', 'N_NN'), ('પર', 'PSP'), ('ખૂબ', 'QT_QTF'), ('જ', 'RP_RPD'), ('આધાર', 'N_NN'), ('રાખે', 'V_VM'), ('છે', 'V_VAUX'), ('.', 'RD_PUNC')]\n",
            "[('ઓલરાઉન્ડરો', 'N_NN'), ('હેનરિક્સ', 'N_NNP'), ('અને', 'CC_CCD'), ('મેક્સવેલ', 'N_NN'), ('પણ', 'RP_RPD'), ('સાવ', 'PSP'), ('ફ્લોપ', 'N_NN'), ('રહ્યા', 'V_VM'), ('હતા', 'V_VAUX'), ('.', 'RD_PUNC')]\n",
            "[('બાસ્કેટબૉલમાં', 'N_NN'), ('પોતાની', 'PR_PRF'), ('પાસે', 'PSP'), ('રહેલા', 'JJ'), ('દડાને', 'N_NN'), ('પોતાના', 'PR_PRF'), ('પક્ષના', 'N_NN'), ('ખેલાડી', 'N_NN'), ('તરફ', 'PSP'), ('મોકલવાના', 'V_VAUX_VNP'), ('કૌશલ્યને', 'N_NN'), ('`', 'RD_PUNC'), ('પાસિંગ', 'N_NN'), ('`', 'RD_PUNC'), ('કહેવામાં', 'N_NN'), ('આવે', 'V_VAUX'), ('છે', 'V_VAUX'), ('.', 'RD_PUNC')]\n",
            "[('દાવ', 'N_NN'), ('લેનાર', 'V_VAUX_VNP'), ('ખેલાડી', 'N_NN'), ('બારી', 'N_NN'), ('પાસેથી', 'PSP'), ('પસાર', 'JJ'), ('થતો', 'V_VAUX_VNP'), ('હોય', 'V_VAUX'), ('તે', 'DM_DMD'), ('વખતે', 'N_NN'), ('ખો', 'N_NN'), ('મળ્યા', 'V_VAUX_VNP'), ('પછી', 'PSP'), ('બેઠેલો', 'JJ'), ('ખેલાડી', 'N_NN'), ('સીધો', 'JJ'), ('જ', 'RP_RPD'), ('રમનાર', 'V_VAUX_VNP'), ('ખેલાડી', 'N_NN'), ('ઉપર', 'PSP'), ('ડાઈવ', 'N_NN'), ('મારી', 'V_VM'), ('તેના', 'PR_PRP'), ('પગને', 'N_NN'), ('અડકવા', 'V_VAUX_VNP'), ('પ્રયત્ન', 'N_NN'), ('કરે', 'V_VM'), ('છે', 'V_VAUX'), ('.', 'RD_PUNC')]\n",
            "[('આ', 'DM_DMD'), ('મેદાન', 'N_NN'), ('પર', 'PSP'), ('ટેસ્ટમેચ', 'N_NN'), ('રમાય', 'V_VM'), ('છે', 'V_VAUX'), ('.', 'RD_PUNC')]\n",
            "[('ભારતમાં', 'N_NNP'), ('રમતગમતના', 'PSP'), ('શોખીનોએ', 'N_NN'), ('આ', 'DM_DMD'), ('રમત', 'N_NN'), ('અપનાવી', 'JJ'), ('અને', 'CC_CCD'), ('તેને', 'PR_PRP'), ('લોકપ્રિય', 'JJ'), ('બનાવી', 'V_VM'), ('.', 'RD_PUNC')]\n",
            "[('સને', 'N_NN'), ('૧૯૧૨માં', 'QT_QTC'), ('મુસ્લિમોએ', 'N_NNP'), ('પણ', 'RP_RPD'), ('પોતાની', 'PR_PRF'), ('ટીમ', 'N_NN'), ('બનાવી', 'V_VM'), ('અને', 'CC_CCD'), ('ક્વોડ્રેંગ્યુલર', 'N_NN'), ('(', 'RD_SYM'), ('ચતુરંગી', 'RD_RDF'), (')', 'RD_SYM'), ('મેચની', 'N_NN'), ('શરૂઆત', 'N_NN'), ('થઈ', 'V_VM'), ('.', 'RD_PUNC')]\n",
            "[('સૌરાષ્ટ્ર', 'N_NNP'), ('યુનિવર્સિટી', 'N_NNP'), ('અસ્તિત્વમાં', 'N_NN'), ('આવતાં', 'V_VAUX_VNP'), ('આ', 'DM_DMD'), ('ટ્રોફી', 'N_NN'), ('તેને', 'DM_DMD'), ('સુપરત', 'JJ'), ('કરેલ', 'V_VM'), ('છે', 'V_VAUX'), ('.', 'RD_PUNC')]\n",
            "[('સને', 'N_NN'), ('૧૯૧૯', 'QT_QTC'), ('પહેલાં', 'N_NST'), ('અમદાવાદમાં', 'N_NNP'), ('ક્રિકેટની', 'N_NN'), ('રમતને', 'N_NN'), ('ખાસ', 'JJ'), ('સ્થાન', 'N_NN'), ('ન', 'RP_NEG'), ('હતું', 'V_VAUX'), ('.', 'RD_PUNC')]\n",
            "[('ડ્રાઈવની', 'N_NN'), ('ટેકનિક', 'N_NN'), ('ફોરવર્ડ', 'N_NN'), ('સ્ટ્રોક', 'N_NN'), ('જેવી', 'JJ'), ('જ', 'RP_RPD'), ('છે', 'V_VAUX'), ('.', 'RD_PUNC')]\n",
            "[('દડાને', 'N_NN'), ('હથેળીથી', 'N_NN'), ('પકડ', 'N_NN'), ('લેવી', 'N_NNP'), ('નહીં', 'RP_NEG'), ('.', 'RD_PUNC')]\n",
            "[('દડાનો', 'N_NN'), ('ઝડપી', 'JJ'), ('અને', 'CC_CCD'), ('ચોક્સાઈવાળો', 'N_NN'), ('ઘા', 'N_NN'), ('એ', 'DM_DMD'), ('સારી', 'JJ'), ('ફીલ્ડિંગ', 'N_NN'), ('માટેની', 'PSP'), ('અગત્યની', 'JJ'), ('ટેકનિક', 'N_NN'), ('છે', 'V_VAUX'), ('.', 'RD_PUNC')]\n",
            "[('બોલ્ટે', 'N_NN'), ('ફક્ત', 'PSP'), ('પોતાનો', 'PR_PRF'), ('રિએક્શન', 'N_NN'), ('ટાઈમ', 'N_NN'), ('ઘટાડવાનો', 'QT_QTC'), ('રહે', 'V_VAUX'), ('છે', 'V_VAUX'), ('.', 'RD_PUNC')]\n",
            "[('જૂના', 'JJ'), ('સમયનાં', 'N_NNP'), ('લખાણો', 'N_NNP'), ('અને', 'CC_CCD'), ('દીવાલો', 'N_NN'), ('ઉપરનાં', 'N_NN'), ('ચિત્રો', 'V_VM'), ('તેની', 'PR_PRP'), ('સાબિતી', 'N_NN'), ('આપે', 'V_VM'), ('છે', 'V_VAUX'), ('.', 'RD_PUNC')]\n",
            "[('ત્યાંથી', 'N_NST'), ('આ', 'DM_DMD'), ('રમત', 'N_NN'), ('ગ્રીસમાં', 'N_NN'), ('અને', 'CC_CCD'), ('પછી', 'PSP'), ('રોમમાં', 'PSP'), ('પ્રવેશી', 'V_VM'), ('.', 'RD_PUNC')]\n",
            "[('આ', 'DM_DMD'), ('પ્રકારના', 'N_NN'), ('ફટકામાં', 'JJ'), ('સ્ટિકને', 'N_NN'), ('ડાબા', 'JJ'), ('હાથથી', 'N_NN'), ('ઉપરના', 'PSP'), ('છેડેથી', 'QT_QTC'), ('૪``', 'QT_QTC'), ('નીચે', 'N_NST'), ('અને', 'CC_CCD'), ('જમણા', 'JJ'), ('હાથે', 'N_NN'), ('ડાબા', 'JJ'), ('હાથની', 'N_NN'), ('નીચે', 'N_NST'), ('મજબૂત', 'JJ'), ('પકડવામાં', 'V_VAUX_VNP'), ('આવે', 'V_VAUX'), ('છે', 'V_VAUX'), ('.', 'RD_PUNC')]\n",
            "[('ફટકો', 'N_NN'), ('વાગ્યા', 'V_VAUX_VNP'), ('પછી', 'PSP'), ('સ્ટિક', 'N_NN'), ('ખભાની', 'N_NN'), ('ઉપર', 'PSP'), ('ન', 'RP_NEG'), ('જાય', 'V_VAUX'), ('તેમ', 'PSP'), ('ડાબા', 'JJ'), ('પગ', 'N_NN'), ('તરફ', 'PSP'), ('ઝડપથી', 'RB'), ('વાળી', 'V_VM'), ('લેવામાં', 'V_VAUX_VNP'), ('આવે', 'V_VAUX'), ('છે', 'V_VAUX'), ('.', 'RD_PUNC')]\n",
            "[('શેડો', 'N_NNP'), ('ટેકલિંગમાં', 'N_NNP'), ('બચાવ', 'N_NN'), ('પક્ષનો', 'N_NN'), ('ખેલાડી', 'N_NN'), ('આક્રમણ', 'N_NN'), ('કરનાર', 'V_VAUX_VNP'), ('ખેલાડીની', 'N_NN'), ('સાથે', 'PSP'), ('સાથે', 'PSP'), ('દોડશે', 'N_NNP'), ('અને', 'CC_CCD'), ('જ્યારે', 'N_NST'), ('તક', 'N_NN'), ('મળશે', 'N_NN'), ('ત્યારે', 'N_NST'), ('દડો', 'N_NN'), ('પડાવી', 'N_NN'), ('લેશે', 'V_VAUX_VNP'), ('.', 'RD_PUNC')]\n",
            "[('ખેલાડી', 'N_NN'), ('ચપળતાથી', 'RB'), ('દડાને', 'N_NN'), ('આગળ', 'PSP'), (',', 'RD_PUNC'), ('પાછળ', 'PSP'), ('કે', 'CC_CCS'), ('બાજુ', 'N_NST'), ('પર', 'PSP'), ('પરિસ્થિતિ', 'N_NN'), ('પ્રમાણે', 'PSP'), ('ફેરવી', 'N_NN'), ('પ્રતિસ્પર્ધીના', 'N_NN'), ('ઘેરાવામાંથી', 'N_NN'), ('છટકી', 'V_VM'), ('જાય', 'V_VAUX'), ('છે', 'V_VAUX'), ('.', 'RD_PUNC')]\n",
            "[('સામાન્ય', 'JJ'), ('રીતે', 'N_NN'), ('ગોલકીપરે', 'N_NN'), ('દડો', 'N_NN'), ('અટકાવ્યા', 'V_VAUX_VNP'), ('બાદ', 'PSP'), ('મેદાનમાં', 'N_NN'), ('ખાલી', 'N_NST'), ('જગ્યા', 'N_NN'), ('હોય', 'V_VAUX'), ('તે', 'DM_DMD'), ('તરફ', 'PSP'), ('અગર', 'PSP'), ('જે', 'PR_PRL'), ('તરફ', 'PSP'), ('પોતાનો', 'PR_PRF'), ('ભિલ્લુ', 'N_NN'), ('ઊભો', 'V_VM'), ('હોય', 'V_VAUX'), ('તે', 'DM_DMD'), ('તરફ', 'PSP'), ('દડો', 'N_NN'), ('મોકલવો', 'V_VAUX_VNP'), ('જોઈએ', 'V_VAUX'), ('.', 'RD_PUNC')]\n",
            "[('પ્રત્યેક', 'JJ'), ('ટુકડીમાં', 'N_NN'), ('૧૧', 'QT_QTC'), ('ખેલાડીઓથી', 'N_NN'), ('વધારે', 'QT_QTF'), ('ન', 'RP_NEG'), ('હોય', 'V_VAUX'), ('તેવી', 'JJ'), ('બે', 'QT_QTC'), ('ટુકડીઓથી', 'N_NN'), ('રમત', 'N_NN'), ('રમવામાં', 'V_VAUX'), ('આવશે', 'V_VAUX'), ('.', 'RD_PUNC')]\n",
            "[('આવો', 'JJ'), ('સમય', 'N_NN'), ('જે', 'PR_PRL'), ('તે', 'DM_DMD'), ('અર્ધ', 'JJ'), ('સમયમાં', 'N_NN'), ('ઉમેરશે', 'V_VM'), ('.', 'RD_PUNC')]\n",
            "[('ગોલલાઈન', 'N_NN'), ('અને', 'CC_CCD'), ('બાજુરેખા', 'N_NN'), ('મેદાનમાં', 'N_NN'), ('ગણાશે', 'RP_NEG'), ('.', 'RD_PUNC')]\n",
            "[('રામનાથનના', 'N_NNP'), ('પિતાએ', 'N_NN'), ('તેના', 'PR_PRP'), ('માટે', 'PSP'), ('ઘરને', 'N_NN'), ('અડીને', 'N_NN'), ('જ', 'RP_RPD'), ('ટેનિસ', 'N_NN'), ('કોર્ટની', 'JJ'), ('વ્યવસ્થા', 'N_NN'), ('કરાવી', 'V_VM'), ('દીધી', 'V_VAUX'), ('હતી', 'V_VAUX'), ('.', 'RD_PUNC')]\n",
            "[('આ', 'DM_DMD'), ('વર્ષે', 'N_NN'), ('કૃષ્ણને', 'N_NNP'), ('ઘણા', 'QT_QTF'), ('મહારથીઓને', 'N_NN'), ('પછાડ્યા', 'N_NNP'), ('તેમજ', 'CC_CCD'), ('રાષ્ટ્રીય', 'JJ'), ('ચેમ્પિયન', 'N_NN'), ('પણ', 'RP_RPD'), ('બન્યો', 'V_VM'), ('.', 'RD_PUNC')]\n",
            "[('આ', 'DM_DMD'), ('વખતે', 'N_NN'), ('તો', 'RP_RPD'), ('રોય', 'N_NN'), ('ઈજર્સન', 'N_NNP'), ('જેવા', 'JJ'), ('ધરખમ', 'JJ'), ('ખેલાડીને', 'N_NN'), ('હરાવી', 'N_NN'), ('રામનાથ', 'N_NN'), ('કૃષ્ણનન', 'JJ'), ('સેમિ', 'N_NN'), ('ફાઈનલમાં', 'N_NN'), ('પ્રવેશ્યો', 'V_VAUX_VNP'), ('હતો', 'V_VAUX'), ('.', 'RD_PUNC')]\n",
            "[('પરંતુ', 'CC_CCD'), ('ટેનિસનો', 'N_NNP'), ('આ', 'DM_DMD'), ('જવામર્દ', 'N_NN'), ('એમ', 'PSP'), ('પાછાં', 'N_NN'), ('ડગલાં', 'V_VAUX_VNP'), ('માંડે', 'N_NN'), ('તેવા', 'JJ'), ('મિજાજનો', 'JJ'), ('નહોતો', 'RP_INTF'), ('અને', 'CC_CCD'), ('એટલે', 'PSP'), ('જ', 'RP_RPD'), ('મચકોડાયેલા', 'N_NN'), ('પગે', 'N_NNP'), ('તે', 'DM_DMD'), ('વિમ્બલડનના', 'N_NN'), ('ત્રીજા', 'QT_QTO'), ('રાઉન્ડમાં', 'N_NN'), ('ઊતર્યો', 'JJ'), ('હતો', 'V_VAUX'), ('.', 'RD_PUNC')]\n",
            "[('પરંતુ', 'CC_CCD'), ('આજે', 'N_NST'), ('ય', 'RP_RPD'), ('તેની', 'PR_PRP'), ('ટેનિસની', 'N_NN'), ('લત', 'N_NN'), ('ગઈ', 'V_VAUX'), ('નથી', 'RP_NEG'), ('.', 'RD_PUNC')]\n",
            "[('આઠ', 'QT_QTC'), ('મિનિટ', 'N_NN'), ('પછી', 'PSP'), ('ઑસ્ટ્રેલિયન', 'JJ'), ('પહેલવાને', 'N_NN'), ('સ્ટ્રેચરમાં', 'N_NN'), ('નાખીને', 'N_NN'), ('લઈ', 'V_VM'), ('જવો', 'N_NN'), ('પડે', 'V_VAUX'), ('તેવી', 'JJ'), ('સ્થિતિ', 'N_NN'), ('ભારતના', 'N_NNP'), ('પહેલવાન', 'N_NN'), ('ખાશાબાએ', 'N_NNP'), ('કરી', 'V_VM'), ('નાખી', 'N_NNP'), ('હતી', 'V_VAUX'), ('.', 'RD_PUNC')]\n",
            "[('આ', 'DM_DMD'), ('સંઘર્ષ', 'N_NN'), ('મુકાબલામાં', 'N_NNP'), ('કલકત્તાવાસી', 'JJ'), ('લિયેન્ડર', 'N_NNP'), ('પેસે', 'N_NNP'), ('૭', 'QT_QTC'), ('-', 'RD_PUNC'), ('૫', 'QT_QTC'), ('અને', 'CC_CCD'), ('૭', 'QT_QTC'), ('-', 'RD_PUNC'), ('૬થી', 'QT_QTC'), ('થોમસ', 'N_NNP'), ('એન્કવિસ્ટને', 'N_NN'), ('પરાજય', 'N_NN'), ('આપી', 'V_VM'), ('ક્વાર્ટર', 'N_NN'), ('ફાઈનલમાં', 'N_NN'), ('પ્રવેશ', 'N_NN'), ('મેળવ્યો', 'V_VM'), ('હતો', 'V_VAUX'), ('.', 'RD_PUNC')]\n",
            "[('વિશ્વવિખ્યાત', 'N_NN'), ('ધરાવતા', 'JJ'), ('આન્દ્રે', 'N_NNP'), ('અગાસી', 'N_NNP'), ('સામે', 'PSP'), ('લિયેન્ડર', 'N_NNP'), ('પેસે', 'N_NNP'), ('શ્રેષ્ઠ', 'JJ'), ('રમત', 'N_NN'), ('દર્શાવી', 'N_NN'), ('સંઘર્ષપૂર્ણ', 'JJ'), ('જંગ', 'N_NN'), ('ખેલ્યો', 'V_VM'), ('.', 'RD_PUNC')]\n",
            "[('વિવિધ', 'JJ'), ('પ્રકારના', 'N_NN'), ('પુરસ્કારોથી', 'N_NN'), ('તેને', 'PR_PRP'), ('નવાજવામાં', 'N_NN'), ('આવે', 'V_VAUX'), ('છે', 'V_VAUX'), ('.', 'RD_PUNC')]\n",
            "[('રમતગમતની', 'N_NNP'), ('દુનિયામાં', 'N_NN'), ('ભારતનું', 'N_NNP'), ('નામ', 'N_NN'), ('રોશન', 'JJ'), ('કરવામાં', 'V_VAUX_VNP'), ('મેજર', 'N_NN'), ('ધ્યાનચંદનો', 'N_NNP'), ('અમૂલ્ય', 'N_NN'), ('સિંહફાળો', 'N_NN'), ('રહેલો', 'N_NN'), ('જોવા', 'N_NN'), ('મળે', 'V_VM'), ('છે', 'V_VAUX'), ('.', 'RD_PUNC')]\n",
            "[('ભારતીય', 'JJ'), ('રમતગમતમાં', 'N_NN'), ('હોકીના', 'N_NN'), ('ઇતિહાસ', 'QT_QTC'), ('સુવર્ણઅક્ષરે', 'N_NN'), ('લખનાર', 'N_NNP'), ('મેજર', 'N_NN'), ('ધ્યાનચંદનો', 'N_NNP'), ('જન્મ', 'N_NN'), ('૨૯મી', 'QT_QTC'), ('ઑગસ્ટ', 'N_NN'), ('૧૯૦૫ના', 'QT_QTC'), ('રોજ', 'N_NST'), ('અલ્હાબાદ', 'N_NN'), ('ખાતે', 'PSP'), ('એક', 'QT_QTC'), ('રાજપૂત', 'JJ'), ('પરિવારમાં', 'N_NN'), ('થયો', 'V_VM'), ('હતો', 'V_VAUX'), ('.', 'RD_PUNC')]\n",
            "[('ધ્યાનચંદ', 'N_NNP'), ('સૌ', 'JJ'), ('પ્રથમ', 'QT_QTO'), ('૧૩મી', 'QT_QTO'), ('મે', 'N_NNP'), (',', 'RD_PUNC'), ('૧૯૨૬ના', 'N_NNP'), ('રોજ', 'N_NST'), ('ન્યુઝીલેન્ડ', 'N_NNP'), ('વિરુદ્ધ', 'JJ'), ('મેચ', 'N_NN'), ('રમ્યા', 'V_VM'), ('હતા', 'V_VAUX'), ('.', 'RD_PUNC')]\n",
            "[('જો', 'CC_CCD'), ('તમે', 'N_NN'), ('આવી', 'JJ'), ('જ', 'RP_RPD'), ('ગતિથી', 'N_NN'), ('દોડતા', 'QT_QTC'), ('રહેશો', 'N_NN'), ('તો', 'RP_RPD'), ('જરૂર', 'N_NN'), ('વિશ્વના', 'N_NN'), ('સર્વશ્રેષ્ઠ', 'JJ'), ('દોડવીર', 'N_NN'), ('બનશો', 'N_NN'), ('તેમાં', 'DM_DMD'), ('કોઈ', 'DM_DMI'), ('શંકા', 'N_NN'), ('નથી', 'RP_NEG'), ('.', 'RD_PUNC')]\n",
            "[('આ', 'DM_DMD'), ('પછી', 'PSP'), ('તેમણે', 'PR_PRP'), ('એથ્લેટિક', 'N_NN'), ('ક્ષેત્રે', 'N_NN'), ('દોડવાનું', 'PSP'), ('ધીરે', 'RB'), ('ધીરે', 'RB'), ('ઓછું', 'PR_PRP'), ('કરી', 'V_VM'), ('નાખ્યું', 'N_NN'), ('હતું', 'V_VAUX'), ('.', 'RD_PUNC')]\n",
            "[('આંતરરાષ્ટ્રીય', 'JJ'), ('એથ્લેટિક', 'N_NN'), ('જગતમાં', 'N_NN'), ('ભારતનું', 'N_NNP'), ('નામ', 'N_NN'), ('રોશન', 'JJ'), ('કરનાર', 'V_VAUX_VNP'), ('પી.ટી.ઉષા', 'N_NN'), ('એશિયા', 'N_NNP'), ('ક્વીન', 'N_NN'), ('છે', 'V_VAUX'), ('.', 'RD_PUNC')]\n",
            "[('ઉષાએ', 'N_NNP'), ('૪', 'QT_QTC'), ('સુવર્ણ', 'N_NNP'), ('અને', 'CC_CCD'), ('૧', 'QT_QTC'), ('રજતચંદ્રકો', 'N_NNP'), ('એશિયાડમાં', 'N_NNP'), ('જીત્યા', 'V_VM'), ('હતા', 'V_VAUX'), ('.', 'RD_PUNC')]\n",
            "[('૧૦૦', 'QT_QTC'), ('મીટરમાં', 'N_NN'), ('રજતચંદ્રક', 'N_NN'), ('મેળવ્યો', 'V_VM'), ('હતો', 'V_VAUX'), ('.', 'RD_PUNC')]\n"
          ],
          "name": "stdout"
        }
      ]
    },
    {
      "cell_type": "code",
      "metadata": {
        "id": "74Ii6WsZYnRa"
      },
      "source": [
        "dict_true['sports'] = y_true\n",
        "dict_pred['sports'] = y_pred"
      ],
      "execution_count": null,
      "outputs": []
    },
    {
      "cell_type": "code",
      "metadata": {
        "colab": {
          "base_uri": "https://localhost:8080/"
        },
        "id": "rQlL93SKYnRb",
        "outputId": "a3d0c9f1-11a6-491e-da6e-b02e7d52d758"
      },
      "source": [
        "from sklearn.metrics import accuracy_score\n",
        "from sklearn.metrics import f1_score\n",
        "accuracy_score(y_true, y_pred)\n",
        "f1_score(y_true, y_pred, average='macro')"
      ],
      "execution_count": null,
      "outputs": [
        {
          "output_type": "execute_result",
          "data": {
            "text/plain": [
              "0.789177651024038"
            ]
          },
          "metadata": {
            "tags": []
          },
          "execution_count": 96
        }
      ]
    },
    {
      "cell_type": "markdown",
      "metadata": {
        "id": "eLeH1vWnYnRb"
      },
      "source": [
        "## guj_science"
      ]
    },
    {
      "cell_type": "code",
      "metadata": {
        "colab": {
          "base_uri": "https://localhost:8080/"
        },
        "id": "KMjl_DEDYnRb",
        "outputId": "cdd2f737-1234-48f2-f6bf-d82b5b093ca9"
      },
      "source": [
        "path = '/content/drive/MyDrive/nlpproject/data/guj_science and technology_sample6.txt'\n",
        "\n",
        "def process_file(path):\n",
        "  f = open(path,'r')\n",
        "  tagged_sentence = []\n",
        "  for line in f:\n",
        "    line = line.split()[1:]\n",
        "    temp = []\n",
        "    for i in line:\n",
        "      i = i.split('\\\\')\n",
        "      temp.append((i[0],i[1]))\n",
        "    tagged_sentence.append(temp)\n",
        "\n",
        "  return tagged_sentence\n",
        "\n",
        "\n",
        "tagged_sentence = process_file(path)\n",
        "print(len(tagged_sentence))"
      ],
      "execution_count": null,
      "outputs": [
        {
          "output_type": "stream",
          "text": [
            "1000\n"
          ],
          "name": "stdout"
        }
      ]
    },
    {
      "cell_type": "code",
      "metadata": {
        "id": "M1lDyOZFYnRb"
      },
      "source": [
        "def word_to_ix(word, ix):\n",
        "    return torch.tensor(ix[word], dtype = torch.long)\n",
        "\n",
        "def char_to_ix(char, ix):\n",
        "    return torch.tensor(ix[char], dtype= torch.long)\n",
        "\n",
        "def tag_to_ix(tag, ix):\n",
        "    return torch.tensor(ix[tag], dtype= torch.long)\n",
        "\n",
        "def sequence_to_idx(sequence, ix):\n",
        "    return torch.tensor([ix[s] for s in sequence], dtype=torch.long)\n",
        "\n",
        "\n",
        "word_to_idx = {}\n",
        "tag_to_idx = {}\n",
        "char_to_idx = {}\n",
        "for sentence in tagged_sentence:\n",
        "    for word, pos_tag in sentence:\n",
        "        if word not in word_to_idx.keys():\n",
        "            word_to_idx[word] = len(word_to_idx)\n",
        "        if pos_tag not in tag_to_idx.keys():\n",
        "            tag_to_idx[pos_tag] = len(tag_to_idx)\n",
        "        for char in word:\n",
        "            if char not in char_to_idx.keys():\n",
        "                char_to_idx[char] = len(char_to_idx)"
      ],
      "execution_count": null,
      "outputs": []
    },
    {
      "cell_type": "code",
      "metadata": {
        "colab": {
          "base_uri": "https://localhost:8080/"
        },
        "id": "RgyBeyRfYnRc",
        "outputId": "0f89f79a-d360-43fd-a2fe-ce6502f59139"
      },
      "source": [
        "word_vocab_size = len(word_to_idx)\n",
        "tag_vocab_size = len(tag_to_idx)\n",
        "char_vocab_size = len(char_to_idx)\n",
        "\n",
        "print(\"Unique words: {}\".format(len(word_to_idx)))\n",
        "print(\"Unique tags: {}\".format(len(tag_to_idx)))\n",
        "print(\"Unique characters: {}\".format(len(char_to_idx)))"
      ],
      "execution_count": null,
      "outputs": [
        {
          "output_type": "stream",
          "text": [
            "Unique words: 5544\n",
            "Unique tags: 31\n",
            "Unique characters: 131\n"
          ],
          "name": "stdout"
        }
      ]
    },
    {
      "cell_type": "code",
      "metadata": {
        "id": "V614LegXYnRc"
      },
      "source": [
        "import random\n",
        "\n",
        "tr_random = random.sample(list(range(len(tagged_sentence))), int(0.95 * len(tagged_sentence)))\n",
        "\n",
        "train = [tagged_sentence[i] for i in tr_random]\n",
        "test = [tagged_sentence[i] for i in range(len(tagged_sentence)) if i not in tr_random]"
      ],
      "execution_count": null,
      "outputs": []
    },
    {
      "cell_type": "code",
      "metadata": {
        "colab": {
          "base_uri": "https://localhost:8080/"
        },
        "id": "lgdq5gE8YnRc",
        "outputId": "52bbd44b-41dd-4187-c342-8615369bdc17"
      },
      "source": [
        "print(\"Training set Size \",len(train))\n",
        "print(\"Test set Size \",len(test))\n",
        "print(\"Sample Test\")\n",
        "print(test[2])"
      ],
      "execution_count": null,
      "outputs": [
        {
          "output_type": "stream",
          "text": [
            "Training set Size  950\n",
            "Test set Size  50\n",
            "Sample Test\n",
            "[('જેનાં', 'PR_PRL'), ('સંપૂર્ણ', 'JJ'), ('પરિણામો', 'N_NN'), ('હજી', 'N_NST'), ('ગણવાનાં', 'V_VAUX_VNP'), ('બાકી', 'JJ'), ('છે', 'V_VAUX'), ('.', 'RD_PUNC')]\n"
          ],
          "name": "stdout"
        }
      ]
    },
    {
      "cell_type": "code",
      "metadata": {
        "id": "VA8CXdUyYnRc"
      },
      "source": [
        "WORD_EMBEDDING_DIM = 1024\n",
        "CHAR_EMBEDDING_DIM = 128\n",
        "WORD_HIDDEN_DIM = 1024\n",
        "CHAR_HIDDEN_DIM = 1024\n",
        "EPOCHS = 30\n",
        "\n",
        "class DualLSTMTagger(nn.Module):\n",
        "  def __init__(self, word_embedding_dim, word_hidden_dim, char_embedding_dim, char_hidden_dim, word_vocab_size, char_vocab_size, tag_vocab_size):\n",
        "    super(DualLSTMTagger, self).__init__()\n",
        "    self.word_embedding = nn.Embedding(word_vocab_size, word_embedding_dim)\n",
        "    \n",
        "    self.char_embedding = nn.Embedding(char_vocab_size, char_embedding_dim)\n",
        "    self.char_lstm = nn.LSTM(char_embedding_dim, char_hidden_dim)\n",
        "    self.lstm = nn.LSTM(word_embedding_dim + char_hidden_dim, word_hidden_dim,bidirectional=True)\n",
        "\n",
        "    self.hidden2tag = nn.Linear(word_hidden_dim*2, tag_vocab_size)\n",
        "      \n",
        "  def forward(self, sentence, words):\n",
        "    embeds = self.word_embedding(sentence)\n",
        "    char_hidden_final = []\n",
        "    for word in words:\n",
        "        char_embeds = self.char_embedding(word)\n",
        "        _, (char_hidden, char_cell_state) = self.char_lstm(char_embeds.view(len(word), 1, -1))\n",
        "        word_char_hidden_state = char_hidden.view(-1)\n",
        "        char_hidden_final.append(word_char_hidden_state)\n",
        "    char_hidden_final = torch.stack(tuple(char_hidden_final))\n",
        "    \n",
        "    combined = torch.cat((embeds, char_hidden_final), 1)\n",
        "\n",
        "    lstm_out, _ = self.lstm(combined.view(len(sentence), 1, -1))\n",
        "    tag_space = self.hidden2tag(lstm_out.view(len(sentence), -1))\n",
        "    \n",
        "    tag_scores = F.log_softmax(tag_space, dim=1)\n",
        "    return tag_scores"
      ],
      "execution_count": null,
      "outputs": []
    },
    {
      "cell_type": "code",
      "metadata": {
        "id": "dGIFkfLrYnRc"
      },
      "source": [
        "model = DualLSTMTagger(WORD_EMBEDDING_DIM, WORD_HIDDEN_DIM, CHAR_EMBEDDING_DIM, CHAR_HIDDEN_DIM, word_vocab_size, char_vocab_size, tag_vocab_size)\n",
        "\n",
        "use_cuda = torch.cuda.is_available()\n",
        "device = torch.device(\"cuda:0\" if use_cuda else \"cpu\")\n",
        "\n",
        "if use_cuda:\n",
        "    model.cuda()\n",
        "\n",
        "loss_function = nn.NLLLoss()\n",
        "optimizer = optim.RMSprop(model.parameters(), lr=0.001)\n",
        "\n"
      ],
      "execution_count": null,
      "outputs": []
    },
    {
      "cell_type": "code",
      "metadata": {
        "colab": {
          "base_uri": "https://localhost:8080/"
        },
        "id": "nQgMeoxNYnRd",
        "outputId": "7d05d6a8-8e28-4849-ef61-ac7edbcfb005"
      },
      "source": [
        "accuracy_list = []\n",
        "loss_list = []\n",
        "interval = round(len(train) / 100.)\n",
        "epochs = EPOCHS\n",
        "e_interval = round(epochs / 10.)\n",
        "for epoch in range(epochs):\n",
        "    acc = 0 #to keep track of accuracy\n",
        "    loss = 0 # To keep track of the loss value\n",
        "    i = 0\n",
        "    for sentence_tag in train:\n",
        "        i += 1\n",
        "        words = [torch.tensor(sequence_to_idx(s[0], char_to_idx), dtype=torch.long).to(device) for s in sentence_tag]\n",
        "        sentence = [s[0] for s in sentence_tag]\n",
        "        sentence = torch.tensor(sequence_to_idx(sentence, word_to_idx), dtype=torch.long).to(device)\n",
        "        targets = [s[1] for s in sentence_tag]\n",
        "        targets = torch.tensor(sequence_to_idx(targets, tag_to_idx), dtype=torch.long).to(device)\n",
        "        \n",
        "        model.zero_grad()\n",
        "        \n",
        "        tag_scores = model(sentence, words)\n",
        "        \n",
        "        loss = loss_function(tag_scores, targets)\n",
        "        loss.backward()\n",
        "        optimizer.step()\n",
        "        loss += loss.item()\n",
        "        _, indices = torch.max(tag_scores, 1)\n",
        "#         print(indices == targets)\n",
        "        acc += torch.mean(torch.tensor(targets == indices, dtype=torch.float))\n",
        "        if i % interval == 0:\n",
        "            print(\"Epoch {} Running;\\t{}% Complete\".format(epoch + 1, i / interval), end = \"\\r\", flush = True)\n",
        "    loss = loss / len(train)\n",
        "    acc = acc / len(train)\n",
        "    loss_list.append(float(loss))\n",
        "    accuracy_list.append(float(acc))\n",
        "    if (epoch + 1) % e_interval == 0:\n",
        "        print(\"Epoch {} Completed,\\tLoss {}\\tAccuracy: {}\".format(epoch + 1, np.mean(loss_list[-e_interval:]), np.mean(accuracy_list[-e_interval:]))) "
      ],
      "execution_count": null,
      "outputs": [
        {
          "output_type": "stream",
          "text": [
            "/usr/local/lib/python3.7/dist-packages/ipykernel_launcher.py:12: UserWarning: To copy construct from a tensor, it is recommended to use sourceTensor.clone().detach() or sourceTensor.clone().detach().requires_grad_(True), rather than torch.tensor(sourceTensor).\n",
            "  if sys.path[0] == '':\n",
            "/usr/local/lib/python3.7/dist-packages/ipykernel_launcher.py:14: UserWarning: To copy construct from a tensor, it is recommended to use sourceTensor.clone().detach() or sourceTensor.clone().detach().requires_grad_(True), rather than torch.tensor(sourceTensor).\n",
            "  \n",
            "/usr/local/lib/python3.7/dist-packages/ipykernel_launcher.py:16: UserWarning: To copy construct from a tensor, it is recommended to use sourceTensor.clone().detach() or sourceTensor.clone().detach().requires_grad_(True), rather than torch.tensor(sourceTensor).\n",
            "  app.launch_new_instance()\n",
            "/usr/local/lib/python3.7/dist-packages/ipykernel_launcher.py:28: UserWarning: To copy construct from a tensor, it is recommended to use sourceTensor.clone().detach() or sourceTensor.clone().detach().requires_grad_(True), rather than torch.tensor(sourceTensor).\n"
          ],
          "name": "stderr"
        },
        {
          "output_type": "stream",
          "text": [
            "Epoch 3 Completed,\tLoss 0.0007682990379862531\tAccuracy: 0.9089152812957764\n"
          ],
          "name": "stdout"
        }
      ]
    },
    {
      "cell_type": "code",
      "metadata": {
        "id": "TpZzNfS4YnRd"
      },
      "source": [
        "y_true = []\n",
        "y_pred = []\n",
        "for sentence in test:\n",
        "  seq = \"\"\n",
        "  for s in range(len(sentence)):\n",
        "    if(s==(len(sentence)-1)):\n",
        "      seq+= sentence[s][0]\n",
        "    else:\n",
        "      seq += sentence[s][0] + \" \"\n",
        "    y_true.append(sentence[s][1])\n",
        "  \n",
        "  seq = seq.split()\n",
        "  with torch.no_grad():\n",
        "    words = [torch.tensor(sequence_to_idx(s[0], char_to_idx), dtype=torch.long).to(device) for s in seq]\n",
        "    sentence = torch.tensor(sequence_to_idx(seq, word_to_idx), dtype=torch.long).to(device)\n",
        "        \n",
        "    tag_scores = model(sentence, words)\n",
        "    _, indices = torch.max(tag_scores, 1)\n",
        "    ret = []\n",
        "    for i in range(len(indices)):\n",
        "        for key, value in tag_to_idx.items():\n",
        "            if indices[i] == value:\n",
        "                ret.append((seq[i], key))\n",
        "                y_pred.append(key)\n",
        "    print(ret)"
      ],
      "execution_count": null,
      "outputs": []
    },
    {
      "cell_type": "code",
      "metadata": {
        "id": "Segf__MFYnRd"
      },
      "source": [
        "dict_true['science'] = y_true\n",
        "dict_pred['science'] = y_pred"
      ],
      "execution_count": null,
      "outputs": []
    },
    {
      "cell_type": "markdown",
      "metadata": {
        "id": "NpXAbo9sYnRd"
      },
      "source": [
        "## guj_economy_sample2.txt"
      ]
    },
    {
      "cell_type": "code",
      "metadata": {
        "id": "rr7-XctBYnRd"
      },
      "source": [
        "path = '/content/drive/MyDrive/nlpproject/data/guj_economy_sample2.txt'\n",
        "\n",
        "def process_file(path):\n",
        "  f = open(path,'r')\n",
        "  tagged_sentence = []\n",
        "  for line in f:\n",
        "    line = line.split()[1:]\n",
        "    temp = []\n",
        "    for i in line:\n",
        "      i = i.split('\\\\')\n",
        "      temp.append((i[0],i[1]))\n",
        "    tagged_sentence.append(temp)\n",
        "\n",
        "  return tagged_sentence\n",
        "\n",
        "\n",
        "tagged_sentence = process_file(path)\n",
        "print(len(tagged_sentence))"
      ],
      "execution_count": null,
      "outputs": []
    },
    {
      "cell_type": "code",
      "metadata": {
        "id": "AU7nAEasYnRe"
      },
      "source": [
        "def word_to_ix(word, ix):\n",
        "    return torch.tensor(ix[word], dtype = torch.long)\n",
        "\n",
        "def char_to_ix(char, ix):\n",
        "    return torch.tensor(ix[char], dtype= torch.long)\n",
        "\n",
        "def tag_to_ix(tag, ix):\n",
        "    return torch.tensor(ix[tag], dtype= torch.long)\n",
        "\n",
        "def sequence_to_idx(sequence, ix):\n",
        "    return torch.tensor([ix[s] for s in sequence], dtype=torch.long)\n",
        "\n",
        "\n",
        "word_to_idx = {}\n",
        "tag_to_idx = {}\n",
        "char_to_idx = {}\n",
        "for sentence in tagged_sentence:\n",
        "    for word, pos_tag in sentence:\n",
        "        if word not in word_to_idx.keys():\n",
        "            word_to_idx[word] = len(word_to_idx)\n",
        "        if pos_tag not in tag_to_idx.keys():\n",
        "            tag_to_idx[pos_tag] = len(tag_to_idx)\n",
        "        for char in word:\n",
        "            if char not in char_to_idx.keys():\n",
        "                char_to_idx[char] = len(char_to_idx)"
      ],
      "execution_count": null,
      "outputs": []
    },
    {
      "cell_type": "code",
      "metadata": {
        "id": "5Bh05i5VYnRe"
      },
      "source": [
        "word_vocab_size = len(word_to_idx)\n",
        "tag_vocab_size = len(tag_to_idx)\n",
        "char_vocab_size = len(char_to_idx)\n",
        "\n",
        "print(\"Unique words: {}\".format(len(word_to_idx)))\n",
        "print(\"Unique tags: {}\".format(len(tag_to_idx)))\n",
        "print(\"Unique characters: {}\".format(len(char_to_idx)))"
      ],
      "execution_count": null,
      "outputs": []
    },
    {
      "cell_type": "code",
      "metadata": {
        "id": "cUzBY_3aYnRe"
      },
      "source": [
        "import random\n",
        "\n",
        "tr_random = random.sample(list(range(len(tagged_sentence))), int(0.95 * len(tagged_sentence)))\n",
        "\n",
        "train = [tagged_sentence[i] for i in tr_random]\n",
        "test = [tagged_sentence[i] for i in range(len(tagged_sentence)) if i not in tr_random]"
      ],
      "execution_count": null,
      "outputs": []
    },
    {
      "cell_type": "code",
      "metadata": {
        "id": "bzz5YGYCYnRe"
      },
      "source": [
        "print(\"Training set Size \",len(train))\n",
        "print(\"Test set Size \",len(test))\n",
        "print(\"Sample Test\")\n",
        "print(test[2])"
      ],
      "execution_count": null,
      "outputs": []
    },
    {
      "cell_type": "code",
      "metadata": {
        "id": "Bin9IRAaYnRe"
      },
      "source": [
        "WORD_EMBEDDING_DIM = 1024\n",
        "CHAR_EMBEDDING_DIM = 128\n",
        "WORD_HIDDEN_DIM = 1024\n",
        "CHAR_HIDDEN_DIM = 1024\n",
        "EPOCHS = 30\n",
        "\n",
        "class DualLSTMTagger(nn.Module):\n",
        "  def __init__(self, word_embedding_dim, word_hidden_dim, char_embedding_dim, char_hidden_dim, word_vocab_size, char_vocab_size, tag_vocab_size):\n",
        "    super(DualLSTMTagger, self).__init__()\n",
        "    self.word_embedding = nn.Embedding(word_vocab_size, word_embedding_dim)\n",
        "    \n",
        "    self.char_embedding = nn.Embedding(char_vocab_size, char_embedding_dim)\n",
        "    self.char_lstm = nn.LSTM(char_embedding_dim, char_hidden_dim)\n",
        "    self.lstm = nn.LSTM(word_embedding_dim + char_hidden_dim, word_hidden_dim,bidirectional=True)\n",
        "\n",
        "    self.hidden2tag = nn.Linear(word_hidden_dim*2, tag_vocab_size)\n",
        "      \n",
        "  def forward(self, sentence, words):\n",
        "    embeds = self.word_embedding(sentence)\n",
        "    char_hidden_final = []\n",
        "    for word in words:\n",
        "        char_embeds = self.char_embedding(word)\n",
        "        _, (char_hidden, char_cell_state) = self.char_lstm(char_embeds.view(len(word), 1, -1))\n",
        "        word_char_hidden_state = char_hidden.view(-1)\n",
        "        char_hidden_final.append(word_char_hidden_state)\n",
        "    char_hidden_final = torch.stack(tuple(char_hidden_final))\n",
        "    \n",
        "    combined = torch.cat((embeds, char_hidden_final), 1)\n",
        "\n",
        "    lstm_out, _ = self.lstm(combined.view(len(sentence), 1, -1))\n",
        "    tag_space = self.hidden2tag(lstm_out.view(len(sentence), -1))\n",
        "    \n",
        "    tag_scores = F.log_softmax(tag_space, dim=1)\n",
        "    return tag_scores"
      ],
      "execution_count": null,
      "outputs": []
    },
    {
      "cell_type": "code",
      "metadata": {
        "id": "iEu6HQ2qYnRe"
      },
      "source": [
        "model = DualLSTMTagger(WORD_EMBEDDING_DIM, WORD_HIDDEN_DIM, CHAR_EMBEDDING_DIM, CHAR_HIDDEN_DIM, word_vocab_size, char_vocab_size, tag_vocab_size)\n",
        "\n",
        "use_cuda = torch.cuda.is_available()\n",
        "device = torch.device(\"cuda:0\" if use_cuda else \"cpu\")\n",
        "\n",
        "if use_cuda:\n",
        "    model.cuda()\n",
        "\n",
        "loss_function = nn.NLLLoss()\n",
        "optimizer = optim.RMSprop(model.parameters(), lr=0.001)\n",
        "\n"
      ],
      "execution_count": null,
      "outputs": []
    },
    {
      "cell_type": "code",
      "metadata": {
        "id": "4COLPF3RYnRf"
      },
      "source": [
        "accuracy_list = []\n",
        "loss_list = []\n",
        "interval = round(len(train) / 100.)\n",
        "epochs = EPOCHS\n",
        "e_interval = round(epochs / 10.)\n",
        "for epoch in range(epochs):\n",
        "    acc = 0 #to keep track of accuracy\n",
        "    loss = 0 # To keep track of the loss value\n",
        "    i = 0\n",
        "    for sentence_tag in train:\n",
        "        i += 1\n",
        "        words = [torch.tensor(sequence_to_idx(s[0], char_to_idx), dtype=torch.long).to(device) for s in sentence_tag]\n",
        "        sentence = [s[0] for s in sentence_tag]\n",
        "        sentence = torch.tensor(sequence_to_idx(sentence, word_to_idx), dtype=torch.long).to(device)\n",
        "        targets = [s[1] for s in sentence_tag]\n",
        "        targets = torch.tensor(sequence_to_idx(targets, tag_to_idx), dtype=torch.long).to(device)\n",
        "        \n",
        "        model.zero_grad()\n",
        "        \n",
        "        tag_scores = model(sentence, words)\n",
        "        \n",
        "        loss = loss_function(tag_scores, targets)\n",
        "        loss.backward()\n",
        "        optimizer.step()\n",
        "        loss += loss.item()\n",
        "        _, indices = torch.max(tag_scores, 1)\n",
        "#         print(indices == targets)\n",
        "        acc += torch.mean(torch.tensor(targets == indices, dtype=torch.float))\n",
        "        if i % interval == 0:\n",
        "            print(\"Epoch {} Running;\\t{}% Complete\".format(epoch + 1, i / interval), end = \"\\r\", flush = True)\n",
        "    loss = loss / len(train)\n",
        "    acc = acc / len(train)\n",
        "    loss_list.append(float(loss))\n",
        "    accuracy_list.append(float(acc))\n",
        "    if (epoch + 1) % e_interval == 0:\n",
        "        print(\"Epoch {} Completed,\\tLoss {}\\tAccuracy: {}\".format(epoch + 1, np.mean(loss_list[-e_interval:]), np.mean(accuracy_list[-e_interval:]))) "
      ],
      "execution_count": null,
      "outputs": []
    },
    {
      "cell_type": "code",
      "metadata": {
        "id": "kopIijFSYnRf"
      },
      "source": [
        "y_true = []\n",
        "y_pred = []\n",
        "for sentence in test:\n",
        "  seq = \"\"\n",
        "  for s in range(len(sentence)):\n",
        "    if(s==(len(sentence)-1)):\n",
        "      seq+= sentence[s][0]\n",
        "    else:\n",
        "      seq += sentence[s][0] + \" \"\n",
        "    y_true.append(sentence[s][1])\n",
        "  \n",
        "  seq = seq.split()\n",
        "  with torch.no_grad():\n",
        "    words = [torch.tensor(sequence_to_idx(s[0], char_to_idx), dtype=torch.long).to(device) for s in seq]\n",
        "    sentence = torch.tensor(sequence_to_idx(seq, word_to_idx), dtype=torch.long).to(device)\n",
        "        \n",
        "    tag_scores = model(sentence, words)\n",
        "    _, indices = torch.max(tag_scores, 1)\n",
        "    ret = []\n",
        "    for i in range(len(indices)):\n",
        "        for key, value in tag_to_idx.items():\n",
        "            if indices[i] == value:\n",
        "                ret.append((seq[i], key))\n",
        "                y_pred.append(key)\n",
        "    print(ret)"
      ],
      "execution_count": null,
      "outputs": []
    },
    {
      "cell_type": "code",
      "metadata": {
        "id": "rxsXuD0bYnRg"
      },
      "source": [
        "dict_true['economy'] = y_true\n",
        "dict_pred['economy'] = y_pred"
      ],
      "execution_count": null,
      "outputs": []
    },
    {
      "cell_type": "markdown",
      "metadata": {
        "id": "DzaW0BfmYnRg"
      },
      "source": [
        "## guj_entertainment_sample3"
      ]
    },
    {
      "cell_type": "code",
      "metadata": {
        "id": "xxhHbwrvYnRg"
      },
      "source": [
        "path = '/content/drive/MyDrive/nlpproject/data/guj_entertainment_sample3.txt'\n",
        "\n",
        "def process_file(path):\n",
        "  f = open(path,'r')\n",
        "  tagged_sentence = []\n",
        "  for line in f:\n",
        "    line = line.split()[1:]\n",
        "    temp = []\n",
        "    for i in line:\n",
        "      i = i.split('\\\\')\n",
        "      temp.append((i[0],i[1]))\n",
        "    tagged_sentence.append(temp)\n",
        "\n",
        "  return tagged_sentence\n",
        "\n",
        "\n",
        "tagged_sentence = process_file(path)\n",
        "print(len(tagged_sentence))"
      ],
      "execution_count": null,
      "outputs": []
    },
    {
      "cell_type": "code",
      "metadata": {
        "id": "jLYO8uBRYnRg"
      },
      "source": [
        "def word_to_ix(word, ix):\n",
        "    return torch.tensor(ix[word], dtype = torch.long)\n",
        "\n",
        "def char_to_ix(char, ix):\n",
        "    return torch.tensor(ix[char], dtype= torch.long)\n",
        "\n",
        "def tag_to_ix(tag, ix):\n",
        "    return torch.tensor(ix[tag], dtype= torch.long)\n",
        "\n",
        "def sequence_to_idx(sequence, ix):\n",
        "    return torch.tensor([ix[s] for s in sequence], dtype=torch.long)\n",
        "\n",
        "\n",
        "word_to_idx = {}\n",
        "tag_to_idx = {}\n",
        "char_to_idx = {}\n",
        "for sentence in tagged_sentence:\n",
        "    for word, pos_tag in sentence:\n",
        "        if word not in word_to_idx.keys():\n",
        "            word_to_idx[word] = len(word_to_idx)\n",
        "        if pos_tag not in tag_to_idx.keys():\n",
        "            tag_to_idx[pos_tag] = len(tag_to_idx)\n",
        "        for char in word:\n",
        "            if char not in char_to_idx.keys():\n",
        "                char_to_idx[char] = len(char_to_idx)"
      ],
      "execution_count": null,
      "outputs": []
    },
    {
      "cell_type": "code",
      "metadata": {
        "id": "gMbF8AIjYnRh"
      },
      "source": [
        "word_vocab_size = len(word_to_idx)\n",
        "tag_vocab_size = len(tag_to_idx)\n",
        "char_vocab_size = len(char_to_idx)\n",
        "\n",
        "print(\"Unique words: {}\".format(len(word_to_idx)))\n",
        "print(\"Unique tags: {}\".format(len(tag_to_idx)))\n",
        "print(\"Unique characters: {}\".format(len(char_to_idx)))"
      ],
      "execution_count": null,
      "outputs": []
    },
    {
      "cell_type": "code",
      "metadata": {
        "id": "OVhTLWzqYnRh"
      },
      "source": [
        "import random\n",
        "\n",
        "tr_random = random.sample(list(range(len(tagged_sentence))), int(0.95 * len(tagged_sentence)))\n",
        "\n",
        "train = [tagged_sentence[i] for i in tr_random]\n",
        "test = [tagged_sentence[i] for i in range(len(tagged_sentence)) if i not in tr_random]"
      ],
      "execution_count": null,
      "outputs": []
    },
    {
      "cell_type": "code",
      "metadata": {
        "id": "TY-LYoTKYnRh"
      },
      "source": [
        "print(\"Training set Size \",len(train))\n",
        "print(\"Test set Size \",len(test))\n",
        "print(\"Sample Test\")\n",
        "print(test[2])"
      ],
      "execution_count": null,
      "outputs": []
    },
    {
      "cell_type": "code",
      "metadata": {
        "id": "nqmL3cJEYnRh"
      },
      "source": [
        "WORD_EMBEDDING_DIM = 1024\n",
        "CHAR_EMBEDDING_DIM = 128\n",
        "WORD_HIDDEN_DIM = 1024\n",
        "CHAR_HIDDEN_DIM = 1024\n",
        "EPOCHS = 30\n",
        "\n",
        "class DualLSTMTagger(nn.Module):\n",
        "  def __init__(self, word_embedding_dim, word_hidden_dim, char_embedding_dim, char_hidden_dim, word_vocab_size, char_vocab_size, tag_vocab_size):\n",
        "    super(DualLSTMTagger, self).__init__()\n",
        "    self.word_embedding = nn.Embedding(word_vocab_size, word_embedding_dim)\n",
        "    \n",
        "    self.char_embedding = nn.Embedding(char_vocab_size, char_embedding_dim)\n",
        "    self.char_lstm = nn.LSTM(char_embedding_dim, char_hidden_dim)\n",
        "    self.lstm = nn.LSTM(word_embedding_dim + char_hidden_dim, word_hidden_dim,bidirectional=True)\n",
        "\n",
        "    self.hidden2tag = nn.Linear(word_hidden_dim*2, tag_vocab_size)\n",
        "      \n",
        "  def forward(self, sentence, words):\n",
        "    embeds = self.word_embedding(sentence)\n",
        "    char_hidden_final = []\n",
        "    for word in words:\n",
        "        char_embeds = self.char_embedding(word)\n",
        "        _, (char_hidden, char_cell_state) = self.char_lstm(char_embeds.view(len(word), 1, -1))\n",
        "        word_char_hidden_state = char_hidden.view(-1)\n",
        "        char_hidden_final.append(word_char_hidden_state)\n",
        "    char_hidden_final = torch.stack(tuple(char_hidden_final))\n",
        "    \n",
        "    combined = torch.cat((embeds, char_hidden_final), 1)\n",
        "\n",
        "    lstm_out, _ = self.lstm(combined.view(len(sentence), 1, -1))\n",
        "    tag_space = self.hidden2tag(lstm_out.view(len(sentence), -1))\n",
        "    \n",
        "    tag_scores = F.log_softmax(tag_space, dim=1)\n",
        "    return tag_scores"
      ],
      "execution_count": null,
      "outputs": []
    },
    {
      "cell_type": "code",
      "metadata": {
        "id": "xlQxLMwzYnRh"
      },
      "source": [
        "model = DualLSTMTagger(WORD_EMBEDDING_DIM, WORD_HIDDEN_DIM, CHAR_EMBEDDING_DIM, CHAR_HIDDEN_DIM, word_vocab_size, char_vocab_size, tag_vocab_size)\n",
        "\n",
        "use_cuda = torch.cuda.is_available()\n",
        "device = torch.device(\"cuda:0\" if use_cuda else \"cpu\")\n",
        "\n",
        "if use_cuda:\n",
        "    model.cuda()\n",
        "\n",
        "loss_function = nn.NLLLoss()\n",
        "optimizer = optim.RMSprop(model.parameters(), lr=0.001)\n",
        "\n"
      ],
      "execution_count": null,
      "outputs": []
    },
    {
      "cell_type": "code",
      "metadata": {
        "id": "spbl7ZRgYnRh"
      },
      "source": [
        "accuracy_list = []\n",
        "loss_list = []\n",
        "interval = round(len(train) / 100.)\n",
        "epochs = EPOCHS\n",
        "e_interval = round(epochs / 10.)\n",
        "for epoch in range(epochs):\n",
        "    acc = 0 #to keep track of accuracy\n",
        "    loss = 0 # To keep track of the loss value\n",
        "    i = 0\n",
        "    for sentence_tag in train:\n",
        "        i += 1\n",
        "        words = [torch.tensor(sequence_to_idx(s[0], char_to_idx), dtype=torch.long).to(device) for s in sentence_tag]\n",
        "        sentence = [s[0] for s in sentence_tag]\n",
        "        sentence = torch.tensor(sequence_to_idx(sentence, word_to_idx), dtype=torch.long).to(device)\n",
        "        targets = [s[1] for s in sentence_tag]\n",
        "        targets = torch.tensor(sequence_to_idx(targets, tag_to_idx), dtype=torch.long).to(device)\n",
        "        \n",
        "        model.zero_grad()\n",
        "        \n",
        "        tag_scores = model(sentence, words)\n",
        "        \n",
        "        loss = loss_function(tag_scores, targets)\n",
        "        loss.backward()\n",
        "        optimizer.step()\n",
        "        loss += loss.item()\n",
        "        _, indices = torch.max(tag_scores, 1)\n",
        "#         print(indices == targets)\n",
        "        acc += torch.mean(torch.tensor(targets == indices, dtype=torch.float))\n",
        "        if i % interval == 0:\n",
        "            print(\"Epoch {} Running;\\t{}% Complete\".format(epoch + 1, i / interval), end = \"\\r\", flush = True)\n",
        "    loss = loss / len(train)\n",
        "    acc = acc / len(train)\n",
        "    loss_list.append(float(loss))\n",
        "    accuracy_list.append(float(acc))\n",
        "    if (epoch + 1) % e_interval == 0:\n",
        "        print(\"Epoch {} Completed,\\tLoss {}\\tAccuracy: {}\".format(epoch + 1, np.mean(loss_list[-e_interval:]), np.mean(accuracy_list[-e_interval:]))) "
      ],
      "execution_count": null,
      "outputs": []
    },
    {
      "cell_type": "code",
      "metadata": {
        "id": "MOhiv3S1YnRi"
      },
      "source": [
        "y_true = []\n",
        "y_pred = []\n",
        "for sentence in test:\n",
        "  seq = \"\"\n",
        "  for s in range(len(sentence)):\n",
        "    if(s==(len(sentence)-1)):\n",
        "      seq+= sentence[s][0]\n",
        "    else:\n",
        "      seq += sentence[s][0] + \" \"\n",
        "    y_true.append(sentence[s][1])\n",
        "  \n",
        "  seq = seq.split()\n",
        "  with torch.no_grad():\n",
        "    words = [torch.tensor(sequence_to_idx(s[0], char_to_idx), dtype=torch.long).to(device) for s in seq]\n",
        "    sentence = torch.tensor(sequence_to_idx(seq, word_to_idx), dtype=torch.long).to(device)\n",
        "        \n",
        "    tag_scores = model(sentence, words)\n",
        "    _, indices = torch.max(tag_scores, 1)\n",
        "    ret = []\n",
        "    for i in range(len(indices)):\n",
        "        for key, value in tag_to_idx.items():\n",
        "            if indices[i] == value:\n",
        "                ret.append((seq[i], key))\n",
        "                y_pred.append(key)\n",
        "    print(ret)"
      ],
      "execution_count": null,
      "outputs": []
    },
    {
      "cell_type": "code",
      "metadata": {
        "id": "MwSo5G2sYnRi"
      },
      "source": [
        "dict_true['entern'] = y_true\n",
        "dict_pred['entern'] = y_pred"
      ],
      "execution_count": null,
      "outputs": []
    },
    {
      "cell_type": "markdown",
      "metadata": {
        "id": "qp6zGihdYnRi"
      },
      "source": [
        "## guj_philosophy_sample4"
      ]
    },
    {
      "cell_type": "code",
      "metadata": {
        "id": "307DOAw0YnRi"
      },
      "source": [
        "path = '/content/drive/MyDrive/nlpproject/data/guj_philosophy_sample4.txt'\n",
        "\n",
        "def process_file(path):\n",
        "  f = open(path,'r')\n",
        "  tagged_sentence = []\n",
        "  for line in f:\n",
        "    line = line.split()[1:]\n",
        "    temp = []\n",
        "    for i in line:\n",
        "      i = i.split('\\\\')\n",
        "      temp.append((i[0],i[1]))\n",
        "    tagged_sentence.append(temp)\n",
        "\n",
        "  return tagged_sentence\n",
        "\n",
        "\n",
        "tagged_sentence = process_file(path)\n",
        "print(len(tagged_sentence))"
      ],
      "execution_count": null,
      "outputs": []
    },
    {
      "cell_type": "code",
      "metadata": {
        "id": "bAh6dZGjYnRi"
      },
      "source": [
        "def word_to_ix(word, ix):\n",
        "    return torch.tensor(ix[word], dtype = torch.long)\n",
        "\n",
        "def char_to_ix(char, ix):\n",
        "    return torch.tensor(ix[char], dtype= torch.long)\n",
        "\n",
        "def tag_to_ix(tag, ix):\n",
        "    return torch.tensor(ix[tag], dtype= torch.long)\n",
        "\n",
        "def sequence_to_idx(sequence, ix):\n",
        "    return torch.tensor([ix[s] for s in sequence], dtype=torch.long)\n",
        "\n",
        "\n",
        "word_to_idx = {}\n",
        "tag_to_idx = {}\n",
        "char_to_idx = {}\n",
        "for sentence in tagged_sentence:\n",
        "    for word, pos_tag in sentence:\n",
        "        if word not in word_to_idx.keys():\n",
        "            word_to_idx[word] = len(word_to_idx)\n",
        "        if pos_tag not in tag_to_idx.keys():\n",
        "            tag_to_idx[pos_tag] = len(tag_to_idx)\n",
        "        for char in word:\n",
        "            if char not in char_to_idx.keys():\n",
        "                char_to_idx[char] = len(char_to_idx)"
      ],
      "execution_count": null,
      "outputs": []
    },
    {
      "cell_type": "code",
      "metadata": {
        "id": "eK-FFbD7YnRi"
      },
      "source": [
        "word_vocab_size = len(word_to_idx)\n",
        "tag_vocab_size = len(tag_to_idx)\n",
        "char_vocab_size = len(char_to_idx)\n",
        "\n",
        "print(\"Unique words: {}\".format(len(word_to_idx)))\n",
        "print(\"Unique tags: {}\".format(len(tag_to_idx)))\n",
        "print(\"Unique characters: {}\".format(len(char_to_idx)))"
      ],
      "execution_count": null,
      "outputs": []
    },
    {
      "cell_type": "code",
      "metadata": {
        "id": "q9t50QtoYnRj"
      },
      "source": [
        "import random\n",
        "\n",
        "tr_random = random.sample(list(range(len(tagged_sentence))), int(0.95 * len(tagged_sentence)))\n",
        "\n",
        "train = [tagged_sentence[i] for i in tr_random]\n",
        "test = [tagged_sentence[i] for i in range(len(tagged_sentence)) if i not in tr_random]"
      ],
      "execution_count": null,
      "outputs": []
    },
    {
      "cell_type": "code",
      "metadata": {
        "id": "naooTmfbYnRj"
      },
      "source": [
        "print(\"Training set Size \",len(train))\n",
        "print(\"Test set Size \",len(test))\n",
        "print(\"Sample Test\")\n",
        "print(test[2])"
      ],
      "execution_count": null,
      "outputs": []
    },
    {
      "cell_type": "code",
      "metadata": {
        "id": "QwiMim2LYnRj"
      },
      "source": [
        "WORD_EMBEDDING_DIM = 1024\n",
        "CHAR_EMBEDDING_DIM = 128\n",
        "WORD_HIDDEN_DIM = 1024\n",
        "CHAR_HIDDEN_DIM = 1024\n",
        "EPOCHS = 30\n",
        "\n",
        "class DualLSTMTagger(nn.Module):\n",
        "  def __init__(self, word_embedding_dim, word_hidden_dim, char_embedding_dim, char_hidden_dim, word_vocab_size, char_vocab_size, tag_vocab_size):\n",
        "    super(DualLSTMTagger, self).__init__()\n",
        "    self.word_embedding = nn.Embedding(word_vocab_size, word_embedding_dim)\n",
        "    \n",
        "    self.char_embedding = nn.Embedding(char_vocab_size, char_embedding_dim)\n",
        "    self.char_lstm = nn.LSTM(char_embedding_dim, char_hidden_dim)\n",
        "    self.lstm = nn.LSTM(word_embedding_dim + char_hidden_dim, word_hidden_dim,bidirectional=True)\n",
        "\n",
        "    self.hidden2tag = nn.Linear(word_hidden_dim*2, tag_vocab_size)\n",
        "      \n",
        "  def forward(self, sentence, words):\n",
        "    embeds = self.word_embedding(sentence)\n",
        "    char_hidden_final = []\n",
        "    for word in words:\n",
        "        char_embeds = self.char_embedding(word)\n",
        "        _, (char_hidden, char_cell_state) = self.char_lstm(char_embeds.view(len(word), 1, -1))\n",
        "        word_char_hidden_state = char_hidden.view(-1)\n",
        "        char_hidden_final.append(word_char_hidden_state)\n",
        "    char_hidden_final = torch.stack(tuple(char_hidden_final))\n",
        "    \n",
        "    combined = torch.cat((embeds, char_hidden_final), 1)\n",
        "\n",
        "    lstm_out, _ = self.lstm(combined.view(len(sentence), 1, -1))\n",
        "    tag_space = self.hidden2tag(lstm_out.view(len(sentence), -1))\n",
        "    \n",
        "    tag_scores = F.log_softmax(tag_space, dim=1)\n",
        "    return tag_scores"
      ],
      "execution_count": null,
      "outputs": []
    },
    {
      "cell_type": "code",
      "metadata": {
        "id": "0aHAHi5wYnRj"
      },
      "source": [
        "model = DualLSTMTagger(WORD_EMBEDDING_DIM, WORD_HIDDEN_DIM, CHAR_EMBEDDING_DIM, CHAR_HIDDEN_DIM, word_vocab_size, char_vocab_size, tag_vocab_size)\n",
        "\n",
        "use_cuda = torch.cuda.is_available()\n",
        "device = torch.device(\"cuda:0\" if use_cuda else \"cpu\")\n",
        "\n",
        "if use_cuda:\n",
        "    model.cuda()\n",
        "\n",
        "loss_function = nn.NLLLoss()\n",
        "optimizer = optim.RMSprop(model.parameters(), lr=0.001)\n",
        "\n"
      ],
      "execution_count": null,
      "outputs": []
    },
    {
      "cell_type": "code",
      "metadata": {
        "id": "V8E-eI_zYnRj"
      },
      "source": [
        "accuracy_list = []\n",
        "loss_list = []\n",
        "interval = round(len(train) / 100.)\n",
        "epochs = EPOCHS\n",
        "e_interval = round(epochs / 10.)\n",
        "for epoch in range(epochs):\n",
        "    acc = 0 #to keep track of accuracy\n",
        "    loss = 0 # To keep track of the loss value\n",
        "    i = 0\n",
        "    for sentence_tag in train:\n",
        "        i += 1\n",
        "        words = [torch.tensor(sequence_to_idx(s[0], char_to_idx), dtype=torch.long).to(device) for s in sentence_tag]\n",
        "        sentence = [s[0] for s in sentence_tag]\n",
        "        sentence = torch.tensor(sequence_to_idx(sentence, word_to_idx), dtype=torch.long).to(device)\n",
        "        targets = [s[1] for s in sentence_tag]\n",
        "        targets = torch.tensor(sequence_to_idx(targets, tag_to_idx), dtype=torch.long).to(device)\n",
        "        \n",
        "        model.zero_grad()\n",
        "        \n",
        "        tag_scores = model(sentence, words)\n",
        "        \n",
        "        loss = loss_function(tag_scores, targets)\n",
        "        loss.backward()\n",
        "        optimizer.step()\n",
        "        loss += loss.item()\n",
        "        _, indices = torch.max(tag_scores, 1)\n",
        "#         print(indices == targets)\n",
        "        acc += torch.mean(torch.tensor(targets == indices, dtype=torch.float))\n",
        "        if i % interval == 0:\n",
        "            print(\"Epoch {} Running;\\t{}% Complete\".format(epoch + 1, i / interval), end = \"\\r\", flush = True)\n",
        "    loss = loss / len(train)\n",
        "    acc = acc / len(train)\n",
        "    loss_list.append(float(loss))\n",
        "    accuracy_list.append(float(acc))\n",
        "    if (epoch + 1) % e_interval == 0:\n",
        "        print(\"Epoch {} Completed,\\tLoss {}\\tAccuracy: {}\".format(epoch + 1, np.mean(loss_list[-e_interval:]), np.mean(accuracy_list[-e_interval:]))) "
      ],
      "execution_count": null,
      "outputs": []
    },
    {
      "cell_type": "code",
      "metadata": {
        "id": "ytTo4O90YnRj"
      },
      "source": [
        "y_true = []\n",
        "y_pred = []\n",
        "for sentence in test:\n",
        "  seq = \"\"\n",
        "  for s in range(len(sentence)):\n",
        "    if(s==(len(sentence)-1)):\n",
        "      seq+= sentence[s][0]\n",
        "    else:\n",
        "      seq += sentence[s][0] + \" \"\n",
        "    y_true.append(sentence[s][1])\n",
        "  \n",
        "  seq = seq.split()\n",
        "  with torch.no_grad():\n",
        "    words = [torch.tensor(sequence_to_idx(s[0], char_to_idx), dtype=torch.long).to(device) for s in seq]\n",
        "    sentence = torch.tensor(sequence_to_idx(seq, word_to_idx), dtype=torch.long).to(device)\n",
        "        \n",
        "    tag_scores = model(sentence, words)\n",
        "    _, indices = torch.max(tag_scores, 1)\n",
        "    ret = []\n",
        "    for i in range(len(indices)):\n",
        "        for key, value in tag_to_idx.items():\n",
        "            if indices[i] == value:\n",
        "                ret.append((seq[i], key))\n",
        "                y_pred.append(key)\n",
        "    print(ret)"
      ],
      "execution_count": null,
      "outputs": []
    },
    {
      "cell_type": "code",
      "metadata": {
        "id": "OK_9mTFGYnRk"
      },
      "source": [
        "dict_true['philosophy'] = y_true\n",
        "dict_pred['philosophy'] = y_pred"
      ],
      "execution_count": null,
      "outputs": []
    },
    {
      "cell_type": "markdown",
      "metadata": {
        "id": "--yE6WV1YnRk"
      },
      "source": [
        "## guj_religion_sample5.txt"
      ]
    },
    {
      "cell_type": "code",
      "metadata": {
        "id": "oklb61wtYnRk"
      },
      "source": [
        "path = '/content/drive/MyDrive/nlpproject/data/guj_religion_sample5.txt'\n",
        "\n",
        "def process_file(path):\n",
        "  f = open(path,'r')\n",
        "  tagged_sentence = []\n",
        "  for line in f:\n",
        "    line = line.split()[1:]\n",
        "    temp = []\n",
        "    for i in line:\n",
        "      i = i.split('\\\\')\n",
        "      temp.append((i[0],i[1]))\n",
        "    tagged_sentence.append(temp)\n",
        "\n",
        "  return tagged_sentence\n",
        "\n",
        "\n",
        "tagged_sentence = process_file(path)\n",
        "print(len(tagged_sentence))"
      ],
      "execution_count": null,
      "outputs": []
    },
    {
      "cell_type": "code",
      "metadata": {
        "id": "fBzUK91eYnRk"
      },
      "source": [
        "def word_to_ix(word, ix):\n",
        "    return torch.tensor(ix[word], dtype = torch.long)\n",
        "\n",
        "def char_to_ix(char, ix):\n",
        "    return torch.tensor(ix[char], dtype= torch.long)\n",
        "\n",
        "def tag_to_ix(tag, ix):\n",
        "    return torch.tensor(ix[tag], dtype= torch.long)\n",
        "\n",
        "def sequence_to_idx(sequence, ix):\n",
        "    return torch.tensor([ix[s] for s in sequence], dtype=torch.long)\n",
        "\n",
        "\n",
        "word_to_idx = {}\n",
        "tag_to_idx = {}\n",
        "char_to_idx = {}\n",
        "for sentence in tagged_sentence:\n",
        "    for word, pos_tag in sentence:\n",
        "        if word not in word_to_idx.keys():\n",
        "            word_to_idx[word] = len(word_to_idx)\n",
        "        if pos_tag not in tag_to_idx.keys():\n",
        "            tag_to_idx[pos_tag] = len(tag_to_idx)\n",
        "        for char in word:\n",
        "            if char not in char_to_idx.keys():\n",
        "                char_to_idx[char] = len(char_to_idx)"
      ],
      "execution_count": null,
      "outputs": []
    },
    {
      "cell_type": "code",
      "metadata": {
        "id": "7R_8R22mYnRk"
      },
      "source": [
        "word_vocab_size = len(word_to_idx)\n",
        "tag_vocab_size = len(tag_to_idx)\n",
        "char_vocab_size = len(char_to_idx)\n",
        "\n",
        "print(\"Unique words: {}\".format(len(word_to_idx)))\n",
        "print(\"Unique tags: {}\".format(len(tag_to_idx)))\n",
        "print(\"Unique characters: {}\".format(len(char_to_idx)))"
      ],
      "execution_count": null,
      "outputs": []
    },
    {
      "cell_type": "code",
      "metadata": {
        "id": "rXs1diuvYnRk"
      },
      "source": [
        "import random\n",
        "\n",
        "tr_random = random.sample(list(range(len(tagged_sentence))), int(0.95 * len(tagged_sentence)))\n",
        "\n",
        "train = [tagged_sentence[i] for i in tr_random]\n",
        "test = [tagged_sentence[i] for i in range(len(tagged_sentence)) if i not in tr_random]"
      ],
      "execution_count": null,
      "outputs": []
    },
    {
      "cell_type": "code",
      "metadata": {
        "id": "v9esXrucYnRl"
      },
      "source": [
        "print(\"Training set Size \",len(train))\n",
        "print(\"Test set Size \",len(test))\n",
        "print(\"Sample Test\")\n",
        "print(test[2])"
      ],
      "execution_count": null,
      "outputs": []
    },
    {
      "cell_type": "code",
      "metadata": {
        "id": "arGnjZtXYnRl"
      },
      "source": [
        "WORD_EMBEDDING_DIM = 1024\n",
        "CHAR_EMBEDDING_DIM = 128\n",
        "WORD_HIDDEN_DIM = 1024\n",
        "CHAR_HIDDEN_DIM = 1024\n",
        "EPOCHS = 30\n",
        "\n",
        "class DualLSTMTagger(nn.Module):\n",
        "  def __init__(self, word_embedding_dim, word_hidden_dim, char_embedding_dim, char_hidden_dim, word_vocab_size, char_vocab_size, tag_vocab_size):\n",
        "    super(DualLSTMTagger, self).__init__()\n",
        "    self.word_embedding = nn.Embedding(word_vocab_size, word_embedding_dim)\n",
        "    \n",
        "    self.char_embedding = nn.Embedding(char_vocab_size, char_embedding_dim)\n",
        "    self.char_lstm = nn.LSTM(char_embedding_dim, char_hidden_dim)\n",
        "    self.lstm = nn.LSTM(word_embedding_dim + char_hidden_dim, word_hidden_dim,bidirectional=True)\n",
        "\n",
        "    self.hidden2tag = nn.Linear(word_hidden_dim*2, tag_vocab_size)\n",
        "      \n",
        "  def forward(self, sentence, words):\n",
        "    embeds = self.word_embedding(sentence)\n",
        "    char_hidden_final = []\n",
        "    for word in words:\n",
        "        char_embeds = self.char_embedding(word)\n",
        "        _, (char_hidden, char_cell_state) = self.char_lstm(char_embeds.view(len(word), 1, -1))\n",
        "        word_char_hidden_state = char_hidden.view(-1)\n",
        "        char_hidden_final.append(word_char_hidden_state)\n",
        "    char_hidden_final = torch.stack(tuple(char_hidden_final))\n",
        "    \n",
        "    combined = torch.cat((embeds, char_hidden_final), 1)\n",
        "\n",
        "    lstm_out, _ = self.lstm(combined.view(len(sentence), 1, -1))\n",
        "    tag_space = self.hidden2tag(lstm_out.view(len(sentence), -1))\n",
        "    \n",
        "    tag_scores = F.log_softmax(tag_space, dim=1)\n",
        "    return tag_scores"
      ],
      "execution_count": null,
      "outputs": []
    },
    {
      "cell_type": "code",
      "metadata": {
        "id": "FNsBUv_uYnRl"
      },
      "source": [
        "model = DualLSTMTagger(WORD_EMBEDDING_DIM, WORD_HIDDEN_DIM, CHAR_EMBEDDING_DIM, CHAR_HIDDEN_DIM, word_vocab_size, char_vocab_size, tag_vocab_size)\n",
        "\n",
        "use_cuda = torch.cuda.is_available()\n",
        "device = torch.device(\"cuda:0\" if use_cuda else \"cpu\")\n",
        "\n",
        "if use_cuda:\n",
        "    model.cuda()\n",
        "\n",
        "loss_function = nn.NLLLoss()\n",
        "optimizer = optim.RMSprop(model.parameters(), lr=0.001)\n",
        "\n"
      ],
      "execution_count": null,
      "outputs": []
    },
    {
      "cell_type": "code",
      "metadata": {
        "id": "4t3JB_dIYnRl"
      },
      "source": [
        "accuracy_list = []\n",
        "loss_list = []\n",
        "interval = round(len(train) / 100.)\n",
        "epochs = EPOCHS\n",
        "e_interval = round(epochs / 10.)\n",
        "for epoch in range(epochs):\n",
        "    acc = 0 #to keep track of accuracy\n",
        "    loss = 0 # To keep track of the loss value\n",
        "    i = 0\n",
        "    for sentence_tag in train:\n",
        "        i += 1\n",
        "        words = [torch.tensor(sequence_to_idx(s[0], char_to_idx), dtype=torch.long).to(device) for s in sentence_tag]\n",
        "        sentence = [s[0] for s in sentence_tag]\n",
        "        sentence = torch.tensor(sequence_to_idx(sentence, word_to_idx), dtype=torch.long).to(device)\n",
        "        targets = [s[1] for s in sentence_tag]\n",
        "        targets = torch.tensor(sequence_to_idx(targets, tag_to_idx), dtype=torch.long).to(device)\n",
        "        \n",
        "        model.zero_grad()\n",
        "        \n",
        "        tag_scores = model(sentence, words)\n",
        "        \n",
        "        loss = loss_function(tag_scores, targets)\n",
        "        loss.backward()\n",
        "        optimizer.step()\n",
        "        loss += loss.item()\n",
        "        _, indices = torch.max(tag_scores, 1)\n",
        "#         print(indices == targets)\n",
        "        acc += torch.mean(torch.tensor(targets == indices, dtype=torch.float))\n",
        "        if i % interval == 0:\n",
        "            print(\"Epoch {} Running;\\t{}% Complete\".format(epoch + 1, i / interval), end = \"\\r\", flush = True)\n",
        "    loss = loss / len(train)\n",
        "    acc = acc / len(train)\n",
        "    loss_list.append(float(loss))\n",
        "    accuracy_list.append(float(acc))\n",
        "    if (epoch + 1) % e_interval == 0:\n",
        "        print(\"Epoch {} Completed,\\tLoss {}\\tAccuracy: {}\".format(epoch + 1, np.mean(loss_list[-e_interval:]), np.mean(accuracy_list[-e_interval:]))) "
      ],
      "execution_count": null,
      "outputs": []
    },
    {
      "cell_type": "code",
      "metadata": {
        "id": "PC5BvHOIYnRl"
      },
      "source": [
        "y_true = []\n",
        "y_pred = []\n",
        "for sentence in test:\n",
        "  seq = \"\"\n",
        "  for s in range(len(sentence)):\n",
        "    if(s==(len(sentence)-1)):\n",
        "      seq+= sentence[s][0]\n",
        "    else:\n",
        "      seq += sentence[s][0] + \" \"\n",
        "    y_true.append(sentence[s][1])\n",
        "  \n",
        "  seq = seq.split()\n",
        "  with torch.no_grad():\n",
        "    words = [torch.tensor(sequence_to_idx(s[0], char_to_idx), dtype=torch.long).to(device) for s in seq]\n",
        "    sentence = torch.tensor(sequence_to_idx(seq, word_to_idx), dtype=torch.long).to(device)\n",
        "        \n",
        "    tag_scores = model(sentence, words)\n",
        "    _, indices = torch.max(tag_scores, 1)\n",
        "    ret = []\n",
        "    for i in range(len(indices)):\n",
        "        for key, value in tag_to_idx.items():\n",
        "            if indices[i] == value:\n",
        "                ret.append((seq[i], key))\n",
        "                y_pred.append(key)\n",
        "    print(ret)"
      ],
      "execution_count": null,
      "outputs": []
    },
    {
      "cell_type": "code",
      "metadata": {
        "id": "8aY6OWOAYnRm"
      },
      "source": [
        "dict_true['religion'] = y_true\n",
        "dict_pred['religion'] = y_pred"
      ],
      "execution_count": null,
      "outputs": []
    },
    {
      "cell_type": "markdown",
      "metadata": {
        "id": "wvsx1HlOYnRn"
      },
      "source": [
        "## guj_art and culture_sample1"
      ]
    },
    {
      "cell_type": "code",
      "metadata": {
        "id": "55zfaoEDYnRn"
      },
      "source": [
        "path = '/content/drive/MyDrive/nlpproject/data/guj_art and culture_sample1.txt'\n",
        "\n",
        "def process_file(path):\n",
        "  f = open(path,'r')\n",
        "  tagged_sentence = []\n",
        "  for line in f:\n",
        "    line = line.split()[1:]\n",
        "    temp = []\n",
        "    for i in line:\n",
        "      i = i.split('\\\\')\n",
        "      temp.append((i[0],i[1]))\n",
        "    tagged_sentence.append(temp)\n",
        "\n",
        "  return tagged_sentence\n",
        "\n",
        "\n",
        "tagged_sentence = process_file(path)\n",
        "print(len(tagged_sentence))"
      ],
      "execution_count": null,
      "outputs": []
    },
    {
      "cell_type": "code",
      "metadata": {
        "id": "8w2ZhD1fYnRn"
      },
      "source": [
        "def word_to_ix(word, ix):\n",
        "    return torch.tensor(ix[word], dtype = torch.long)\n",
        "\n",
        "def char_to_ix(char, ix):\n",
        "    return torch.tensor(ix[char], dtype= torch.long)\n",
        "\n",
        "def tag_to_ix(tag, ix):\n",
        "    return torch.tensor(ix[tag], dtype= torch.long)\n",
        "\n",
        "def sequence_to_idx(sequence, ix):\n",
        "    return torch.tensor([ix[s] for s in sequence], dtype=torch.long)\n",
        "\n",
        "\n",
        "word_to_idx = {}\n",
        "tag_to_idx = {}\n",
        "char_to_idx = {}\n",
        "for sentence in tagged_sentence:\n",
        "    for word, pos_tag in sentence:\n",
        "        if word not in word_to_idx.keys():\n",
        "            word_to_idx[word] = len(word_to_idx)\n",
        "        if pos_tag not in tag_to_idx.keys():\n",
        "            tag_to_idx[pos_tag] = len(tag_to_idx)\n",
        "        for char in word:\n",
        "            if char not in char_to_idx.keys():\n",
        "                char_to_idx[char] = len(char_to_idx)"
      ],
      "execution_count": null,
      "outputs": []
    },
    {
      "cell_type": "code",
      "metadata": {
        "id": "1SxgN5bZYnRo"
      },
      "source": [
        "word_vocab_size = len(word_to_idx)\n",
        "tag_vocab_size = len(tag_to_idx)\n",
        "char_vocab_size = len(char_to_idx)\n",
        "\n",
        "print(\"Unique words: {}\".format(len(word_to_idx)))\n",
        "print(\"Unique tags: {}\".format(len(tag_to_idx)))\n",
        "print(\"Unique characters: {}\".format(len(char_to_idx)))"
      ],
      "execution_count": null,
      "outputs": []
    },
    {
      "cell_type": "code",
      "metadata": {
        "id": "_qcEAZrFYnRo"
      },
      "source": [
        "import random\n",
        "\n",
        "tr_random = random.sample(list(range(len(tagged_sentence))), int(0.95 * len(tagged_sentence)))\n",
        "\n",
        "train = [tagged_sentence[i] for i in tr_random]\n",
        "test = [tagged_sentence[i] for i in range(len(tagged_sentence)) if i not in tr_random]"
      ],
      "execution_count": null,
      "outputs": []
    },
    {
      "cell_type": "code",
      "metadata": {
        "id": "Hu2mxIYsYnRo"
      },
      "source": [
        "print(\"Training set Size \",len(train))\n",
        "print(\"Test set Size \",len(test))\n",
        "print(\"Sample Test\")\n",
        "print(test[2])"
      ],
      "execution_count": null,
      "outputs": []
    },
    {
      "cell_type": "code",
      "metadata": {
        "id": "6Guh7Yx1YnRo"
      },
      "source": [
        "WORD_EMBEDDING_DIM = 1024\n",
        "CHAR_EMBEDDING_DIM = 128\n",
        "WORD_HIDDEN_DIM = 1024\n",
        "CHAR_HIDDEN_DIM = 1024\n",
        "EPOCHS = 30\n",
        "\n",
        "class DualLSTMTagger(nn.Module):\n",
        "  def __init__(self, word_embedding_dim, word_hidden_dim, char_embedding_dim, char_hidden_dim, word_vocab_size, char_vocab_size, tag_vocab_size):\n",
        "    super(DualLSTMTagger, self).__init__()\n",
        "    self.word_embedding = nn.Embedding(word_vocab_size, word_embedding_dim)\n",
        "    \n",
        "    self.char_embedding = nn.Embedding(char_vocab_size, char_embedding_dim)\n",
        "    self.char_lstm = nn.LSTM(char_embedding_dim, char_hidden_dim)\n",
        "    self.lstm = nn.LSTM(word_embedding_dim + char_hidden_dim, word_hidden_dim,bidirectional=True)\n",
        "\n",
        "    self.hidden2tag = nn.Linear(word_hidden_dim*2, tag_vocab_size)\n",
        "      \n",
        "  def forward(self, sentence, words):\n",
        "    embeds = self.word_embedding(sentence)\n",
        "    char_hidden_final = []\n",
        "    for word in words:\n",
        "        char_embeds = self.char_embedding(word)\n",
        "        _, (char_hidden, char_cell_state) = self.char_lstm(char_embeds.view(len(word), 1, -1))\n",
        "        word_char_hidden_state = char_hidden.view(-1)\n",
        "        char_hidden_final.append(word_char_hidden_state)\n",
        "    char_hidden_final = torch.stack(tuple(char_hidden_final))\n",
        "    \n",
        "    combined = torch.cat((embeds, char_hidden_final), 1)\n",
        "\n",
        "    lstm_out, _ = self.lstm(combined.view(len(sentence), 1, -1))\n",
        "    tag_space = self.hidden2tag(lstm_out.view(len(sentence), -1))\n",
        "    \n",
        "    tag_scores = F.log_softmax(tag_space, dim=1)\n",
        "    return tag_scores"
      ],
      "execution_count": null,
      "outputs": []
    },
    {
      "cell_type": "code",
      "metadata": {
        "id": "j4B-9nV8YnRo"
      },
      "source": [
        "model = DualLSTMTagger(WORD_EMBEDDING_DIM, WORD_HIDDEN_DIM, CHAR_EMBEDDING_DIM, CHAR_HIDDEN_DIM, word_vocab_size, char_vocab_size, tag_vocab_size)\n",
        "\n",
        "use_cuda = torch.cuda.is_available()\n",
        "device = torch.device(\"cuda:0\" if use_cuda else \"cpu\")\n",
        "\n",
        "if use_cuda:\n",
        "    model.cuda()\n",
        "\n",
        "loss_function = nn.NLLLoss()\n",
        "optimizer = optim.RMSprop(model.parameters(), lr=0.001)\n",
        "\n"
      ],
      "execution_count": null,
      "outputs": []
    },
    {
      "cell_type": "code",
      "metadata": {
        "id": "hCzqU4bQYnRo"
      },
      "source": [
        "accuracy_list = []\n",
        "loss_list = []\n",
        "interval = round(len(train) / 100.)\n",
        "epochs = EPOCHS\n",
        "e_interval = round(epochs / 10.)\n",
        "for epoch in range(epochs):\n",
        "    acc = 0 #to keep track of accuracy\n",
        "    loss = 0 # To keep track of the loss value\n",
        "    i = 0\n",
        "    for sentence_tag in train:\n",
        "        i += 1\n",
        "        words = [torch.tensor(sequence_to_idx(s[0], char_to_idx), dtype=torch.long).to(device) for s in sentence_tag]\n",
        "        sentence = [s[0] for s in sentence_tag]\n",
        "        sentence = torch.tensor(sequence_to_idx(sentence, word_to_idx), dtype=torch.long).to(device)\n",
        "        targets = [s[1] for s in sentence_tag]\n",
        "        targets = torch.tensor(sequence_to_idx(targets, tag_to_idx), dtype=torch.long).to(device)\n",
        "        \n",
        "        model.zero_grad()\n",
        "        \n",
        "        tag_scores = model(sentence, words)\n",
        "        \n",
        "        loss = loss_function(tag_scores, targets)\n",
        "        loss.backward()\n",
        "        optimizer.step()\n",
        "        loss += loss.item()\n",
        "        _, indices = torch.max(tag_scores, 1)\n",
        "#         print(indices == targets)\n",
        "        acc += torch.mean(torch.tensor(targets == indices, dtype=torch.float))\n",
        "        if i % interval == 0:\n",
        "            print(\"Epoch {} Running;\\t{}% Complete\".format(epoch + 1, i / interval), end = \"\\r\", flush = True)\n",
        "    loss = loss / len(train)\n",
        "    acc = acc / len(train)\n",
        "    loss_list.append(float(loss))\n",
        "    accuracy_list.append(float(acc))\n",
        "    if (epoch + 1) % e_interval == 0:\n",
        "        print(\"Epoch {} Completed,\\tLoss {}\\tAccuracy: {}\".format(epoch + 1, np.mean(loss_list[-e_interval:]), np.mean(accuracy_list[-e_interval:]))) "
      ],
      "execution_count": null,
      "outputs": []
    },
    {
      "cell_type": "code",
      "metadata": {
        "id": "oMQ-RDQfYnRp"
      },
      "source": [
        "y_true = []\n",
        "y_pred = []\n",
        "for sentence in test:\n",
        "  seq = \"\"\n",
        "  for s in range(len(sentence)):\n",
        "    if(s==(len(sentence)-1)):\n",
        "      seq+= sentence[s][0]\n",
        "    else:\n",
        "      seq += sentence[s][0] + \" \"\n",
        "    y_true.append(sentence[s][1])\n",
        "  \n",
        "  seq = seq.split()\n",
        "  with torch.no_grad():\n",
        "    words = [torch.tensor(sequence_to_idx(s[0], char_to_idx), dtype=torch.long).to(device) for s in seq]\n",
        "    sentence = torch.tensor(sequence_to_idx(seq, word_to_idx), dtype=torch.long).to(device)\n",
        "        \n",
        "    tag_scores = model(sentence, words)\n",
        "    _, indices = torch.max(tag_scores, 1)\n",
        "    ret = []\n",
        "    for i in range(len(indices)):\n",
        "        for key, value in tag_to_idx.items():\n",
        "            if indices[i] == value:\n",
        "                ret.append((seq[i], key))\n",
        "                y_pred.append(key)\n",
        "    print(ret)"
      ],
      "execution_count": null,
      "outputs": []
    },
    {
      "cell_type": "code",
      "metadata": {
        "id": "-keB6tVgYnRp"
      },
      "source": [
        "dict_true['art culture'] = y_true\n",
        "dict_pred['art culture'] = y_pred"
      ],
      "execution_count": null,
      "outputs": []
    },
    {
      "cell_type": "code",
      "metadata": {
        "id": "smmZeQKWYnRp"
      },
      "source": [
        "k = dict_true.keys()\n",
        "from sklearn.metrics import precision_score\n",
        "from sklearn.metrics import accuracy_score\n",
        "from sklearn.metrics import f1_score\n",
        "from sklearn.metrics import recall_score\n",
        "\n",
        "for i in k:\n",
        "  y_true = dict_true[i]\n",
        "  y_pred = dict_pred[i]\n",
        "  print(y_true)\n",
        "  print(y_pred)\n",
        "  Acc_plot.append(accuracy_score(y_true, y_pred))\n",
        "  recall.append(recall_score(y_true,y_pred,average='macro'))\n",
        "  precision_plot.append(precision_score(y_true,y_pred,average='macro'))\n",
        "  f1score_plot.append(f1_score(y_true, y_pred,average='macro'))\n",
        "\n",
        "print(Acc_plot)\n",
        "print(recall)\n",
        "print(precision_plot)\n",
        "print(f1score_plot)"
      ],
      "execution_count": null,
      "outputs": []
    },
    {
      "cell_type": "markdown",
      "metadata": {
        "id": "dFqbmS5qAXdx"
      },
      "source": [
        "# Each Corpus Adam Bilstm"
      ]
    },
    {
      "cell_type": "code",
      "metadata": {
        "id": "7I4jAPfPoAVD"
      },
      "source": [
        "Acc_plot = []\n",
        "recall = []\n",
        "precision_plot = []\n",
        "f1score_plot = []\n",
        "\n",
        "dict_true = {}\n",
        "dict_pred = {}\n",
        "\n",
        "import pandas as pd\n",
        "import numpy as np\n",
        "import torch\n",
        "import torch.nn as nn\n",
        "import torch.nn.functional as F\n",
        "import torch.optim as optim\n",
        "import os"
      ],
      "execution_count": null,
      "outputs": []
    },
    {
      "cell_type": "markdown",
      "metadata": {
        "id": "dQl4dRomtgOY"
      },
      "source": [
        "## guj_sports_sample7"
      ]
    },
    {
      "cell_type": "code",
      "metadata": {
        "colab": {
          "base_uri": "https://localhost:8080/"
        },
        "id": "TQFr0VTztgOg",
        "outputId": "eb894559-61d4-4173-de71-500591b74d29"
      },
      "source": [
        "# path = '/content/drive/MyDrive/nlpproject/data/guj_sports_sample7.txt'\n",
        "path = '/content/temp/guj_sports_sample7.txt'\n",
        "def process_file(path):\n",
        "  f = open(path,'r')\n",
        "  tagged_sentence = []\n",
        "  for line in f:\n",
        "    line = line.split()[1:]\n",
        "    temp = []\n",
        "    for i in line:\n",
        "      i = i.split('\\\\')\n",
        "      temp.append((i[0],i[1]))\n",
        "    tagged_sentence.append(temp)\n",
        "\n",
        "  return tagged_sentence\n",
        "\n",
        "\n",
        "tagged_sentence = process_file(path)\n",
        "print(len(tagged_sentence))"
      ],
      "execution_count": null,
      "outputs": [
        {
          "output_type": "stream",
          "text": [
            "1000\n"
          ],
          "name": "stdout"
        }
      ]
    },
    {
      "cell_type": "code",
      "metadata": {
        "id": "AQOI76oXtgOh"
      },
      "source": [
        "def word_to_ix(word, ix):\n",
        "    return torch.tensor(ix[word], dtype = torch.long)\n",
        "\n",
        "def char_to_ix(char, ix):\n",
        "    return torch.tensor(ix[char], dtype= torch.long)\n",
        "\n",
        "def tag_to_ix(tag, ix):\n",
        "    return torch.tensor(ix[tag], dtype= torch.long)\n",
        "\n",
        "def sequence_to_idx(sequence, ix):\n",
        "    return torch.tensor([ix[s] for s in sequence], dtype=torch.long)\n",
        "\n",
        "\n",
        "word_to_idx = {}\n",
        "tag_to_idx = {}\n",
        "char_to_idx = {}\n",
        "for sentence in tagged_sentence:\n",
        "    for word, pos_tag in sentence:\n",
        "        if word not in word_to_idx.keys():\n",
        "            word_to_idx[word] = len(word_to_idx)\n",
        "        if pos_tag not in tag_to_idx.keys():\n",
        "            tag_to_idx[pos_tag] = len(tag_to_idx)\n",
        "        for char in word:\n",
        "            if char not in char_to_idx.keys():\n",
        "                char_to_idx[char] = len(char_to_idx)"
      ],
      "execution_count": null,
      "outputs": []
    },
    {
      "cell_type": "code",
      "metadata": {
        "colab": {
          "base_uri": "https://localhost:8080/"
        },
        "id": "ZIV5dmRYtgOh",
        "outputId": "2cfafff8-a572-476d-8979-4868da40e565"
      },
      "source": [
        "word_vocab_size = len(word_to_idx)\n",
        "tag_vocab_size = len(tag_to_idx)\n",
        "char_vocab_size = len(char_to_idx)\n",
        "\n",
        "print(\"Unique words: {}\".format(len(word_to_idx)))\n",
        "print(\"Unique tags: {}\".format(len(tag_to_idx)))\n",
        "print(\"Unique characters: {}\".format(len(char_to_idx)))"
      ],
      "execution_count": null,
      "outputs": [
        {
          "output_type": "stream",
          "text": [
            "Unique words: 4269\n",
            "Unique tags: 29\n",
            "Unique characters: 107\n"
          ],
          "name": "stdout"
        }
      ]
    },
    {
      "cell_type": "code",
      "metadata": {
        "id": "oiJUdBOCtgOh"
      },
      "source": [
        "import random\n",
        "\n",
        "tr_random = random.sample(list(range(len(tagged_sentence))), int(0.95 * len(tagged_sentence)))\n",
        "\n",
        "train = [tagged_sentence[i] for i in tr_random]\n",
        "test = [tagged_sentence[i] for i in range(len(tagged_sentence)) if i not in tr_random]"
      ],
      "execution_count": null,
      "outputs": []
    },
    {
      "cell_type": "code",
      "metadata": {
        "colab": {
          "base_uri": "https://localhost:8080/"
        },
        "id": "1lMLqg_dtgOh",
        "outputId": "90e94f26-5822-488f-9db8-56e20ef8408e"
      },
      "source": [
        "print(\"Training set Size \",len(train))\n",
        "print(\"Test set Size \",len(test))\n",
        "print(\"Sample Test\")\n",
        "print(test[2])"
      ],
      "execution_count": null,
      "outputs": [
        {
          "output_type": "stream",
          "text": [
            "Training set Size  950\n",
            "Test set Size  50\n",
            "Sample Test\n",
            "[('પૂજારાએ', 'N_NNP'), ('૧૧', 'QT_QTC'), ('ટેસ્ટમાં', 'N_NN'), ('ત્રીજી', 'QT_QTO'), ('વખત', 'N_NN'), ('૧૫૦થી', 'QT_QTC'), ('વધુનો', 'QT_QTF'), ('સ્કોર', 'N_NN'), ('નોંધાવ્યો', 'V_VM'), ('હતો', 'V_VAUX'), ('.', 'RD_PUNC')]\n"
          ],
          "name": "stdout"
        }
      ]
    },
    {
      "cell_type": "code",
      "metadata": {
        "id": "Hu4DByiftgOi"
      },
      "source": [
        "WORD_EMBEDDING_DIM = 1024\n",
        "CHAR_EMBEDDING_DIM = 128\n",
        "WORD_HIDDEN_DIM = 1024\n",
        "CHAR_HIDDEN_DIM = 1024\n",
        "EPOCHS = 20\n",
        "\n",
        "class DualLSTMTagger(nn.Module):\n",
        "  def __init__(self, word_embedding_dim, word_hidden_dim, char_embedding_dim, char_hidden_dim, word_vocab_size, char_vocab_size, tag_vocab_size):\n",
        "    super(DualLSTMTagger, self).__init__()\n",
        "    self.word_embedding = nn.Embedding(word_vocab_size, word_embedding_dim)\n",
        "    \n",
        "    self.char_embedding = nn.Embedding(char_vocab_size, char_embedding_dim)\n",
        "    self.char_lstm = nn.LSTM(char_embedding_dim, char_hidden_dim)\n",
        "    self.lstm = nn.LSTM(word_embedding_dim + char_hidden_dim, word_hidden_dim,bidirectional=True)\n",
        "\n",
        "    self.hidden2tag = nn.Linear(word_hidden_dim*2, tag_vocab_size)\n",
        "      \n",
        "  def forward(self, sentence, words):\n",
        "    embeds = self.word_embedding(sentence)\n",
        "    char_hidden_final = []\n",
        "    for word in words:\n",
        "        char_embeds = self.char_embedding(word)\n",
        "        _, (char_hidden, char_cell_state) = self.char_lstm(char_embeds.view(len(word), 1, -1))\n",
        "        word_char_hidden_state = char_hidden.view(-1)\n",
        "        char_hidden_final.append(word_char_hidden_state)\n",
        "    char_hidden_final = torch.stack(tuple(char_hidden_final))\n",
        "    \n",
        "    combined = torch.cat((embeds, char_hidden_final), 1)\n",
        "\n",
        "    lstm_out, _ = self.lstm(combined.view(len(sentence), 1, -1))\n",
        "    tag_space = self.hidden2tag(lstm_out.view(len(sentence), -1))\n",
        "    \n",
        "    tag_scores = F.log_softmax(tag_space, dim=1)\n",
        "    return tag_scores"
      ],
      "execution_count": null,
      "outputs": []
    },
    {
      "cell_type": "code",
      "metadata": {
        "id": "NlAlqiSstgOi"
      },
      "source": [
        "model = DualLSTMTagger(WORD_EMBEDDING_DIM, WORD_HIDDEN_DIM, CHAR_EMBEDDING_DIM, CHAR_HIDDEN_DIM, word_vocab_size, char_vocab_size, tag_vocab_size)\n",
        "\n",
        "use_cuda = torch.cuda.is_available()\n",
        "device = torch.device(\"cuda:0\" if use_cuda else \"cpu\")\n",
        "\n",
        "if use_cuda:\n",
        "    model.cuda()\n",
        "\n",
        "loss_function = nn.NLLLoss()\n",
        "optimizer = optim.Adam(model.parameters(), lr=0.001)\n"
      ],
      "execution_count": null,
      "outputs": []
    },
    {
      "cell_type": "code",
      "metadata": {
        "colab": {
          "base_uri": "https://localhost:8080/"
        },
        "id": "Q6FU-mzitgOi",
        "outputId": "b5591b47-8984-47b8-9caf-3d6489b1c272"
      },
      "source": [
        "accuracy_list = []\n",
        "loss_list = []\n",
        "interval = round(len(train) / 100.)\n",
        "epochs = EPOCHS\n",
        "e_interval = round(epochs / 10.)\n",
        "for epoch in range(epochs):\n",
        "    acc = 0 #to keep track of accuracy\n",
        "    loss = 0 # To keep track of the loss value\n",
        "    i = 0\n",
        "    for sentence_tag in train:\n",
        "        i += 1\n",
        "        words = [torch.tensor(sequence_to_idx(s[0], char_to_idx), dtype=torch.long).to(device) for s in sentence_tag]\n",
        "        sentence = [s[0] for s in sentence_tag]\n",
        "        sentence = torch.tensor(sequence_to_idx(sentence, word_to_idx), dtype=torch.long).to(device)\n",
        "        targets = [s[1] for s in sentence_tag]\n",
        "        targets = torch.tensor(sequence_to_idx(targets, tag_to_idx), dtype=torch.long).to(device)\n",
        "        \n",
        "        model.zero_grad()\n",
        "        \n",
        "        tag_scores = model(sentence, words)\n",
        "        \n",
        "        loss = loss_function(tag_scores, targets)\n",
        "        loss.backward()\n",
        "        optimizer.step()\n",
        "        loss += loss.item()\n",
        "        _, indices = torch.max(tag_scores, 1)\n",
        "#         print(indices == targets)\n",
        "        acc += torch.mean(torch.tensor(targets == indices, dtype=torch.float))\n",
        "        if i % interval == 0:\n",
        "            print(\"Epoch {} Running;\\t{}% Complete\".format(epoch + 1, i / interval), end = \"\\r\", flush = True)\n",
        "    loss = loss / len(train)\n",
        "    acc = acc / len(train)\n",
        "    loss_list.append(float(loss))\n",
        "    accuracy_list.append(float(acc))\n",
        "    if (epoch + 1) % e_interval == 0:\n",
        "        print(\"Epoch {} Completed,\\tLoss {}\\tAccuracy: {}\".format(epoch + 1, np.mean(loss_list[-e_interval:]), np.mean(accuracy_list[-e_interval:]))) "
      ],
      "execution_count": null,
      "outputs": [
        {
          "output_type": "stream",
          "text": [
            "/usr/local/lib/python3.7/dist-packages/ipykernel_launcher.py:12: UserWarning: To copy construct from a tensor, it is recommended to use sourceTensor.clone().detach() or sourceTensor.clone().detach().requires_grad_(True), rather than torch.tensor(sourceTensor).\n",
            "  if sys.path[0] == '':\n",
            "/usr/local/lib/python3.7/dist-packages/ipykernel_launcher.py:14: UserWarning: To copy construct from a tensor, it is recommended to use sourceTensor.clone().detach() or sourceTensor.clone().detach().requires_grad_(True), rather than torch.tensor(sourceTensor).\n",
            "  \n",
            "/usr/local/lib/python3.7/dist-packages/ipykernel_launcher.py:16: UserWarning: To copy construct from a tensor, it is recommended to use sourceTensor.clone().detach() or sourceTensor.clone().detach().requires_grad_(True), rather than torch.tensor(sourceTensor).\n",
            "  app.launch_new_instance()\n",
            "/usr/local/lib/python3.7/dist-packages/ipykernel_launcher.py:28: UserWarning: To copy construct from a tensor, it is recommended to use sourceTensor.clone().detach() or sourceTensor.clone().detach().requires_grad_(True), rather than torch.tensor(sourceTensor).\n"
          ],
          "name": "stderr"
        },
        {
          "output_type": "stream",
          "text": [
            "Epoch 2 Completed,\tLoss 0.0006175466987770051\tAccuracy: 0.8751941323280334\n",
            "Epoch 4 Completed,\tLoss 5.504686964741268e-05\tAccuracy: 0.9938141405582428\n",
            "Epoch 6 Completed,\tLoss 4.457262264168094e-05\tAccuracy: 0.9976397454738617\n",
            "Epoch 8 Completed,\tLoss 9.736185802466935e-06\tAccuracy: 0.9896542429924011\n",
            "Epoch 10 Completed,\tLoss 4.768382666497928e-07\tAccuracy: 0.9991390109062195\n",
            "Epoch 12 Completed,\tLoss 1.4801383230178544e-07\tAccuracy: 0.9999999403953552\n",
            "Epoch 14 Completed,\tLoss 7.142159574868856e-08\tAccuracy: 0.9999999403953552\n",
            "Epoch 16 Completed,\tLoss 3.0818072538352226e-08\tAccuracy: 0.9999999403953552\n",
            "Epoch 18 Completed,\tLoss 1.2690450024166466e-08\tAccuracy: 0.9999999403953552\n",
            "Epoch 20 Completed,\tLoss 5.044418438515663e-09\tAccuracy: 0.9999999403953552\n"
          ],
          "name": "stdout"
        }
      ]
    },
    {
      "cell_type": "code",
      "metadata": {
        "colab": {
          "base_uri": "https://localhost:8080/"
        },
        "id": "ENjAG9KFtgOi",
        "outputId": "cb79011e-5346-4bd1-84a7-d8d83480a1d5"
      },
      "source": [
        "y_true = []\n",
        "y_pred = []\n",
        "for sentence in test:\n",
        "  seq = \"\"\n",
        "  for s in range(len(sentence)):\n",
        "    if(s==(len(sentence)-1)):\n",
        "      seq+= sentence[s][0]\n",
        "    else:\n",
        "      seq += sentence[s][0] + \" \"\n",
        "    y_true.append(sentence[s][1])\n",
        "  \n",
        "  seq = seq.split()\n",
        "  with torch.no_grad():\n",
        "    words = [torch.tensor(sequence_to_idx(s[0], char_to_idx), dtype=torch.long).to(device) for s in seq]\n",
        "    sentence = torch.tensor(sequence_to_idx(seq, word_to_idx), dtype=torch.long).to(device)\n",
        "        \n",
        "    tag_scores = model(sentence, words)\n",
        "    _, indices = torch.max(tag_scores, 1)\n",
        "    ret = []\n",
        "    for i in range(len(indices)):\n",
        "        for key, value in tag_to_idx.items():\n",
        "            if indices[i] == value:\n",
        "                ret.append((seq[i], key))\n",
        "                y_pred.append(key)\n",
        "    print(ret)"
      ],
      "execution_count": null,
      "outputs": [
        {
          "output_type": "stream",
          "text": [
            "[('જે', 'PR_PRL'), ('પછી', 'PSP'), ('ભારતે', 'N_NNP'), ('જીતવા', 'N_NN'), ('માટેના', 'PSP'), ('૫૦', 'QT_QTC'), ('રનના', 'N_NN'), ('પડકારને', 'N_NN'), ('લંચની', 'V_VAUX_VNP'), ('૪૦', 'QT_QTC'), ('મિનિટ', 'N_NN'), ('અગાઉ', 'PSP'), ('જ', 'RP_RPD'), ('૧૧.૩', 'QT_QTC'), ('ઓવરમાં', 'N_NNP'), ('બે', 'QT_QTC'), ('વિકેટ', 'N_NN'), ('ગુમાવીને', 'N_NN'), ('જીતી', 'V_VM'), ('લીધો', 'V_VAUX'), ('હતો', 'V_VAUX'), ('.', 'RD_PUNC')]\n",
            "[('એસએસાઈના', 'JJ'), ('નિર્ણયથી', 'N_NNP'), ('ભારતને', 'N_NNP'), ('અઝલાન', 'N_NNP'), ('શાહ', 'N_NNP'), ('કપમાંથી', 'N_NNP'), ('ખસી', 'N_NN'), ('જવાની', 'N_NN'), ('સ્થિતિ', 'N_NN'), ('સર્જાઈ', 'V_VM'), ('હતી', 'V_VAUX'), ('.', 'RD_PUNC')]\n",
            "[('પૂજારાએ', 'N_NNP'), ('૧૧', 'QT_QTC'), ('ટેસ્ટમાં', 'N_NN'), ('ત્રીજી', 'QT_QTO'), ('વખત', 'N_NN'), ('૧૫૦થી', 'QT_QTC'), ('વધુનો', 'QT_QTF'), ('સ્કોર', 'N_NN'), ('નોંધાવ્યો', 'JJ'), ('હતો', 'V_VAUX'), ('.', 'RD_PUNC')]\n",
            "[('સૌરાષ્ટ્રના', 'N_NNP'), ('સ્ટાર', 'JJ'), ('બેટ્સમેન', 'N_NN'), ('ચેતેશ્વર', 'N_NNP'), ('પૂજારાની', 'N_NNP'), ('કારકિર્દીની', 'N_NN'), ('૧૧મી', 'N_NNP'), ('ટેસ્ટમાં', 'N_NN'), ('ચોથી', 'QT_QTO'), ('સદી', 'N_NN'), ('સાથેના', 'PSP'), ('નોટઆઉટ', 'JJ'), ('૧૬૨', 'QT_QTC'), ('તેમજ', 'CC_CCD'), ('ઓપન', 'N_NNP'), ('મુરલી', 'N_NNP'), ('વિજયની', 'N_NNP'), ('૧૩મી', 'N_NNP'), ('ટેસ્ટમાં', 'N_NN'), ('બીજી', 'QT_QTO'), ('સદી', 'N_NN'), ('સાથેના', 'PSP'), ('નોટઆઉટ', 'JJ'), ('૧૨૯', 'QT_QTC'), ('રનની', 'N_NN'), ('મદદથી', 'N_NN'), ('ભારતે', 'N_NNP'), ('ઑસ્ટ્રેલિયા', 'N_NNP'), ('સામેની', 'PSP'), ('બીજી', 'QT_QTO'), ('ટેસ્ટમાં', 'N_NN'), ('વિજયનો', 'JJ'), ('પાયો', 'N_NN'), ('નાખતી', 'JJ'), ('બેટિંગ', 'N_NN'), ('કરી', 'V_VM'), ('હતી', 'V_VAUX'), ('.', 'RD_PUNC')]\n",
            "[('સહેવાગની', 'N_NNP'), ('વિકેટ', 'N_NN'), ('ગુમાવ્યા', 'N_NN'), ('બાદ', 'PSP'), ('ભારતે', 'N_NNP'), ('પ્રથમ', 'QT_QTO'), ('સેશનમાં', 'N_NN'), ('૨૭', 'QT_QTC'), ('ઓવરમાં', 'N_NN'), ('માત્ર', 'RP_RPD'), ('૪૯', 'QT_QTC'), ('રન', 'N_NN'), ('ફટકાર્યા', 'V_VM'), ('હતા', 'V_VAUX'), ('.', 'RD_PUNC')]\n",
            "[('અગાઉ', 'PSP'), ('સહેવાગ', 'N_NNP'), ('ફરી', 'RB'), ('નિષ્ફળ', 'JJ'), ('રહ્યો', 'V_VAUX'), ('હતો', 'V_VAUX'), ('અને', 'CC_CCD'), ('તેને', 'DM_DMD'), ('સિડલેએ', 'N_NNP'), ('આઉટ', 'JJ'), ('કર્યા', 'V_VM'), ('હતો', 'V_VAUX'), ('.', 'RD_PUNC')]\n",
            "[('જે', 'PR_PRL'), ('ઉપ્પલમાં', 'N_NN'), ('અન્ય', 'JJ'), ('બેટ્સમેનોએ', 'N_NN'), ('ફટકારેલા', 'JJ'), ('રનમાં', 'N_NN'), ('સૌથી', 'JJ'), ('વધુ', 'QT_QTF'), ('છે', 'V_VAUX'), ('.', 'RD_PUNC')]\n",
            "[('છેલ્લે', 'JJ'), ('૧૯૯૮માં', 'QT_QTC'), ('ઓસ્ટ્રોલિયાને', 'N_NN'), ('ઈનિંગ', 'N_NN'), (',', 'RD_PUNC'), ('૨૧૯', 'N_NN'), ('રનથી', 'N_NN'), ('હરાવ્યું', 'V_VM'), ('હતું', 'V_VAUX'), ('.', 'RD_PUNC')]\n"
          ],
          "name": "stdout"
        },
        {
          "output_type": "stream",
          "text": [
            "/usr/local/lib/python3.7/dist-packages/ipykernel_launcher.py:14: UserWarning: To copy construct from a tensor, it is recommended to use sourceTensor.clone().detach() or sourceTensor.clone().detach().requires_grad_(True), rather than torch.tensor(sourceTensor).\n",
            "  \n",
            "/usr/local/lib/python3.7/dist-packages/ipykernel_launcher.py:15: UserWarning: To copy construct from a tensor, it is recommended to use sourceTensor.clone().detach() or sourceTensor.clone().detach().requires_grad_(True), rather than torch.tensor(sourceTensor).\n",
            "  from ipykernel import kernelapp as app\n"
          ],
          "name": "stderr"
        },
        {
          "output_type": "stream",
          "text": [
            "[('પૂજારાએ', 'N_NNP'), ('બેવડી', 'JJ'), ('સદી', 'N_NN'), ('ફટકાર્યા', 'N_NN'), ('પછી', 'PSP'), ('મીડિયાને', 'N_NN'), ('એવું', 'JJ'), ('જણાવ્યું', 'V_VM'), ('હતું', 'V_VAUX'), ('કે', 'CC_CCS'), ('તેને', 'PR_PRP'), ('ખરી', 'JJ'), ('ખુશી', 'N_NN'), ('વિદેશની', 'N_NN'), ('ભૂમિ', 'N_NN'), ('પર', 'PSP'), ('એ', 'DM_DMD'), ('રીતે', 'N_NN'), ('રનની', 'N_NN'), ('હારમાળા', 'N_NN'), ('સર્જી', 'N_NN'), ('શકું', 'JJ'), ('તો', 'RP_RPD'), ('થાય', 'V_VM'), ('.', 'RD_PUNC')]\n",
            "[('ખાસ', 'JJ'), ('કરીને', 'JJ'), ('ગુજરાત', 'N_NNP'), (',', 'RD_PUNC'), ('મહારાષ્ટ્ર', 'N_NNP'), (',', 'RD_PUNC'), ('આંધ્રપ્રદેશ', 'V_VAUX'), (',', 'RD_PUNC'), ('તમિલનાડુ', 'JJ'), (',', 'RD_PUNC'), ('બંગાળ', 'N_NN'), (',', 'RD_PUNC'), ('પંજાબ', 'N_NN'), ('અને', 'CC_CCD'), ('મધ્યપ્રદેશમાં', 'JJ'), ('આ', 'DM_DMD'), ('રમત', 'N_NN'), ('સવિશેષ', 'N_NN'), ('રમાય', 'V_VM'), ('છે', 'V_VAUX'), ('.', 'RD_PUNC')]\n",
            "[('આ', 'DM_DMD'), ('ક્રિયા', 'N_NN'), ('ખૂબ', 'QT_QTF'), ('ઝડપથી', 'RB'), ('થાય', 'V_VM'), ('તે', 'DM_DMD'), ('જરૂરી', 'JJ'), ('છે', 'V_VAUX'), ('.', 'RD_PUNC')]\n",
            "[('આજે', 'N_NST'), ('બાસ્કેટબૉલ', 'N_NN'), ('રમતની', 'N_NN'), ('ગણના', 'N_NN'), ('દુનિયાની', 'N_NN'), ('ઝડપી', 'JJ'), ('રમતોમાં', 'N_NN'), ('થાય', 'V_VM'), ('છે', 'V_VAUX'), ('.', 'RD_PUNC')]\n",
            "[('આ', 'DM_DMD'), ('રમત', 'N_NN'), ('ભાઈઓ', 'N_NNP'), ('તેમજ', 'CC_CCD'), ('બહેનો', 'N_NN'), ('ખૂબ', 'QT_QTF'), ('જ', 'RP_RPD'), ('ઉત્સાહથી', 'N_NN'), ('રમે', 'V_VM'), ('છે', 'V_VAUX'), ('.', 'RD_PUNC')]\n",
            "[('પુરુષો', 'N_NN'), ('માટે', 'PSP'), ('૧૯૩૬માં', 'QT_QTC'), ('બર્લિનમાં', 'N_NN'), ('યોજાયેલ', 'V_VAUX_VNP'), ('`', 'RD_PUNC'), ('ઑલિમ્પિક', 'N_NNP'), ('રમતોત્સ્વમાં', 'N_NNP'), ('`', 'RD_PUNC'), ('આ', 'DM_DMD'), ('રમતને', 'N_NN'), ('સૌ', 'JJ'), ('પ્રથમ', 'QT_QTO'), ('સ્થાન', 'N_NN'), ('મળ્યું', 'V_VM'), ('.', 'RD_PUNC')]\n",
            "[('ભારતમાં', 'N_NNP'), ('લગભગ', 'PSP'), ('૧૯૦૦માં', 'QT_QTC'), ('આ', 'DM_DMD'), ('રમત', 'N_NN'), ('ચાર્લ્સ', 'N_NNP'), ('પીટરસન', 'N_NNP'), ('દ્વારા', 'PSP'), ('કોલકાતામાં', 'N_NN'), ('શરૂ', 'JJ'), ('કરવામાં', 'V_VAUX_VNP'), ('આવી', 'V_VAUX'), ('.', 'RD_PUNC')]\n",
            "[('જમણો', 'JJ'), ('હાથ', 'N_NN'), ('સીધો', 'JJ'), ('અને', 'CC_CCD'), ('જમણી', 'JJ'), ('હથેળી', 'QT_QTC'), ('ફેંકવાની', 'JJ'), ('દિશા', 'N_NN'), ('તરફ', 'PSP'), ('રાખશે', 'V_VM'), ('.', 'RD_PUNC')]\n",
            "[('બાસ્કેટબૉલની', 'N_NN'), ('રમતમાં', 'N_NN'), ('એક', 'QT_QTC'), ('મુખ્ય', 'JJ'), ('પંચ', 'N_NN'), (',', 'RD_PUNC'), ('એક', 'QT_QTC'), ('સમય', 'N_NN'), ('પંચ', 'N_NN'), (',', 'RD_PUNC'), ('એક', 'QT_QTC'), ('ગુણ', 'N_NN'), ('નોંધનાર', 'N_NNP'), ('પંચ', 'N_NN'), ('અને', 'CC_CCD'), ('૨૪', 'QT_QTC'), ('સેકન્ડ', 'N_NN'), ('ઑપરેશનનો', 'JJ'), ('સમાવેશ', 'N_NN'), ('થાય', 'V_VM'), ('છે', 'V_VAUX'), ('.', 'RD_PUNC')]\n",
            "[('ગોલની', 'N_NN'), ('સફળતા', 'N_NN'), ('ઉપર', 'PSP'), ('રમતની', 'N_NN'), ('હાર', 'N_NN'), ('-', 'RD_PUNC'), ('જીત', 'N_NN'), ('નક્કી', 'JJ'), ('થાય', 'V_VM'), ('છે', 'V_VAUX'), ('.', 'RD_PUNC')]\n",
            "[('જ્યારે', 'N_NST'), ('દડો', 'N_NN'), ('બાજુરેખા', 'N_NN'), ('ઉપરથી', 'PSP'), ('પૂરેપૂરો', 'JJ'), ('જમીન', 'N_NN'), ('પર', 'PSP'), ('ગબડવાનો', 'N_NN'), ('કે', 'CC_CCS'), ('હવામાં', 'N_NN'), ('ઊછળતો', 'JJ'), ('પસાર', 'JJ'), ('થશે', 'N_NNP'), ('તો', 'CC_CCD'), ('જે', 'PR_PRL'), ('જગ્યાએથી', 'N_NN'), ('બહાર', 'N_NST'), ('ગયો', 'N_NN'), ('હશે', 'V_VAUX'), ('તે', 'DM_DMD'), ('જગ્યાએથી', 'N_NN'), ('વિરુદ્ધ', 'PSP'), ('પક્ષને', 'N_NN'), ('થ્રો', 'N_NN'), ('ઈન', 'PSP'), ('કરવાનું', 'N_NN'), ('રહેશે', 'V_VAUX'), ('.', 'RD_PUNC')]\n",
            "[('પાછળથી', 'PSP'), ('આક્રમણ', 'N_NN'), ('કરી', 'V_VM'), ('શકતો', 'V_VAUX_VNP'), ('નથી', 'RP_NEG'), ('.', 'RD_PUNC')]\n",
            "[('ઈ.સ.', 'N_NN'), ('૧૭૫૦ની', 'QT_QTC'), ('સાલમાં', 'N_NN'), ('હેમ્પશાયરના', 'N_NNP'), ('હેમ્બલડન', 'N_NNP'), ('નામના', 'N_NN'), ('ગામમાં', 'N_NNP'), ('ક્રિકેટ', 'N_NNP'), ('ક્લબની', 'N_NNP'), ('સ્થાપના', 'N_NN'), ('કરવામાં', 'V_VAUX_VNP'), ('આવી', 'V_VAUX'), ('.', 'RD_PUNC')]\n",
            "[('આ', 'DM_DMD'), ('ક્લબની', 'N_NN'), ('સ્થાપના', 'N_NN'), ('સને', 'N_NN'), ('૧૭૯૨માં', 'QT_QTC'), ('કરવામાં', 'V_VAUX_VNP'), ('આવેલી', 'V_VAUX'), ('.', 'RD_PUNC')]\n",
            "[('સને', 'N_NN'), ('૧૮૮૯', 'QT_QTC'), ('-', 'RD_PUNC'), ('૯૦માં', 'QT_QTC'), ('ઈંગ્લેન્ડની', 'N_NNP'), ('ટીમ', 'N_NN'), ('ભારતની', 'N_NNP'), ('મુલાકાતે', 'N_NNP'), ('આવી', 'JJ'), ('અને', 'CC_CCD'), ('વીસેક', 'JJ'), ('વર્ષની', 'N_NN'), ('અંદર', 'N_NST'), ('ભારતમાં', 'N_NNP'), ('ક્રિકેટની', 'N_NN'), ('રમત', 'N_NN'), ('લોકપ્રિય', 'JJ'), ('બની', 'V_VM'), ('.', 'RD_PUNC')]\n",
            "[('સને', 'N_NN'), ('૧૮૮૦ની', 'QT_QTC'), ('સાલમાં', 'N_NN'), ('સુરત', 'N_NN'), ('જિલ્લાના', 'N_NN'), ('રાંદેર', 'N_NNP'), ('ગામમાં', 'N_NN'), ('ગુજરાતમાં', 'N_NNP'), ('સૌ', 'JJ'), ('પ્રથમ', 'QT_QTO'), ('ક્રિકેટ', 'N_NN'), ('રમવાની', 'V_VAUX_VNP'), ('શરૂઆત', 'N_NN'), ('થઈ', 'V_VM'), ('.', 'RD_PUNC')]\n",
            "[('શક્તિશાળી', 'N_NN'), ('ખેલાડીઓને', 'N_NN'), ('વિકસવાની', 'N_NN'), ('તક', 'N_NN'), ('મળે', 'V_VM'), ('તે', 'DM_DMD'), ('માટે', 'PSP'), ('પોરબંદરના', 'N_NN'), ('મહારાણાસાહેબ', 'N_NN'), ('સર', 'N_NN'), ('નટવરસિંહ', 'N_NNP'), (',', 'RD_PUNC'), ('જેઓ', 'PR_PRL'), ('એક', 'QT_QTC'), ('ઉચ્ચ', 'JJ'), ('કક્ષાના', 'N_NN'), ('સ્પૉર્ટસમૅન', 'N_NN'), ('છે', 'V_VAUX'), (',', 'RD_PUNC'), ('તેમને', 'PR_PRP'), ('એક', 'QT_QTC'), ('સુંદર', 'JJ'), ('વ્યવસ્થા', 'N_NN'), ('ઊભી', 'JJ'), ('કરવાનો', 'JJ'), ('વિચાર', 'N_NN'), ('આવતાં', 'PSP'), ('૧૯૪૭માં', 'QT_QTC'), ('નીચે', 'N_NST'), ('મુજબ', 'PSP'), ('તૈયારી', 'N_NN'), ('શરૂ', 'JJ'), ('કરી', 'V_VM'), ('.', 'RD_PUNC')]\n",
            "[('ડ્રાઈવની', 'N_NN'), ('ટેકનિક', 'N_NN'), ('ફોરવર્ડ', 'N_NN'), ('સ્ટ્રોક', 'N_NN'), ('જેવી', 'JJ'), ('જ', 'RP_RPD'), ('છે', 'V_VAUX'), ('.', 'RD_PUNC')]\n",
            "[('દડાને', 'N_NN'), ('અટકાવવો', 'V_VAUX'), (',', 'RD_PUNC'), ('પકડવો', 'N_NN'), ('કે', 'CC_CCS'), ('ઘા', 'N_NN'), ('કરવો', 'JJ'), ('એ', 'DM_DMD'), ('ક્રિકેટની', 'N_NN'), ('સહેલામાં', 'N_NN'), ('સહેલી', 'N_NN'), ('રમત', 'N_NN'), ('છે', 'V_VAUX'), ('.', 'RD_PUNC')]\n",
            "[('જે', 'PR_PRL'), ('ખેલાડી', 'N_NN'), ('ફીલ્ડિંગમાં', 'JJ'), ('ખંતથી', 'N_NN'), ('મહેનત', 'N_NN'), ('કરે', 'V_VM'), ('નહીં', 'RP_NEG'), ('અને', 'CC_CCD'), ('બેદરકારી', 'PSP'), ('બતાવે', 'N_NN'), ('એ', 'DM_DMD'), ('સાચો', 'N_NN'), ('ક્રિકેટર', 'N_NN'), ('થઈ', 'V_VM'), ('શકે', 'V_VAUX'), ('નહીં', 'RP_NEG'), ('.', 'RD_PUNC')]\n",
            "[('જ્યારે', 'N_NST'), ('બચાવ', 'N_NN'), ('પક્ષના', 'N_NN'), ('ખેલાડી', 'N_NN'), ('તરીકે', 'PSP'), ('ટેકલિંગ', 'JJ'), ('કરવાનું', 'V_VM'), ('હોય', 'V_VAUX'), ('ત્યારે', 'N_NST'), ('સામેના', 'PSP'), ('ખેલાડીને', 'N_NN'), ('દડો', 'N_NN'), ('લઈ', 'V_VAUX_VNP'), ('આગળ', 'PSP'), ('વધવાની', 'V_VAUX_VNP'), ('ઝડપ', 'JJ'), ('ઘટાડવાની', 'JJ'), ('ફરજ', 'JJ'), ('પડે', 'V_VAUX'), ('તે', 'DM_DMD'), ('રીતે', 'N_NN'), ('તેની', 'DM_DMD'), ('સામે', 'PSP'), ('દડો', 'N_NN'), ('મેળવવાનો', 'N_NN'), ('પ્રયત્ન', 'N_NN'), ('કરતો', 'V_VAUX_VNP'), ('હોય', 'V_VAUX'), ('તે', 'DM_DMD'), ('પ્રમાણે', 'PSP'), ('પાછળ', 'PSP'), ('હઠતો', 'V_VM'), ('જશે', 'V_VAUX'), ('.', 'RD_PUNC')]\n",
            "[('આ', 'DM_DMD'), ('સમયે', 'N_NN'), ('દડાને', 'N_NN'), ('ચપળતાથી', 'RB'), ('કાબૂમાં', 'N_NN'), ('રાખી', 'V_VM'), ('સામેના', 'PSP'), ('ખેલાડીઓને', 'N_NN'), ('ચૂકવવાની', 'N_NN'), ('ક્રિયાને', 'N_NN'), ('સમાવેશ', 'N_NN'), ('થાય', 'V_VM'), ('છે', 'V_VAUX'), ('.', 'RD_PUNC')]\n",
            "[('આ', 'DM_DMD'), ('કૌશલ્યમાં', 'N_NN'), ('સામસામા', 'N_NN'), ('પક્ષના', 'N_NN'), ('બે', 'QT_QTC'), ('ખેલાડીઓ', 'N_NN'), ('એકબીજાથી', 'N_NN'), ('સામે', 'PSP'), ('ઊભા', 'V_VM'), ('રહી', 'V_VAUX'), ('વચ્ચે', 'N_NST'), ('દડાને', 'N_NN'), ('મૂકે', 'N_NN'), ('છે', 'V_VAUX'), ('.', 'RD_PUNC')]\n",
            "[('ત્રણ', 'QT_QTC'), ('વાર', 'N_NN'), ('જમીન', 'N_NN'), ('ઉપર', 'PSP'), ('અને', 'CC_CCD'), ('હવામાં', 'N_NN'), ('સ્ટિકનો', 'N_NN'), ('સ્પર્શ', 'N_NN'), ('કરાવ્યા', 'N_NN'), ('બાદ', 'PSP'), ('દડા', 'N_NN'), ('ઉપર', 'PSP'), ('પ્રભુત્વ', 'N_NN'), ('મેળવવા', 'PSP'), ('ખેલાડી', 'N_NN'), ('રીવર્સ', 'N_NN'), ('સ્ટિક', 'N_NN'), ('વડે', 'PSP'), ('પુશ', 'N_NN'), ('કરીને', 'JJ'), ('પોતાના', 'PR_PRF'), ('ખેલાડીને', 'N_NN'), ('બૉલ', 'V_VAUX_VNP'), ('પાસ', 'JJ'), ('કરે', 'V_VM'), ('છે', 'V_VAUX'), ('.', 'RD_PUNC')]\n",
            "[('જે', 'PR_PRL'), ('ખેલાડી', 'N_NN'), ('અવેજી', 'N_NN'), ('તરીકે', 'PSP'), ('બહાર', 'N_NST'), ('જાય', 'V_VAUX'), ('તે', 'DM_DMD'), ('ફરીથી', 'RB'), ('તે', 'DM_DMD'), ('જ', 'RP_RPD'), ('રમતમાં', 'N_NN'), ('ભાગ', 'N_NN'), ('લઈ', 'V_VM'), ('શકશે', 'V_VAUX'), ('નહિ', 'RP_NEG'), ('.', 'RD_PUNC')]\n",
            "[('પંચો', 'N_NN'), ('નક્કી', 'JJ'), ('ન', 'RP_NEG'), ('હોય', 'V_VAUX'), (',', 'RD_PUNC'), ('તો', 'CC_CCD'), ('દરેક', 'JJ'), ('ટીમની', 'N_NN'), ('એક', 'QT_QTC'), ('પંચ', 'N_NN'), ('પૂરાં', 'N_NN'), ('પાડવાની', 'N_NN'), ('જવાબદારી', 'N_NN'), ('રહેશે', 'V_VAUX'), ('.', 'RD_PUNC')]\n",
            "[('મદ્રાસની', 'N_NN'), ('લોયેલા', 'N_NNP'), ('કૉલેજમાં', 'N_NNP'), ('તેમણે', 'PR_PRP'), ('અભ્યાસ', 'N_NN'), ('કર્યો', 'V_VM'), ('હતો', 'V_VAUX'), ('.', 'RD_PUNC')]\n",
            "[('તેણે', 'PR_PRP'), ('સ્વસ્થતાપૂર્વક', 'N_NN'), ('જણાવ્યું', 'V_VM'), ('હતું', 'V_VAUX'), ('કે', 'CC_CCS'), (',', 'RD_PUNC'), ('રમતમાં', 'N_NN'), ('ભાગ', 'N_NN'), ('લેવા', 'V_VAUX_VNP'), ('ન', 'RP_NEG'), ('ઊતરવું', 'V_VAUX_VNP'), ('એ', 'DM_DMD'), ('મને', 'PR_PRP'), ('મારા', 'PR_PRP'), ('માટે', 'PSP'), ('શોભાસ્પદ', 'N_NN'), ('લાગતું', 'N_NN'), ('નહોતું', 'V_VM'), ('.', 'RD_PUNC')]\n",
            "[('બ્રિટાનિયાએ', 'N_NN'), ('આ', 'DM_DMD'), ('અકાદમી', 'JJ'), ('સ્પોન્સર', 'N_NN'), ('કરી', 'V_VM'), ('હોઈ', 'V_VAUX'), ('`', 'RD_PUNC'), ('બ્રિટાનિયા', 'N_NNP'), ('અમૃતરાજ', 'N_NNP'), ('ટ્રસ્ટ', 'N_NNP'), ('`', 'RD_PUNC'), ('તરીકે', 'PSP'), ('ઓળખાતી', 'N_NN'), ('આ', 'DM_DMD'), ('સંસ્થામાં', 'N_NN'), ('ભારતના', 'N_NNP'), ('ઉગતા', 'PSP'), ('ટેનિસ', 'N_NN'), ('ખેલાડીઓને', 'N_NN'), ('કોચિંગ', 'JJ'), ('અપાય', 'N_NN'), ('છે', 'V_VAUX'), ('.', 'RD_PUNC')]\n",
            "[('પરંતુ', 'CC_CCD'), ('ટેનિસ', 'N_NN'), ('ક્ષેત્રમાંથી', 'JJ'), ('તેઓ', 'JJ'), ('વિદાય', 'N_NN'), ('લે', 'N_NN'), ('તે', 'DM_DMD'), ('પહેલાં', 'N_NST'), ('જ', 'RP_RPD'), ('ભારતીય', 'JJ'), ('ટેનિસની', 'N_NN'), ('બાગડોર', 'N_NN'), ('કોઈના', 'N_NN'), ('સલામત', 'JJ'), ('હાથમાં', 'N_NN'), ('સોંપાય', 'N_NN'), ('એવી', 'JJ'), ('અમૃતરાજ', 'N_NNP'), ('-', 'RD_PUNC'), ('કુટુંબની', 'N_NN'), ('ઈચ્છા', 'V_VM'), ('છે', 'V_VAUX'), ('.', 'RD_PUNC')]\n",
            "[('મદ્રાસમાં', 'N_NN'), ('પોતાના', 'PR_PRF'), ('ઘરમાં', 'N_NN'), ('ટેલિવિઝન', 'N_NN'), ('પર', 'PSP'), ('પુત્રની', 'N_NN'), ('રમત', 'N_NN'), ('જોઈ', 'PSP'), ('રહેલા', 'V_VAUX_VNP'), ('રામનાથન', 'N_NNP'), ('કૃષ્ણને', 'N_NNP'), ('આજથી', 'PSP'), ('૨૧', 'QT_QTC'), ('વર્ષ', 'N_NN'), (',', 'RD_PUNC'), ('પહેલાં', 'N_NST'), ('કલકત્તા', 'N_NNP'), (',', 'RD_PUNC'), ('બ્રાઝિલના', 'JJ'), ('થોમસ', 'N_NNP'), ('કોચને', 'PSP'), ('હરાવીને', 'PSP'), ('ભારતને', 'N_NNP'), ('પહેલી', 'QT_QTO'), ('જ', 'RP_RPD'), ('વાર', 'N_NN'), ('ડેવીસ', 'N_NNP'), ('કપ', 'N_NNP'), ('ચેલેન્જ', 'N_NN'), ('રાઉન્ડમાં', 'N_NN'), ('પ્રવેશ', 'N_NN'), ('અપાવ્યો', 'V_VM'), ('હતો', 'V_VAUX'), ('.', 'RD_PUNC')]\n",
            "[('ખાશાબાએ', 'N_NNP'), ('તો', 'RP_RPD'), ('અખાડામાં', 'JJ'), ('સૌના', 'N_NN'), ('આશ્ચર્ય', 'N_NN'), ('વચ્ચે', 'N_NST'), ('રાષ્ટ્રીય', 'JJ'), ('ચૅમ્પિયન', 'N_NN'), ('નિરંજનદાસને', 'N_NNP'), ('ક્ષણભરમાં', 'N_NN'), ('ઊંચકીને', 'N_NN'), ('જમીન', 'N_NN'), ('પર', 'PSP'), ('પછાડી', 'QT_QTC'), ('દેતા', 'N_NN'), ('ખાશાબા', 'N_NNP'), ('જાદવ', 'N_NNP'), ('-', 'RD_PUNC'), ('સૌ', 'JJ'), ('પ્રથમ', 'QT_QTO'), ('વાર', 'N_NN'), ('-', 'RD_PUNC'), ('રાષ્ટ્રીય', 'JJ'), ('ચેમ્પિયન', 'N_NN'), ('બન્યા', 'V_VM'), ('.', 'RD_PUNC')]\n",
            "[('જે', 'PR_PRL'), ('તેમના', 'PR_PRP'), ('માટે', 'PSP'), ('પરિસ્થિતિ', 'N_NN'), ('જરા', 'QT_QTF'), ('જુદી', 'JJ'), ('હતી', 'V_VAUX'), ('.', 'RD_PUNC')]\n",
            "[('સફળતા', 'N_NN'), ('પાછળનું', 'N_NN'), ('કારણ', 'N_NN'), ('તેમણે', 'JJ'), ('સેવેલું', 'N_NN'), ('સ્વપ્ન', 'N_NN'), ('સાકાર', 'JJ'), ('કરવાનું', 'V_VM'), ('હતું', 'V_VAUX'), ('.', 'RD_PUNC')]\n",
            "[('તેમજ', 'CC_CCD'), ('શતાબ્દી', 'N_NN'), ('ઑલિમ્પિક', 'N_NNP'), ('રમતોત્સવના', 'N_NN'), ('મેડલ', 'N_NN'), ('ટેલીમાં', 'N_NN'), ('ભારતનું', 'N_NNP'), ('નામ', 'N_NN'), ('અંકિત', 'JJ'), ('કરાવ્યું', 'N_NN'), ('હતું', 'V_VAUX'), ('.', 'RD_PUNC')]\n",
            "[('અને', 'CC_CCD'), ('આ', 'DM_DMD'), ('હોકીને', 'N_NN'), ('સાતમા', 'N_NN'), ('આસમાન', 'N_NN'), ('સુધી', 'PSP'), ('લઈ', 'V_VM'), ('જવાનું', 'N_NNP'), ('માન', 'N_NN'), ('અને', 'CC_CCD'), ('ગૌરવ', 'N_NN'), ('દંતકથા', 'N_NNP'), ('સમા', 'N_NN'), ('જાદુગર', 'N_NN'), ('મેજર', 'N_NN'), ('ધ્યાનચંદ', 'N_NNP'), ('ધરાવે', 'V_VM'), ('છે', 'V_VAUX'), ('.', 'RD_PUNC')]\n",
            "[('આ', 'DM_DMD'), ('પછી', 'PSP'), ('કટક', 'QT_QTO'), ('ખાતે', 'PSP'), ('યોજાયેલ', 'V_VAUX_VNP'), ('રાષ્ટ્રીય', 'JJ'), ('રમતોત્સવમાં', 'N_NN'), ('મિલ્ખાસિંહે', 'N_NNP'), ('૨૦૦', 'QT_QTC'), ('મીટર', 'N_NN'), ('અને', 'CC_CCD'), ('૪૦૦', 'QT_QTC'), ('મીટર', 'N_NN'), ('દોડમાં', 'N_NN'), ('સર્વશ્રેષ્ઠ', 'JJ'), ('દેખાવ', 'N_NN'), ('કરીને', 'JJ'), ('નવો', 'JJ'), ('રાષ્ટ્રીય', 'JJ'), ('વિક્રમ', 'N_NN'), ('સ્થાપ્યો', 'V_VM'), ('.', 'RD_PUNC')]\n",
            "[('તેને', 'PR_PRP'), ('વૈજ્ઞાનિક', 'JJ'), ('ઢબે', 'QT_QTC'), ('તાલીમ', 'N_NN'), ('મળતાં', 'N_NN'), ('તે', 'DM_DMD'), ('ઑર', 'V_VAUX_VNP'), ('નિખરી', 'N_NN'), ('ઊઠી', 'V_VM'), ('!', 'RD_PUNC')]\n",
            "[('સખત', 'N_NNP'), ('પરિશ્રમ', 'N_NN'), (',', 'RD_PUNC'), ('તાલીમ', 'N_NN'), (',', 'RD_PUNC'), ('એકાગ્રતા', 'N_NN'), ('અને', 'CC_CCD'), ('દેશદાઝને', 'N_NN'), ('કારણે', 'PSP'), ('ઉષાએ', 'N_NNP'), ('હવે', 'N_NST'), ('ટ્રેક', 'N_NN'), ('અને', 'CC_CCD'), ('ફિલ્ડ', 'N_NN'), ('પર', 'PSP'), ('ઝડપ', 'N_NN'), ('પકડી', 'V_VM'), ('અને', 'CC_CCD'), ('૧૯૮૩માં', 'QT_QTC'), ('કુવૈતમાં', 'N_NN'), ('યોજાયેલ', 'QT_QTC'), ('એ.ટી.એફ', 'N_NN'), ('મીટમાં', 'JJ'), ('સૌ', 'JJ'), ('પ્રથમ', 'QT_QTO'), ('એક', 'QT_QTC'), ('સુવર્ણચંદ્રક', 'N_NN'), ('અને', 'CC_CCD'), ('રજતચંદ્રક', 'N_NN'), ('મેળવ્યો', 'V_VM'), ('હતો', 'V_VAUX'), ('.', 'RD_PUNC')]\n",
            "[('૧૯૮૫માં', 'QT_QTC'), ('જકાર્તા', 'N_NNP'), ('ખાતે', 'PSP'), ('યોજાયેલ', 'V_VAUX_VNP'), ('એશિયાઈ', 'JJ'), ('ટ્રેક', 'N_NN'), ('એન્ડ', 'JJ'), ('ફિલ્ડ', 'N_NN'), ('મીટમાં', 'JJ'), ('સર્વશ્રેષ્ઠ', 'JJ'), ('દેખાવ', 'N_NN'), ('કરીને', 'JJ'), ('પી.ટી.ઉષાએ', 'N_NNP'), ('પાંચ', 'QT_QTC'), ('સુવર્ણ', 'N_NN'), ('અને', 'CC_CCD'), ('એક', 'QT_QTC'), ('કાસ્યચંદ્રક', 'N_NN'), ('મેળવ્યો', 'V_VM'), ('હતો', 'V_VAUX'), ('.', 'RD_PUNC')]\n",
            "[('ઉષાનો', 'PSP'), ('કરિશ્મો', 'PSP'), ('ટ્રેક', 'N_NN'), ('એન્ડ', 'JJ'), ('ફિલ્ડમાં', 'N_NN'), ('કંઈક', 'DM_DMI'), ('ઑર', 'PSP'), ('જ', 'RP_RPD'), ('હતો', 'V_VAUX'), ('.', 'RD_PUNC')]\n",
            "[('કોઈ', 'DM_DMI'), ('પણ', 'RP_RPD'), ('યુરોપિયન', 'JJ'), ('ટીમ', 'N_NN'), ('લેટિન', 'N_NN'), ('અમેરિકામાં', 'N_NNP'), ('વર્લ્ડ', 'N_NN'), ('કપ', 'N_NNP'), ('નહીં', 'RP_NEG'), ('જીતી', 'V_VM'), ('શકવાનો', 'N_NN'), ('રેકોર્ડ', 'N_NN'), ('આ', 'DM_DMD'), ('વખતે', 'N_NN'), ('તોડી', 'N_NN'), ('શકે', 'V_VAUX'), ('છે', 'V_VAUX'), ('.', 'RD_PUNC')]\n"
          ],
          "name": "stdout"
        }
      ]
    },
    {
      "cell_type": "code",
      "metadata": {
        "id": "FPizZb-quOyL"
      },
      "source": [
        "dict_true['sports'] = y_true\n",
        "dict_pred['sports'] = y_pred"
      ],
      "execution_count": null,
      "outputs": []
    },
    {
      "cell_type": "code",
      "metadata": {
        "colab": {
          "base_uri": "https://localhost:8080/"
        },
        "id": "K14NeA_XtgOk",
        "outputId": "e4521e5f-ef6a-4c75-ca95-e2e259183a08"
      },
      "source": [
        "from sklearn.metrics import accuracy_score\n",
        "from sklearn.metrics import f1_score\n",
        "accuracy_score(y_true, y_pred)\n",
        "f1_score(y_true, y_pred, average='macro')"
      ],
      "execution_count": null,
      "outputs": [
        {
          "output_type": "execute_result",
          "data": {
            "text/plain": [
              "0.7867963029442246"
            ]
          },
          "metadata": {
            "tags": []
          },
          "execution_count": 91
        }
      ]
    },
    {
      "cell_type": "markdown",
      "metadata": {
        "id": "mkDwDeZQtab4"
      },
      "source": [
        "## guj_science"
      ]
    },
    {
      "cell_type": "code",
      "metadata": {
        "colab": {
          "base_uri": "https://localhost:8080/"
        },
        "id": "SK8kKF_ftacA",
        "outputId": "0dec4e44-064c-458f-802d-f3d89a73dee5"
      },
      "source": [
        "# path = '/content/drive/MyDrive/nlpproject/data/guj_science and technology_sample6.txt'\n",
        "path = '/content/temp/guj_science and technology_sample6.txt'\n",
        "def process_file(path):\n",
        "  f = open(path,'r')\n",
        "  tagged_sentence = []\n",
        "  for line in f:\n",
        "    line = line.split()[1:]\n",
        "    temp = []\n",
        "    for i in line:\n",
        "      i = i.split('\\\\')\n",
        "      temp.append((i[0],i[1]))\n",
        "    tagged_sentence.append(temp)\n",
        "\n",
        "  return tagged_sentence\n",
        "\n",
        "\n",
        "tagged_sentence = process_file(path)\n",
        "print(len(tagged_sentence))"
      ],
      "execution_count": null,
      "outputs": [
        {
          "output_type": "stream",
          "text": [
            "1000\n"
          ],
          "name": "stdout"
        }
      ]
    },
    {
      "cell_type": "code",
      "metadata": {
        "id": "9ascXOljtacB"
      },
      "source": [
        "def word_to_ix(word, ix):\n",
        "    return torch.tensor(ix[word], dtype = torch.long)\n",
        "\n",
        "def char_to_ix(char, ix):\n",
        "    return torch.tensor(ix[char], dtype= torch.long)\n",
        "\n",
        "def tag_to_ix(tag, ix):\n",
        "    return torch.tensor(ix[tag], dtype= torch.long)\n",
        "\n",
        "def sequence_to_idx(sequence, ix):\n",
        "    return torch.tensor([ix[s] for s in sequence], dtype=torch.long)\n",
        "\n",
        "\n",
        "word_to_idx = {}\n",
        "tag_to_idx = {}\n",
        "char_to_idx = {}\n",
        "for sentence in tagged_sentence:\n",
        "    for word, pos_tag in sentence:\n",
        "        if word not in word_to_idx.keys():\n",
        "            word_to_idx[word] = len(word_to_idx)\n",
        "        if pos_tag not in tag_to_idx.keys():\n",
        "            tag_to_idx[pos_tag] = len(tag_to_idx)\n",
        "        for char in word:\n",
        "            if char not in char_to_idx.keys():\n",
        "                char_to_idx[char] = len(char_to_idx)"
      ],
      "execution_count": null,
      "outputs": []
    },
    {
      "cell_type": "code",
      "metadata": {
        "colab": {
          "base_uri": "https://localhost:8080/"
        },
        "id": "g2YHoP8ptacB",
        "outputId": "74265035-53da-40a3-fa95-c571573b6175"
      },
      "source": [
        "word_vocab_size = len(word_to_idx)\n",
        "tag_vocab_size = len(tag_to_idx)\n",
        "char_vocab_size = len(char_to_idx)\n",
        "\n",
        "print(\"Unique words: {}\".format(len(word_to_idx)))\n",
        "print(\"Unique tags: {}\".format(len(tag_to_idx)))\n",
        "print(\"Unique characters: {}\".format(len(char_to_idx)))"
      ],
      "execution_count": null,
      "outputs": [
        {
          "output_type": "stream",
          "text": [
            "Unique words: 5544\n",
            "Unique tags: 31\n",
            "Unique characters: 131\n"
          ],
          "name": "stdout"
        }
      ]
    },
    {
      "cell_type": "code",
      "metadata": {
        "id": "M5ho0rIctacB"
      },
      "source": [
        "import random\n",
        "\n",
        "tr_random = random.sample(list(range(len(tagged_sentence))), int(0.95 * len(tagged_sentence)))\n",
        "\n",
        "train = [tagged_sentence[i] for i in tr_random]\n",
        "test = [tagged_sentence[i] for i in range(len(tagged_sentence)) if i not in tr_random]"
      ],
      "execution_count": null,
      "outputs": []
    },
    {
      "cell_type": "code",
      "metadata": {
        "colab": {
          "base_uri": "https://localhost:8080/"
        },
        "id": "IvH87WWGtacC",
        "outputId": "d6a60fcb-c108-413c-9d8a-bcd91607b408"
      },
      "source": [
        "print(\"Training set Size \",len(train))\n",
        "print(\"Test set Size \",len(test))\n",
        "print(\"Sample Test\")\n",
        "print(test[2])"
      ],
      "execution_count": null,
      "outputs": [
        {
          "output_type": "stream",
          "text": [
            "Training set Size  950\n",
            "Test set Size  50\n",
            "Sample Test\n",
            "[('વસ્તીના', 'N_NN'), ('પ્રભાવને', 'N_NN'), ('તેમાં', 'DM_DMD'), ('દરમિયાનગીરી', 'N_NN'), ('વડે', 'PSP'), ('ઉકેલવાની', 'V_VAUX_VNP'), ('તકો', 'N_NN'), ('સ્પષ્ટ', 'JJ'), ('કરે', 'V_VM'), ('છે', 'V_VAUX'), ('અને', 'CC_CCD'), ('તેમાં', 'DM_DMD'), ('મહત્તમ', 'JJ'), ('પરિણામો', 'N_NN'), ('લાવવા', 'V_VAUX_VNP'), ('જરૂરી', 'JJ'), ('યા', 'PSP'), ('ઉપલબ્ધ', 'JJ'), ('નીતિઓનો', 'N_NN'), ('પ્રકાર', 'N_NN'), ('સ્પષ્ટ', 'JJ'), ('કરે', 'V_VM'), ('છે', 'V_VAUX'), ('.', 'RD_PUNC')]\n"
          ],
          "name": "stdout"
        }
      ]
    },
    {
      "cell_type": "code",
      "metadata": {
        "id": "Ue9KO_8EtacC"
      },
      "source": [
        "WORD_EMBEDDING_DIM = 1024\n",
        "CHAR_EMBEDDING_DIM = 128\n",
        "WORD_HIDDEN_DIM = 1024\n",
        "CHAR_HIDDEN_DIM = 1024\n",
        "EPOCHS = 20\n",
        "\n",
        "class DualLSTMTagger(nn.Module):\n",
        "  def __init__(self, word_embedding_dim, word_hidden_dim, char_embedding_dim, char_hidden_dim, word_vocab_size, char_vocab_size, tag_vocab_size):\n",
        "    super(DualLSTMTagger, self).__init__()\n",
        "    self.word_embedding = nn.Embedding(word_vocab_size, word_embedding_dim)\n",
        "    \n",
        "    self.char_embedding = nn.Embedding(char_vocab_size, char_embedding_dim)\n",
        "    self.char_lstm = nn.LSTM(char_embedding_dim, char_hidden_dim)\n",
        "    self.lstm = nn.LSTM(word_embedding_dim + char_hidden_dim, word_hidden_dim,bidirectional=True)\n",
        "\n",
        "    self.hidden2tag = nn.Linear(word_hidden_dim*2, tag_vocab_size)\n",
        "      \n",
        "  def forward(self, sentence, words):\n",
        "    embeds = self.word_embedding(sentence)\n",
        "    char_hidden_final = []\n",
        "    for word in words:\n",
        "        char_embeds = self.char_embedding(word)\n",
        "        _, (char_hidden, char_cell_state) = self.char_lstm(char_embeds.view(len(word), 1, -1))\n",
        "        word_char_hidden_state = char_hidden.view(-1)\n",
        "        char_hidden_final.append(word_char_hidden_state)\n",
        "    char_hidden_final = torch.stack(tuple(char_hidden_final))\n",
        "    \n",
        "    combined = torch.cat((embeds, char_hidden_final), 1)\n",
        "\n",
        "    lstm_out, _ = self.lstm(combined.view(len(sentence), 1, -1))\n",
        "    tag_space = self.hidden2tag(lstm_out.view(len(sentence), -1))\n",
        "    \n",
        "    tag_scores = F.log_softmax(tag_space, dim=1)\n",
        "    return tag_scores"
      ],
      "execution_count": null,
      "outputs": []
    },
    {
      "cell_type": "code",
      "metadata": {
        "id": "BriFazP7tacC"
      },
      "source": [
        "model = DualLSTMTagger(WORD_EMBEDDING_DIM, WORD_HIDDEN_DIM, CHAR_EMBEDDING_DIM, CHAR_HIDDEN_DIM, word_vocab_size, char_vocab_size, tag_vocab_size)\n",
        "\n",
        "use_cuda = torch.cuda.is_available()\n",
        "device = torch.device(\"cuda:0\" if use_cuda else \"cpu\")\n",
        "\n",
        "if use_cuda:\n",
        "    model.cuda()\n",
        "\n",
        "loss_function = nn.NLLLoss()\n",
        "optimizer = optim.Adam(model.parameters(), lr=0.001)\n"
      ],
      "execution_count": null,
      "outputs": []
    },
    {
      "cell_type": "code",
      "metadata": {
        "colab": {
          "base_uri": "https://localhost:8080/"
        },
        "id": "G7c6R3aFtacD",
        "outputId": "2ff44f9e-8c71-4bd0-dcee-ad5fe6eedf2a"
      },
      "source": [
        "accuracy_list = []\n",
        "loss_list = []\n",
        "interval = round(len(train) / 100.)\n",
        "epochs = EPOCHS\n",
        "e_interval = round(epochs / 10.)\n",
        "for epoch in range(epochs):\n",
        "    acc = 0 #to keep track of accuracy\n",
        "    loss = 0 # To keep track of the loss value\n",
        "    i = 0\n",
        "    for sentence_tag in train:\n",
        "        i += 1\n",
        "        words = [torch.tensor(sequence_to_idx(s[0], char_to_idx), dtype=torch.long).to(device) for s in sentence_tag]\n",
        "        sentence = [s[0] for s in sentence_tag]\n",
        "        sentence = torch.tensor(sequence_to_idx(sentence, word_to_idx), dtype=torch.long).to(device)\n",
        "        targets = [s[1] for s in sentence_tag]\n",
        "        targets = torch.tensor(sequence_to_idx(targets, tag_to_idx), dtype=torch.long).to(device)\n",
        "        \n",
        "        model.zero_grad()\n",
        "        \n",
        "        tag_scores = model(sentence, words)\n",
        "        \n",
        "        loss = loss_function(tag_scores, targets)\n",
        "        loss.backward()\n",
        "        optimizer.step()\n",
        "        loss += loss.item()\n",
        "        _, indices = torch.max(tag_scores, 1)\n",
        "#         print(indices == targets)\n",
        "        acc += torch.mean(torch.tensor(targets == indices, dtype=torch.float))\n",
        "        if i % interval == 0:\n",
        "            print(\"Epoch {} Running;\\t{}% Complete\".format(epoch + 1, i / interval), end = \"\\r\", flush = True)\n",
        "    loss = loss / len(train)\n",
        "    acc = acc / len(train)\n",
        "    loss_list.append(float(loss))\n",
        "    accuracy_list.append(float(acc))\n",
        "    if (epoch + 1) % e_interval == 0:\n",
        "        print(\"Epoch {} Completed,\\tLoss {}\\tAccuracy: {}\".format(epoch + 1, np.mean(loss_list[-e_interval:]), np.mean(accuracy_list[-e_interval:]))) "
      ],
      "execution_count": null,
      "outputs": [
        {
          "output_type": "stream",
          "text": [
            "/usr/local/lib/python3.7/dist-packages/ipykernel_launcher.py:12: UserWarning: To copy construct from a tensor, it is recommended to use sourceTensor.clone().detach() or sourceTensor.clone().detach().requires_grad_(True), rather than torch.tensor(sourceTensor).\n",
            "  if sys.path[0] == '':\n",
            "/usr/local/lib/python3.7/dist-packages/ipykernel_launcher.py:14: UserWarning: To copy construct from a tensor, it is recommended to use sourceTensor.clone().detach() or sourceTensor.clone().detach().requires_grad_(True), rather than torch.tensor(sourceTensor).\n",
            "  \n",
            "/usr/local/lib/python3.7/dist-packages/ipykernel_launcher.py:16: UserWarning: To copy construct from a tensor, it is recommended to use sourceTensor.clone().detach() or sourceTensor.clone().detach().requires_grad_(True), rather than torch.tensor(sourceTensor).\n",
            "  app.launch_new_instance()\n",
            "/usr/local/lib/python3.7/dist-packages/ipykernel_launcher.py:28: UserWarning: To copy construct from a tensor, it is recommended to use sourceTensor.clone().detach() or sourceTensor.clone().detach().requires_grad_(True), rather than torch.tensor(sourceTensor).\n"
          ],
          "name": "stderr"
        },
        {
          "output_type": "stream",
          "text": [
            "Epoch 2 Completed,\tLoss 0.00016884776368897292\tAccuracy: 0.8791282176971436\n",
            "Epoch 4 Completed,\tLoss 1.7635610447541694e-06\tAccuracy: 0.9939098954200745\n",
            "Epoch 6 Completed,\tLoss 8.915729381442361e-07\tAccuracy: 0.9993121325969696\n",
            "Epoch 8 Completed,\tLoss 7.574565711365722e-05\tAccuracy: 0.9923302829265594\n",
            "Epoch 10 Completed,\tLoss 2.266255521021776e-07\tAccuracy: 0.9983084499835968\n",
            "Epoch 12 Completed,\tLoss 9.990799654246985e-08\tAccuracy: 0.9998319745063782\n",
            "Epoch 14 Completed,\tLoss 3.470520315573822e-08\tAccuracy: 0.9999999403953552\n",
            "Epoch 16 Completed,\tLoss 1.5659030516701478e-08\tAccuracy: 0.9999999403953552\n",
            "Epoch 18 Completed,\tLoss 6.556468701290896e-09\tAccuracy: 0.9999999403953552\n",
            "Epoch 20 Completed,\tLoss 2.6037753064755975e-09\tAccuracy: 0.9999999403953552\n"
          ],
          "name": "stdout"
        }
      ]
    },
    {
      "cell_type": "code",
      "metadata": {
        "colab": {
          "base_uri": "https://localhost:8080/"
        },
        "id": "SWHiXyzrtacD",
        "outputId": "db538d59-e6ae-44d8-fc2f-3c414623bc3c"
      },
      "source": [
        "y_true = []\n",
        "y_pred = []\n",
        "for sentence in test:\n",
        "  seq = \"\"\n",
        "  for s in range(len(sentence)):\n",
        "    if(s==(len(sentence)-1)):\n",
        "      seq+= sentence[s][0]\n",
        "    else:\n",
        "      seq += sentence[s][0] + \" \"\n",
        "    y_true.append(sentence[s][1])\n",
        "  \n",
        "  seq = seq.split()\n",
        "  with torch.no_grad():\n",
        "    words = [torch.tensor(sequence_to_idx(s[0], char_to_idx), dtype=torch.long).to(device) for s in seq]\n",
        "    sentence = torch.tensor(sequence_to_idx(seq, word_to_idx), dtype=torch.long).to(device)\n",
        "        \n",
        "    tag_scores = model(sentence, words)\n",
        "    _, indices = torch.max(tag_scores, 1)\n",
        "    ret = []\n",
        "    for i in range(len(indices)):\n",
        "        for key, value in tag_to_idx.items():\n",
        "            if indices[i] == value:\n",
        "                ret.append((seq[i], key))\n",
        "                y_pred.append(key)\n",
        "    print(ret)"
      ],
      "execution_count": null,
      "outputs": [
        {
          "output_type": "stream",
          "text": [
            "[('વધુમાં', 'JJ'), (',', 'RD_PUNC'), ('વિકાસ', 'N_NN'), ('પામતા', 'QT_QTC'), ('સમાજને', 'N_NN'), ('સંતોષવા', 'N_NN'), ('આયોજન', 'N_NN'), ('સાધવાની', 'JJ'), ('સરકારની', 'N_NN'), ('ક્ષમતા', 'N_NN'), ('ઉપર', 'PSP'), ('તે', 'DM_DMD'), ('પોતાનો', 'PR_PRF'), ('પ્રચંડ', 'N_NN'), ('પ્રભાવ', 'N_NN'), ('જમાવે', 'JJ'), ('છે', 'V_VAUX'), ('.', 'RD_PUNC')]\n",
            "[('સ્ત્રીઓ', 'N_NN'), ('વસ્તી', 'N_NN'), ('આયોજન', 'N_NN'), ('ઝૂંબેશમાં', 'N_NN'), ('દેખીતી', 'JJ'), ('રીતે', 'N_NN'), ('મહત્ત્વનો', 'JJ'), ('ભાગ', 'N_NN'), ('ભજવી', 'V_VM'), ('શકે', 'V_VAUX'), ('છે', 'V_VAUX'), ('અને', 'CC_CCD'), ('એની', 'DM_DMD'), ('સાથે', 'PSP'), ('પર્યાવરણની', 'N_NN'), ('જાળવણીની', 'N_NN'), ('પ્રવૃત્તિમાં', 'N_NST'), ('પણ', 'RP_RPD'), ('તે', 'DM_DMD'), ('ઘણો', 'QT_QTF'), ('મોટો', 'JJ'), ('હિસ્સો', 'N_NN'), ('આપી', 'V_VM'), ('શકે', 'V_VAUX'), ('તેમ', 'PSP'), ('છે', 'V_VAUX'), ('.', 'RD_PUNC')]\n",
            "[('વસ્તીના', 'N_NN'), ('પ્રભાવને', 'N_NN'), ('તેમાં', 'DM_DMD'), ('દરમિયાનગીરી', 'N_NN'), ('વડે', 'PSP'), ('ઉકેલવાની', 'JJ'), ('તકો', 'N_NN'), ('સ્પષ્ટ', 'JJ'), ('કરે', 'V_VM'), ('છે', 'V_VAUX'), ('અને', 'CC_CCD'), ('તેમાં', 'DM_DMD'), ('મહત્તમ', 'JJ'), ('પરિણામો', 'N_NN'), ('લાવવા', 'N_NN'), ('જરૂરી', 'JJ'), ('યા', 'PSP'), ('ઉપલબ્ધ', 'JJ'), ('નીતિઓનો', 'JJ'), ('પ્રકાર', 'N_NN'), ('સ્પષ્ટ', 'JJ'), ('કરે', 'V_VM'), ('છે', 'V_VAUX'), ('.', 'RD_PUNC')]\n",
            "[('પર્યાવરણ', 'N_NN'), ('ઉપર', 'PSP'), ('ઘેરો', 'JJ'), ('પ્રભાવ', 'N_NN'), ('પાડનારી', 'CC_CCD'), ('આ', 'DM_DMD'), ('વસ્તી', 'N_NN'), ('વિષયક', 'JJ'), ('પશ્ચાદભૂનું', 'N_NN'), ('એક', 'QT_QTC'), ('વધુ', 'QT_QTF'), ('પરિમાણ', 'N_NN'), ('પણ', 'RP_RPD'), ('છે', 'V_VAUX'), ('.', 'RD_PUNC')]\n",
            "[('આજે', 'N_NST'), ('અનાજના', 'N_NN'), ('ઉત્પાદનમાં', 'QT_QTC'), ('વર્ષે', 'N_NN'), ('એક', 'QT_QTC'), ('ટકાથી', 'N_NN'), ('યે', 'RP_RPD'), ('ઓછો', 'QT_QTF'), ('વધારો', 'N_NN'), ('થઈ', 'V_VM'), ('રહ્યો', 'V_VAUX'), ('છે', 'V_VAUX'), ('ત્યારે', 'N_NST'), ('વસ્તીવધારો', 'N_NN'), ('૧.૮', 'QT_QTC'), ('ટકા', 'N_NN'), ('જેટલો', 'JJ'), ('રહ્યો', 'V_VAUX'), ('છે', 'V_VAUX'), ('.', 'RD_PUNC')]\n",
            "[('જાવાનું', 'N_NN'), ('ઉદાહરણ', 'N_NN'), ('લઈએ', 'V_VM'), ('.', 'RD_PUNC')]\n",
            "[('એથી', 'PSP'), ('વિપરીત', 'JJ'), ('ઉત્પાદકક્ષમતા', 'N_NN'), ('સમગ્ર', 'JJ'), ('વિસ્તારોમાં', 'N_NN'), ('ઝડપભેર', 'RB'), ('ઘટતી', 'V_VAUX_VNP'), ('રહે', 'V_VAUX'), ('છે', 'V_VAUX'), ('.', 'RD_PUNC')]\n",
            "[('એનો', 'DM_DMD'), ('અર્થ', 'N_NN'), ('એવો', 'JJ'), ('થયો', 'V_VM'), ('કે', 'CC_CCS'), ('દર', 'PSP'), ('વર્ષે', 'N_NN'), ('અનાજમાં', 'JJ'), ('થતાં', 'N_NN'), ('કુલ', 'JJ'), ('લાભના', 'N_NN'), ('લગભગ', 'PSP'), ('અડધોઅડધ', 'JJ'), ('જેટલા', 'JJ'), ('પ્રમાણમાં', 'N_NN'), ('આ', 'DM_DMD'), ('ખાધ', 'N_NN'), ('રહી', 'V_VAUX'), ('છે', 'V_VAUX'), ('.', 'RD_PUNC')]\n"
          ],
          "name": "stdout"
        },
        {
          "output_type": "stream",
          "text": [
            "/usr/local/lib/python3.7/dist-packages/ipykernel_launcher.py:14: UserWarning: To copy construct from a tensor, it is recommended to use sourceTensor.clone().detach() or sourceTensor.clone().detach().requires_grad_(True), rather than torch.tensor(sourceTensor).\n",
            "  \n",
            "/usr/local/lib/python3.7/dist-packages/ipykernel_launcher.py:15: UserWarning: To copy construct from a tensor, it is recommended to use sourceTensor.clone().detach() or sourceTensor.clone().detach().requires_grad_(True), rather than torch.tensor(sourceTensor).\n",
            "  from ipykernel import kernelapp as app\n"
          ],
          "name": "stderr"
        },
        {
          "output_type": "stream",
          "text": [
            "[('આજે', 'N_NST'), ('પણ', 'RP_RPD'), ('તે', 'DM_DMD'), ('પૈકીના', 'PSP'), ('પાંચ', 'QT_QTC'), ('દેશ', 'N_NN'), ('માણસ', 'JJ'), ('દીઠ', 'PSP'), ('૧૦૦૦', 'QT_QTC'), ('ઘનમીટરથી', 'V_VM'), ('ઓછું', 'QT_QTF'), ('પાણી', 'N_NN'), ('ધરાવી', 'N_NN'), ('રહ્યા', 'V_VAUX'), ('છે', 'V_VAUX'), ('.', 'RD_PUNC')]\n",
            "[('૧૯૯૦માં', 'QT_QTC'), ('તેનો', 'DM_DMD'), ('દર', 'N_NN'), ('૨.૯', 'QT_QTC'), ('ટકા', 'N_NN'), ('છે', 'V_VAUX'), ('.', 'RD_PUNC')]\n",
            "[('આ', 'DM_DMD'), ('રોગો', 'N_NN'), ('તેમનામાં', 'N_NN'), ('ઊંચા', 'JJ'), ('મૃત્યુ', 'N_NN'), ('દર', 'N_NN'), ('માટેનું', 'PSP'), ('તાત્કાલિક', 'N_NN'), ('કારણ', 'N_NN'), ('છે.', 'N_NN')]\n",
            "[('એની', 'DM_DMD'), ('માહિતી', 'N_NN'), ('રાષ્ટ્રીય', 'JJ'), ('આયોજનમાં', 'N_NN'), ('સામેલ', 'N_NN'), ('કરવી', 'JJ'), ('જોઈએ', 'V_VM'), ('.', 'RD_PUNC')]\n",
            "[('વિદ્યુતચુંબકીય', 'JJ'), ('ઊર્જામાં', 'QT_QTC'), ('એવી', 'JJ'), ('બધી', 'QT_QTF'), ('જ', 'RP_RPD'), ('ઊર્જાના', 'V_VM'), ('સમાવેશ', 'N_NN'), ('કરવામાં', 'V_VAUX_VNP'), ('આવે', 'V_VAUX'), ('છે', 'V_VAUX'), ('જે', 'PR_PRL'), ('પ્રકાશના', 'N_NN'), ('વેગ', 'N_NN'), ('જેટલા', 'JJ'), ('જ', 'RP_RPD'), ('વેગથી', 'N_NN'), ('હાર્મોનિક', 'N_NN'), ('તરંગ', 'N_NN'), ('સ્વરૂપે', 'N_NN'), ('ગતિ', 'N_NN'), ('કરે', 'V_VM'), ('છે', 'V_VAUX'), ('.', 'RD_PUNC')]\n",
            "[('હવાઈ', 'JJ'), ('છબીકલાનો', 'N_NN'), ('ભારતમાં', 'N_NNP'), ('થયેલો', 'N_NN'), ('ઉપયોગ', 'N_NN'), ('અંગેનો', 'PSP'), ('ઇતિહાસ', 'N_NN'), ('તપાસીએ', 'V_VAUX'), ('તો', 'CC_CCD'), ('છેક', 'PSP'), ('ઈ.સ.', 'N_NN'), ('૧૯૨૦માં', 'QT_QTC'), ('લઈ', 'N_NN'), ('જાય', 'V_VAUX'), ('છે', 'V_VAUX'), ('.', 'RD_PUNC')]\n",
            "[('આ', 'DM_DMD'), ('ભૂમિકેન્દ્રના', 'N_NN'), ('ટર્મિનલોમાં', 'JJ'), ('થોડા', 'PSP'), ('સુધારા', 'N_NN'), ('વધારા', 'N_NN'), ('કરીને', 'V_VAUX_VNP'), ('ભારતીય', 'N_NNP'), ('રિમોટ', 'N_NN'), ('સેન્સિંગ', 'N_NN'), ('ઉપગ્રહમાંથી', 'JJ'), ('તેમજ', 'CC_CCD'), ('ફ્રાન્સના', 'JJ'), ('રિમોટ', 'N_NN'), ('સેન્સિંગ', 'N_NN'), ('ઉપગ્રહમાંથી', 'JJ'), ('પ્રસારિત', 'JJ'), ('થતા', 'V_VAUX_VNP'), ('ડેટા', 'N_NN'), ('મેળવી', 'V_VM'), ('શકાય', 'V_VAUX'), ('તેવા', 'JJ'), ('તૈયાર', 'JJ'), ('કરવામાં', 'V_VAUX_VNP'), ('આવ્યા', 'V_VAUX'), ('છે', 'V_VAUX'), ('.', 'RD_PUNC')]\n",
            "[('રિમોટ', 'N_NN'), ('સેન્સિંગના', 'N_NN'), ('ક્ષેત્રમાં', 'N_NN'), ('કાર્ય', 'N_NN'), ('કરતી', 'QT_QTC'), ('વિવિધ', 'JJ'), ('સંસ્થાઓમાં', 'JJ'), ('વૈજ્ઞાનિકો', 'N_NN'), ('અને', 'CC_CCD'), ('ઈજનેરોને', 'JJ'), ('નોકરી', 'N_NN'), ('દરમિયાન', 'PSP'), ('જ', 'RP_RPD'), ('લાંબા', 'JJ'), ('ગાળાના', 'N_NN'), ('અને', 'CC_CCD'), ('ટૂંકા', 'JJ'), ('ગાળાના', 'N_NN'), ('તાલીમ', 'N_NN'), ('વર્ગો', 'N_NN'), ('દ્વારા', 'PSP'), ('અહીં', 'JJ'), ('તાલીમ', 'N_NN'), ('આપવામાં', 'PSP'), ('આવે', 'V_VAUX'), ('છે', 'V_VAUX'), ('.', 'RD_PUNC')]\n",
            "[('કેટલીક', 'QT_QTF'), ('યુનિવર્સિટીઓએ', 'JJ'), ('અનુસ્નાતક', 'JJ'), ('ડિગ્રીના', 'N_NN'), ('અભ્યાસક્રમો', 'N_NN'), ('પણ', 'RP_RPD'), ('શરૂ', 'JJ'), ('કર્યા', 'V_VM'), ('છે', 'V_VAUX'), ('.', 'RD_PUNC')]\n",
            "[('વચ્ચે', 'N_NST'), ('એવો', 'JJ'), ('પણ', 'RP_RPD'), ('સમય', 'N_NN'), ('આવી', 'JJ'), ('ગયો', 'JJ'), ('જ્યારે', 'N_NST'), ('અમેરિકાનો', 'JJ'), ('રિમોટ', 'N_NN'), ('સેન્સિંગ', 'N_NN'), ('ઉપગ્રહ', 'N_NN'), ('થોડા', 'PSP'), ('સમય', 'N_NN'), ('માટે', 'PSP'), ('કાર્ય', 'N_NN'), ('કરતો', 'V_VAUX_VNP'), ('બંધ', 'JJ'), ('થઈ', 'V_VM'), ('ગયો', 'V_VAUX'), ('હતો', 'V_VAUX'), ('.', 'RD_PUNC')]\n",
            "[('હવે', 'N_NST'), ('તંદુરસ્તીના', 'PSP'), ('કારણોસર', 'JJ'), ('પૂના', 'N_NN'), ('ખાતે', 'PSP'), ('રહે', 'V_VAUX'), ('છે', 'V_VAUX'), ('પણ', 'RP_RPD'), ('માર્ગદર્શન', 'N_NN'), ('પૂરૂં', 'JJ'), ('પાડે', 'JJ'), ('છે', 'V_VAUX'), ('.', 'RD_PUNC')]\n",
            "[('વનસ્પતિ', 'N_NN'), ('નિષ્ણાંતોએ', 'N_NN'), ('ઘણા', 'QT_QTF'), ('વખત', 'N_NN'), ('પછી', 'PSP'), ('શોધી', 'V_VM'), ('કાઢ્યું', 'V_VAUX'), ('તેમ', 'PSP'), ('વનસ્પતિના', 'N_NN'), ('સર્વોચ્ચ', 'N_NN'), ('હિસ્સાના', 'N_NN'), ('કોષોમાં', 'JJ'), ('રહેલા', 'V_VAUX_VNP'), ('ફોટોટ્રોપિન્સ', 'JJ'), ('/', 'RD_SYM'), ('phototropins', 'PSP'), ('નામના', 'N_NN'), ('સંવેદકો', 'N_NN'), ('ટુંકી', 'JJ'), ('વેવલેન્થનાં', 'JJ'), ('ભૂરાં', 'JJ'), ('પ્રકાશકિરણો', 'N_NN'), ('પ્રત્યે', 'PSP'), ('અત્યંત', 'JJ'), ('સેન્સિટીવ', 'JJ'), ('છે', 'V_VAUX'), ('અને', 'CC_CCD'), ('સૂર્યપ્રકાશમાં', 'N_NN'), ('એવાં', 'N_NN'), ('કિરણો', 'N_NN'), ('ભરપૂર', 'V_VM'), ('હોય', 'V_VAUX'), ('છે', 'V_VAUX'), ('.', 'RD_PUNC')]\n",
            "[('આ', 'DM_DMD'), ('સાયન્ટિસ્ટના', 'JJ'), ('દાવા', 'N_NN'), ('અનુસાર', 'N_NN'), ('મારવા', 'JJ'), ('રાગના', 'N_NN'), ('પ્રભાવ', 'N_NN'), ('હેઠળ', 'N_NN'), ('છોડનાં', 'N_NN'), ('પાંદડાંમાં', 'N_NN'), ('CO2', 'N_NN'), ('ગ્રહણ', 'N_NN'), ('કરતાં', 'V_VAUX_VNP'), ('stomata', 'V_VM'), ('/', 'RD_SYM'), ('પર્ણછિદ્રોની', 'N_NN'), ('સંખ્યા', 'N_NN'), ('૬૬', 'QT_QTC'), ('%', 'RD_SYM'), ('જેટલી', 'JJ'), ('વધી', 'V_VM'), ('જવા', 'PSP'), ('પામી', 'V_VM'), ('.', 'RD_PUNC')]\n",
            "[('બાગબાનીનો', 'N_NN'), ('શોખ', 'N_NN'), ('ધરાવતી', 'PSP'), ('ડોરોથી', 'N_NN'), ('રેટાલેક', 'N_NN'), ('નામની', 'N_NN'), ('અમેરિકન', 'JJ'), ('મહિલાએ', 'JJ'), ('પુસ્તક', 'N_NN'), ('વાંચ્યા', 'V_VAUX_VNP'), ('બાદ', 'PSP'), ('જાતે', 'N_NN'), ('અજમાયશ', 'N_NN'), ('કરી', 'V_VM'), ('જોવા', 'JJ'), ('બે', 'QT_QTC'), ('જુદા', 'JJ'), ('છોડને', 'N_NN'), ('અનુક્રમે', 'V_VM'), ('કર્કશ', 'JJ'), ('અને', 'CC_CCD'), ('કર્ણપ્રિય', 'JJ'), ('મ્યુઝિક', 'JJ'), ('સંભળાવ્યું', 'JJ'), ('.', 'RD_PUNC')]\n",
            "[('ક્લોરોફિલ', 'JJ'), ('ન', 'RP_NEG'), ('ધરાવતી', 'PSP'), ('અમરવેલ', 'N_NN'), ('પોતાનો', 'PR_PRF'), ('ખોરાક', 'N_NN'), ('જાતે', 'PR_PRF'), ('બનાવી', 'JJ'), ('શકતી', 'N_NN'), ('નથી', 'RP_NEG'), (',', 'RD_PUNC'), ('એટલે', 'PSP'), ('પોષક', 'JJ'), ('દ્રવ્યો', 'N_NN'), ('માટે', 'PSP'), ('તે', 'DM_DMD'), ('પારકા', 'PSP'), ('છોડને', 'N_NN'), ('યજમાન', 'N_NN'), ('તરીકે', 'PSP'), ('પસંદ', 'JJ'), ('કરે', 'V_VM'), ('છે', 'V_VAUX'), ('.', 'RD_PUNC')]\n",
            "[('ટેનિન', 'N_NN'), ('સહિતનાં', 'JJ'), ('એવાં', 'PR_PRP'), ('પ્રતિકારક', 'JJ'), ('દ્રવ્યો', 'JJ'), ('તેઓ', 'PR_PRP'), ('બનાવવા', 'PSP'), ('માંડે', 'JJ'), ('અને', 'CC_CCD'), ('પાંદડાં', 'N_NN'), ('તરફ', 'PSP'), ('મોકલી', 'V_VM'), ('આપે', 'V_VM'), ('કે', 'CC_CCS'), ('જે', 'PR_PRL'), ('કીટકોના', 'N_NN'), ('પાચનતંત્રને', 'JJ'), ('ખોરવી', 'N_NN'), ('નાંખે', 'JJ'), ('છે', 'V_VAUX'), ('.', 'RD_PUNC')]\n",
            "[('કદ', 'N_NN'), ('વધુ', 'QT_QTF'), ('પડતું', 'N_NN'), ('મોટું', 'JJ'), ('થાય', 'V_VM'), ('તો', 'CC_CCD'), ('પાછલા', 'N_NN'), ('રસ્તે', 'PSP'), ('તેનો', 'DM_DMD'), ('નિકાલ', 'N_NN'), ('કરી', 'V_VM'), ('શકાતો', 'JJ'), ('નથી', 'RP_NEG'), ('.', 'RD_PUNC')]\n",
            "[('રીતસર', 'N_NN'), ('બે', 'QT_QTC'), ('પગે', 'N_NN'), ('ચાલવાનું', 'PSP'), ('જ્યાં', 'N_NST'), ('આવશ્યક', 'JJ'), ('હોય', 'V_VAUX'), ('ત્યાં', 'N_NST'), ('ડાબે', 'N_NN'), ('-', 'RD_PUNC'), ('જમણે', 'N_NN'), ('પ્રસારેલા', 'N_NN'), ('હાથ', 'N_NN'), ('શરીરને', 'N_NN'), ('સંતુલિત', 'JJ'), ('રાખવામાં', 'JJ'), ('મદદરૂપ', 'N_NN'), ('નીવડે', 'N_NN'), ('છે', 'V_VAUX'), ('.', 'RD_PUNC')]\n",
            "[('carrion', 'N_NN'), ('=', 'N_NN'), ('પ્રાણીનો', 'N_NN'), ('મૃતદેહ', 'N_NN'), ('અર્થ', 'N_NN'), ('થાય', 'V_VM'), ('છે', 'V_VAUX'), ('.', 'RD_PUNC')]\n",
            "[('આ', 'DM_DMD'), ('કુળમાં', 'QT_QTC'), ('Jay', 'RD_RDF'), ('/', 'RD_SYM'), ('ચાસ', 'N_NN'), (',', 'RD_PUNC'), ('magpie', 'RD_SYM'), ('/', 'RD_SYM'), ('મેગ્પાઈ', 'N_NN'), (',', 'RD_PUNC'), ('raven', 'RD_RDF'), ('/', 'RD_SYM'), ('મહાકાગ', 'N_NN'), (',', 'RD_PUNC'), ('rook', 'N_NN'), ('/', 'RD_SYM'), ('કપટી', 'JJ'), ('કાગડો', 'N_NN'), (',', 'RD_PUNC'), ('nutcracker', 'N_NNP'), ('/', 'RD_SYM'), ('અખરોટ', 'N_NN'), ('ખોદ', 'N_NN'), ('વગેરે', 'PSP'), ('મળીને', 'V_VAUX_VNP'), ('૧૨૬', 'QT_QTC'), ('જાતનાં', 'N_NN'), ('પંખીડાંનો', 'JJ'), ('સમાવેશ', 'N_NN'), ('થાય', 'V_VM'), ('છે.', 'N_NN')]\n",
            "[('ચાસની', 'N_NN'), ('જેમ', 'PSP'), ('મહાકાગ', 'N_NN'), ('પણ', 'RP_RPD'), ('ખોરાક', 'N_NN'), ('સંતાડવાની', 'JJ'), ('બચત', 'JJ'), ('યોજનામાં', 'JJ'), ('રોકાણ', 'N_NN'), ('કરતા', 'JJ'), ('હોય', 'V_VAUX'), ('છે', 'V_VAUX'), ('.', 'RD_PUNC')]\n",
            "[('આકૃતિને', 'V_VM'), ('કે', 'CC_CCS'), ('અભિરચનાને', 'N_NN'), ('તલસ્પર્શી', 'JJ'), ('રીતે', 'N_NN'), ('પારખી', 'V_VM'), ('લેવામાં', 'JJ'), ('કબૂતરની', 'N_NN'), ('આગવી', 'JJ'), ('ત્રેવડ', 'N_NN'), ('જોતાં', 'N_NNP'), ('અમેરિકાના', 'N_NNP'), ('તટરક્ષક', 'N_NN'), ('દળે', 'N_NN'), ('૧૯૮૧માં', 'QT_QTC'), ('આવાં', 'JJ'), ('પારેવડાંને', 'QT_QTF'), ('સમુદ્રી', 'JJ'), ('તલાશ', 'N_NN'), ('માટે', 'PSP'), ('ડ્યુટી', 'N_NN'), ('પર', 'PSP'), ('લગાડ્યાં', 'JJ'), ('હતાં', 'V_VAUX'), ('.', 'RD_PUNC')]\n",
            "[('ચામાચીડિયાં', 'PSP'), ('નિબિડ', 'N_NN'), ('અંધકારમાં', 'N_NN'), ('પણ', 'RP_RPD'), ('માત્ર', 'RP_RPD'), ('અશ્રાવ્ય', 'JJ'), ('/', 'RD_SYM'), ('ultra', 'N_NN'), ('sonic', 'V_VM'), ('અવાજનાં', 'N_NN'), ('મોજાં', 'N_NN'), ('વહેતાં', 'RD_PUNC'), ('મૂકી', 'PSP'), ('તેમના', 'PR_PRP'), ('પરાવર્તન', 'PSP'), ('વડે', 'PSP'), ('ફૂદાં', 'N_NN'), ('જેવાં', 'N_NN'), ('કીટકોનો', 'N_NN'), ('વિઝ્યુઅલ', 'N_NN'), ('ચિતાર', 'N_NN'), ('મેળવી', 'V_VAUX_VNP'), ('લે', 'V_VAUX'), ('છે', 'V_VAUX'), ('.', 'RD_PUNC')]\n",
            "[('વ્હેલની', 'N_NN'), ('પંદરેક', 'N_NN'), ('મુખ્ય', 'JJ'), ('જાતો', 'N_NN'), ('છે', 'V_VAUX'), ('.', 'RD_PUNC')]\n",
            "[('આખરે', 'PSP'), ('શબ્દવિજ્ઞાનના', 'N_NN'), ('એક', 'QT_QTC'), ('પ્રખર', 'JJ'), ('વૈજ્ઞાનિક', 'JJ'), ('રેલેની', 'N_NN'), ('શોધના', 'N_NN'), ('અભ્યાસ', 'N_NN'), ('બાદ', 'PSP'), ('શંકાનું', 'N_NN'), ('સમાધાન', 'N_NN'), ('શોધી', 'V_VM'), ('કાઢ્યું', 'V_VAUX'), ('.', 'RD_PUNC')]\n",
            "[('રામને', 'N_NNP'), ('તે', 'DM_DMD'), ('લેખ', 'N_NN'), ('છાપવા', 'QT_QTC'), ('માટે', 'PSP'), ('લંડનની', 'PSP'), ('વિજ્ઞાનને', 'JJ'), ('લગતી', 'JJ'), ('પત્રિકા', 'N_NN'), ('પ્રસિદ્ધ', 'JJ'), ('કરતી', 'N_NNP'), ('સંસ્થામાં', 'N_NNP'), ('મોકલી', 'V_VM'), ('આપ્યો', 'V_VAUX'), ('.', 'RD_PUNC')]\n",
            "[('રામને', 'N_NNP'), ('ક્યારેય', 'JJ'), ('પોતાની', 'PR_PRF'), ('તંદુરસ્તી', 'JJ'), ('વિશે', 'PSP'), ('દરકાર', 'N_NN'), ('કરી', 'V_VM'), ('નહોતી', 'RP_NEG'), ('.', 'RD_PUNC')]\n",
            "[('આસુતોષ', 'PSP'), ('મુખરજી', 'JJ'), ('જેવા', 'JJ'), ('વિદ્વાન', 'JJ'), ('ત્યાં', 'N_NST'), ('ઉપસ્થિત', 'V_VM'), ('હતા', 'V_VAUX'), ('.', 'RD_PUNC')]\n",
            "[('અનાયાસે', 'PSP'), ('રામન', 'N_NNP'), ('જેવા', 'JJ'), ('હોનહાર', 'N_NN'), ('વૈજ્ઞાનિકને', 'PSP'), ('મેળવીને', 'V_VAUX_VNP'), ('પરિષદે', 'N_NNP'), ('ધન્યતા', 'JJ'), ('અનુભવી', 'V_VM'), ('.', 'RD_PUNC')]\n",
            "[('રામન', 'N_NNP'), ('પોતાના', 'PR_PRF'), ('ક્ષેત્રમાં', 'N_NN'), ('એક', 'QT_QTC'), ('તપસ્વીની', 'JJ'), ('જેમ', 'PSP'), ('લાગી', 'V_VM'), ('રહ્યા', 'V_VAUX'), ('.', 'RD_PUNC')]\n",
            "[('રેટિનાને', 'JJ'), ('જોવા', 'N_NN'), ('માટે', 'PSP'), ('હેલમોલજે', 'N_NN'), ('એક', 'QT_QTC'), ('યંત્રની', 'JJ'), ('શોધ', 'N_NN'), ('કરી', 'V_VM'), ('હતી', 'V_VAUX'), ('એને', 'DM_DMD'), ('ઑપ્થેલ્મોસ્કોપ', 'PSP'), ('કહેવામાં', 'JJ'), ('આવે', 'V_VAUX'), ('છે', 'V_VAUX'), ('.', 'RD_PUNC')]\n",
            "[('આ', 'DM_DMD'), ('પદ્ધતિ', 'N_NN'), ('ખૂબ', 'QT_QTF'), ('સાદી', 'JJ'), ('અને', 'CC_CCD'), ('સરળ', 'RB'), ('છે', 'V_VAUX'), ('.', 'RD_PUNC')]\n",
            "[('તે', 'DM_DMD'), ('જ', 'RP_RPD'), ('વખતે', 'N_NN'), ('સામેના', 'JJ'), ('શ્વેત', 'JJ'), ('પડદા', 'N_NN'), ('પર', 'PSP'), ('રેટિનાનું', 'N_NN'), ('મોટું', 'JJ'), ('પ્રતિબિંબ', 'N_NN'), ('જણાવા', 'N_NN'), ('લાગશે', 'JJ'), ('.', 'RD_PUNC')]\n",
            "[('તેવી', 'JJ'), ('જ', 'RP_RPD'), ('રીતે', 'N_NN'), ('સાંજ', 'N_NN'), ('પણ', 'RP_RPD'), ('તેઓ', 'PR_PRP'), ('નિહાળવાનો', 'N_NN'), ('આગ્રહ', 'PSP'), ('રાખતા', 'JJ'), ('અને', 'CC_CCD'), ('પ્રયોગ', 'N_NN'), ('કરતા', 'V_VAUX_VNP'), ('.', 'RD_PUNC')]\n",
            "[('સૂર્યપ્રકાશના', 'N_NN'), ('અભ્યાસ', 'N_NN'), ('સાથે', 'PSP'), ('જ', 'RP_RPD'), ('સમય', 'N_NN'), ('સંકળાયેલો', 'JJ'), ('છે', 'V_VAUX'), ('.', 'RD_PUNC')]\n",
            "[('પડછાયાને', 'N_NN'), ('પડવા', 'N_NN'), ('માટે', 'PSP'), ('કોઈ', 'DM_DMI'), ('આધારની', 'PSP'), ('જરૂર', 'N_NN'), ('નથી', 'RP_NEG'), ('.', 'RD_PUNC')]\n",
            "[('નાનપણથી', 'N_NN'), ('જ', 'RP_RPD'), ('ગેલીલિયોને', 'N_NNP'), ('હાથ', 'N_NN'), ('વડે', 'PSP'), ('ચીજો', 'N_NN'), ('બનાવવાનું', 'N_NN'), (',', 'RD_PUNC'), ('મૉડેલ', 'N_NN'), ('બનાવવાનું', 'N_NN'), ('ગમતું', 'N_NN'), ('હતું', 'V_VAUX'), ('.', 'RD_PUNC')]\n",
            "[('ગણિતજ્ઞ', 'N_NN'), ('માનતો', 'JJ'), ('કે', 'CC_CCS'), ('હજી', 'N_NST'), ('ગેલીલિયો', 'N_NNP'), ('અભ્યાસ', 'N_NN'), ('કરી', 'V_VM'), ('રહ્યો', 'V_VAUX'), ('છે', 'V_VAUX'), (',', 'RD_PUNC'), ('પણ', 'CC_CCD'), ('આમ', 'PSP'), ('જોતજોતામાં', 'PSP'), ('તો', 'RP_RPD'), ('ગેલીલિયોએ', 'N_NNP'), ('ગણિત', 'N_NN'), ('પર', 'PSP'), ('પૂરો', 'N_NN'), ('કાબૂ', 'N_NN'), ('મેળવી', 'V_VM'), ('લીધો', 'V_VM'), ('.', 'RD_PUNC')]\n",
            "[('તેણે', 'PR_PRP'), ('પિઝાના', 'JJ'), ('ગુંબજ', 'N_NN'), ('પર', 'PSP'), ('જઈને', 'N_NN'), ('બે', 'QT_QTC'), ('પથ્થરો', 'N_NN'), ('ફેંક્યાં', 'V_VM'), ('.', 'RD_PUNC')]\n",
            "[('ગેલીલિયોએ', 'N_NNP'), ('બીજો', 'JJ'), ('પ્રયોગ', 'N_NN'), ('કર્યો', 'V_VM'), ('.', 'RD_PUNC')]\n",
            "[('ઍરિસ્ટોટલના', 'DM_DMD'), ('વિરુદ્ધ', 'PSP'), ('બોલવાથી', 'QT_QTC'), ('તેને', 'DM_DMD'), ('પિઝા', 'N_NNP'), ('છોડવાનો', 'JJ'), ('કડવો', 'JJ'), ('અનુભવ', 'N_NN'), ('તો', 'RP_RPD'), ('અગાઉથી', 'JJ'), ('થયો', 'V_VM'), ('હતો', 'V_VAUX'), (';', 'RD_PUNC'), ('તે', 'DM_DMD'), ('પણ', 'RP_RPD'), ('ગેલીલિયો', 'N_NNP'), ('ભૂલ્યો', 'JJ'), ('નહોતો', 'RP_NEG'), ('.', 'RD_PUNC')]\n",
            "[('તારલો', 'JJ'), ('કંઈક', 'DM_DMI'), ('વિચિત્ર', 'JJ'), ('ભાસતો', 'V_VM'), ('હતો', 'V_VAUX'), ('.', 'RD_PUNC')]\n"
          ],
          "name": "stdout"
        }
      ]
    },
    {
      "cell_type": "code",
      "metadata": {
        "id": "7f6y_KF1tacE"
      },
      "source": [
        "dict_true['science'] = y_true\n",
        "dict_pred['science'] = y_pred"
      ],
      "execution_count": null,
      "outputs": []
    },
    {
      "cell_type": "markdown",
      "metadata": {
        "id": "wJtHvCtosxNn"
      },
      "source": [
        "## guj_economy_sample2.txt"
      ]
    },
    {
      "cell_type": "code",
      "metadata": {
        "colab": {
          "base_uri": "https://localhost:8080/"
        },
        "id": "uEzaCJggsxNn",
        "outputId": "debfeda5-dcdb-4cfd-bace-95fe3eb74553"
      },
      "source": [
        "# path = '/content/drive/MyDrive/nlpproject/data/guj_economy_sample2.txt'\n",
        "path = '/content/temp/guj_economy_sample2.txt'\n",
        "def process_file(path):\n",
        "  f = open(path,'r')\n",
        "  tagged_sentence = []\n",
        "  for line in f:\n",
        "    line = line.split()[1:]\n",
        "    temp = []\n",
        "    for i in line:\n",
        "      i = i.split('\\\\')\n",
        "      temp.append((i[0],i[1]))\n",
        "    tagged_sentence.append(temp)\n",
        "\n",
        "  return tagged_sentence\n",
        "\n",
        "\n",
        "tagged_sentence = process_file(path)\n",
        "print(len(tagged_sentence))"
      ],
      "execution_count": null,
      "outputs": [
        {
          "output_type": "stream",
          "text": [
            "1000\n"
          ],
          "name": "stdout"
        }
      ]
    },
    {
      "cell_type": "code",
      "metadata": {
        "id": "WIhEoMZ5sxNo"
      },
      "source": [
        "def word_to_ix(word, ix):\n",
        "    return torch.tensor(ix[word], dtype = torch.long)\n",
        "\n",
        "def char_to_ix(char, ix):\n",
        "    return torch.tensor(ix[char], dtype= torch.long)\n",
        "\n",
        "def tag_to_ix(tag, ix):\n",
        "    return torch.tensor(ix[tag], dtype= torch.long)\n",
        "\n",
        "def sequence_to_idx(sequence, ix):\n",
        "    return torch.tensor([ix[s] for s in sequence], dtype=torch.long)\n",
        "\n",
        "\n",
        "word_to_idx = {}\n",
        "tag_to_idx = {}\n",
        "char_to_idx = {}\n",
        "for sentence in tagged_sentence:\n",
        "    for word, pos_tag in sentence:\n",
        "        if word not in word_to_idx.keys():\n",
        "            word_to_idx[word] = len(word_to_idx)\n",
        "        if pos_tag not in tag_to_idx.keys():\n",
        "            tag_to_idx[pos_tag] = len(tag_to_idx)\n",
        "        for char in word:\n",
        "            if char not in char_to_idx.keys():\n",
        "                char_to_idx[char] = len(char_to_idx)"
      ],
      "execution_count": null,
      "outputs": []
    },
    {
      "cell_type": "code",
      "metadata": {
        "colab": {
          "base_uri": "https://localhost:8080/"
        },
        "id": "O7-uAvsssxNo",
        "outputId": "cad6557c-9df7-4be1-b4d6-e863b752534a"
      },
      "source": [
        "word_vocab_size = len(word_to_idx)\n",
        "tag_vocab_size = len(tag_to_idx)\n",
        "char_vocab_size = len(char_to_idx)\n",
        "\n",
        "print(\"Unique words: {}\".format(len(word_to_idx)))\n",
        "print(\"Unique tags: {}\".format(len(tag_to_idx)))\n",
        "print(\"Unique characters: {}\".format(len(char_to_idx)))"
      ],
      "execution_count": null,
      "outputs": [
        {
          "output_type": "stream",
          "text": [
            "Unique words: 3383\n",
            "Unique tags: 29\n",
            "Unique characters: 105\n"
          ],
          "name": "stdout"
        }
      ]
    },
    {
      "cell_type": "code",
      "metadata": {
        "id": "F19rO9iosxNo"
      },
      "source": [
        "import random\n",
        "\n",
        "tr_random = random.sample(list(range(len(tagged_sentence))), int(0.95 * len(tagged_sentence)))\n",
        "\n",
        "train = [tagged_sentence[i] for i in tr_random]\n",
        "test = [tagged_sentence[i] for i in range(len(tagged_sentence)) if i not in tr_random]"
      ],
      "execution_count": null,
      "outputs": []
    },
    {
      "cell_type": "code",
      "metadata": {
        "colab": {
          "base_uri": "https://localhost:8080/"
        },
        "id": "9U2CiMGlsxNo",
        "outputId": "d294c2d7-0263-4c11-8759-11578340f3d0"
      },
      "source": [
        "print(\"Training set Size \",len(train))\n",
        "print(\"Test set Size \",len(test))\n",
        "print(\"Sample Test\")\n",
        "print(test[2])"
      ],
      "execution_count": null,
      "outputs": [
        {
          "output_type": "stream",
          "text": [
            "Training set Size  950\n",
            "Test set Size  50\n",
            "Sample Test\n",
            "[('માનવીઓ', 'N_NN'), ('માટે', 'PSP'), ('વીજળી', 'N_NN'), ('વિનાના', 'PSP'), ('જીવનની', 'N_NN'), ('કલ્પના', 'N_NN'), ('જ', 'RP_RPD'), ('મુશ્કેલ', 'JJ'), ('છે', 'V_VAUX'), ('.', 'RD_PUNC')]\n"
          ],
          "name": "stdout"
        }
      ]
    },
    {
      "cell_type": "code",
      "metadata": {
        "id": "pmT3iZSysxNo"
      },
      "source": [
        "WORD_EMBEDDING_DIM = 1024\n",
        "CHAR_EMBEDDING_DIM = 128\n",
        "WORD_HIDDEN_DIM = 1024\n",
        "CHAR_HIDDEN_DIM = 1024\n",
        "EPOCHS = 20\n",
        "\n",
        "class DualLSTMTagger(nn.Module):\n",
        "  def __init__(self, word_embedding_dim, word_hidden_dim, char_embedding_dim, char_hidden_dim, word_vocab_size, char_vocab_size, tag_vocab_size):\n",
        "    super(DualLSTMTagger, self).__init__()\n",
        "    self.word_embedding = nn.Embedding(word_vocab_size, word_embedding_dim)\n",
        "    \n",
        "    self.char_embedding = nn.Embedding(char_vocab_size, char_embedding_dim)\n",
        "    self.char_lstm = nn.LSTM(char_embedding_dim, char_hidden_dim)\n",
        "    self.lstm = nn.LSTM(word_embedding_dim + char_hidden_dim, word_hidden_dim,bidirectional=True)\n",
        "\n",
        "    self.hidden2tag = nn.Linear(word_hidden_dim*2, tag_vocab_size)\n",
        "      \n",
        "  def forward(self, sentence, words):\n",
        "    embeds = self.word_embedding(sentence)\n",
        "    char_hidden_final = []\n",
        "    for word in words:\n",
        "        char_embeds = self.char_embedding(word)\n",
        "        _, (char_hidden, char_cell_state) = self.char_lstm(char_embeds.view(len(word), 1, -1))\n",
        "        word_char_hidden_state = char_hidden.view(-1)\n",
        "        char_hidden_final.append(word_char_hidden_state)\n",
        "    char_hidden_final = torch.stack(tuple(char_hidden_final))\n",
        "    \n",
        "    combined = torch.cat((embeds, char_hidden_final), 1)\n",
        "\n",
        "    lstm_out, _ = self.lstm(combined.view(len(sentence), 1, -1))\n",
        "    tag_space = self.hidden2tag(lstm_out.view(len(sentence), -1))\n",
        "    \n",
        "    tag_scores = F.log_softmax(tag_space, dim=1)\n",
        "    return tag_scores"
      ],
      "execution_count": null,
      "outputs": []
    },
    {
      "cell_type": "code",
      "metadata": {
        "id": "sDJDV2XmsxNo"
      },
      "source": [
        "model = DualLSTMTagger(WORD_EMBEDDING_DIM, WORD_HIDDEN_DIM, CHAR_EMBEDDING_DIM, CHAR_HIDDEN_DIM, word_vocab_size, char_vocab_size, tag_vocab_size)\n",
        "\n",
        "use_cuda = torch.cuda.is_available()\n",
        "device = torch.device(\"cuda:0\" if use_cuda else \"cpu\")\n",
        "\n",
        "if use_cuda:\n",
        "    model.cuda()\n",
        "\n",
        "loss_function = nn.NLLLoss()\n",
        "optimizer = optim.Adam(model.parameters(), lr=0.001)\n"
      ],
      "execution_count": null,
      "outputs": []
    },
    {
      "cell_type": "code",
      "metadata": {
        "colab": {
          "base_uri": "https://localhost:8080/"
        },
        "id": "ZXrYBVL-sxNp",
        "outputId": "3b6e2ab0-25ee-45d3-faa2-0cde87bbcf70"
      },
      "source": [
        "accuracy_list = []\n",
        "loss_list = []\n",
        "interval = round(len(train) / 100.)\n",
        "epochs = EPOCHS\n",
        "e_interval = round(epochs / 10.)\n",
        "for epoch in range(epochs):\n",
        "    acc = 0 #to keep track of accuracy\n",
        "    loss = 0 # To keep track of the loss value\n",
        "    i = 0\n",
        "    for sentence_tag in train:\n",
        "        i += 1\n",
        "        words = [torch.tensor(sequence_to_idx(s[0], char_to_idx), dtype=torch.long).to(device) for s in sentence_tag]\n",
        "        sentence = [s[0] for s in sentence_tag]\n",
        "        sentence = torch.tensor(sequence_to_idx(sentence, word_to_idx), dtype=torch.long).to(device)\n",
        "        targets = [s[1] for s in sentence_tag]\n",
        "        targets = torch.tensor(sequence_to_idx(targets, tag_to_idx), dtype=torch.long).to(device)\n",
        "        \n",
        "        model.zero_grad()\n",
        "        \n",
        "        tag_scores = model(sentence, words)\n",
        "        \n",
        "        loss = loss_function(tag_scores, targets)\n",
        "        loss.backward()\n",
        "        optimizer.step()\n",
        "        loss += loss.item()\n",
        "        _, indices = torch.max(tag_scores, 1)\n",
        "#         print(indices == targets)\n",
        "        acc += torch.mean(torch.tensor(targets == indices, dtype=torch.float))\n",
        "        if i % interval == 0:\n",
        "            print(\"Epoch {} Running;\\t{}% Complete\".format(epoch + 1, i / interval), end = \"\\r\", flush = True)\n",
        "    loss = loss / len(train)\n",
        "    acc = acc / len(train)\n",
        "    loss_list.append(float(loss))\n",
        "    accuracy_list.append(float(acc))\n",
        "    if (epoch + 1) % e_interval == 0:\n",
        "        print(\"Epoch {} Completed,\\tLoss {}\\tAccuracy: {}\".format(epoch + 1, np.mean(loss_list[-e_interval:]), np.mean(accuracy_list[-e_interval:]))) "
      ],
      "execution_count": null,
      "outputs": [
        {
          "output_type": "stream",
          "text": [
            "/usr/local/lib/python3.7/dist-packages/ipykernel_launcher.py:12: UserWarning: To copy construct from a tensor, it is recommended to use sourceTensor.clone().detach() or sourceTensor.clone().detach().requires_grad_(True), rather than torch.tensor(sourceTensor).\n",
            "  if sys.path[0] == '':\n",
            "/usr/local/lib/python3.7/dist-packages/ipykernel_launcher.py:14: UserWarning: To copy construct from a tensor, it is recommended to use sourceTensor.clone().detach() or sourceTensor.clone().detach().requires_grad_(True), rather than torch.tensor(sourceTensor).\n",
            "  \n",
            "/usr/local/lib/python3.7/dist-packages/ipykernel_launcher.py:16: UserWarning: To copy construct from a tensor, it is recommended to use sourceTensor.clone().detach() or sourceTensor.clone().detach().requires_grad_(True), rather than torch.tensor(sourceTensor).\n",
            "  app.launch_new_instance()\n",
            "/usr/local/lib/python3.7/dist-packages/ipykernel_launcher.py:28: UserWarning: To copy construct from a tensor, it is recommended to use sourceTensor.clone().detach() or sourceTensor.clone().detach().requires_grad_(True), rather than torch.tensor(sourceTensor).\n"
          ],
          "name": "stderr"
        },
        {
          "output_type": "stream",
          "text": [
            "Epoch 2 Completed,\tLoss 0.0003099353273228189\tAccuracy: 0.9176735579967499\n",
            "Epoch 4 Completed,\tLoss 9.302111948272795e-06\tAccuracy: 0.9955221116542816\n",
            "Epoch 6 Completed,\tLoss 4.381164551148231e-07\tAccuracy: 0.9995464384555817\n",
            "Epoch 8 Completed,\tLoss 4.81934900875558e-08\tAccuracy: 0.9999473392963409\n",
            "Epoch 10 Completed,\tLoss 1.629335555364264e-08\tAccuracy: 0.9999999403953552\n",
            "Epoch 12 Completed,\tLoss 6.167964805570136e-09\tAccuracy: 0.9999999403953552\n",
            "Epoch 14 Completed,\tLoss 2.142867439047791e-09\tAccuracy: 0.9999999403953552\n",
            "Epoch 16 Completed,\tLoss 7.239426003113891e-10\tAccuracy: 0.9999999403953552\n",
            "Epoch 18 Completed,\tLoss 2.3166171064792351e-10\tAccuracy: 0.9999999403953552\n",
            "Epoch 20 Completed,\tLoss 5.791543893768347e-11\tAccuracy: 0.9999999403953552\n"
          ],
          "name": "stdout"
        }
      ]
    },
    {
      "cell_type": "code",
      "metadata": {
        "colab": {
          "base_uri": "https://localhost:8080/"
        },
        "id": "uYFQPxL1sxNp",
        "outputId": "8ea87c42-0134-4793-d103-9ace8625e502"
      },
      "source": [
        "y_true = []\n",
        "y_pred = []\n",
        "for sentence in test:\n",
        "  seq = \"\"\n",
        "  for s in range(len(sentence)):\n",
        "    if(s==(len(sentence)-1)):\n",
        "      seq+= sentence[s][0]\n",
        "    else:\n",
        "      seq += sentence[s][0] + \" \"\n",
        "    y_true.append(sentence[s][1])\n",
        "  \n",
        "  seq = seq.split()\n",
        "  with torch.no_grad():\n",
        "    words = [torch.tensor(sequence_to_idx(s[0], char_to_idx), dtype=torch.long).to(device) for s in seq]\n",
        "    sentence = torch.tensor(sequence_to_idx(seq, word_to_idx), dtype=torch.long).to(device)\n",
        "        \n",
        "    tag_scores = model(sentence, words)\n",
        "    _, indices = torch.max(tag_scores, 1)\n",
        "    ret = []\n",
        "    for i in range(len(indices)):\n",
        "        for key, value in tag_to_idx.items():\n",
        "            if indices[i] == value:\n",
        "                ret.append((seq[i], key))\n",
        "                y_pred.append(key)\n",
        "    print(ret)"
      ],
      "execution_count": null,
      "outputs": [
        {
          "output_type": "stream",
          "text": [
            "[('વાણિજ્યિક', 'QT_QTC'), ('ઊર્જામાં', 'JJ'), ('કોલસો', 'N_NN'), (',', 'RD_PUNC'), ('પેટ્રોલિયમ', 'JJ'), ('અને', 'CC_CCD'), ('વીજળીનો', 'N_NN'), ('(', 'RD_SYM'), ('વિદ્યુત', 'N_NN'), (')', 'RD_SYM'), ('સમાવેશ', 'N_NN'), ('થાય', 'V_VM'), ('છે', 'V_VAUX'), ('.', 'RD_PUNC')]\n",
            "[('મધ્યપૂર્વના', 'N_NN'), ('ઘણા', 'QT_QTF'), ('દેશો', 'N_NN'), ('ધનિક', 'JJ'), ('છે', 'V_VAUX'), ('એટલા', 'N_NN'), ('માટે', 'PSP'), ('કે', 'CC_CCS'), ('તેઓ', 'PR_PRP'), ('પાસે', 'PSP'), ('વિપુલ', 'N_NN'), ('તેલભંડારો', 'JJ'), ('છે', 'V_VAUX'), ('.', 'RD_PUNC')]\n",
            "[('માનવીઓ', 'N_NN'), ('માટે', 'PSP'), ('વીજળી', 'N_NN'), ('વિનાના', 'V_VAUX_VNP'), ('જીવનની', 'N_NN'), ('કલ્પના', 'QT_QTF'), ('જ', 'RP_RPD'), ('મુશ્કેલ', 'JJ'), ('છે', 'V_VAUX'), ('.', 'RD_PUNC')]\n",
            "[('જુદા', 'JJ'), ('જુદા', 'JJ'), ('પ્રદેશોને', 'N_NN'), ('એકબીજા', 'N_NN'), ('સાથે', 'PSP'), ('જોડીને', 'N_NN'), ('સાધનોનો', 'N_NN'), ('મહત્તમ', 'JJ'), ('ઉપયોગ', 'N_NN'), ('કરવાનું', 'V_VAUX_VNP'), ('કામ', 'N_NN'), ('પણ', 'RP_RPD'), ('વાહનવ્યવહાર', 'N_NN'), ('વિના', 'PSP'), ('કેવી', 'DM_DMQ'), ('રીતે', 'N_NN'), ('શક્ય', 'JJ'), ('બને', 'V_VM'), ('?', 'RD_PUNC')]\n",
            "[('પરંતુ', 'CC_CCD'), ('આમ', 'PSP'), ('ત્યારે', 'N_NST'), ('જ', 'RP_RPD'), ('બને', 'V_VM'), ('જ્યારે', 'N_NST'), ('માનવીને', 'N_NN'), ('યોગ્ય', 'JJ'), ('રહેઠાણ', 'N_NN'), (',', 'RD_PUNC'), ('યોગ્ય', 'JJ'), ('દાક્તરી', 'N_NN'), ('સુવિધા', 'N_NN'), ('અને', 'CC_CCD'), ('યોગ્ય', 'JJ'), ('શિક્ષણ', 'N_NN'), ('પ્રાપ્ત', 'JJ'), ('થાય', 'V_VM'), ('.', 'RD_PUNC')]\n",
            "[('ભારતીય', 'JJ'), ('બંધારણે', 'QT_QTC'), ('રાજ્યને', 'JJ'), ('આદેશ', 'DM_DMD'), ('આપ્યો', 'V_VM'), ('છે', 'V_VAUX'), ('કે', 'CC_CCS'), ('૬થી', 'QT_QTC'), ('૧૪', 'QT_QTC'), ('વર્ષ', 'N_NN'), ('સુધીનાં', 'PSP'), ('બાળકોને', 'V_VAUX_VNP'), ('પ્રાથમિક', 'N_NN'), ('શિક્ષણ', 'N_NN'), ('મફત', 'JJ'), ('અને', 'CC_CCD'), ('ફરજિયાત', 'JJ'), ('ધોરણે', 'N_NN'), ('પ્રાપ્ત', 'JJ'), ('થવું', 'V_VAUX'), ('જોઈએ', 'V_VAUX'), ('.', 'RD_PUNC')]\n",
            "[('દેશના', 'N_NN'), ('લોકોના', 'V_VAUX_VNP'), ('આરોગ્ય', 'V_VAUX_VNP'), ('વિશેની', 'PSP'), ('ચર્ચામાં', 'N_NN'), ('લોકોનું', 'N_NN'), ('સરેરાશ', 'N_NN'), ('આયુષ્ય', 'N_NN'), ('એક', 'QT_QTC'), ('મહત્ત્વનો', 'JJ'), ('માપદંડ', 'N_NN'), ('ગણાય', 'V_VM'), ('છે', 'V_VAUX'), ('.', 'RD_PUNC')]\n",
            "[('સરકાર', 'N_NN'), ('દ્વારા', 'PSP'), ('ચલાવવામાં', 'N_NN'), ('આવતી', 'V_VAUX_VNP'), ('આર્થિક', 'JJ'), ('પ્રવૃત્તિઓને', 'N_NN'), ('જાહેર', 'JJ'), ('ક્ષેત્ર', 'N_NN'), ('કહેવામાં', 'V_VAUX'), ('આવે', 'V_VAUX'), ('છે', 'V_VAUX'), ('.', 'RD_PUNC')]\n",
            "[('આજ', 'V_VAUX_VNP'), ('સુધીમાં', 'PSP'), ('નવ', 'N_NN'), ('પંચવર્ષીય', 'JJ'), ('યોજનાઓ', 'V_VM'), ('અને', 'CC_CCD'), ('વાર્ષિક', 'JJ'), ('યોજનાઓ', 'N_NN'), ('પૂરી', 'JJ'), ('કરવામાં', 'V_VAUX_VNP'), ('આવી', 'V_VAUX'), ('છે', 'V_VAUX'), ('.', 'RD_PUNC')]\n"
          ],
          "name": "stdout"
        },
        {
          "output_type": "stream",
          "text": [
            "/usr/local/lib/python3.7/dist-packages/ipykernel_launcher.py:14: UserWarning: To copy construct from a tensor, it is recommended to use sourceTensor.clone().detach() or sourceTensor.clone().detach().requires_grad_(True), rather than torch.tensor(sourceTensor).\n",
            "  \n",
            "/usr/local/lib/python3.7/dist-packages/ipykernel_launcher.py:15: UserWarning: To copy construct from a tensor, it is recommended to use sourceTensor.clone().detach() or sourceTensor.clone().detach().requires_grad_(True), rather than torch.tensor(sourceTensor).\n",
            "  from ipykernel import kernelapp as app\n"
          ],
          "name": "stderr"
        },
        {
          "output_type": "stream",
          "text": [
            "[('ભારતના', 'N_NNP'), ('આયોજનનો', 'N_NNP'), ('એક', 'QT_QTC'), ('મહત્ત્વનો', 'JJ'), ('ઉદ્દેશ', 'N_NN'), ('આર્થિક', 'JJ'), ('અસમાનતા', 'N_NN'), ('ઘટાડવાનો', 'V_VAUX_VNP'), ('રહ્યો', 'V_VAUX'), ('છે', 'V_VAUX'), ('.', 'RD_PUNC')]\n",
            "[('અસમાનતાનું', 'N_NN'), ('બીજું', 'JJ'), ('પાસું', 'N_NN'), ('પ્રાદેશિક', 'JJ'), ('અસમાનતા', 'N_NN'), ('તરીકે', 'PSP'), ('ઓળખાય', 'V_VM'), ('છે', 'V_VAUX'), ('.', 'RD_PUNC')]\n",
            "[('ભારત', 'N_NNP'), ('કૃષિપ્રધાન', 'JJ'), ('દેશ', 'N_NN'), ('રહ્યો', 'V_VAUX'), ('છે', 'V_VAUX'), ('.', 'RD_PUNC')]\n",
            "[('ખેતીમાં', 'N_NN'), ('સુધરેલાં', 'QT_QTC'), ('બિયારણો', 'N_NN'), (',', 'RD_PUNC'), ('રાસાયણિક', 'JJ'), ('ખાતરો', 'N_NN'), (',', 'RD_PUNC'), ('જંતુનાશક', 'N_NN'), ('દવાઓનો', 'JJ'), ('ઉપયોગ', 'V_VM'), ('વધ્યો', 'V_VAUX'), ('છે', 'V_VAUX'), ('.', 'RD_PUNC')]\n",
            "[('આને', 'DM_DMD'), ('ઔદ્યોગિક', 'JJ'), ('સ્થગિતતાનો', 'PSP'), ('સમય', 'N_NN'), ('કહેવામાં', 'JJ'), ('આવે', 'V_VAUX'), ('છે', 'V_VAUX'), ('.', 'RD_PUNC')]\n",
            "[('જોકે', 'CC_CCS'), ('તાજેતરના', 'JJ'), ('દાયકાનાં', 'JJ'), ('આર્થિક', 'JJ'), ('પરિવર્તનોએ', 'JJ'), ('ભારતની', 'N_NNP'), ('ભાવિ', 'JJ'), ('આર્થિક', 'JJ'), ('પ્રગતિ', 'N_NN'), ('માટે', 'PSP'), ('આશાસ્પદ', 'N_NN'), ('વાતાવરણ', 'N_NN'), ('સર્જ્યુ', 'JJ'), ('છે', 'V_VAUX'), ('.', 'RD_PUNC')]\n",
            "[('લોકોનાં', 'N_NN'), ('જીવનની', 'N_NN'), ('ગુણવત્તા', 'N_NN'), ('સુધરે', 'PSP'), ('તો', 'CC_CCD'), ('જ', 'RP_RPD'), ('આયોજિત', 'JJ'), ('આર્થિક', 'JJ'), ('વિકાસના', 'N_NN'), ('પ્રયાસો', 'N_NN'), ('ફળીભૂત', 'V_VM'), ('થયા', 'V_VM'), ('ગણાય', 'V_VM'), ('.', 'RD_PUNC')]\n",
            "[('આમ', 'PSP'), (',', 'RD_PUNC'), ('ભારતમાં', 'N_NNP'), ('અંકુશો', 'N_NN'), ('અને', 'CC_CCD'), ('નિયંત્રણો', 'N_NN'), ('ક્રમશ:', 'JJ'), ('ઘટે', 'V_VM'), ('અને', 'CC_CCD'), ('બજારતંત્ર', 'N_NN'), ('દ્વારા', 'PSP'), ('આર્થિક', 'JJ'), ('નિર્ણયો', 'N_NN'), ('લેવાય', 'V_VM'), ('તેવી', 'JJ'), ('વ્યવસ્થાને', 'N_NN'), ('ઉદારીકરણ', 'JJ'), ('કહેવામાં', 'JJ'), ('આવ્યું', 'V_VAUX'), ('છે', 'V_VAUX'), ('.', 'RD_PUNC')]\n",
            "[('આર્થિક', 'JJ'), ('સુધારા', 'N_NN'), ('પહેલાં', 'N_NST'), ('ઊંચી', 'JJ'), ('જકાતો', 'N_NN'), ('અને', 'CC_CCD'), ('આયાત', 'N_NN'), ('-', 'RD_PUNC'), ('નિયંત્રણોવાળી', 'N_NN'), ('વેપારનીતિ', 'N_NN'), ('હતી', 'V_VAUX'), ('.', 'RD_PUNC')]\n",
            "[('વૈશ્વિકીકરણની', 'N_NN'), ('દિશામાં', 'N_NN'), ('વિનિમયદરમાં', 'JJ'), ('થયેલા', 'V_VAUX_VNP'), ('ફેરફારે', 'N_NN'), ('કૃષિપેદાશોના', 'N_NN'), ('ભાવમાં', 'N_NN'), ('એવાં', 'DM_DMD'), ('પરિવર્તનો', 'N_NN'), ('કર્યાં', 'JJ'), ('કે', 'CC_CCS'), ('જેથી', 'PSP'), ('તેની', 'DM_DMD'), ('નિકાસો', 'N_NN'), ('વધી', 'V_VM'), ('છે', 'V_VAUX'), ('.', 'RD_PUNC')]\n",
            "[('ખેતી', 'N_NN'), ('મહદંશે', 'PSP'), ('વરસાદ', 'N_NN'), ('પર', 'PSP'), ('આધારિત', 'JJ'), ('હોવાથી', 'V_VAUX_VNP'), ('ખેતીમાં', 'N_NN'), ('ઉત્પાદન', 'N_NN'), ('અને', 'CC_CCD'), ('રોજગારી', 'N_NN'), ('ખૂબ', 'QT_QTF'), ('જ', 'RP_RPD'), ('અનિશ્ચિત', 'N_NN'), ('બની', 'V_VM'), ('રહે', 'V_VAUX'), ('છે', 'V_VAUX'), ('.', 'RD_PUNC')]\n",
            "[('આવા', 'JJ'), ('ઉદ્યોગોમાં', 'JJ'), ('આયોજનકાળ', 'N_NN'), ('દરમિયાન', 'PSP'), ('ઉત્પાદન', 'N_NN'), ('વધવાની', 'N_NN'), ('સાથે', 'PSP'), ('કુલ', 'JJ'), ('રાષ્ટ્રીય', 'JJ'), ('આવકમાં', 'N_NN'), ('અને', 'CC_CCD'), ('કુલ', 'JJ'), ('રોજગારી', 'N_NN'), ('પૂરી', 'JJ'), ('પાડવામાં', 'RP_RPD'), ('પણ', 'RP_RPD'), ('તેમનો', 'DM_DMD'), ('ફાળો', 'N_NN'), ('વધતો', 'JJ'), ('ગયો', 'N_NN'), ('છે', 'V_VAUX'), ('.', 'RD_PUNC')]\n",
            "[('ભારતમાં', 'N_NNP'), ('આયોજનની', 'N_NN'), ('સાથે', 'PSP'), ('સાથે', 'PSP'), ('જાહેર', 'JJ'), ('ક્ષેત્રનું', 'N_NN'), ('મહત્ત્વ', 'N_NN'), ('પણ', 'RP_RPD'), ('ઉત્તરોત્તર', 'JJ'), ('વધવા', 'V_VAUX_VNP'), ('પામ્યું', 'V_VM'), ('છે', 'V_VAUX'), ('.', 'RD_PUNC')]\n",
            "[('સંદેશાવ્યવહાર', 'N_NN'), ('જેમાં', 'PR_PRL'), ('તાર', 'N_NN'), (',', 'RD_PUNC'), ('ટપાલ', 'N_NN'), (',', 'RD_PUNC'), ('ટેલિફોન', 'N_NN'), (',', 'RD_PUNC'), ('ઈન્ટરનેટ', 'N_NN'), ('વગેરે', 'PSP'), ('સેવાઓનો', 'N_NN'), ('સમાવેશ', 'N_NN'), ('થાય', 'V_VM'), ('છે', 'V_VAUX'), ('.', 'RD_PUNC')]\n",
            "[('ઉત્પાદન', 'N_NN'), ('અને', 'CC_CCD'), ('ઉપભોગ', 'N_NN'), ('જેવી', 'JJ'), ('આર્થિક', 'JJ'), ('પ્રવૃત્તિઓમાં', 'N_NN'), ('પર્યાવરણ', 'N_NN'), ('સંસાધન', 'JJ'), ('અને', 'CC_CCD'), ('ઊર્જા', 'N_NN'), ('પૂરાં', 'JJ'), ('પાડે', 'V_VM'), ('છે', 'V_VAUX'), ('.', 'RD_PUNC')]\n",
            "[('આ', 'DM_DMD'), ('છે', 'V_VAUX'), ('પર્યાવરણની', 'QT_QTF'), ('પ્રથમ', 'QT_QTO'), ('ભૂમિકા', 'N_NN'), ('.', 'RD_PUNC')]\n",
            "[('વધતી', 'V_VAUX_VNP'), ('જતી', 'V_VAUX_VNP'), ('વસ્તીની', 'PSP'), ('માંગને', 'N_NN'), ('સંતોષવા', 'V_VAUX_VNP'), ('તથા', 'CC_CCD'), ('વિકસિત', 'JJ'), ('દેશોની', 'N_NN'), ('જીવનશૈલીની', 'JJ'), ('દેખાદેખીના', 'N_NN'), ('કારણે', 'PSP'), ('પર્યાવરણીય', 'JJ'), ('સંસાધનોની', 'N_NN'), ('માંગ', 'N_NN'), ('વધી', 'V_VM'), ('.', 'RD_PUNC')]\n",
            "[('આત્યંતિક', 'DM_DMD'), ('પર્યાવરણવાદી', 'N_NN'), ('ગમે', 'PSP'), ('તે', 'DM_DMD'), ('ભોગે', 'N_NN'), ('પર્યાવરણને', 'N_NN'), ('જાળવવા', 'JJ'), ('ઈચ્છે', 'V_VM'), ('છે', 'V_VAUX'), ('.', 'RD_PUNC')]\n",
            "[('પર્યાવરણીય', 'JJ'), ('ગુણવત્તાના', 'N_NN'), ('ઈચ્છનીય', 'JJ'), ('સ્તર', 'N_NN'), ('અને', 'CC_CCD'), ('વાસ્તવિક', 'JJ'), ('સ્તર', 'N_NN'), ('વચ્ચે', 'N_NST'), ('જો', 'CC_CCD'), ('તફાવત', 'N_NN'), ('હોય', 'V_VAUX'), ('તો', 'CC_CCD'), ('અર્થતંત્રમાં', 'N_NN'), ('પર્યાવરણીય', 'JJ'), ('નીતિ', 'N_NN'), ('જરૂરી', 'JJ'), ('છે', 'V_VAUX'), (',', 'RD_PUNC'), ('તેમ', 'PSP'), ('કહી', 'V_VM'), ('શકાય', 'V_VAUX'), ('.', 'RD_PUNC')]\n",
            "[('ધારો', 'N_NNP'), ('કે', 'CC_CCS'), ('એક', 'QT_QTC'), ('સરોવરની', 'N_NN'), ('આજુબાજુ', 'V_VAUX_VNP'), ('કેટલાક', 'QT_QTF'), ('ઔદ્યોગિક', 'JJ'), ('એકમો', 'V_VM'), ('આવેલા', 'V_VAUX'), ('છે', 'V_VAUX'), ('.', 'RD_PUNC')]\n",
            "[('કારણકે', 'CC_CCS'), ('ધંધામાં', 'N_NN'), ('પણ', 'CC_CCD'), ('અનેક', 'JJ'), ('પ્રકારની', 'N_NN'), ('અનિશ્ચિતતાઓ', 'N_NN'), ('રહેલી', 'N_NN'), ('છે', 'V_VAUX'), ('.', 'RD_PUNC')]\n",
            "[('દા.ત.', 'CC_CCS_UT'), ('વેચાણ', 'N_NN'), ('ઘટે', 'V_VM'), ('તો', 'RP_RPD'), ('શું', 'PR_PRQ'), ('?', 'RD_PUNC')]\n",
            "[('આ', 'DM_DMD'), ('નિર્ણયશક્તિ', 'N_NN'), ('એ', 'DM_DMD'), ('સંચાલકો', 'N_NN'), ('માટે', 'PSP'), ('કસોટી', 'JJ'), ('છે', 'V_VAUX'), ('.', 'RD_PUNC')]\n",
            "[('નીતિ', 'N_NN'), ('સંચાલકો', 'V_VAUX'), (',', 'RD_PUNC'), ('અધિકારીઓ', 'N_NN'), ('અને', 'CC_CCD'), ('કર્મચારીમાં', 'JJ'), ('એક', 'QT_QTC'), ('કંપનીની', 'JJ'), ('છાપ', 'N_NN'), ('ઊભી', 'N_NN'), ('કરે', 'V_VM'), ('છે', 'V_VAUX'), ('અને', 'CC_CCD'), ('કંપનીની', 'JJ'), ('કુશળતાનો', 'JJ'), ('પરિચય', 'N_NN'), ('આપે', 'V_VM'), ('છે', 'V_VAUX'), ('.', 'RD_PUNC')]\n",
            "[('દા.ત.', 'CC_CCS_UT'), ('કોઈ', 'DM_DMI'), ('સ્કૂટર', 'N_NN'), ('બનાવતી', 'V_VAUX_VNP'), ('કંપની', 'N_NN'), ('મોટરસાઈકલ', 'PSP'), ('બનાવવાનું', 'N_NN'), ('કામ', 'N_NN'), ('હાથ', 'N_NN'), ('ધરે', 'V_VM'), ('તો', 'CC_CCD'), ('એના', 'DM_DMD'), ('માટે', 'PSP'), ('નવીન', 'N_NN'), ('સાહસ', 'N_NN'), ('કહેવાય', 'V_VM'), ('.', 'RD_PUNC')]\n",
            "[('અંદાજપત્ર', 'N_NN'), ('ધંધાકીય', 'JJ'), ('એકમના', 'N_NN'), ('ધ્યેયને', 'N_NN'), (',', 'RD_PUNC'), ('નીતિને', 'N_NN'), ('અને', 'CC_CCD'), ('વિધિને', 'N_NN'), ('સ્પષ્ટ', 'JJ'), ('કરે', 'V_VM'), ('છે', 'V_VAUX'), ('.', 'RD_PUNC')]\n",
            "[('જ્યાં', 'N_NST'), ('એકમ', 'N_NN'), ('નાનું', 'N_NN'), ('હોય', 'V_VAUX'), (',', 'RD_PUNC'), ('શિસ્ત', 'N_NN'), ('અને', 'CC_CCD'), ('અંકુશની', 'N_NN'), ('વધુ', 'QT_QTF'), ('જરૂર', 'N_NN'), ('હોય', 'V_VAUX'), (',', 'RD_PUNC'), ('ઉત્પાદન', 'N_NN'), ('પદ્ધતિ', 'N_NN'), ('સ્વયંસંચાલિત', 'PSP'), ('યંત્રો', 'N_NN'), ('પર', 'PSP'), ('આધારિત', 'JJ'), ('હોય', 'V_VAUX'), ('અને', 'CC_CCD'), ('એક', 'QT_QTC'), ('જ', 'RP_RPD'), ('પ્રકારનું', 'RP_RPD'), ('કાર્ય', 'N_NN'), ('વારંવાર', 'N_NN'), ('કરવાનું', 'JJ'), ('હોય', 'V_VAUX'), ('ત્યાં', 'N_NST'), ('રૈખિક', 'JJ'), ('વ્યવસ્થાતંત્ર', 'N_NN'), ('સફળ', 'JJ'), ('પુરવાર', 'PSP'), ('થાય', 'V_VM'), ('છે', 'V_VAUX'), ('.', 'RD_PUNC')]\n",
            "[('દરેક', 'JJ'), ('વિભાગ', 'N_NN'), ('અને', 'CC_CCD'), ('વિભાગીય', 'JJ'), ('અધિકારીઓ', 'N_NN'), ('સ્વતંત્ર', 'JJ'), ('હોવાથી', 'V_VAUX_VNP'), ('સંકલનનું', 'QT_QTC'), ('કાર્ય', 'N_NN'), ('મુશ્કેલ', 'JJ'), ('બને', 'V_VM'), ('છે', 'V_VAUX'), ('.', 'RD_PUNC')]\n",
            "[('અર્થશાસ્ત્ર', 'N_NN'), ('અમંગળ', 'N_NN'), ('અને', 'CC_CCD'), ('આફતરૂપ', 'N_NN'), ('વિજ્ઞાન', 'N_NN'), ('છે', 'V_VAUX'), ('એવો', 'JJ'), ('ડર', 'N_NN'), ('વ્યક્ત', 'JJ'), ('કરવામાં', 'JJ'), ('આવ્યો', 'V_VAUX'), ('.', 'RD_PUNC')]\n",
            "[('કંઈ', 'DM_DMI'), ('નહીં', 'N_NN'), ('તો', 'RP_RPD'), ('છેવટે', 'N_NN'), (',', 'RD_PUNC'), ('મંદિરે', 'N_NN'), ('જવા', 'N_NN'), ('માટે', 'PSP'), ('સમય', 'N_NN'), ('ફાળવ્યો', 'V_VM'), ('છે', 'V_VAUX'), ('જેનો', 'N_NN'), ('ઉપયોગ', 'N_NN'), ('આવક', 'N_NN'), ('કમાવવા', 'JJ'), ('માટે', 'PSP'), ('થઈ', 'V_VM'), ('શક્યો', 'V_VAUX'), ('હોત', 'V_VAUX'), ('.', 'RD_PUNC')]\n",
            "[('એની', 'PR_PRP'), ('પાસે', 'PSP'), ('સમય', 'N_NN'), ('મર્યાદિત', 'V_VM'), ('છે', 'V_VAUX'), ('.', 'RD_PUNC')]\n",
            "[('પરંતુ', 'CC_CCD'), ('રૉબિન્સ', 'N_NNP'), ('માને', 'V_VM'), ('છે', 'V_VAUX'), ('કે', 'CC_CCS'), ('અર્થશાસ્ત્ર', 'N_NN'), ('વાસ્તવદર્શી', 'JJ'), ('વિજ્ઞાન', 'N_NN'), ('કરવામાં', 'JJ'), ('આવે', 'V_VAUX'), ('તોજ', 'RP_RPD'), ('કાર્યકારણ', 'JJ'), ('સંબંધ', 'N_NN'), ('અંગેના', 'JJ'), ('સચોટ', 'JJ'), ('નિયમો', 'N_NN'), ('પ્રસ્થાપિત', 'V_VM'), ('કરી', 'V_VM'), ('શકાશે', 'V_VAUX'), ('.', 'RD_PUNC')]\n",
            "[('તેથી', 'PSP'), ('જરૂરિયાતો', 'N_NN'), ('અમર્યાદિત', 'N_NN'), ('છે', 'V_VAUX'), ('તેમ', 'PSP'), ('સ્પષ્ટ', 'JJ'), ('થાય', 'V_VM'), ('છે', 'V_VAUX'), ('.', 'RD_PUNC')]\n",
            "[('કેટલીક', 'QT_QTF'), ('જરૂરિયાતો', 'N_NN'), ('સંતોષી', 'N_NN'), ('શકાય', 'V_VAUX'), ('છે', 'V_VAUX'), (',', 'RD_PUNC'), ('પરંતુ', 'CC_CCD'), ('તે', 'DM_DMD'), ('ફરીથી', 'N_NN'), ('ઉદભવે', 'V_VM'), ('છે', 'V_VAUX'), ('.', 'RD_PUNC')]\n",
            "[('એટલું', 'JJ'), ('જ', 'RP_RPD'), ('નહિ', 'RP_NEG'), ('પરંતુ', 'CC_CCD'), ('આ', 'DM_DMD'), ('સાધનોનો', 'N_NN'), ('એક', 'QT_QTC'), ('યા', 'PSP'), ('બીજો', 'JJ'), ('એટલેકે', 'PSP'), ('વૈકલ્પિક', 'JJ'), ('ઉપયોગ', 'N_NN'), ('શક્ય', 'JJ'), ('છે', 'V_VAUX'), ('.', 'RD_PUNC')]\n",
            "[('પરંતુ', 'CC_CCD'), ('તાજેતરમાં', 'JJ'), ('અર્થશાસ્ત્રીઓએ', 'N_NN'), ('પરિવર્તનલક્ષી', 'RD_PUNC'), ('અભિગમ', 'N_NN'), ('અપનાવ્યો', 'V_VM'), ('છે', 'V_VAUX'), ('.', 'RD_PUNC')]\n",
            "[('સાધનોની', 'JJ'), ('અછત', 'N_NN'), ('છે', 'V_VAUX'), ('તેથી', 'PSP'), ('સાધનોનો', 'N_NN'), ('ઉપયોગ', 'N_NN'), ('કરકસરભર્યો', 'JJ'), ('થવો', 'V_VAUX_VNP'), ('જોઈએ', 'V_VAUX'), ('.', 'RD_PUNC')]\n",
            "[('ઉત્પાદનની', 'N_NN'), ('કાર્યક્ષમતા', 'N_NN'), ('એટલે', 'PSP'), ('સાધનોની', 'JJ'), ('એવી', 'JJ'), ('ફાળવણી', 'N_NN'), ('કે', 'CC_CCS'), ('જેમાં', 'PR_PRL'), ('ફેરફાર', 'N_NN'), ('કરવામાં', 'V_VAUX_VNP'), ('આવે', 'V_VAUX'), ('તો', 'CC_CCD'), ('કુલ', 'JJ'), ('ઉત્પાદન', 'N_NN'), ('ઘટી', 'V_VM'), ('જાય', 'V_VAUX'), ('.', 'RD_PUNC')]\n",
            "[('શું', 'PR_PRQ'), ('ઉપલબ્ધ', 'QT_QTC'), ('સાધનોનો', 'N_NN'), ('પૂર્ણતમ', 'JJ'), ('ઉપયોગ', 'N_NN'), ('થાય', 'V_VM'), ('છે', 'V_VAUX'), ('?', 'RD_PUNC')]\n",
            "[('સાધનોની', 'N_NN'), ('ફાળવણી', 'N_NN'), ('બદલાય', 'V_VM'), ('છે', 'V_VAUX'), ('.', 'RD_PUNC')]\n",
            "[('મોજશોખની', 'N_NN'), ('વસ્તુઓના', 'JJ'), ('ઉત્પાદન', 'N_NN'), ('માટે', 'PSP'), ('વધુ', 'QT_QTF'), ('સાધનો', 'N_NN'), ('ફાળવવામાં', 'PSP'), ('આવે', 'V_VM'), ('છે', 'V_VAUX'), ('.', 'RD_PUNC')]\n"
          ],
          "name": "stdout"
        }
      ]
    },
    {
      "cell_type": "code",
      "metadata": {
        "id": "MbZJ7pDtsxNp"
      },
      "source": [
        "dict_true['economy'] = y_true\n",
        "dict_pred['economy'] = y_pred"
      ],
      "execution_count": null,
      "outputs": []
    },
    {
      "cell_type": "markdown",
      "metadata": {
        "id": "Qub1MoNKswpq"
      },
      "source": [
        "## guj_entertainment_sample3"
      ]
    },
    {
      "cell_type": "code",
      "metadata": {
        "colab": {
          "base_uri": "https://localhost:8080/"
        },
        "id": "dC-Wr7eiswpr",
        "outputId": "a3eefc00-4d29-402f-9950-3a1af59abf4d"
      },
      "source": [
        "# path = '/content/drive/MyDrive/nlpproject/data/guj_entertainment_sample3.txt'\n",
        "path = '/content/temp/guj_entertainment_sample3.txt'\n",
        "def process_file(path):\n",
        "  f = open(path,'r')\n",
        "  tagged_sentence = []\n",
        "  for line in f:\n",
        "    line = line.split()[1:]\n",
        "    temp = []\n",
        "    for i in line:\n",
        "      i = i.split('\\\\')\n",
        "      temp.append((i[0],i[1]))\n",
        "    tagged_sentence.append(temp)\n",
        "\n",
        "  return tagged_sentence\n",
        "\n",
        "\n",
        "tagged_sentence = process_file(path)\n",
        "print(len(tagged_sentence))"
      ],
      "execution_count": null,
      "outputs": [
        {
          "output_type": "stream",
          "text": [
            "1000\n"
          ],
          "name": "stdout"
        }
      ]
    },
    {
      "cell_type": "code",
      "metadata": {
        "id": "yXG_iiWJswpr"
      },
      "source": [
        "def word_to_ix(word, ix):\n",
        "    return torch.tensor(ix[word], dtype = torch.long)\n",
        "\n",
        "def char_to_ix(char, ix):\n",
        "    return torch.tensor(ix[char], dtype= torch.long)\n",
        "\n",
        "def tag_to_ix(tag, ix):\n",
        "    return torch.tensor(ix[tag], dtype= torch.long)\n",
        "\n",
        "def sequence_to_idx(sequence, ix):\n",
        "    return torch.tensor([ix[s] for s in sequence], dtype=torch.long)\n",
        "\n",
        "\n",
        "word_to_idx = {}\n",
        "tag_to_idx = {}\n",
        "char_to_idx = {}\n",
        "for sentence in tagged_sentence:\n",
        "    for word, pos_tag in sentence:\n",
        "        if word not in word_to_idx.keys():\n",
        "            word_to_idx[word] = len(word_to_idx)\n",
        "        if pos_tag not in tag_to_idx.keys():\n",
        "            tag_to_idx[pos_tag] = len(tag_to_idx)\n",
        "        for char in word:\n",
        "            if char not in char_to_idx.keys():\n",
        "                char_to_idx[char] = len(char_to_idx)"
      ],
      "execution_count": null,
      "outputs": []
    },
    {
      "cell_type": "code",
      "metadata": {
        "colab": {
          "base_uri": "https://localhost:8080/"
        },
        "id": "jZbGv6ibswpr",
        "outputId": "905141d4-9ce2-497d-863c-34f95c0eb420"
      },
      "source": [
        "word_vocab_size = len(word_to_idx)\n",
        "tag_vocab_size = len(tag_to_idx)\n",
        "char_vocab_size = len(char_to_idx)\n",
        "\n",
        "print(\"Unique words: {}\".format(len(word_to_idx)))\n",
        "print(\"Unique tags: {}\".format(len(tag_to_idx)))\n",
        "print(\"Unique characters: {}\".format(len(char_to_idx)))"
      ],
      "execution_count": null,
      "outputs": [
        {
          "output_type": "stream",
          "text": [
            "Unique words: 3715\n",
            "Unique tags: 28\n",
            "Unique characters: 64\n"
          ],
          "name": "stdout"
        }
      ]
    },
    {
      "cell_type": "code",
      "metadata": {
        "id": "0gL7rQqUswpr"
      },
      "source": [
        "import random\n",
        "\n",
        "tr_random = random.sample(list(range(len(tagged_sentence))), int(0.95 * len(tagged_sentence)))\n",
        "\n",
        "train = [tagged_sentence[i] for i in tr_random]\n",
        "test = [tagged_sentence[i] for i in range(len(tagged_sentence)) if i not in tr_random]"
      ],
      "execution_count": null,
      "outputs": []
    },
    {
      "cell_type": "code",
      "metadata": {
        "colab": {
          "base_uri": "https://localhost:8080/"
        },
        "id": "V64xVEh9swpr",
        "outputId": "85130e76-a605-4d18-922f-7d5325f6b0f5"
      },
      "source": [
        "print(\"Training set Size \",len(train))\n",
        "print(\"Test set Size \",len(test))\n",
        "print(\"Sample Test\")\n",
        "print(test[2])"
      ],
      "execution_count": null,
      "outputs": [
        {
          "output_type": "stream",
          "text": [
            "Training set Size  950\n",
            "Test set Size  50\n",
            "Sample Test\n",
            "[('કોઈ', 'DM_DMI'), ('ડબકડોયાએ', 'N_NN'), ('અધીરાઈ', 'N_NN'), ('દેખાડી', 'V_VM'), ('.', 'RD_PUNC')]\n"
          ],
          "name": "stdout"
        }
      ]
    },
    {
      "cell_type": "code",
      "metadata": {
        "id": "I3NJwtUFswps"
      },
      "source": [
        "WORD_EMBEDDING_DIM = 1024\n",
        "CHAR_EMBEDDING_DIM = 128\n",
        "WORD_HIDDEN_DIM = 1024\n",
        "CHAR_HIDDEN_DIM = 1024\n",
        "EPOCHS = 20\n",
        "\n",
        "class DualLSTMTagger(nn.Module):\n",
        "  def __init__(self, word_embedding_dim, word_hidden_dim, char_embedding_dim, char_hidden_dim, word_vocab_size, char_vocab_size, tag_vocab_size):\n",
        "    super(DualLSTMTagger, self).__init__()\n",
        "    self.word_embedding = nn.Embedding(word_vocab_size, word_embedding_dim)\n",
        "    \n",
        "    self.char_embedding = nn.Embedding(char_vocab_size, char_embedding_dim)\n",
        "    self.char_lstm = nn.LSTM(char_embedding_dim, char_hidden_dim)\n",
        "    self.lstm = nn.LSTM(word_embedding_dim + char_hidden_dim, word_hidden_dim,bidirectional=True)\n",
        "\n",
        "    self.hidden2tag = nn.Linear(word_hidden_dim*2, tag_vocab_size)\n",
        "      \n",
        "  def forward(self, sentence, words):\n",
        "    embeds = self.word_embedding(sentence)\n",
        "    char_hidden_final = []\n",
        "    for word in words:\n",
        "        char_embeds = self.char_embedding(word)\n",
        "        _, (char_hidden, char_cell_state) = self.char_lstm(char_embeds.view(len(word), 1, -1))\n",
        "        word_char_hidden_state = char_hidden.view(-1)\n",
        "        char_hidden_final.append(word_char_hidden_state)\n",
        "    char_hidden_final = torch.stack(tuple(char_hidden_final))\n",
        "    \n",
        "    combined = torch.cat((embeds, char_hidden_final), 1)\n",
        "\n",
        "    lstm_out, _ = self.lstm(combined.view(len(sentence), 1, -1))\n",
        "    tag_space = self.hidden2tag(lstm_out.view(len(sentence), -1))\n",
        "    \n",
        "    tag_scores = F.log_softmax(tag_space, dim=1)\n",
        "    return tag_scores"
      ],
      "execution_count": null,
      "outputs": []
    },
    {
      "cell_type": "code",
      "metadata": {
        "id": "mYk1U2tJswps"
      },
      "source": [
        "model = DualLSTMTagger(WORD_EMBEDDING_DIM, WORD_HIDDEN_DIM, CHAR_EMBEDDING_DIM, CHAR_HIDDEN_DIM, word_vocab_size, char_vocab_size, tag_vocab_size)\n",
        "\n",
        "use_cuda = torch.cuda.is_available()\n",
        "device = torch.device(\"cuda:0\" if use_cuda else \"cpu\")\n",
        "\n",
        "if use_cuda:\n",
        "    model.cuda()\n",
        "\n",
        "loss_function = nn.NLLLoss()\n",
        "optimizer = optim.Adam(model.parameters(), lr=0.001)\n"
      ],
      "execution_count": null,
      "outputs": []
    },
    {
      "cell_type": "code",
      "metadata": {
        "colab": {
          "base_uri": "https://localhost:8080/"
        },
        "id": "fnNrc4U9swps",
        "outputId": "de4b8fb0-72f3-4dd1-8b10-c5a83226b84f"
      },
      "source": [
        "accuracy_list = []\n",
        "loss_list = []\n",
        "interval = round(len(train) / 100.)\n",
        "epochs = EPOCHS\n",
        "e_interval = round(epochs / 10.)\n",
        "for epoch in range(epochs):\n",
        "    acc = 0 #to keep track of accuracy\n",
        "    loss = 0 # To keep track of the loss value\n",
        "    i = 0\n",
        "    for sentence_tag in train:\n",
        "        i += 1\n",
        "        words = [torch.tensor(sequence_to_idx(s[0], char_to_idx), dtype=torch.long).to(device) for s in sentence_tag]\n",
        "        sentence = [s[0] for s in sentence_tag]\n",
        "        sentence = torch.tensor(sequence_to_idx(sentence, word_to_idx), dtype=torch.long).to(device)\n",
        "        targets = [s[1] for s in sentence_tag]\n",
        "        targets = torch.tensor(sequence_to_idx(targets, tag_to_idx), dtype=torch.long).to(device)\n",
        "        \n",
        "        model.zero_grad()\n",
        "        \n",
        "        tag_scores = model(sentence, words)\n",
        "        \n",
        "        loss = loss_function(tag_scores, targets)\n",
        "        loss.backward()\n",
        "        optimizer.step()\n",
        "        loss += loss.item()\n",
        "        _, indices = torch.max(tag_scores, 1)\n",
        "#         print(indices == targets)\n",
        "        acc += torch.mean(torch.tensor(targets == indices, dtype=torch.float))\n",
        "        if i % interval == 0:\n",
        "            print(\"Epoch {} Running;\\t{}% Complete\".format(epoch + 1, i / interval), end = \"\\r\", flush = True)\n",
        "    loss = loss / len(train)\n",
        "    acc = acc / len(train)\n",
        "    loss_list.append(float(loss))\n",
        "    accuracy_list.append(float(acc))\n",
        "    if (epoch + 1) % e_interval == 0:\n",
        "        print(\"Epoch {} Completed,\\tLoss {}\\tAccuracy: {}\".format(epoch + 1, np.mean(loss_list[-e_interval:]), np.mean(accuracy_list[-e_interval:]))) "
      ],
      "execution_count": null,
      "outputs": [
        {
          "output_type": "stream",
          "text": [
            "/usr/local/lib/python3.7/dist-packages/ipykernel_launcher.py:12: UserWarning: To copy construct from a tensor, it is recommended to use sourceTensor.clone().detach() or sourceTensor.clone().detach().requires_grad_(True), rather than torch.tensor(sourceTensor).\n",
            "  if sys.path[0] == '':\n",
            "/usr/local/lib/python3.7/dist-packages/ipykernel_launcher.py:14: UserWarning: To copy construct from a tensor, it is recommended to use sourceTensor.clone().detach() or sourceTensor.clone().detach().requires_grad_(True), rather than torch.tensor(sourceTensor).\n",
            "  \n",
            "/usr/local/lib/python3.7/dist-packages/ipykernel_launcher.py:16: UserWarning: To copy construct from a tensor, it is recommended to use sourceTensor.clone().detach() or sourceTensor.clone().detach().requires_grad_(True), rather than torch.tensor(sourceTensor).\n",
            "  app.launch_new_instance()\n",
            "/usr/local/lib/python3.7/dist-packages/ipykernel_launcher.py:28: UserWarning: To copy construct from a tensor, it is recommended to use sourceTensor.clone().detach() or sourceTensor.clone().detach().requires_grad_(True), rather than torch.tensor(sourceTensor).\n"
          ],
          "name": "stderr"
        },
        {
          "output_type": "stream",
          "text": [
            "Epoch 2 Completed,\tLoss 0.0007416141124849673\tAccuracy: 0.8606749176979065\n",
            "Epoch 4 Completed,\tLoss 3.91687990486389e-06\tAccuracy: 0.9939270615577698\n",
            "Epoch 6 Completed,\tLoss 4.514842959224552e-05\tAccuracy: 0.9983723759651184\n",
            "Epoch 8 Completed,\tLoss 1.44216889452764e-05\tAccuracy: 0.9940479397773743\n",
            "Epoch 10 Completed,\tLoss 2.983638651699039e-07\tAccuracy: 0.9974450469017029\n",
            "Epoch 12 Completed,\tLoss 1.0308655262747379e-07\tAccuracy: 0.9997340142726898\n",
            "Epoch 14 Completed,\tLoss 3.662401404369575e-08\tAccuracy: 0.9999063909053802\n",
            "Epoch 16 Completed,\tLoss 1.56302899512184e-08\tAccuracy: 0.9999999403953552\n",
            "Epoch 18 Completed,\tLoss 6.532944185622114e-09\tAccuracy: 0.9999999403953552\n",
            "Epoch 20 Completed,\tLoss 2.635146767460128e-09\tAccuracy: 0.9999999403953552\n"
          ],
          "name": "stdout"
        }
      ]
    },
    {
      "cell_type": "code",
      "metadata": {
        "colab": {
          "base_uri": "https://localhost:8080/"
        },
        "id": "HMnPlkgXswps",
        "outputId": "9c22f048-d033-4dda-837a-e7101928e547"
      },
      "source": [
        "y_true = []\n",
        "y_pred = []\n",
        "for sentence in test:\n",
        "  seq = \"\"\n",
        "  for s in range(len(sentence)):\n",
        "    if(s==(len(sentence)-1)):\n",
        "      seq+= sentence[s][0]\n",
        "    else:\n",
        "      seq += sentence[s][0] + \" \"\n",
        "    y_true.append(sentence[s][1])\n",
        "  \n",
        "  seq = seq.split()\n",
        "  with torch.no_grad():\n",
        "    words = [torch.tensor(sequence_to_idx(s[0], char_to_idx), dtype=torch.long).to(device) for s in seq]\n",
        "    sentence = torch.tensor(sequence_to_idx(seq, word_to_idx), dtype=torch.long).to(device)\n",
        "        \n",
        "    tag_scores = model(sentence, words)\n",
        "    _, indices = torch.max(tag_scores, 1)\n",
        "    ret = []\n",
        "    for i in range(len(indices)):\n",
        "        for key, value in tag_to_idx.items():\n",
        "            if indices[i] == value:\n",
        "                ret.append((seq[i], key))\n",
        "                y_pred.append(key)\n",
        "    print(ret)"
      ],
      "execution_count": null,
      "outputs": [
        {
          "output_type": "stream",
          "text": [
            "[('ગમે', 'PSP'), ('એમ', 'PSP'), ('પણ', 'CC_CCD'), ('મૂળે', 'JJ'), ('તો', 'RP_RPD'), ('બામણનો', 'N_NN'), ('દીકરો', 'N_NN'), (',', 'RD_PUNC'), ('ને', 'CC_CCD'), ('ઘરના', 'N_NN'), ('સંસ્કાર', 'N_NNP'), ('એટલે', 'PSP'), ('જાણે', 'PSP'), ('સરસ્વતી', 'N_NNP'), ('તો', 'RP_RPD'), ('જીભે', 'N_NN'), ('જ', 'RP_RPD'), ('-', 'RD_PUNC'), ('આમ', 'PSP'), ('એના', 'PR_PRP'), ('વખાણ', 'N_NN'), ('ન', 'RP_NEG'), ('કરવા', 'RD_PUNC'), ('જોઈએ', 'V_VM'), (',', 'RD_PUNC'), ('એ', 'PR_PRP'), ('`', 'RD_PUNC'), ('રૂલબુકની', 'N_NN'), ('`', 'RD_PUNC'), ('વિરુદ્ધની', 'JJ'), ('વાત', 'N_NN'), ('થઈ', 'V_VM'), ('.', 'RD_PUNC')]\n",
            "[('પણ', 'CC_CCD'), ('આવડો', 'PR_PRP'), ('મોટો', 'JJ'), ('અધિકારી', 'N_NN'), ('અમસ્તો', 'N_NN'), ('થયો', 'V_VM'), ('છું', 'V_VAUX'), ('?', 'RD_PUNC')]\n",
            "[('કોઈ', 'DM_DMI'), ('ડબકડોયાએ', 'N_NN'), ('અધીરાઈ', 'PSP'), ('દેખાડી', 'N_NN'), ('.', 'RD_PUNC')]\n",
            "[('મને', 'PR_PRP'), ('એવો', 'JJ'), ('ય', 'RP_RPD'), ('વિચાર', 'N_NN'), ('આવે', 'V_VM'), ('કે', 'CC_CCS'), ('માણસ', 'N_NN'), ('થોડો', 'QT_QTF'), ('ઉપર', 'N_NST'), ('ઊઠીને', 'PSP'), ('વિચારે', 'N_NN'), ('તો', 'RP_RPD'), ('શો', 'N_NN'), ('વાંધો', 'N_NN'), ('આવે', 'V_VM'), ('?', 'RD_PUNC')]\n",
            "[('છે', 'V_VAUX'), ('ને', 'RP_RPD'), ('જિગર', 'N_NN'), ('!', 'RD_PUNC')]\n",
            "[('કૉલેજમાં', 'N_NN'), ('ભણતા', 'JJ'), ('ત્યારે', 'N_NST'), ('મારી', 'PR_PRP'), ('નોટને', 'N_NN'), ('અદ્ધરથી', 'CC_CCD'), ('ઝીલતી', 'N_NN'), ('છોકરીના', 'PSP'), ('અપમાને', 'N_NN'), ('ય', 'RP_RPD'), ('સહન', 'N_NNP'), ('કર્યા', 'V_VM'), ('છે', 'V_VAUX'), ('ને', 'CC_CCD'), ('ઊજળા', 'PSP'), ('ભૈબંધો', 'V_VAUX_VNP'), ('સાથે', 'PSP'), ('બેસીને', 'N_NN'), ('ચા', 'N_NN'), ('ય', 'RP_RPD'), ('પીધી', 'V_VM'), ('છે', 'V_VAUX'), ('.', 'RD_PUNC')]\n",
            "[('આય', 'JJ'), ('ખરું', 'RP_RPD'), ('છે', 'V_VAUX'), ('!', 'RD_PUNC'), ('તે', 'PR_PRP'), ('હું', 'PR_PRP'), ('શું', 'PR_PRQ'), ('એમ', 'PSP'), ('કહું', 'V_VM'), ('કે', 'CC_CCS'), ('એ', 'DM_DMD'), ('સાહેબ', 'N_NN'), ('આઘા', 'N_NN'), ('રહેજો', 'N_NN'), ('હું', 'PR_PRP'), ('હરિજન', 'V_VM'), ('છું', 'V_VAUX'), ('!', 'RD_PUNC')]\n",
            "[('કામ', 'N_NN'), ('કરી', 'V_VM'), ('આપવાનું', 'DM_DMD'), ('વચન', 'N_NN'), ('આપ્યું', 'V_VM'), ('.', 'RD_PUNC')]\n",
            "[('કોઈ', 'DM_DMI'), ('દિવસ', 'N_NN'), ('જમવા', 'V_VM'), ('તો', 'RP_RPD'), ('બોલાવો', 'V_VM'), ('.', 'RD_PUNC')]\n",
            "[('અટક્યો', 'V_VAUX'), ('.', 'RD_PUNC'), ('મોલમાં', 'N_NN'), ('ગયો', 'V_VAUX'), ('.', 'RD_PUNC')]\n",
            "[('એ', 'DM_DMD'), ('દિવસે', 'N_NN'), ('મને', 'PR_PRP'), ('મળેલા', 'PR_PRP'), ('પત્રમાં', 'N_NN'), ('ધ્રૂજતા', 'V_VM'), ('અક્ષરો', 'N_NN'), ('મારા', 'PR_PRP'), ('માટે', 'PSP'), ('નવાઈભર્યા', 'N_NN'), ('હતા', 'V_VAUX'), ('.', 'RD_PUNC')]\n"
          ],
          "name": "stdout"
        },
        {
          "output_type": "stream",
          "text": [
            "/usr/local/lib/python3.7/dist-packages/ipykernel_launcher.py:14: UserWarning: To copy construct from a tensor, it is recommended to use sourceTensor.clone().detach() or sourceTensor.clone().detach().requires_grad_(True), rather than torch.tensor(sourceTensor).\n",
            "  \n",
            "/usr/local/lib/python3.7/dist-packages/ipykernel_launcher.py:15: UserWarning: To copy construct from a tensor, it is recommended to use sourceTensor.clone().detach() or sourceTensor.clone().detach().requires_grad_(True), rather than torch.tensor(sourceTensor).\n",
            "  from ipykernel import kernelapp as app\n"
          ],
          "name": "stderr"
        },
        {
          "output_type": "stream",
          "text": [
            "[('મોટા', 'JJ'), ('અક્ષરોથી', 'N_NN'), ('ભરાઈ', 'V_VM'), ('ગયેલા', 'V_VM'), ('એ', 'DM_DMD'), ('પત્રમાં', 'N_NN'), ('બાકી', 'JJ'), ('રહેલો', 'V_VM'), ('અવકાશ', 'PR_PRP'), ('મારે', 'PR_PRP'), ('ભરવાનો', 'N_NN'), ('હતો', 'V_VAUX'), ('.', 'RD_PUNC')]\n",
            "[('એ', 'DM_DMD'), ('ફાટ્યા', 'N_NN'), ('મોંએ', 'N_NN'), ('ટી.વી.માં', 'JJ'), ('પડતાં', 'N_NN'), ('તકમરિયાંને', 'N_NN'), ('એમ', 'PSP'), ('તાકી', 'V_VM'), ('રહેલા', 'V_VAUX'), ('જાણે', 'PSP'), ('એ', 'DM_DMD'), ('કશી', 'PSP'), ('ઉમેદની', 'RD_PUNC'), ('ફૂલખંડી', 'N_NNP'), ('હોય', 'V_VAUX'), ('.', 'RD_PUNC')]\n",
            "[('જાણે', 'PSP'), ('મારા', 'PR_PRP'), ('શરીરે', 'N_NN'), ('વીંટળાયેલ', 'JJ'), ('નાગ', 'N_NN'), ('એની', 'PR_PRP'), ('સામે', 'PSP'), ('ફેણ', 'V_VAUX_VNP'), ('ઊંચી', 'JJ'), ('કરીને', 'V_VAUX_VNP'), ('ઊભો', 'V_VM'), ('હતો', 'V_VAUX'), ('.', 'RD_PUNC')]\n",
            "[('દીવાલ', 'N_NN'), ('ઘડિયાળ', 'N_NN'), ('પાછળ', 'PSP'), ('હતી', 'V_VAUX'), ('.', 'RD_PUNC')]\n",
            "[('એ', 'DM_DMD'), ('સ્મરણો', 'PSP'), ('સાથે', 'PSP'), ('મારો', 'PR_PRP'), ('એ', 'PR_PRP'), ('ભૂતકાળ', 'N_NN'), ('પણ', 'RP_RPD'), ('ઢસડાઈ', 'PSP'), ('આવ્યો', 'V_VM'), ('હતો', 'V_VAUX'), ('.', 'RD_PUNC')]\n",
            "[('`', 'RD_PUNC'), ('માધ્યંદિની', 'PSP'), ('.', 'RD_PUNC'), ('`', 'RD_PUNC')]\n",
            "[('હું', 'PR_PRP'), ('ફળિયા', 'N_NN'), ('વચ્ચે', 'N_NST'), ('ઊભો', 'JJ'), ('રહ્યો', 'V_VAUX'), (',', 'RD_PUNC'), ('જ્યાં', 'N_NST'), ('થોડા', 'QT_QTF'), ('સમય', 'N_NN'), ('પહેલાં', 'N_NST'), ('પેલું', 'V_VAUX_VNP'), ('કૂતરું', 'N_NN'), ('મને', 'PR_PRP'), ('ભસતું', 'V_VAUX_VNP'), ('હતું', 'V_VAUX'), ('.', 'RD_PUNC')]\n",
            "[('મારી', 'PR_PRP'), ('દુનિયા', 'N_NN'), ('?', 'RD_PUNC'), ('જેનો', 'PR_PRL'), ('એક', 'QT_QTC'), ('છેડે', 'N_NN'), ('હું', 'PR_PRP'), ('ઊભો', 'JJ'), ('હતો', 'V_VAUX'), (',', 'RD_PUNC'), ('બીજા', 'JJ'), ('છેડે', 'N_NN'), ('મારી', 'PR_PRP'), ('ગૃહસ્થી', 'JJ'), ('હતી', 'V_VAUX'), (',', 'RD_PUNC'), ('ત્રીજા', 'V_VAUX_VNP'), ('છેડે', 'N_NN'), ('આ', 'DM_DMD'), ('લોકો', 'N_NN'), ('હતા', 'V_VAUX'), ('અને', 'CC_CCD'), ('ચોથો', 'JJ'), ('છેડો', 'N_NN'), ('ખુલ્લો', 'JJ'), ('હતો', 'V_VAUX'), ('.', 'RD_PUNC')]\n",
            "[('તમે', 'PR_PRP'), ('જુઓ', 'V_VM'), ('તો', 'RP_RPD'), ('....', 'RD_PUNC'), ('મુશ્તાક', 'N_NNP'), ('એટલે', 'PSP'), ('પડછંદ', 'N_NNP'), ('શરીર', 'N_NN'), (',', 'RD_PUNC'), ('તોછડી', 'N_NN'), ('ભાષા', 'N_NN'), (',', 'RD_PUNC'), ('કાબરચીતરડાં', 'N_NN'), ('કપડાં', 'N_NN'), (',', 'RD_PUNC'), ('અસ્તવ્યસ્ત', 'N_NN'), ('દાઢી', 'N_NN'), ('ને', 'CC_CCD'), ('એના', 'PR_PRP'), ('પર', 'PSP'), ('પરાણે', 'N_NN'), ('ચીટકાવેલી', 'V_VM'), ('લાગે', 'V_VM'), ('તેવી', 'JJ'), ('મૂંછ', 'V_VAUX'), (',', 'RD_PUNC'), ('ખખડધજ', 'N_NN'), ('સાઈકલ', 'N_NN'), ('પર', 'PSP'), ('ટિફિનો', 'N_NNP'), ('લટકાવીને', 'V_VAUX_VNP'), ('સતત', 'JJ'), ('ફિલ્મી', 'JJ'), ('ધૂનો', 'N_NN'), ('ગણગણતો', 'N_NN'), ('ટિફિન', 'N_NN'), ('આપવા', 'V_VAUX_VNP'), ('આવે', 'V_VM'), ('ત્યારે', 'N_NST'), ('તમારો', 'PR_PRP'), ('ચહેરો', 'N_NN'), ('અણગમાથી', 'N_NN'), ('ઊભરાઈ', 'JJ'), ('રહે', 'V_VM'), ('છે', 'V_VAUX'), ('.', 'RD_PUNC')]\n",
            "[('તેની', 'PR_PRP'), ('ભાષા', 'N_NN'), ('તમારા', 'PR_PRP'), ('જેવા', 'N_NN'), ('સદ્દગૃહસ્થને', 'N_NN'), ('ગમે', 'PSP'), ('તેવી', 'JJ'), ('સભ્ય', 'V_VAUX'), ('છે', 'V_VAUX'), ('.', 'RD_PUNC')]\n",
            "[('એરકન્ડિશન્ડ', 'PR_PRP'), ('શોપમાં', 'N_NN'), ('બેસતાં', 'N_NN'), ('સોળના', 'N_NST'), ('ભાવના', 'N_NN'), ('કારીગરોએ', 'N_NN'), ('કરેલી', 'CC_CCD'), ('ભૂલો', 'N_NN'), ('સુધારવાનું', 'JJ'), ('કામ', 'N_NN'), ('તમને', 'PR_PRP'), ('મળતું', 'N_NN'), ('.', 'RD_PUNC')]\n",
            "[('મુશ્તાક', 'N_NNP'), ('સાથે', 'PSP'), ('સીધી', 'N_NN'), ('ટક્કર', 'JJ'), ('લેવા', 'JJ'), ('મનસુખ', 'N_NNP'), ('રાજી', 'N_NN'), ('નહોતો', 'RP_NEG'), ('.', 'RD_PUNC')]\n",
            "[('જાણે', 'PSP'), ('આંતરરાષ્ટ્રીય', 'N_NN'), ('બૉર્ડર', 'N_NN'), ('હોય', 'V_VAUX'), ('એવા', 'JJ'), ('ભારથી', 'JJ'), ('એ', 'DM_DMD'), ('બોલતો', 'V_VM'), (',', 'RD_PUNC'), ('એટલે', 'PSP'), ('જ', 'RP_RPD'), ('મનસુખ', 'N_NNP'), ('પણ', 'RP_RPD'), ('કહેતો', 'V_VAUX_VNP'), (',', 'RD_PUNC'), ('`', 'RD_PUNC'), ('દાદા', 'N_NN'), (',', 'RD_PUNC'), ('તમે', 'PR_PRP'), ('કહો', 'N_NN'), ('તો', 'RP_RPD'), ('વાઘા', 'JJ'), ('બૉર્ડર', 'N_NN'), ('પણ', 'RP_RPD'), ('પાર', 'N_NN'), ('કરી', 'V_VM'), ('જાઉં', 'V_VAUX'), (',', 'RD_PUNC'), ('પણ', 'CC_CCD'), ('આ', 'DM_DMD'), ('મુશ્તાક', 'N_NNP'), ('સાથે', 'PSP'), ('બાથ', 'N_NN'), ('ભીડવામાં', 'N_NN'), ('મારું', 'PR_PRP'), ('કામ', 'N_NN'), ('નહીં', 'RP_NEG'), ('.', 'RD_PUNC'), ('`', 'RD_PUNC')]\n",
            "[('ટાઢે', 'N_NN'), ('પાણીએ', 'RB'), ('ઉપાધિ', 'CC_CCD'), ('જતી', 'V_VAUX_VNP'), ('હોય', 'V_VAUX'), ('પછી', 'PSP'), ('કોણ', 'PR_PRQ'), ('આવી', 'JJ'), ('જફામાં', 'N_NN'), ('પડે', 'V_VM'), ('?', 'RD_PUNC')]\n",
            "[('ભંગારવાળાને', 'JJ'), ('આપી', 'V_VM'), ('દઉં', 'V_VAUX'), ('?', 'RD_PUNC')]\n",
            "[('ભીટ્ટુ', 'N_NN'), ('સાથેની', 'PSP'), ('લડાઈ', 'N_NN'), (',', 'RD_PUNC'), ('ઝઘડા', 'N_NN'), ('કે', 'CC_CCS'), ('મારામારી', 'N_NN'), ('જલદીથી', 'JJ'), ('ભુલાઈ', 'N_NN'), ('જતાં', 'V_VM'), ('.', 'RD_PUNC')]\n",
            "[('સાથે', 'PSP'), ('રમવાની', 'N_NN'), ('અને', 'CC_CCD'), ('શરતો', 'N_NN'), ('લગાવવાની', 'JJ'), ('મજા', 'N_NN'), ('પણ', 'RP_RPD'), ('પડતી', 'V_VAUX_VNP'), ('.', 'RD_PUNC')]\n",
            "[('ભલે', 'PSP'), ('જૂની', 'JJ'), ('થઈ', 'V_VM'), ('છે', 'V_VAUX'), (',', 'RD_PUNC'), ('એક', 'QT_QTC'), ('-', 'RD_PUNC'), ('બે', 'QT_QTC'), ('કાણાં', 'N_NN'), ('પડ્યાં', 'V_VM'), ('છે', 'V_VAUX'), (',', 'RD_PUNC'), ('સળિયા', 'N_NN'), ('હચમચી', 'N_NN'), ('ગયા', 'N_NN'), ('છે', 'V_VAUX'), ('છતાં', 'RP_RPD'), ('છત્રી', 'N_NN'), ('સાવ', 'PSP'), ('નકામી', 'N_NN'), ('નથી', 'RP_NEG'), ('.', 'RD_PUNC')]\n",
            "[('ધીમેથી', 'RB'), ('દોરો', 'N_NN'), ('છોડે', 'V_VM'), (',', 'RD_PUNC'), ('આંટા', 'V_VM'), ('ઉકેલે', 'RD_PUNC'), (',', 'RD_PUNC'), ('છાપાનાં', 'RD_PUNC'), ('કાગળ', 'N_NN'), ('કાઢી', 'JJ'), ('નાખી', 'N_NN'), (',', 'RD_PUNC'), ('છત્રીને', 'N_NN'), ('ઝકઝોરે', 'V_VM'), (',', 'RD_PUNC'), ('સેપટ', 'N_NN'), ('ખંખેરી', 'JJ'), ('ચાંપ', 'N_NN'), ('પર', 'PSP'), ('અંગૂઠો', 'V_VM'), ('દબાવે', 'N_NN'), (',', 'RD_PUNC'), ('ફટાક', 'PSP'), ('કરતી', 'V_VAUX_VNP'), ('છત્રી', 'N_NN'), ('ખૂલે', 'JJ'), ('.', 'RD_PUNC')]\n",
            "[('વરસાદ', 'N_NN'), ('પડે', 'V_VM'), ('તેની', 'DM_DMD'), ('રાહ', 'N_NN'), ('જોઉં', 'V_VM'), ('.', 'RD_PUNC')]\n",
            "[('તેના', 'PR_PRP'), ('મદદનીશ', 'N_NN'), ('તરીકે', 'PSP'), ('કામે', 'N_NN'), ('લાગી', 'V_VM'), ('જાઉં', 'V_VAUX'), ('.', 'RD_PUNC')]\n",
            "[('લો', 'V_VM'), (',', 'RD_PUNC'), ('બાબાશેઠ', 'N_NN'), ('તમારી', 'PR_PRP'), ('છત્રી', 'N_NN'), ('.', 'RD_PUNC')]\n",
            "[('એ', 'DM_DMD'), ('વખતે', 'N_NN'), ('એ', 'DM_DMD'), ('મૌન', 'N_NN'), ('બની', 'V_VM'), ('જાય', 'V_VAUX'), ('.', 'RD_PUNC')]\n",
            "[('કલીબહેન', 'N_NNP'), (',', 'RD_PUNC'), ('તમે', 'PR_PRP'), ('ય', 'RP_RPD'), ('છત્રી', 'N_NN'), ('જ', 'RP_RPD'), ('છો', 'V_VAUX'), ('ને', 'RP_RPD'), ('.', 'RD_PUNC')]\n",
            "[('કલીબહેન', 'N_NNP'), ('હસે', 'V_VM'), ('.', 'RD_PUNC')]\n",
            "[('વસ્તુઓ', 'N_NN'), ('ઘરનાં', 'JJ'), ('સભ્ય', 'PSP'), ('જેવી', 'JJ'), ('હતી', 'V_VAUX'), ('.', 'RD_PUNC')]\n",
            "[('માથા', 'N_NN'), ('પર', 'PSP'), ('અજાણ્યા', 'JJ'), ('હાથે', 'N_NN'), ('છત્રી', 'N_NN'), ('ધરી', 'V_VM'), ('રાખી', 'V_VM'), ('હોય', 'V_VAUX'), ('તેવા', 'JJ'), ('ભાસ', 'N_NN'), ('થયા', 'V_VM'), ('કરે', 'V_VM'), ('છે', 'V_VAUX'), ('.', 'RD_PUNC')]\n",
            "[('વરસાદ', 'N_NN'), ('બંધ', 'JJ'), ('થયો', 'V_VM'), ('.', 'RD_PUNC')]\n",
            "[('મેં', 'PR_PRP'), ('તેની', 'PR_PRP'), ('આંખોમાં', 'N_NN'), ('જોયું', 'V_VM'), ('.', 'RD_PUNC')]\n",
            "[('ભાઈથી', 'N_NN'), ('ન', 'RP_NEG'), ('રહેવાયું', 'N_NN'), ('.', 'RD_PUNC')]\n",
            "[('ઝાંખા', 'JJ'), ('દીવાના', 'N_NST'), ('અજવાળામાં', 'N_NN'), ('બહેન', 'JJ'), ('પલંગની', 'N_NN'), ('ધાર', 'N_NN'), ('ઉપર', 'N_NST'), ('બેઠી', 'V_VM'), ('હતી', 'V_VAUX'), ('.', 'RD_PUNC')]\n",
            "[('થોડીવારે', 'JJ'), ('બારણું', 'N_NN'), ('ઊઘડ્યું', 'N_NN'), ('અને', 'CC_CCD'), ('દેવ', 'N_NN'), ('જેવા', 'JJ'), ('રૂપાળા', 'JJ'), ('બનેવીસાહેબે', 'N_NN'), ('પ્રવેશ', 'N_NN'), ('કર્યો', 'V_VM'), ('.', 'RD_PUNC')]\n",
            "[('તમારી', 'PR_PRP'), ('બેના', 'N_NN'), ('મરી', 'V_VM'), ('ગઈ', 'V_VAUX'), ('.', 'RD_PUNC')]\n",
            "[('ટ્રેનો', 'JJ'), ('આવતી', 'JJ'), ('પણ', 'CC_CCD'), ('એમાંથી', 'DM_DMD'), ('પોપટ', 'N_NN'), ('અને', 'CC_CCD'), ('હાથનાં', 'N_NN'), ('ભરત', 'N_NN'), ('ભરેલી', 'V_VAUX_VNP'), ('થેલીઓ', 'N_NN'), ('સાથે', 'PSP'), ('સોનાના', 'N_NN'), ('દાંતવાળી', 'N_NN'), ('સ્ત્રીઓ', 'N_NN'), ('ઊતરતી', 'JJ'), ('નહીં', 'RP_NEG'), ('.', 'RD_PUNC')]\n",
            "[('અચાનક', 'PSP'), ('કોઈ', 'PR_PRI'), ('સવારે', 'N_NST'), ('ગુલાબી', 'N_NN'), ('ઓઢણીવાળી', 'V_VM'), ('નવી', 'JJ'), ('છોકરી', 'N_NN'), ('પડોશીના', 'N_NN'), ('ઓટલે', 'N_NN'), ('ઊભેલી', 'JJ'), ('જોવા', 'N_NN'), ('મળતી', 'JJ'), ('નહીં', 'RP_NEG'), ('.', 'RD_PUNC')]\n",
            "[('બે', 'QT_QTC'), ('કાકા', 'N_NN'), ('જુદા', 'JJ'), ('રહેવા', 'N_NN'), ('ગયા', 'V_VAUX'), ('.', 'RD_PUNC')]\n",
            "[('પિતાજી', 'N_NN'), ('ઝડપથી', 'RB'), ('વૃદ્ધ', 'N_NN'), ('થઈ', 'V_VM'), ('ગયા', 'V_VAUX'), ('.', 'RD_PUNC')]\n",
            "[('યોગીભાઈને', 'N_NNP'), ('કોલેજ', 'N_NN'), ('પૂરી', 'JJ'), ('થતાં', 'JJ'), ('રેલવેમાં', 'N_NN'), ('ગુડ્ઝ', 'N_NN'), ('ક્લાર્કની', 'JJ'), ('નોકરી', 'N_NN'), ('મળી', 'V_VM'), ('અને', 'CC_CCD'), ('પહેલું', 'N_NN'), ('પોસ્ટિંગ', 'N_NN'), ('કોટા', 'N_NN'), ('ખાતે', 'N_NN'), ('થયું', 'V_VM'), ('.', 'RD_PUNC')]\n",
            "[('મેં', 'PR_PRP'), ('કહ્યું', 'V_VM'), (',', 'RD_PUNC'), ('`', 'RD_PUNC'), ('રહેવા', 'N_NN'), ('દો', 'V_VM'), (',', 'RD_PUNC'), ('સૂર્યબાળા', 'N_NNP'), (',', 'RD_PUNC'), ('એ', 'DM_DMD'), ('ખૂબ', 'QT_QTF'), ('સારું', 'JJ'), ('લાગે', 'V_VM'), ('છે', 'V_VAUX'), ('.', 'RD_PUNC'), ('`', 'RD_PUNC')]\n"
          ],
          "name": "stdout"
        }
      ]
    },
    {
      "cell_type": "code",
      "metadata": {
        "id": "K9kL722Yswps"
      },
      "source": [
        "dict_true['entern'] = y_true\n",
        "dict_pred['entern'] = y_pred"
      ],
      "execution_count": null,
      "outputs": []
    },
    {
      "cell_type": "markdown",
      "metadata": {
        "id": "XV1us7agsv8F"
      },
      "source": [
        "## guj_philosophy_sample4"
      ]
    },
    {
      "cell_type": "code",
      "metadata": {
        "colab": {
          "base_uri": "https://localhost:8080/"
        },
        "id": "eWcZ3l9Nsv8G",
        "outputId": "0bf0ca07-ed9d-4d23-d1a2-48ac5b8ba000"
      },
      "source": [
        "# path = '/content/drive/MyDrive/nlpproject/data/guj_philosophy_sample4.txt'\n",
        "path = '/content/temp/guj_philosophy_sample4.txt'\n",
        "def process_file(path):\n",
        "  f = open(path,'r')\n",
        "  tagged_sentence = []\n",
        "  for line in f:\n",
        "    line = line.split()[1:]\n",
        "    temp = []\n",
        "    for i in line:\n",
        "      i = i.split('\\\\')\n",
        "      temp.append((i[0],i[1]))\n",
        "    tagged_sentence.append(temp)\n",
        "\n",
        "  return tagged_sentence\n",
        "\n",
        "\n",
        "tagged_sentence = process_file(path)\n",
        "print(len(tagged_sentence))"
      ],
      "execution_count": null,
      "outputs": [
        {
          "output_type": "stream",
          "text": [
            "1000\n"
          ],
          "name": "stdout"
        }
      ]
    },
    {
      "cell_type": "code",
      "metadata": {
        "id": "tvUguopXsv8G"
      },
      "source": [
        "def word_to_ix(word, ix):\n",
        "    return torch.tensor(ix[word], dtype = torch.long)\n",
        "\n",
        "def char_to_ix(char, ix):\n",
        "    return torch.tensor(ix[char], dtype= torch.long)\n",
        "\n",
        "def tag_to_ix(tag, ix):\n",
        "    return torch.tensor(ix[tag], dtype= torch.long)\n",
        "\n",
        "def sequence_to_idx(sequence, ix):\n",
        "    return torch.tensor([ix[s] for s in sequence], dtype=torch.long)\n",
        "\n",
        "\n",
        "word_to_idx = {}\n",
        "tag_to_idx = {}\n",
        "char_to_idx = {}\n",
        "for sentence in tagged_sentence:\n",
        "    for word, pos_tag in sentence:\n",
        "        if word not in word_to_idx.keys():\n",
        "            word_to_idx[word] = len(word_to_idx)\n",
        "        if pos_tag not in tag_to_idx.keys():\n",
        "            tag_to_idx[pos_tag] = len(tag_to_idx)\n",
        "        for char in word:\n",
        "            if char not in char_to_idx.keys():\n",
        "                char_to_idx[char] = len(char_to_idx)"
      ],
      "execution_count": null,
      "outputs": []
    },
    {
      "cell_type": "code",
      "metadata": {
        "colab": {
          "base_uri": "https://localhost:8080/"
        },
        "id": "7oEdqCCTsv8G",
        "outputId": "cfe14a14-663d-42d5-a11f-31e5fa6dea89"
      },
      "source": [
        "word_vocab_size = len(word_to_idx)\n",
        "tag_vocab_size = len(tag_to_idx)\n",
        "char_vocab_size = len(char_to_idx)\n",
        "\n",
        "print(\"Unique words: {}\".format(len(word_to_idx)))\n",
        "print(\"Unique tags: {}\".format(len(tag_to_idx)))\n",
        "print(\"Unique characters: {}\".format(len(char_to_idx)))"
      ],
      "execution_count": null,
      "outputs": [
        {
          "output_type": "stream",
          "text": [
            "Unique words: 3914\n",
            "Unique tags: 29\n",
            "Unique characters: 78\n"
          ],
          "name": "stdout"
        }
      ]
    },
    {
      "cell_type": "code",
      "metadata": {
        "id": "7djBFcmnsv8G"
      },
      "source": [
        "import random\n",
        "\n",
        "tr_random = random.sample(list(range(len(tagged_sentence))), int(0.95 * len(tagged_sentence)))\n",
        "\n",
        "train = [tagged_sentence[i] for i in tr_random]\n",
        "test = [tagged_sentence[i] for i in range(len(tagged_sentence)) if i not in tr_random]"
      ],
      "execution_count": null,
      "outputs": []
    },
    {
      "cell_type": "code",
      "metadata": {
        "colab": {
          "base_uri": "https://localhost:8080/"
        },
        "id": "6C_tzojtsv8H",
        "outputId": "b04cc22d-3e6b-4c7e-bc9c-16fe9c6f9899"
      },
      "source": [
        "print(\"Training set Size \",len(train))\n",
        "print(\"Test set Size \",len(test))\n",
        "print(\"Sample Test\")\n",
        "print(test[2])"
      ],
      "execution_count": null,
      "outputs": [
        {
          "output_type": "stream",
          "text": [
            "Training set Size  950\n",
            "Test set Size  50\n",
            "Sample Test\n",
            "[('તેથી', 'PSP'), ('એને', 'DM_DMD'), ('`', 'RD_PUNC'), ('અનાદિ', 'N_NN'), ('`', 'RD_PUNC'), ('અને', 'CC_CCD'), ('`', 'RD_PUNC'), ('અપૌરુષેય', 'JJ'), ('`', 'RD_PUNC'), ('ગણવામાં', 'V_VAUX_VNP'), ('આવે', 'V_VAUX'), ('છે', 'V_VAUX'), ('.', 'RD_PUNC')]\n"
          ],
          "name": "stdout"
        }
      ]
    },
    {
      "cell_type": "code",
      "metadata": {
        "id": "0V1OyRq8sv8H"
      },
      "source": [
        "WORD_EMBEDDING_DIM = 1024\n",
        "CHAR_EMBEDDING_DIM = 128\n",
        "WORD_HIDDEN_DIM = 1024\n",
        "CHAR_HIDDEN_DIM = 1024\n",
        "EPOCHS = 20\n",
        "\n",
        "class DualLSTMTagger(nn.Module):\n",
        "  def __init__(self, word_embedding_dim, word_hidden_dim, char_embedding_dim, char_hidden_dim, word_vocab_size, char_vocab_size, tag_vocab_size):\n",
        "    super(DualLSTMTagger, self).__init__()\n",
        "    self.word_embedding = nn.Embedding(word_vocab_size, word_embedding_dim)\n",
        "    \n",
        "    self.char_embedding = nn.Embedding(char_vocab_size, char_embedding_dim)\n",
        "    self.char_lstm = nn.LSTM(char_embedding_dim, char_hidden_dim)\n",
        "    self.lstm = nn.LSTM(word_embedding_dim + char_hidden_dim, word_hidden_dim,bidirectional=True)\n",
        "\n",
        "    self.hidden2tag = nn.Linear(word_hidden_dim*2, tag_vocab_size)\n",
        "      \n",
        "  def forward(self, sentence, words):\n",
        "    embeds = self.word_embedding(sentence)\n",
        "    char_hidden_final = []\n",
        "    for word in words:\n",
        "        char_embeds = self.char_embedding(word)\n",
        "        _, (char_hidden, char_cell_state) = self.char_lstm(char_embeds.view(len(word), 1, -1))\n",
        "        word_char_hidden_state = char_hidden.view(-1)\n",
        "        char_hidden_final.append(word_char_hidden_state)\n",
        "    char_hidden_final = torch.stack(tuple(char_hidden_final))\n",
        "    \n",
        "    combined = torch.cat((embeds, char_hidden_final), 1)\n",
        "\n",
        "    lstm_out, _ = self.lstm(combined.view(len(sentence), 1, -1))\n",
        "    tag_space = self.hidden2tag(lstm_out.view(len(sentence), -1))\n",
        "    \n",
        "    tag_scores = F.log_softmax(tag_space, dim=1)\n",
        "    return tag_scores"
      ],
      "execution_count": null,
      "outputs": []
    },
    {
      "cell_type": "code",
      "metadata": {
        "id": "edNWT1tgsv8H"
      },
      "source": [
        "model = DualLSTMTagger(WORD_EMBEDDING_DIM, WORD_HIDDEN_DIM, CHAR_EMBEDDING_DIM, CHAR_HIDDEN_DIM, word_vocab_size, char_vocab_size, tag_vocab_size)\n",
        "\n",
        "use_cuda = torch.cuda.is_available()\n",
        "device = torch.device(\"cuda:0\" if use_cuda else \"cpu\")\n",
        "\n",
        "if use_cuda:\n",
        "    model.cuda()\n",
        "\n",
        "loss_function = nn.NLLLoss()\n",
        "optimizer = optim.Adam(model.parameters(), lr=0.001)\n"
      ],
      "execution_count": null,
      "outputs": []
    },
    {
      "cell_type": "code",
      "metadata": {
        "colab": {
          "base_uri": "https://localhost:8080/"
        },
        "id": "fC5ZO0fysv8I",
        "outputId": "fdfcbcf5-bddf-47b7-d5a8-dcbd38fd1221"
      },
      "source": [
        "accuracy_list = []\n",
        "loss_list = []\n",
        "interval = round(len(train) / 100.)\n",
        "epochs = EPOCHS\n",
        "e_interval = round(epochs / 10.)\n",
        "for epoch in range(epochs):\n",
        "    acc = 0 #to keep track of accuracy\n",
        "    loss = 0 # To keep track of the loss value\n",
        "    i = 0\n",
        "    for sentence_tag in train:\n",
        "        i += 1\n",
        "        words = [torch.tensor(sequence_to_idx(s[0], char_to_idx), dtype=torch.long).to(device) for s in sentence_tag]\n",
        "        sentence = [s[0] for s in sentence_tag]\n",
        "        sentence = torch.tensor(sequence_to_idx(sentence, word_to_idx), dtype=torch.long).to(device)\n",
        "        targets = [s[1] for s in sentence_tag]\n",
        "        targets = torch.tensor(sequence_to_idx(targets, tag_to_idx), dtype=torch.long).to(device)\n",
        "        \n",
        "        model.zero_grad()\n",
        "        \n",
        "        tag_scores = model(sentence, words)\n",
        "        \n",
        "        loss = loss_function(tag_scores, targets)\n",
        "        loss.backward()\n",
        "        optimizer.step()\n",
        "        loss += loss.item()\n",
        "        _, indices = torch.max(tag_scores, 1)\n",
        "#         print(indices == targets)\n",
        "        acc += torch.mean(torch.tensor(targets == indices, dtype=torch.float))\n",
        "        if i % interval == 0:\n",
        "            print(\"Epoch {} Running;\\t{}% Complete\".format(epoch + 1, i / interval), end = \"\\r\", flush = True)\n",
        "    loss = loss / len(train)\n",
        "    acc = acc / len(train)\n",
        "    loss_list.append(float(loss))\n",
        "    accuracy_list.append(float(acc))\n",
        "    if (epoch + 1) % e_interval == 0:\n",
        "        print(\"Epoch {} Completed,\\tLoss {}\\tAccuracy: {}\".format(epoch + 1, np.mean(loss_list[-e_interval:]), np.mean(accuracy_list[-e_interval:]))) "
      ],
      "execution_count": null,
      "outputs": [
        {
          "output_type": "stream",
          "text": [
            "/usr/local/lib/python3.7/dist-packages/ipykernel_launcher.py:12: UserWarning: To copy construct from a tensor, it is recommended to use sourceTensor.clone().detach() or sourceTensor.clone().detach().requires_grad_(True), rather than torch.tensor(sourceTensor).\n",
            "  if sys.path[0] == '':\n",
            "/usr/local/lib/python3.7/dist-packages/ipykernel_launcher.py:14: UserWarning: To copy construct from a tensor, it is recommended to use sourceTensor.clone().detach() or sourceTensor.clone().detach().requires_grad_(True), rather than torch.tensor(sourceTensor).\n",
            "  \n",
            "/usr/local/lib/python3.7/dist-packages/ipykernel_launcher.py:16: UserWarning: To copy construct from a tensor, it is recommended to use sourceTensor.clone().detach() or sourceTensor.clone().detach().requires_grad_(True), rather than torch.tensor(sourceTensor).\n",
            "  app.launch_new_instance()\n",
            "/usr/local/lib/python3.7/dist-packages/ipykernel_launcher.py:28: UserWarning: To copy construct from a tensor, it is recommended to use sourceTensor.clone().detach() or sourceTensor.clone().detach().requires_grad_(True), rather than torch.tensor(sourceTensor).\n"
          ],
          "name": "stderr"
        },
        {
          "output_type": "stream",
          "text": [
            "Epoch 2 Completed,\tLoss 0.001061460450728191\tAccuracy: 0.890223890542984\n",
            "Epoch 4 Completed,\tLoss 1.0403891963051137e-05\tAccuracy: 0.995627760887146\n",
            "Epoch 6 Completed,\tLoss 6.353261028380075e-07\tAccuracy: 0.9994783699512482\n",
            "Epoch 8 Completed,\tLoss 1.4502321832310372e-07\tAccuracy: 0.9999999403953552\n",
            "Epoch 10 Completed,\tLoss 5.7239033068867684e-08\tAccuracy: 0.9999999403953552\n",
            "Epoch 12 Completed,\tLoss 2.1059994637084856e-08\tAccuracy: 0.9999999403953552\n",
            "Epoch 14 Completed,\tLoss 7.48714046316934e-09\tAccuracy: 0.9999999403953552\n",
            "Epoch 16 Completed,\tLoss 2.572406287981721e-09\tAccuracy: 0.9999999403953552\n",
            "Epoch 18 Completed,\tLoss 8.365558801237682e-10\tAccuracy: 0.9999999403953552\n",
            "Epoch 20 Completed,\tLoss 3.1370857300760946e-10\tAccuracy: 0.9999999403953552\n"
          ],
          "name": "stdout"
        }
      ]
    },
    {
      "cell_type": "code",
      "metadata": {
        "colab": {
          "base_uri": "https://localhost:8080/"
        },
        "id": "OgplBYsVsv8I",
        "outputId": "8c027606-9ac4-4c07-c22a-7c8a90aefe74"
      },
      "source": [
        "y_true = []\n",
        "y_pred = []\n",
        "for sentence in test:\n",
        "  seq = \"\"\n",
        "  for s in range(len(sentence)):\n",
        "    if(s==(len(sentence)-1)):\n",
        "      seq+= sentence[s][0]\n",
        "    else:\n",
        "      seq += sentence[s][0] + \" \"\n",
        "    y_true.append(sentence[s][1])\n",
        "  \n",
        "  seq = seq.split()\n",
        "  with torch.no_grad():\n",
        "    words = [torch.tensor(sequence_to_idx(s[0], char_to_idx), dtype=torch.long).to(device) for s in seq]\n",
        "    sentence = torch.tensor(sequence_to_idx(seq, word_to_idx), dtype=torch.long).to(device)\n",
        "        \n",
        "    tag_scores = model(sentence, words)\n",
        "    _, indices = torch.max(tag_scores, 1)\n",
        "    ret = []\n",
        "    for i in range(len(indices)):\n",
        "        for key, value in tag_to_idx.items():\n",
        "            if indices[i] == value:\n",
        "                ret.append((seq[i], key))\n",
        "                y_pred.append(key)\n",
        "    print(ret)"
      ],
      "execution_count": null,
      "outputs": [
        {
          "output_type": "stream",
          "text": [
            "[('વેદને', 'N_NNP'), ('પ્રમાણભૂત', 'N_NN'), ('ન', 'RP_NEG'), ('માનનાર', 'V_VAUX_VNP'), ('અને', 'CC_CCD'), ('એનાથી', 'DM_DMD'), ('ફંટાઈને', 'N_NN'), ('પ્રવર્તનાર', 'N_NN'), ('દર્શનો', 'N_NN'), ('તે', 'DM_DMD'), ('નાસ્તિક', 'N_NN'), ('દર્શનો', 'N_NN'), ('કહેવાય', 'V_VM'), ('છે', 'V_VAUX'), ('.', 'RD_PUNC')]\n",
            "[('વેદનો', 'N_NNP'), ('અર્થ', 'N_NN'), ('જ્ઞાન', 'N_NN'), ('થાય', 'V_VM'), ('છે', 'V_VAUX'), ('.', 'RD_PUNC')]\n",
            "[('તેથી', 'PSP'), ('એને', 'DM_DMD'), ('`', 'RD_PUNC'), ('અનાદિ', 'JJ'), ('`', 'RD_PUNC'), ('અને', 'CC_CCD'), ('`', 'RD_PUNC'), ('અપૌરુષેય', 'N_NN'), ('`', 'RD_PUNC'), ('ગણવામાં', 'N_NN'), ('આવે', 'V_VAUX'), ('છે', 'V_VAUX'), ('.', 'RD_PUNC')]\n",
            "[('એ', 'DM_DMD'), ('દ્વારા', 'PSP'), ('ઐહિક', 'JJ'), ('સુખોની', 'N_NN'), ('તેમ', 'PSP'), ('પવિત્ર', 'JJ'), ('જીવન', 'N_NN'), ('અને', 'CC_CCD'), ('દિવ્યતાની', 'N_NN'), ('પણ', 'RP_RPD'), ('અભીપ્સા', 'N_NN'), ('વ્યક્ત', 'JJ'), ('થાય', 'V_VM'), ('છે', 'V_VAUX'), ('.', 'RD_PUNC')]\n",
            "[('તેના', 'DM_DMD'), ('મૂળ', 'JJ'), ('ગ્રંથો', 'N_NN'), ('`', 'RD_PUNC'), ('પ્રાતિશાખ્ય', 'N_NNP'), ('`', 'RD_PUNC'), ('-', 'RD_PUNC'), ('એટલેકે', 'PSP'), ('જુદી', 'JJ'), ('જુદી', 'JJ'), ('શાખાના', 'N_NN'), ('ઉચ્ચાર', 'N_NN'), ('કરવાના', 'JJ'), ('ગ્રંથો', 'N_NN'), ('એ', 'DM_DMD'), ('નામે', 'N_NN'), ('પણ', 'RP_RPD'), ('ઓળખાય', 'V_VM'), ('છે', 'V_VAUX'), ('.', 'RD_PUNC')]\n",
            "[('સંહિતાથી', 'N_NN'), ('ઉપનિષદ', 'N_NNP'), ('સુધીનો', 'N_NN'), ('વેદધર્મ', 'N_NNP'), ('સૂત્રકાળમાં', 'PSP'), ('વ્યવસ્થા', 'N_NN'), ('પામ્યો', 'V_VM'), ('છે', 'V_VAUX'), ('.', 'RD_PUNC')]\n",
            "[('દર્શન', 'N_NN'), ('એટલે', 'PSP'), ('જોવાનું', 'JJ'), ('સાધન', 'N_NN'), ('.', 'RD_PUNC')]\n",
            "[('વેદના', 'N_NNP'), ('સત્યો', 'JJ'), ('જોવા', 'N_NN'), ('માટે', 'PSP'), ('બ્રાહ્મણ', 'N_NNP'), ('શાસ્ત્રકારોએ', 'N_NNP'), ('છ', 'QT_QTC'), ('જુદાં', 'N_NN'), ('જુદાં', 'N_NN'), ('શાસ્ત્રો', 'N_NN'), ('રચ્યાં', 'V_VM'), ('છે', 'V_VAUX'), ('.', 'RD_PUNC')]\n",
            "[('બે', 'QT_QTC'), ('ન્યાય', 'N_NNP'), ('તે', 'DM_DMD'), ('એક', 'QT_QTC'), ('વૈશેષિક', 'N_NN'), ('અને', 'CC_CCD'), ('બીજું', 'JJ'), ('ન્યાય', 'N_NNP'), ('.', 'RD_PUNC')]\n",
            "[('પ્રકૃતિ', 'N_NN'), ('પુરુષની', 'N_NN'), ('આ', 'DM_DMD'), ('ભિન્નતાની', 'N_NN'), ('માન્યતાને', 'N_NN'), ('કારણે', 'PSP'), ('સાંખ્યદર્શન', 'QT_QTC'), ('દ્વૈતવાદી', 'N_NN'), ('દર્શન', 'N_NN'), ('ગણાય', 'V_VM'), ('છે', 'V_VAUX'), ('.', 'RD_PUNC')]\n",
            "[('એની', 'DM_DMD'), ('દૃષ્ટિએ', 'N_NN'), ('જગતનો', 'N_NN'), ('ખુલાસો', 'N_NN'), ('કરવાને', 'JJ'), ('માટે', 'PSP'), ('ઈશ્વરની', 'V_VM'), ('જરૂર', 'N_NN'), ('નથી', 'RP_NEG'), ('.', 'RD_PUNC')]\n"
          ],
          "name": "stdout"
        },
        {
          "output_type": "stream",
          "text": [
            "/usr/local/lib/python3.7/dist-packages/ipykernel_launcher.py:14: UserWarning: To copy construct from a tensor, it is recommended to use sourceTensor.clone().detach() or sourceTensor.clone().detach().requires_grad_(True), rather than torch.tensor(sourceTensor).\n",
            "  \n",
            "/usr/local/lib/python3.7/dist-packages/ipykernel_launcher.py:15: UserWarning: To copy construct from a tensor, it is recommended to use sourceTensor.clone().detach() or sourceTensor.clone().detach().requires_grad_(True), rather than torch.tensor(sourceTensor).\n",
            "  from ipykernel import kernelapp as app\n"
          ],
          "name": "stderr"
        },
        {
          "output_type": "stream",
          "text": [
            "[('યોગનાં', 'N_NN'), ('આઠ', 'QT_QTC'), ('અંગ', 'N_NN'), ('તે', 'DM_DMD'), ('યમ', 'N_NN'), (',', 'RD_PUNC'), ('નિયમ', 'N_NN'), (',', 'RD_PUNC'), ('આસન', 'N_NN'), (',', 'RD_PUNC'), ('પ્રાણાયમ', 'N_NN'), (',', 'RD_PUNC'), ('પ્રત્યાહાર', 'N_NN'), (',', 'RD_PUNC'), ('ધારણા', 'N_NN'), (',', 'RD_PUNC'), ('ધ્યાન', 'N_NN'), ('અને', 'CC_CCD'), ('સમાધિ', 'N_NN'), ('.', 'RD_PUNC')]\n",
            "[('તે', 'DM_DMD'), ('સિવાય', 'PSP'), ('ઈશ્વરની', 'V_VM'), ('જરૂર', 'N_NN'), ('નથી', 'RP_NEG'), (',', 'RD_PUNC'), ('કારણકે', 'JJ'), ('સમાધિની', 'N_NN'), ('અંતિમ', 'JJ'), ('દશામાં', 'N_NN'), ('તો', 'RP_RPD'), ('આત્મચૈતન્ય', 'RP_RPD'), ('જ', 'RP_RPD'), ('રહે', 'V_VAUX'), ('છે', 'V_VAUX'), ('અને', 'CC_CCD'), ('એ', 'DM_DMD'), ('જ', 'RP_RPD'), ('મોક્ષની', 'N_NN'), ('સ્થિતિ', 'N_NN'), ('છે', 'V_VAUX'), ('.', 'RD_PUNC')]\n",
            "[('વૈશેષિકમાં', 'N_NNP'), ('નવ', 'N_NN'), ('પ્રકારનાં', 'JJ'), ('દ્રવ્ય', 'N_NN'), ('સ્વીકારવામાં', 'N_NN'), ('આવ્યાં', 'V_VM'), ('છે', 'V_VAUX'), ('-', 'RD_PUNC'), ('પૃથ્વી', 'N_NN'), (',', 'RD_PUNC'), ('જલ', 'N_NN'), (',', 'RD_PUNC'), ('તેજ', 'N_NN'), (',', 'RD_PUNC'), ('વાયુ', 'N_NN'), (',', 'RD_PUNC'), ('આકાશ', 'N_NNP'), (',', 'RD_PUNC'), ('કાળ', 'N_NN'), (',', 'RD_PUNC'), ('દિક્', 'N_NN'), (',', 'RD_PUNC'), ('આત્મા', 'N_NN'), ('અને', 'CC_CCD'), ('મન', 'N_NN'), ('.', 'RD_PUNC')]\n",
            "[('વૈશેષિકદર્શન', 'N_NNP'), ('પરમાણુવાદી', 'V_VM'), ('છે', 'V_VAUX'), (',', 'RD_PUNC'), ('તેમ', 'PSP'), ('આરંભવાદી', 'DM_DMD'), ('છે', 'V_VAUX'), ('.', 'RD_PUNC')]\n",
            "[('વૈશેષિકદર્શન', 'N_NNP'), ('માને', 'V_VM'), ('છે', 'V_VAUX'), ('કે', 'CC_CCS'), ('પ્રત્યેક', 'JJ'), ('શરીરમાં', 'N_NN'), ('ભિન્ન', 'N_NN'), ('આત્મા', 'N_NN'), ('વસે', 'N_NN'), ('છે', 'V_VAUX'), ('.', 'RD_PUNC')]\n",
            "[('તેથી', 'PSP'), ('એ', 'DM_DMD'), ('કર્મફળ', 'JJ'), ('આપનાર', 'V_VM'), (',', 'RD_PUNC'), ('નૈતિક', 'JJ'), ('શાસન', 'N_NN'), ('કરનાર', 'V_VAUX_VNP'), ('છે', 'V_VAUX'), ('.', 'RD_PUNC')]\n",
            "[('એના', 'DM_DMD'), ('અનુગ્રહ', 'N_NN'), ('વિના', 'PSP'), ('યથાર્થ', 'JJ'), ('જ્ઞાન', 'N_NN'), ('થતું', 'V_VAUX_VNP'), ('નથી', 'RP_NEG'), ('.', 'RD_PUNC')]\n",
            "[('ન્યાયદર્શન', 'N_NNP'), ('અનુસાર', 'PSP'), ('જીવાત્મા', 'N_NN'), ('અને', 'CC_CCD'), ('પરમાત્મા', 'N_NN'), ('પોતપોતાના', 'N_NN'), ('ક્ષેત્રોમાં', 'JJ'), ('નિરપેક્ષ', 'N_NN'), ('અને', 'CC_CCD'), ('એકબીજાથી', 'DM_DMD'), ('સ્વતંત્ર', 'JJ'), ('છે', 'V_VAUX'), ('.', 'RD_PUNC')]\n",
            "[('વેદવિહિત', 'N_NN'), ('એટલેકે', 'PSP'), ('નિત્યનૈમિત્તિક', 'JJ'), ('કર્મ', 'N_NN'), ('જીવને', 'N_NN'), ('બંધનરૂપ', 'PSP'), ('થતાં', 'V_VAUX_VNP'), ('નથી', 'RP_NEG'), ('તેથી', 'PSP'), ('દોષરહિત', 'N_NN'), ('છે', 'V_VAUX'), ('અને', 'CC_CCD'), ('સુખ', 'N_NN'), ('આપે', 'V_VM'), ('છે', 'V_VAUX'), ('.', 'RD_PUNC')]\n",
            "[('આથી', 'PSP'), ('એ', 'DM_DMD'), ('ત્રણ', 'QT_QTC'), ('પ્રકારની', 'N_NN'), ('સત્તાનો', 'N_NN'), ('ભેદ', 'N_NN'), ('કરે', 'V_VM'), ('છે', 'V_VAUX'), ('.', 'RD_PUNC')]\n",
            "[('મુક્તિ', 'N_NN'), ('નિત્યસિદ્ધિ', 'N_NN'), ('છે', 'V_VAUX'), ('.', 'RD_PUNC')]\n",
            "[('તેથી', 'PSP'), ('જાતિવાદ', 'N_NN'), ('-', 'RD_PUNC'), ('કશુંક', 'N_NN'), ('કશાકમાંથી', 'N_NN'), ('જન્મ્યું', 'V_VM'), ('છે', 'V_VAUX'), (',', 'RD_PUNC'), ('ઉત્પન્ન', 'JJ'), ('થયું', 'N_NN'), ('છે', 'V_VAUX'), ('તેવો', 'JJ'), ('મત', 'N_NN'), ('-', 'RD_PUNC'), ('અસિદ્ધ', 'PSP'), ('ઠરે', 'N_NN'), ('છે', 'V_VAUX'), ('.', 'RD_PUNC')]\n",
            "[('ગૌડપાદ', 'N_NNP'), ('સ્વપ્નનો', 'JJ'), ('અનુભવ', 'N_NN'), ('જાગ્રતમાં', 'JJ'), ('રહેતો', 'JJ'), ('નથી', 'RP_NEG'), ('અને', 'CC_CCD'), ('જાગ્રતનો', 'JJ'), ('અનુભવ', 'N_NN'), ('સ્વપ્નમાં', 'N_NN'), ('રહેતો', 'V_VAUX_VNP'), ('નથી', 'RP_NEG'), ('એ', 'DM_DMD'), ('રીતે', 'N_NN'), ('બંને', 'JJ'), ('અનુભવને', 'N_NN'), ('સરખા', 'JJ'), ('અસત્', 'N_NN'), ('બતાવે', 'V_VM'), ('છે', 'V_VAUX'), ('.', 'RD_PUNC')]\n",
            "[('ગૌડપાદ', 'N_NNP'), ('અનાદિ', 'JJ'), ('તત્ત્વોનો', 'JJ'), ('અંત', 'N_NN'), ('થાય', 'V_VM'), ('એ', 'DM_DMD'), ('યુક્તિયુક્ત', 'PSP'), ('જ', 'RP_RPD'), ('નથી', 'RP_NEG'), ('એમ', 'PSP'), ('કહી', 'V_VM'), ('આ', 'DM_DMD'), ('જાતિવાદનું', 'JJ'), ('ખંડન', 'JJ'), ('કરી', 'V_VM'), ('અજાતિવાદનું', 'N_NN'), ('સ્થાપન', 'QT_QTC'), ('કરે', 'V_VM'), ('છે', 'V_VAUX'), ('.', 'RD_PUNC')]\n",
            "[('તત્ત્વવિચારથી', 'N_NNP'), ('ઉપર', 'PSP'), ('એ', 'DM_DMD'), ('અનુભવને', 'N_NN'), ('સ્થાન', 'N_NN'), ('આપે', 'V_VM'), ('છે', 'V_VAUX'), ('.', 'RD_PUNC')]\n",
            "[('રામાનંદ', 'N_NN'), (',', 'RD_PUNC'), ('જ્ઞાનેશ્વર', 'N_NN'), (',', 'RD_PUNC'), ('નામદેવ', 'N_NN'), (',', 'RD_PUNC'), ('કબીરજી', 'N_NN'), (',', 'RD_PUNC'), ('નાનક', 'N_NN'), ('શાહ', 'N_NN'), (',', 'RD_PUNC'), ('રૈદાસ', 'N_NN'), (',', 'RD_PUNC'), ('નરસિંહ', 'N_NN'), ('મહેતા', 'N_NN'), ('વગેરે', 'PSP'), ('આ', 'DM_DMD'), ('સંતપરંપરાના', 'N_NN'), ('જાણીતા', 'JJ'), ('પ્રતિનિધિઓ', 'N_NN'), ('છે', 'V_VAUX'), ('.', 'RD_PUNC')]\n",
            "[('પ્રકૃતિનું', 'N_NN'), ('મૂળ', 'JJ'), ('તાત્પર્ય', 'N_NN'), ('શંકરાચાર્યએ', 'V_VM'), ('પ્રથમ', 'QT_QTO'), ('વાર', 'N_NN'), ('સ્પષ્ટ', 'JJ'), ('કર્યું', 'N_NN'), ('અને', 'CC_CCD'), ('એ', 'DM_DMD'), ('જ', 'RP_RPD'), ('પ્રશ્ન', 'N_NN'), ('શંકરાચાર્યની', 'N_NN'), ('સામે', 'PSP'), ('રાખવામાં', 'N_NN'), ('આવ્યો', 'V_VAUX'), ('છે', 'V_VAUX'), ('.', 'RD_PUNC')]\n",
            "[('માયાનો', 'JJ'), ('અર્થ', 'N_NN'), ('છે', 'V_VAUX'), ('.', 'RD_PUNC')]\n",
            "[('મનુષ્ય', 'N_NN'), ('પાસે', 'PSP'), ('કલ્પના', 'N_NN'), ('સિવાય', 'PSP'), ('કંઈ', 'DM_DMI'), ('નથી', 'RP_NEG'), ('કારણકે', 'CC_CCS'), ('આપણે', 'PR_PRP'), ('સૌ', 'JJ'), ('માયામાં', 'N_NN'), ('રંગાયેલા', 'JJ'), ('છીએ', 'V_VAUX'), ('.', 'RD_PUNC')]\n",
            "[('જેમાં', 'PR_PRL'), ('સહસ્ત્ર', 'N_NN'), ('કૌરવો', 'N_NN'), ('સામે', 'PSP'), ('ઊભા', 'V_VM'), ('છે', 'V_VAUX'), ('.', 'RD_PUNC')]\n",
            "[('સિદ્ધાર્થે', 'N_NNP'), ('પૂછ્યું', 'V_VM'), ('-', 'RD_PUNC'), ('આ', 'DM_DMD'), ('શું', 'PR_PRQ'), ('છે', 'V_VAUX'), ('?', 'RD_PUNC')]\n",
            "[('હું', 'PR_PRP'), ('આ', 'DM_DMD'), ('રીતે', 'N_NN'), ('ચિતા', 'N_NN'), ('પર', 'PSP'), ('નહીં', 'RP_NEG'), ('ઊંઘુ', 'N_NN'), ('.', 'RD_PUNC')]\n",
            "[('શું', 'PR_PRQ'), ('મને', 'PR_PRP'), ('આપીશ', 'QT_QTC'), ('?', 'RD_PUNC')]\n",
            "[('એટલામાટે', 'PSP'), ('જ્યારે', 'N_NST'), ('વિશ્વામિત્રએ', 'N_NN'), ('ત્રિશંકુને', 'JJ'), ('શરીર', 'N_NN'), ('સાથે', 'PSP'), ('સ્વર્ગમાં', 'N_NN'), ('મોકલવાની', 'JJ'), ('ઈચ્છા', 'N_NN'), ('કરી', 'V_VM'), ('તો', 'CC_CCD'), ('ઈન્દ્રએ', 'V_VAUX'), ('તેમને', 'JJ'), ('અટકાવીને', 'N_NN'), ('કહ્યું', 'V_VM'), ('કે', 'CC_CCS'), ('મનુષ્ય', 'N_NN'), ('શરીર', 'N_NN'), ('સાથે', 'PSP'), ('સ્વર્ગમાં', 'N_NN'), ('આવી', 'V_VM'), ('શકશે', 'V_VAUX'), ('નહિ', 'RP_NEG'), ('.', 'RD_PUNC')]\n",
            "[('તેને', 'DM_DMD'), ('આપણે', 'PR_PRP'), ('આજે', 'N_NST'), ('પણ', 'RP_RPD'), ('સમજી', 'V_VM'), ('શક્યા', 'V_VAUX'), ('નથી', 'RP_NEG'), (',', 'RD_PUNC'), ('કૃષ્ણને', 'JJ'), ('પાંચ', 'QT_QTC'), ('હજાર', 'QT_QTC'), ('વર્ષ', 'N_NN'), ('થઈ', 'V_VM'), ('ગયાં', 'PSP'), ('છતાં', 'RP_RPD'), ('આજે', 'N_NST'), ('પણ', 'RP_RPD'), ('આપણે', 'PR_PRP'), ('ટીકા', 'JJ'), ('કરીએ', 'V_VM'), ('છીએ', 'V_VAUX'), ('.', 'RD_PUNC')]\n",
            "[('ધર્માદિ', 'JJ'), ('માનવ', 'N_NN'), ('માટે', 'PSP'), ('છે', 'V_VAUX'), ('.', 'RD_PUNC')]\n",
            "[('ધર્મની', 'N_NN'), ('સમીક્ષા', 'JJ'), ('થઈ', 'V_VM'), ('શકે', 'V_VAUX'), ('ખરી', 'RP_RPD'), ('?', 'RD_PUNC')]\n",
            "[('વળી', 'PSP'), ('વેદની', 'N_NN'), ('બધી', 'QT_QTF'), ('જ', 'RP_RPD'), ('ઋચાઓ', 'N_NN'), ('એટલી', 'DM_DMD'), ('બધી', 'QT_QTF'), ('ઉચ્ચ', 'JJ'), ('જ્ઞાનથી', 'N_NN'), ('ભરેલી', 'JJ'), ('અથવા', 'CC_CCD'), ('સારગર્ભિત', 'N_NN'), ('છે', 'V_VAUX'), ('એવું', 'DM_DMD'), ('પણ', 'RP_RPD'), ('નથી', 'RP_NEG'), ('.', 'RD_PUNC')]\n",
            "[('સંકટોથી', 'N_NN'), ('અમારું', 'JJ'), ('રક્ષણ', 'N_NN'), ('કરો', 'V_VM'), ('.', 'RD_PUNC')]\n",
            "[('આવા', 'JJ'), ('શાસ્ત્રોમાં', 'N_NN'), ('વેદોનું', 'V_VAUX_VNP'), ('સ્થાન', 'N_NN'), ('તે', 'DM_DMD'), ('ગ્રંથોની', 'N_NN'), ('નિમ્નસ્તરનું', 'JJ'), ('બતાવવાની', 'JJ'), ('કોશિશ', 'N_NN'), ('થઈ', 'V_VM'), ('હોય', 'V_VAUX'), ('તેમ', 'PSP'), ('લાગે', 'JJ'), ('છે', 'V_VAUX'), ('.', 'RD_PUNC')]\n",
            "[('તે', 'DM_DMD'), ('નીચા', 'JJ'), ('હતા', 'V_VAUX'), ('કે', 'CC_CCS'), ('ઊંચા', 'N_NN'), ('?', 'RD_PUNC')]\n",
            "[('કારણકે', 'CC_CCS'), ('જ્યાં', 'N_NST'), ('માણસને', 'JJ'), ('માણસ', 'N_NN'), ('ગણવામાં', 'N_NN'), ('આવતો', 'V_VAUX'), ('ન', 'RP_NEG'), ('હોય', 'V_VAUX'), ('ત્યાં', 'N_NST'), ('પારમાર્થિક્તાની', 'JJ'), ('વાત', 'N_NN'), ('જ', 'RP_RPD'), ('કરવી', 'V_VAUX_VNP'), ('એ', 'DM_DMD'), ('માનવીઓને', 'PSP'), ('અન્ય', 'JJ'), ('માર્ગે', 'N_NN'), ('લઈ', 'V_VM'), ('જવાની', 'N_NN'), ('કપટભરી', 'N_NN'), ('ચાલ', 'V_VM'), ('હોય', 'V_VAUX'), ('તેવી', 'JJ'), ('અનુભૂતિ', 'N_NN'), ('થાય', 'V_VM'), ('છે', 'V_VAUX'), ('.', 'RD_PUNC')]\n",
            "[('નિસ્વાર્થીપણું', 'N_NN'), ('એ', 'DM_DMD'), ('ધર્મ', 'N_NN'), ('અને', 'CC_CCD'), ('રાજનીતિનું', 'N_NN'), ('આભૂષણ', 'V_VM'), ('છે', 'V_VAUX'), ('.', 'RD_PUNC')]\n",
            "[('અને', 'CC_CCD'), ('આપણી', 'N_NN'), ('જાતને', 'N_NN'), ('મનાવીએ', 'V_VM'), ('છીએ', 'V_VAUX'), ('કે', 'CC_CCS'), ('આપણા', 'PR_PRP'), ('સાચા', 'JJ'), ('પ્રેમ', 'N_NN'), ('સાચી', 'JJ'), ('શક્તિ', 'N_NN'), ('સદાચારમાં', 'N_NN'), ('અને', 'CC_CCD'), ('પવિત્રતામાં', 'N_NN'), ('છે', 'V_VAUX'), ('.', 'RD_PUNC')]\n",
            "[('જેમાં', 'PR_PRL'), ('જન્મ', 'N_NN'), (',', 'RD_PUNC'), ('જીવન', 'N_NN'), (',', 'RD_PUNC'), ('મૃત્યુ', 'N_NN'), (',', 'RD_PUNC'), ('લગ્ન', 'JJ'), ('વગેરેનો', 'PSP'), ('સમાવેશ', 'N_NN'), ('થાય', 'V_VM'), ('છે', 'V_VAUX'), ('.', 'RD_PUNC')]\n",
            "[('રાષ્ટ્રને', 'N_NN'), ('ટકાવી', 'N_NN'), ('રાખવા', 'V_VAUX_VNP'), ('માટે', 'PSP'), (',', 'RD_PUNC'), ('સંતુલિત', 'N_NN'), ('વૃદ્ધિ', 'N_NN'), ('અને', 'CC_CCD'), ('વિકાસ', 'N_NN'), ('માટે', 'PSP'), (',', 'RD_PUNC'), ('માનવવિકાસ', 'N_NN'), ('માટે', 'PSP'), ('તે', 'DM_DMD'), ('આવશ્યક', 'JJ'), ('છે', 'V_VAUX'), ('જ', 'RP_RPD'), ('.', 'RD_PUNC')]\n",
            "[('રાષ્ટ્રપ્રેમ', 'N_NN'), ('એ', 'DM_DMD'), ('જ', 'RP_RPD'), ('રાષ્ટ્રધર્મ', 'N_NN'), ('છે', 'V_VAUX'), ('.', 'RD_PUNC')]\n",
            "[('છતાં', 'RP_RPD'), ('કોઈ', 'DM_DMI'), ('પણ', 'RP_RPD'), ('સ્વતંત્રતા', 'N_NN'), ('નિરંકુશ', 'N_NN'), ('કે', 'CC_CCS'), ('અનિયંત્રિત', 'N_NN'), ('નથી', 'RP_NEG'), ('હોતી', 'V_VAUX'), ('.', 'RD_PUNC')]\n",
            "[('પુરાતત્ત્વ', 'N_NNP'), ('સંશોધક', 'JJ'), ('``', 'RD_PUNC'), ('બીલના', 'PSP'), ('``', 'RD_PUNC'), ('મતાનુસાર', 'PSP'), ('બાઈબલના', 'N_NN'), ('નવા', 'N_NN'), ('કરાર', 'JJ'), ('કરતા', 'V_VAUX_VNP'), ('પણ', 'RP_RPD'), ('``', 'RD_PUNC'), ('સાતસોગણું', 'N_NNP'), ('``', 'RD_PUNC'), ('ભારતવર્ષનું', 'N_NNP'), ('બૌદ્ધ', 'JJ'), ('સાહિત્ય', 'N_NN'), ('ચીની', 'JJ'), ('ભાષામાં', 'JJ'), ('રચાયું', 'V_VM'), ('છે', 'V_VAUX'), ('.', 'RD_PUNC')]\n"
          ],
          "name": "stdout"
        }
      ]
    },
    {
      "cell_type": "code",
      "metadata": {
        "id": "PqYRCAXvsv8I"
      },
      "source": [
        "dict_true['philosophy'] = y_true\n",
        "dict_pred['philosophy'] = y_pred"
      ],
      "execution_count": null,
      "outputs": []
    },
    {
      "cell_type": "markdown",
      "metadata": {
        "id": "r-RR6CGZsvAl"
      },
      "source": [
        "## guj_religion_sample5.txt"
      ]
    },
    {
      "cell_type": "code",
      "metadata": {
        "colab": {
          "base_uri": "https://localhost:8080/"
        },
        "id": "eqCIHWpUsvAm",
        "outputId": "90f4f023-da1d-4353-fb81-95973885e8a6"
      },
      "source": [
        "# path = '/content/drive/MyDrive/nlpproject/data/guj_religion_sample5.txt'\n",
        "path = '/content/temp/guj_religion_sample5.txt'\n",
        "def process_file(path):\n",
        "  f = open(path,'r')\n",
        "  tagged_sentence = []\n",
        "  for line in f:\n",
        "    line = line.split()[1:]\n",
        "    temp = []\n",
        "    for i in line:\n",
        "      i = i.split('\\\\')\n",
        "      temp.append((i[0],i[1]))\n",
        "    tagged_sentence.append(temp)\n",
        "\n",
        "  return tagged_sentence\n",
        "\n",
        "\n",
        "tagged_sentence = process_file(path)\n",
        "print(len(tagged_sentence))"
      ],
      "execution_count": null,
      "outputs": [
        {
          "output_type": "stream",
          "text": [
            "1000\n"
          ],
          "name": "stdout"
        }
      ]
    },
    {
      "cell_type": "code",
      "metadata": {
        "id": "dpKe_VfQsvAm"
      },
      "source": [
        "def word_to_ix(word, ix):\n",
        "    return torch.tensor(ix[word], dtype = torch.long)\n",
        "\n",
        "def char_to_ix(char, ix):\n",
        "    return torch.tensor(ix[char], dtype= torch.long)\n",
        "\n",
        "def tag_to_ix(tag, ix):\n",
        "    return torch.tensor(ix[tag], dtype= torch.long)\n",
        "\n",
        "def sequence_to_idx(sequence, ix):\n",
        "    return torch.tensor([ix[s] for s in sequence], dtype=torch.long)\n",
        "\n",
        "\n",
        "word_to_idx = {}\n",
        "tag_to_idx = {}\n",
        "char_to_idx = {}\n",
        "for sentence in tagged_sentence:\n",
        "    for word, pos_tag in sentence:\n",
        "        if word not in word_to_idx.keys():\n",
        "            word_to_idx[word] = len(word_to_idx)\n",
        "        if pos_tag not in tag_to_idx.keys():\n",
        "            tag_to_idx[pos_tag] = len(tag_to_idx)\n",
        "        for char in word:\n",
        "            if char not in char_to_idx.keys():\n",
        "                char_to_idx[char] = len(char_to_idx)"
      ],
      "execution_count": null,
      "outputs": []
    },
    {
      "cell_type": "code",
      "metadata": {
        "colab": {
          "base_uri": "https://localhost:8080/"
        },
        "id": "S77gH0U7svAn",
        "outputId": "958540f4-a76b-4bba-fbeb-1a952898de46"
      },
      "source": [
        "word_vocab_size = len(word_to_idx)\n",
        "tag_vocab_size = len(tag_to_idx)\n",
        "char_vocab_size = len(char_to_idx)\n",
        "\n",
        "print(\"Unique words: {}\".format(len(word_to_idx)))\n",
        "print(\"Unique tags: {}\".format(len(tag_to_idx)))\n",
        "print(\"Unique characters: {}\".format(len(char_to_idx)))"
      ],
      "execution_count": null,
      "outputs": [
        {
          "output_type": "stream",
          "text": [
            "Unique words: 4242\n",
            "Unique tags: 29\n",
            "Unique characters: 81\n"
          ],
          "name": "stdout"
        }
      ]
    },
    {
      "cell_type": "code",
      "metadata": {
        "id": "YxIAbB9ZsvAo"
      },
      "source": [
        "import random\n",
        "\n",
        "tr_random = random.sample(list(range(len(tagged_sentence))), int(0.95 * len(tagged_sentence)))\n",
        "\n",
        "train = [tagged_sentence[i] for i in tr_random]\n",
        "test = [tagged_sentence[i] for i in range(len(tagged_sentence)) if i not in tr_random]"
      ],
      "execution_count": null,
      "outputs": []
    },
    {
      "cell_type": "code",
      "metadata": {
        "colab": {
          "base_uri": "https://localhost:8080/"
        },
        "id": "6VPSJYcSsvAo",
        "outputId": "64673ebe-4299-4cad-94ab-7c6b801a791c"
      },
      "source": [
        "print(\"Training set Size \",len(train))\n",
        "print(\"Test set Size \",len(test))\n",
        "print(\"Sample Test\")\n",
        "print(test[2])"
      ],
      "execution_count": null,
      "outputs": [
        {
          "output_type": "stream",
          "text": [
            "Training set Size  950\n",
            "Test set Size  50\n",
            "Sample Test\n",
            "[('શિવ', 'N_NNP'), ('ત્રિલોચન', 'N_NN'), ('છે', 'V_VAUX'), ('.', 'RD_PUNC')]\n"
          ],
          "name": "stdout"
        }
      ]
    },
    {
      "cell_type": "code",
      "metadata": {
        "id": "su2wAcq8svAp"
      },
      "source": [
        "WORD_EMBEDDING_DIM = 1024\n",
        "CHAR_EMBEDDING_DIM = 128\n",
        "WORD_HIDDEN_DIM = 1024\n",
        "CHAR_HIDDEN_DIM = 1024\n",
        "EPOCHS = 20\n",
        "\n",
        "class DualLSTMTagger(nn.Module):\n",
        "  def __init__(self, word_embedding_dim, word_hidden_dim, char_embedding_dim, char_hidden_dim, word_vocab_size, char_vocab_size, tag_vocab_size):\n",
        "    super(DualLSTMTagger, self).__init__()\n",
        "    self.word_embedding = nn.Embedding(word_vocab_size, word_embedding_dim)\n",
        "    \n",
        "    self.char_embedding = nn.Embedding(char_vocab_size, char_embedding_dim)\n",
        "    self.char_lstm = nn.LSTM(char_embedding_dim, char_hidden_dim)\n",
        "    self.lstm = nn.LSTM(word_embedding_dim + char_hidden_dim, word_hidden_dim,bidirectional=True)\n",
        "\n",
        "    self.hidden2tag = nn.Linear(word_hidden_dim*2, tag_vocab_size)\n",
        "      \n",
        "  def forward(self, sentence, words):\n",
        "    embeds = self.word_embedding(sentence)\n",
        "    char_hidden_final = []\n",
        "    for word in words:\n",
        "        char_embeds = self.char_embedding(word)\n",
        "        _, (char_hidden, char_cell_state) = self.char_lstm(char_embeds.view(len(word), 1, -1))\n",
        "        word_char_hidden_state = char_hidden.view(-1)\n",
        "        char_hidden_final.append(word_char_hidden_state)\n",
        "    char_hidden_final = torch.stack(tuple(char_hidden_final))\n",
        "    \n",
        "    combined = torch.cat((embeds, char_hidden_final), 1)\n",
        "\n",
        "    lstm_out, _ = self.lstm(combined.view(len(sentence), 1, -1))\n",
        "    tag_space = self.hidden2tag(lstm_out.view(len(sentence), -1))\n",
        "    \n",
        "    tag_scores = F.log_softmax(tag_space, dim=1)\n",
        "    return tag_scores"
      ],
      "execution_count": null,
      "outputs": []
    },
    {
      "cell_type": "code",
      "metadata": {
        "id": "_JhUhaClsvAp"
      },
      "source": [
        "model = DualLSTMTagger(WORD_EMBEDDING_DIM, WORD_HIDDEN_DIM, CHAR_EMBEDDING_DIM, CHAR_HIDDEN_DIM, word_vocab_size, char_vocab_size, tag_vocab_size)\n",
        "\n",
        "use_cuda = torch.cuda.is_available()\n",
        "device = torch.device(\"cuda:0\" if use_cuda else \"cpu\")\n",
        "\n",
        "if use_cuda:\n",
        "    model.cuda()\n",
        "\n",
        "loss_function = nn.NLLLoss()\n",
        "optimizer = optim.Adam(model.parameters(), lr=0.001)\n"
      ],
      "execution_count": null,
      "outputs": []
    },
    {
      "cell_type": "code",
      "metadata": {
        "colab": {
          "base_uri": "https://localhost:8080/"
        },
        "id": "IyIOxIe8svAp",
        "outputId": "be7f6da2-d567-44df-fcfb-f0a1d82d727c"
      },
      "source": [
        "accuracy_list = []\n",
        "loss_list = []\n",
        "interval = round(len(train) / 100.)\n",
        "epochs = EPOCHS\n",
        "e_interval = round(epochs / 10.)\n",
        "for epoch in range(epochs):\n",
        "    acc = 0 #to keep track of accuracy\n",
        "    loss = 0 # To keep track of the loss value\n",
        "    i = 0\n",
        "    for sentence_tag in train:\n",
        "        i += 1\n",
        "        words = [torch.tensor(sequence_to_idx(s[0], char_to_idx), dtype=torch.long).to(device) for s in sentence_tag]\n",
        "        sentence = [s[0] for s in sentence_tag]\n",
        "        sentence = torch.tensor(sequence_to_idx(sentence, word_to_idx), dtype=torch.long).to(device)\n",
        "        targets = [s[1] for s in sentence_tag]\n",
        "        targets = torch.tensor(sequence_to_idx(targets, tag_to_idx), dtype=torch.long).to(device)\n",
        "        \n",
        "        model.zero_grad()\n",
        "        \n",
        "        tag_scores = model(sentence, words)\n",
        "        \n",
        "        loss = loss_function(tag_scores, targets)\n",
        "        loss.backward()\n",
        "        optimizer.step()\n",
        "        loss += loss.item()\n",
        "        _, indices = torch.max(tag_scores, 1)\n",
        "#         print(indices == targets)\n",
        "        acc += torch.mean(torch.tensor(targets == indices, dtype=torch.float))\n",
        "        if i % interval == 0:\n",
        "            print(\"Epoch {} Running;\\t{}% Complete\".format(epoch + 1, i / interval), end = \"\\r\", flush = True)\n",
        "    loss = loss / len(train)\n",
        "    acc = acc / len(train)\n",
        "    loss_list.append(float(loss))\n",
        "    accuracy_list.append(float(acc))\n",
        "    if (epoch + 1) % e_interval == 0:\n",
        "        print(\"Epoch {} Completed,\\tLoss {}\\tAccuracy: {}\".format(epoch + 1, np.mean(loss_list[-e_interval:]), np.mean(accuracy_list[-e_interval:]))) "
      ],
      "execution_count": null,
      "outputs": [
        {
          "output_type": "stream",
          "text": [
            "/usr/local/lib/python3.7/dist-packages/ipykernel_launcher.py:12: UserWarning: To copy construct from a tensor, it is recommended to use sourceTensor.clone().detach() or sourceTensor.clone().detach().requires_grad_(True), rather than torch.tensor(sourceTensor).\n",
            "  if sys.path[0] == '':\n",
            "/usr/local/lib/python3.7/dist-packages/ipykernel_launcher.py:14: UserWarning: To copy construct from a tensor, it is recommended to use sourceTensor.clone().detach() or sourceTensor.clone().detach().requires_grad_(True), rather than torch.tensor(sourceTensor).\n",
            "  \n",
            "/usr/local/lib/python3.7/dist-packages/ipykernel_launcher.py:16: UserWarning: To copy construct from a tensor, it is recommended to use sourceTensor.clone().detach() or sourceTensor.clone().detach().requires_grad_(True), rather than torch.tensor(sourceTensor).\n",
            "  app.launch_new_instance()\n",
            "/usr/local/lib/python3.7/dist-packages/ipykernel_launcher.py:28: UserWarning: To copy construct from a tensor, it is recommended to use sourceTensor.clone().detach() or sourceTensor.clone().detach().requires_grad_(True), rather than torch.tensor(sourceTensor).\n"
          ],
          "name": "stderr"
        },
        {
          "output_type": "stream",
          "text": [
            "Epoch 2 Completed,\tLoss 0.0006507597945528687\tAccuracy: 0.8515933752059937\n",
            "Epoch 4 Completed,\tLoss 2.5728663786139805e-06\tAccuracy: 0.9923615455627441\n",
            "Epoch 6 Completed,\tLoss 1.6967012115287616e-06\tAccuracy: 0.999077171087265\n",
            "Epoch 8 Completed,\tLoss 5.444219432604314e-06\tAccuracy: 0.9907204806804657\n",
            "Epoch 10 Completed,\tLoss 2.5271182835240324e-07\tAccuracy: 0.9969357848167419\n",
            "Epoch 12 Completed,\tLoss 3.279739857475761e-08\tAccuracy: 0.9999999403953552\n",
            "Epoch 14 Completed,\tLoss 1.632833779297016e-08\tAccuracy: 0.9999999403953552\n",
            "Epoch 16 Completed,\tLoss 7.1368357890122525e-09\tAccuracy: 0.9999999403953552\n",
            "Epoch 18 Completed,\tLoss 3.0115971938471375e-09\tAccuracy: 0.9999999403953552\n",
            "Epoch 20 Completed,\tLoss 1.317575271109206e-09\tAccuracy: 0.9999999403953552\n"
          ],
          "name": "stdout"
        }
      ]
    },
    {
      "cell_type": "code",
      "metadata": {
        "colab": {
          "base_uri": "https://localhost:8080/"
        },
        "id": "BVWKCMq6svAp",
        "outputId": "40f22c0a-9557-4df1-dad3-9cfffb8b6270"
      },
      "source": [
        "y_true = []\n",
        "y_pred = []\n",
        "for sentence in test:\n",
        "  seq = \"\"\n",
        "  for s in range(len(sentence)):\n",
        "    if(s==(len(sentence)-1)):\n",
        "      seq+= sentence[s][0]\n",
        "    else:\n",
        "      seq += sentence[s][0] + \" \"\n",
        "    y_true.append(sentence[s][1])\n",
        "  \n",
        "  seq = seq.split()\n",
        "  with torch.no_grad():\n",
        "    words = [torch.tensor(sequence_to_idx(s[0], char_to_idx), dtype=torch.long).to(device) for s in seq]\n",
        "    sentence = torch.tensor(sequence_to_idx(seq, word_to_idx), dtype=torch.long).to(device)\n",
        "        \n",
        "    tag_scores = model(sentence, words)\n",
        "    _, indices = torch.max(tag_scores, 1)\n",
        "    ret = []\n",
        "    for i in range(len(indices)):\n",
        "        for key, value in tag_to_idx.items():\n",
        "            if indices[i] == value:\n",
        "                ret.append((seq[i], key))\n",
        "                y_pred.append(key)\n",
        "    print(ret)"
      ],
      "execution_count": null,
      "outputs": [
        {
          "output_type": "stream",
          "text": [
            "[('શિવજીની', 'N_NN'), ('બે', 'QT_QTC'), ('અવસ્થાઓ', 'N_NN'), ('માનવામાં', 'V_VAUX_VNP'), ('આવી', 'V_VAUX'), ('છે', 'V_VAUX'), ('.', 'RD_PUNC')]\n",
            "[('નટરાજનું', 'N_NNP'), ('નૃત્ય', 'N_NN'), ('આ', 'DM_DMD'), ('સૃષ્ટિ', 'N_NN'), (',', 'RD_PUNC'), ('સ્થિતિ', 'N_NN'), (',', 'RD_PUNC'), ('સંહાર', 'N_NN'), (',', 'RD_PUNC'), ('તિરોભાવ', 'N_NN'), ('(', 'RD_SYM'), ('માયાનું', 'PSP'), ('આવરણ', 'PSP'), (')', 'RD_SYM'), ('અને', 'CC_CCD'), ('અનુગ્રહ', 'N_NN'), ('આ', 'DM_DMD'), ('પાંચ', 'N_NN'), ('ઈશ્વરી', 'V_VAUX_VNP'), ('ક્રિયાઓનું', 'N_NN'), ('દ્યોતક', 'N_NN'), ('માનવામાં', 'V_VAUX_VNP'), ('આવે', 'V_VAUX'), ('છે', 'V_VAUX'), ('.', 'RD_PUNC')]\n",
            "[('શિવ', 'N_NNP'), ('ત્રિલોચન', 'N_NNP'), ('છે', 'V_VAUX'), ('.', 'RD_PUNC')]\n",
            "[('સ્કંદપુરાણમાં', 'JJ'), ('ઉપદેશ્યું', 'N_NN'), ('છે', 'V_VAUX'), ('કે', 'CC_CCS'), ('શિવલિંગ', 'N_NN'), ('ઉપાસના', 'N_NN'), ('કરવાથી', 'V_VAUX_VNP'), ('ઈન્દ્ર', 'V_VM'), (',', 'RD_PUNC'), ('વરુણ', 'N_NN'), (',', 'RD_PUNC'), ('કુબેર', 'JJ'), (',', 'RD_PUNC'), ('સૂર્ય', 'N_NNP'), (',', 'RD_PUNC'), ('ચંદ્ર', 'N_NN'), ('વગેરેમાંથી', 'N_NN'), ('કોઈ', 'PR_PRI'), ('સ્વર્ગાધિપતિ', 'N_NN'), ('બન્યા', 'N_NN'), (',', 'RD_PUNC'), ('કોઈ', 'DM_DMI'), ('રાજાની', 'N_NN'), ('પદવીને', 'N_NN'), ('પામ્યા', 'N_NN'), ('.', 'RD_PUNC')]\n",
            "[('વિશ્વકર્માના', 'N_NNP'), ('નામમાં', 'N_NN'), ('`', 'RD_PUNC'), ('મા', 'N_NN'), ('`', 'RD_PUNC'), ('અક્ષર', 'N_NN'), ('છે', 'V_VAUX'), ('કારણકે', 'CC_CCS'), ('તેમણે', 'PR_PRP'), ('પોતાના', 'PR_PRF'), ('પાંચે', 'N_NN'), ('ય', 'RP_RPD'), ('પુત્રોને', 'N_NN'), ('મા', 'N_NN'), ('અને', 'CC_CCD'), ('બાપ', 'N_NN'), ('બંનેનો', 'PSP'), ('સ્નેહ', 'N_NN'), ('આપ્યો', 'V_VM'), ('હતો', 'V_VAUX'), ('.', 'RD_PUNC')]\n",
            "[('વિશ્વકર્મા', 'N_NNP'), ('પોતે', 'PR_PRF'), ('શિવરૂપ', 'N_NN'), ('હોવાથી', 'N_NN'), ('તેમના', 'PR_PRP'), ('વંશજો', 'N_NN'), ('પણ', 'RP_RPD'), ('શિવરૂપ', 'N_NN'), ('ગણાય', 'N_NN'), ('છે', 'V_VAUX'), ('.', 'RD_PUNC')]\n",
            "[('તે', 'DM_DMD'), ('બધાએ', 'N_NN'), ('ત્રિકાળ', 'V_VM'), ('સંધ્યા', 'JJ'), (',', 'RD_PUNC'), ('ગાયત્રી', 'N_NN'), ('પૂજન', 'N_NN'), (',', 'RD_PUNC'), ('વેદાભ્યાસ', 'V_VAUX_VNP'), ('અને', 'CC_CCD'), ('ઓમનું', 'CC_CCD'), ('ધ્યાન', 'N_NN'), ('કરવું', 'V_VAUX_VNP'), ('જોઈએ', 'V_VAUX'), ('.', 'RD_PUNC')]\n",
            "[('વિશ્વકર્મા', 'N_NNP'), ('વંશ', 'N_NN'), ('જ', 'RP_RPD'), ('દાદાનો', 'N_NN'), ('જીજ્ઞાસુ', 'N_NN'), ('ભગત', 'JJ'), ('છે', 'V_VAUX'), ('.', 'RD_PUNC')]\n",
            "[('જગના', 'JJ'), ('સજીવોના', 'N_NN'), ('જન્મ', 'N_NN'), (',', 'RD_PUNC'), ('પોષણ', 'N_NN'), ('અને', 'CC_CCD'), ('અંત', 'JJ'), ('પ્રક્રિયાનું', 'PSP'), ('સંચાલન', 'JJ'), ('સંભાળતા', 'N_NN'), ('દેવો', 'N_NN'), ('એટલે', 'PSP'), ('બ્રહ્મા', 'N_NNP'), (',', 'RD_PUNC'), ('વિષ્ણુ', 'N_NNP'), ('અને', 'CC_CCD'), ('મહેશ', 'N_NN'), ('.', 'RD_PUNC')]\n",
            "[('પંતજલિના', 'N_NN'), ('અષ્ટાંગ', 'JJ'), ('યોગનું', 'N_NN'), ('અંતિમ', 'N_NN'), ('ચરણ', 'N_NN'), ('સમાધિ', 'N_NN'), ('છે', 'V_VAUX'), ('.', 'RD_PUNC')]\n"
          ],
          "name": "stdout"
        },
        {
          "output_type": "stream",
          "text": [
            "/usr/local/lib/python3.7/dist-packages/ipykernel_launcher.py:14: UserWarning: To copy construct from a tensor, it is recommended to use sourceTensor.clone().detach() or sourceTensor.clone().detach().requires_grad_(True), rather than torch.tensor(sourceTensor).\n",
            "  \n",
            "/usr/local/lib/python3.7/dist-packages/ipykernel_launcher.py:15: UserWarning: To copy construct from a tensor, it is recommended to use sourceTensor.clone().detach() or sourceTensor.clone().detach().requires_grad_(True), rather than torch.tensor(sourceTensor).\n",
            "  from ipykernel import kernelapp as app\n"
          ],
          "name": "stderr"
        },
        {
          "output_type": "stream",
          "text": [
            "[('પતંજલિના', 'N_NNP'), ('અષ્ટાંગ', 'JJ'), ('યોગનાં', 'N_NN'), ('આઠ', 'V_VM'), ('અંગો', 'N_NN'), ('છે', 'V_VAUX'), ('.', 'RD_PUNC')]\n",
            "[('આ', 'DM_DMD'), ('શબ્દ', 'N_NN'), ('મુખ્યત્વે', 'N_NN'), ('જૈન', 'QT_QTF'), ('આરાધકવર્ગમાં', 'QT_QTF'), ('ખૂબ', 'QT_QTF'), ('ખૂબ', 'QT_QTF'), ('પ્રસિદ્ધ', 'JJ'), ('છે', 'V_VAUX'), ('.', 'RD_PUNC')]\n",
            "[('અને', 'CC_CCD'), ('દરેક', 'JJ'), ('દીક્ષા', 'N_NN'), ('મહોત્સવના', 'N_NN'), ('અંતે', 'N_NN'), (',', 'RD_PUNC'), ('મુમુક્ષના', 'N_NNP'), ('વિરલ', 'JJ'), ('ત્યાગની', 'N_NN'), ('સક્રિય', 'QT_QTC'), ('અનુમોદનાર્થે', 'V_VM'), ('કોઈ', 'DM_DMI'), ('એક', 'QT_QTC'), ('ત્યાગનિયમ', 'PR_PRP'), ('સ્વૈચ્છિકપણે', 'QT_QTC'), ('આજીવન', 'JJ'), ('સ્વીકારું', 'V_VM'), ('છું', 'V_VAUX'), ('.', 'RD_PUNC')]\n",
            "[('પૂના', 'N_NN'), ('શહેરના', 'V_VM'), ('તે', 'DM_DMD'), ('સમયના', 'PR_PRP'), ('વિધાનસભ્ય', 'V_VAUX_VNP'), ('અને', 'CC_CCD'), ('જૈન', 'JJ'), ('અગ્રણી', 'JJ'), ('પોપટલાલ', 'V_VAUX_VNP'), ('રામચંદ્ર', 'JJ'), ('શાહ', 'V_VM'), ('.', 'RD_PUNC')]\n",
            "[('ભરત', 'N_NNP'), ('જેવો', 'JJ'), ('રામસ્નેહી', 'N_NN'), ('કોણ', 'N_NN'), ('છે', 'V_VAUX'), ('?', 'RD_PUNC')]\n",
            "[('ભરતે', 'N_NNP'), ('ખૂબ', 'QT_QTF'), ('ધીરજપૂર્વક', 'JJ'), ('પિતાની', 'N_NN'), ('ઔર્ધ્વદેહિક', 'N_NN'), ('ક્રિયાઓ', 'N_NN'), ('પૂરી', 'JJ'), ('કરી', 'V_VM'), ('.', 'RD_PUNC')]\n",
            "[('કેવું', 'DM_DMQ'), ('હતું', 'V_VAUX'), ('તેમનું', 'PR_PRP'), ('સામર્થ્ય', 'N_NN'), ('!', 'RD_PUNC')]\n",
            "[('સ્વામીનો', 'QT_QTC'), ('સ્વભાવ', 'N_NN'), ('ખૂબ', 'QT_QTF'), ('જ', 'RP_RPD'), ('દયાળુ', 'JJ'), ('હતો', 'V_VAUX'), ('.', 'RD_PUNC')]\n",
            "[('રાજકોટની', 'N_NN'), ('અંદર', 'N_NST'), ('સ્વામીના', 'N_NN'), ('એક', 'QT_QTC'), ('શબ્દે', 'N_NN'), ('બોરડીએ', 'N_NN'), ('પોતાના', 'PR_PRF'), ('કાંટા', 'JJ'), ('ખેરવી', 'N_NN'), ('નાખ્યા', 'JJ'), ('હતા', 'V_VAUX'), ('.', 'RD_PUNC')]\n",
            "[('કોઈ', 'DM_DMI'), ('આ', 'DM_DMD'), ('નીલકંઠવર્ણીને', 'N_NN'), ('રોકીને', 'N_NN'), ('પોતાની', 'PR_PRF'), ('પાસે', 'PSP'), ('રાખી', 'V_VM'), ('શક્યા', 'JJ'), ('ન', 'RP_NEG'), ('હતા', 'V_VAUX'), ('.', 'RD_PUNC')]\n",
            "[('વડોદરાની', 'N_NNP'), ('વિદ્વતસભામાં', 'V_VAUX_VNP'), ('વિજય', 'N_NN'), ('મેળવી', 'V_VM'), ('સ્વામીનારાયણ', 'N_NNP'), ('સંપ્રદાયનો', 'N_NNP'), ('વિશ્વમાં', 'N_NN'), ('વિજય', 'N_NN'), ('ધ્વજ', 'N_NN'), ('પણ', 'RP_RPD'), ('તેમણે', 'PR_PRP'), ('જ', 'RP_RPD'), ('લ્હેરાવ્યો', 'V_VM'), ('છે', 'V_VAUX'), ('.', 'RD_PUNC')]\n",
            "[('સ્વામીનારાયણ', 'N_NNP'), ('સંપ્રદાયના', 'N_NNP'), ('સાહિત્ય', 'N_NN'), ('સર્જનમાં', 'N_NN'), ('સદ્', 'JJ'), ('શ્રીમુક્તાનંદ', 'N_NN'), ('સ્વામીનો', 'QT_QTC'), ('મહત્ત્વનો', 'JJ'), ('ફાળો', 'N_NN'), ('છે', 'V_VAUX'), ('.', 'RD_PUNC')]\n",
            "[('સ્વામીનારાયણ', 'N_NNP'), ('સંપ્રદાયના', 'N_NNP'), ('આ', 'DM_DMD'), ('મહાન', 'JJ'), ('સંતોના', 'N_NN'), (',', 'RD_PUNC'), ('કવિઓનાં', 'N_NST'), ('કીર્તન', 'N_NN'), ('આજે', 'N_NST'), ('૨૦૦', 'QT_QTC'), ('વર્ષ', 'N_NN'), ('પછી', 'PSP'), ('પણ', 'RP_RPD'), ('એવાં', 'N_NN'), ('ને', 'CC_CCD'), ('એવાં', 'V_VM'), ('જ', 'RP_RPD'), ('તાજગીભર્યા', 'JJ'), ('છે', 'V_VAUX'), ('.', 'RD_PUNC')]\n",
            "[('સ્વામીનારાયણ', 'N_NNP'), ('સંપ્રદાયના', 'N_NNP'), ('કવિઓમાં', 'N_NN'), ('સદ્', 'JJ'), ('શ્રી', 'N_NN'), ('બ્રહ્માનંદસ્વામીને', 'N_NNP'), ('સૂર્ય', 'N_NNP'), ('સમા', 'QT_QTC'), ('તેજસ્વી', 'JJ'), ('મહાકવિ', 'N_NN'), ('તરીકે', 'PSP'), ('બિરદાવામાં', 'N_NN'), ('આવેલ', 'V_VAUX_VNP'), ('છે', 'V_VAUX'), ('.', 'RD_PUNC')]\n",
            "[('ત્યારે', 'N_NST'), ('સ્વામી', 'N_NN'), ('કહે', 'V_VM'), ('કે', 'CC_CCS'), (',', 'RD_PUNC'), ('હું', 'PR_PRP'), ('શ્રીજીને', 'N_NNP'), ('રાજી', 'JJ'), ('કરવા', 'N_NN'), ('લખું', 'V_VAUX_VNP'), ('છું', 'V_VAUX'), ('.', 'RD_PUNC')]\n",
            "[('તાવ', 'N_NN'), ('આવ્યો', 'V_VM'), ('હતો', 'V_VAUX'), ('.', 'RD_PUNC')]\n",
            "[('વૈરાગ્યમાં', 'N_NN'), ('શિખર', 'N_NN'), ('સમાન', 'JJ'), ('અને', 'CC_CCD'), ('સાદગીમાં', 'QT_QTC'), ('અજોડ', 'JJ'), ('હતા', 'V_VAUX'), ('.', 'RD_PUNC')]\n",
            "[('સ્વામિનારાયણ', 'N_NNP'), ('સંપ્રદાયમાં', 'N_NNP'), ('શૈક્ષણિક', 'V_VM'), ('ક્ષેત્રે', 'N_NN'), ('અને', 'CC_CCD'), ('સામાજીક', 'JJ'), ('ક્ષેત્રે', 'N_NN'), ('સૌ', 'JJ'), ('પ્રથમ', 'QT_QTO'), ('કદમ', 'RP_RPD'), ('ઊઠાવી', 'PSP'), ('મુક્તજીવન', 'N_NNP'), ('સ્વામીબાપાએ', 'N_NNP'), ('સ્વામીનારાયણ', 'N_NNP'), ('કૉલેજ', 'JJ'), ('-', 'RD_PUNC'), ('હાઈસ્કુલ', 'V_VM'), (',', 'RD_PUNC'), ('છાત્રાલય', 'RD_PUNC'), ('હૉસ્પિટલ', 'QT_QTF'), ('આદિ', 'PSP'), ('સ્થાયી', 'N_NN'), ('જનસમાજની', 'QT_QTC'), ('સેવા', 'N_NN'), ('કરવાનો', 'JJ'), ('રાહ', 'JJ'), ('ચીંધ્યો', 'N_NN'), ('.', 'RD_PUNC')]\n",
            "[('આવા', 'JJ'), ('વિશ્વાસને', 'N_NN'), ('પાત્ર', 'JJ'), ('રૂપ', 'N_NN'), ('તે', 'DM_DMD'), ('સંત', 'N_NN'), ('છે', 'V_VAUX'), ('.', 'RD_PUNC')]\n",
            "[('ભક્તિ', 'N_NN'), ('ખીલી', 'N_NN'), ('ઊઠે', 'V_VM'), ('છે', 'V_VAUX'), ('.', 'RD_PUNC')]\n",
            "[('જે', 'PR_PRL'), ('વાક્યનો', 'N_NN'), ('ઊહાપોહ', 'JJ'), ('તમે', 'PR_PRP'), ('કર્યો', 'V_VM'), ('છે', 'V_VAUX'), ('એને', 'DM_DMD'), ('હું', 'PR_PRP'), ('નિર્દોષ', 'N_NN'), ('વાક્ય', 'N_NN'), ('ગણું', 'N_NN'), ('છું', 'V_VAUX'), ('.', 'RD_PUNC')]\n",
            "[('તો', 'CC_CCD'), ('પછી', 'PSP'), ('માતા', 'N_NN'), ('તમે', 'PR_PRP'), ('રહો', 'N_NN'), ('આપણી', 'PR_PRP'), ('રાજધાની', 'N_NN'), ('ઈન્દ્રપ્રસ્થમાં', 'V_VM'), ('!', 'RD_PUNC')]\n",
            "[('એ', 'DM_DMD'), ('કોઈ', 'PR_PRI'), ('પણ', 'RP_RPD'), ('સ્થળે', 'N_NN'), ('હોય', 'V_VAUX'), (',', 'RD_PUNC'), ('તો', 'CC_CCD'), ('પણ', 'RP_RPD'), ('એને', 'DM_DMD'), ('પળેપળ', 'N_NN'), ('અને', 'CC_CCD'), ('ક્ષણેક્ષણ', 'JJ'), ('પોતાના', 'PR_PRF'), ('પુત્રોની', 'N_NN'), ('ચિંતા', 'N_NN'), ('સતાવતી', 'N_NN'), ('હોય', 'V_VAUX'), ('છે', 'V_VAUX'), ('.', 'RD_PUNC')]\n",
            "[('તમારે', 'PR_PRP'), ('માટે', 'PSP'), ('અમને', 'PR_PRP'), ('લાગે', 'V_VM'), ('છે', 'V_VAUX'), ('કે', 'CC_CCS'), ('સૌથી', 'JJ'), ('શ્રેષ્ઠ', 'JJ'), ('સ્થાન', 'N_NN'), ('તો', 'CC_CCD'), ('પાંડવોની', 'N_NNP'), ('રાજધાની', 'N_NN'), ('ઈન્દ્રપ્રસ્થનો', 'N_NNP'), ('રાજપ્રસાદ', 'N_NN'), ('છે', 'V_VAUX'), ('.', 'RD_PUNC')]\n",
            "[('ભલે', 'PSP'), ('દ્વારિકા', 'N_NNP'), ('તમારું', 'PR_PRP'), ('પિયર', 'N_NN'), ('ન', 'RP_NEG'), ('હોય', 'V_VAUX'), ('.', 'RD_PUNC')]\n",
            "[('મારે', 'PR_PRP'), ('માટે', 'PSP'), ('હવે', 'N_NST'), ('સુવર્ણમયી', 'JJ'), ('દ્વારિકામાં', 'N_NNP'), ('જઈને', 'V_VAUX_VNP'), ('વસવાનું', 'V_VM'), ('દુષ્કર', 'N_NNP'), ('બન્યું', 'V_VM'), ('છે', 'V_VAUX'), ('.', 'RD_PUNC')]\n",
            "[('મહેમાનને', 'PSP'), ('ગમો', 'N_NN'), ('અણગમો', 'V_VM'), ('કે', 'CC_CCS'), ('અભાવ', 'N_NN'), ('ન', 'RP_NEG'), ('પાલવે', 'N_NN'), ('.', 'RD_PUNC')]\n",
            "[('ભૌતિક', 'JJ'), ('સંદર્ભમાં', 'N_NN'), ('તેમજ', 'CC_CCD'), ('સામાજિક', 'V_VM'), ('કે', 'CC_CCS'), ('રાજકીય', 'PSP'), ('લોકશાહીના', 'N_NN'), ('પરિપ્રેક્ષ્યમાં', 'JJ'), (',', 'RD_PUNC'), ('પ્રત્યેક', 'JJ'), ('વ્યક્તિ', 'N_NN'), ('આ', 'DM_DMD'), ('રીતે', 'N_NN'), ('જ', 'RP_RPD'), (',', 'RD_PUNC'), ('સ્વતંત્ર', 'JJ'), ('અને', 'CC_CCD'), ('સમાન', 'JJ'), ('હોવાનું', 'N_NN'), ('અનુભવે', 'V_VM'), ('છે', 'V_VAUX'), ('.', 'RD_PUNC')]\n",
            "[('તેની', 'DM_DMD'), ('સમાનતા', 'N_NN'), ('અબાધિત', 'N_NN'), ('રહે', 'V_VAUX'), ('છે', 'V_VAUX'), ('.', 'RD_PUNC')]\n",
            "[('અને', 'CC_CCD'), ('પછી', 'PSP'), ('જુદી', 'JJ'), ('જુદી', 'JJ'), ('વિચારધારાઓમાં', 'N_NN'), ('પણ', 'RP_RPD'), ('કેવું', 'DM_DMQ'), ('સામરસ્ય', 'N_NN'), ('છે', 'V_VAUX'), ('તેનો', 'JJ'), ('સંકેત', 'N_NN'), ('સાંપડ્યા', 'N_NN'), ('વિના', 'PSP'), ('નહિ', 'RP_NEG'), ('રહે', 'V_VAUX'), ('.', 'RD_PUNC')]\n",
            "[('આ', 'DM_DMD'), ('પ્રકારના', 'N_NN'), ('અહંભાવમાંથી', 'N_NN'), ('ઈચ્છા', 'N_NN'), ('પેદા', 'JJ'), ('થઈ', 'V_VM'), ('.', 'RD_PUNC')]\n",
            "[('ક્રોધ', 'N_NN'), (',', 'RD_PUNC'), ('દ્વેષ', 'N_NN'), (',', 'RD_PUNC'), ('હતાશા', 'N_NN'), (',', 'RD_PUNC'), ('વ્યાકુળતા', 'N_NN'), ('વગેરે', 'PSP'), ('ભાવો', 'JJ'), ('પેદા', 'JJ'), ('થાય', 'V_VM'), ('ને', 'RP_RPD'), ('?', 'RD_PUNC')]\n",
            "[('હમણાં', 'N_NST'), ('વળી', 'PSP'), ('નવી', 'N_NN'), ('ઘટનાઓ', 'JJ'), ('શરૂ', 'JJ'), ('થઈ', 'V_VM'), ('છે', 'V_VAUX'), (',', 'RD_PUNC'), ('ચમત્કારોની', 'JJ'), ('.', 'RD_PUNC')]\n",
            "[('ક્યાંક', 'N_NST'), ('અમીઝરણાં', 'JJ'), ('થાય', 'V_VM'), (',', 'RD_PUNC'), ('ક્યાંક', 'N_NST'), ('વળી', 'PSP'), ('કેસરના', 'JJ'), ('છાંટણાં', 'V_VM'), ('પણ', 'RP_RPD'), ('થાય', 'V_VM'), ('.', 'RD_PUNC')]\n",
            "[('સ્વાર્થની', 'N_NN'), ('સામે', 'PSP'), ('મૂકી', 'JJ'), ('શકાય', 'V_VAUX'), ('તેવું', 'JJ'), ('તત્ત્વ', 'N_NN'), ('છે', 'V_VAUX'), ('`', 'RD_PUNC'), ('પ્રેમ', 'N_NN'), ('`', 'RD_PUNC'), ('.', 'RD_PUNC')]\n",
            "[('નુકસાનીનું', 'N_NN'), ('ત્યાં', 'N_NST'), ('નામ', 'N_NN'), ('ન', 'RP_NEG'), ('હોય', 'V_VAUX'), ('.', 'RD_PUNC')]\n",
            "[('અર્થાત્', 'PSP'), ('ભક્તિ', 'N_NN'), ('કાયમ', 'JJ'), ('સાચી', 'JJ'), ('જ', 'RP_RPD'), ('હોય', 'V_VAUX'), ('એવું', 'JJ'), ('નથી', 'RP_NEG'), ('.', 'RD_PUNC')]\n",
            "[('જગતના', 'QT_QTF'), ('દરેક', 'JJ'), ('ધર્મ', 'N_NN'), ('અને', 'CC_CCD'), ('સંપ્રદાયના', 'N_NN'), ('લોકો', 'N_NN'), ('પોતાના', 'PR_PRF'), ('અધિકારો', 'N_NN'), ('માટે', 'PSP'), ('લડે', 'JJ'), ('છે', 'V_VAUX'), ('.', 'RD_PUNC')]\n",
            "[('જૈન', 'JJ'), ('મુનિપદ', 'N_NN'), ('પ્રત્યેનો', 'PSP'), ('અહોભાવ', 'N_NN'), ('હૈયે', 'N_NN'), ('ઝળહળી', 'N_NN'), ('ઊઠ્યો', 'V_VAUX'), ('.', 'RD_PUNC')]\n",
            "[('દોષ', 'N_NN'), ('ક્રિયાનો', 'V_VM'), ('?', 'RD_PUNC')]\n"
          ],
          "name": "stdout"
        }
      ]
    },
    {
      "cell_type": "code",
      "metadata": {
        "id": "MXpVYO6csvAq"
      },
      "source": [
        "dict_true['religion'] = y_true\n",
        "dict_pred['religion'] = y_pred"
      ],
      "execution_count": null,
      "outputs": []
    },
    {
      "cell_type": "markdown",
      "metadata": {
        "id": "M2zjyztuYBQR"
      },
      "source": [
        "## guj_art and culture_sample1"
      ]
    },
    {
      "cell_type": "code",
      "metadata": {
        "colab": {
          "base_uri": "https://localhost:8080/"
        },
        "id": "q73_GmyDYBQR",
        "outputId": "722f380c-4164-4713-ae7f-af8efb1aa1c3"
      },
      "source": [
        "# path = '/content/drive/MyDrive/nlpproject/data/guj_art and culture_sample1.txt'\n",
        "path = '/content/temp/guj_art and culture_sample1.txt'\n",
        "def process_file(path):\n",
        "  f = open(path,'r')\n",
        "  tagged_sentence = []\n",
        "  for line in f:\n",
        "    line = line.split()[1:]\n",
        "    temp = []\n",
        "    for i in line:\n",
        "      i = i.split('\\\\')\n",
        "      temp.append((i[0],i[1]))\n",
        "    tagged_sentence.append(temp)\n",
        "\n",
        "  return tagged_sentence\n",
        "\n",
        "\n",
        "tagged_sentence = process_file(path)\n",
        "print(len(tagged_sentence))"
      ],
      "execution_count": null,
      "outputs": [
        {
          "output_type": "stream",
          "text": [
            "1000\n"
          ],
          "name": "stdout"
        }
      ]
    },
    {
      "cell_type": "code",
      "metadata": {
        "id": "6GRsJmEKYBQS"
      },
      "source": [
        "def word_to_ix(word, ix):\n",
        "    return torch.tensor(ix[word], dtype = torch.long)\n",
        "\n",
        "def char_to_ix(char, ix):\n",
        "    return torch.tensor(ix[char], dtype= torch.long)\n",
        "\n",
        "def tag_to_ix(tag, ix):\n",
        "    return torch.tensor(ix[tag], dtype= torch.long)\n",
        "\n",
        "def sequence_to_idx(sequence, ix):\n",
        "    return torch.tensor([ix[s] for s in sequence], dtype=torch.long)\n",
        "\n",
        "\n",
        "word_to_idx = {}\n",
        "tag_to_idx = {}\n",
        "char_to_idx = {}\n",
        "for sentence in tagged_sentence:\n",
        "    for word, pos_tag in sentence:\n",
        "        if word not in word_to_idx.keys():\n",
        "            word_to_idx[word] = len(word_to_idx)\n",
        "        if pos_tag not in tag_to_idx.keys():\n",
        "            tag_to_idx[pos_tag] = len(tag_to_idx)\n",
        "        for char in word:\n",
        "            if char not in char_to_idx.keys():\n",
        "                char_to_idx[char] = len(char_to_idx)"
      ],
      "execution_count": null,
      "outputs": []
    },
    {
      "cell_type": "code",
      "metadata": {
        "colab": {
          "base_uri": "https://localhost:8080/"
        },
        "id": "CRiuAncIYBQS",
        "outputId": "aa312b4b-7ab1-46e8-fb44-e208fc04b45e"
      },
      "source": [
        "word_vocab_size = len(word_to_idx)\n",
        "tag_vocab_size = len(tag_to_idx)\n",
        "char_vocab_size = len(char_to_idx)\n",
        "\n",
        "print(\"Unique words: {}\".format(len(word_to_idx)))\n",
        "print(\"Unique tags: {}\".format(len(tag_to_idx)))\n",
        "print(\"Unique characters: {}\".format(len(char_to_idx)))"
      ],
      "execution_count": null,
      "outputs": [
        {
          "output_type": "stream",
          "text": [
            "Unique words: 5353\n",
            "Unique tags: 30\n",
            "Unique characters: 114\n"
          ],
          "name": "stdout"
        }
      ]
    },
    {
      "cell_type": "code",
      "metadata": {
        "id": "4euCXdYWYBQS"
      },
      "source": [
        "import random\n",
        "\n",
        "tr_random = random.sample(list(range(len(tagged_sentence))), int(0.95 * len(tagged_sentence)))\n",
        "\n",
        "train = [tagged_sentence[i] for i in tr_random]\n",
        "test = [tagged_sentence[i] for i in range(len(tagged_sentence)) if i not in tr_random]"
      ],
      "execution_count": null,
      "outputs": []
    },
    {
      "cell_type": "code",
      "metadata": {
        "colab": {
          "base_uri": "https://localhost:8080/"
        },
        "id": "tKnNZNf-YBQS",
        "outputId": "cdd317a6-52a0-4eee-eb59-755bbccc91fd"
      },
      "source": [
        "print(\"Training set Size \",len(train))\n",
        "print(\"Test set Size \",len(test))\n",
        "print(\"Sample Test\")\n",
        "print(test[2])"
      ],
      "execution_count": null,
      "outputs": [
        {
          "output_type": "stream",
          "text": [
            "Training set Size  950\n",
            "Test set Size  50\n",
            "Sample Test\n",
            "[('કથાકાર', 'N_NN'), ('બાપ', 'N_NN'), ('તો', 'RP_RPD'), ('બાવો', 'N_NN'), ('બની', 'V_VAUX_VNP'), (',', 'RD_PUNC'), ('સંસાર', 'N_NN'), ('છોડી', 'V_VAUX_VNP'), ('ચાલી', 'V_VAUX_VNP'), ('નીકળ્યો', 'V_VM'), ('પણ', 'RP_RPD'), ('દીકરો', 'N_NN'), ('સંગીતના', 'N_NN'), ('રવાડે', 'N_NN'), ('ચઢી', 'V_VM'), ('ન', 'RP_NEG'), ('જાય', 'V_VAUX'), ('અને', 'CC_CCD'), ('કુટુંબ', 'N_NN'), ('માટે', 'PSP'), ('પૈસા', 'N_NN'), ('રળતો', 'V_VAUX_VNP'), ('થાય', 'V_VM'), ('એવી', 'JJ'), ('ઈચ્છાથી', 'N_NN'), ('વડીલોએ', 'N_NN'), ('વસંતને', 'N_NNP'), ('મુંબઈમાં', 'N_NNP'), ('આવેલી', 'V_VAUX_VNP'), ('મૂળજી', 'N_NNP'), ('જેઠા', 'N_NNP'), ('માર્કેટમાં', 'N_NNP'), ('મામાની', 'N_NN'), ('કાપડની', 'N_NN'), ('દુકાને', 'N_NN'), ('બેસાડી', 'V_VM'), ('દીધો', 'V_VAUX'), ('.', 'RD_PUNC')]\n"
          ],
          "name": "stdout"
        }
      ]
    },
    {
      "cell_type": "code",
      "metadata": {
        "id": "qwzzl_4KYBQS"
      },
      "source": [
        "WORD_EMBEDDING_DIM = 1024\n",
        "CHAR_EMBEDDING_DIM = 128\n",
        "WORD_HIDDEN_DIM = 1024\n",
        "CHAR_HIDDEN_DIM = 1024\n",
        "EPOCHS = 20\n",
        "\n",
        "class DualLSTMTagger(nn.Module):\n",
        "  def __init__(self, word_embedding_dim, word_hidden_dim, char_embedding_dim, char_hidden_dim, word_vocab_size, char_vocab_size, tag_vocab_size):\n",
        "    super(DualLSTMTagger, self).__init__()\n",
        "    self.word_embedding = nn.Embedding(word_vocab_size, word_embedding_dim)\n",
        "    \n",
        "    self.char_embedding = nn.Embedding(char_vocab_size, char_embedding_dim)\n",
        "    self.char_lstm = nn.LSTM(char_embedding_dim, char_hidden_dim)\n",
        "    self.lstm = nn.LSTM(word_embedding_dim + char_hidden_dim, word_hidden_dim,bidirectional=True)\n",
        "\n",
        "    self.hidden2tag = nn.Linear(word_hidden_dim*2, tag_vocab_size)\n",
        "      \n",
        "  def forward(self, sentence, words):\n",
        "    embeds = self.word_embedding(sentence)\n",
        "    char_hidden_final = []\n",
        "    for word in words:\n",
        "        char_embeds = self.char_embedding(word)\n",
        "        _, (char_hidden, char_cell_state) = self.char_lstm(char_embeds.view(len(word), 1, -1))\n",
        "        word_char_hidden_state = char_hidden.view(-1)\n",
        "        char_hidden_final.append(word_char_hidden_state)\n",
        "    char_hidden_final = torch.stack(tuple(char_hidden_final))\n",
        "    \n",
        "    combined = torch.cat((embeds, char_hidden_final), 1)\n",
        "\n",
        "    lstm_out, _ = self.lstm(combined.view(len(sentence), 1, -1))\n",
        "    tag_space = self.hidden2tag(lstm_out.view(len(sentence), -1))\n",
        "    \n",
        "    tag_scores = F.log_softmax(tag_space, dim=1)\n",
        "    return tag_scores"
      ],
      "execution_count": null,
      "outputs": []
    },
    {
      "cell_type": "code",
      "metadata": {
        "id": "DaMJSckhYBQT"
      },
      "source": [
        "model = DualLSTMTagger(WORD_EMBEDDING_DIM, WORD_HIDDEN_DIM, CHAR_EMBEDDING_DIM, CHAR_HIDDEN_DIM, word_vocab_size, char_vocab_size, tag_vocab_size)\n",
        "\n",
        "use_cuda = torch.cuda.is_available()\n",
        "device = torch.device(\"cuda:0\" if use_cuda else \"cpu\")\n",
        "\n",
        "if use_cuda:\n",
        "    model.cuda()\n",
        "\n",
        "loss_function = nn.NLLLoss()\n",
        "optimizer = optim.Adam(model.parameters(), lr=0.001)\n"
      ],
      "execution_count": null,
      "outputs": []
    },
    {
      "cell_type": "code",
      "metadata": {
        "colab": {
          "base_uri": "https://localhost:8080/"
        },
        "id": "Y3QsRY60YBQT",
        "outputId": "2d333973-2e27-4445-ef0d-505f87a909d6"
      },
      "source": [
        "accuracy_list = []\n",
        "loss_list = []\n",
        "interval = round(len(train) / 100.)\n",
        "epochs = EPOCHS\n",
        "e_interval = round(epochs / 10.)\n",
        "for epoch in range(epochs):\n",
        "    acc = 0 #to keep track of accuracy\n",
        "    loss = 0 # To keep track of the loss value\n",
        "    i = 0\n",
        "    for sentence_tag in train:\n",
        "        i += 1\n",
        "        words = [torch.tensor(sequence_to_idx(s[0], char_to_idx), dtype=torch.long).to(device) for s in sentence_tag]\n",
        "        sentence = [s[0] for s in sentence_tag]\n",
        "        sentence = torch.tensor(sequence_to_idx(sentence, word_to_idx), dtype=torch.long).to(device)\n",
        "        targets = [s[1] for s in sentence_tag]\n",
        "        targets = torch.tensor(sequence_to_idx(targets, tag_to_idx), dtype=torch.long).to(device)\n",
        "        \n",
        "        model.zero_grad()\n",
        "        \n",
        "        tag_scores = model(sentence, words)\n",
        "        \n",
        "        loss = loss_function(tag_scores, targets)\n",
        "        loss.backward()\n",
        "        optimizer.step()\n",
        "        loss += loss.item()\n",
        "        _, indices = torch.max(tag_scores, 1)\n",
        "#         print(indices == targets)\n",
        "        acc += torch.mean(torch.tensor(targets == indices, dtype=torch.float))\n",
        "        if i % interval == 0:\n",
        "            print(\"Epoch {} Running;\\t{}% Complete\".format(epoch + 1, i / interval), end = \"\\r\", flush = True)\n",
        "    loss = loss / len(train)\n",
        "    acc = acc / len(train)\n",
        "    loss_list.append(float(loss))\n",
        "    accuracy_list.append(float(acc))\n",
        "    if (epoch + 1) % e_interval == 0:\n",
        "        print(\"Epoch {} Completed,\\tLoss {}\\tAccuracy: {}\".format(epoch + 1, np.mean(loss_list[-e_interval:]), np.mean(accuracy_list[-e_interval:]))) "
      ],
      "execution_count": null,
      "outputs": [
        {
          "output_type": "stream",
          "text": [
            "/usr/local/lib/python3.7/dist-packages/ipykernel_launcher.py:12: UserWarning: To copy construct from a tensor, it is recommended to use sourceTensor.clone().detach() or sourceTensor.clone().detach().requires_grad_(True), rather than torch.tensor(sourceTensor).\n",
            "  if sys.path[0] == '':\n",
            "/usr/local/lib/python3.7/dist-packages/ipykernel_launcher.py:14: UserWarning: To copy construct from a tensor, it is recommended to use sourceTensor.clone().detach() or sourceTensor.clone().detach().requires_grad_(True), rather than torch.tensor(sourceTensor).\n",
            "  \n",
            "/usr/local/lib/python3.7/dist-packages/ipykernel_launcher.py:16: UserWarning: To copy construct from a tensor, it is recommended to use sourceTensor.clone().detach() or sourceTensor.clone().detach().requires_grad_(True), rather than torch.tensor(sourceTensor).\n",
            "  app.launch_new_instance()\n",
            "/usr/local/lib/python3.7/dist-packages/ipykernel_launcher.py:28: UserWarning: To copy construct from a tensor, it is recommended to use sourceTensor.clone().detach() or sourceTensor.clone().detach().requires_grad_(True), rather than torch.tensor(sourceTensor).\n"
          ],
          "name": "stderr"
        },
        {
          "output_type": "stream",
          "text": [
            "Epoch 2 Completed,\tLoss 0.004110600985768542\tAccuracy: 0.8776635229587555\n",
            "Epoch 4 Completed,\tLoss 1.1347768804625957e-06\tAccuracy: 0.99415522813797\n",
            "Epoch 6 Completed,\tLoss 6.240896510689709e-07\tAccuracy: 0.9993370771408081\n",
            "Epoch 8 Completed,\tLoss 0.0002082594050989428\tAccuracy: 0.9908503890037537\n",
            "Epoch 10 Completed,\tLoss 9.369963649419333e-08\tAccuracy: 0.9979270398616791\n",
            "Epoch 12 Completed,\tLoss 8.227179293385234e-08\tAccuracy: 0.9998156130313873\n",
            "Epoch 14 Completed,\tLoss 3.32347624976137e-08\tAccuracy: 0.9998511672019958\n",
            "Epoch 16 Completed,\tLoss 1.975061980630244e-08\tAccuracy: 0.9979895055294037\n",
            "Epoch 18 Completed,\tLoss 1.5333671665729298e-08\tAccuracy: 0.9964009523391724\n",
            "Epoch 20 Completed,\tLoss 4.341705883703639e-09\tAccuracy: 0.9993262887001038\n"
          ],
          "name": "stdout"
        }
      ]
    },
    {
      "cell_type": "code",
      "metadata": {
        "colab": {
          "base_uri": "https://localhost:8080/"
        },
        "id": "ta0L_iIzYBQU",
        "outputId": "f88b73eb-9f02-4e56-a881-606efe50c88b"
      },
      "source": [
        "y_true = []\n",
        "y_pred = []\n",
        "for sentence in test:\n",
        "  seq = \"\"\n",
        "  for s in range(len(sentence)):\n",
        "    if(s==(len(sentence)-1)):\n",
        "      seq+= sentence[s][0]\n",
        "    else:\n",
        "      seq += sentence[s][0] + \" \"\n",
        "    y_true.append(sentence[s][1])\n",
        "  \n",
        "  seq = seq.split()\n",
        "  with torch.no_grad():\n",
        "    words = [torch.tensor(sequence_to_idx(s[0], char_to_idx), dtype=torch.long).to(device) for s in seq]\n",
        "    sentence = torch.tensor(sequence_to_idx(seq, word_to_idx), dtype=torch.long).to(device)\n",
        "        \n",
        "    tag_scores = model(sentence, words)\n",
        "    _, indices = torch.max(tag_scores, 1)\n",
        "    ret = []\n",
        "    for i in range(len(indices)):\n",
        "        for key, value in tag_to_idx.items():\n",
        "            if indices[i] == value:\n",
        "                ret.append((seq[i], key))\n",
        "                y_pred.append(key)\n",
        "    print(ret)"
      ],
      "execution_count": null,
      "outputs": [
        {
          "output_type": "stream",
          "text": [
            "[('આ', 'DM_DMD'), ('બધા', 'QT_QTF'), ('રાજ્યોમાં', 'N_NN'), ('સંગીત', 'N_NN'), (',', 'RD_PUNC'), ('કલા', 'N_NN'), ('અને', 'CC_CCD'), ('વિદ્વાનોને', 'JJ'), ('આશ્રય', 'JJ'), ('આપવાની', 'N_NN'), ('જૂની', 'JJ'), ('પરંપરા', 'N_NN'), ('રાજ્યોના', 'N_NN'), ('વિલીનીકરણ', 'N_NNP'), ('સુધી', 'PSP'), ('જળવાઈ', 'V_VM'), ('રહી', 'V_VAUX'), ('હતી', 'V_VAUX'), ('.', 'RD_PUNC')]\n",
            "[('આ', 'DM_DMD'), ('બે', 'QT_QTC'), ('કડીઓ', 'N_NN'), ('પર', 'PSP'), ('અંગ્રેજ', 'N_NN'), ('સરકાર', 'JJ'), ('ધૂંધવાઈ', 'V_VM'), ('ઊઠી', 'V_VAUX'), ('.', 'RD_PUNC')]\n",
            "[('કથાકાર', 'N_NN'), ('બાપ', 'N_NN'), ('તો', 'RP_RPD'), ('બાવો', 'N_NNP'), ('બની', 'V_VM'), (',', 'RD_PUNC'), ('સંસાર', 'N_NNP'), ('છોડી', 'V_VM'), ('ચાલી', 'N_NN'), ('નીકળ્યો', 'N_NNP'), ('પણ', 'RP_RPD'), ('દીકરો', 'N_NN'), ('સંગીતના', 'N_NN'), ('રવાડે', 'N_NN'), ('ચઢી', 'V_VM'), ('ન', 'RP_NEG'), ('જાય', 'N_NN'), ('અને', 'CC_CCD'), ('કુટુંબ', 'QT_QTF'), ('માટે', 'PSP'), ('પૈસા', 'QT_QTC'), ('રળતો', 'N_NN'), ('થાય', 'V_VM'), ('એવી', 'JJ'), ('ઈચ્છાથી', 'V_VM'), ('વડીલોએ', 'V_VAUX_VNP'), ('વસંતને', 'N_NNP'), ('મુંબઈમાં', 'PSP'), ('આવેલી', 'N_NN'), ('મૂળજી', 'N_NN'), ('જેઠા', 'N_NN'), ('માર્કેટમાં', 'JJ'), ('મામાની', 'JJ'), ('કાપડની', 'QT_QTC'), ('દુકાને', 'JJ'), ('બેસાડી', 'N_NNP'), ('દીધો', 'V_VAUX'), ('.', 'RD_PUNC')]\n",
            "[('ઈશ્ક', 'N_NNP'), ('કે', 'CC_CCS'), ('દરિયામે', 'N_NNP'), ('ગિર', 'N_NN'), ('કે', 'CC_CCS'), (',', 'RD_PUNC'), ('કૌન', 'N_NN'), ('નિકલા', 'N_NNP'), ('હૈ', 'N_NNP'), ('બિરાદર', 'N_NNP'), ('?', 'RD_PUNC')]\n",
            "[('સંગીતને', 'N_NN'), ('મુખ્યત્વે', 'JJ'), ('શાસ્ત્રીય', 'JJ'), ('સંગીત', 'N_NN'), ('અને', 'CC_CCD'), ('લોકસંગીત', 'N_NN'), ('ભાગમાં', 'N_NN'), ('વહેંચી', 'V_VM'), ('શકાય', 'V_VAUX'), ('.', 'RD_PUNC')]\n",
            "[('તમિલનાડુનો', 'N_NN'), ('તાંજોર', 'N_NNP'), ('જિલ્લો', 'N_NNP'), ('એ', 'DM_DMD'), ('`', 'RD_PUNC'), ('ભરતનાટ્યમ', 'N_NNP'), ('`', 'RD_PUNC'), ('નૃત્યશૈલીનું', 'N_NNP'), ('ઉદભવ', 'N_NNP'), ('-', 'RD_PUNC'), ('સ્થાન', 'N_NN'), ('ગણાય', 'V_VM'), ('છે', 'V_VAUX'), ('.', 'RD_PUNC')]\n",
            "[('કથકના', 'JJ'), ('નામમાં', 'N_NN'), ('કથા', 'JJ'), ('રહેલી', 'N_NN'), ('છે', 'V_VAUX'), ('.', 'RD_PUNC')]\n"
          ],
          "name": "stdout"
        },
        {
          "output_type": "stream",
          "text": [
            "/usr/local/lib/python3.7/dist-packages/ipykernel_launcher.py:14: UserWarning: To copy construct from a tensor, it is recommended to use sourceTensor.clone().detach() or sourceTensor.clone().detach().requires_grad_(True), rather than torch.tensor(sourceTensor).\n",
            "  \n",
            "/usr/local/lib/python3.7/dist-packages/ipykernel_launcher.py:15: UserWarning: To copy construct from a tensor, it is recommended to use sourceTensor.clone().detach() or sourceTensor.clone().detach().requires_grad_(True), rather than torch.tensor(sourceTensor).\n",
            "  from ipykernel import kernelapp as app\n"
          ],
          "name": "stderr"
        },
        {
          "output_type": "stream",
          "text": [
            "[('આ', 'DM_DMD'), ('નૃત્યશૈલી', 'N_NN'), ('વેશભૂષા', 'N_NN'), (',', 'RD_PUNC'), ('ભાવ', 'N_NN'), ('અને', 'CC_CCD'), ('તાલની', 'N_NN'), ('દૃષ્ટિએ', 'N_NN'), ('આગવું', 'JJ'), ('સ્થાન', 'N_NN'), ('ધરાવે', 'V_VM'), ('છે', 'V_VAUX'), ('.', 'RD_PUNC')]\n",
            "[('તેમાં', 'DM_DMD'), ('ઉપયોગમાં', 'N_NN'), ('લેવાતા', 'N_NNP'), ('ઘેરદાર', 'N_NNP'), ('લીલા', 'JJ'), ('રંગના', 'N_NN'), ('ચણિયાને', 'V_VM'), ('`', 'RD_PUNC'), ('કુમીન', 'JJ'), ('`', 'RD_PUNC'), ('કહે', 'V_VM'), ('છે', 'V_VAUX'), ('.', 'RD_PUNC')]\n",
            "[('પાટણમાંથી', 'N_NNP'), ('ઉત્પાદિત', 'JJ'), ('થતાં', 'N_NN'), ('રેશમી', 'JJ'), ('વસ્ત્ર', 'N_NN'), ('(', 'RD_SYM'), ('બેવડ', 'JJ'), ('ઈક્તને', 'V_VM'), (')', 'RD_SYM'), ('પાટણનાં', 'JJ'), ('પટોળાં', 'N_NN'), ('કહેવાય', 'V_VM'), ('છે', 'V_VAUX'), ('.', 'RD_PUNC')]\n",
            "[('આ', 'DM_DMD'), ('કલા', 'N_NN'), ('મોટેભાગે', 'JJ'), ('અલંકારો', 'N_NN'), ('અને', 'CC_CCD'), ('મૂર્તિઓ', 'N_NN'), ('સાથે', 'PSP'), ('સંકળાયેલ', 'N_NN'), ('છે', 'V_VAUX'), ('.', 'RD_PUNC')]\n",
            "[('મિશ્રણ', 'N_NN'), ('જાડું', 'JJ'), ('ખીરા', 'N_NN'), ('જેવું', 'N_NN'), ('બનવું', 'N_NN'), ('જોઈએ', 'V_VAUX'), ('.', 'RD_PUNC')]\n",
            "[('પરંતુ', 'CC_CCD'), ('તેમાં', 'DM_DMD'), ('ચોખાનું', 'N_NNP'), ('પ્રમાણ', 'N_NN'), ('વધુ', 'QT_QTF'), ('હોય', 'V_VAUX'), ('છે', 'V_VAUX'), ('અને', 'CC_CCD'), ('તેઓ', 'N_NNP'), ('ઝીણા', 'JJ'), ('દળેલા', 'N_NN'), ('હોય', 'V_VAUX'), ('છે', 'V_VAUX'), ('.', 'RD_PUNC')]\n",
            "[('ચોખા', 'N_NN'), ('અને', 'CC_CCD'), ('કોદરી', 'N_NN'), ('સિવાયનાં', 'N_NN'), ('અનાજ', 'N_NN'), ('હોય', 'V_VAUX'), ('તો', 'CC_CCD'), ('તેને', 'DM_DMD'), ('ભરડીને', 'N_NN'), ('વાપરવાં', 'V_VM'), ('.', 'RD_PUNC')]\n",
            "[('ચટણી', 'N_NN'), (':', 'RD_PUNC'), ('ફુદીનો', 'N_NN'), (',', 'RD_PUNC'), ('કોથમીર', 'N_NN'), (',', 'RD_PUNC'), ('મીઠો', 'N_NN'), ('લીમડો', 'N_NN'), (',', 'RD_PUNC'), ('કાંદા', 'N_NN'), (',', 'RD_PUNC'), ('ટામેટાં', 'N_NN'), (',', 'RD_PUNC'), ('વગેરે', 'PSP'), ('વાટીને', 'N_NN'), ('ચટણી', 'N_NN'), ('બનાવાય', 'V_VM'), ('છે', 'V_VAUX'), ('.', 'RD_PUNC')]\n",
            "[('દળેલી', 'JJ'), ('કૉફીનો', 'N_NN'), ('ઉપયોગ', 'N_NN'), ('વિવિધ', 'JJ'), ('રીતે', 'N_NN'), ('થાય', 'V_VM'), ('છે', 'V_VAUX'), ('.', 'RD_PUNC')]\n",
            "[('બીજી', 'JJ'), ('પદ્ધતિમાં', 'N_NN'), ('ડ્રિપર', 'N_NN'), ('(', 'RD_SYM'), ('dripper', 'JJ'), (')', 'RD_SYM'), ('કે', 'CC_CCS'), ('ફિલ્ટરનો', 'N_NN'), ('ઉપયોગ', 'N_NN'), ('થાય', 'V_VM'), ('છે', 'V_VAUX'), ('.', 'RD_PUNC')]\n",
            "[('ભૂકા', 'JJ'), ('ઉપર', 'PSP'), ('કાણાવાળું', 'JJ'), ('ઢાંકણ', 'N_NN'), ('મૂકવામાં', 'N_NN'), ('આવે', 'V_VAUX'), ('છે', 'V_VAUX'), ('.', 'RD_PUNC')]\n",
            "[('લીંબુ', 'N_NN'), ('જેવાં', 'JJ'), ('ફળને', 'N_NN'), ('તેલનો', 'N_NN'), ('હાથ', 'N_NN'), ('મારવાથી', 'N_NN'), ('તે', 'DM_DMD'), ('વધુ', 'QT_QTF'), ('સમય', 'N_NN'), ('તાજાં', 'JJ'), ('રહેશે', 'V_VAUX'), ('.', 'RD_PUNC')]\n",
            "[('ઢાંકણને', 'N_NN'), ('સાફ', 'JJ'), ('કરી', 'V_VM'), ('સ્ટવ', 'N_NN'), ('પર', 'PSP'), ('ગરમ', 'JJ'), ('કરી', 'V_VM'), ('જંતુમુક્ત', 'N_NN'), ('બનાવીને', 'JJ'), ('ઢાંકી', 'V_VAUX_VNP'), ('દો', 'V_VAUX'), ('.', 'RD_PUNC')]\n",
            "[('ધાતુના', 'N_NN'), ('ઢાંકણાવાળા', 'N_NN'), ('ડબ્બા', 'N_NN'), ('આ', 'DM_DMD'), ('પ્રક્રિયા', 'N_NN'), ('માટે', 'PSP'), ('ખૂબ', 'QT_QTF'), ('જ', 'RP_RPD'), ('અનુકૂળ', 'JJ'), ('છે', 'V_VAUX'), ('.', 'RD_PUNC')]\n",
            "[('પહોળા', 'N_NN'), ('મોઢાના', 'JJ'), ('માટીના', 'N_NN'), ('વાસણને', 'N_NN'), ('ભેજવાળી', 'N_NN'), ('રેતીમાં', 'N_NN'), ('અથવા', 'CC_CCD'), ('પાણી', 'N_NN'), ('ભરેલા', 'JJ'), ('વાસણમાં', 'N_NN'), ('મૂકો', 'V_VM'), ('.', 'RD_PUNC')]\n",
            "[('આંદોલન', 'N_NN'), (':', 'RD_PUNC'), ('કોઈ', 'DM_DMI'), ('પણ', 'RP_RPD'), ('બે', 'QT_QTC'), ('વસ્તુ', 'N_NN'), ('સામસામે', 'JJ'), ('અથડાવવાથી', 'V_VM'), ('અથવા', 'CC_CCD'), ('એક', 'QT_QTC'), ('વસ્તુ', 'N_NN'), ('પર', 'PSP'), ('બીજી', 'JJ'), ('વસ્તુનો', 'JJ'), ('આઘાત', 'N_NN'), ('કરવાથી', 'JJ'), (',', 'RD_PUNC'), ('તે', 'DM_DMD'), ('વસ્તુ', 'N_NN'), ('મૂળ', 'JJ'), ('સ્થાનેથી', 'N_NN'), ('થોડી', 'QT_QTF'), ('ઊંચે', 'N_NN'), ('અને', 'CC_CCD'), ('ત્યારબાદ', 'PSP'), ('તેટલી', 'JJ'), ('જ', 'RP_RPD'), ('નીચે', 'N_NST'), ('જઈ', 'N_NN'), ('મૂળ', 'JJ'), ('સ્થિતિ', 'N_NN'), ('પર', 'PSP'), ('આવે', 'V_VM'), ('છે', 'V_VAUX'), ('.', 'RD_PUNC')]\n",
            "[('આ', 'DM_DMD'), ('ગાયકીમાં', 'N_NN'), ('વૈવિધ્ય', 'JJ'), ('હોવાથી', 'QT_QTC'), ('શ્રોતા', 'N_NN'), ('વર્ગને', 'N_NN'), ('મનોરંજન', 'N_NN'), ('વિશેષ', 'JJ'), ('મળે', 'V_VM'), ('છે', 'V_VAUX'), ('.', 'RD_PUNC')]\n",
            "[('આ', 'DM_DMD'), ('ઉપરાંત', 'PSP'), ('રામગરી', 'PSP'), (',', 'RD_PUNC'), ('પ્રભાતિયાં', 'N_NNP'), (',', 'RD_PUNC'), ('ખાયણા', 'N_NNP'), (',', 'RD_PUNC'), ('ગરબી', 'N_NN'), (',', 'RD_PUNC'), ('રાસડા', 'N_NN'), ('વગેરે', 'PSP'), ('લોકગીતો', 'N_NN'), ('પણ', 'RP_RPD'), ('ગુજરાતમાં', 'N_NNP'), ('પ્રચલિત', 'JJ'), ('છે', 'V_VAUX'), ('.', 'RD_PUNC')]\n",
            "[('આઝાદી', 'N_NN'), ('સંગ્રામ', 'N_NNP'), ('દરમ્યાન', 'PSP'), ('પં.', 'V_VAUX_VNP'), ('વિષ્ણુ', 'N_NNP'), ('દિગંબર', 'N_NN'), ('પલુસ્કર', 'N_NN'), (',', 'RD_PUNC'), ('પં.', 'N_NN'), ('વિષ્ણુનારાયણ', 'N_NNP'), ('ભાતખંડે', 'N_NN'), (',', 'RD_PUNC'), ('ઉસ્તાદ', 'N_NN'), ('ફૈયાઝખાં', 'N_NNP'), (',', 'RD_PUNC'), ('ઉસ્તાદ', 'N_NN'), ('મુસ્તાક', 'N_NNP'), ('હુસૈન', 'N_NNP'), (',', 'RD_PUNC'), ('ઉસ્તાદ', 'N_NNP'), ('અલ્લાદિયાં', 'N_NNP'), ('ખાં', 'N_NN'), (',', 'RD_PUNC'), ('ઉસ્તાદ', 'N_NN'), ('અલ્લાઉદ્દીન', 'N_NNP'), ('ખાં', 'N_NN'), (',', 'RD_PUNC'), ('ઉસ્તાદ', 'N_NN'), ('હાફીઝ', 'N_NNP'), ('અહેમદ', 'N_NNP'), ('ખાં', 'N_NN'), (',', 'RD_PUNC'), ('ઉસ્તાદ', 'N_NN'), ('બડેગુલામ', 'N_NN'), ('અલીખાં', 'JJ'), ('જેવા', 'JJ'), ('હિન્દુ', 'JJ'), ('-', 'RD_PUNC'), ('મુસ્લિમ', 'JJ'), ('વિદ્વાન', 'JJ'), ('કલાકારો', 'N_NN'), ('દ્વારા', 'PSP'), ('સંગીતનો', 'N_NN'), ('વિકાસ', 'N_NN'), (',', 'RD_PUNC'), ('તેનું', 'DM_DMD'), ('શિક્ષણ', 'N_NN'), ('પદ્ધતિસર', 'JJ'), ('વિકસતું', 'V_VM'), ('રહ્યું', 'V_VAUX'), ('.', 'RD_PUNC')]\n",
            "[('ઠુમરી', 'N_NN'), (',', 'RD_PUNC'), ('કથક', 'N_NNP'), ('શૈલીનો', 'N_NN'), ('વિકાસ', 'N_NN'), ('આ', 'DM_DMD'), ('સમયગાળા', 'N_NN'), ('દરમ્યાન', 'PSP'), ('થયો', 'V_VM'), ('.', 'RD_PUNC')]\n",
            "[('પરંતુ', 'CC_CCD'), ('અહીં', 'N_NST'), ('આપણે', 'PR_PRP'), ('છ', 'QT_QTC'), ('છિદ્રોવાળી', 'JJ'), ('બંસીની', 'N_NN'), ('જ', 'RP_RPD'), ('ચર્ચા', 'N_NN'), ('કરીશું', 'JJ'), (',', 'RD_PUNC'), ('જેની', 'PR_PRL'), ('ગોઠવણી', 'N_NN'), ('પશ્ચાત્ય', 'N_NN'), ('ઢબ', 'V_VAUX_VNP'), ('અનુસાર', 'PSP'), ('થયેલ', 'N_NN'), ('છે', 'V_VAUX'), ('.', 'RD_PUNC')]\n",
            "[('બંસી', 'N_NN'), ('એ', 'DM_DMD'), ('સ્વતંત્રવાદન', 'N_NN'), ('ઉપરાંત', 'PSP'), ('ફિલ્મ', 'N_NN'), ('સંગીત', 'N_NN'), (',', 'RD_PUNC'), ('ભક્તિ', 'N_NN'), ('સંગીત', 'N_NN'), (',', 'RD_PUNC'), ('લોક', 'N_NN'), ('સંગીતમાં', 'N_NN'), ('પણ', 'RP_RPD'), ('ઉપયોગ', 'N_NN'), ('લેવાય', 'V_VM'), ('છે', 'V_VAUX'), ('.', 'RD_PUNC')]\n",
            "[('હાર્મોનિયમમાં', 'N_NN'), ('સ્વરોની', 'N_NN'), ('ઉત્પત્તિ', 'N_NN'), ('હવા', 'N_NN'), ('દ્વારા', 'PSP'), ('થાય', 'V_VM'), ('છે', 'V_VAUX'), ('.', 'RD_PUNC')]\n",
            "[('ભાતચિત્ર', 'N_NN'), ('દોરતાં', 'JJ'), ('પહેલાં', 'N_NST'), ('સૌ', 'JJ'), ('પ્રથમ', 'QT_QTO'), ('કયા', 'DM_DMQ'), ('વિષય', 'N_NN'), ('ઉપર', 'PSP'), ('ભાતચિત્ર', 'N_NN'), ('બનાવવાનું', 'N_NN'), ('છે', 'V_VAUX'), ('તેનો', 'DM_DMD'), ('સંપૂર્ણપણે', 'JJ'), ('વિચાર', 'N_NN'), ('કરવો', 'V_VAUX_VNP'), ('જોઈએ', 'V_VAUX'), (';', 'RD_PUNC'), ('દા.ત.', 'CC_CCS_UT'), ('જો', 'CC_CCD'), ('સાડીની', 'N_NN'), ('બોર્ડરની', 'JJ'), ('ડિઝાઈન', 'N_NN'), ('દોરવાની', 'JJ'), ('કહી', 'V_VM'), ('હોય', 'V_VAUX'), ('તો', 'CC_CCD'), ('તેમાં', 'DM_DMD'), ('કઈ', 'DM_DMI'), ('જાતના', 'N_NN'), ('આકારો', 'N_NN'), ('વધારે', 'QT_QTF'), ('સારા', 'JJ'), ('લાગશે', 'V_VM'), ('તેનો', 'DM_DMD'), ('ખ્યાલ', 'N_NN'), ('કરવો', 'V_VAUX_VNP'), ('જોઈએ', 'V_VAUX'), ('.', 'RD_PUNC')]\n",
            "[('હવે', 'N_NST'), ('તમારી', 'JJ'), ('જરૂરિયાતનાં', 'PSP'), ('બીજાં', 'JJ'), ('સાધનો', 'N_NN'), ('વિષે', 'PSP'), ('વિચારીએ', 'V_VAUX'), ('.', 'RD_PUNC')]\n",
            "[('જરૂર', 'N_NN'), ('પડે', 'V_VM'), ('તો', 'CC_CCD'), ('આંખો', 'N_NN'), ('બંધ', 'JJ'), ('કરી', 'V_VM'), ('તમારા', 'PR_PRP'), ('ચિત્રનું', 'N_NN'), ('મનમાં', 'N_NN'), ('દ્રશ્ય', 'N_NN'), ('ખડું', 'JJ'), ('કરો', 'V_VM'), ('.', 'RD_PUNC')]\n",
            "[('કલાકાર', 'N_NN'), ('મનની', 'N_NN'), ('એક', 'QT_QTC'), ('જ', 'RP_RPD'), ('પરિસ્થિતિ', 'N_NN'), ('દર્શાવે', 'N_NN'), ('છે', 'V_VAUX'), ('એમ', 'PSP'), ('કહેવું', 'RP_RPD'), ('ભૂલ', 'N_NN'), ('ભરેલું', 'V_VAUX_VNP'), ('છે', 'V_VAUX'), ('.', 'RD_PUNC')]\n",
            "[('પણ', 'RP_RPD'), ('ભારતીય', 'JJ'), ('આત્મા', 'N_NN'), ('-', 'RD_PUNC'), ('ભારતીય', 'JJ'), ('શૈલી', 'N_NN'), ('છતાં', 'RP_RPD'), ('આધુનિક', 'JJ'), ('ટ્રીટમેન્ટ', 'N_NN'), ('એ', 'DM_DMD'), ('હુસેન', 'N_NNP'), ('સાહેબની', 'N_NNP'), ('આગવી', 'JJ'), ('વિશેષતા', 'N_NN'), ('છે', 'V_VAUX'), ('.', 'RD_PUNC')]\n",
            "[('જે.', 'N_NNP'), ('જે.', 'N_NNP'), ('સ્કુલ', 'N_NNP'), ('ઓફ', 'N_NNP'), ('આર્ટમાં', 'N_NNP'), ('અભ્યાસ', 'N_NN'), ('કરી', 'V_VM'), ('તેઓ', 'PR_PRP'), ('જાપાની', 'JJ'), ('કલાના', 'N_NN'), ('વિશેષ', 'JJ'), ('અભ્યાસ', 'N_NN'), ('અર્થે', 'V_VAUX_VNP'), ('જાપાન', 'N_NN'), ('વગેરે', 'PSP'), ('દેશોનો', 'JJ'), ('પ્રવાસ', 'N_NST'), ('ખેડી', 'N_NST'), ('જે.', 'N_NN'), ('જે.', 'N_NNP'), ('સ્કુલ', 'N_NNP'), ('ઓફ', 'N_NNP'), ('આર્ટમાં', 'N_NNP'), ('જ', 'RP_RPD'), ('વર્ષો', 'N_NN'), ('સુધી', 'PSP'), ('કલાશિક્ષક', 'N_NN'), ('તરીકે', 'PSP'), ('રહ્યા', 'V_VAUX'), ('.', 'RD_PUNC')]\n",
            "[('લંડનના', 'V_VAUX_VNP'), ('બલિંગ્ટન', 'N_NNP'), ('હાઉસના', 'N_NNP'), ('ભારતીય', 'JJ'), ('કળાના', 'N_NN'), ('પ્રદર્શનમાં', 'N_NNP'), (',', 'RD_PUNC'), ('પારીમાં', 'N_NN'), ('(', 'RD_SYM'), ('સ', 'N_NNP'), (')', 'RD_SYM'), ('સેલા', 'N_NN'), ('દ', 'N_NN'), ('માઈમાં', 'N_NNP'), (',', 'RD_PUNC'), ('અમેરિકન', 'N_NNP'), ('ફેડરેશન', 'N_NN'), ('ઓફ', 'N_NNP'), ('આર્ટ', 'N_NNP'), ('તરફથી', 'PSP'), ('ભારતીય', 'JJ'), ('કળાના', 'N_NN'), ('ફરતા', 'V_VAUX_VNP'), ('પ્રદર્શનમાં', 'N_NN'), ('અને', 'CC_CCD'), ('એસેનમાં', 'PSP'), ('(', 'RD_SYM'), ('જર્મની', 'N_NN'), (')', 'RD_SYM'), ('ભારતીય', 'JJ'), ('કળાના', 'N_NN'), ('પ્રદર્શનમાં', 'PSP'), ('પણ', 'RP_RPD'), ('એમની', 'PR_PRP'), ('કૃતિઓ', 'N_NN'), ('રજૂ', 'JJ'), ('થઈ', 'V_VM'), ('છે', 'V_VAUX'), ('.', 'RD_PUNC')]\n",
            "[('આઠમી', 'QT_QTC'), ('સદીના', 'N_NN'), ('ભવભૂતિ', 'N_NNP'), ('પોતાની', 'PR_PRF'), ('`', 'RD_PUNC'), ('ઉત્તરરામચરિતમાં', 'N_NNP'), ('`', 'RD_PUNC'), ('કેટલીક', 'QT_QTF'), ('સફળતાપૂર્વક', 'JJ'), ('ચિત્રકલાની', 'N_NN'), ('તરફદારી', 'JJ'), ('કરે', 'V_VM'), ('છે', 'V_VAUX'), ('!', 'RD_PUNC'), ('અહીં', 'N_NST'), ('વિષ્ણુધર', 'N_NNP'), ('-', 'RD_PUNC'), ('મોટેરાં', 'N_NNP'), ('-', 'RD_PUNC'), ('પુરાણ', 'N_NNP'), ('નામનું', 'N_NN'), ('પ્રકરણ', 'N_NN'), ('તો', 'RP_RPD'), ('જાણે', 'PSP'), ('કે', 'CC_CCS'), ('આખુંયે', 'JJ'), ('ચિત્રકલાને', 'N_NN'), ('જ', 'RP_RPD'), ('અર્પિત', 'JJ'), ('ન', 'RP_NEG'), ('કરવામાં', 'JJ'), ('આવ્યું', 'V_VM'), ('હોય', 'V_VAUX'), ('એવું', 'N_NN'), ('લાગે', 'V_VM'), ('છે', 'V_VAUX'), ('!', 'RD_PUNC'), ('ચિત્રની', 'N_NN'), ('પૂર્વ', 'N_NNP'), ('તૈયારીરૂપે', 'N_NN'), ('ભીંતની', 'JJ'), ('સપાટી', 'N_NN'), ('કેવી', 'DM_DMQ'), ('જોઈએ', 'V_VAUX'), (',', 'RD_PUNC'), ('જુદા', 'JJ'), ('જુદા', 'CC_CCD'), ('કેવા', 'N_NN'), ('અને', 'CC_CCD'), ('કેટલા', 'JJ'), ('રંગોની', 'JJ'), ('જરૂર', 'N_NN'), ('પડે', 'V_VM'), ('તે', 'DM_DMD'), ('બધાની', 'QT_QTF'), ('ખૂબ', 'QT_QTF'), ('જ', 'RP_RPD'), ('ઊંડાણથી', 'JJ'), ('ચર્ચા', 'N_NN'), ('કરી', 'V_VM'), ('છે', 'V_VAUX'), ('.', 'RD_PUNC')]\n",
            "[('અજંતા', 'N_NN'), ('ભારતીય', 'JJ'), ('ચિત્રકળા', 'N_NN'), (',', 'RD_PUNC'), ('મૂર્તિકળા', 'N_NN'), ('અને', 'CC_CCD'), ('સ્થાપત્યરૂપ', 'N_NN'), ('ભારતીય', 'JJ'), ('સંસ્કૃતિના', 'N_NN'), ('આવિષ્કારનું', 'N_NST'), ('અગ્રગણ્ય', 'PSP'), ('સંપુટ', 'N_NN'), ('બની', 'V_VM'), ('રહે', 'N_NNP'), ('છે', 'V_VAUX'), ('.', 'RD_PUNC')]\n",
            "[('જાણે', 'PSP'), ('કે', 'CC_CCS'), ('હજી', 'N_NST'), ('તો', 'RP_RPD'), ('એવી', 'JJ'), ('તે', 'DM_DMD'), ('શી', 'N_NN'), ('કરામત', 'JJ'), ('છે', 'V_VAUX'), ('કે', 'CC_CCS'), ('તેના', 'DM_DMD'), ('પર', 'PSP'), ('કાળના', 'JJ'), ('પ્રવાહની', 'V_VM'), ('અસર', 'N_NN'), ('જ', 'RP_RPD'), ('નથી', 'RP_NEG'), ('થઈ', 'V_VM'), ('?', 'RD_PUNC')]\n",
            "[('આ', 'DM_DMD'), ('બંને', 'JJ'), ('સિદ્ધહસ્ત', 'N_NN'), ('કલાકારો', 'N_NN'), ('હતા', 'V_VAUX'), (',', 'RD_PUNC'), ('ખ્વાજા', 'N_NN'), ('અબ્દુલ', 'N_NNP'), ('સૈયદ', 'N_NNP'), ('પશુઓના', 'N_NNP'), ('ચિત્રણમાં', 'N_NN'), ('અને', 'CC_CCD'), ('સૈયદ', 'N_NNP'), ('અલી', 'N_NNP'), ('ગ્રામ', 'N_NNP'), ('દ્રશ્યોના', 'N_NN'), ('આલેખનમાં', 'N_NN'), ('પારંગત', 'N_NN'), ('હતા', 'V_VAUX'), ('.', 'RD_PUNC')]\n",
            "[('તેમની', 'JJ'), ('ચિત્રસૃષ્ટિ', 'N_NN'), ('નિહાળીને', 'N_NN'), ('હુમાયુ', 'N_NNP'), ('એટલો', 'JJ'), ('તો', 'RP_RPD'), ('પ્રભાવિત', 'JJ'), ('થઈ', 'V_VM'), ('ગયો', 'V_VAUX'), ('કે', 'CC_CCS'), (',', 'RD_PUNC'), ('પોતે', 'PR_PRF'), ('હિંદ', 'N_NNP'), ('પાછો', 'N_NNP'), ('ફર્યો', 'JJ'), ('ત્યારે', 'N_NST'), ('તેઓને', 'RP_RPD'), ('દિલ્હી', 'N_NN'), ('લઈ', 'V_VM'), ('આવ્યો', 'V_VAUX'), ('.', 'RD_PUNC')]\n",
            "[('અને', 'CC_CCD'), ('મોટાભાગે', 'JJ'), ('હિન્દુધર્મના', 'N_NN'), ('વિષયો', 'N_NN'), ('પર', 'PSP'), ('રચાયેલાં', 'N_NN'), ('આ', 'DM_DMD'), ('ચિત્રો', 'N_NN'), ('ખૂબ', 'QT_QTF'), ('જ', 'RP_RPD'), ('મોહક', 'JJ'), ('છે', 'V_VAUX'), ('.', 'RD_PUNC')]\n",
            "[('ઘણું', 'QT_QTF'), ('કરીને', 'V_VAUX_VNP'), ('તેઓ', 'PR_PRP'), ('લાકડા', 'N_NN'), ('અને', 'CC_CCD'), ('પથ્થર', 'N_NN'), ('કાપી', 'JJ'), ('મૂર્તિઓ', 'N_NN'), ('બનાવતા', 'V_VAUX_VNP'), ('હતા', 'V_VAUX'), ('.', 'RD_PUNC')]\n",
            "[('જાપાની', 'JJ'), ('સ્થાપત્યનો', 'N_NN'), ('આમાં', 'DM_DMD'), ('ખાસ', 'JJ'), ('ભાગ', 'N_NN'), ('ભજવેલો', 'V_VAUX'), ('હતો', 'V_VAUX'), ('.', 'RD_PUNC')]\n",
            "[('ઈરાનના', 'V_VAUX_VNP'), ('પ્રખ્યાત', 'QT_QTC'), ('ચિત્રકારો', 'N_NN'), ('મોગલસમયમાં', 'N_NN'), ('ભારતમાં', 'N_NNP'), ('આવીને', 'N_NN'), ('વસેલા', 'V_VM'), ('અને', 'CC_CCD'), ('તેમણે', 'N_NNP'), ('જ', 'RP_RPD'), ('મોગલ', 'JJ'), ('શૈલીને', 'N_NN'), ('જન્મ', 'N_NN'), ('આપ્યો', 'V_VM'), ('.', 'RD_PUNC')]\n",
            "[('તે', 'DM_DMD'), ('સાચે', 'N_NN'), ('જ', 'RP_RPD'), ('દર્શનીય', 'N_NN'), ('અને', 'CC_CCD'), ('કમનીય', 'JJ'), ('હોય', 'V_VAUX'), ('છે', 'V_VAUX'), ('.', 'RD_PUNC')]\n",
            "[('સાંજના', 'N_NN'), ('ઢળતા', 'N_NN'), ('પહોરે', 'N_NNP'), (',', 'RD_PUNC'), ('સલૂણી', 'N_NN'), ('સંધ્યા', 'N_NNP'), ('જ્યારે', 'N_NST'), ('શ્યામ', 'N_NN'), ('થતા', 'N_NNP'), ('જતા', 'N_NNP'), ('આકાશના', 'JJ'), ('કિનારે', 'JJ'), ('આવીને', 'N_NN'), ('ઊભી', 'V_VM'), ('હોય', 'V_VAUX'), ('ત્યારે', 'N_NST'), (',', 'RD_PUNC'), ('દૂર', 'JJ'), ('દૂર', 'JJ'), ('ક્ષિતિજ', 'N_NN'), ('સુધી', 'PSP'), ('પથરાઈને', 'JJ'), ('પડેલાં', 'JJ'), ('લીલાંછમ', 'N_NNP'), ('ખેતરો', 'N_NN'), ('અને', 'CC_CCD'), ('કુદરતમાં', 'N_NN'), ('ચારેપાસ', 'N_NN'), ('જોવા', 'N_NN'), ('મળતા', 'JJ'), ('રંગો', 'N_NN'), ('તેનામાં', 'N_NN'), ('રહેલી', 'N_NN'), ('સ્વાભાવિક્તાથી', 'N_NN'), ('જાણે', 'PSP'), ('કે', 'CC_CCS'), ('આપણને', 'PR_PRP'), ('સૂચવે', 'N_NN'), ('છે', 'V_VAUX'), ('.', 'RD_PUNC')]\n",
            "[('બાકી', 'JJ'), ('આ', 'DM_DMD'), ('મંદિરોની', 'N_NN'), ('રચના', 'N_NN'), ('અને', 'CC_CCD'), ('નાજુકતા', 'N_NN'), ('બેનમૂન', 'JJ'), ('છે', 'V_VAUX'), ('.', 'RD_PUNC')]\n",
            "[('એમાં', 'DM_DMD'), ('ઠેરઠેર', 'PSP'), ('કંડારાયેલી', 'PSP'), ('જાળીઓ', 'N_NN'), ('ખૂબ', 'QT_QTF'), ('જ', 'RP_RPD'), ('ઉત્તમ', 'JJ'), ('કલાના', 'N_NN'), ('નમૂનારૂપ', 'N_NN'), ('છે', 'V_VAUX'), ('.', 'RD_PUNC')]\n"
          ],
          "name": "stdout"
        }
      ]
    },
    {
      "cell_type": "code",
      "metadata": {
        "id": "3RFztjFeYBQU"
      },
      "source": [
        "dict_true['art culture'] = y_true\n",
        "dict_pred['art culture'] = y_pred"
      ],
      "execution_count": null,
      "outputs": []
    },
    {
      "cell_type": "code",
      "metadata": {
        "id": "7Xna9iG6stEZ"
      },
      "source": [
        ""
      ],
      "execution_count": null,
      "outputs": []
    },
    {
      "cell_type": "markdown",
      "metadata": {
        "id": "ESpaA0kcjVgG"
      },
      "source": [
        "## helper"
      ]
    },
    {
      "cell_type": "code",
      "metadata": {
        "colab": {
          "base_uri": "https://localhost:8080/"
        },
        "id": "RnV1EWXbjhh1",
        "outputId": "b05aeb2e-c44f-44db-cd2e-f62ff67c691e"
      },
      "source": [
        "Acc_plot = []\n",
        "recall = []\n",
        "precision_plot = []\n",
        "f1score_plot = []\n",
        "print(dict_true.keys())"
      ],
      "execution_count": null,
      "outputs": [
        {
          "output_type": "stream",
          "text": [
            "dict_keys(['art culture', 'economy', 'entern', 'philosophy', 'religion', 'science', 'sports'])\n"
          ],
          "name": "stdout"
        }
      ]
    },
    {
      "cell_type": "code",
      "metadata": {
        "colab": {
          "base_uri": "https://localhost:8080/"
        },
        "id": "95pc1I_vk3nV",
        "outputId": "7eac8e7f-9740-48a3-fbf6-631903ef0bd0"
      },
      "source": [
        "print(dict_true)"
      ],
      "execution_count": null,
      "outputs": [
        {
          "output_type": "stream",
          "text": [
            "{'art culture': ['DM_DMD', 'QT_QTF', 'N_NN', 'N_NN', 'RD_PUNC', 'N_NN', 'CC_CCD', 'N_NN', 'N_NN', 'V_VAUX_VNP', 'JJ', 'N_NN', 'N_NN', 'N_NN', 'PSP', 'V_VM', 'V_VAUX', 'V_VAUX', 'RD_PUNC', 'DM_DMD', 'QT_QTC', 'N_NN', 'PSP', 'N_NNP', 'N_NNP', 'V_VM', 'V_VAUX', 'RD_PUNC', 'N_NN', 'N_NN', 'RP_RPD', 'N_NN', 'V_VAUX_VNP', 'RD_PUNC', 'N_NN', 'V_VAUX_VNP', 'V_VAUX_VNP', 'V_VM', 'RP_RPD', 'N_NN', 'N_NN', 'N_NN', 'V_VM', 'RP_NEG', 'V_VAUX', 'CC_CCD', 'N_NN', 'PSP', 'N_NN', 'V_VAUX_VNP', 'V_VM', 'JJ', 'N_NN', 'N_NN', 'N_NNP', 'N_NNP', 'V_VAUX_VNP', 'N_NNP', 'N_NNP', 'N_NNP', 'N_NN', 'N_NN', 'N_NN', 'V_VM', 'V_VAUX', 'RD_PUNC', 'N_NNP', 'N_NNP', 'N_NNP', 'N_NNP', 'N_NNP', 'RD_PUNC', 'N_NNP', 'N_NNP', 'N_NNP', 'N_NNP', 'RD_PUNC', 'N_NN', 'JJ', 'JJ', 'N_NN', 'CC_CCD', 'N_NN', 'N_NN', 'V_VM', 'V_VAUX', 'RD_PUNC', 'N_NNP', 'N_NNP', 'N_NNP', 'DM_DMD', 'RD_PUNC', 'N_NNP', 'RD_PUNC', 'N_NN', 'N_NN', 'RD_PUNC', 'N_NN', 'V_VM', 'V_VAUX', 'RD_PUNC', 'N_NNP', 'N_NN', 'N_NN', 'V_VAUX_VNP', 'V_VAUX', 'RD_PUNC', 'DM_DMD', 'N_NN', 'N_NN', 'RD_PUNC', 'N_NN', 'CC_CCD', 'N_NN', 'N_NN', 'JJ', 'N_NN', 'V_VM', 'V_VAUX', 'RD_PUNC', 'DM_DMD', 'N_NN', 'V_VAUX_VNP', 'JJ', 'JJ', 'N_NN', 'N_NN', 'RD_PUNC', 'N_NN', 'RD_PUNC', 'V_VM', 'V_VAUX', 'RD_PUNC', 'N_NNP', 'JJ', 'V_VAUX_VNP', 'JJ', 'N_NN', 'RD_SYM', 'JJ', 'N_NN', 'RD_SYM', 'N_NNP', 'N_NN', 'V_VM', 'V_VAUX', 'RD_PUNC', 'DM_DMD', 'N_NN', 'JJ', 'N_NN', 'CC_CCD', 'N_NN', 'PSP', 'V_VAUX_VNP', 'V_VAUX', 'RD_PUNC', 'N_NN', 'JJ', 'N_NN', 'JJ', 'V_VAUX_VNP', 'V_VAUX', 'RD_PUNC', 'CC_CCD', 'DM_DMD', 'N_NN', 'N_NN', 'QT_QTF', 'V_VAUX', 'V_VAUX', 'CC_CCD', 'PR_PRP', 'JJ', 'V_VAUX_VNP', 'V_VAUX', 'V_VAUX', 'RD_PUNC', 'N_NN', 'CC_CCD', 'N_NN', 'PSP', 'N_NN', 'V_VAUX', 'CC_CCD', 'DM_DMD', 'V_VAUX_VNP', 'V_VAUX_VNP', 'RD_PUNC', 'N_NN', 'RD_PUNC', 'N_NN', 'RD_PUNC', 'N_NN', 'RD_PUNC', 'JJ', 'N_NN', 'RD_PUNC', 'N_NN', 'RD_PUNC', 'N_NN', 'RD_PUNC', 'PSP', 'V_VAUX_VNP', 'N_NN', 'V_VM', 'V_VAUX', 'RD_PUNC', 'V_VAUX_VNP', 'N_NN', 'N_NN', 'JJ', 'N_NN', 'V_VM', 'V_VAUX', 'RD_PUNC', 'JJ', 'N_NN', 'N_NN', 'RD_SYM', 'RD_RDF', 'RD_SYM', 'CC_CCS', 'N_NN', 'N_NN', 'V_VM', 'V_VAUX', 'RD_PUNC', 'N_NN', 'PSP', 'JJ', 'N_NN', 'V_VAUX_VNP', 'V_VAUX', 'V_VAUX', 'RD_PUNC', 'N_NN', 'JJ', 'N_NN', 'N_NN', 'N_NN', 'V_VAUX_VNP', 'DM_DMD', 'QT_QTF', 'N_NN', 'JJ', 'V_VM', 'RD_PUNC', 'N_NN', 'JJ', 'V_VM', 'N_NN', 'PSP', 'JJ', 'V_VM', 'JJ', 'V_VAUX_VNP', 'V_VM', 'V_VAUX', 'RD_PUNC', 'N_NN', 'JJ', 'N_NN', 'DM_DMD', 'N_NN', 'PSP', 'QT_QTF', 'RP_RPD', 'JJ', 'V_VAUX', 'RD_PUNC', 'JJ', 'N_NN', 'N_NN', 'N_NN', 'JJ', 'N_NN', 'CC_CCD', 'N_NN', 'V_VAUX_VNP', 'N_NN', 'V_VM', 'RD_PUNC', 'N_NN', 'RD_PUNC', 'DM_DMI', 'RP_RPD', 'QT_QTC', 'N_NN', 'PSP', 'V_VAUX_VNP', 'CC_CCD', 'QT_QTC', 'N_NN', 'PSP', 'JJ', 'N_NN', 'N_NN', 'V_VAUX_VNP', 'RD_PUNC', 'DM_DMD', 'N_NN', 'JJ', 'N_NN', 'QT_QTF', 'JJ', 'CC_CCD', 'PSP', 'JJ', 'RP_RPD', 'N_NST', 'V_VM', 'JJ', 'N_NN', 'PSP', 'V_VM', 'V_VAUX', 'RD_PUNC', 'DM_DMD', 'N_NN', 'N_NN', 'V_VAUX_VNP', 'N_NN', 'N_NN', 'N_NN', 'JJ', 'V_VM', 'V_VAUX', 'RD_PUNC', 'DM_DMD', 'PSP', 'N_NN', 'RD_PUNC', 'N_NN', 'RD_PUNC', 'N_NN', 'RD_PUNC', 'N_NN', 'RD_PUNC', 'N_NN', 'PSP', 'N_NN', 'RP_RPD', 'N_NNP', 'JJ', 'V_VAUX', 'RD_PUNC', 'N_NN', 'N_NN', 'PSP', 'N_NN', 'N_NNP', 'N_NNP', 'N_NNP', 'RD_PUNC', 'N_NN', 'N_NNP', 'N_NNP', 'RD_PUNC', 'N_NN', 'N_NNP', 'RD_PUNC', 'N_NN', 'N_NNP', 'N_NNP', 'RD_PUNC', 'N_NN', 'N_NNP', 'N_NN', 'RD_PUNC', 'N_NN', 'N_NNP', 'N_NN', 'RD_PUNC', 'N_NN', 'N_NNP', 'N_NNP', 'N_NN', 'RD_PUNC', 'N_NN', 'N_NNP', 'N_NNP', 'JJ', 'JJ', 'RD_PUNC', 'JJ', 'JJ', 'N_NN', 'PSP', 'N_NN', 'N_NN', 'RD_PUNC', 'DM_DMD', 'N_NN', 'JJ', 'V_VAUX_VNP', 'V_VAUX', 'RD_PUNC', 'N_NN', 'RD_PUNC', 'N_NN', 'N_NN', 'N_NN', 'DM_DMD', 'N_NN', 'PSP', 'V_VM', 'RD_PUNC', 'CC_CCD', 'N_NST', 'PR_PRP', 'QT_QTC', 'JJ', 'N_NN', 'RP_RPD', 'N_NN', 'V_VM', 'RD_PUNC', 'PR_PRL', 'N_NN', 'JJ', 'N_NN', 'PSP', 'V_VAUX_VNP', 'V_VAUX', 'RD_PUNC', 'N_NN', 'DM_DMD', 'N_NN', 'PSP', 'N_NN', 'N_NN', 'RD_PUNC', 'N_NN', 'N_NN', 'RD_PUNC', 'N_NN', 'N_NN', 'RP_RPD', 'N_NN', 'V_VM', 'V_VAUX', 'RD_PUNC', 'N_NN', 'N_NN', 'N_NN', 'N_NN', 'PSP', 'V_VM', 'V_VAUX', 'RD_PUNC', 'N_NN', 'V_VAUX_VNP', 'N_NST', 'JJ', 'QT_QTO', 'N_NST', 'N_NN', 'PSP', 'N_NN', 'V_VAUX_VNP', 'V_VAUX', 'DM_DMD', 'JJ', 'N_NN', 'V_VAUX_VNP', 'V_VAUX', 'RD_PUNC', 'CC_CCS_UT', 'CC_CCD', 'N_NN', 'N_NN', 'N_NN', 'V_VAUX_VNP', 'V_VM', 'V_VAUX', 'CC_CCD', 'DM_DMD', 'DM_DMI', 'N_NN', 'N_NN', 'QT_QTF', 'JJ', 'V_VM', 'DM_DMD', 'N_NN', 'V_VAUX_VNP', 'V_VAUX', 'RD_PUNC', 'N_NST', 'PR_PRP', 'N_NN', 'JJ', 'N_NN', 'PSP', 'V_VM', 'RD_PUNC', 'N_NN', 'V_VM', 'CC_CCD', 'N_NN', 'JJ', 'V_VM', 'PR_PRP', 'N_NN', 'N_NN', 'N_NN', 'JJ', 'V_VM', 'RD_PUNC', 'N_NN', 'N_NN', 'QT_QTC', 'RP_RPD', 'N_NN', 'V_VM', 'V_VAUX', 'JJ', 'V_VAUX_VNP', 'N_NN', 'V_VAUX_VNP', 'V_VAUX', 'RD_PUNC', 'CC_CCD', 'JJ', 'N_NN', 'RD_PUNC', 'JJ', 'N_NN', 'RP_RPD', 'JJ', 'N_NN', 'DM_DMD', 'N_NNP', 'N_NNP', 'JJ', 'N_NN', 'V_VAUX', 'RD_PUNC', 'N_NNP', 'N_NNP', 'N_NNP', 'N_NNP', 'N_NNP', 'N_NN', 'V_VAUX_VNP', 'PR_PRP', 'JJ', 'N_NN', 'JJ', 'N_NN', 'PSP', 'N_NNP', 'PSP', 'N_NN', 'N_NN', 'V_VAUX_VNP', 'N_NNP', 'N_NNP', 'N_NNP', 'N_NNP', 'N_NNP', 'RP_RPD', 'N_NN', 'PSP', 'N_NN', 'PSP', 'V_VAUX', 'RD_PUNC', 'N_NNP', 'N_NNP', 'N_NNP', 'JJ', 'N_NN', 'N_NN', 'RD_PUNC', 'N_NN', 'RD_SYM', 'N_NN', 'RD_SYM', 'N_NNP', 'N_NNP', 'N_NNP', 'RD_PUNC', 'N_NNP', 'N_NNP', 'N_NNP', 'N_NNP', 'PSP', 'JJ', 'N_NN', 'V_VAUX_VNP', 'N_NN', 'CC_CCD', 'N_NNP', 'RD_SYM', 'N_NNP', 'RD_SYM', 'JJ', 'N_NN', 'N_NN', 'RP_RPD', 'PR_PRP', 'N_NN', 'JJ', 'V_VM', 'V_VAUX', 'RD_PUNC', 'QT_QTO', 'N_NN', 'N_NNP', 'PR_PRF', 'RD_PUNC', 'N_NNP', 'RD_PUNC', 'QT_QTF', 'JJ', 'N_NN', 'N_NN', 'V_VM', 'V_VAUX', 'RD_PUNC', 'N_NST', 'N_NNP', 'RD_PUNC', 'N_NNP', 'RD_PUNC', 'N_NNP', 'N_NN', 'N_NN', 'RP_RPD', 'PSP', 'CC_CCS', 'JJ', 'N_NN', 'RP_RPD', 'JJ', 'RP_NEG', 'V_VAUX_VNP', 'V_VAUX', 'V_VAUX', 'JJ', 'V_VM', 'V_VAUX', 'RD_PUNC', 'N_NN', 'JJ', 'N_NN', 'N_NN', 'N_NN', 'DM_DMQ', 'V_VAUX', 'RD_PUNC', 'JJ', 'JJ', 'DM_DMQ', 'CC_CCD', 'QT_QTF', 'N_NN', 'N_NN', 'V_VM', 'DM_DMQ', 'QT_QTF', 'QT_QTF', 'RP_RPD', 'N_NN', 'N_NN', 'V_VM', 'V_VAUX', 'RD_PUNC', 'N_NNP', 'JJ', 'N_NN', 'RD_PUNC', 'N_NN', 'CC_CCD', 'N_NN', 'JJ', 'N_NN', 'N_NN', 'JJ', 'N_NN', 'V_VM', 'V_VAUX', 'V_VAUX', 'RD_PUNC', 'PSP', 'CC_CCS', 'N_NST', 'RP_RPD', 'JJ', 'DM_DMD', 'PR_PRQ', 'N_NN', 'V_VAUX', 'CC_CCS', 'DM_DMD', 'PSP', 'N_NN', 'N_NN', 'N_NN', 'RP_RPD', 'RP_NEG', 'V_VM', 'RD_PUNC', 'DM_DMD', 'JJ', 'JJ', 'N_NN', 'V_VAUX', 'RD_PUNC', 'N_NNP', 'N_NNP', 'N_NNP', 'N_NN', 'N_NN', 'CC_CCD', 'N_NNP', 'N_NN', 'N_NN', 'N_NN', 'N_NN', 'JJ', 'V_VAUX', 'RD_PUNC', 'PR_PRP', 'N_NN', 'V_VAUX_VNP', 'N_NNP', 'JJ', 'RP_RPD', 'JJ', 'V_VM', 'V_VAUX', 'CC_CCS', 'RD_PUNC', 'PR_PRF', 'N_NNP', 'RB', 'V_VM', 'N_NST', 'PR_PRP', 'N_NNP', 'V_VM', 'V_VAUX', 'RD_PUNC', 'CC_CCD', 'JJ', 'N_NNP', 'N_NN', 'PSP', 'V_VAUX_VNP', 'DM_DMD', 'N_NN', 'QT_QTF', 'RP_RPD', 'JJ', 'V_VAUX', 'RD_PUNC', 'QT_QTF', 'V_VAUX_VNP', 'PR_PRP', 'N_NN', 'CC_CCD', 'N_NN', 'V_VAUX_VNP', 'N_NN', 'V_VAUX_VNP', 'V_VAUX', 'RD_PUNC', 'JJ', 'N_NN', 'DM_DMD', 'JJ', 'N_NN', 'V_VAUX_VNP', 'V_VAUX', 'RD_PUNC', 'N_NNP', 'JJ', 'N_NN', 'N_NST', 'N_NNP', 'V_VAUX_VNP', 'V_VAUX_VNP', 'CC_CCD', 'PR_PRP', 'RP_RPD', 'JJ', 'N_NN', 'N_NN', 'V_VM', 'RD_PUNC', 'DM_DMD', 'PSP', 'RP_RPD', 'JJ', 'CC_CCD', 'JJ', 'V_VAUX', 'V_VAUX', 'RD_PUNC', 'N_NST', 'V_VAUX_VNP', 'N_NN', 'RD_PUNC', 'JJ', 'N_NN', 'N_NST', 'N_NN', 'V_VAUX_VNP', 'V_VAUX_VNP', 'N_NN', 'N_NN', 'V_VAUX_VNP', 'V_VM', 'V_VAUX', 'N_NST', 'RD_PUNC', 'JJ', 'JJ', 'N_NN', 'PSP', 'V_VAUX_VNP', 'V_VAUX_VNP', 'JJ', 'N_NN', 'CC_CCD', 'N_NN', 'N_NNP', 'V_VAUX_VNP', 'V_VAUX_VNP', 'N_NN', 'V_VAUX_VNP', 'V_VAUX_VNP', 'N_NN', 'PSP', 'CC_CCS', 'PR_PRP', 'V_VM', 'V_VAUX', 'RD_PUNC', 'PSP', 'DM_DMD', 'N_NN', 'N_NN', 'CC_CCD', 'N_NN', 'JJ', 'V_VAUX', 'RD_PUNC', 'DM_DMD', 'JJ', 'V_VAUX_VNP', 'N_NN', 'QT_QTF', 'RP_RPD', 'JJ', 'N_NN', 'N_NN', 'V_VAUX', 'RD_PUNC'], 'economy': ['JJ', 'N_NN', 'N_NN', 'RD_PUNC', 'N_NN', 'CC_CCD', 'N_NN', 'RD_SYM', 'N_NN', 'RD_SYM', 'N_NN', 'V_VM', 'V_VAUX', 'RD_PUNC', 'N_NST', 'QT_QTF', 'N_NN', 'JJ', 'V_VAUX', 'JJ', 'PSP', 'CC_CCS', 'PR_PRP', 'PSP', 'JJ', 'N_NN', 'V_VAUX', 'RD_PUNC', 'N_NN', 'PSP', 'N_NN', 'PSP', 'N_NN', 'N_NN', 'RP_RPD', 'JJ', 'V_VAUX', 'RD_PUNC', 'JJ', 'JJ', 'N_NN', 'PR_PRC', 'PSP', 'V_VAUX_VNP', 'N_NN', 'JJ', 'N_NN', 'V_VAUX_VNP', 'N_NN', 'RP_RPD', 'N_NN', 'PSP', 'DM_DMQ', 'N_NN', 'JJ', 'V_VM', 'RD_PUNC', 'CC_CCD', 'PSP', 'N_NST', 'RP_RPD', 'V_VM', 'N_NST', 'N_NN', 'JJ', 'N_NN', 'RD_PUNC', 'JJ', 'JJ', 'N_NN', 'CC_CCD', 'JJ', 'N_NN', 'JJ', 'V_VM', 'RD_PUNC', 'JJ', 'N_NN', 'N_NN', 'N_NN', 'V_VM', 'V_VAUX', 'CC_CCS', 'QT_QTC', 'QT_QTC', 'N_NN', 'PSP', 'N_NN', 'JJ', 'N_NN', 'JJ', 'CC_CCD', 'JJ', 'N_NN', 'JJ', 'V_VAUX_VNP', 'V_VAUX', 'RD_PUNC', 'N_NN', 'N_NN', 'N_NN', 'PSP', 'N_NN', 'N_NN', 'JJ', 'N_NN', 'QT_QTC', 'JJ', 'N_NN', 'V_VM', 'V_VAUX', 'RD_PUNC', 'N_NN', 'PSP', 'V_VAUX_VNP', 'V_VAUX_VNP', 'JJ', 'N_NN', 'JJ', 'N_NN', 'V_VAUX_VNP', 'V_VAUX', 'V_VAUX', 'RD_PUNC', 'N_NST', 'PSP', 'JJ', 'JJ', 'N_NN', 'CC_CCD', 'JJ', 'N_NN', 'JJ', 'V_VAUX_VNP', 'V_VAUX', 'V_VAUX', 'RD_PUNC', 'N_NNP', 'N_NN', 'QT_QTC', 'JJ', 'N_NN', 'JJ', 'N_NN', 'V_VAUX_VNP', 'V_VAUX', 'V_VAUX', 'RD_PUNC', 'N_NN', 'JJ', 'N_NN', 'JJ', 'N_NN', 'PSP', 'V_VM', 'V_VAUX', 'RD_PUNC', 'N_NNP', 'JJ', 'N_NN', 'V_VAUX', 'V_VAUX', 'RD_PUNC', 'N_NN', 'V_VAUX_VNP', 'N_NN', 'RD_PUNC', 'JJ', 'N_NN', 'RD_PUNC', 'JJ', 'N_NN', 'N_NN', 'V_VM', 'V_VAUX', 'RD_PUNC', 'DM_DMD', 'JJ', 'N_NN', 'N_NN', 'V_VAUX_VNP', 'V_VAUX', 'V_VAUX', 'RD_PUNC', 'CC_CCS', 'JJ', 'N_NN', 'JJ', 'N_NN', 'JJ', 'JJ', 'JJ', 'N_NN', 'PSP', 'JJ', 'N_NN', 'V_VM', 'V_VAUX', 'RD_PUNC', 'N_NN', 'N_NN', 'N_NN', 'V_VM', 'CC_CCD', 'RP_RPD', 'JJ', 'JJ', 'N_NN', 'N_NN', 'JJ', 'V_VM', 'V_VM', 'RD_PUNC', 'PSP', 'RD_PUNC', 'N_NNP', 'N_NN', 'CC_CCD', 'N_NN', 'JJ', 'V_VM', 'CC_CCD', 'N_NN', 'PSP', 'JJ', 'N_NN', 'V_VM', 'JJ', 'N_NN', 'N_NN', 'V_VAUX_VNP', 'V_VAUX', 'V_VAUX', 'RD_PUNC', 'JJ', 'N_NN', 'N_NST', 'JJ', 'N_NN', 'CC_CCD', 'N_NN', 'RD_PUNC', 'JJ', 'N_NN', 'V_VAUX', 'RD_PUNC', 'N_NN', 'N_NN', 'N_NN', 'V_VAUX_VNP', 'N_NN', 'N_NN', 'N_NN', 'JJ', 'N_NN', 'V_VM', 'CC_CCS', 'PSP', 'DM_DMD', 'N_NN', 'V_VM', 'V_VAUX', 'RD_PUNC', 'N_NN', 'JJ', 'N_NN', 'PSP', 'JJ', 'V_VAUX_VNP', 'N_NN', 'N_NN', 'CC_CCD', 'N_NN', 'QT_QTF', 'RP_RPD', 'JJ', 'V_VM', 'V_VAUX', 'V_VAUX', 'RD_PUNC', 'JJ', 'N_NN', 'N_NN', 'PSP', 'N_NN', 'V_VAUX_VNP', 'PSP', 'JJ', 'JJ', 'N_NN', 'CC_CCD', 'JJ', 'N_NN', 'JJ', 'V_VAUX_VNP', 'RP_RPD', 'DM_DMD', 'N_NN', 'V_VAUX_VNP', 'V_VAUX', 'V_VAUX', 'RD_PUNC', 'N_NNP', 'N_NN', 'PSP', 'PSP', 'JJ', 'N_NN', 'N_NN', 'RP_RPD', 'JJ', 'V_VAUX_VNP', 'V_VM', 'V_VAUX', 'RD_PUNC', 'N_NN', 'PR_PRL', 'N_NN', 'RD_PUNC', 'N_NN', 'RD_PUNC', 'N_NN', 'RD_PUNC', 'N_NN', 'PSP', 'N_NN', 'N_NN', 'V_VM', 'V_VAUX', 'RD_PUNC', 'N_NN', 'CC_CCD', 'N_NN', 'JJ', 'JJ', 'N_NN', 'N_NN', 'N_NN', 'CC_CCD', 'N_NN', 'JJ', 'V_VM', 'V_VAUX', 'RD_PUNC', 'DM_DMD', 'V_VAUX', 'N_NN', 'QT_QTO', 'N_NN', 'RD_PUNC', 'V_VAUX_VNP', 'V_VAUX_VNP', 'N_NN', 'N_NN', 'V_VAUX_VNP', 'CC_CCD', 'JJ', 'N_NN', 'N_NN', 'N_NN', 'PSP', 'JJ', 'N_NN', 'N_NN', 'V_VM', 'RD_PUNC', 'JJ', 'JJ', 'PSP', 'DM_DMD', 'N_NN', 'N_NN', 'V_VAUX_VNP', 'V_VM', 'V_VAUX', 'RD_PUNC', 'JJ', 'N_NN', 'JJ', 'N_NN', 'CC_CCD', 'JJ', 'N_NN', 'N_NST', 'CC_CCD', 'N_NN', 'V_VAUX', 'CC_CCD', 'N_NN', 'JJ', 'N_NN', 'JJ', 'V_VAUX', 'RD_PUNC', 'PSP', 'V_VM', 'V_VAUX', 'RD_PUNC', 'V_VM', 'CC_CCS', 'QT_QTC', 'N_NN', 'N_NST', 'QT_QTF', 'JJ', 'N_NN', 'V_VAUX_VNP', 'V_VAUX', 'RD_PUNC', 'CC_CCS', 'N_NN', 'RP_RPD', 'JJ', 'N_NN', 'N_NN', 'V_VAUX_VNP', 'V_VAUX', 'RD_PUNC', 'CC_CCS_UT', 'N_NN', 'V_VM', 'CC_CCD', 'PR_PRQ', 'RD_PUNC', 'DM_DMD', 'N_NN', 'DM_DMD', 'N_NN', 'PSP', 'N_NN', 'V_VAUX', 'RD_PUNC', 'N_NN', 'N_NN', 'RD_PUNC', 'N_NN', 'CC_CCD', 'N_NN', 'QT_QTC', 'N_NN', 'N_NN', 'V_VM', 'V_VM', 'V_VAUX', 'CC_CCD', 'N_NN', 'N_NN', 'N_NN', 'V_VM', 'V_VAUX', 'RD_PUNC', 'CC_CCS_UT', 'DM_DMI', 'N_NN', 'V_VAUX_VNP', 'N_NN', 'N_NN', 'V_VAUX_VNP', 'N_NN', 'N_NN', 'V_VM', 'CC_CCD', 'DM_DMD', 'PSP', 'JJ', 'N_NN', 'V_VM', 'RD_PUNC', 'N_NN', 'JJ', 'N_NN', 'N_NN', 'RD_PUNC', 'N_NN', 'CC_CCD', 'N_NN', 'JJ', 'V_VM', 'V_VAUX', 'RD_PUNC', 'N_NST', 'N_NN', 'JJ', 'V_VAUX', 'RD_PUNC', 'N_NN', 'CC_CCD', 'N_NN', 'QT_QTF', 'N_NN', 'V_VAUX', 'RD_PUNC', 'N_NN', 'N_NN', 'JJ', 'N_NN', 'PSP', 'JJ', 'V_VAUX', 'CC_CCD', 'QT_QTC', 'RP_RPD', 'N_NN', 'N_NN', 'PSP', 'V_VAUX_VNP', 'V_VAUX', 'N_NST', 'JJ', 'N_NN', 'JJ', 'JJ', 'V_VM', 'V_VAUX', 'RD_PUNC', 'JJ', 'N_NN', 'CC_CCD', 'JJ', 'N_NN', 'JJ', 'V_VAUX_VNP', 'N_NN', 'N_NN', 'JJ', 'V_VM', 'V_VAUX', 'RD_PUNC', 'N_NN', 'JJ', 'CC_CCD', 'JJ', 'N_NN', 'V_VAUX', 'JJ', 'N_NN', 'JJ', 'V_VAUX_VNP', 'V_VAUX', 'RD_PUNC', 'DM_DMI', 'RP_NEG', 'RP_RPD', 'JJ', 'RD_PUNC', 'N_NN', 'V_VAUX_VNP', 'PSP', 'N_NN', 'V_VM', 'V_VAUX', 'PR_PRL', 'N_NN', 'N_NN', 'V_VAUX_VNP', 'PSP', 'V_VM', 'V_VAUX', 'V_VAUX', 'RD_PUNC', 'PR_PRP', 'PSP', 'N_NN', 'JJ', 'V_VAUX', 'RD_PUNC', 'CC_CCD', 'N_NNP', 'V_VM', 'V_VAUX', 'CC_CCS', 'N_NN', 'JJ', 'N_NN', 'V_VAUX_VNP', 'V_VAUX', 'RP_RPD', 'N_NN', 'N_NN', 'PSP', 'JJ', 'N_NN', 'JJ', 'V_VM', 'V_VAUX', 'RD_PUNC', 'PSP', 'N_NN', 'JJ', 'V_VAUX', 'PSP', 'JJ', 'V_VM', 'V_VAUX', 'RD_PUNC', 'QT_QTF', 'N_NN', 'JJ', 'V_VAUX', 'V_VAUX', 'RD_PUNC', 'CC_CCD', 'DM_DMD', 'RB', 'V_VM', 'V_VAUX', 'RD_PUNC', 'JJ', 'RP_RPD', 'RP_NEG', 'CC_CCD', 'DM_DMD', 'N_NN', 'QT_QTC', 'PSP', 'JJ', 'PSP', 'JJ', 'N_NN', 'JJ', 'V_VAUX', 'RD_PUNC', 'CC_CCD', 'N_NST', 'N_NN', 'JJ', 'N_NN', 'V_VM', 'V_VAUX', 'RD_PUNC', 'N_NN', 'N_NN', 'V_VAUX', 'PSP', 'N_NN', 'N_NN', 'JJ', 'V_VAUX_VNP', 'V_VAUX', 'RD_PUNC', 'N_NN', 'N_NN', 'PSP', 'N_NN', 'JJ', 'N_NN', 'CC_CCS', 'PR_PRL', 'N_NN', 'V_VAUX_VNP', 'V_VAUX', 'CC_CCD', 'JJ', 'N_NN', 'V_VM', 'V_VAUX', 'RD_PUNC', 'PR_PRQ', 'JJ', 'N_NN', 'JJ', 'N_NN', 'V_VM', 'V_VAUX', 'RD_PUNC', 'N_NN', 'N_NN', 'V_VM', 'V_VAUX', 'RD_PUNC', 'N_NN', 'N_NN', 'N_NN', 'PSP', 'QT_QTF', 'N_NN', 'V_VAUX_VNP', 'V_VAUX', 'V_VAUX', 'RD_PUNC'], 'entern': ['PSP', 'PSP', 'RP_RPD', 'JJ', 'RP_RPD', 'N_NN', 'N_NN', 'RD_PUNC', 'CC_CCD', 'N_NN', 'N_NN', 'PSP', 'PSP', 'N_NN', 'RP_RPD', 'N_NN', 'RP_RPD', 'RD_PUNC', 'PSP', 'PR_PRP', 'N_NN', 'RP_NEG', 'V_VAUX_VNP', 'V_VAUX', 'RD_PUNC', 'PR_PRP', 'RD_PUNC', 'N_NN', 'RD_PUNC', 'PSP', 'N_NN', 'V_VM', 'RD_PUNC', 'CC_CCD', 'JJ', 'JJ', 'N_NN', 'JJ', 'V_VM', 'V_VAUX', 'RD_PUNC', 'DM_DMI', 'N_NN', 'N_NN', 'V_VM', 'RD_PUNC', 'PR_PRP', 'JJ', 'RP_RPD', 'N_NN', 'V_VAUX', 'CC_CCS', 'N_NN', 'QT_QTF', 'PSP', 'V_VAUX_VNP', 'V_VM', 'CC_CCD', 'PR_PRQ', 'N_NN', 'V_VAUX', 'RD_PUNC', 'V_VAUX', 'RP_RPD', 'N_NN', 'RD_PUNC', 'N_NN', 'V_VAUX_VNP', 'N_NST', 'PR_PRP', 'N_NN', 'N_NST', 'V_VAUX_VNP', 'N_NN', 'N_NN', 'RP_RPD', 'JJ', 'V_VM', 'V_VAUX', 'CC_CCD', 'JJ', 'N_NN', 'PSP', 'V_VAUX_VNP', 'N_NN', 'RP_RPD', 'V_VM', 'V_VAUX', 'RD_PUNC', 'DM_DMD', 'RP_RPD', 'V_VAUX', 'RD_PUNC', 'PSP', 'PR_PRP', 'PR_PRQ', 'JJ', 'V_VM', 'CC_CCS', 'PSP', 'N_NN', 'JJ', 'V_VM', 'PR_PRP', 'N_NN', 'V_VAUX', 'RD_PUNC', 'N_NN', 'V_VAUX_VNP', 'V_VAUX_VNP', 'N_NN', 'V_VM', 'RD_PUNC', 'DM_DMI', 'N_NN', 'V_VAUX_VNP', 'RP_RPD', 'V_VM', 'RD_PUNC', 'N_NN', 'RD_PUNC', 'N_NN', 'V_VM', 'RD_PUNC', 'DM_DMD', 'N_NST', 'PR_PRP', 'V_VAUX_VNP', 'N_NN', 'V_VAUX_VNP', 'N_NN', 'PR_PRP', 'PSP', 'JJ', 'V_VAUX', 'RD_PUNC', 'JJ', 'N_NN', 'V_VAUX_VNP', 'V_VAUX_VNP', 'DM_DMD', 'N_NN', 'JJ', 'V_VAUX_VNP', 'N_NN', 'PR_PRP', 'V_VAUX_VNP', 'V_VAUX', 'RD_PUNC', 'DM_DMD', 'V_VAUX_VNP', 'N_NN', 'N_NN', 'V_VAUX_VNP', 'N_NN', 'PSP', 'V_VM', 'V_VAUX_VNP', 'PSP', 'PR_PRP', 'DM_DMI', 'N_NN', 'N_NN', 'V_VAUX', 'RD_PUNC', 'PSP', 'PR_PRP', 'N_NN', 'V_VAUX_VNP', 'N_NN', 'DM_DMD', 'PSP', 'N_NN', 'JJ', 'V_VAUX_VNP', 'V_VM', 'V_VAUX', 'RD_PUNC', 'N_NN', 'N_NN', 'PSP', 'V_VAUX', 'RD_PUNC', 'DM_DMD', 'N_NN', 'PSP', 'PR_PRP', 'DM_DMD', 'N_NN', 'RP_RPD', 'V_VM', 'V_VAUX', 'V_VAUX', 'RD_PUNC', 'RD_PUNC', 'N_NNP', 'RD_PUNC', 'RD_PUNC', 'PR_PRP', 'N_NN', 'N_NST', 'V_VM', 'V_VAUX', 'RD_PUNC', 'N_NST', 'QT_QTF', 'N_NN', 'N_NST', 'DM_DMD', 'N_NN', 'PR_PRP', 'V_VAUX_VNP', 'V_VAUX', 'RD_PUNC', 'PR_PRP', 'N_NN', 'RD_PUNC', 'PR_PRL', 'QT_QTC', 'N_NN', 'PR_PRP', 'JJ', 'V_VAUX', 'RD_PUNC', 'QT_QTO', 'N_NN', 'PR_PRP', 'N_NN', 'V_VAUX', 'RD_PUNC', 'QT_QTO', 'N_NN', 'DM_DMD', 'N_NN', 'V_VAUX', 'CC_CCD', 'QT_QTO', 'N_NN', 'JJ', 'V_VAUX', 'RD_PUNC', 'PR_PRP', 'V_VM', 'RP_RPD', 'RD_PUNC', 'N_NNP', 'PSP', 'JJ', 'N_NN', 'RD_PUNC', 'JJ', 'N_NN', 'RD_PUNC', 'JJ', 'N_NN', 'RD_PUNC', 'JJ', 'N_NN', 'CC_CCD', 'PR_PRP', 'PSP', 'RB', 'V_VAUX_VNP', 'V_VM', 'JJ', 'N_NN', 'RD_PUNC', 'JJ', 'N_NN', 'PSP', 'N_NN', 'V_VAUX_VNP', 'JJ', 'JJ', 'N_NN', 'V_VAUX_VNP', 'N_NN', 'V_VAUX_VNP', 'V_VM', 'N_NST', 'PR_PRP', 'N_NN', 'N_NN', 'V_VM', 'V_VAUX', 'V_VAUX', 'RD_PUNC', 'PR_PRP', 'N_NN', 'PR_PRP', 'JJ', 'N_NN', 'V_VM', 'JJ', 'JJ', 'V_VAUX', 'RD_PUNC', 'JJ', 'N_NN', 'V_VAUX_VNP', 'QT_QTC', 'N_NN', 'N_NN', 'V_VAUX_VNP', 'N_NN', 'V_VAUX_VNP', 'N_NN', 'PR_PRP', 'V_VAUX_VNP', 'RD_PUNC', 'N_NNP', 'PSP', 'JJ', 'N_NN', 'V_VAUX_VNP', 'N_NNP', 'JJ', 'RP_NEG', 'RD_PUNC', 'PSP', 'JJ', 'N_NN', 'V_VAUX', 'JJ', 'N_NN', 'DM_DMD', 'V_VAUX_VNP', 'RD_PUNC', 'PSP', 'RP_RPD', 'N_NNP', 'RP_RPD', 'V_VAUX_VNP', 'RD_PUNC', 'RD_PUNC', 'N_NN', 'RD_PUNC', 'PR_PRP', 'V_VM', 'CC_CCD', 'N_NNP', 'N_NNP', 'RP_RPD', 'N_NN', 'V_VM', 'V_VAUX', 'RD_PUNC', 'CC_CCD', 'DM_DMD', 'N_NNP', 'PSP', 'N_NN', 'V_VAUX_VNP', 'PR_PRP', 'N_NN', 'RP_NEG', 'RD_PUNC', 'RD_PUNC', 'JJ', 'N_NN', 'N_NN', 'V_VAUX_VNP', 'V_VAUX', 'PSP', 'PR_PRQ', 'JJ', 'N_NN', 'V_VM', 'RD_PUNC', 'JJ', 'V_VM', 'V_VAUX', 'RD_PUNC', 'N_NNP', 'PSP', 'N_NN', 'RD_PUNC', 'N_NN', 'CC_CCS', 'N_NN', 'RB', 'V_VM', 'V_VAUX_VNP', 'RD_PUNC', 'PSP', 'V_VAUX_VNP', 'CC_CCD', 'N_NN', 'V_VAUX_VNP', 'N_NN', 'RP_RPD', 'V_VAUX_VNP', 'RD_PUNC', 'PSP', 'JJ', 'V_VM', 'V_VAUX', 'RD_PUNC', 'QT_QTC', 'RD_PUNC', 'QT_QTC', 'N_NN', 'V_VM', 'V_VAUX', 'RD_PUNC', 'N_NN', 'V_VM', 'V_VAUX', 'V_VAUX', 'RP_RPD', 'N_NN', 'PSP', 'JJ', 'RP_NEG', 'RD_PUNC', 'RB', 'N_NN', 'V_VM', 'RD_PUNC', 'N_NN', 'V_VM', 'RD_PUNC', 'N_NN', 'N_NN', 'V_VM', 'V_VAUX', 'RD_PUNC', 'N_NN', 'V_VM', 'RD_PUNC', 'N_NN', 'V_VAUX_VNP', 'N_NN', 'PSP', 'N_NN', 'V_VM', 'RD_PUNC', 'PSP', 'V_VAUX_VNP', 'N_NN', 'V_VM', 'RD_PUNC', 'N_NN', 'V_VM', 'DM_DMD', 'N_NN', 'V_VM', 'RD_PUNC', 'PR_PRP', 'JJ', 'PSP', 'N_NN', 'V_VM', 'V_VAUX', 'RD_PUNC', 'V_VM', 'RD_PUNC', 'N_NN', 'PR_PRP', 'N_NN', 'RD_PUNC', 'DM_DMD', 'N_NN', 'PR_PRP', 'JJ', 'V_VM', 'V_VAUX', 'RD_PUNC', 'N_NNP', 'RD_PUNC', 'PR_PRP', 'RP_RPD', 'N_NN', 'RP_RPD', 'V_VAUX', 'RP_RPD', 'RD_PUNC', 'N_NNP', 'V_VM', 'RD_PUNC', 'N_NN', 'N_NN', 'N_NN', 'JJ', 'V_VAUX', 'RD_PUNC', 'N_NN', 'PSP', 'JJ', 'N_NN', 'N_NN', 'V_VAUX_VNP', 'V_VM', 'V_VAUX', 'JJ', 'N_NN', 'V_VAUX_VNP', 'V_VM', 'V_VAUX', 'RD_PUNC', 'N_NN', 'JJ', 'V_VM', 'RD_PUNC', 'PR_PRP', 'PR_PRP', 'N_NN', 'V_VM', 'RD_PUNC', 'N_NN', 'RP_NEG', 'V_VM', 'RD_PUNC', 'JJ', 'N_NN', 'N_NN', 'N_NN', 'N_NN', 'N_NN', 'N_NST', 'V_VM', 'V_VAUX', 'RD_PUNC', 'PSP', 'N_NN', 'V_VM', 'CC_CCD', 'N_NN', 'JJ', 'JJ', 'N_NN', 'N_NN', 'V_VM', 'RD_PUNC', 'PR_PRP', 'N_NN', 'V_VM', 'V_VAUX', 'RD_PUNC', 'N_NN', 'V_VAUX_VNP', 'RP_RPD', 'DM_DMD', 'N_NN', 'CC_CCD', 'N_NN', 'N_NN', 'V_VAUX_VNP', 'N_NN', 'PSP', 'N_NN', 'JJ', 'N_NN', 'V_VAUX_VNP', 'RP_NEG', 'RD_PUNC', 'PSP', 'PR_PRI', 'N_NST', 'JJ', 'JJ', 'JJ', 'N_NN', 'N_NN', 'N_NN', 'V_VAUX_VNP', 'V_VAUX_VNP', 'V_VAUX_VNP', 'RP_NEG', 'RD_PUNC', 'QT_QTC', 'N_NN', 'JJ', 'V_VAUX_VNP', 'V_VM', 'RD_PUNC', 'N_NN', 'RB', 'JJ', 'V_VM', 'V_VAUX', 'RD_PUNC', 'N_NNP', 'N_NN', 'V_VM', 'V_VAUX_VNP', 'N_NN', 'N_NN', 'N_NN', 'N_NN', 'V_VM', 'CC_CCD', 'QT_QTO', 'N_NN', 'N_NN', 'N_NST', 'V_VM', 'RD_PUNC', 'PR_PRP', 'V_VM', 'RD_PUNC', 'RD_PUNC', 'V_VAUX_VNP', 'V_VAUX', 'RD_PUNC', 'N_NNP', 'RD_PUNC', 'DM_DMD', 'QT_QTF', 'JJ', 'V_VM', 'V_VAUX', 'RD_PUNC', 'RD_PUNC'], 'philosophy': ['N_NNP', 'JJ', 'RP_NEG', 'V_VAUX_VNP', 'CC_CCD', 'DM_DMD', 'V_VAUX_VNP', 'V_VAUX_VNP', 'N_NN', 'DM_DMD', 'JJ', 'N_NN', 'V_VM', 'V_VAUX', 'RD_PUNC', 'N_NNP', 'N_NN', 'N_NN', 'V_VM', 'V_VAUX', 'RD_PUNC', 'PSP', 'DM_DMD', 'RD_PUNC', 'N_NN', 'RD_PUNC', 'CC_CCD', 'RD_PUNC', 'JJ', 'RD_PUNC', 'V_VAUX_VNP', 'V_VAUX', 'V_VAUX', 'RD_PUNC', 'DM_DMD', 'PSP', 'JJ', 'N_NN', 'PSP', 'JJ', 'N_NN', 'CC_CCD', 'N_NN', 'RP_RPD', 'N_NN', 'JJ', 'V_VM', 'V_VAUX', 'RD_PUNC', 'DM_DMD', 'JJ', 'N_NN', 'RD_PUNC', 'N_NNP', 'RD_PUNC', 'RD_PUNC', 'PSP', 'JJ', 'JJ', 'N_NN', 'N_NN', 'V_VAUX_VNP', 'N_NN', 'DM_DMD', 'N_NN', 'RP_RPD', 'V_VM', 'V_VAUX', 'RD_PUNC', 'N_NNP', 'N_NNP', 'PSP', 'N_NNP', 'N_NST', 'N_NN', 'V_VM', 'V_VAUX', 'RD_PUNC', 'N_NN', 'PSP', 'V_VAUX_VNP', 'N_NN', 'RD_PUNC', 'N_NNP', 'N_NN', 'V_VAUX_VNP', 'PSP', 'N_NNP', 'N_NN', 'QT_QTC', 'JJ', 'JJ', 'N_NN', 'V_VM', 'V_VAUX', 'RD_PUNC', 'QT_QTC', 'N_NNP', 'DM_DMD', 'QT_QTC', 'N_NNP', 'CC_CCD', 'JJ', 'N_NNP', 'RD_PUNC', 'N_NN', 'N_NN', 'DM_DMD', 'N_NN', 'N_NN', 'PSP', 'N_NNP', 'JJ', 'N_NN', 'V_VM', 'V_VAUX', 'RD_PUNC', 'DM_DMD', 'N_NN', 'N_NN', 'N_NN', 'V_VAUX_VNP', 'PSP', 'N_NN', 'N_NN', 'RP_NEG', 'RD_PUNC', 'N_NN', 'QT_QTC', 'N_NN', 'DM_DMD', 'N_NN', 'RD_PUNC', 'N_NN', 'RD_PUNC', 'N_NN', 'RD_PUNC', 'N_NN', 'RD_PUNC', 'N_NN', 'RD_PUNC', 'N_NN', 'RD_PUNC', 'N_NN', 'CC_CCD', 'N_NN', 'RD_PUNC', 'DM_DMD', 'PSP', 'N_NN', 'N_NN', 'RP_NEG', 'RD_PUNC', 'CC_CCS', 'N_NN', 'JJ', 'N_NN', 'RP_RPD', 'N_NN', 'RP_RPD', 'V_VAUX', 'V_VAUX', 'CC_CCD', 'DM_DMD', 'RP_RPD', 'N_NN', 'N_NN', 'V_VAUX', 'RD_PUNC', 'N_NNP', 'QT_QTC', 'N_NN', 'N_NN', 'V_VAUX_VNP', 'V_VAUX', 'V_VAUX', 'RD_PUNC', 'N_NN', 'RD_PUNC', 'N_NN', 'RD_PUNC', 'N_NN', 'RD_PUNC', 'N_NN', 'RD_PUNC', 'N_NNP', 'RD_PUNC', 'N_NN', 'RD_PUNC', 'N_NN', 'RD_PUNC', 'N_NN', 'CC_CCD', 'N_NN', 'RD_PUNC', 'N_NNP', 'N_NN', 'V_VAUX', 'RD_PUNC', 'PSP', 'N_NN', 'V_VAUX', 'RD_PUNC', 'N_NNP', 'V_VM', 'V_VAUX', 'CC_CCS', 'PSP', 'N_NN', 'N_NN', 'N_NN', 'V_VM', 'V_VAUX', 'RD_PUNC', 'PSP', 'DM_DMD', 'N_NN', 'V_VAUX_VNP', 'RD_PUNC', 'JJ', 'N_NN', 'V_VAUX_VNP', 'V_VAUX', 'RD_PUNC', 'DM_DMD', 'N_NN', 'PSP', 'JJ', 'N_NN', 'V_VAUX_VNP', 'RP_NEG', 'RD_PUNC', 'N_NNP', 'PSP', 'N_NN', 'CC_CCD', 'N_NN', 'PR_PRF', 'N_NN', 'JJ', 'CC_CCD', 'PR_PRC', 'JJ', 'V_VAUX', 'RD_PUNC', 'JJ', 'CC_CCS', 'JJ', 'N_NN', 'N_NN', 'N_NN', 'V_VAUX_VNP', 'RP_NEG', 'PSP', 'JJ', 'V_VAUX', 'CC_CCD', 'N_NN', 'V_VM', 'V_VAUX', 'RD_PUNC', 'PSP', 'DM_DMD', 'QT_QTC', 'N_NN', 'N_NN', 'N_NN', 'V_VM', 'V_VAUX', 'RD_PUNC', 'N_NN', 'N_NN', 'V_VAUX', 'RD_PUNC', 'PSP', 'N_NNP', 'RD_PUNC', 'DM_DMI', 'N_NN', 'V_VM', 'V_VAUX', 'RD_PUNC', 'JJ', 'V_VM', 'V_VAUX', 'JJ', 'N_NN', 'RD_PUNC', 'JJ', 'V_VM', 'V_VAUX', 'RD_PUNC', 'N_NNP', 'N_NN', 'N_NN', 'JJ', 'V_VAUX_VNP', 'RP_NEG', 'CC_CCD', 'JJ', 'N_NN', 'N_NN', 'V_VAUX_VNP', 'RP_NEG', 'DM_DMD', 'N_NN', 'JJ', 'N_NN', 'JJ', 'N_NN', 'V_VM', 'V_VAUX', 'RD_PUNC', 'N_NNP', 'JJ', 'N_NN', 'N_NN', 'V_VM', 'DM_DMD', 'JJ', 'RP_RPD', 'RP_NEG', 'PSP', 'V_VM', 'DM_DMD', 'N_NNP', 'N_NN', 'V_VM', 'N_NNP', 'N_NN', 'V_VM', 'V_VAUX', 'RD_PUNC', 'N_NN', 'PSP', 'DM_DMD', 'N_NN', 'N_NN', 'V_VM', 'V_VAUX', 'RD_PUNC', 'N_NNP', 'RD_PUNC', 'N_NNP', 'RD_PUNC', 'N_NNP', 'RD_PUNC', 'N_NNP', 'RD_PUNC', 'N_NNP', 'N_NNP', 'RD_PUNC', 'N_NNP', 'RD_PUNC', 'N_NNP', 'N_NNP', 'PSP', 'DM_DMD', 'N_NN', 'JJ', 'N_NN', 'V_VAUX', 'RD_PUNC', 'N_NN', 'JJ', 'N_NN', 'N_NNP', 'QT_QTO', 'N_NN', 'JJ', 'V_VM', 'CC_CCD', 'DM_DMD', 'RP_RPD', 'N_NN', 'N_NNP', 'PSP', 'V_VAUX_VNP', 'V_VAUX', 'V_VAUX', 'RD_PUNC', 'N_NNP', 'N_NN', 'V_VAUX', 'RD_PUNC', 'N_NN', 'PSP', 'N_NN', 'PSP', 'DM_DMI', 'RP_NEG', 'CC_CCS', 'PR_PRP', 'JJ', 'N_NNP', 'V_VAUX_VNP', 'V_VAUX', 'RD_PUNC', 'PR_PRL', 'QT_QTC', 'N_NNP', 'PSP', 'V_VM', 'V_VAUX', 'RD_PUNC', 'N_NNP', 'V_VM', 'RD_PUNC', 'DM_DMD', 'PR_PRQ', 'V_VAUX', 'RD_PUNC', 'PR_PRP', 'DM_DMD', 'N_NN', 'N_NN', 'PSP', 'RP_NEG', 'V_VM', 'RD_PUNC', 'PR_PRQ', 'PR_PRP', 'V_VM', 'RD_PUNC', 'PSP', 'N_NST', 'N_NNP', 'N_NNP', 'N_NN', 'PSP', 'N_NN', 'V_VAUX_VNP', 'N_NN', 'V_VM', 'CC_CCD', 'N_NNP', 'PR_PRP', 'V_VAUX_VNP', 'V_VM', 'CC_CCS', 'N_NN', 'N_NN', 'PSP', 'N_NN', 'V_VM', 'V_VAUX', 'RP_NEG', 'RD_PUNC', 'DM_DMD', 'PR_PRP', 'N_NST', 'RP_RPD', 'V_VM', 'V_VAUX', 'RP_NEG', 'RD_PUNC', 'N_NNP', 'QT_QTC', 'N_NN', 'N_NN', 'V_VM', 'V_VAUX', 'RP_RPD', 'N_NST', 'RP_RPD', 'PR_PRP', 'N_NN', 'V_VM', 'V_VAUX', 'RD_PUNC', 'N_NN', 'N_NN', 'PSP', 'V_VAUX', 'RD_PUNC', 'N_NN', 'N_NN', 'V_VM', 'V_VAUX', 'RP_RPD', 'RD_PUNC', 'PSP', 'N_NNP', 'QT_QTF', 'RP_RPD', 'N_NN', 'JJ', 'QT_QTF', 'JJ', 'N_NN', 'V_VAUX_VNP', 'CC_CCD', 'JJ', 'V_VAUX', 'JJ', 'RP_RPD', 'RP_NEG', 'RD_PUNC', 'N_NN', 'PR_PRP', 'N_NN', 'V_VM', 'RD_PUNC', 'JJ', 'N_NN', 'N_NNP', 'N_NN', 'DM_DMD', 'N_NN', 'N_NN', 'V_VAUX_VNP', 'N_NN', 'V_VM', 'V_VAUX', 'PSP', 'V_VM', 'V_VAUX', 'RD_PUNC', 'DM_DMD', 'JJ', 'V_VAUX', 'CC_CCS', 'JJ', 'RD_PUNC', 'CC_CCS', 'N_NST', 'N_NN', 'N_NN', 'V_VAUX_VNP', 'V_VAUX_VNP', 'RP_NEG', 'V_VAUX', 'N_NST', 'JJ', 'N_NN', 'RP_RPD', 'V_VAUX_VNP', 'DM_DMD', 'N_NN', 'JJ', 'N_NN', 'V_VM', 'V_VAUX_VNP', 'JJ', 'N_NN', 'V_VAUX', 'JJ', 'N_NN', 'V_VM', 'V_VAUX', 'RD_PUNC', 'N_NN', 'DM_DMD', 'N_NN', 'CC_CCD', 'N_NN', 'N_NN', 'V_VAUX', 'RD_PUNC', 'CC_CCD', 'PR_PRP', 'N_NN', 'V_VM', 'V_VAUX', 'CC_CCS', 'PR_PRP', 'JJ', 'N_NN', 'JJ', 'N_NN', 'N_NN', 'CC_CCD', 'N_NN', 'V_VAUX', 'RD_PUNC', 'PR_PRL', 'N_NN', 'RD_PUNC', 'N_NN', 'RD_PUNC', 'N_NN', 'RD_PUNC', 'N_NN', 'PSP', 'N_NN', 'V_VM', 'V_VAUX', 'RD_PUNC', 'N_NN', 'V_VAUX_VNP', 'V_VAUX_VNP', 'PSP', 'RD_PUNC', 'JJ', 'N_NN', 'CC_CCD', 'N_NN', 'PSP', 'RD_PUNC', 'N_NN', 'PSP', 'DM_DMD', 'JJ', 'V_VAUX', 'RP_RPD', 'RD_PUNC', 'N_NN', 'DM_DMD', 'RP_RPD', 'N_NN', 'V_VAUX', 'RD_PUNC', 'RP_RPD', 'DM_DMI', 'RP_RPD', 'N_NN', 'JJ', 'CC_CCS', 'JJ', 'RP_NEG', 'V_VAUX_VNP', 'RD_PUNC', 'N_NN', 'N_NN', 'RD_PUNC', 'N_NNP', 'RD_PUNC', 'N_NN', 'N_NNP', 'JJ', 'N_NN', 'V_VAUX_VNP', 'RP_RPD', 'RD_PUNC', 'JJ', 'RD_PUNC', 'N_NNP', 'JJ', 'N_NN', 'JJ', 'N_NN', 'V_VM', 'V_VAUX', 'RD_PUNC'], 'religion': ['N_NNP', 'QT_QTC', 'N_NN', 'V_VAUX_VNP', 'V_VAUX', 'V_VAUX', 'RD_PUNC', 'N_NNP', 'N_NN', 'DM_DMD', 'N_NN', 'RD_PUNC', 'N_NN', 'RD_PUNC', 'N_NN', 'RD_PUNC', 'N_NN', 'RD_SYM', 'N_NN', 'N_NN', 'RD_SYM', 'CC_CCD', 'N_NN', 'DM_DMD', 'QT_QTC', 'JJ', 'N_NN', 'JJ', 'V_VAUX_VNP', 'V_VAUX', 'V_VAUX', 'RD_PUNC', 'N_NNP', 'N_NN', 'V_VAUX', 'RD_PUNC', 'N_NNP', 'V_VM', 'V_VAUX', 'CC_CCS', 'N_NNP', 'N_NN', 'V_VAUX_VNP', 'N_NN', 'RD_PUNC', 'N_NN', 'RD_PUNC', 'N_NN', 'RD_PUNC', 'N_NN', 'RD_PUNC', 'N_NNP', 'PSP', 'PR_PRI', 'N_NN', 'V_VM', 'RD_PUNC', 'PR_PRI', 'N_NN', 'N_NN', 'V_VM', 'RD_PUNC', 'N_NNP', 'N_NN', 'RD_PUNC', 'N_NN', 'RD_PUNC', 'N_NN', 'V_VAUX', 'CC_CCS', 'PR_PRP', 'PR_PRF', 'QT_QTC', 'RP_RPD', 'N_NN', 'N_NN', 'CC_CCD', 'N_NN', 'JJ', 'N_NN', 'V_VM', 'V_VAUX', 'RD_PUNC', 'N_NNP', 'PR_PRF', 'N_NN', 'V_VAUX_VNP', 'PR_PRP', 'N_NN', 'RP_RPD', 'N_NNP', 'V_VM', 'V_VAUX', 'RD_PUNC', 'DM_DMD', 'QT_QTF', 'JJ', 'N_NN', 'RD_PUNC', 'N_NNP', 'N_NN', 'RD_PUNC', 'N_NNP', 'CC_CCD', 'N_NNP', 'N_NN', 'V_VAUX_VNP', 'V_VAUX', 'RD_PUNC', 'N_NNP', 'N_NN', 'RP_RPD', 'N_NN', 'JJ', 'N_NN', 'V_VAUX', 'RD_PUNC', 'N_NN', 'N_NN', 'N_NN', 'RD_PUNC', 'N_NN', 'CC_CCD', 'N_NN', 'N_NN', 'N_NN', 'V_VAUX_VNP', 'N_NN', 'PSP', 'N_NNP', 'RD_PUNC', 'N_NNP', 'CC_CCD', 'N_NNP', 'RD_PUNC', 'N_NNP', 'JJ', 'N_NN', 'JJ', 'N_NN', 'N_NN', 'V_VAUX', 'RD_PUNC', 'N_NNP', 'JJ', 'N_NN', 'QT_QTC', 'N_NN', 'V_VAUX', 'RD_PUNC', 'DM_DMD', 'N_NN', 'JJ', 'N_NN', 'N_NN', 'QT_QTF', 'QT_QTF', 'JJ', 'V_VAUX', 'RD_PUNC', 'CC_CCD', 'JJ', 'N_NN', 'N_NN', 'N_NN', 'RD_PUNC', 'N_NN', 'JJ', 'N_NN', 'JJ', 'N_NN', 'DM_DMI', 'QT_QTC', 'N_NN', 'JJ', 'JJ', 'V_VM', 'V_VAUX', 'RD_PUNC', 'N_NNP', 'N_NN', 'DM_DMD', 'N_NN', 'N_NN', 'CC_CCD', 'JJ', 'JJ', 'N_NNP', 'N_NNP', 'N_NNP', 'RD_PUNC', 'N_NNP', 'JJ', 'JJ', 'PR_PRQ', 'V_VAUX', 'RD_PUNC', 'N_NNP', 'QT_QTF', 'RB', 'N_NN', 'JJ', 'N_NN', 'JJ', 'V_VM', 'RD_PUNC', 'DM_DMQ', 'V_VAUX', 'PR_PRP', 'N_NN', 'RD_PUNC', 'N_NN', 'N_NN', 'QT_QTF', 'RP_RPD', 'JJ', 'V_VAUX', 'RD_PUNC', 'N_NNP', 'N_NN', 'N_NN', 'QT_QTC', 'N_NN', 'N_NN', 'PR_PRI', 'N_NN', 'V_VAUX_VNP', 'V_VM', 'V_VAUX', 'RD_PUNC', 'DM_DMI', 'DM_DMD', 'JJ', 'V_VAUX_VNP', 'PR_PRF', 'PSP', 'V_VM', 'V_VAUX', 'RP_NEG', 'V_VAUX', 'RD_PUNC', 'N_NNP', 'N_NN', 'N_NN', 'V_VAUX_VNP', 'N_NNP', 'N_NNP', 'N_NN', 'N_NN', 'N_NN', 'RP_RPD', 'PR_PRP', 'RP_RPD', 'V_VM', 'V_VAUX', 'RD_PUNC', 'N_NNP', 'N_NNP', 'N_NN', 'N_NN', 'JJ', 'N_NNP', 'N_NNP', 'JJ', 'N_NN', 'V_VAUX', 'RD_PUNC', 'N_NNP', 'N_NNP', 'DM_DMD', 'JJ', 'N_NN', 'RD_PUNC', 'N_NN', 'N_NN', 'N_NST', 'QT_QTC', 'N_NN', 'PSP', 'RP_RPD', 'JJ', 'CC_CCD', 'JJ', 'RP_RPD', 'JJ', 'V_VAUX', 'RD_PUNC', 'N_NNP', 'N_NNP', 'N_NN', 'N_NN', 'N_NN', 'N_NNP', 'N_NNP', 'JJ', 'JJ', 'N_NN', 'PSP', 'V_VAUX_VNP', 'V_VAUX_VNP', 'V_VAUX', 'RD_PUNC', 'N_NST', 'N_NN', 'V_VM', 'CC_CCS', 'RD_PUNC', 'PR_PRP', 'N_NNP', 'JJ', 'V_VAUX_VNP', 'V_VM', 'V_VAUX', 'RD_PUNC', 'N_NN', 'V_VM', 'V_VAUX', 'RD_PUNC', 'N_NN', 'N_NN', 'JJ', 'CC_CCD', 'N_NN', 'JJ', 'V_VAUX', 'RD_PUNC', 'N_NNP', 'N_NNP', 'JJ', 'N_NN', 'CC_CCD', 'JJ', 'N_NN', 'JJ', 'QT_QTO', 'N_NN', 'V_VM', 'N_NNP', 'N_NNP', 'N_NNP', 'N_NNP', 'RD_PUNC', 'N_NNP', 'RD_PUNC', 'N_NNP', 'N_NNP', 'PSP', 'JJ', 'N_NN', 'N_NN', 'V_VAUX_VNP', 'N_NN', 'V_VM', 'RD_PUNC', 'JJ', 'N_NN', 'JJ', 'N_NN', 'DM_DMD', 'N_NN', 'V_VAUX', 'RD_PUNC', 'N_NN', 'V_VM', 'V_VAUX', 'V_VAUX', 'RD_PUNC', 'PR_PRL', 'N_NN', 'N_NN', 'PR_PRP', 'V_VM', 'V_VAUX', 'DM_DMD', 'PR_PRP', 'JJ', 'N_NN', 'V_VM', 'V_VAUX', 'RD_PUNC', 'CC_CCD', 'PSP', 'N_NN', 'PR_PRP', 'V_VM', 'PR_PRP', 'N_NN', 'N_NNP', 'RD_PUNC', 'PR_PRP', 'DM_DMI', 'RP_RPD', 'N_NN', 'V_VAUX', 'RD_PUNC', 'CC_CCD', 'RP_RPD', 'DM_DMD', 'N_NN', 'CC_CCD', 'N_NN', 'PR_PRF', 'N_NN', 'N_NN', 'V_VAUX_VNP', 'V_VAUX', 'V_VAUX', 'RD_PUNC', 'PR_PRP', 'PSP', 'PR_PRP', 'V_VM', 'V_VAUX', 'CC_CCS', 'JJ', 'JJ', 'N_NN', 'RP_RPD', 'N_NNP', 'N_NN', 'N_NNP', 'N_NNP', 'V_VAUX', 'RD_PUNC', 'PSP', 'N_NNP', 'PR_PRP', 'N_NN', 'RP_NEG', 'V_VAUX', 'RD_PUNC', 'PR_PRP', 'PSP', 'N_NST', 'JJ', 'N_NNP', 'V_VAUX_VNP', 'V_VAUX_VNP', 'JJ', 'V_VM', 'V_VAUX', 'RD_PUNC', 'N_NN', 'N_NN', 'N_NN', 'CC_CCS', 'N_NN', 'RP_NEG', 'V_VM', 'RD_PUNC', 'JJ', 'N_NN', 'CC_CCD', 'JJ', 'CC_CCS', 'JJ', 'N_NN', 'N_NN', 'RD_PUNC', 'JJ', 'N_NN', 'DM_DMD', 'N_NN', 'RP_RPD', 'RD_PUNC', 'JJ', 'CC_CCD', 'JJ', 'V_VAUX_VNP', 'V_VM', 'V_VAUX', 'RD_PUNC', 'PR_PRP', 'N_NN', 'JJ', 'V_VM', 'V_VAUX', 'RD_PUNC', 'CC_CCD', 'PSP', 'JJ', 'JJ', 'N_NN', 'RP_RPD', 'DM_DMQ', 'N_NN', 'V_VAUX', 'PR_PRP', 'N_NN', 'V_VAUX_VNP', 'PSP', 'RP_NEG', 'V_VAUX', 'RD_PUNC', 'DM_DMD', 'N_NN', 'N_NN', 'N_NN', 'JJ', 'V_VM', 'RD_PUNC', 'N_NN', 'RD_PUNC', 'N_NN', 'RD_PUNC', 'N_NN', 'RD_PUNC', 'N_NN', 'PSP', 'N_NN', 'JJ', 'V_VM', 'RP_RPD', 'RD_PUNC', 'N_NST', 'PSP', 'JJ', 'N_NN', 'JJ', 'V_VM', 'V_VAUX', 'RD_PUNC', 'N_NN', 'RD_PUNC', 'N_NST', 'N_NN', 'V_VM', 'RD_PUNC', 'N_NST', 'PSP', 'N_NN', 'N_NN', 'RP_RPD', 'V_VM', 'RD_PUNC', 'N_NN', 'PSP', 'V_VM', 'V_VAUX', 'JJ', 'N_NN', 'V_VAUX', 'RD_PUNC', 'N_NN', 'RD_PUNC', 'RD_PUNC', 'N_NN', 'N_NST', 'N_NN', 'RP_NEG', 'V_VAUX', 'RD_PUNC', 'PSP', 'N_NN', 'JJ', 'JJ', 'RP_RPD', 'V_VAUX', 'JJ', 'RP_NEG', 'RD_PUNC', 'N_NN', 'JJ', 'N_NN', 'CC_CCD', 'N_NN', 'N_NN', 'PR_PRF', 'N_NN', 'PSP', 'V_VM', 'V_VAUX', 'RD_PUNC', 'JJ', 'N_NN', 'PSP', 'N_NN', 'N_NN', 'V_VM', 'V_VM', 'RD_PUNC', 'N_NN', 'N_NN', 'RD_PUNC'], 'science': ['QT_QTF', 'RD_PUNC', 'N_NN', 'V_VAUX_VNP', 'N_NN', 'V_VAUX_VNP', 'N_NN', 'V_VAUX_VNP', 'N_NN', 'N_NN', 'PSP', 'DM_DMD', 'PR_PRF', 'JJ', 'N_NN', 'V_VM', 'V_VAUX', 'RD_PUNC', 'N_NN', 'N_NN', 'N_NN', 'N_NN', 'V_VAUX_VNP', 'N_NN', 'JJ', 'N_NN', 'V_VM', 'V_VAUX', 'V_VAUX', 'CC_CCD', 'DM_DMD', 'PSP', 'N_NN', 'N_NN', 'N_NN', 'RP_RPD', 'PR_PRP', 'QT_QTF', 'JJ', 'N_NN', 'V_VM', 'V_VAUX', 'PSP', 'V_VAUX', 'RD_PUNC', 'N_NN', 'N_NN', 'DM_DMD', 'N_NN', 'PSP', 'V_VAUX_VNP', 'N_NN', 'JJ', 'V_VM', 'V_VAUX', 'CC_CCD', 'DM_DMD', 'JJ', 'N_NN', 'V_VAUX_VNP', 'JJ', 'PSP', 'JJ', 'N_NN', 'N_NN', 'JJ', 'V_VM', 'V_VAUX', 'RD_PUNC', 'N_NN', 'PSP', 'JJ', 'N_NN', 'V_VAUX_VNP', 'DM_DMD', 'N_NN', 'JJ', 'N_NN', 'QT_QTC', 'QT_QTF', 'N_NN', 'RP_RPD', 'V_VAUX', 'RD_PUNC', 'N_NST', 'N_NN', 'N_NN', 'N_NN', 'QT_QTC', 'N_NN', 'RP_RPD', 'QT_QTF', 'N_NN', 'V_VM', 'V_VAUX', 'V_VAUX', 'N_NST', 'N_NN', 'QT_QTC', 'N_NN', 'JJ', 'V_VAUX', 'V_VAUX', 'RD_PUNC', 'N_NNP', 'N_NN', 'V_VM', 'RD_PUNC', 'PSP', 'JJ', 'N_NN', 'JJ', 'N_NN', 'RB', 'V_VAUX_VNP', 'V_VAUX', 'V_VAUX', 'RD_PUNC', 'DM_DMD', 'N_NN', 'JJ', 'V_VM', 'CC_CCS', 'PSP', 'N_NN', 'N_NN', 'V_VAUX_VNP', 'JJ', 'N_NN', 'PSP', 'JJ', 'JJ', 'N_NN', 'DM_DMD', 'N_NN', 'V_VM', 'V_VAUX', 'RD_PUNC', 'N_NST', 'RP_RPD', 'DM_DMD', 'N_NN', 'QT_QTC', 'N_NN', 'N_NN', 'PSP', 'QT_QTC', 'N_NN', 'QT_QTF', 'N_NN', 'V_VM', 'V_VAUX', 'V_VAUX', 'RD_PUNC', 'QT_QTC', 'DM_DMD', 'N_NN', 'QT_QTC', 'N_NN', 'V_VAUX', 'RD_PUNC', 'DM_DMD', 'N_NN', 'PR_PRP', 'JJ', 'N_NN', 'N_NN', 'PSP', 'JJ', 'N_NN', 'N_NN', 'DM_DMD', 'N_NN', 'JJ', 'N_NN', 'JJ', 'V_VAUX_VNP', 'V_VAUX', 'RD_PUNC', 'JJ', 'N_NN', 'JJ', 'QT_QTF', 'RP_RPD', 'N_NN', 'N_NN', 'V_VAUX_VNP', 'V_VAUX', 'V_VAUX', 'PR_PRL', 'N_NN', 'N_NN', 'JJ', 'RP_RPD', 'N_NN', 'JJ', 'N_NN', 'N_NN', 'N_NN', 'V_VM', 'V_VAUX', 'RD_PUNC', 'JJ', 'N_NN', 'N_NNP', 'V_VAUX_VNP', 'N_NN', 'PSP', 'N_NN', 'V_VAUX_VNP', 'CC_CCD', 'PSP', 'N_NN', 'QT_QTC', 'V_VM', 'V_VAUX', 'V_VAUX', 'RD_PUNC', 'DM_DMD', 'N_NN', 'N_NN', 'QT_QTF', 'N_NN', 'N_NN', 'V_VAUX_VNP', 'N_NNP', 'N_NN', 'N_NN', 'N_NN', 'CC_CCD', 'N_NNP', 'N_NN', 'N_NN', 'N_NN', 'JJ', 'V_VAUX_VNP', 'N_NN', 'V_VM', 'V_VAUX', 'JJ', 'JJ', 'V_VAUX_VNP', 'V_VAUX', 'V_VAUX', 'RD_PUNC', 'N_NN', 'N_NN', 'N_NN', 'N_NN', 'V_VAUX_VNP', 'JJ', 'N_NN', 'N_NN', 'CC_CCD', 'N_NN', 'N_NN', 'PSP', 'RP_RPD', 'JJ', 'N_NN', 'CC_CCD', 'JJ', 'N_NN', 'N_NN', 'N_NN', 'PSP', 'N_NST', 'N_NN', 'V_VAUX_VNP', 'V_VAUX', 'V_VAUX', 'RD_PUNC', 'QT_QTF', 'N_NN', 'N_NN', 'N_NN', 'N_NN', 'RP_RPD', 'JJ', 'V_VM', 'V_VAUX', 'RD_PUNC', 'N_NST', 'JJ', 'RP_RPD', 'N_NN', 'V_VM', 'V_VAUX', 'N_NST', 'N_NNP', 'N_NN', 'N_NN', 'N_NN', 'QT_QTF', 'N_NN', 'PSP', 'N_NN', 'V_VAUX_VNP', 'JJ', 'V_VM', 'V_VAUX', 'V_VAUX', 'RD_PUNC', 'N_NST', 'N_NN', 'JJ', 'N_NNP', 'N_NN', 'V_VM', 'V_VAUX', 'CC_CCD', 'N_NN', 'JJ', 'V_VM', 'V_VAUX', 'RD_PUNC', 'N_NN', 'N_NN', 'QT_QTF', 'N_NN', 'PSP', 'V_VM', 'V_VAUX', 'PSP', 'N_NN', 'JJ', 'N_NN', 'N_NN', 'V_VAUX_VNP', 'N_NN', 'RD_SYM', 'RD_RDF', 'N_NN', 'N_NN', 'JJ', 'N_NN', 'JJ', 'N_NN', 'PSP', 'JJ', 'JJ', 'V_VAUX', 'CC_CCD', 'N_NN', 'JJ', 'N_NN', 'JJ', 'V_VAUX', 'V_VAUX', 'RD_PUNC', 'DM_DMD', 'N_NN', 'N_NN', 'PSP', 'V_VAUX_VNP', 'N_NN', 'N_NN', 'PSP', 'N_NN', 'N_NN', 'RD_RDF', 'N_NN', 'V_VAUX_VNP', 'RD_RDF', 'RD_SYM', 'N_NN', 'N_NN', 'QT_QTC', 'RD_SYM', 'JJ', 'V_VM', 'V_VAUX_VNP', 'V_VAUX', 'RD_PUNC', 'N_NN', 'N_NN', 'V_VAUX_VNP', 'N_NNP', 'N_NNP', 'N_NN', 'JJ', 'N_NN', 'N_NN', 'V_VAUX_VNP', 'PSP', 'PR_PRF', 'N_NN', 'V_VM', 'V_VAUX_VNP', 'QT_QTC', 'JJ', 'N_NN', 'N_NN', 'JJ', 'CC_CCD', 'JJ', 'N_NN', 'V_VM', 'RD_PUNC', 'N_NN', 'RP_NEG', 'V_VAUX_VNP', 'N_NN', 'PR_PRF', 'N_NN', 'PR_PRF', 'V_VM', 'V_VAUX_VNP', 'RP_NEG', 'RD_PUNC', 'PSP', 'JJ', 'N_NN', 'PSP', 'DM_DMD', 'JJ', 'N_NN', 'N_NN', 'PSP', 'JJ', 'V_VM', 'V_VAUX', 'RD_PUNC', 'N_NN', 'PSP', 'JJ', 'JJ', 'N_NN', 'PR_PRP', 'V_VAUX_VNP', 'V_VAUX', 'CC_CCD', 'N_NN', 'PSP', 'V_VM', 'V_VAUX', 'CC_CCS', 'PR_PRL', 'N_NN', 'N_NN', 'V_VM', 'V_VAUX', 'V_VAUX', 'RD_PUNC', 'N_NN', 'QT_QTF', 'V_VAUX_VNP', 'JJ', 'V_VM', 'CC_CCD', 'JJ', 'N_NN', 'DM_DMD', 'N_NN', 'V_VM', 'V_VAUX_VNP', 'RP_NEG', 'RD_PUNC', 'JJ', 'QT_QTC', 'N_NN', 'V_VAUX_VNP', 'N_NST', 'JJ', 'V_VAUX', 'N_NST', 'JJ', 'RD_PUNC', 'JJ', 'V_VAUX_VNP', 'N_NN', 'N_NN', 'JJ', 'V_VAUX_VNP', 'JJ', 'V_VM', 'V_VAUX', 'RD_PUNC', 'RD_RDF', 'RD_SYM', 'N_NN', 'N_NN', 'N_NN', 'V_VM', 'V_VAUX', 'RD_PUNC', 'DM_DMD', 'N_NN', 'RD_RDF', 'RD_SYM', 'N_NN', 'RD_PUNC', 'RD_RDF', 'RD_SYM', 'N_NN', 'RD_PUNC', 'RD_RDF', 'RD_SYM', 'N_NN', 'RD_PUNC', 'RD_RDF', 'RD_SYM', 'JJ', 'N_NN', 'RD_PUNC', 'RD_RDF', 'RD_SYM', 'N_NN', 'N_NN', 'PSP', 'V_VAUX_VNP', 'QT_QTC', 'N_NN', 'N_NN', 'N_NN', 'V_VM', 'N_NN', 'N_NN', 'PSP', 'N_NN', 'RP_RPD', 'N_NN', 'V_VAUX_VNP', 'N_NN', 'N_NN', 'N_NN', 'V_VAUX_VNP', 'V_VAUX', 'V_VAUX', 'RD_PUNC', 'N_NN', 'CC_CCS', 'N_NN', 'JJ', 'N_NN', 'V_VM', 'V_VAUX_VNP', 'N_NN', 'JJ', 'N_NN', 'V_VAUX_VNP', 'N_NNP', 'N_NN', 'N_NN', 'QT_QTC', 'JJ', 'N_NN', 'JJ', 'N_NN', 'PSP', 'N_NN', 'PSP', 'V_VM', 'V_VAUX', 'RD_PUNC', 'N_NN', 'JJ', 'N_NN', 'RP_RPD', 'RP_RPD', 'JJ', 'RD_SYM', 'RD_RDF', 'RD_RDF', 'N_NN', 'N_NN', 'V_VAUX_VNP', 'V_VM', 'DM_DMD', 'N_NN', 'PSP', 'N_NN', 'JJ', 'N_NN', 'JJ', 'N_NN', 'V_VM', 'V_VAUX', 'V_VAUX', 'RD_PUNC', 'N_NN', 'QT_QTC', 'JJ', 'N_NN', 'V_VAUX', 'RD_PUNC', 'PSP', 'N_NN', 'QT_QTC', 'JJ', 'N_NN', 'N_NNP', 'N_NN', 'N_NN', 'PSP', 'N_NN', 'N_NN', 'V_VM', 'V_VAUX', 'RD_PUNC', 'N_NNP', 'DM_DMD', 'N_NN', 'V_VAUX_VNP', 'PSP', 'N_NNP', 'N_NN', 'V_VAUX_VNP', 'N_NN', 'JJ', 'V_VAUX_VNP', 'N_NN', 'V_VM', 'V_VAUX', 'RD_PUNC', 'N_NNP', 'N_NST', 'PR_PRF', 'N_NN', 'PSP', 'N_NN', 'V_VM', 'RP_NEG', 'RD_PUNC', 'N_NNP', 'N_NNP', 'JJ', 'N_NN', 'N_NST', 'JJ', 'V_VAUX', 'RD_PUNC', 'N_NN', 'N_NNP', 'JJ', 'JJ', 'N_NN', 'V_VAUX_VNP', 'N_NN', 'N_NN', 'V_VM', 'RD_PUNC', 'N_NNP', 'PR_PRF', 'N_NN', 'QT_QTC', 'N_NN', 'PSP', 'V_VM', 'V_VAUX', 'RD_PUNC', 'N_NN', 'V_VAUX_VNP', 'PSP', 'N_NNP', 'QT_QTC', 'N_NN', 'N_NN', 'V_VM', 'V_VAUX', 'DM_DMD', 'N_NN', 'V_VAUX_VNP', 'V_VAUX', 'V_VAUX', 'RD_PUNC', 'DM_DMD', 'N_NN', 'QT_QTF', 'JJ', 'CC_CCD', 'JJ', 'V_VAUX', 'RD_PUNC', 'DM_DMD', 'RP_RPD', 'N_NN', 'PSP', 'JJ', 'N_NN', 'PSP', 'N_NN', 'JJ', 'N_NN', 'V_VAUX_VNP', 'V_VAUX', 'RD_PUNC', 'JJ', 'RP_RPD', 'N_NN', 'N_NN', 'RP_RPD', 'PR_PRP', 'V_VAUX_VNP', 'N_NN', 'V_VAUX_VNP', 'CC_CCD', 'N_NN', 'V_VAUX_VNP', 'RD_PUNC', 'N_NN', 'N_NN', 'PSP', 'RP_RPD', 'N_NN', 'V_VAUX_VNP', 'V_VAUX', 'RD_PUNC', 'N_NN', 'V_VAUX_VNP', 'PSP', 'DM_DMI', 'N_NN', 'N_NN', 'RP_NEG', 'RD_PUNC', 'N_NN', 'RP_RPD', 'N_NNP', 'N_NN', 'PSP', 'N_NN', 'V_VAUX_VNP', 'RD_PUNC', 'N_NN', 'V_VAUX_VNP', 'V_VAUX_VNP', 'V_VAUX', 'RD_PUNC', 'JJ', 'V_VAUX_VNP', 'CC_CCS', 'N_NST', 'N_NNP', 'N_NN', 'V_VM', 'V_VAUX', 'V_VAUX', 'RD_PUNC', 'CC_CCD', 'PSP', 'V_VAUX_VNP', 'RP_RPD', 'N_NNP', 'N_NN', 'PSP', 'JJ', 'N_NN', 'V_VM', 'V_VAUX', 'RD_PUNC', 'PR_PRP', 'N_NNP', 'N_NN', 'PSP', 'V_VAUX_VNP', 'QT_QTC', 'N_NN', 'V_VM', 'RD_PUNC', 'N_NNP', 'JJ', 'N_NN', 'V_VM', 'RD_PUNC', 'N_NNP', 'PSP', 'V_VAUX_VNP', 'DM_DMD', 'N_NNP', 'V_VAUX_VNP', 'JJ', 'N_NN', 'RP_RPD', 'PSP', 'V_VM', 'V_VAUX', 'RD_PUNC', 'DM_DMD', 'RP_RPD', 'N_NNP', 'V_VM', 'RP_NEG', 'RD_PUNC', 'N_NN', 'DM_DMI', 'JJ', 'V_VAUX_VNP', 'V_VAUX', 'RD_PUNC'], 'sports': ['PR_PRL', 'PSP', 'N_NNP', 'V_VAUX_VNP', 'PSP', 'QT_QTC', 'N_NN', 'N_NN', 'N_NN', 'QT_QTC', 'N_NN', 'PSP', 'RP_RPD', 'QT_QTC', 'N_NN', 'QT_QTC', 'N_NN', 'V_VAUX_VNP', 'V_VM', 'V_VAUX', 'V_VAUX', 'RD_PUNC', 'N_NNP', 'N_NN', 'N_NNP', 'N_NNP', 'N_NNP', 'N_NNP', 'V_VM', 'V_VAUX_VNP', 'N_NN', 'V_VM', 'V_VAUX', 'RD_PUNC', 'N_NNP', 'QT_QTC', 'N_NN', 'QT_QTO', 'N_NN', 'QT_QTC', 'QT_QTF', 'N_NN', 'V_VM', 'V_VAUX', 'RD_PUNC', 'N_NNP', 'JJ', 'N_NN', 'N_NNP', 'N_NNP', 'N_NN', 'QT_QTO', 'N_NN', 'QT_QTO', 'N_NN', 'PSP', 'JJ', 'QT_QTC', 'PSP', 'JJ', 'N_NNP', 'N_NNP', 'QT_QTO', 'N_NN', 'QT_QTO', 'N_NN', 'PSP', 'JJ', 'QT_QTC', 'N_NN', 'N_NN', 'N_NNP', 'N_NNP', 'PSP', 'QT_QTO', 'N_NN', 'N_NN', 'N_NN', 'V_VAUX_VNP', 'N_NN', 'V_VM', 'V_VAUX', 'RD_PUNC', 'N_NNP', 'N_NN', 'V_VM', 'PSP', 'N_NNP', 'QT_QTO', 'N_NN', 'QT_QTC', 'N_NN', 'RP_RPD', 'QT_QTC', 'N_NN', 'V_VM', 'V_VAUX', 'RD_PUNC', 'JJ', 'N_NNP', 'RB', 'JJ', 'V_VM', 'V_VAUX', 'CC_CCD', 'PR_PRP', 'N_NNP', 'JJ', 'V_VM', 'V_VAUX', 'RD_PUNC', 'PR_PRL', 'N_NNP', 'JJ', 'N_NN', 'V_VAUX_VNP', 'N_NN', 'JJ', 'QT_QTF', 'V_VAUX', 'RD_PUNC', 'JJ', 'QT_QTC', 'N_NNP', 'N_NN', 'RD_PUNC', 'QT_QTC', 'N_NN', 'V_VM', 'V_VAUX', 'RD_PUNC', 'N_NNP', 'JJ', 'N_NN', 'V_VAUX_VNP', 'PSP', 'N_NN', 'JJ', 'V_VM', 'V_VAUX', 'CC_CCS', 'DM_DMD', 'JJ', 'N_NN', 'N_NN', 'N_NN', 'PSP', 'DM_DMD', 'N_NN', 'N_NN', 'N_NN', 'V_VM', 'V_VAUX', 'RP_RPD', 'V_VM', 'RD_PUNC', 'JJ', 'V_VAUX_VNP', 'N_NNP', 'RD_PUNC', 'N_NNP', 'RD_PUNC', 'N_NNP', 'RD_PUNC', 'N_NNP', 'RD_PUNC', 'N_NNP', 'RD_PUNC', 'N_NNP', 'CC_CCD', 'N_NNP', 'DM_DMD', 'N_NN', 'JJ', 'V_VM', 'V_VAUX', 'RD_PUNC', 'DM_DMD', 'N_NN', 'QT_QTF', 'RB', 'V_VM', 'DM_DMD', 'JJ', 'V_VAUX', 'RD_PUNC', 'N_NST', 'N_NN', 'N_NN', 'N_NN', 'N_NN', 'JJ', 'N_NN', 'V_VM', 'V_VAUX', 'RD_PUNC', 'DM_DMD', 'N_NN', 'N_NN', 'CC_CCD', 'N_NN', 'QT_QTF', 'RP_RPD', 'N_NN', 'V_VM', 'V_VAUX', 'RD_PUNC', 'N_NN', 'PSP', 'QT_QTC', 'N_NNP', 'V_VAUX_VNP', 'RD_PUNC', 'N_NNP', 'N_NN', 'RD_PUNC', 'DM_DMD', 'N_NN', 'JJ', 'QT_QTO', 'N_NN', 'V_VM', 'RD_PUNC', 'N_NNP', 'PSP', 'QT_QTC', 'DM_DMD', 'N_NN', 'N_NNP', 'N_NNP', 'PSP', 'N_NNP', 'JJ', 'V_VAUX_VNP', 'V_VAUX', 'RD_PUNC', 'JJ', 'N_NN', 'JJ', 'CC_CCD', 'JJ', 'N_NN', 'V_VAUX_VNP', 'N_NN', 'PSP', 'V_VM', 'RD_PUNC', 'N_NN', 'N_NN', 'QT_QTC', 'JJ', 'N_NN', 'RD_PUNC', 'QT_QTC', 'N_NN', 'N_NN', 'RD_PUNC', 'QT_QTC', 'N_NN', 'V_VAUX_VNP', 'N_NN', 'CC_CCD', 'QT_QTC', 'N_NN', 'N_NN', 'N_NN', 'V_VM', 'V_VAUX', 'RD_PUNC', 'N_NN', 'N_NN', 'PSP', 'N_NN', 'N_NN', 'RD_PUNC', 'N_NN', 'JJ', 'V_VM', 'V_VAUX', 'RD_PUNC', 'N_NST', 'N_NN', 'N_NN', 'N_NST', 'JJ', 'N_NN', 'PSP', 'V_VAUX_VNP', 'CC_CCS', 'N_NN', 'V_VAUX_VNP', 'JJ', 'V_VM', 'CC_CCD', 'PR_PRL', 'N_NN', 'N_NST', 'V_VM', 'V_VAUX', 'DM_DMD', 'N_NN', 'PSP', 'N_NN', 'N_NN', 'PSP', 'V_VAUX_VNP', 'V_VM', 'RD_PUNC', 'PSP', 'N_NN', 'V_VM', 'V_VAUX_VNP', 'RP_NEG', 'RD_PUNC', 'N_NN', 'QT_QTC', 'N_NN', 'N_NNP', 'N_NNP', 'N_NN', 'N_NN', 'N_NN', 'N_NN', 'N_NN', 'V_VAUX_VNP', 'V_VAUX', 'RD_PUNC', 'DM_DMD', 'N_NN', 'N_NN', 'N_NN', 'QT_QTC', 'V_VAUX_VNP', 'V_VAUX_VNP', 'RD_PUNC', 'N_NN', 'QT_QTC', 'RD_PUNC', 'QT_QTC', 'N_NNP', 'N_NN', 'N_NNP', 'N_NN', 'V_VM', 'CC_CCD', 'QT_QTC', 'N_NN', 'N_NST', 'N_NNP', 'N_NN', 'N_NN', 'JJ', 'V_VM', 'RD_PUNC', 'N_NN', 'QT_QTC', 'N_NN', 'N_NNP', 'N_NNP', 'N_NNP', 'N_NNP', 'N_NNP', 'JJ', 'QT_QTO', 'N_NN', 'V_VAUX_VNP', 'N_NN', 'V_VM', 'RD_PUNC', 'JJ', 'N_NN', 'V_VAUX_VNP', 'N_NN', 'V_VM', 'DM_DMD', 'PSP', 'N_NNP', 'N_NNP', 'N_NN', 'N_NNP', 'RD_PUNC', 'PR_PRL', 'QT_QTC', 'JJ', 'N_NN', 'N_NN', 'V_VAUX', 'RD_PUNC', 'PR_PRP', 'QT_QTC', 'JJ', 'N_NN', 'V_VM', 'V_VAUX_VNP', 'N_NN', 'V_VAUX_VNP', 'QT_QTC', 'N_NST', 'PSP', 'N_NN', 'JJ', 'V_VM', 'RD_PUNC', 'N_NN', 'N_NN', 'N_NN', 'N_NN', 'JJ', 'RP_RPD', 'V_VAUX', 'RD_PUNC', 'N_NN', 'V_VAUX_VNP', 'RD_PUNC', 'V_VAUX_VNP', 'CC_CCS', 'N_NN', 'V_VAUX_VNP', 'DM_DMD', 'N_NN', 'JJ', 'JJ', 'N_NN', 'V_VAUX', 'RD_PUNC', 'PR_PRL', 'N_NN', 'N_NN', 'N_NN', 'N_NN', 'V_VM', 'RP_NEG', 'CC_CCD', 'N_NN', 'V_VM', 'DM_DMD', 'JJ', 'N_NN', 'V_VM', 'V_VAUX', 'RP_NEG', 'RD_PUNC', 'N_NST', 'N_NN', 'N_NN', 'N_NN', 'PSP', 'N_NN', 'V_VAUX_VNP', 'V_VAUX', 'N_NST', 'JJ', 'N_NN', 'N_NN', 'V_VM', 'PSP', 'V_VAUX_VNP', 'N_NN', 'V_VAUX_VNP', 'N_NN', 'V_VM', 'DM_DMD', 'N_NN', 'DM_DMD', 'N_NN', 'N_NN', 'V_VAUX_VNP', 'N_NN', 'V_VAUX_VNP', 'V_VAUX', 'DM_DMD', 'PSP', 'PSP', 'V_VAUX_VNP', 'V_VAUX', 'RD_PUNC', 'DM_DMD', 'N_NN', 'N_NN', 'RB', 'N_NN', 'V_VM', 'JJ', 'N_NN', 'V_VAUX_VNP', 'N_NN', 'N_NN', 'V_VM', 'V_VAUX', 'RD_PUNC', 'DM_DMD', 'N_NN', 'JJ', 'N_NN', 'QT_QTC', 'N_NN', 'PR_PRC', 'PSP', 'V_VM', 'V_VAUX', 'N_NST', 'N_NN', 'V_VM', 'V_VAUX', 'RD_PUNC', 'QT_QTC', 'N_NN', 'N_NN', 'PSP', 'CC_CCD', 'N_NN', 'N_NN', 'N_NN', 'V_VAUX_VNP', 'PSP', 'N_NN', 'PSP', 'N_NN', 'V_VAUX_VNP', 'N_NN', 'JJ', 'N_NN', 'PSP', 'JJ', 'V_VAUX_VNP', 'PR_PRF', 'N_NN', 'N_NN', 'JJ', 'V_VM', 'V_VAUX', 'RD_PUNC', 'PR_PRL', 'N_NN', 'N_NN', 'PSP', 'N_NST', 'V_VM', 'PR_PRL', 'RB', 'PR_PRL', 'RP_RPD', 'N_NN', 'N_NN', 'V_VM', 'V_VAUX', 'RP_NEG', 'RD_PUNC', 'N_NN', 'JJ', 'RP_NEG', 'V_VAUX', 'RD_PUNC', 'CC_CCD', 'JJ', 'N_NN', 'QT_QTC', 'N_NN', 'JJ', 'V_VAUX_VNP', 'N_NN', 'V_VAUX', 'RD_PUNC', 'N_NNP', 'N_NNP', 'N_NNP', 'PR_PRP', 'N_NN', 'V_VM', 'V_VAUX', 'RD_PUNC', 'PR_PRP', 'RB', 'V_VM', 'V_VAUX', 'CC_CCS', 'RD_PUNC', 'N_NN', 'N_NN', 'V_VAUX_VNP', 'RP_NEG', 'V_VAUX_VNP', 'DM_DMD', 'PR_PRP', 'PR_PRP', 'PSP', 'JJ', 'V_VAUX_VNP', 'RP_NEG', 'RD_PUNC', 'N_NNP', 'DM_DMD', 'N_NN', 'N_NN', 'V_VM', 'V_VAUX', 'RD_PUNC', 'N_NNP', 'N_NNP', 'N_NNP', 'RD_PUNC', 'PSP', 'V_VAUX_VNP', 'DM_DMD', 'N_NN', 'N_NNP', 'N_NN', 'N_NN', 'N_NN', 'N_NN', 'V_VM', 'V_VAUX', 'RD_PUNC', 'CC_CCD', 'N_NN', 'N_NN', 'PR_PRP', 'N_NN', 'V_VM', 'DM_DMD', 'N_NST', 'RP_RPD', 'JJ', 'N_NN', 'N_NN', 'PR_PRI', 'JJ', 'N_NN', 'V_VM', 'JJ', 'N_NNP', 'RD_PUNC', 'N_NN', 'N_NN', 'V_VAUX', 'RD_PUNC', 'N_NNP', 'PR_PRF', 'N_NN', 'N_NN', 'PSP', 'N_NN', 'N_NN', 'V_VM', 'V_VAUX_VNP', 'N_NNP', 'N_NNP', 'N_NST', 'QT_QTC', 'N_NN', 'RD_PUNC', 'N_NST', 'N_NNP', 'RD_PUNC', 'N_NNP', 'N_NNP', 'N_NNP', 'V_VAUX_VNP', 'N_NNP', 'QT_QTO', 'RP_RPD', 'N_NN', 'N_NNP', 'N_NNP', 'N_NN', 'N_NN', 'N_NN', 'V_VM', 'V_VAUX', 'RD_PUNC', 'N_NNP', 'RP_RPD', 'N_NN', 'JJ', 'N_NN', 'N_NST', 'JJ', 'N_NN', 'N_NNP', 'N_NN', 'V_VAUX_VNP', 'N_NN', 'PSP', 'V_VM', 'V_VAUX_VNP', 'N_NNP', 'N_NNP', 'RD_PUNC', 'JJ', 'QT_QTO', 'N_NN', 'RD_PUNC', 'JJ', 'N_NN', 'V_VM', 'RD_PUNC', 'PR_PRL', 'PR_PRP', 'PSP', 'N_NN', 'QT_QTC', 'JJ', 'V_VAUX', 'RD_PUNC', 'N_NN', 'PSP', 'N_NN', 'PR_PRP', 'V_VAUX_VNP', 'N_NN', 'JJ', 'V_VAUX_VNP', 'V_VAUX', 'RD_PUNC', 'CC_CCD', 'N_NN', 'N_NNP', 'N_NNP', 'N_NN', 'N_NN', 'N_NNP', 'N_NN', 'JJ', 'V_VM', 'V_VAUX', 'RD_PUNC', 'CC_CCD', 'DM_DMD', 'N_NN', 'QT_QTO', 'N_NN', 'PSP', 'V_VM', 'V_VAUX_VNP', 'N_NN', 'CC_CCD', 'N_NN', 'N_NN', 'JJ', 'N_NN', 'N_NN', 'N_NNP', 'V_VM', 'V_VAUX', 'RD_PUNC', 'DM_DMD', 'PSP', 'N_NNP', 'PSP', 'V_VAUX_VNP', 'JJ', 'N_NN', 'N_NNP', 'QT_QTC', 'N_NN', 'CC_CCD', 'QT_QTC', 'N_NN', 'N_NN', 'JJ', 'N_NN', 'V_VAUX_VNP', 'JJ', 'JJ', 'N_NN', 'V_VM', 'RD_PUNC', 'PR_PRP', 'JJ', 'N_NN', 'N_NN', 'V_VAUX_VNP', 'PR_PRP', 'PSP', 'V_VM', 'V_VM', 'RD_PUNC', 'JJ', 'N_NN', 'RD_PUNC', 'N_NN', 'RD_PUNC', 'N_NN', 'CC_CCD', 'N_NN', 'PSP', 'N_NNP', 'N_NST', 'N_NN', 'CC_CCD', 'N_NN', 'PSP', 'N_NN', 'V_VM', 'CC_CCD', 'QT_QTC', 'N_NNP', 'V_VAUX_VNP', 'N_NN', 'N_NN', 'JJ', 'QT_QTO', 'QT_QTC', 'N_NN', 'CC_CCD', 'N_NN', 'V_VM', 'V_VAUX', 'RD_PUNC', 'QT_QTC', 'V_VAUX_VNP', 'PSP', 'V_VAUX_VNP', 'JJ', 'N_NN', 'CC_CCD', 'N_NN', 'N_NN', 'JJ', 'N_NN', 'V_VAUX_VNP', 'N_NNP', 'QT_QTC', 'N_NN', 'CC_CCD', 'QT_QTC', 'N_NN', 'V_VM', 'V_VAUX', 'RD_PUNC', 'N_NNP', 'N_NN', 'N_NN', 'CC_CCD', 'N_NN', 'DM_DMI', 'PSP', 'RP_RPD', 'V_VAUX', 'RD_PUNC', 'DM_DMI', 'RP_RPD', 'JJ', 'N_NN', 'N_NNP', 'N_NNP', 'N_NN', 'N_NN', 'RP_NEG', 'V_VM', 'V_VAUX_VNP', 'N_NN', 'DM_DMD', 'N_NN', 'V_VM', 'V_VAUX', 'V_VAUX', 'RD_PUNC']}\n"
          ],
          "name": "stdout"
        }
      ]
    },
    {
      "cell_type": "code",
      "metadata": {
        "colab": {
          "base_uri": "https://localhost:8080/"
        },
        "id": "_DsfU3XNk7Me",
        "outputId": "745de507-2449-44ab-beee-3b4271e28e9e"
      },
      "source": [
        "print(dict_pred)"
      ],
      "execution_count": null,
      "outputs": [
        {
          "output_type": "stream",
          "text": [
            "{'art culture': ['DM_DMD', 'QT_QTF', 'N_NN', 'N_NN', 'RD_PUNC', 'N_NN', 'CC_CCD', 'JJ', 'JJ', 'N_NN', 'JJ', 'N_NN', 'N_NN', 'N_NNP', 'PSP', 'V_VM', 'V_VAUX', 'V_VAUX', 'RD_PUNC', 'DM_DMD', 'QT_QTC', 'N_NN', 'PSP', 'N_NN', 'JJ', 'V_VM', 'V_VAUX', 'RD_PUNC', 'N_NN', 'N_NN', 'RP_RPD', 'N_NNP', 'V_VM', 'RD_PUNC', 'N_NNP', 'V_VM', 'N_NN', 'N_NNP', 'RP_RPD', 'N_NN', 'N_NN', 'N_NN', 'V_VM', 'RP_NEG', 'N_NN', 'CC_CCD', 'QT_QTF', 'PSP', 'QT_QTC', 'N_NN', 'V_VM', 'JJ', 'V_VM', 'V_VAUX_VNP', 'N_NNP', 'PSP', 'N_NN', 'N_NN', 'N_NN', 'JJ', 'JJ', 'QT_QTC', 'JJ', 'N_NNP', 'V_VAUX', 'RD_PUNC', 'N_NNP', 'CC_CCS', 'N_NNP', 'N_NN', 'CC_CCS', 'RD_PUNC', 'N_NN', 'N_NNP', 'N_NNP', 'N_NNP', 'RD_PUNC', 'N_NN', 'JJ', 'JJ', 'N_NN', 'CC_CCD', 'N_NN', 'N_NN', 'V_VM', 'V_VAUX', 'RD_PUNC', 'N_NN', 'N_NNP', 'N_NNP', 'DM_DMD', 'RD_PUNC', 'N_NNP', 'RD_PUNC', 'N_NNP', 'N_NNP', 'RD_PUNC', 'N_NN', 'V_VM', 'V_VAUX', 'RD_PUNC', 'JJ', 'N_NN', 'JJ', 'N_NN', 'V_VAUX', 'RD_PUNC', 'DM_DMD', 'N_NN', 'N_NN', 'RD_PUNC', 'N_NN', 'CC_CCD', 'N_NN', 'N_NN', 'JJ', 'N_NN', 'V_VM', 'V_VAUX', 'RD_PUNC', 'DM_DMD', 'N_NN', 'N_NNP', 'N_NNP', 'JJ', 'N_NN', 'V_VM', 'RD_PUNC', 'JJ', 'RD_PUNC', 'V_VM', 'V_VAUX', 'RD_PUNC', 'N_NNP', 'JJ', 'N_NN', 'JJ', 'N_NN', 'RD_SYM', 'JJ', 'V_VM', 'RD_SYM', 'JJ', 'N_NN', 'V_VM', 'V_VAUX', 'RD_PUNC', 'DM_DMD', 'N_NN', 'JJ', 'N_NN', 'CC_CCD', 'N_NN', 'PSP', 'N_NN', 'V_VAUX', 'RD_PUNC', 'N_NN', 'JJ', 'N_NN', 'N_NN', 'N_NN', 'V_VAUX', 'RD_PUNC', 'CC_CCD', 'DM_DMD', 'N_NNP', 'N_NN', 'QT_QTF', 'V_VAUX', 'V_VAUX', 'CC_CCD', 'N_NNP', 'JJ', 'N_NN', 'V_VAUX', 'V_VAUX', 'RD_PUNC', 'N_NN', 'CC_CCD', 'N_NN', 'N_NN', 'N_NN', 'V_VAUX', 'CC_CCD', 'DM_DMD', 'N_NN', 'V_VM', 'RD_PUNC', 'N_NN', 'RD_PUNC', 'N_NN', 'RD_PUNC', 'N_NN', 'RD_PUNC', 'N_NN', 'N_NN', 'RD_PUNC', 'N_NN', 'RD_PUNC', 'N_NN', 'RD_PUNC', 'PSP', 'N_NN', 'N_NN', 'V_VM', 'V_VAUX', 'RD_PUNC', 'JJ', 'N_NN', 'N_NN', 'JJ', 'N_NN', 'V_VM', 'V_VAUX', 'RD_PUNC', 'JJ', 'N_NN', 'N_NN', 'RD_SYM', 'JJ', 'RD_SYM', 'CC_CCS', 'N_NN', 'N_NN', 'V_VM', 'V_VAUX', 'RD_PUNC', 'JJ', 'PSP', 'JJ', 'N_NN', 'N_NN', 'V_VAUX', 'V_VAUX', 'RD_PUNC', 'N_NN', 'JJ', 'N_NN', 'N_NN', 'N_NN', 'N_NN', 'DM_DMD', 'QT_QTF', 'N_NN', 'JJ', 'V_VAUX', 'RD_PUNC', 'N_NN', 'JJ', 'V_VM', 'N_NN', 'PSP', 'JJ', 'V_VM', 'N_NN', 'JJ', 'V_VAUX_VNP', 'V_VAUX', 'RD_PUNC', 'N_NN', 'N_NN', 'N_NN', 'DM_DMD', 'N_NN', 'PSP', 'QT_QTF', 'RP_RPD', 'JJ', 'V_VAUX', 'RD_PUNC', 'N_NN', 'JJ', 'N_NN', 'N_NN', 'N_NN', 'N_NN', 'CC_CCD', 'N_NN', 'JJ', 'N_NN', 'V_VM', 'RD_PUNC', 'N_NN', 'RD_PUNC', 'DM_DMI', 'RP_RPD', 'QT_QTC', 'N_NN', 'JJ', 'V_VM', 'CC_CCD', 'QT_QTC', 'N_NN', 'PSP', 'JJ', 'JJ', 'N_NN', 'JJ', 'RD_PUNC', 'DM_DMD', 'N_NN', 'JJ', 'N_NN', 'QT_QTF', 'N_NN', 'CC_CCD', 'PSP', 'JJ', 'RP_RPD', 'N_NST', 'N_NN', 'JJ', 'N_NN', 'PSP', 'V_VM', 'V_VAUX', 'RD_PUNC', 'DM_DMD', 'N_NN', 'JJ', 'QT_QTC', 'N_NN', 'N_NN', 'N_NN', 'JJ', 'V_VM', 'V_VAUX', 'RD_PUNC', 'DM_DMD', 'PSP', 'PSP', 'RD_PUNC', 'N_NNP', 'RD_PUNC', 'N_NNP', 'RD_PUNC', 'N_NN', 'RD_PUNC', 'N_NN', 'PSP', 'N_NN', 'RP_RPD', 'N_NNP', 'JJ', 'V_VAUX', 'RD_PUNC', 'N_NN', 'N_NNP', 'PSP', 'V_VAUX_VNP', 'N_NNP', 'N_NN', 'N_NN', 'RD_PUNC', 'N_NN', 'N_NNP', 'N_NN', 'RD_PUNC', 'N_NN', 'N_NNP', 'RD_PUNC', 'N_NN', 'N_NNP', 'N_NNP', 'RD_PUNC', 'N_NNP', 'N_NNP', 'N_NN', 'RD_PUNC', 'N_NN', 'N_NNP', 'N_NN', 'RD_PUNC', 'N_NN', 'N_NNP', 'N_NNP', 'N_NN', 'RD_PUNC', 'N_NN', 'N_NN', 'JJ', 'JJ', 'JJ', 'RD_PUNC', 'JJ', 'JJ', 'N_NN', 'PSP', 'N_NN', 'N_NN', 'RD_PUNC', 'DM_DMD', 'N_NN', 'JJ', 'V_VM', 'V_VAUX', 'RD_PUNC', 'N_NN', 'RD_PUNC', 'N_NNP', 'N_NN', 'N_NN', 'DM_DMD', 'N_NN', 'PSP', 'V_VM', 'RD_PUNC', 'CC_CCD', 'N_NST', 'PR_PRP', 'QT_QTC', 'JJ', 'N_NN', 'RP_RPD', 'N_NN', 'JJ', 'RD_PUNC', 'PR_PRL', 'N_NN', 'N_NN', 'V_VAUX_VNP', 'PSP', 'N_NN', 'V_VAUX', 'RD_PUNC', 'N_NN', 'DM_DMD', 'N_NN', 'PSP', 'N_NN', 'N_NN', 'RD_PUNC', 'N_NN', 'N_NN', 'RD_PUNC', 'N_NN', 'N_NN', 'RP_RPD', 'N_NN', 'V_VM', 'V_VAUX', 'RD_PUNC', 'N_NN', 'N_NN', 'N_NN', 'N_NN', 'PSP', 'V_VM', 'V_VAUX', 'RD_PUNC', 'N_NN', 'JJ', 'N_NST', 'JJ', 'QT_QTO', 'DM_DMQ', 'N_NN', 'PSP', 'N_NN', 'N_NN', 'V_VAUX', 'DM_DMD', 'JJ', 'N_NN', 'V_VAUX_VNP', 'V_VAUX', 'RD_PUNC', 'CC_CCS_UT', 'CC_CCD', 'N_NN', 'JJ', 'N_NN', 'JJ', 'V_VM', 'V_VAUX', 'CC_CCD', 'DM_DMD', 'DM_DMI', 'N_NN', 'N_NN', 'QT_QTF', 'JJ', 'V_VM', 'DM_DMD', 'N_NN', 'V_VAUX_VNP', 'V_VAUX', 'RD_PUNC', 'N_NST', 'JJ', 'PSP', 'JJ', 'N_NN', 'PSP', 'V_VAUX', 'RD_PUNC', 'N_NN', 'V_VM', 'CC_CCD', 'N_NN', 'JJ', 'V_VM', 'PR_PRP', 'N_NN', 'N_NN', 'N_NN', 'JJ', 'V_VM', 'RD_PUNC', 'N_NN', 'N_NN', 'QT_QTC', 'RP_RPD', 'N_NN', 'N_NN', 'V_VAUX', 'PSP', 'RP_RPD', 'N_NN', 'V_VAUX_VNP', 'V_VAUX', 'RD_PUNC', 'RP_RPD', 'JJ', 'N_NN', 'RD_PUNC', 'JJ', 'N_NN', 'RP_RPD', 'JJ', 'N_NN', 'DM_DMD', 'N_NNP', 'N_NNP', 'JJ', 'N_NN', 'V_VAUX', 'RD_PUNC', 'N_NNP', 'N_NNP', 'N_NNP', 'N_NNP', 'N_NNP', 'N_NN', 'V_VM', 'PR_PRP', 'JJ', 'N_NN', 'JJ', 'N_NN', 'V_VAUX_VNP', 'N_NN', 'PSP', 'JJ', 'N_NST', 'N_NST', 'N_NN', 'N_NNP', 'N_NNP', 'N_NNP', 'N_NNP', 'RP_RPD', 'N_NN', 'PSP', 'N_NN', 'PSP', 'V_VAUX', 'RD_PUNC', 'V_VAUX_VNP', 'N_NNP', 'N_NNP', 'JJ', 'N_NN', 'N_NNP', 'RD_PUNC', 'N_NN', 'RD_SYM', 'N_NNP', 'RD_SYM', 'N_NN', 'N_NN', 'N_NNP', 'RD_PUNC', 'N_NNP', 'N_NN', 'N_NNP', 'N_NNP', 'PSP', 'JJ', 'N_NN', 'V_VAUX_VNP', 'N_NN', 'CC_CCD', 'PSP', 'RD_SYM', 'N_NN', 'RD_SYM', 'JJ', 'N_NN', 'PSP', 'RP_RPD', 'PR_PRP', 'N_NN', 'JJ', 'V_VM', 'V_VAUX', 'RD_PUNC', 'QT_QTC', 'N_NN', 'N_NNP', 'PR_PRF', 'RD_PUNC', 'N_NNP', 'RD_PUNC', 'QT_QTF', 'JJ', 'N_NN', 'JJ', 'V_VM', 'V_VAUX', 'RD_PUNC', 'N_NST', 'N_NNP', 'RD_PUNC', 'N_NNP', 'RD_PUNC', 'N_NNP', 'N_NN', 'N_NN', 'RP_RPD', 'PSP', 'CC_CCS', 'JJ', 'N_NN', 'RP_RPD', 'JJ', 'RP_NEG', 'JJ', 'V_VM', 'V_VAUX', 'N_NN', 'V_VM', 'V_VAUX', 'RD_PUNC', 'N_NN', 'N_NNP', 'N_NN', 'JJ', 'N_NN', 'DM_DMQ', 'V_VAUX', 'RD_PUNC', 'JJ', 'CC_CCD', 'N_NN', 'CC_CCD', 'JJ', 'JJ', 'N_NN', 'V_VM', 'DM_DMD', 'QT_QTF', 'QT_QTF', 'RP_RPD', 'JJ', 'N_NN', 'V_VM', 'V_VAUX', 'RD_PUNC', 'N_NN', 'JJ', 'N_NN', 'RD_PUNC', 'N_NN', 'CC_CCD', 'N_NN', 'JJ', 'N_NN', 'N_NST', 'PSP', 'N_NN', 'V_VM', 'N_NNP', 'V_VAUX', 'RD_PUNC', 'PSP', 'CC_CCS', 'N_NST', 'RP_RPD', 'JJ', 'DM_DMD', 'N_NN', 'JJ', 'V_VAUX', 'CC_CCS', 'DM_DMD', 'PSP', 'JJ', 'V_VM', 'N_NN', 'RP_RPD', 'RP_NEG', 'V_VM', 'RD_PUNC', 'DM_DMD', 'JJ', 'N_NN', 'N_NN', 'V_VAUX', 'RD_PUNC', 'N_NN', 'N_NNP', 'N_NNP', 'N_NNP', 'N_NN', 'CC_CCD', 'N_NNP', 'N_NNP', 'N_NNP', 'N_NN', 'N_NN', 'N_NN', 'V_VAUX', 'RD_PUNC', 'JJ', 'N_NN', 'N_NN', 'N_NNP', 'JJ', 'RP_RPD', 'JJ', 'V_VM', 'V_VAUX', 'CC_CCS', 'RD_PUNC', 'PR_PRF', 'N_NNP', 'N_NNP', 'JJ', 'N_NST', 'RP_RPD', 'N_NN', 'V_VM', 'V_VAUX', 'RD_PUNC', 'CC_CCD', 'JJ', 'N_NN', 'N_NN', 'PSP', 'N_NN', 'DM_DMD', 'N_NN', 'QT_QTF', 'RP_RPD', 'JJ', 'V_VAUX', 'RD_PUNC', 'QT_QTF', 'V_VAUX_VNP', 'PR_PRP', 'N_NN', 'CC_CCD', 'N_NN', 'JJ', 'N_NN', 'V_VAUX_VNP', 'V_VAUX', 'RD_PUNC', 'JJ', 'N_NN', 'DM_DMD', 'JJ', 'N_NN', 'V_VAUX', 'V_VAUX', 'RD_PUNC', 'V_VAUX_VNP', 'QT_QTC', 'N_NN', 'N_NN', 'N_NNP', 'N_NN', 'V_VM', 'CC_CCD', 'N_NNP', 'RP_RPD', 'JJ', 'N_NN', 'N_NN', 'V_VM', 'RD_PUNC', 'DM_DMD', 'N_NN', 'RP_RPD', 'N_NN', 'CC_CCD', 'JJ', 'V_VAUX', 'V_VAUX', 'RD_PUNC', 'N_NN', 'N_NN', 'N_NNP', 'RD_PUNC', 'N_NN', 'N_NNP', 'N_NST', 'N_NN', 'N_NNP', 'N_NNP', 'JJ', 'JJ', 'N_NN', 'V_VM', 'V_VAUX', 'N_NST', 'RD_PUNC', 'JJ', 'JJ', 'N_NN', 'PSP', 'JJ', 'JJ', 'N_NNP', 'N_NN', 'CC_CCD', 'N_NN', 'N_NN', 'N_NN', 'JJ', 'N_NN', 'N_NN', 'N_NN', 'N_NN', 'PSP', 'CC_CCS', 'PR_PRP', 'N_NN', 'V_VAUX', 'RD_PUNC', 'JJ', 'DM_DMD', 'N_NN', 'N_NN', 'CC_CCD', 'N_NN', 'JJ', 'V_VAUX', 'RD_PUNC', 'DM_DMD', 'PSP', 'PSP', 'N_NN', 'QT_QTF', 'RP_RPD', 'JJ', 'N_NN', 'N_NN', 'V_VAUX', 'RD_PUNC'], 'economy': ['QT_QTC', 'JJ', 'N_NN', 'RD_PUNC', 'JJ', 'CC_CCD', 'N_NN', 'RD_SYM', 'N_NN', 'RD_SYM', 'N_NN', 'V_VM', 'V_VAUX', 'RD_PUNC', 'N_NN', 'QT_QTF', 'N_NN', 'JJ', 'V_VAUX', 'N_NN', 'PSP', 'CC_CCS', 'PR_PRP', 'PSP', 'N_NN', 'JJ', 'V_VAUX', 'RD_PUNC', 'N_NN', 'PSP', 'N_NN', 'V_VAUX_VNP', 'N_NN', 'QT_QTF', 'RP_RPD', 'JJ', 'V_VAUX', 'RD_PUNC', 'JJ', 'JJ', 'N_NN', 'N_NN', 'PSP', 'N_NN', 'N_NN', 'JJ', 'N_NN', 'V_VAUX_VNP', 'N_NN', 'RP_RPD', 'N_NN', 'PSP', 'DM_DMQ', 'N_NN', 'JJ', 'V_VM', 'RD_PUNC', 'CC_CCD', 'PSP', 'N_NST', 'RP_RPD', 'V_VM', 'N_NST', 'N_NN', 'JJ', 'N_NN', 'RD_PUNC', 'JJ', 'N_NN', 'N_NN', 'CC_CCD', 'JJ', 'N_NN', 'JJ', 'V_VM', 'RD_PUNC', 'JJ', 'QT_QTC', 'JJ', 'DM_DMD', 'V_VM', 'V_VAUX', 'CC_CCS', 'QT_QTC', 'QT_QTC', 'N_NN', 'PSP', 'V_VAUX_VNP', 'N_NN', 'N_NN', 'JJ', 'CC_CCD', 'JJ', 'N_NN', 'JJ', 'V_VAUX', 'V_VAUX', 'RD_PUNC', 'N_NN', 'V_VAUX_VNP', 'V_VAUX_VNP', 'PSP', 'N_NN', 'N_NN', 'N_NN', 'N_NN', 'QT_QTC', 'JJ', 'N_NN', 'V_VM', 'V_VAUX', 'RD_PUNC', 'N_NN', 'PSP', 'N_NN', 'V_VAUX_VNP', 'JJ', 'N_NN', 'JJ', 'N_NN', 'V_VAUX', 'V_VAUX', 'V_VAUX', 'RD_PUNC', 'V_VAUX_VNP', 'PSP', 'N_NN', 'JJ', 'V_VM', 'CC_CCD', 'JJ', 'N_NN', 'JJ', 'V_VAUX_VNP', 'V_VAUX', 'V_VAUX', 'RD_PUNC', 'N_NNP', 'N_NNP', 'QT_QTC', 'JJ', 'N_NN', 'JJ', 'N_NN', 'V_VAUX_VNP', 'V_VAUX', 'V_VAUX', 'RD_PUNC', 'N_NN', 'JJ', 'N_NN', 'JJ', 'N_NN', 'PSP', 'V_VM', 'V_VAUX', 'RD_PUNC', 'N_NNP', 'JJ', 'N_NN', 'V_VAUX', 'V_VAUX', 'RD_PUNC', 'N_NN', 'QT_QTC', 'N_NN', 'RD_PUNC', 'JJ', 'N_NN', 'RD_PUNC', 'N_NN', 'JJ', 'V_VM', 'V_VAUX', 'V_VAUX', 'RD_PUNC', 'DM_DMD', 'JJ', 'PSP', 'N_NN', 'JJ', 'V_VAUX', 'V_VAUX', 'RD_PUNC', 'CC_CCS', 'JJ', 'JJ', 'JJ', 'JJ', 'N_NNP', 'JJ', 'JJ', 'N_NN', 'PSP', 'N_NN', 'N_NN', 'JJ', 'V_VAUX', 'RD_PUNC', 'N_NN', 'N_NN', 'N_NN', 'PSP', 'CC_CCD', 'RP_RPD', 'JJ', 'JJ', 'N_NN', 'N_NN', 'V_VM', 'V_VM', 'V_VM', 'RD_PUNC', 'PSP', 'RD_PUNC', 'N_NNP', 'N_NN', 'CC_CCD', 'N_NN', 'JJ', 'V_VM', 'CC_CCD', 'N_NN', 'PSP', 'JJ', 'N_NN', 'V_VM', 'JJ', 'N_NN', 'JJ', 'JJ', 'V_VAUX', 'V_VAUX', 'RD_PUNC', 'JJ', 'N_NN', 'N_NST', 'JJ', 'N_NN', 'CC_CCD', 'N_NN', 'RD_PUNC', 'N_NN', 'N_NN', 'V_VAUX', 'RD_PUNC', 'N_NN', 'N_NN', 'JJ', 'V_VAUX_VNP', 'N_NN', 'N_NN', 'N_NN', 'DM_DMD', 'N_NN', 'JJ', 'CC_CCS', 'PSP', 'DM_DMD', 'N_NN', 'V_VM', 'V_VAUX', 'RD_PUNC', 'N_NN', 'PSP', 'N_NN', 'PSP', 'JJ', 'V_VAUX_VNP', 'N_NN', 'N_NN', 'CC_CCD', 'N_NN', 'QT_QTF', 'RP_RPD', 'N_NN', 'V_VM', 'V_VAUX', 'V_VAUX', 'RD_PUNC', 'JJ', 'JJ', 'N_NN', 'PSP', 'N_NN', 'N_NN', 'PSP', 'JJ', 'JJ', 'N_NN', 'CC_CCD', 'JJ', 'N_NN', 'JJ', 'RP_RPD', 'RP_RPD', 'DM_DMD', 'N_NN', 'JJ', 'N_NN', 'V_VAUX', 'RD_PUNC', 'N_NNP', 'N_NN', 'PSP', 'PSP', 'JJ', 'N_NN', 'N_NN', 'RP_RPD', 'JJ', 'V_VAUX_VNP', 'V_VM', 'V_VAUX', 'RD_PUNC', 'N_NN', 'PR_PRL', 'N_NN', 'RD_PUNC', 'N_NN', 'RD_PUNC', 'N_NN', 'RD_PUNC', 'N_NN', 'PSP', 'N_NN', 'N_NN', 'V_VM', 'V_VAUX', 'RD_PUNC', 'N_NN', 'CC_CCD', 'N_NN', 'JJ', 'JJ', 'N_NN', 'N_NN', 'JJ', 'CC_CCD', 'N_NN', 'JJ', 'V_VM', 'V_VAUX', 'RD_PUNC', 'DM_DMD', 'V_VAUX', 'QT_QTF', 'QT_QTO', 'N_NN', 'RD_PUNC', 'V_VAUX_VNP', 'V_VAUX_VNP', 'PSP', 'N_NN', 'V_VAUX_VNP', 'CC_CCD', 'JJ', 'N_NN', 'JJ', 'N_NN', 'PSP', 'JJ', 'N_NN', 'N_NN', 'V_VM', 'RD_PUNC', 'DM_DMD', 'N_NN', 'PSP', 'DM_DMD', 'N_NN', 'N_NN', 'JJ', 'V_VM', 'V_VAUX', 'RD_PUNC', 'JJ', 'N_NN', 'JJ', 'N_NN', 'CC_CCD', 'JJ', 'N_NN', 'N_NST', 'CC_CCD', 'N_NN', 'V_VAUX', 'CC_CCD', 'N_NN', 'JJ', 'N_NN', 'JJ', 'V_VAUX', 'RD_PUNC', 'PSP', 'V_VM', 'V_VAUX', 'RD_PUNC', 'N_NNP', 'CC_CCS', 'QT_QTC', 'N_NN', 'V_VAUX_VNP', 'QT_QTF', 'JJ', 'V_VM', 'V_VAUX', 'V_VAUX', 'RD_PUNC', 'CC_CCS', 'N_NN', 'CC_CCD', 'JJ', 'N_NN', 'N_NN', 'N_NN', 'V_VAUX', 'RD_PUNC', 'CC_CCS_UT', 'N_NN', 'V_VM', 'RP_RPD', 'PR_PRQ', 'RD_PUNC', 'DM_DMD', 'N_NN', 'DM_DMD', 'N_NN', 'PSP', 'JJ', 'V_VAUX', 'RD_PUNC', 'N_NN', 'V_VAUX', 'RD_PUNC', 'N_NN', 'CC_CCD', 'JJ', 'QT_QTC', 'JJ', 'N_NN', 'N_NN', 'V_VM', 'V_VAUX', 'CC_CCD', 'JJ', 'JJ', 'N_NN', 'V_VM', 'V_VAUX', 'RD_PUNC', 'CC_CCS_UT', 'DM_DMI', 'N_NN', 'V_VAUX_VNP', 'N_NN', 'PSP', 'N_NN', 'N_NN', 'N_NN', 'V_VM', 'CC_CCD', 'DM_DMD', 'PSP', 'N_NN', 'N_NN', 'V_VM', 'RD_PUNC', 'N_NN', 'JJ', 'N_NN', 'N_NN', 'RD_PUNC', 'N_NN', 'CC_CCD', 'N_NN', 'JJ', 'V_VM', 'V_VAUX', 'RD_PUNC', 'N_NST', 'N_NN', 'N_NN', 'V_VAUX', 'RD_PUNC', 'N_NN', 'CC_CCD', 'N_NN', 'QT_QTF', 'N_NN', 'V_VAUX', 'RD_PUNC', 'N_NN', 'N_NN', 'PSP', 'N_NN', 'PSP', 'JJ', 'V_VAUX', 'CC_CCD', 'QT_QTC', 'RP_RPD', 'RP_RPD', 'N_NN', 'N_NN', 'JJ', 'V_VAUX', 'N_NST', 'JJ', 'N_NN', 'JJ', 'PSP', 'V_VM', 'V_VAUX', 'RD_PUNC', 'JJ', 'N_NN', 'CC_CCD', 'JJ', 'N_NN', 'JJ', 'V_VAUX_VNP', 'QT_QTC', 'N_NN', 'JJ', 'V_VM', 'V_VAUX', 'RD_PUNC', 'N_NN', 'N_NN', 'CC_CCD', 'N_NN', 'N_NN', 'V_VAUX', 'JJ', 'N_NN', 'JJ', 'JJ', 'V_VAUX', 'RD_PUNC', 'DM_DMI', 'N_NN', 'RP_RPD', 'N_NN', 'RD_PUNC', 'N_NN', 'N_NN', 'PSP', 'N_NN', 'V_VM', 'V_VAUX', 'N_NN', 'N_NN', 'N_NN', 'JJ', 'PSP', 'V_VM', 'V_VAUX', 'V_VAUX', 'RD_PUNC', 'PR_PRP', 'PSP', 'N_NN', 'V_VM', 'V_VAUX', 'RD_PUNC', 'CC_CCD', 'N_NNP', 'V_VM', 'V_VAUX', 'CC_CCS', 'N_NN', 'JJ', 'N_NN', 'JJ', 'V_VAUX', 'RP_RPD', 'JJ', 'N_NN', 'JJ', 'JJ', 'N_NN', 'V_VM', 'V_VM', 'V_VAUX', 'RD_PUNC', 'PSP', 'N_NN', 'N_NN', 'V_VAUX', 'PSP', 'JJ', 'V_VM', 'V_VAUX', 'RD_PUNC', 'QT_QTF', 'N_NN', 'N_NN', 'V_VAUX', 'V_VAUX', 'RD_PUNC', 'CC_CCD', 'DM_DMD', 'N_NN', 'V_VM', 'V_VAUX', 'RD_PUNC', 'JJ', 'RP_RPD', 'RP_NEG', 'CC_CCD', 'DM_DMD', 'N_NN', 'QT_QTC', 'PSP', 'JJ', 'PSP', 'JJ', 'N_NN', 'JJ', 'V_VAUX', 'RD_PUNC', 'CC_CCD', 'JJ', 'N_NN', 'RD_PUNC', 'N_NN', 'V_VM', 'V_VAUX', 'RD_PUNC', 'JJ', 'N_NN', 'V_VAUX', 'PSP', 'N_NN', 'N_NN', 'JJ', 'V_VAUX_VNP', 'V_VAUX', 'RD_PUNC', 'N_NN', 'N_NN', 'PSP', 'JJ', 'JJ', 'N_NN', 'CC_CCS', 'PR_PRL', 'N_NN', 'V_VAUX_VNP', 'V_VAUX', 'CC_CCD', 'JJ', 'N_NN', 'V_VM', 'V_VAUX', 'RD_PUNC', 'PR_PRQ', 'QT_QTC', 'N_NN', 'JJ', 'N_NN', 'V_VM', 'V_VAUX', 'RD_PUNC', 'N_NN', 'N_NN', 'V_VM', 'V_VAUX', 'RD_PUNC', 'N_NN', 'JJ', 'N_NN', 'PSP', 'QT_QTF', 'N_NN', 'PSP', 'V_VM', 'V_VAUX', 'RD_PUNC'], 'entern': ['PSP', 'PSP', 'CC_CCD', 'JJ', 'RP_RPD', 'N_NN', 'N_NN', 'RD_PUNC', 'CC_CCD', 'N_NN', 'N_NNP', 'PSP', 'PSP', 'N_NNP', 'RP_RPD', 'N_NN', 'RP_RPD', 'RD_PUNC', 'PSP', 'PR_PRP', 'N_NN', 'RP_NEG', 'RD_PUNC', 'V_VM', 'RD_PUNC', 'PR_PRP', 'RD_PUNC', 'N_NN', 'RD_PUNC', 'JJ', 'N_NN', 'V_VM', 'RD_PUNC', 'CC_CCD', 'PR_PRP', 'JJ', 'N_NN', 'N_NN', 'V_VM', 'V_VAUX', 'RD_PUNC', 'DM_DMI', 'N_NN', 'PSP', 'N_NN', 'RD_PUNC', 'PR_PRP', 'JJ', 'RP_RPD', 'N_NN', 'V_VM', 'CC_CCS', 'N_NN', 'QT_QTF', 'N_NST', 'PSP', 'N_NN', 'RP_RPD', 'N_NN', 'N_NN', 'V_VM', 'RD_PUNC', 'V_VAUX', 'RP_RPD', 'N_NN', 'RD_PUNC', 'N_NN', 'JJ', 'N_NST', 'PR_PRP', 'N_NN', 'CC_CCD', 'N_NN', 'PSP', 'N_NN', 'RP_RPD', 'N_NNP', 'V_VM', 'V_VAUX', 'CC_CCD', 'PSP', 'V_VAUX_VNP', 'PSP', 'N_NN', 'N_NN', 'RP_RPD', 'V_VM', 'V_VAUX', 'RD_PUNC', 'JJ', 'RP_RPD', 'V_VAUX', 'RD_PUNC', 'PR_PRP', 'PR_PRP', 'PR_PRQ', 'PSP', 'V_VM', 'CC_CCS', 'DM_DMD', 'N_NN', 'N_NN', 'N_NN', 'PR_PRP', 'V_VM', 'V_VAUX', 'RD_PUNC', 'N_NN', 'V_VM', 'DM_DMD', 'N_NN', 'V_VM', 'RD_PUNC', 'DM_DMI', 'N_NN', 'V_VM', 'RP_RPD', 'V_VM', 'RD_PUNC', 'V_VAUX', 'RD_PUNC', 'N_NN', 'V_VAUX', 'RD_PUNC', 'DM_DMD', 'N_NN', 'PR_PRP', 'PR_PRP', 'N_NN', 'V_VM', 'N_NN', 'PR_PRP', 'PSP', 'N_NN', 'V_VAUX', 'RD_PUNC', 'JJ', 'N_NN', 'V_VM', 'V_VM', 'DM_DMD', 'N_NN', 'JJ', 'V_VM', 'PR_PRP', 'PR_PRP', 'N_NN', 'V_VAUX', 'RD_PUNC', 'DM_DMD', 'N_NN', 'N_NN', 'JJ', 'N_NN', 'N_NN', 'PSP', 'V_VM', 'V_VAUX', 'PSP', 'DM_DMD', 'PSP', 'RD_PUNC', 'N_NNP', 'V_VAUX', 'RD_PUNC', 'PSP', 'PR_PRP', 'N_NN', 'JJ', 'N_NN', 'PR_PRP', 'PSP', 'V_VAUX_VNP', 'JJ', 'V_VAUX_VNP', 'V_VM', 'V_VAUX', 'RD_PUNC', 'N_NN', 'N_NN', 'PSP', 'V_VAUX', 'RD_PUNC', 'DM_DMD', 'PSP', 'PSP', 'PR_PRP', 'PR_PRP', 'N_NN', 'RP_RPD', 'PSP', 'V_VM', 'V_VAUX', 'RD_PUNC', 'RD_PUNC', 'PSP', 'RD_PUNC', 'RD_PUNC', 'PR_PRP', 'N_NN', 'N_NST', 'JJ', 'V_VAUX', 'RD_PUNC', 'N_NST', 'QT_QTF', 'N_NN', 'N_NST', 'V_VAUX_VNP', 'N_NN', 'PR_PRP', 'V_VAUX_VNP', 'V_VAUX', 'RD_PUNC', 'PR_PRP', 'N_NN', 'RD_PUNC', 'PR_PRL', 'QT_QTC', 'N_NN', 'PR_PRP', 'JJ', 'V_VAUX', 'RD_PUNC', 'JJ', 'N_NN', 'PR_PRP', 'JJ', 'V_VAUX', 'RD_PUNC', 'V_VAUX_VNP', 'N_NN', 'DM_DMD', 'N_NN', 'V_VAUX', 'CC_CCD', 'JJ', 'N_NN', 'JJ', 'V_VAUX', 'RD_PUNC', 'PR_PRP', 'V_VM', 'RP_RPD', 'RD_PUNC', 'N_NNP', 'PSP', 'N_NNP', 'N_NN', 'RD_PUNC', 'N_NN', 'N_NN', 'RD_PUNC', 'N_NN', 'N_NN', 'RD_PUNC', 'N_NN', 'N_NN', 'CC_CCD', 'PR_PRP', 'PSP', 'N_NN', 'V_VM', 'V_VM', 'JJ', 'V_VAUX', 'RD_PUNC', 'N_NN', 'N_NN', 'PSP', 'N_NNP', 'V_VAUX_VNP', 'JJ', 'JJ', 'N_NN', 'N_NN', 'N_NN', 'V_VAUX_VNP', 'V_VM', 'N_NST', 'PR_PRP', 'N_NN', 'N_NN', 'JJ', 'V_VM', 'V_VAUX', 'RD_PUNC', 'PR_PRP', 'N_NN', 'PR_PRP', 'N_NN', 'N_NN', 'PSP', 'JJ', 'V_VAUX', 'V_VAUX', 'RD_PUNC', 'PR_PRP', 'N_NN', 'N_NN', 'N_NST', 'N_NN', 'N_NN', 'CC_CCD', 'N_NN', 'JJ', 'N_NN', 'PR_PRP', 'N_NN', 'RD_PUNC', 'N_NNP', 'PSP', 'N_NN', 'JJ', 'JJ', 'N_NNP', 'N_NN', 'RP_NEG', 'RD_PUNC', 'PSP', 'N_NN', 'N_NN', 'V_VAUX', 'JJ', 'JJ', 'DM_DMD', 'V_VM', 'RD_PUNC', 'PSP', 'RP_RPD', 'N_NNP', 'RP_RPD', 'V_VAUX_VNP', 'RD_PUNC', 'RD_PUNC', 'N_NN', 'RD_PUNC', 'PR_PRP', 'N_NN', 'RP_RPD', 'JJ', 'N_NN', 'RP_RPD', 'N_NN', 'V_VM', 'V_VAUX', 'RD_PUNC', 'CC_CCD', 'DM_DMD', 'N_NNP', 'PSP', 'N_NN', 'N_NN', 'PR_PRP', 'N_NN', 'RP_NEG', 'RD_PUNC', 'RD_PUNC', 'N_NN', 'RB', 'CC_CCD', 'V_VAUX_VNP', 'V_VAUX', 'PSP', 'PR_PRQ', 'JJ', 'N_NN', 'V_VM', 'RD_PUNC', 'JJ', 'V_VM', 'V_VAUX', 'RD_PUNC', 'N_NN', 'PSP', 'N_NN', 'RD_PUNC', 'N_NN', 'CC_CCS', 'N_NN', 'JJ', 'N_NN', 'V_VM', 'RD_PUNC', 'PSP', 'N_NN', 'CC_CCD', 'N_NN', 'JJ', 'N_NN', 'RP_RPD', 'V_VAUX_VNP', 'RD_PUNC', 'PSP', 'JJ', 'V_VM', 'V_VAUX', 'RD_PUNC', 'QT_QTC', 'RD_PUNC', 'QT_QTC', 'N_NN', 'V_VM', 'V_VAUX', 'RD_PUNC', 'N_NN', 'N_NN', 'N_NN', 'V_VAUX', 'RP_RPD', 'N_NN', 'PSP', 'N_NN', 'RP_NEG', 'RD_PUNC', 'RB', 'N_NN', 'V_VM', 'RD_PUNC', 'V_VM', 'RD_PUNC', 'RD_PUNC', 'RD_PUNC', 'N_NN', 'JJ', 'N_NN', 'RD_PUNC', 'N_NN', 'V_VM', 'RD_PUNC', 'N_NN', 'JJ', 'N_NN', 'PSP', 'V_VM', 'N_NN', 'RD_PUNC', 'PSP', 'V_VAUX_VNP', 'N_NN', 'JJ', 'RD_PUNC', 'N_NN', 'V_VM', 'DM_DMD', 'N_NN', 'V_VM', 'RD_PUNC', 'PR_PRP', 'N_NN', 'PSP', 'N_NN', 'V_VM', 'V_VAUX', 'RD_PUNC', 'V_VM', 'RD_PUNC', 'N_NN', 'PR_PRP', 'N_NN', 'RD_PUNC', 'DM_DMD', 'N_NN', 'DM_DMD', 'N_NN', 'V_VM', 'V_VAUX', 'RD_PUNC', 'N_NNP', 'RD_PUNC', 'PR_PRP', 'RP_RPD', 'N_NN', 'RP_RPD', 'V_VAUX', 'RP_RPD', 'RD_PUNC', 'N_NNP', 'V_VM', 'RD_PUNC', 'N_NN', 'JJ', 'PSP', 'JJ', 'V_VAUX', 'RD_PUNC', 'N_NN', 'PSP', 'JJ', 'N_NN', 'N_NN', 'V_VM', 'V_VM', 'V_VAUX', 'JJ', 'N_NN', 'V_VM', 'V_VM', 'V_VAUX', 'RD_PUNC', 'N_NN', 'JJ', 'V_VM', 'RD_PUNC', 'PR_PRP', 'PR_PRP', 'N_NN', 'V_VM', 'RD_PUNC', 'N_NN', 'RP_NEG', 'N_NN', 'RD_PUNC', 'JJ', 'N_NST', 'N_NN', 'JJ', 'N_NN', 'N_NN', 'N_NST', 'V_VM', 'V_VAUX', 'RD_PUNC', 'JJ', 'N_NN', 'N_NN', 'CC_CCD', 'N_NN', 'JJ', 'JJ', 'N_NN', 'N_NN', 'V_VM', 'RD_PUNC', 'PR_PRP', 'N_NN', 'V_VM', 'V_VAUX', 'RD_PUNC', 'JJ', 'JJ', 'CC_CCD', 'DM_DMD', 'N_NN', 'CC_CCD', 'N_NN', 'N_NN', 'V_VAUX_VNP', 'N_NN', 'PSP', 'N_NN', 'N_NN', 'N_NN', 'JJ', 'RP_NEG', 'RD_PUNC', 'PSP', 'PR_PRI', 'N_NST', 'N_NN', 'V_VM', 'JJ', 'N_NN', 'N_NN', 'N_NN', 'JJ', 'N_NN', 'JJ', 'RP_NEG', 'RD_PUNC', 'QT_QTC', 'N_NN', 'JJ', 'N_NN', 'V_VAUX', 'RD_PUNC', 'N_NN', 'RB', 'N_NN', 'V_VM', 'V_VAUX', 'RD_PUNC', 'N_NNP', 'N_NN', 'JJ', 'JJ', 'N_NN', 'N_NN', 'JJ', 'N_NN', 'V_VM', 'CC_CCD', 'N_NN', 'N_NN', 'N_NN', 'N_NN', 'V_VM', 'RD_PUNC', 'PR_PRP', 'V_VM', 'RD_PUNC', 'RD_PUNC', 'N_NN', 'V_VM', 'RD_PUNC', 'N_NNP', 'RD_PUNC', 'DM_DMD', 'QT_QTF', 'JJ', 'V_VM', 'V_VAUX', 'RD_PUNC', 'RD_PUNC'], 'philosophy': ['N_NNP', 'N_NN', 'RP_NEG', 'V_VAUX_VNP', 'CC_CCD', 'DM_DMD', 'N_NN', 'N_NN', 'N_NN', 'DM_DMD', 'N_NN', 'N_NN', 'V_VM', 'V_VAUX', 'RD_PUNC', 'N_NNP', 'N_NN', 'N_NN', 'V_VM', 'V_VAUX', 'RD_PUNC', 'PSP', 'DM_DMD', 'RD_PUNC', 'JJ', 'RD_PUNC', 'CC_CCD', 'RD_PUNC', 'N_NN', 'RD_PUNC', 'N_NN', 'V_VAUX', 'V_VAUX', 'RD_PUNC', 'DM_DMD', 'PSP', 'JJ', 'N_NN', 'PSP', 'JJ', 'N_NN', 'CC_CCD', 'N_NN', 'RP_RPD', 'N_NN', 'JJ', 'V_VM', 'V_VAUX', 'RD_PUNC', 'DM_DMD', 'JJ', 'N_NN', 'RD_PUNC', 'N_NNP', 'RD_PUNC', 'RD_PUNC', 'PSP', 'JJ', 'JJ', 'N_NN', 'N_NN', 'JJ', 'N_NN', 'DM_DMD', 'N_NN', 'RP_RPD', 'V_VM', 'V_VAUX', 'RD_PUNC', 'N_NN', 'N_NNP', 'N_NN', 'N_NNP', 'PSP', 'N_NN', 'V_VM', 'V_VAUX', 'RD_PUNC', 'N_NN', 'PSP', 'JJ', 'N_NN', 'RD_PUNC', 'N_NNP', 'JJ', 'N_NN', 'PSP', 'N_NNP', 'N_NNP', 'QT_QTC', 'N_NN', 'N_NN', 'N_NN', 'V_VM', 'V_VAUX', 'RD_PUNC', 'QT_QTC', 'N_NNP', 'DM_DMD', 'QT_QTC', 'N_NN', 'CC_CCD', 'JJ', 'N_NNP', 'RD_PUNC', 'N_NN', 'N_NN', 'DM_DMD', 'N_NN', 'N_NN', 'PSP', 'QT_QTC', 'N_NN', 'N_NN', 'V_VM', 'V_VAUX', 'RD_PUNC', 'DM_DMD', 'N_NN', 'N_NN', 'N_NN', 'JJ', 'PSP', 'V_VM', 'N_NN', 'RP_NEG', 'RD_PUNC', 'N_NN', 'QT_QTC', 'N_NN', 'DM_DMD', 'N_NN', 'RD_PUNC', 'N_NN', 'RD_PUNC', 'N_NN', 'RD_PUNC', 'N_NN', 'RD_PUNC', 'N_NN', 'RD_PUNC', 'N_NN', 'RD_PUNC', 'N_NN', 'CC_CCD', 'N_NN', 'RD_PUNC', 'DM_DMD', 'PSP', 'V_VM', 'N_NN', 'RP_NEG', 'RD_PUNC', 'JJ', 'N_NN', 'JJ', 'N_NN', 'RP_RPD', 'RP_RPD', 'RP_RPD', 'V_VAUX', 'V_VAUX', 'CC_CCD', 'DM_DMD', 'RP_RPD', 'N_NN', 'N_NN', 'V_VAUX', 'RD_PUNC', 'N_NNP', 'N_NN', 'JJ', 'N_NN', 'N_NN', 'V_VM', 'V_VAUX', 'RD_PUNC', 'N_NN', 'RD_PUNC', 'N_NN', 'RD_PUNC', 'N_NN', 'RD_PUNC', 'N_NN', 'RD_PUNC', 'N_NNP', 'RD_PUNC', 'N_NN', 'RD_PUNC', 'N_NN', 'RD_PUNC', 'N_NN', 'CC_CCD', 'N_NN', 'RD_PUNC', 'N_NNP', 'V_VM', 'V_VAUX', 'RD_PUNC', 'PSP', 'DM_DMD', 'V_VAUX', 'RD_PUNC', 'N_NNP', 'V_VM', 'V_VAUX', 'CC_CCS', 'JJ', 'N_NN', 'N_NN', 'N_NN', 'N_NN', 'V_VAUX', 'RD_PUNC', 'PSP', 'DM_DMD', 'JJ', 'V_VM', 'RD_PUNC', 'JJ', 'N_NN', 'V_VAUX_VNP', 'V_VAUX', 'RD_PUNC', 'DM_DMD', 'N_NN', 'PSP', 'JJ', 'N_NN', 'V_VAUX_VNP', 'RP_NEG', 'RD_PUNC', 'N_NNP', 'PSP', 'N_NN', 'CC_CCD', 'N_NN', 'N_NN', 'JJ', 'N_NN', 'CC_CCD', 'DM_DMD', 'JJ', 'V_VAUX', 'RD_PUNC', 'N_NN', 'PSP', 'JJ', 'N_NN', 'N_NN', 'PSP', 'V_VAUX_VNP', 'RP_NEG', 'PSP', 'N_NN', 'V_VAUX', 'CC_CCD', 'N_NN', 'V_VM', 'V_VAUX', 'RD_PUNC', 'PSP', 'DM_DMD', 'QT_QTC', 'N_NN', 'N_NN', 'N_NN', 'V_VM', 'V_VAUX', 'RD_PUNC', 'N_NN', 'N_NN', 'V_VAUX', 'RD_PUNC', 'PSP', 'N_NN', 'RD_PUNC', 'N_NN', 'N_NN', 'V_VM', 'V_VAUX', 'RD_PUNC', 'JJ', 'N_NN', 'V_VAUX', 'JJ', 'N_NN', 'RD_PUNC', 'PSP', 'N_NN', 'V_VAUX', 'RD_PUNC', 'N_NNP', 'JJ', 'N_NN', 'JJ', 'JJ', 'RP_NEG', 'CC_CCD', 'JJ', 'N_NN', 'N_NN', 'V_VAUX_VNP', 'RP_NEG', 'DM_DMD', 'N_NN', 'JJ', 'N_NN', 'JJ', 'N_NN', 'V_VM', 'V_VAUX', 'RD_PUNC', 'N_NNP', 'JJ', 'JJ', 'N_NN', 'V_VM', 'DM_DMD', 'PSP', 'RP_RPD', 'RP_NEG', 'PSP', 'V_VM', 'DM_DMD', 'JJ', 'JJ', 'V_VM', 'N_NN', 'QT_QTC', 'V_VM', 'V_VAUX', 'RD_PUNC', 'N_NNP', 'PSP', 'DM_DMD', 'N_NN', 'N_NN', 'V_VM', 'V_VAUX', 'RD_PUNC', 'N_NN', 'RD_PUNC', 'N_NN', 'RD_PUNC', 'N_NN', 'RD_PUNC', 'N_NN', 'RD_PUNC', 'N_NN', 'N_NN', 'RD_PUNC', 'N_NN', 'RD_PUNC', 'N_NN', 'N_NN', 'PSP', 'DM_DMD', 'N_NN', 'JJ', 'N_NN', 'V_VAUX', 'RD_PUNC', 'N_NN', 'JJ', 'N_NN', 'V_VM', 'QT_QTO', 'N_NN', 'JJ', 'N_NN', 'CC_CCD', 'DM_DMD', 'RP_RPD', 'N_NN', 'N_NN', 'PSP', 'N_NN', 'V_VAUX', 'V_VAUX', 'RD_PUNC', 'JJ', 'N_NN', 'V_VAUX', 'RD_PUNC', 'N_NN', 'PSP', 'N_NN', 'PSP', 'DM_DMI', 'RP_NEG', 'CC_CCS', 'PR_PRP', 'JJ', 'N_NN', 'JJ', 'V_VAUX', 'RD_PUNC', 'PR_PRL', 'N_NN', 'N_NN', 'PSP', 'V_VM', 'V_VAUX', 'RD_PUNC', 'N_NNP', 'V_VM', 'RD_PUNC', 'DM_DMD', 'PR_PRQ', 'V_VAUX', 'RD_PUNC', 'PR_PRP', 'DM_DMD', 'N_NN', 'N_NN', 'PSP', 'RP_NEG', 'N_NN', 'RD_PUNC', 'PR_PRQ', 'PR_PRP', 'QT_QTC', 'RD_PUNC', 'PSP', 'N_NST', 'N_NN', 'JJ', 'N_NN', 'PSP', 'N_NN', 'JJ', 'N_NN', 'V_VM', 'CC_CCD', 'V_VAUX', 'JJ', 'N_NN', 'V_VM', 'CC_CCS', 'N_NN', 'N_NN', 'PSP', 'N_NN', 'V_VM', 'V_VAUX', 'RP_NEG', 'RD_PUNC', 'DM_DMD', 'PR_PRP', 'N_NST', 'RP_RPD', 'V_VM', 'V_VAUX', 'RP_NEG', 'RD_PUNC', 'JJ', 'QT_QTC', 'QT_QTC', 'N_NN', 'V_VM', 'PSP', 'RP_RPD', 'N_NST', 'RP_RPD', 'PR_PRP', 'JJ', 'V_VM', 'V_VAUX', 'RD_PUNC', 'JJ', 'N_NN', 'PSP', 'V_VAUX', 'RD_PUNC', 'N_NN', 'JJ', 'V_VM', 'V_VAUX', 'RP_RPD', 'RD_PUNC', 'PSP', 'N_NN', 'QT_QTF', 'RP_RPD', 'N_NN', 'DM_DMD', 'QT_QTF', 'JJ', 'N_NN', 'JJ', 'CC_CCD', 'N_NN', 'V_VAUX', 'DM_DMD', 'RP_RPD', 'RP_NEG', 'RD_PUNC', 'N_NN', 'JJ', 'N_NN', 'V_VM', 'RD_PUNC', 'JJ', 'N_NN', 'V_VAUX_VNP', 'N_NN', 'DM_DMD', 'N_NN', 'JJ', 'JJ', 'N_NN', 'V_VM', 'V_VAUX', 'PSP', 'JJ', 'V_VAUX', 'RD_PUNC', 'DM_DMD', 'JJ', 'V_VAUX', 'CC_CCS', 'N_NN', 'RD_PUNC', 'CC_CCS', 'N_NST', 'JJ', 'N_NN', 'N_NN', 'V_VAUX', 'RP_NEG', 'V_VAUX', 'N_NST', 'JJ', 'N_NN', 'RP_RPD', 'V_VAUX_VNP', 'DM_DMD', 'PSP', 'JJ', 'N_NN', 'V_VM', 'N_NN', 'N_NN', 'V_VM', 'V_VAUX', 'JJ', 'N_NN', 'V_VM', 'V_VAUX', 'RD_PUNC', 'N_NN', 'DM_DMD', 'N_NN', 'CC_CCD', 'N_NN', 'V_VM', 'V_VAUX', 'RD_PUNC', 'CC_CCD', 'N_NN', 'N_NN', 'V_VM', 'V_VAUX', 'CC_CCS', 'PR_PRP', 'JJ', 'N_NN', 'JJ', 'N_NN', 'N_NN', 'CC_CCD', 'N_NN', 'V_VAUX', 'RD_PUNC', 'PR_PRL', 'N_NN', 'RD_PUNC', 'N_NN', 'RD_PUNC', 'N_NN', 'RD_PUNC', 'JJ', 'PSP', 'N_NN', 'V_VM', 'V_VAUX', 'RD_PUNC', 'N_NN', 'N_NN', 'V_VAUX_VNP', 'PSP', 'RD_PUNC', 'N_NN', 'N_NN', 'CC_CCD', 'N_NN', 'PSP', 'RD_PUNC', 'N_NN', 'PSP', 'DM_DMD', 'JJ', 'V_VAUX', 'RP_RPD', 'RD_PUNC', 'N_NN', 'DM_DMD', 'RP_RPD', 'N_NN', 'V_VAUX', 'RD_PUNC', 'RP_RPD', 'DM_DMI', 'RP_RPD', 'N_NN', 'N_NN', 'CC_CCS', 'N_NN', 'RP_NEG', 'V_VAUX', 'RD_PUNC', 'N_NNP', 'JJ', 'RD_PUNC', 'PSP', 'RD_PUNC', 'PSP', 'N_NN', 'N_NN', 'JJ', 'V_VAUX_VNP', 'RP_RPD', 'RD_PUNC', 'N_NNP', 'RD_PUNC', 'N_NNP', 'JJ', 'N_NN', 'JJ', 'JJ', 'V_VM', 'V_VAUX', 'RD_PUNC'], 'religion': ['N_NN', 'QT_QTC', 'N_NN', 'V_VAUX_VNP', 'V_VAUX', 'V_VAUX', 'RD_PUNC', 'N_NNP', 'N_NN', 'DM_DMD', 'N_NN', 'RD_PUNC', 'N_NN', 'RD_PUNC', 'N_NN', 'RD_PUNC', 'N_NN', 'RD_SYM', 'PSP', 'PSP', 'RD_SYM', 'CC_CCD', 'N_NN', 'DM_DMD', 'N_NN', 'V_VAUX_VNP', 'N_NN', 'N_NN', 'V_VAUX_VNP', 'V_VAUX', 'V_VAUX', 'RD_PUNC', 'N_NNP', 'N_NNP', 'V_VAUX', 'RD_PUNC', 'JJ', 'N_NN', 'V_VAUX', 'CC_CCS', 'N_NN', 'N_NN', 'V_VAUX_VNP', 'V_VM', 'RD_PUNC', 'N_NN', 'RD_PUNC', 'JJ', 'RD_PUNC', 'N_NNP', 'RD_PUNC', 'N_NN', 'N_NN', 'PR_PRI', 'N_NN', 'N_NN', 'RD_PUNC', 'DM_DMI', 'N_NN', 'N_NN', 'N_NN', 'RD_PUNC', 'N_NNP', 'N_NN', 'RD_PUNC', 'N_NN', 'RD_PUNC', 'N_NN', 'V_VAUX', 'CC_CCS', 'PR_PRP', 'PR_PRF', 'N_NN', 'RP_RPD', 'N_NN', 'N_NN', 'CC_CCD', 'N_NN', 'PSP', 'N_NN', 'V_VM', 'V_VAUX', 'RD_PUNC', 'N_NNP', 'PR_PRF', 'N_NN', 'N_NN', 'PR_PRP', 'N_NN', 'RP_RPD', 'N_NN', 'N_NN', 'V_VAUX', 'RD_PUNC', 'DM_DMD', 'N_NN', 'V_VM', 'JJ', 'RD_PUNC', 'N_NN', 'N_NN', 'RD_PUNC', 'V_VAUX_VNP', 'CC_CCD', 'CC_CCD', 'N_NN', 'V_VAUX_VNP', 'V_VAUX', 'RD_PUNC', 'N_NNP', 'N_NN', 'RP_RPD', 'N_NN', 'N_NN', 'JJ', 'V_VAUX', 'RD_PUNC', 'JJ', 'N_NN', 'N_NN', 'RD_PUNC', 'N_NN', 'CC_CCD', 'JJ', 'PSP', 'JJ', 'N_NN', 'N_NN', 'PSP', 'N_NNP', 'RD_PUNC', 'N_NNP', 'CC_CCD', 'N_NN', 'RD_PUNC', 'N_NN', 'JJ', 'N_NN', 'N_NN', 'N_NN', 'N_NN', 'V_VAUX', 'RD_PUNC', 'N_NNP', 'JJ', 'N_NN', 'V_VM', 'N_NN', 'V_VAUX', 'RD_PUNC', 'DM_DMD', 'N_NN', 'N_NN', 'QT_QTF', 'QT_QTF', 'QT_QTF', 'QT_QTF', 'JJ', 'V_VAUX', 'RD_PUNC', 'CC_CCD', 'JJ', 'N_NN', 'N_NN', 'N_NN', 'RD_PUNC', 'N_NNP', 'JJ', 'N_NN', 'QT_QTC', 'V_VM', 'DM_DMI', 'QT_QTC', 'PR_PRP', 'QT_QTC', 'JJ', 'V_VM', 'V_VAUX', 'RD_PUNC', 'N_NN', 'V_VM', 'DM_DMD', 'PR_PRP', 'V_VAUX_VNP', 'CC_CCD', 'JJ', 'JJ', 'V_VAUX_VNP', 'JJ', 'V_VM', 'RD_PUNC', 'N_NNP', 'JJ', 'N_NN', 'N_NN', 'V_VAUX', 'RD_PUNC', 'N_NNP', 'QT_QTF', 'JJ', 'N_NN', 'N_NN', 'N_NN', 'JJ', 'V_VM', 'RD_PUNC', 'DM_DMQ', 'V_VAUX', 'PR_PRP', 'N_NN', 'RD_PUNC', 'QT_QTC', 'N_NN', 'QT_QTF', 'RP_RPD', 'JJ', 'V_VAUX', 'RD_PUNC', 'N_NN', 'N_NST', 'N_NN', 'QT_QTC', 'N_NN', 'N_NN', 'PR_PRF', 'JJ', 'N_NN', 'JJ', 'V_VAUX', 'RD_PUNC', 'DM_DMI', 'DM_DMD', 'N_NN', 'N_NN', 'PR_PRF', 'PSP', 'V_VM', 'JJ', 'RP_NEG', 'V_VAUX', 'RD_PUNC', 'N_NNP', 'V_VAUX_VNP', 'N_NN', 'V_VM', 'N_NNP', 'N_NNP', 'N_NN', 'N_NN', 'N_NN', 'RP_RPD', 'PR_PRP', 'RP_RPD', 'V_VM', 'V_VAUX', 'RD_PUNC', 'N_NNP', 'N_NNP', 'N_NN', 'N_NN', 'JJ', 'N_NN', 'QT_QTC', 'JJ', 'N_NN', 'V_VAUX', 'RD_PUNC', 'N_NNP', 'N_NNP', 'DM_DMD', 'JJ', 'N_NN', 'RD_PUNC', 'N_NST', 'N_NN', 'N_NST', 'QT_QTC', 'N_NN', 'PSP', 'RP_RPD', 'N_NN', 'CC_CCD', 'V_VM', 'RP_RPD', 'JJ', 'V_VAUX', 'RD_PUNC', 'N_NNP', 'N_NNP', 'N_NN', 'JJ', 'N_NN', 'N_NNP', 'N_NNP', 'QT_QTC', 'JJ', 'N_NN', 'PSP', 'N_NN', 'V_VAUX_VNP', 'V_VAUX', 'RD_PUNC', 'N_NST', 'N_NN', 'V_VM', 'CC_CCS', 'RD_PUNC', 'PR_PRP', 'N_NNP', 'JJ', 'N_NN', 'V_VAUX_VNP', 'V_VAUX', 'RD_PUNC', 'N_NN', 'V_VM', 'V_VAUX', 'RD_PUNC', 'N_NN', 'N_NN', 'JJ', 'CC_CCD', 'QT_QTC', 'JJ', 'V_VAUX', 'RD_PUNC', 'N_NNP', 'N_NNP', 'V_VM', 'N_NN', 'CC_CCD', 'JJ', 'N_NN', 'JJ', 'QT_QTO', 'RP_RPD', 'PSP', 'N_NNP', 'N_NNP', 'N_NNP', 'JJ', 'RD_PUNC', 'V_VM', 'RD_PUNC', 'RD_PUNC', 'QT_QTF', 'PSP', 'N_NN', 'QT_QTC', 'N_NN', 'JJ', 'JJ', 'N_NN', 'RD_PUNC', 'JJ', 'N_NN', 'JJ', 'N_NN', 'DM_DMD', 'N_NN', 'V_VAUX', 'RD_PUNC', 'N_NN', 'N_NN', 'V_VM', 'V_VAUX', 'RD_PUNC', 'PR_PRL', 'N_NN', 'JJ', 'PR_PRP', 'V_VM', 'V_VAUX', 'DM_DMD', 'PR_PRP', 'N_NN', 'N_NN', 'N_NN', 'V_VAUX', 'RD_PUNC', 'CC_CCD', 'PSP', 'N_NN', 'PR_PRP', 'N_NN', 'PR_PRP', 'N_NN', 'V_VM', 'RD_PUNC', 'DM_DMD', 'PR_PRI', 'RP_RPD', 'N_NN', 'V_VAUX', 'RD_PUNC', 'CC_CCD', 'RP_RPD', 'DM_DMD', 'N_NN', 'CC_CCD', 'JJ', 'PR_PRF', 'N_NN', 'N_NN', 'N_NN', 'V_VAUX', 'V_VAUX', 'RD_PUNC', 'PR_PRP', 'PSP', 'PR_PRP', 'V_VM', 'V_VAUX', 'CC_CCS', 'JJ', 'JJ', 'N_NN', 'CC_CCD', 'N_NNP', 'N_NN', 'N_NNP', 'N_NN', 'V_VAUX', 'RD_PUNC', 'PSP', 'N_NNP', 'PR_PRP', 'N_NN', 'RP_NEG', 'V_VAUX', 'RD_PUNC', 'PR_PRP', 'PSP', 'N_NST', 'JJ', 'N_NNP', 'V_VAUX_VNP', 'V_VM', 'N_NNP', 'V_VM', 'V_VAUX', 'RD_PUNC', 'PSP', 'N_NN', 'V_VM', 'CC_CCS', 'N_NN', 'RP_NEG', 'N_NN', 'RD_PUNC', 'JJ', 'N_NN', 'CC_CCD', 'V_VM', 'CC_CCS', 'PSP', 'N_NN', 'JJ', 'RD_PUNC', 'JJ', 'N_NN', 'DM_DMD', 'N_NN', 'RP_RPD', 'RD_PUNC', 'JJ', 'CC_CCD', 'JJ', 'N_NN', 'V_VM', 'V_VAUX', 'RD_PUNC', 'DM_DMD', 'N_NN', 'N_NN', 'V_VAUX', 'V_VAUX', 'RD_PUNC', 'CC_CCD', 'PSP', 'JJ', 'JJ', 'N_NN', 'RP_RPD', 'DM_DMQ', 'N_NN', 'V_VAUX', 'JJ', 'N_NN', 'N_NN', 'PSP', 'RP_NEG', 'V_VAUX', 'RD_PUNC', 'DM_DMD', 'N_NN', 'N_NN', 'N_NN', 'JJ', 'V_VM', 'RD_PUNC', 'N_NN', 'RD_PUNC', 'N_NN', 'RD_PUNC', 'N_NN', 'RD_PUNC', 'N_NN', 'PSP', 'JJ', 'JJ', 'V_VM', 'RP_RPD', 'RD_PUNC', 'N_NST', 'PSP', 'N_NN', 'JJ', 'JJ', 'V_VM', 'V_VAUX', 'RD_PUNC', 'JJ', 'RD_PUNC', 'N_NST', 'JJ', 'V_VM', 'RD_PUNC', 'N_NST', 'PSP', 'JJ', 'V_VM', 'RP_RPD', 'V_VM', 'RD_PUNC', 'N_NN', 'PSP', 'JJ', 'V_VAUX', 'JJ', 'N_NN', 'V_VAUX', 'RD_PUNC', 'N_NN', 'RD_PUNC', 'RD_PUNC', 'N_NN', 'N_NST', 'N_NN', 'RP_NEG', 'V_VAUX', 'RD_PUNC', 'PSP', 'N_NN', 'JJ', 'JJ', 'RP_RPD', 'V_VAUX', 'JJ', 'RP_NEG', 'RD_PUNC', 'QT_QTF', 'JJ', 'N_NN', 'CC_CCD', 'N_NN', 'N_NN', 'PR_PRF', 'N_NN', 'PSP', 'JJ', 'V_VAUX', 'RD_PUNC', 'JJ', 'N_NN', 'PSP', 'N_NN', 'N_NN', 'N_NN', 'V_VAUX', 'RD_PUNC', 'N_NN', 'V_VM', 'RD_PUNC'], 'science': ['JJ', 'RD_PUNC', 'N_NN', 'QT_QTC', 'N_NN', 'N_NN', 'N_NN', 'JJ', 'N_NN', 'N_NN', 'PSP', 'DM_DMD', 'PR_PRF', 'N_NN', 'N_NN', 'JJ', 'V_VAUX', 'RD_PUNC', 'N_NN', 'N_NN', 'N_NN', 'N_NN', 'JJ', 'N_NN', 'JJ', 'N_NN', 'V_VM', 'V_VAUX', 'V_VAUX', 'CC_CCD', 'DM_DMD', 'PSP', 'N_NN', 'N_NN', 'N_NST', 'RP_RPD', 'DM_DMD', 'QT_QTF', 'JJ', 'N_NN', 'V_VM', 'V_VAUX', 'PSP', 'V_VAUX', 'RD_PUNC', 'N_NN', 'N_NN', 'DM_DMD', 'N_NN', 'PSP', 'JJ', 'N_NN', 'JJ', 'V_VM', 'V_VAUX', 'CC_CCD', 'DM_DMD', 'JJ', 'N_NN', 'N_NN', 'JJ', 'PSP', 'JJ', 'JJ', 'N_NN', 'JJ', 'V_VM', 'V_VAUX', 'RD_PUNC', 'N_NN', 'PSP', 'JJ', 'N_NN', 'CC_CCD', 'DM_DMD', 'N_NN', 'JJ', 'N_NN', 'QT_QTC', 'QT_QTF', 'N_NN', 'RP_RPD', 'V_VAUX', 'RD_PUNC', 'N_NST', 'N_NN', 'QT_QTC', 'N_NN', 'QT_QTC', 'N_NN', 'RP_RPD', 'QT_QTF', 'N_NN', 'V_VM', 'V_VAUX', 'V_VAUX', 'N_NST', 'N_NN', 'QT_QTC', 'N_NN', 'JJ', 'V_VAUX', 'V_VAUX', 'RD_PUNC', 'N_NN', 'N_NN', 'V_VM', 'RD_PUNC', 'PSP', 'JJ', 'N_NN', 'JJ', 'N_NN', 'RB', 'V_VAUX_VNP', 'V_VAUX', 'V_VAUX', 'RD_PUNC', 'DM_DMD', 'N_NN', 'JJ', 'V_VM', 'CC_CCS', 'PSP', 'N_NN', 'JJ', 'N_NN', 'JJ', 'N_NN', 'PSP', 'JJ', 'JJ', 'N_NN', 'DM_DMD', 'N_NN', 'V_VAUX', 'V_VAUX', 'RD_PUNC', 'N_NST', 'RP_RPD', 'DM_DMD', 'PSP', 'QT_QTC', 'N_NN', 'JJ', 'PSP', 'QT_QTC', 'V_VM', 'QT_QTF', 'N_NN', 'N_NN', 'V_VAUX', 'V_VAUX', 'RD_PUNC', 'QT_QTC', 'DM_DMD', 'N_NN', 'QT_QTC', 'N_NN', 'V_VAUX', 'RD_PUNC', 'DM_DMD', 'N_NN', 'N_NN', 'JJ', 'N_NN', 'N_NN', 'PSP', 'N_NN', 'N_NN', 'N_NN', 'DM_DMD', 'N_NN', 'JJ', 'N_NN', 'N_NN', 'JJ', 'V_VM', 'RD_PUNC', 'JJ', 'QT_QTC', 'JJ', 'QT_QTF', 'RP_RPD', 'V_VM', 'N_NN', 'V_VAUX_VNP', 'V_VAUX', 'V_VAUX', 'PR_PRL', 'N_NN', 'N_NN', 'JJ', 'RP_RPD', 'N_NN', 'N_NN', 'N_NN', 'N_NN', 'N_NN', 'V_VM', 'V_VAUX', 'RD_PUNC', 'JJ', 'N_NN', 'N_NNP', 'N_NN', 'N_NN', 'PSP', 'N_NN', 'V_VAUX', 'CC_CCD', 'PSP', 'N_NN', 'QT_QTC', 'N_NN', 'V_VAUX', 'V_VAUX', 'RD_PUNC', 'DM_DMD', 'N_NN', 'JJ', 'PSP', 'N_NN', 'N_NN', 'V_VAUX_VNP', 'N_NNP', 'N_NN', 'N_NN', 'JJ', 'CC_CCD', 'JJ', 'N_NN', 'N_NN', 'JJ', 'JJ', 'V_VAUX_VNP', 'N_NN', 'V_VM', 'V_VAUX', 'JJ', 'JJ', 'V_VAUX_VNP', 'V_VAUX', 'V_VAUX', 'RD_PUNC', 'N_NN', 'N_NN', 'N_NN', 'N_NN', 'QT_QTC', 'JJ', 'JJ', 'N_NN', 'CC_CCD', 'JJ', 'N_NN', 'PSP', 'RP_RPD', 'JJ', 'N_NN', 'CC_CCD', 'JJ', 'N_NN', 'N_NN', 'N_NN', 'PSP', 'JJ', 'N_NN', 'PSP', 'V_VAUX', 'V_VAUX', 'RD_PUNC', 'QT_QTF', 'JJ', 'JJ', 'N_NN', 'N_NN', 'RP_RPD', 'JJ', 'V_VM', 'V_VAUX', 'RD_PUNC', 'N_NST', 'JJ', 'RP_RPD', 'N_NN', 'JJ', 'JJ', 'N_NST', 'JJ', 'N_NN', 'N_NN', 'N_NN', 'PSP', 'N_NN', 'PSP', 'N_NN', 'V_VAUX_VNP', 'JJ', 'V_VM', 'V_VAUX', 'V_VAUX', 'RD_PUNC', 'N_NST', 'PSP', 'JJ', 'N_NN', 'PSP', 'V_VAUX', 'V_VAUX', 'RP_RPD', 'N_NN', 'JJ', 'JJ', 'V_VAUX', 'RD_PUNC', 'N_NN', 'N_NN', 'QT_QTF', 'N_NN', 'PSP', 'V_VM', 'V_VAUX', 'PSP', 'N_NN', 'N_NN', 'N_NN', 'JJ', 'V_VAUX_VNP', 'JJ', 'RD_SYM', 'PSP', 'N_NN', 'N_NN', 'JJ', 'JJ', 'JJ', 'N_NN', 'PSP', 'JJ', 'JJ', 'V_VAUX', 'CC_CCD', 'N_NN', 'N_NN', 'N_NN', 'V_VM', 'V_VAUX', 'V_VAUX', 'RD_PUNC', 'DM_DMD', 'JJ', 'N_NN', 'N_NN', 'JJ', 'N_NN', 'N_NN', 'N_NN', 'N_NN', 'N_NN', 'N_NN', 'N_NN', 'V_VAUX_VNP', 'V_VM', 'RD_SYM', 'N_NN', 'N_NN', 'QT_QTC', 'RD_SYM', 'JJ', 'V_VM', 'PSP', 'V_VM', 'RD_PUNC', 'N_NN', 'N_NN', 'PSP', 'N_NN', 'N_NN', 'N_NN', 'JJ', 'JJ', 'N_NN', 'V_VAUX_VNP', 'PSP', 'N_NN', 'N_NN', 'V_VM', 'JJ', 'QT_QTC', 'JJ', 'N_NN', 'V_VM', 'JJ', 'CC_CCD', 'JJ', 'JJ', 'JJ', 'RD_PUNC', 'JJ', 'RP_NEG', 'PSP', 'N_NN', 'PR_PRF', 'N_NN', 'PR_PRF', 'JJ', 'N_NN', 'RP_NEG', 'RD_PUNC', 'PSP', 'JJ', 'N_NN', 'PSP', 'DM_DMD', 'PSP', 'N_NN', 'N_NN', 'PSP', 'JJ', 'V_VM', 'V_VAUX', 'RD_PUNC', 'N_NN', 'JJ', 'PR_PRP', 'JJ', 'JJ', 'PR_PRP', 'PSP', 'JJ', 'CC_CCD', 'N_NN', 'PSP', 'V_VM', 'V_VM', 'CC_CCS', 'PR_PRL', 'N_NN', 'JJ', 'N_NN', 'JJ', 'V_VAUX', 'RD_PUNC', 'N_NN', 'QT_QTF', 'N_NN', 'JJ', 'V_VM', 'CC_CCD', 'N_NN', 'PSP', 'DM_DMD', 'N_NN', 'V_VM', 'JJ', 'RP_NEG', 'RD_PUNC', 'N_NN', 'QT_QTC', 'N_NN', 'PSP', 'N_NST', 'JJ', 'V_VAUX', 'N_NST', 'N_NN', 'RD_PUNC', 'N_NN', 'N_NN', 'N_NN', 'N_NN', 'JJ', 'JJ', 'N_NN', 'N_NN', 'V_VAUX', 'RD_PUNC', 'N_NN', 'N_NN', 'N_NN', 'N_NN', 'N_NN', 'V_VM', 'V_VAUX', 'RD_PUNC', 'DM_DMD', 'QT_QTC', 'RD_RDF', 'RD_SYM', 'N_NN', 'RD_PUNC', 'RD_SYM', 'RD_SYM', 'N_NN', 'RD_PUNC', 'RD_RDF', 'RD_SYM', 'N_NN', 'RD_PUNC', 'N_NN', 'RD_SYM', 'JJ', 'N_NN', 'RD_PUNC', 'N_NNP', 'RD_SYM', 'N_NN', 'N_NN', 'PSP', 'V_VAUX_VNP', 'QT_QTC', 'N_NN', 'JJ', 'N_NN', 'V_VM', 'N_NN', 'N_NN', 'PSP', 'N_NN', 'RP_RPD', 'N_NN', 'JJ', 'JJ', 'JJ', 'N_NN', 'JJ', 'V_VAUX', 'V_VAUX', 'RD_PUNC', 'V_VM', 'CC_CCS', 'N_NN', 'JJ', 'N_NN', 'V_VM', 'JJ', 'N_NN', 'JJ', 'N_NN', 'N_NNP', 'N_NNP', 'N_NN', 'N_NN', 'QT_QTC', 'JJ', 'QT_QTF', 'JJ', 'N_NN', 'PSP', 'N_NN', 'PSP', 'JJ', 'V_VAUX', 'RD_PUNC', 'PSP', 'N_NN', 'N_NN', 'RP_RPD', 'RP_RPD', 'JJ', 'RD_SYM', 'N_NN', 'V_VM', 'N_NN', 'N_NN', 'RD_PUNC', 'PSP', 'PR_PRP', 'PSP', 'PSP', 'N_NN', 'N_NN', 'N_NN', 'N_NN', 'N_NN', 'V_VAUX_VNP', 'V_VAUX', 'V_VAUX', 'RD_PUNC', 'N_NN', 'N_NN', 'JJ', 'N_NN', 'V_VAUX', 'RD_PUNC', 'PSP', 'N_NN', 'QT_QTC', 'JJ', 'JJ', 'N_NN', 'N_NN', 'N_NN', 'PSP', 'N_NN', 'N_NN', 'V_VM', 'V_VAUX', 'RD_PUNC', 'N_NNP', 'DM_DMD', 'N_NN', 'QT_QTC', 'PSP', 'PSP', 'JJ', 'JJ', 'N_NN', 'JJ', 'N_NNP', 'N_NNP', 'V_VM', 'V_VAUX', 'RD_PUNC', 'N_NNP', 'JJ', 'PR_PRF', 'JJ', 'PSP', 'N_NN', 'V_VM', 'RP_NEG', 'RD_PUNC', 'PSP', 'JJ', 'JJ', 'JJ', 'N_NST', 'V_VM', 'V_VAUX', 'RD_PUNC', 'PSP', 'N_NNP', 'JJ', 'N_NN', 'PSP', 'V_VAUX_VNP', 'N_NNP', 'JJ', 'V_VM', 'RD_PUNC', 'N_NNP', 'PR_PRF', 'N_NN', 'QT_QTC', 'JJ', 'PSP', 'V_VM', 'V_VAUX', 'RD_PUNC', 'JJ', 'N_NN', 'PSP', 'N_NN', 'QT_QTC', 'JJ', 'N_NN', 'V_VM', 'V_VAUX', 'DM_DMD', 'PSP', 'JJ', 'V_VAUX', 'V_VAUX', 'RD_PUNC', 'DM_DMD', 'N_NN', 'QT_QTF', 'JJ', 'CC_CCD', 'RB', 'V_VAUX', 'RD_PUNC', 'DM_DMD', 'RP_RPD', 'N_NN', 'JJ', 'JJ', 'N_NN', 'PSP', 'N_NN', 'JJ', 'N_NN', 'N_NN', 'JJ', 'RD_PUNC', 'JJ', 'RP_RPD', 'N_NN', 'N_NN', 'RP_RPD', 'PR_PRP', 'N_NN', 'PSP', 'JJ', 'CC_CCD', 'N_NN', 'V_VAUX_VNP', 'RD_PUNC', 'N_NN', 'N_NN', 'PSP', 'RP_RPD', 'N_NN', 'JJ', 'V_VAUX', 'RD_PUNC', 'N_NN', 'N_NN', 'PSP', 'DM_DMI', 'PSP', 'N_NN', 'RP_NEG', 'RD_PUNC', 'N_NN', 'RP_RPD', 'N_NNP', 'N_NN', 'PSP', 'N_NN', 'N_NN', 'RD_PUNC', 'N_NN', 'N_NN', 'N_NN', 'V_VAUX', 'RD_PUNC', 'N_NN', 'JJ', 'CC_CCS', 'N_NST', 'N_NNP', 'N_NN', 'V_VM', 'V_VAUX', 'V_VAUX', 'RD_PUNC', 'CC_CCD', 'PSP', 'PSP', 'RP_RPD', 'N_NNP', 'N_NN', 'PSP', 'N_NN', 'N_NN', 'V_VM', 'V_VM', 'RD_PUNC', 'PR_PRP', 'JJ', 'N_NN', 'PSP', 'N_NN', 'QT_QTC', 'N_NN', 'V_VM', 'RD_PUNC', 'N_NNP', 'JJ', 'N_NN', 'V_VM', 'RD_PUNC', 'DM_DMD', 'PSP', 'QT_QTC', 'DM_DMD', 'N_NNP', 'JJ', 'JJ', 'N_NN', 'RP_RPD', 'JJ', 'V_VM', 'V_VAUX', 'RD_PUNC', 'DM_DMD', 'RP_RPD', 'N_NNP', 'JJ', 'RP_NEG', 'RD_PUNC', 'JJ', 'DM_DMI', 'JJ', 'V_VM', 'V_VAUX', 'RD_PUNC'], 'sports': ['PR_PRL', 'PSP', 'N_NNP', 'N_NN', 'PSP', 'QT_QTC', 'N_NN', 'N_NN', 'V_VAUX_VNP', 'QT_QTC', 'N_NN', 'PSP', 'RP_RPD', 'QT_QTC', 'N_NNP', 'QT_QTC', 'N_NN', 'N_NN', 'V_VM', 'V_VAUX', 'V_VAUX', 'RD_PUNC', 'JJ', 'N_NNP', 'N_NNP', 'N_NNP', 'N_NNP', 'N_NNP', 'N_NN', 'N_NN', 'N_NN', 'V_VM', 'V_VAUX', 'RD_PUNC', 'N_NNP', 'QT_QTC', 'N_NN', 'QT_QTO', 'N_NN', 'QT_QTC', 'QT_QTF', 'N_NN', 'JJ', 'V_VAUX', 'RD_PUNC', 'N_NNP', 'JJ', 'N_NN', 'N_NNP', 'N_NNP', 'N_NN', 'N_NNP', 'N_NN', 'QT_QTO', 'N_NN', 'PSP', 'JJ', 'QT_QTC', 'CC_CCD', 'N_NNP', 'N_NNP', 'N_NNP', 'N_NNP', 'N_NN', 'QT_QTO', 'N_NN', 'PSP', 'JJ', 'QT_QTC', 'N_NN', 'N_NN', 'N_NNP', 'N_NNP', 'PSP', 'QT_QTO', 'N_NN', 'JJ', 'N_NN', 'JJ', 'N_NN', 'V_VM', 'V_VAUX', 'RD_PUNC', 'N_NNP', 'N_NN', 'N_NN', 'PSP', 'N_NNP', 'QT_QTO', 'N_NN', 'QT_QTC', 'N_NN', 'RP_RPD', 'QT_QTC', 'N_NN', 'V_VM', 'V_VAUX', 'RD_PUNC', 'PSP', 'N_NNP', 'RB', 'JJ', 'V_VAUX', 'V_VAUX', 'CC_CCD', 'DM_DMD', 'N_NNP', 'JJ', 'V_VM', 'V_VAUX', 'RD_PUNC', 'PR_PRL', 'N_NN', 'JJ', 'N_NN', 'JJ', 'N_NN', 'JJ', 'QT_QTF', 'V_VAUX', 'RD_PUNC', 'JJ', 'QT_QTC', 'N_NN', 'N_NN', 'RD_PUNC', 'N_NN', 'N_NN', 'V_VM', 'V_VAUX', 'RD_PUNC', 'N_NNP', 'JJ', 'N_NN', 'N_NN', 'PSP', 'N_NN', 'JJ', 'V_VM', 'V_VAUX', 'CC_CCS', 'PR_PRP', 'JJ', 'N_NN', 'N_NN', 'N_NN', 'PSP', 'DM_DMD', 'N_NN', 'N_NN', 'N_NN', 'N_NN', 'JJ', 'RP_RPD', 'V_VM', 'RD_PUNC', 'JJ', 'JJ', 'N_NNP', 'RD_PUNC', 'N_NNP', 'RD_PUNC', 'V_VAUX', 'RD_PUNC', 'JJ', 'RD_PUNC', 'N_NN', 'RD_PUNC', 'N_NN', 'CC_CCD', 'JJ', 'DM_DMD', 'N_NN', 'N_NN', 'V_VM', 'V_VAUX', 'RD_PUNC', 'DM_DMD', 'N_NN', 'QT_QTF', 'RB', 'V_VM', 'DM_DMD', 'JJ', 'V_VAUX', 'RD_PUNC', 'N_NST', 'N_NN', 'N_NN', 'N_NN', 'N_NN', 'JJ', 'N_NN', 'V_VM', 'V_VAUX', 'RD_PUNC', 'DM_DMD', 'N_NN', 'N_NNP', 'CC_CCD', 'N_NN', 'QT_QTF', 'RP_RPD', 'N_NN', 'V_VM', 'V_VAUX', 'RD_PUNC', 'N_NN', 'PSP', 'QT_QTC', 'N_NN', 'V_VAUX_VNP', 'RD_PUNC', 'N_NNP', 'N_NNP', 'RD_PUNC', 'DM_DMD', 'N_NN', 'JJ', 'QT_QTO', 'N_NN', 'V_VM', 'RD_PUNC', 'N_NNP', 'PSP', 'QT_QTC', 'DM_DMD', 'N_NN', 'N_NNP', 'N_NNP', 'PSP', 'N_NN', 'JJ', 'V_VAUX_VNP', 'V_VAUX', 'RD_PUNC', 'JJ', 'N_NN', 'JJ', 'CC_CCD', 'JJ', 'QT_QTC', 'JJ', 'N_NN', 'PSP', 'V_VM', 'RD_PUNC', 'N_NN', 'N_NN', 'QT_QTC', 'JJ', 'N_NN', 'RD_PUNC', 'QT_QTC', 'N_NN', 'N_NN', 'RD_PUNC', 'QT_QTC', 'N_NN', 'N_NNP', 'N_NN', 'CC_CCD', 'QT_QTC', 'N_NN', 'JJ', 'N_NN', 'V_VM', 'V_VAUX', 'RD_PUNC', 'N_NN', 'N_NN', 'PSP', 'N_NN', 'N_NN', 'RD_PUNC', 'N_NN', 'JJ', 'V_VM', 'V_VAUX', 'RD_PUNC', 'N_NST', 'N_NN', 'N_NN', 'PSP', 'JJ', 'N_NN', 'PSP', 'N_NN', 'CC_CCS', 'N_NN', 'JJ', 'JJ', 'N_NNP', 'CC_CCD', 'PR_PRL', 'N_NN', 'N_NST', 'N_NN', 'V_VAUX', 'DM_DMD', 'N_NN', 'PSP', 'N_NN', 'N_NN', 'PSP', 'N_NN', 'V_VAUX', 'RD_PUNC', 'PSP', 'N_NN', 'V_VM', 'V_VAUX_VNP', 'RP_NEG', 'RD_PUNC', 'N_NN', 'QT_QTC', 'N_NN', 'N_NNP', 'N_NNP', 'N_NN', 'N_NNP', 'N_NNP', 'N_NNP', 'N_NN', 'V_VAUX_VNP', 'V_VAUX', 'RD_PUNC', 'DM_DMD', 'N_NN', 'N_NN', 'N_NN', 'QT_QTC', 'V_VAUX_VNP', 'V_VAUX', 'RD_PUNC', 'N_NN', 'QT_QTC', 'RD_PUNC', 'QT_QTC', 'N_NNP', 'N_NN', 'N_NNP', 'N_NNP', 'JJ', 'CC_CCD', 'JJ', 'N_NN', 'N_NST', 'N_NNP', 'N_NN', 'N_NN', 'JJ', 'V_VM', 'RD_PUNC', 'N_NN', 'QT_QTC', 'N_NN', 'N_NN', 'N_NN', 'N_NNP', 'N_NN', 'N_NNP', 'JJ', 'QT_QTO', 'N_NN', 'V_VAUX_VNP', 'N_NN', 'V_VM', 'RD_PUNC', 'N_NN', 'N_NN', 'N_NN', 'N_NN', 'V_VM', 'DM_DMD', 'PSP', 'N_NN', 'N_NN', 'N_NN', 'N_NNP', 'RD_PUNC', 'PR_PRL', 'QT_QTC', 'JJ', 'N_NN', 'N_NN', 'V_VAUX', 'RD_PUNC', 'PR_PRP', 'QT_QTC', 'JJ', 'N_NN', 'JJ', 'JJ', 'N_NN', 'PSP', 'QT_QTC', 'N_NST', 'PSP', 'N_NN', 'JJ', 'V_VM', 'RD_PUNC', 'N_NN', 'N_NN', 'N_NN', 'N_NN', 'JJ', 'RP_RPD', 'V_VAUX', 'RD_PUNC', 'N_NN', 'V_VAUX', 'RD_PUNC', 'N_NN', 'CC_CCS', 'N_NN', 'JJ', 'DM_DMD', 'N_NN', 'N_NN', 'N_NN', 'N_NN', 'V_VAUX', 'RD_PUNC', 'PR_PRL', 'N_NN', 'JJ', 'N_NN', 'N_NN', 'V_VM', 'RP_NEG', 'CC_CCD', 'PSP', 'N_NN', 'DM_DMD', 'N_NN', 'N_NN', 'V_VM', 'V_VAUX', 'RP_NEG', 'RD_PUNC', 'N_NST', 'N_NN', 'N_NN', 'N_NN', 'PSP', 'JJ', 'V_VM', 'V_VAUX', 'N_NST', 'PSP', 'N_NN', 'N_NN', 'V_VAUX_VNP', 'PSP', 'V_VAUX_VNP', 'JJ', 'JJ', 'JJ', 'V_VAUX', 'DM_DMD', 'N_NN', 'DM_DMD', 'PSP', 'N_NN', 'N_NN', 'N_NN', 'V_VAUX_VNP', 'V_VAUX', 'DM_DMD', 'PSP', 'PSP', 'V_VM', 'V_VAUX', 'RD_PUNC', 'DM_DMD', 'N_NN', 'N_NN', 'RB', 'N_NN', 'V_VM', 'PSP', 'N_NN', 'N_NN', 'N_NN', 'N_NN', 'V_VM', 'V_VAUX', 'RD_PUNC', 'DM_DMD', 'N_NN', 'N_NN', 'N_NN', 'QT_QTC', 'N_NN', 'N_NN', 'PSP', 'V_VM', 'V_VAUX', 'N_NST', 'N_NN', 'N_NN', 'V_VAUX', 'RD_PUNC', 'QT_QTC', 'N_NN', 'N_NN', 'PSP', 'CC_CCD', 'N_NN', 'N_NN', 'N_NN', 'N_NN', 'PSP', 'N_NN', 'PSP', 'N_NN', 'PSP', 'N_NN', 'N_NN', 'N_NN', 'PSP', 'N_NN', 'JJ', 'PR_PRF', 'N_NN', 'V_VAUX_VNP', 'JJ', 'V_VM', 'V_VAUX', 'RD_PUNC', 'PR_PRL', 'N_NN', 'N_NN', 'PSP', 'N_NST', 'V_VAUX', 'DM_DMD', 'RB', 'DM_DMD', 'RP_RPD', 'N_NN', 'N_NN', 'V_VM', 'V_VAUX', 'RP_NEG', 'RD_PUNC', 'N_NN', 'JJ', 'RP_NEG', 'V_VAUX', 'RD_PUNC', 'CC_CCD', 'JJ', 'N_NN', 'QT_QTC', 'N_NN', 'N_NN', 'N_NN', 'N_NN', 'V_VAUX', 'RD_PUNC', 'N_NN', 'N_NNP', 'N_NNP', 'PR_PRP', 'N_NN', 'V_VM', 'V_VAUX', 'RD_PUNC', 'PR_PRP', 'N_NN', 'V_VM', 'V_VAUX', 'CC_CCS', 'RD_PUNC', 'N_NN', 'N_NN', 'V_VAUX_VNP', 'RP_NEG', 'V_VAUX_VNP', 'DM_DMD', 'PR_PRP', 'PR_PRP', 'PSP', 'N_NN', 'N_NN', 'V_VM', 'RD_PUNC', 'N_NN', 'DM_DMD', 'JJ', 'N_NN', 'V_VM', 'V_VAUX', 'RD_PUNC', 'N_NNP', 'N_NNP', 'N_NNP', 'RD_PUNC', 'PSP', 'N_NN', 'DM_DMD', 'N_NN', 'N_NNP', 'PSP', 'N_NN', 'N_NN', 'JJ', 'N_NN', 'V_VAUX', 'RD_PUNC', 'CC_CCD', 'N_NN', 'JJ', 'JJ', 'N_NN', 'N_NN', 'DM_DMD', 'N_NST', 'RP_RPD', 'JJ', 'N_NN', 'N_NN', 'N_NN', 'JJ', 'N_NN', 'N_NN', 'JJ', 'N_NNP', 'RD_PUNC', 'N_NN', 'V_VM', 'V_VAUX', 'RD_PUNC', 'N_NN', 'PR_PRF', 'N_NN', 'N_NN', 'PSP', 'N_NN', 'N_NN', 'PSP', 'V_VAUX_VNP', 'N_NNP', 'N_NNP', 'PSP', 'QT_QTC', 'N_NN', 'RD_PUNC', 'N_NST', 'N_NNP', 'RD_PUNC', 'JJ', 'N_NNP', 'PSP', 'PSP', 'N_NNP', 'QT_QTO', 'RP_RPD', 'N_NN', 'N_NNP', 'N_NNP', 'N_NN', 'N_NN', 'N_NN', 'V_VM', 'V_VAUX', 'RD_PUNC', 'N_NNP', 'RP_RPD', 'JJ', 'N_NN', 'N_NN', 'N_NST', 'JJ', 'N_NN', 'N_NNP', 'N_NN', 'N_NN', 'N_NN', 'PSP', 'QT_QTC', 'N_NN', 'N_NNP', 'N_NNP', 'RD_PUNC', 'JJ', 'QT_QTO', 'N_NN', 'RD_PUNC', 'JJ', 'N_NN', 'V_VM', 'RD_PUNC', 'PR_PRL', 'PR_PRP', 'PSP', 'N_NN', 'QT_QTF', 'JJ', 'V_VAUX', 'RD_PUNC', 'N_NN', 'N_NN', 'N_NN', 'JJ', 'N_NN', 'N_NN', 'JJ', 'V_VM', 'V_VAUX', 'RD_PUNC', 'CC_CCD', 'N_NN', 'N_NNP', 'N_NN', 'N_NN', 'N_NN', 'N_NNP', 'N_NN', 'JJ', 'N_NN', 'V_VAUX', 'RD_PUNC', 'CC_CCD', 'DM_DMD', 'N_NN', 'N_NN', 'N_NN', 'PSP', 'V_VM', 'N_NNP', 'N_NN', 'CC_CCD', 'N_NN', 'N_NNP', 'N_NN', 'N_NN', 'N_NN', 'N_NNP', 'V_VM', 'V_VAUX', 'RD_PUNC', 'DM_DMD', 'PSP', 'QT_QTO', 'PSP', 'V_VAUX_VNP', 'JJ', 'N_NN', 'N_NNP', 'QT_QTC', 'N_NN', 'CC_CCD', 'QT_QTC', 'N_NN', 'N_NN', 'JJ', 'N_NN', 'JJ', 'JJ', 'JJ', 'N_NN', 'V_VM', 'RD_PUNC', 'PR_PRP', 'JJ', 'QT_QTC', 'N_NN', 'N_NN', 'DM_DMD', 'V_VAUX_VNP', 'N_NN', 'V_VM', 'RD_PUNC', 'N_NNP', 'N_NN', 'RD_PUNC', 'N_NN', 'RD_PUNC', 'N_NN', 'CC_CCD', 'N_NN', 'PSP', 'N_NNP', 'N_NST', 'N_NN', 'CC_CCD', 'N_NN', 'PSP', 'N_NN', 'V_VM', 'CC_CCD', 'QT_QTC', 'N_NN', 'QT_QTC', 'N_NN', 'JJ', 'JJ', 'QT_QTO', 'QT_QTC', 'N_NN', 'CC_CCD', 'N_NN', 'V_VM', 'V_VAUX', 'RD_PUNC', 'QT_QTC', 'N_NNP', 'PSP', 'V_VAUX_VNP', 'JJ', 'N_NN', 'JJ', 'N_NN', 'JJ', 'JJ', 'N_NN', 'JJ', 'N_NNP', 'QT_QTC', 'N_NN', 'CC_CCD', 'QT_QTC', 'N_NN', 'V_VM', 'V_VAUX', 'RD_PUNC', 'PSP', 'PSP', 'N_NN', 'JJ', 'N_NN', 'DM_DMI', 'PSP', 'RP_RPD', 'V_VAUX', 'RD_PUNC', 'DM_DMI', 'RP_RPD', 'JJ', 'N_NN', 'N_NN', 'N_NNP', 'N_NN', 'N_NNP', 'RP_NEG', 'V_VM', 'N_NN', 'N_NN', 'DM_DMD', 'N_NN', 'N_NN', 'V_VAUX', 'V_VAUX', 'RD_PUNC']}\n"
          ],
          "name": "stdout"
        }
      ]
    },
    {
      "cell_type": "code",
      "metadata": {
        "id": "tl-hWcMOoF9i",
        "colab": {
          "base_uri": "https://localhost:8080/"
        },
        "outputId": "09b5fac0-13c9-4f04-afea-a509b64a1c3a"
      },
      "source": [
        "k = dict_true.keys()\n",
        "from sklearn.metrics import precision_score\n",
        "from sklearn.metrics import accuracy_score\n",
        "from sklearn.metrics import f1_score\n",
        "from sklearn.metrics import recall_score\n",
        "\n",
        "for i in k:\n",
        "  print(i)\n",
        "  y_true = dict_true[i]\n",
        "  y_pred = dict_pred[i]\n",
        "  Acc_plot.append(accuracy_score(y_true, y_pred))\n",
        "  recall.append(recall_score(y_true,y_pred,average='macro'))\n",
        "  precision_plot.append(precision_score(y_true,y_pred,average='macro'))\n",
        "  f1score_plot.append(f1_score(y_true, y_pred,average='macro'))\n",
        "\n",
        "print(Acc_plot)\n",
        "print(recall)\n",
        "print(precision_plot)\n",
        "print(f1score_plot)"
      ],
      "execution_count": null,
      "outputs": [
        {
          "output_type": "stream",
          "text": [
            "art culture\n",
            "economy\n",
            "entern\n",
            "philosophy\n",
            "religion\n",
            "science\n",
            "sports\n",
            "[0.7807424593967517, 0.8397058823529412, 0.749185667752443, 0.8074534161490683, 0.7705479452054794, 0.7645569620253164, 0.8100233100233101]\n",
            "[0.7358093060047792, 0.8216666931175423, 0.7505753149541969, 0.7615387669821265, 0.761001417657541, 0.809638926109236, 0.7759755494568786]\n",
            "[0.745678299680943, 0.8208682877274526, 0.7885300483483774, 0.8208944578614145, 0.7324890174754726, 0.8485803252114567, 0.819534160404276]\n",
            "[0.726177454485689, 0.8083855643058878, 0.7579471931991136, 0.775812489667704, 0.7401573032113288, 0.7983211956259386, 0.7867963029442246]\n"
          ],
          "name": "stdout"
        },
        {
          "output_type": "stream",
          "text": [
            "/usr/local/lib/python3.7/dist-packages/sklearn/metrics/_classification.py:1272: UndefinedMetricWarning: Precision is ill-defined and being set to 0.0 in labels with no predicted samples. Use `zero_division` parameter to control this behavior.\n",
            "  _warn_prf(average, modifier, msg_start, len(result))\n"
          ],
          "name": "stderr"
        }
      ]
    },
    {
      "cell_type": "code",
      "metadata": {
        "id": "hxbM90GDLmG3"
      },
      "source": [
        ""
      ],
      "execution_count": null,
      "outputs": []
    }
  ]
}